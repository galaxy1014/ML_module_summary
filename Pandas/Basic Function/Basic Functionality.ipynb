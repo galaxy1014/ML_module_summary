{
 "cells": [
  {
   "cell_type": "code",
   "execution_count": 1,
   "metadata": {},
   "outputs": [],
   "source": [
    "import pandas as pd\n",
    "import numpy as np"
   ]
  },
  {
   "cell_type": "code",
   "execution_count": 2,
   "metadata": {},
   "outputs": [
    {
     "data": {
      "text/plain": [
       "DatetimeIndex(['2020-01-31', '2020-02-29', '2020-03-31', '2020-04-30',\n",
       "               '2020-05-31', '2020-06-30', '2020-07-31', '2020-08-31'],\n",
       "              dtype='datetime64[ns]', freq='M')"
      ]
     },
     "execution_count": 2,
     "metadata": {},
     "output_type": "execute_result"
    }
   ],
   "source": [
    "# 인덱스 생성(시계열)\n",
    "t_idx = pd.date_range('2020-01-01', periods=8, freq='M')\n",
    "t_idx"
   ]
  },
  {
   "cell_type": "code",
   "execution_count": 3,
   "metadata": {},
   "outputs": [
    {
     "data": {
      "text/plain": [
       "2020-01-31    1.502565\n",
       "2020-02-29   -0.552998\n",
       "2020-03-31   -1.148050\n",
       "2020-04-30   -0.570566\n",
       "2020-05-31    0.399902\n",
       "2020-06-30    0.070514\n",
       "2020-07-31   -1.287206\n",
       "2020-08-31    1.489323\n",
       "Freq: M, dtype: float64"
      ]
     },
     "execution_count": 3,
     "metadata": {},
     "output_type": "execute_result"
    }
   ],
   "source": [
    "# 시리즈 생성\n",
    "s = pd.Series(np.random.randn(8),index = t_idx)\n",
    "s"
   ]
  },
  {
   "cell_type": "code",
   "execution_count": 4,
   "metadata": {},
   "outputs": [
    {
     "data": {
      "text/html": [
       "<div>\n",
       "<style scoped>\n",
       "    .dataframe tbody tr th:only-of-type {\n",
       "        vertical-align: middle;\n",
       "    }\n",
       "\n",
       "    .dataframe tbody tr th {\n",
       "        vertical-align: top;\n",
       "    }\n",
       "\n",
       "    .dataframe thead th {\n",
       "        text-align: right;\n",
       "    }\n",
       "</style>\n",
       "<table border=\"1\" class=\"dataframe\">\n",
       "  <thead>\n",
       "    <tr style=\"text-align: right;\">\n",
       "      <th></th>\n",
       "      <th>One</th>\n",
       "      <th>Two</th>\n",
       "    </tr>\n",
       "  </thead>\n",
       "  <tbody>\n",
       "    <tr>\n",
       "      <th>2020-01-31</th>\n",
       "      <td>1</td>\n",
       "      <td>8</td>\n",
       "    </tr>\n",
       "    <tr>\n",
       "      <th>2020-02-29</th>\n",
       "      <td>2</td>\n",
       "      <td>7</td>\n",
       "    </tr>\n",
       "    <tr>\n",
       "      <th>2020-03-31</th>\n",
       "      <td>3</td>\n",
       "      <td>6</td>\n",
       "    </tr>\n",
       "    <tr>\n",
       "      <th>2020-04-30</th>\n",
       "      <td>4</td>\n",
       "      <td>5</td>\n",
       "    </tr>\n",
       "    <tr>\n",
       "      <th>2020-05-31</th>\n",
       "      <td>5</td>\n",
       "      <td>4</td>\n",
       "    </tr>\n",
       "    <tr>\n",
       "      <th>2020-06-30</th>\n",
       "      <td>6</td>\n",
       "      <td>3</td>\n",
       "    </tr>\n",
       "    <tr>\n",
       "      <th>2020-07-31</th>\n",
       "      <td>7</td>\n",
       "      <td>2</td>\n",
       "    </tr>\n",
       "    <tr>\n",
       "      <th>2020-08-31</th>\n",
       "      <td>8</td>\n",
       "      <td>1</td>\n",
       "    </tr>\n",
       "  </tbody>\n",
       "</table>\n",
       "</div>"
      ],
      "text/plain": [
       "            One  Two\n",
       "2020-01-31    1    8\n",
       "2020-02-29    2    7\n",
       "2020-03-31    3    6\n",
       "2020-04-30    4    5\n",
       "2020-05-31    5    4\n",
       "2020-06-30    6    3\n",
       "2020-07-31    7    2\n",
       "2020-08-31    8    1"
      ]
     },
     "execution_count": 4,
     "metadata": {},
     "output_type": "execute_result"
    }
   ],
   "source": [
    "# 데이터프레임 생성\n",
    "df = pd.DataFrame({'One' : [1,2,3,4,5,6,7,8], 'Two' : [8,7,6,5,4,3,2,1,]}, index=t_idx)\n",
    "df"
   ]
  },
  {
   "cell_type": "code",
   "execution_count": 5,
   "metadata": {},
   "outputs": [
    {
     "data": {
      "text/plain": [
       "2020-01-31    1.502565\n",
       "2020-02-29   -0.552998\n",
       "2020-03-31   -1.148050\n",
       "2020-04-30   -0.570566\n",
       "2020-05-31    0.399902\n",
       "Freq: M, dtype: float64"
      ]
     },
     "execution_count": 5,
     "metadata": {},
     "output_type": "execute_result"
    }
   ],
   "source": [
    "s.head()"
   ]
  },
  {
   "cell_type": "code",
   "execution_count": 6,
   "metadata": {},
   "outputs": [
    {
     "data": {
      "text/plain": [
       "2020-03-31   -1.148050\n",
       "2020-04-30   -0.570566\n",
       "2020-05-31    0.399902\n",
       "2020-06-30    0.070514\n",
       "2020-07-31   -1.287206\n",
       "2020-08-31    1.489323\n",
       "Freq: M, dtype: float64"
      ]
     },
     "execution_count": 6,
     "metadata": {},
     "output_type": "execute_result"
    }
   ],
   "source": [
    "s.tail(6)"
   ]
  },
  {
   "cell_type": "code",
   "execution_count": 7,
   "metadata": {},
   "outputs": [
    {
     "data": {
      "text/plain": [
       "(8,)"
      ]
     },
     "execution_count": 7,
     "metadata": {},
     "output_type": "execute_result"
    }
   ],
   "source": [
    "# 시리즈 shape\n",
    "s.shape"
   ]
  },
  {
   "cell_type": "code",
   "execution_count": 8,
   "metadata": {},
   "outputs": [
    {
     "data": {
      "text/plain": [
       "(8, 2)"
      ]
     },
     "execution_count": 8,
     "metadata": {},
     "output_type": "execute_result"
    }
   ],
   "source": [
    "# 데이터프레임 shape\n",
    "df.shape"
   ]
  },
  {
   "cell_type": "code",
   "execution_count": 9,
   "metadata": {},
   "outputs": [
    {
     "data": {
      "text/plain": [
       "(8,)"
      ]
     },
     "execution_count": 9,
     "metadata": {},
     "output_type": "execute_result"
    }
   ],
   "source": [
    "# 인덱스 shape\n",
    "t_idx.shape"
   ]
  },
  {
   "cell_type": "code",
   "execution_count": 10,
   "metadata": {},
   "outputs": [
    {
     "data": {
      "text/html": [
       "<div>\n",
       "<style scoped>\n",
       "    .dataframe tbody tr th:only-of-type {\n",
       "        vertical-align: middle;\n",
       "    }\n",
       "\n",
       "    .dataframe tbody tr th {\n",
       "        vertical-align: top;\n",
       "    }\n",
       "\n",
       "    .dataframe thead th {\n",
       "        text-align: right;\n",
       "    }\n",
       "</style>\n",
       "<table border=\"1\" class=\"dataframe\">\n",
       "  <thead>\n",
       "    <tr style=\"text-align: right;\">\n",
       "      <th></th>\n",
       "      <th>One</th>\n",
       "      <th>Two</th>\n",
       "    </tr>\n",
       "  </thead>\n",
       "  <tbody>\n",
       "    <tr>\n",
       "      <th>2020-01-31</th>\n",
       "      <td>1</td>\n",
       "      <td>8</td>\n",
       "    </tr>\n",
       "    <tr>\n",
       "      <th>2020-02-29</th>\n",
       "      <td>2</td>\n",
       "      <td>7</td>\n",
       "    </tr>\n",
       "    <tr>\n",
       "      <th>2020-03-31</th>\n",
       "      <td>3</td>\n",
       "      <td>6</td>\n",
       "    </tr>\n",
       "  </tbody>\n",
       "</table>\n",
       "</div>"
      ],
      "text/plain": [
       "            One  Two\n",
       "2020-01-31    1    8\n",
       "2020-02-29    2    7\n",
       "2020-03-31    3    6"
      ]
     },
     "execution_count": 10,
     "metadata": {},
     "output_type": "execute_result"
    }
   ],
   "source": [
    "# 0~3번째의 행을 출력\n",
    "df[:3]"
   ]
  },
  {
   "cell_type": "code",
   "execution_count": 11,
   "metadata": {},
   "outputs": [
    {
     "data": {
      "text/html": [
       "<div>\n",
       "<style scoped>\n",
       "    .dataframe tbody tr th:only-of-type {\n",
       "        vertical-align: middle;\n",
       "    }\n",
       "\n",
       "    .dataframe tbody tr th {\n",
       "        vertical-align: top;\n",
       "    }\n",
       "\n",
       "    .dataframe thead th {\n",
       "        text-align: right;\n",
       "    }\n",
       "</style>\n",
       "<table border=\"1\" class=\"dataframe\">\n",
       "  <thead>\n",
       "    <tr style=\"text-align: right;\">\n",
       "      <th></th>\n",
       "      <th>One</th>\n",
       "      <th>Two</th>\n",
       "    </tr>\n",
       "  </thead>\n",
       "  <tbody>\n",
       "    <tr>\n",
       "      <th>2020-03-31</th>\n",
       "      <td>3</td>\n",
       "      <td>6</td>\n",
       "    </tr>\n",
       "    <tr>\n",
       "      <th>2020-04-30</th>\n",
       "      <td>4</td>\n",
       "      <td>5</td>\n",
       "    </tr>\n",
       "    <tr>\n",
       "      <th>2020-05-31</th>\n",
       "      <td>5</td>\n",
       "      <td>4</td>\n",
       "    </tr>\n",
       "  </tbody>\n",
       "</table>\n",
       "</div>"
      ],
      "text/plain": [
       "            One  Two\n",
       "2020-03-31    3    6\n",
       "2020-04-30    4    5\n",
       "2020-05-31    5    4"
      ]
     },
     "execution_count": 11,
     "metadata": {},
     "output_type": "execute_result"
    }
   ],
   "source": [
    "# 2~5번째의 행을 출력\n",
    "df[2:5]"
   ]
  },
  {
   "cell_type": "code",
   "execution_count": 12,
   "metadata": {},
   "outputs": [
    {
     "data": {
      "text/plain": [
       "<PandasArray>\n",
       "[  1.502565480628114, -0.5529984533665251, -1.1480503284320807,\n",
       " -0.5705659330893523,  0.3999020297247287, 0.07051391793867433,\n",
       "  -1.287205811315556,   1.489322695831822]\n",
       "Length: 8, dtype: float64"
      ]
     },
     "execution_count": 12,
     "metadata": {},
     "output_type": "execute_result"
    }
   ],
   "source": [
    "# 시리즈 내부의 값\n",
    "s.array"
   ]
  },
  {
   "cell_type": "code",
   "execution_count": 13,
   "metadata": {},
   "outputs": [
    {
     "data": {
      "text/plain": [
       "<DatetimeArray>\n",
       "['2020-01-31 00:00:00', '2020-02-29 00:00:00', '2020-03-31 00:00:00',\n",
       " '2020-04-30 00:00:00', '2020-05-31 00:00:00', '2020-06-30 00:00:00',\n",
       " '2020-07-31 00:00:00', '2020-08-31 00:00:00']\n",
       "Length: 8, dtype: datetime64[ns]"
      ]
     },
     "execution_count": 13,
     "metadata": {},
     "output_type": "execute_result"
    }
   ],
   "source": [
    "# 시리즈 인덱스 값(시계열)\n",
    "s.index.array"
   ]
  },
  {
   "cell_type": "code",
   "execution_count": 14,
   "metadata": {},
   "outputs": [
    {
     "data": {
      "text/plain": [
       "array([ 1.50256548, -0.55299845, -1.14805033, -0.57056593,  0.39990203,\n",
       "        0.07051392, -1.28720581,  1.4893227 ])"
      ]
     },
     "execution_count": 14,
     "metadata": {},
     "output_type": "execute_result"
    }
   ],
   "source": [
    "# to_numpy 메소드 사용\n",
    "s.to_numpy()"
   ]
  },
  {
   "cell_type": "code",
   "execution_count": 15,
   "metadata": {},
   "outputs": [
    {
     "data": {
      "text/plain": [
       "array([ 1.50256548, -0.55299845, -1.14805033, -0.57056593,  0.39990203,\n",
       "        0.07051392, -1.28720581,  1.4893227 ])"
      ]
     },
     "execution_count": 15,
     "metadata": {},
     "output_type": "execute_result"
    }
   ],
   "source": [
    "# np.asarray 메소드 사용\n",
    "np.asarray(s)"
   ]
  },
  {
   "cell_type": "code",
   "execution_count": 16,
   "metadata": {},
   "outputs": [],
   "source": [
    "# 타임존을 설정한 시계열 시리즈 생성\n",
    "t_s = pd.Series(pd.date_range('2020', periods=2, tz='CET'))"
   ]
  },
  {
   "cell_type": "code",
   "execution_count": 17,
   "metadata": {},
   "outputs": [
    {
     "data": {
      "text/plain": [
       "0   2020-01-01 00:00:00+01:00\n",
       "1   2020-01-02 00:00:00+01:00\n",
       "dtype: datetime64[ns, CET]"
      ]
     },
     "execution_count": 17,
     "metadata": {},
     "output_type": "execute_result"
    }
   ],
   "source": [
    "t_s"
   ]
  },
  {
   "cell_type": "code",
   "execution_count": 18,
   "metadata": {},
   "outputs": [
    {
     "data": {
      "text/plain": [
       "array([Timestamp('2020-01-01 00:00:00+0100', tz='CET', freq='D'),\n",
       "       Timestamp('2020-01-02 00:00:00+0100', tz='CET', freq='D')],\n",
       "      dtype=object)"
      ]
     },
     "execution_count": 18,
     "metadata": {},
     "output_type": "execute_result"
    }
   ],
   "source": [
    "# 자료형 Object \n",
    "t_s.to_numpy(dtype=object)"
   ]
  },
  {
   "cell_type": "code",
   "execution_count": 19,
   "metadata": {
    "scrolled": true
   },
   "outputs": [
    {
     "data": {
      "text/plain": [
       "array(['2019-12-31T23:00:00.000000000', '2020-01-01T23:00:00.000000000'],\n",
       "      dtype='datetime64[ns]')"
      ]
     },
     "execution_count": 19,
     "metadata": {},
     "output_type": "execute_result"
    }
   ],
   "source": [
    "# 자료형 datetime64[ns]\n",
    "t_s.to_numpy(dtype='datetime64[ns]')"
   ]
  },
  {
   "cell_type": "code",
   "execution_count": 20,
   "metadata": {},
   "outputs": [
    {
     "data": {
      "text/plain": [
       "array([[1, 8],\n",
       "       [2, 7],\n",
       "       [3, 6],\n",
       "       [4, 5],\n",
       "       [5, 4],\n",
       "       [6, 3],\n",
       "       [7, 2],\n",
       "       [8, 1]])"
      ]
     },
     "execution_count": 20,
     "metadata": {},
     "output_type": "execute_result"
    }
   ],
   "source": [
    "df.to_numpy()"
   ]
  },
  {
   "cell_type": "code",
   "execution_count": 21,
   "metadata": {},
   "outputs": [],
   "source": [
    "# 정수, 소수, 문자형이 섞여있는 데이터프레임 생성\n",
    "df2 = pd.DataFrame({'A' : [1,2,np.nan,'a'],\n",
    "                   'B' : [3,4,5,6]})"
   ]
  },
  {
   "cell_type": "code",
   "execution_count": 22,
   "metadata": {},
   "outputs": [
    {
     "data": {
      "text/html": [
       "<div>\n",
       "<style scoped>\n",
       "    .dataframe tbody tr th:only-of-type {\n",
       "        vertical-align: middle;\n",
       "    }\n",
       "\n",
       "    .dataframe tbody tr th {\n",
       "        vertical-align: top;\n",
       "    }\n",
       "\n",
       "    .dataframe thead th {\n",
       "        text-align: right;\n",
       "    }\n",
       "</style>\n",
       "<table border=\"1\" class=\"dataframe\">\n",
       "  <thead>\n",
       "    <tr style=\"text-align: right;\">\n",
       "      <th></th>\n",
       "      <th>A</th>\n",
       "      <th>B</th>\n",
       "    </tr>\n",
       "  </thead>\n",
       "  <tbody>\n",
       "    <tr>\n",
       "      <th>0</th>\n",
       "      <td>1</td>\n",
       "      <td>3</td>\n",
       "    </tr>\n",
       "    <tr>\n",
       "      <th>1</th>\n",
       "      <td>2</td>\n",
       "      <td>4</td>\n",
       "    </tr>\n",
       "    <tr>\n",
       "      <th>2</th>\n",
       "      <td>NaN</td>\n",
       "      <td>5</td>\n",
       "    </tr>\n",
       "    <tr>\n",
       "      <th>3</th>\n",
       "      <td>a</td>\n",
       "      <td>6</td>\n",
       "    </tr>\n",
       "  </tbody>\n",
       "</table>\n",
       "</div>"
      ],
      "text/plain": [
       "     A  B\n",
       "0    1  3\n",
       "1    2  4\n",
       "2  NaN  5\n",
       "3    a  6"
      ]
     },
     "execution_count": 22,
     "metadata": {},
     "output_type": "execute_result"
    }
   ],
   "source": [
    "df2"
   ]
  },
  {
   "cell_type": "code",
   "execution_count": 23,
   "metadata": {},
   "outputs": [
    {
     "data": {
      "text/plain": [
       "array([[1, 3],\n",
       "       [2, 4],\n",
       "       [nan, 5],\n",
       "       ['a', 6]], dtype=object)"
      ]
     },
     "execution_count": 23,
     "metadata": {},
     "output_type": "execute_result"
    }
   ],
   "source": [
    "df2.to_numpy()"
   ]
  },
  {
   "cell_type": "code",
   "execution_count": 24,
   "metadata": {},
   "outputs": [],
   "source": [
    "# 정수와 누락값(소수)으로 구성되어 있는 데이터프레임 생성\n",
    "df3 = pd.DataFrame({'A' : [1,2,np.nan,3], \n",
    "                   'B' : [4,5,6,7]}) "
   ]
  },
  {
   "cell_type": "code",
   "execution_count": 25,
   "metadata": {},
   "outputs": [
    {
     "data": {
      "text/html": [
       "<div>\n",
       "<style scoped>\n",
       "    .dataframe tbody tr th:only-of-type {\n",
       "        vertical-align: middle;\n",
       "    }\n",
       "\n",
       "    .dataframe tbody tr th {\n",
       "        vertical-align: top;\n",
       "    }\n",
       "\n",
       "    .dataframe thead th {\n",
       "        text-align: right;\n",
       "    }\n",
       "</style>\n",
       "<table border=\"1\" class=\"dataframe\">\n",
       "  <thead>\n",
       "    <tr style=\"text-align: right;\">\n",
       "      <th></th>\n",
       "      <th>A</th>\n",
       "      <th>B</th>\n",
       "    </tr>\n",
       "  </thead>\n",
       "  <tbody>\n",
       "    <tr>\n",
       "      <th>0</th>\n",
       "      <td>1.0</td>\n",
       "      <td>4</td>\n",
       "    </tr>\n",
       "    <tr>\n",
       "      <th>1</th>\n",
       "      <td>2.0</td>\n",
       "      <td>5</td>\n",
       "    </tr>\n",
       "    <tr>\n",
       "      <th>2</th>\n",
       "      <td>NaN</td>\n",
       "      <td>6</td>\n",
       "    </tr>\n",
       "    <tr>\n",
       "      <th>3</th>\n",
       "      <td>3.0</td>\n",
       "      <td>7</td>\n",
       "    </tr>\n",
       "  </tbody>\n",
       "</table>\n",
       "</div>"
      ],
      "text/plain": [
       "     A  B\n",
       "0  1.0  4\n",
       "1  2.0  5\n",
       "2  NaN  6\n",
       "3  3.0  7"
      ]
     },
     "execution_count": 25,
     "metadata": {},
     "output_type": "execute_result"
    }
   ],
   "source": [
    "df3"
   ]
  },
  {
   "cell_type": "code",
   "execution_count": 26,
   "metadata": {},
   "outputs": [
    {
     "data": {
      "text/plain": [
       "array([[ 1.,  4.],\n",
       "       [ 2.,  5.],\n",
       "       [nan,  6.],\n",
       "       [ 3.,  7.]])"
      ]
     },
     "execution_count": 26,
     "metadata": {},
     "output_type": "execute_result"
    }
   ],
   "source": [
    "df3.to_numpy()"
   ]
  },
  {
   "cell_type": "code",
   "execution_count": 27,
   "metadata": {},
   "outputs": [],
   "source": [
    "df = pd.read_csv('premier_league.csv')"
   ]
  },
  {
   "cell_type": "code",
   "execution_count": 28,
   "metadata": {},
   "outputs": [
    {
     "data": {
      "text/html": [
       "<div>\n",
       "<style scoped>\n",
       "    .dataframe tbody tr th:only-of-type {\n",
       "        vertical-align: middle;\n",
       "    }\n",
       "\n",
       "    .dataframe tbody tr th {\n",
       "        vertical-align: top;\n",
       "    }\n",
       "\n",
       "    .dataframe thead th {\n",
       "        text-align: right;\n",
       "    }\n",
       "</style>\n",
       "<table border=\"1\" class=\"dataframe\">\n",
       "  <thead>\n",
       "    <tr style=\"text-align: right;\">\n",
       "      <th></th>\n",
       "      <th>home_team</th>\n",
       "      <th>away_team</th>\n",
       "      <th>home_goals</th>\n",
       "      <th>away_goals</th>\n",
       "      <th>result</th>\n",
       "      <th>season</th>\n",
       "    </tr>\n",
       "  </thead>\n",
       "  <tbody>\n",
       "    <tr>\n",
       "      <th>0</th>\n",
       "      <td>TottenhamHotspur</td>\n",
       "      <td>ManchesterCity</td>\n",
       "      <td>0</td>\n",
       "      <td>0</td>\n",
       "      <td>D</td>\n",
       "      <td>2010-2011</td>\n",
       "    </tr>\n",
       "    <tr>\n",
       "      <th>1</th>\n",
       "      <td>AstonVilla</td>\n",
       "      <td>WestHamUnited</td>\n",
       "      <td>3</td>\n",
       "      <td>0</td>\n",
       "      <td>H</td>\n",
       "      <td>2010-2011</td>\n",
       "    </tr>\n",
       "    <tr>\n",
       "      <th>2</th>\n",
       "      <td>BlackburnRovers</td>\n",
       "      <td>Everton</td>\n",
       "      <td>1</td>\n",
       "      <td>0</td>\n",
       "      <td>H</td>\n",
       "      <td>2010-2011</td>\n",
       "    </tr>\n",
       "    <tr>\n",
       "      <th>3</th>\n",
       "      <td>BoltonWanderers</td>\n",
       "      <td>Fulham</td>\n",
       "      <td>0</td>\n",
       "      <td>0</td>\n",
       "      <td>D</td>\n",
       "      <td>2010-2011</td>\n",
       "    </tr>\n",
       "    <tr>\n",
       "      <th>4</th>\n",
       "      <td>Sunderland</td>\n",
       "      <td>BirminghamCity</td>\n",
       "      <td>2</td>\n",
       "      <td>2</td>\n",
       "      <td>D</td>\n",
       "      <td>2010-2011</td>\n",
       "    </tr>\n",
       "    <tr>\n",
       "      <th>...</th>\n",
       "      <td>...</td>\n",
       "      <td>...</td>\n",
       "      <td>...</td>\n",
       "      <td>...</td>\n",
       "      <td>...</td>\n",
       "      <td>...</td>\n",
       "    </tr>\n",
       "    <tr>\n",
       "      <th>3663</th>\n",
       "      <td>Liverpool</td>\n",
       "      <td>Southampton</td>\n",
       "      <td>4</td>\n",
       "      <td>0</td>\n",
       "      <td>H</td>\n",
       "      <td>NaN</td>\n",
       "    </tr>\n",
       "    <tr>\n",
       "      <th>3664</th>\n",
       "      <td>NewcastleUnited</td>\n",
       "      <td>NorwichCity</td>\n",
       "      <td>0</td>\n",
       "      <td>0</td>\n",
       "      <td>D</td>\n",
       "      <td>NaN</td>\n",
       "    </tr>\n",
       "    <tr>\n",
       "      <th>3665</th>\n",
       "      <td>Watford</td>\n",
       "      <td>Everton</td>\n",
       "      <td>2</td>\n",
       "      <td>3</td>\n",
       "      <td>A</td>\n",
       "      <td>NaN</td>\n",
       "    </tr>\n",
       "    <tr>\n",
       "      <th>3666</th>\n",
       "      <td>WestHamUnited</td>\n",
       "      <td>BrightonandHoveAlbion</td>\n",
       "      <td>3</td>\n",
       "      <td>3</td>\n",
       "      <td>D</td>\n",
       "      <td>NaN</td>\n",
       "    </tr>\n",
       "    <tr>\n",
       "      <th>3667</th>\n",
       "      <td>ManchesterUnited</td>\n",
       "      <td>WolverhamptonWanderers</td>\n",
       "      <td>0</td>\n",
       "      <td>0</td>\n",
       "      <td>D</td>\n",
       "      <td>NaN</td>\n",
       "    </tr>\n",
       "  </tbody>\n",
       "</table>\n",
       "<p>3668 rows × 6 columns</p>\n",
       "</div>"
      ],
      "text/plain": [
       "             home_team               away_team  home_goals  away_goals result  \\\n",
       "0     TottenhamHotspur          ManchesterCity           0           0      D   \n",
       "1           AstonVilla           WestHamUnited           3           0      H   \n",
       "2      BlackburnRovers                 Everton           1           0      H   \n",
       "3      BoltonWanderers                  Fulham           0           0      D   \n",
       "4           Sunderland          BirminghamCity           2           2      D   \n",
       "...                ...                     ...         ...         ...    ...   \n",
       "3663         Liverpool             Southampton           4           0      H   \n",
       "3664   NewcastleUnited             NorwichCity           0           0      D   \n",
       "3665           Watford                 Everton           2           3      A   \n",
       "3666     WestHamUnited   BrightonandHoveAlbion           3           3      D   \n",
       "3667  ManchesterUnited  WolverhamptonWanderers           0           0      D   \n",
       "\n",
       "         season  \n",
       "0     2010-2011  \n",
       "1     2010-2011  \n",
       "2     2010-2011  \n",
       "3     2010-2011  \n",
       "4     2010-2011  \n",
       "...         ...  \n",
       "3663        NaN  \n",
       "3664        NaN  \n",
       "3665        NaN  \n",
       "3666        NaN  \n",
       "3667        NaN  \n",
       "\n",
       "[3668 rows x 6 columns]"
      ]
     },
     "execution_count": 28,
     "metadata": {},
     "output_type": "execute_result"
    }
   ],
   "source": [
    "df"
   ]
  },
  {
   "cell_type": "code",
   "execution_count": 29,
   "metadata": {},
   "outputs": [],
   "source": [
    "import bottleneck as bn\n",
    "import time "
   ]
  },
  {
   "cell_type": "code",
   "execution_count": 30,
   "metadata": {},
   "outputs": [
    {
     "name": "stdout",
     "output_type": "stream",
     "text": [
      "1.5517993456924755 0.0007181167602539062\n"
     ]
    }
   ],
   "source": [
    "start = time.time() # 시작시간 측정\n",
    "print(bn.nanmean(df['home_goals']), time.time() - start)"
   ]
  },
  {
   "cell_type": "code",
   "execution_count": 31,
   "metadata": {},
   "outputs": [
    {
     "name": "stdout",
     "output_type": "stream",
     "text": [
      "1.5517993456924755 0.0013988018035888672\n"
     ]
    }
   ],
   "source": [
    "start = time.time() # 시작시간 측정\n",
    "print(np.nanmean(df['home_goals']), time.time() - start)"
   ]
  },
  {
   "cell_type": "code",
   "execution_count": 32,
   "metadata": {},
   "outputs": [],
   "source": [
    "df = pd.DataFrame({'One' : pd.Series(np.random.randn(4), index=['a','b','c','d']),\n",
    "                    'Two' : pd.Series(np.random.randn(3), index=['a','c','d']),\n",
    "                   'Three' : pd.Series(np.random.randn(3), index=['b','c','d'])})"
   ]
  },
  {
   "cell_type": "code",
   "execution_count": 33,
   "metadata": {},
   "outputs": [
    {
     "data": {
      "text/html": [
       "<div>\n",
       "<style scoped>\n",
       "    .dataframe tbody tr th:only-of-type {\n",
       "        vertical-align: middle;\n",
       "    }\n",
       "\n",
       "    .dataframe tbody tr th {\n",
       "        vertical-align: top;\n",
       "    }\n",
       "\n",
       "    .dataframe thead th {\n",
       "        text-align: right;\n",
       "    }\n",
       "</style>\n",
       "<table border=\"1\" class=\"dataframe\">\n",
       "  <thead>\n",
       "    <tr style=\"text-align: right;\">\n",
       "      <th></th>\n",
       "      <th>One</th>\n",
       "      <th>Two</th>\n",
       "      <th>Three</th>\n",
       "    </tr>\n",
       "  </thead>\n",
       "  <tbody>\n",
       "    <tr>\n",
       "      <th>a</th>\n",
       "      <td>0.755848</td>\n",
       "      <td>-0.279212</td>\n",
       "      <td>NaN</td>\n",
       "    </tr>\n",
       "    <tr>\n",
       "      <th>b</th>\n",
       "      <td>0.726117</td>\n",
       "      <td>NaN</td>\n",
       "      <td>-0.248210</td>\n",
       "    </tr>\n",
       "    <tr>\n",
       "      <th>c</th>\n",
       "      <td>0.255104</td>\n",
       "      <td>0.507135</td>\n",
       "      <td>-1.658979</td>\n",
       "    </tr>\n",
       "    <tr>\n",
       "      <th>d</th>\n",
       "      <td>-0.335626</td>\n",
       "      <td>0.266767</td>\n",
       "      <td>-1.099658</td>\n",
       "    </tr>\n",
       "  </tbody>\n",
       "</table>\n",
       "</div>"
      ],
      "text/plain": [
       "        One       Two     Three\n",
       "a  0.755848 -0.279212       NaN\n",
       "b  0.726117       NaN -0.248210\n",
       "c  0.255104  0.507135 -1.658979\n",
       "d -0.335626  0.266767 -1.099658"
      ]
     },
     "execution_count": 33,
     "metadata": {},
     "output_type": "execute_result"
    }
   ],
   "source": [
    "df"
   ]
  },
  {
   "cell_type": "code",
   "execution_count": 34,
   "metadata": {},
   "outputs": [],
   "source": [
    "# 연산을 할 시리즈 생성(데이터프레임에서 한 행을 추출)\n",
    "row = df.iloc[1]"
   ]
  },
  {
   "cell_type": "code",
   "execution_count": 35,
   "metadata": {},
   "outputs": [
    {
     "data": {
      "text/plain": [
       "One      0.726117\n",
       "Two           NaN\n",
       "Three   -0.248210\n",
       "Name: b, dtype: float64"
      ]
     },
     "execution_count": 35,
     "metadata": {},
     "output_type": "execute_result"
    }
   ],
   "source": [
    "row"
   ]
  },
  {
   "cell_type": "code",
   "execution_count": 36,
   "metadata": {},
   "outputs": [
    {
     "data": {
      "text/html": [
       "<div>\n",
       "<style scoped>\n",
       "    .dataframe tbody tr th:only-of-type {\n",
       "        vertical-align: middle;\n",
       "    }\n",
       "\n",
       "    .dataframe tbody tr th {\n",
       "        vertical-align: top;\n",
       "    }\n",
       "\n",
       "    .dataframe thead th {\n",
       "        text-align: right;\n",
       "    }\n",
       "</style>\n",
       "<table border=\"1\" class=\"dataframe\">\n",
       "  <thead>\n",
       "    <tr style=\"text-align: right;\">\n",
       "      <th></th>\n",
       "      <th>One</th>\n",
       "      <th>Two</th>\n",
       "      <th>Three</th>\n",
       "    </tr>\n",
       "  </thead>\n",
       "  <tbody>\n",
       "    <tr>\n",
       "      <th>a</th>\n",
       "      <td>0.029732</td>\n",
       "      <td>NaN</td>\n",
       "      <td>NaN</td>\n",
       "    </tr>\n",
       "    <tr>\n",
       "      <th>b</th>\n",
       "      <td>0.000000</td>\n",
       "      <td>NaN</td>\n",
       "      <td>0.000000</td>\n",
       "    </tr>\n",
       "    <tr>\n",
       "      <th>c</th>\n",
       "      <td>-0.471013</td>\n",
       "      <td>NaN</td>\n",
       "      <td>-1.410769</td>\n",
       "    </tr>\n",
       "    <tr>\n",
       "      <th>d</th>\n",
       "      <td>-1.061743</td>\n",
       "      <td>NaN</td>\n",
       "      <td>-0.851448</td>\n",
       "    </tr>\n",
       "  </tbody>\n",
       "</table>\n",
       "</div>"
      ],
      "text/plain": [
       "        One  Two     Three\n",
       "a  0.029732  NaN       NaN\n",
       "b  0.000000  NaN  0.000000\n",
       "c -0.471013  NaN -1.410769\n",
       "d -1.061743  NaN -0.851448"
      ]
     },
     "execution_count": 36,
     "metadata": {},
     "output_type": "execute_result"
    }
   ],
   "source": [
    "df.sub(row, axis='columns')"
   ]
  },
  {
   "cell_type": "code",
   "execution_count": 37,
   "metadata": {},
   "outputs": [
    {
     "data": {
      "text/html": [
       "<div>\n",
       "<style scoped>\n",
       "    .dataframe tbody tr th:only-of-type {\n",
       "        vertical-align: middle;\n",
       "    }\n",
       "\n",
       "    .dataframe tbody tr th {\n",
       "        vertical-align: top;\n",
       "    }\n",
       "\n",
       "    .dataframe thead th {\n",
       "        text-align: right;\n",
       "    }\n",
       "</style>\n",
       "<table border=\"1\" class=\"dataframe\">\n",
       "  <thead>\n",
       "    <tr style=\"text-align: right;\">\n",
       "      <th></th>\n",
       "      <th>One</th>\n",
       "      <th>Two</th>\n",
       "      <th>Three</th>\n",
       "    </tr>\n",
       "  </thead>\n",
       "  <tbody>\n",
       "    <tr>\n",
       "      <th>a</th>\n",
       "      <td>0.029732</td>\n",
       "      <td>NaN</td>\n",
       "      <td>NaN</td>\n",
       "    </tr>\n",
       "    <tr>\n",
       "      <th>b</th>\n",
       "      <td>0.000000</td>\n",
       "      <td>NaN</td>\n",
       "      <td>0.000000</td>\n",
       "    </tr>\n",
       "    <tr>\n",
       "      <th>c</th>\n",
       "      <td>-0.471013</td>\n",
       "      <td>NaN</td>\n",
       "      <td>-1.410769</td>\n",
       "    </tr>\n",
       "    <tr>\n",
       "      <th>d</th>\n",
       "      <td>-1.061743</td>\n",
       "      <td>NaN</td>\n",
       "      <td>-0.851448</td>\n",
       "    </tr>\n",
       "  </tbody>\n",
       "</table>\n",
       "</div>"
      ],
      "text/plain": [
       "        One  Two     Three\n",
       "a  0.029732  NaN       NaN\n",
       "b  0.000000  NaN  0.000000\n",
       "c -0.471013  NaN -1.410769\n",
       "d -1.061743  NaN -0.851448"
      ]
     },
     "execution_count": 37,
     "metadata": {},
     "output_type": "execute_result"
    }
   ],
   "source": [
    "df.sub(row, axis=1)"
   ]
  },
  {
   "cell_type": "code",
   "execution_count": 38,
   "metadata": {},
   "outputs": [],
   "source": [
    "# 연산을 할 시리즈 생성(데이터프레임에서 한 열을 추출)\n",
    "column = df['One']"
   ]
  },
  {
   "cell_type": "code",
   "execution_count": 39,
   "metadata": {},
   "outputs": [
    {
     "data": {
      "text/plain": [
       "a    0.755848\n",
       "b    0.726117\n",
       "c    0.255104\n",
       "d   -0.335626\n",
       "Name: One, dtype: float64"
      ]
     },
     "execution_count": 39,
     "metadata": {},
     "output_type": "execute_result"
    }
   ],
   "source": [
    "column"
   ]
  },
  {
   "cell_type": "code",
   "execution_count": 40,
   "metadata": {},
   "outputs": [
    {
     "data": {
      "text/html": [
       "<div>\n",
       "<style scoped>\n",
       "    .dataframe tbody tr th:only-of-type {\n",
       "        vertical-align: middle;\n",
       "    }\n",
       "\n",
       "    .dataframe tbody tr th {\n",
       "        vertical-align: top;\n",
       "    }\n",
       "\n",
       "    .dataframe thead th {\n",
       "        text-align: right;\n",
       "    }\n",
       "</style>\n",
       "<table border=\"1\" class=\"dataframe\">\n",
       "  <thead>\n",
       "    <tr style=\"text-align: right;\">\n",
       "      <th></th>\n",
       "      <th>One</th>\n",
       "      <th>Two</th>\n",
       "      <th>Three</th>\n",
       "    </tr>\n",
       "  </thead>\n",
       "  <tbody>\n",
       "    <tr>\n",
       "      <th>a</th>\n",
       "      <td>0.0</td>\n",
       "      <td>-1.035061</td>\n",
       "      <td>NaN</td>\n",
       "    </tr>\n",
       "    <tr>\n",
       "      <th>b</th>\n",
       "      <td>0.0</td>\n",
       "      <td>NaN</td>\n",
       "      <td>-0.974326</td>\n",
       "    </tr>\n",
       "    <tr>\n",
       "      <th>c</th>\n",
       "      <td>0.0</td>\n",
       "      <td>0.252030</td>\n",
       "      <td>-1.914083</td>\n",
       "    </tr>\n",
       "    <tr>\n",
       "      <th>d</th>\n",
       "      <td>0.0</td>\n",
       "      <td>0.602393</td>\n",
       "      <td>-0.764032</td>\n",
       "    </tr>\n",
       "  </tbody>\n",
       "</table>\n",
       "</div>"
      ],
      "text/plain": [
       "   One       Two     Three\n",
       "a  0.0 -1.035061       NaN\n",
       "b  0.0       NaN -0.974326\n",
       "c  0.0  0.252030 -1.914083\n",
       "d  0.0  0.602393 -0.764032"
      ]
     },
     "execution_count": 40,
     "metadata": {},
     "output_type": "execute_result"
    }
   ],
   "source": [
    "df.sub(column, axis=0)"
   ]
  },
  {
   "cell_type": "code",
   "execution_count": 41,
   "metadata": {},
   "outputs": [
    {
     "data": {
      "text/html": [
       "<div>\n",
       "<style scoped>\n",
       "    .dataframe tbody tr th:only-of-type {\n",
       "        vertical-align: middle;\n",
       "    }\n",
       "\n",
       "    .dataframe tbody tr th {\n",
       "        vertical-align: top;\n",
       "    }\n",
       "\n",
       "    .dataframe thead th {\n",
       "        text-align: right;\n",
       "    }\n",
       "</style>\n",
       "<table border=\"1\" class=\"dataframe\">\n",
       "  <thead>\n",
       "    <tr style=\"text-align: right;\">\n",
       "      <th></th>\n",
       "      <th>One</th>\n",
       "      <th>Two</th>\n",
       "      <th>Three</th>\n",
       "    </tr>\n",
       "  </thead>\n",
       "  <tbody>\n",
       "    <tr>\n",
       "      <th>a</th>\n",
       "      <td>0.0</td>\n",
       "      <td>-1.035061</td>\n",
       "      <td>NaN</td>\n",
       "    </tr>\n",
       "    <tr>\n",
       "      <th>b</th>\n",
       "      <td>0.0</td>\n",
       "      <td>NaN</td>\n",
       "      <td>-0.974326</td>\n",
       "    </tr>\n",
       "    <tr>\n",
       "      <th>c</th>\n",
       "      <td>0.0</td>\n",
       "      <td>0.252030</td>\n",
       "      <td>-1.914083</td>\n",
       "    </tr>\n",
       "    <tr>\n",
       "      <th>d</th>\n",
       "      <td>0.0</td>\n",
       "      <td>0.602393</td>\n",
       "      <td>-0.764032</td>\n",
       "    </tr>\n",
       "  </tbody>\n",
       "</table>\n",
       "</div>"
      ],
      "text/plain": [
       "   One       Two     Three\n",
       "a  0.0 -1.035061       NaN\n",
       "b  0.0       NaN -0.974326\n",
       "c  0.0  0.252030 -1.914083\n",
       "d  0.0  0.602393 -0.764032"
      ]
     },
     "execution_count": 41,
     "metadata": {},
     "output_type": "execute_result"
    }
   ],
   "source": [
    "df.sub(column, axis='index')"
   ]
  },
  {
   "cell_type": "code",
   "execution_count": 42,
   "metadata": {},
   "outputs": [],
   "source": [
    "# 데이터프레임 사본 생성\n",
    "m_df = df.copy()"
   ]
  },
  {
   "cell_type": "code",
   "execution_count": 43,
   "metadata": {},
   "outputs": [
    {
     "data": {
      "text/html": [
       "<div>\n",
       "<style scoped>\n",
       "    .dataframe tbody tr th:only-of-type {\n",
       "        vertical-align: middle;\n",
       "    }\n",
       "\n",
       "    .dataframe tbody tr th {\n",
       "        vertical-align: top;\n",
       "    }\n",
       "\n",
       "    .dataframe thead th {\n",
       "        text-align: right;\n",
       "    }\n",
       "</style>\n",
       "<table border=\"1\" class=\"dataframe\">\n",
       "  <thead>\n",
       "    <tr style=\"text-align: right;\">\n",
       "      <th></th>\n",
       "      <th></th>\n",
       "      <th>One</th>\n",
       "      <th>Two</th>\n",
       "      <th>Three</th>\n",
       "    </tr>\n",
       "    <tr>\n",
       "      <th>first</th>\n",
       "      <th>second</th>\n",
       "      <th></th>\n",
       "      <th></th>\n",
       "      <th></th>\n",
       "    </tr>\n",
       "  </thead>\n",
       "  <tbody>\n",
       "    <tr>\n",
       "      <th rowspan=\"3\" valign=\"top\">1</th>\n",
       "      <th>a</th>\n",
       "      <td>0.755848</td>\n",
       "      <td>-0.279212</td>\n",
       "      <td>NaN</td>\n",
       "    </tr>\n",
       "    <tr>\n",
       "      <th>b</th>\n",
       "      <td>0.726117</td>\n",
       "      <td>NaN</td>\n",
       "      <td>-0.248210</td>\n",
       "    </tr>\n",
       "    <tr>\n",
       "      <th>c</th>\n",
       "      <td>0.255104</td>\n",
       "      <td>0.507135</td>\n",
       "      <td>-1.658979</td>\n",
       "    </tr>\n",
       "    <tr>\n",
       "      <th>2</th>\n",
       "      <th>a</th>\n",
       "      <td>-0.335626</td>\n",
       "      <td>0.266767</td>\n",
       "      <td>-1.099658</td>\n",
       "    </tr>\n",
       "  </tbody>\n",
       "</table>\n",
       "</div>"
      ],
      "text/plain": [
       "                   One       Two     Three\n",
       "first second                              \n",
       "1     a       0.755848 -0.279212       NaN\n",
       "      b       0.726117       NaN -0.248210\n",
       "      c       0.255104  0.507135 -1.658979\n",
       "2     a      -0.335626  0.266767 -1.099658"
      ]
     },
     "execution_count": 43,
     "metadata": {},
     "output_type": "execute_result"
    }
   ],
   "source": [
    "# 멀티인덱스 생성  \n",
    "m_df.index = pd.MultiIndex.from_tuples([(1,'a'),(1,'b'),(1,'c'),(2,'a')], names=['first','second'])\n",
    "m_df"
   ]
  },
  {
   "cell_type": "code",
   "execution_count": 44,
   "metadata": {},
   "outputs": [
    {
     "name": "stdout",
     "output_type": "stream",
     "text": [
      "|          |       One |        Two |     Three |\n",
      "|:---------|----------:|-----------:|----------:|\n",
      "| (1, 'a') |  0.755848 |  -0.279212 | nan       |\n",
      "| (1, 'b') |  0.726117 | nan        |  -0.24821 |\n",
      "| (1, 'c') |  0.255104 |   0.507135 |  -1.65898 |\n",
      "| (2, 'a') | -0.335626 |   0.266767 |  -1.09966 |\n"
     ]
    }
   ],
   "source": [
    "print(m_df.to_markdown())"
   ]
  },
  {
   "cell_type": "code",
   "execution_count": 45,
   "metadata": {},
   "outputs": [],
   "source": [
    "m_dfs = m_df.sub(column, axis=0, level='second')"
   ]
  },
  {
   "cell_type": "code",
   "execution_count": 46,
   "metadata": {},
   "outputs": [
    {
     "name": "stdout",
     "output_type": "stream",
     "text": [
      "|          |      One |        Two |      Three |\n",
      "|:---------|---------:|-----------:|-----------:|\n",
      "| (1, 'a') |  0       |  -1.03506  | nan        |\n",
      "| (1, 'b') |  0       | nan        |  -0.974326 |\n",
      "| (1, 'c') |  0       |   0.25203  |  -1.91408  |\n",
      "| (2, 'a') | -1.09147 |  -0.489081 |  -1.85551  |\n"
     ]
    }
   ],
   "source": [
    "print(m_dfs.to_markdown())"
   ]
  },
  {
   "cell_type": "code",
   "execution_count": 47,
   "metadata": {},
   "outputs": [],
   "source": [
    "# 0~10까지의 정수를 원소로하는 시리즈 생성\n",
    "s = pd.Series(np.arange(10))"
   ]
  },
  {
   "cell_type": "code",
   "execution_count": 48,
   "metadata": {},
   "outputs": [
    {
     "data": {
      "text/plain": [
       "0    0\n",
       "1    1\n",
       "2    2\n",
       "3    3\n",
       "4    4\n",
       "5    5\n",
       "6    6\n",
       "7    7\n",
       "8    8\n",
       "9    9\n",
       "dtype: int64"
      ]
     },
     "execution_count": 48,
     "metadata": {},
     "output_type": "execute_result"
    }
   ],
   "source": [
    "s"
   ]
  },
  {
   "cell_type": "code",
   "execution_count": 49,
   "metadata": {},
   "outputs": [],
   "source": [
    "div, rem = divmod(s, 3)"
   ]
  },
  {
   "cell_type": "code",
   "execution_count": 50,
   "metadata": {},
   "outputs": [
    {
     "data": {
      "text/plain": [
       "0    0\n",
       "1    0\n",
       "2    0\n",
       "3    1\n",
       "4    1\n",
       "5    1\n",
       "6    2\n",
       "7    2\n",
       "8    2\n",
       "9    3\n",
       "dtype: int64"
      ]
     },
     "execution_count": 50,
     "metadata": {},
     "output_type": "execute_result"
    }
   ],
   "source": [
    "# s를 3으로 나눈 몫\n",
    "div"
   ]
  },
  {
   "cell_type": "code",
   "execution_count": 51,
   "metadata": {},
   "outputs": [
    {
     "data": {
      "text/plain": [
       "0    0\n",
       "1    1\n",
       "2    2\n",
       "3    0\n",
       "4    1\n",
       "5    2\n",
       "6    0\n",
       "7    1\n",
       "8    2\n",
       "9    0\n",
       "dtype: int64"
      ]
     },
     "execution_count": 51,
     "metadata": {},
     "output_type": "execute_result"
    }
   ],
   "source": [
    "# s를 3으로 나눈 나머지  \n",
    "rem"
   ]
  },
  {
   "cell_type": "code",
   "execution_count": 52,
   "metadata": {},
   "outputs": [],
   "source": [
    "div, rem = divmod(s, [2,2,2,3,3,3,4,4,4,5])"
   ]
  },
  {
   "cell_type": "code",
   "execution_count": 53,
   "metadata": {},
   "outputs": [
    {
     "data": {
      "text/plain": [
       "0    0\n",
       "1    0\n",
       "2    1\n",
       "3    1\n",
       "4    1\n",
       "5    1\n",
       "6    1\n",
       "7    1\n",
       "8    2\n",
       "9    1\n",
       "dtype: int64"
      ]
     },
     "execution_count": 53,
     "metadata": {},
     "output_type": "execute_result"
    }
   ],
   "source": [
    "div"
   ]
  },
  {
   "cell_type": "code",
   "execution_count": 54,
   "metadata": {},
   "outputs": [
    {
     "data": {
      "text/plain": [
       "0    0\n",
       "1    1\n",
       "2    0\n",
       "3    0\n",
       "4    1\n",
       "5    2\n",
       "6    2\n",
       "7    3\n",
       "8    0\n",
       "9    4\n",
       "dtype: int64"
      ]
     },
     "execution_count": 54,
     "metadata": {},
     "output_type": "execute_result"
    }
   ],
   "source": [
    "rem"
   ]
  },
  {
   "cell_type": "code",
   "execution_count": 55,
   "metadata": {},
   "outputs": [],
   "source": [
    "df = pd.DataFrame({'One' : {'a': 1.394981, 'b' : 0.343054, 'c' : 0.695246},\n",
    "                  'Two' : {'a' : 1.772517, 'b' : 1.912123, 'c' : 1.478369, 'd' : 0.279344},\n",
    "                  'Three' : {'b' : -0.050390, 'c' : 1.227435, 'd' : -0.613172}})"
   ]
  },
  {
   "cell_type": "code",
   "execution_count": 56,
   "metadata": {},
   "outputs": [
    {
     "data": {
      "text/html": [
       "<div>\n",
       "<style scoped>\n",
       "    .dataframe tbody tr th:only-of-type {\n",
       "        vertical-align: middle;\n",
       "    }\n",
       "\n",
       "    .dataframe tbody tr th {\n",
       "        vertical-align: top;\n",
       "    }\n",
       "\n",
       "    .dataframe thead th {\n",
       "        text-align: right;\n",
       "    }\n",
       "</style>\n",
       "<table border=\"1\" class=\"dataframe\">\n",
       "  <thead>\n",
       "    <tr style=\"text-align: right;\">\n",
       "      <th></th>\n",
       "      <th>One</th>\n",
       "      <th>Two</th>\n",
       "      <th>Three</th>\n",
       "    </tr>\n",
       "  </thead>\n",
       "  <tbody>\n",
       "    <tr>\n",
       "      <th>a</th>\n",
       "      <td>1.394981</td>\n",
       "      <td>1.772517</td>\n",
       "      <td>NaN</td>\n",
       "    </tr>\n",
       "    <tr>\n",
       "      <th>b</th>\n",
       "      <td>0.343054</td>\n",
       "      <td>1.912123</td>\n",
       "      <td>-0.050390</td>\n",
       "    </tr>\n",
       "    <tr>\n",
       "      <th>c</th>\n",
       "      <td>0.695246</td>\n",
       "      <td>1.478369</td>\n",
       "      <td>1.227435</td>\n",
       "    </tr>\n",
       "    <tr>\n",
       "      <th>d</th>\n",
       "      <td>NaN</td>\n",
       "      <td>0.279344</td>\n",
       "      <td>-0.613172</td>\n",
       "    </tr>\n",
       "  </tbody>\n",
       "</table>\n",
       "</div>"
      ],
      "text/plain": [
       "        One       Two     Three\n",
       "a  1.394981  1.772517       NaN\n",
       "b  0.343054  1.912123 -0.050390\n",
       "c  0.695246  1.478369  1.227435\n",
       "d       NaN  0.279344 -0.613172"
      ]
     },
     "execution_count": 56,
     "metadata": {},
     "output_type": "execute_result"
    }
   ],
   "source": [
    "df"
   ]
  },
  {
   "cell_type": "code",
   "execution_count": 57,
   "metadata": {},
   "outputs": [],
   "source": [
    "df2 = pd.DataFrame({'One' : {'a' : 1.394981, 'b' : 0.343054, 'c' : 0.695246},\n",
    "                   'Two' : {'a' : 1.772517, 'b' : 1.912123, 'c' : 1.478369, 'd' : 0.279344},\n",
    "                   'Three' : {'a' : 1.000000 , 'b' : -0.050390, 'c' : 1.227435, 'd' : -0.613172}})"
   ]
  },
  {
   "cell_type": "code",
   "execution_count": 58,
   "metadata": {},
   "outputs": [
    {
     "data": {
      "text/html": [
       "<div>\n",
       "<style scoped>\n",
       "    .dataframe tbody tr th:only-of-type {\n",
       "        vertical-align: middle;\n",
       "    }\n",
       "\n",
       "    .dataframe tbody tr th {\n",
       "        vertical-align: top;\n",
       "    }\n",
       "\n",
       "    .dataframe thead th {\n",
       "        text-align: right;\n",
       "    }\n",
       "</style>\n",
       "<table border=\"1\" class=\"dataframe\">\n",
       "  <thead>\n",
       "    <tr style=\"text-align: right;\">\n",
       "      <th></th>\n",
       "      <th>One</th>\n",
       "      <th>Two</th>\n",
       "      <th>Three</th>\n",
       "    </tr>\n",
       "  </thead>\n",
       "  <tbody>\n",
       "    <tr>\n",
       "      <th>a</th>\n",
       "      <td>1.394981</td>\n",
       "      <td>1.772517</td>\n",
       "      <td>1.000000</td>\n",
       "    </tr>\n",
       "    <tr>\n",
       "      <th>b</th>\n",
       "      <td>0.343054</td>\n",
       "      <td>1.912123</td>\n",
       "      <td>-0.050390</td>\n",
       "    </tr>\n",
       "    <tr>\n",
       "      <th>c</th>\n",
       "      <td>0.695246</td>\n",
       "      <td>1.478369</td>\n",
       "      <td>1.227435</td>\n",
       "    </tr>\n",
       "    <tr>\n",
       "      <th>d</th>\n",
       "      <td>NaN</td>\n",
       "      <td>0.279344</td>\n",
       "      <td>-0.613172</td>\n",
       "    </tr>\n",
       "  </tbody>\n",
       "</table>\n",
       "</div>"
      ],
      "text/plain": [
       "        One       Two     Three\n",
       "a  1.394981  1.772517  1.000000\n",
       "b  0.343054  1.912123 -0.050390\n",
       "c  0.695246  1.478369  1.227435\n",
       "d       NaN  0.279344 -0.613172"
      ]
     },
     "execution_count": 58,
     "metadata": {},
     "output_type": "execute_result"
    }
   ],
   "source": [
    "df2"
   ]
  },
  {
   "cell_type": "code",
   "execution_count": 59,
   "metadata": {},
   "outputs": [
    {
     "name": "stdout",
     "output_type": "stream",
     "text": [
      "|    |        One |      Two |     Three |\n",
      "|:---|-----------:|---------:|----------:|\n",
      "| a  |   1.39498  | 1.77252  |  1        |\n",
      "| b  |   0.343054 | 1.91212  | -0.05039  |\n",
      "| c  |   0.695246 | 1.47837  |  1.22744  |\n",
      "| d  | nan        | 0.279344 | -0.613172 |\n"
     ]
    }
   ],
   "source": [
    "print(df2.to_markdown())"
   ]
  },
  {
   "cell_type": "code",
   "execution_count": 60,
   "metadata": {},
   "outputs": [
    {
     "data": {
      "text/html": [
       "<div>\n",
       "<style scoped>\n",
       "    .dataframe tbody tr th:only-of-type {\n",
       "        vertical-align: middle;\n",
       "    }\n",
       "\n",
       "    .dataframe tbody tr th {\n",
       "        vertical-align: top;\n",
       "    }\n",
       "\n",
       "    .dataframe thead th {\n",
       "        text-align: right;\n",
       "    }\n",
       "</style>\n",
       "<table border=\"1\" class=\"dataframe\">\n",
       "  <thead>\n",
       "    <tr style=\"text-align: right;\">\n",
       "      <th></th>\n",
       "      <th>One</th>\n",
       "      <th>Two</th>\n",
       "      <th>Three</th>\n",
       "    </tr>\n",
       "  </thead>\n",
       "  <tbody>\n",
       "    <tr>\n",
       "      <th>a</th>\n",
       "      <td>2.789962</td>\n",
       "      <td>3.545034</td>\n",
       "      <td>NaN</td>\n",
       "    </tr>\n",
       "    <tr>\n",
       "      <th>b</th>\n",
       "      <td>0.686108</td>\n",
       "      <td>3.824246</td>\n",
       "      <td>-0.100780</td>\n",
       "    </tr>\n",
       "    <tr>\n",
       "      <th>c</th>\n",
       "      <td>1.390492</td>\n",
       "      <td>2.956738</td>\n",
       "      <td>2.454870</td>\n",
       "    </tr>\n",
       "    <tr>\n",
       "      <th>d</th>\n",
       "      <td>NaN</td>\n",
       "      <td>0.558688</td>\n",
       "      <td>-1.226344</td>\n",
       "    </tr>\n",
       "  </tbody>\n",
       "</table>\n",
       "</div>"
      ],
      "text/plain": [
       "        One       Two     Three\n",
       "a  2.789962  3.545034       NaN\n",
       "b  0.686108  3.824246 -0.100780\n",
       "c  1.390492  2.956738  2.454870\n",
       "d       NaN  0.558688 -1.226344"
      ]
     },
     "execution_count": 60,
     "metadata": {},
     "output_type": "execute_result"
    }
   ],
   "source": [
    "df + df2"
   ]
  },
  {
   "cell_type": "code",
   "execution_count": 61,
   "metadata": {},
   "outputs": [
    {
     "data": {
      "text/html": [
       "<div>\n",
       "<style scoped>\n",
       "    .dataframe tbody tr th:only-of-type {\n",
       "        vertical-align: middle;\n",
       "    }\n",
       "\n",
       "    .dataframe tbody tr th {\n",
       "        vertical-align: top;\n",
       "    }\n",
       "\n",
       "    .dataframe thead th {\n",
       "        text-align: right;\n",
       "    }\n",
       "</style>\n",
       "<table border=\"1\" class=\"dataframe\">\n",
       "  <thead>\n",
       "    <tr style=\"text-align: right;\">\n",
       "      <th></th>\n",
       "      <th>One</th>\n",
       "      <th>Two</th>\n",
       "      <th>Three</th>\n",
       "    </tr>\n",
       "  </thead>\n",
       "  <tbody>\n",
       "    <tr>\n",
       "      <th>a</th>\n",
       "      <td>2.789962</td>\n",
       "      <td>3.545034</td>\n",
       "      <td>1.000000</td>\n",
       "    </tr>\n",
       "    <tr>\n",
       "      <th>b</th>\n",
       "      <td>0.686108</td>\n",
       "      <td>3.824246</td>\n",
       "      <td>-0.100780</td>\n",
       "    </tr>\n",
       "    <tr>\n",
       "      <th>c</th>\n",
       "      <td>1.390492</td>\n",
       "      <td>2.956738</td>\n",
       "      <td>2.454870</td>\n",
       "    </tr>\n",
       "    <tr>\n",
       "      <th>d</th>\n",
       "      <td>NaN</td>\n",
       "      <td>0.558688</td>\n",
       "      <td>-1.226344</td>\n",
       "    </tr>\n",
       "  </tbody>\n",
       "</table>\n",
       "</div>"
      ],
      "text/plain": [
       "        One       Two     Three\n",
       "a  2.789962  3.545034  1.000000\n",
       "b  0.686108  3.824246 -0.100780\n",
       "c  1.390492  2.956738  2.454870\n",
       "d       NaN  0.558688 -1.226344"
      ]
     },
     "execution_count": 61,
     "metadata": {},
     "output_type": "execute_result"
    }
   ],
   "source": [
    "df.add(df2, fill_value=0)"
   ]
  },
  {
   "cell_type": "code",
   "execution_count": 62,
   "metadata": {},
   "outputs": [
    {
     "data": {
      "text/html": [
       "<div>\n",
       "<style scoped>\n",
       "    .dataframe tbody tr th:only-of-type {\n",
       "        vertical-align: middle;\n",
       "    }\n",
       "\n",
       "    .dataframe tbody tr th {\n",
       "        vertical-align: top;\n",
       "    }\n",
       "\n",
       "    .dataframe thead th {\n",
       "        text-align: right;\n",
       "    }\n",
       "</style>\n",
       "<table border=\"1\" class=\"dataframe\">\n",
       "  <thead>\n",
       "    <tr style=\"text-align: right;\">\n",
       "      <th></th>\n",
       "      <th>One</th>\n",
       "      <th>Two</th>\n",
       "      <th>Three</th>\n",
       "    </tr>\n",
       "  </thead>\n",
       "  <tbody>\n",
       "    <tr>\n",
       "      <th>a</th>\n",
       "      <td>2.789962</td>\n",
       "      <td>3.545034</td>\n",
       "      <td>2.000000</td>\n",
       "    </tr>\n",
       "    <tr>\n",
       "      <th>b</th>\n",
       "      <td>0.686108</td>\n",
       "      <td>3.824246</td>\n",
       "      <td>-0.100780</td>\n",
       "    </tr>\n",
       "    <tr>\n",
       "      <th>c</th>\n",
       "      <td>1.390492</td>\n",
       "      <td>2.956738</td>\n",
       "      <td>2.454870</td>\n",
       "    </tr>\n",
       "    <tr>\n",
       "      <th>d</th>\n",
       "      <td>NaN</td>\n",
       "      <td>0.558688</td>\n",
       "      <td>-1.226344</td>\n",
       "    </tr>\n",
       "  </tbody>\n",
       "</table>\n",
       "</div>"
      ],
      "text/plain": [
       "        One       Two     Three\n",
       "a  2.789962  3.545034  2.000000\n",
       "b  0.686108  3.824246 -0.100780\n",
       "c  1.390492  2.956738  2.454870\n",
       "d       NaN  0.558688 -1.226344"
      ]
     },
     "execution_count": 62,
     "metadata": {},
     "output_type": "execute_result"
    }
   ],
   "source": [
    "df.add(df2, fill_value=1)"
   ]
  },
  {
   "cell_type": "code",
   "execution_count": 63,
   "metadata": {},
   "outputs": [
    {
     "data": {
      "text/html": [
       "<div>\n",
       "<style scoped>\n",
       "    .dataframe tbody tr th:only-of-type {\n",
       "        vertical-align: middle;\n",
       "    }\n",
       "\n",
       "    .dataframe tbody tr th {\n",
       "        vertical-align: top;\n",
       "    }\n",
       "\n",
       "    .dataframe thead th {\n",
       "        text-align: right;\n",
       "    }\n",
       "</style>\n",
       "<table border=\"1\" class=\"dataframe\">\n",
       "  <thead>\n",
       "    <tr style=\"text-align: right;\">\n",
       "      <th></th>\n",
       "      <th>One</th>\n",
       "      <th>Two</th>\n",
       "      <th>Three</th>\n",
       "    </tr>\n",
       "  </thead>\n",
       "  <tbody>\n",
       "    <tr>\n",
       "      <th>a</th>\n",
       "      <td>True</td>\n",
       "      <td>True</td>\n",
       "      <td>False</td>\n",
       "    </tr>\n",
       "    <tr>\n",
       "      <th>b</th>\n",
       "      <td>True</td>\n",
       "      <td>True</td>\n",
       "      <td>True</td>\n",
       "    </tr>\n",
       "    <tr>\n",
       "      <th>c</th>\n",
       "      <td>True</td>\n",
       "      <td>True</td>\n",
       "      <td>True</td>\n",
       "    </tr>\n",
       "    <tr>\n",
       "      <th>d</th>\n",
       "      <td>False</td>\n",
       "      <td>True</td>\n",
       "      <td>True</td>\n",
       "    </tr>\n",
       "  </tbody>\n",
       "</table>\n",
       "</div>"
      ],
      "text/plain": [
       "     One   Two  Three\n",
       "a   True  True  False\n",
       "b   True  True   True\n",
       "c   True  True   True\n",
       "d  False  True   True"
      ]
     },
     "execution_count": 63,
     "metadata": {},
     "output_type": "execute_result"
    }
   ],
   "source": [
    "df.eq(df2)"
   ]
  },
  {
   "cell_type": "code",
   "execution_count": 64,
   "metadata": {},
   "outputs": [
    {
     "data": {
      "text/html": [
       "<div>\n",
       "<style scoped>\n",
       "    .dataframe tbody tr th:only-of-type {\n",
       "        vertical-align: middle;\n",
       "    }\n",
       "\n",
       "    .dataframe tbody tr th {\n",
       "        vertical-align: top;\n",
       "    }\n",
       "\n",
       "    .dataframe thead th {\n",
       "        text-align: right;\n",
       "    }\n",
       "</style>\n",
       "<table border=\"1\" class=\"dataframe\">\n",
       "  <thead>\n",
       "    <tr style=\"text-align: right;\">\n",
       "      <th></th>\n",
       "      <th>One</th>\n",
       "      <th>Two</th>\n",
       "      <th>Three</th>\n",
       "    </tr>\n",
       "  </thead>\n",
       "  <tbody>\n",
       "    <tr>\n",
       "      <th>a</th>\n",
       "      <td>False</td>\n",
       "      <td>False</td>\n",
       "      <td>True</td>\n",
       "    </tr>\n",
       "    <tr>\n",
       "      <th>b</th>\n",
       "      <td>False</td>\n",
       "      <td>False</td>\n",
       "      <td>False</td>\n",
       "    </tr>\n",
       "    <tr>\n",
       "      <th>c</th>\n",
       "      <td>False</td>\n",
       "      <td>False</td>\n",
       "      <td>False</td>\n",
       "    </tr>\n",
       "    <tr>\n",
       "      <th>d</th>\n",
       "      <td>True</td>\n",
       "      <td>False</td>\n",
       "      <td>False</td>\n",
       "    </tr>\n",
       "  </tbody>\n",
       "</table>\n",
       "</div>"
      ],
      "text/plain": [
       "     One    Two  Three\n",
       "a  False  False   True\n",
       "b  False  False  False\n",
       "c  False  False  False\n",
       "d   True  False  False"
      ]
     },
     "execution_count": 64,
     "metadata": {},
     "output_type": "execute_result"
    }
   ],
   "source": [
    "df.ne(df2)"
   ]
  },
  {
   "cell_type": "code",
   "execution_count": 65,
   "metadata": {},
   "outputs": [
    {
     "data": {
      "text/html": [
       "<div>\n",
       "<style scoped>\n",
       "    .dataframe tbody tr th:only-of-type {\n",
       "        vertical-align: middle;\n",
       "    }\n",
       "\n",
       "    .dataframe tbody tr th {\n",
       "        vertical-align: top;\n",
       "    }\n",
       "\n",
       "    .dataframe thead th {\n",
       "        text-align: right;\n",
       "    }\n",
       "</style>\n",
       "<table border=\"1\" class=\"dataframe\">\n",
       "  <thead>\n",
       "    <tr style=\"text-align: right;\">\n",
       "      <th></th>\n",
       "      <th>One</th>\n",
       "      <th>Two</th>\n",
       "      <th>Three</th>\n",
       "    </tr>\n",
       "  </thead>\n",
       "  <tbody>\n",
       "    <tr>\n",
       "      <th>a</th>\n",
       "      <td>False</td>\n",
       "      <td>False</td>\n",
       "      <td>False</td>\n",
       "    </tr>\n",
       "    <tr>\n",
       "      <th>b</th>\n",
       "      <td>False</td>\n",
       "      <td>False</td>\n",
       "      <td>False</td>\n",
       "    </tr>\n",
       "    <tr>\n",
       "      <th>c</th>\n",
       "      <td>False</td>\n",
       "      <td>False</td>\n",
       "      <td>False</td>\n",
       "    </tr>\n",
       "    <tr>\n",
       "      <th>d</th>\n",
       "      <td>False</td>\n",
       "      <td>False</td>\n",
       "      <td>False</td>\n",
       "    </tr>\n",
       "  </tbody>\n",
       "</table>\n",
       "</div>"
      ],
      "text/plain": [
       "     One    Two  Three\n",
       "a  False  False  False\n",
       "b  False  False  False\n",
       "c  False  False  False\n",
       "d  False  False  False"
      ]
     },
     "execution_count": 65,
     "metadata": {},
     "output_type": "execute_result"
    }
   ],
   "source": [
    "df.lt(df2)"
   ]
  },
  {
   "cell_type": "code",
   "execution_count": 66,
   "metadata": {},
   "outputs": [
    {
     "data": {
      "text/html": [
       "<div>\n",
       "<style scoped>\n",
       "    .dataframe tbody tr th:only-of-type {\n",
       "        vertical-align: middle;\n",
       "    }\n",
       "\n",
       "    .dataframe tbody tr th {\n",
       "        vertical-align: top;\n",
       "    }\n",
       "\n",
       "    .dataframe thead th {\n",
       "        text-align: right;\n",
       "    }\n",
       "</style>\n",
       "<table border=\"1\" class=\"dataframe\">\n",
       "  <thead>\n",
       "    <tr style=\"text-align: right;\">\n",
       "      <th></th>\n",
       "      <th>One</th>\n",
       "      <th>Two</th>\n",
       "      <th>Three</th>\n",
       "    </tr>\n",
       "  </thead>\n",
       "  <tbody>\n",
       "    <tr>\n",
       "      <th>a</th>\n",
       "      <td>False</td>\n",
       "      <td>False</td>\n",
       "      <td>False</td>\n",
       "    </tr>\n",
       "    <tr>\n",
       "      <th>b</th>\n",
       "      <td>False</td>\n",
       "      <td>False</td>\n",
       "      <td>False</td>\n",
       "    </tr>\n",
       "    <tr>\n",
       "      <th>c</th>\n",
       "      <td>False</td>\n",
       "      <td>False</td>\n",
       "      <td>False</td>\n",
       "    </tr>\n",
       "    <tr>\n",
       "      <th>d</th>\n",
       "      <td>False</td>\n",
       "      <td>False</td>\n",
       "      <td>False</td>\n",
       "    </tr>\n",
       "  </tbody>\n",
       "</table>\n",
       "</div>"
      ],
      "text/plain": [
       "     One    Two  Three\n",
       "a  False  False  False\n",
       "b  False  False  False\n",
       "c  False  False  False\n",
       "d  False  False  False"
      ]
     },
     "execution_count": 66,
     "metadata": {},
     "output_type": "execute_result"
    }
   ],
   "source": [
    "df.gt(df2)"
   ]
  },
  {
   "cell_type": "code",
   "execution_count": 67,
   "metadata": {},
   "outputs": [
    {
     "data": {
      "text/html": [
       "<div>\n",
       "<style scoped>\n",
       "    .dataframe tbody tr th:only-of-type {\n",
       "        vertical-align: middle;\n",
       "    }\n",
       "\n",
       "    .dataframe tbody tr th {\n",
       "        vertical-align: top;\n",
       "    }\n",
       "\n",
       "    .dataframe thead th {\n",
       "        text-align: right;\n",
       "    }\n",
       "</style>\n",
       "<table border=\"1\" class=\"dataframe\">\n",
       "  <thead>\n",
       "    <tr style=\"text-align: right;\">\n",
       "      <th></th>\n",
       "      <th>One</th>\n",
       "      <th>Two</th>\n",
       "      <th>Three</th>\n",
       "    </tr>\n",
       "  </thead>\n",
       "  <tbody>\n",
       "    <tr>\n",
       "      <th>a</th>\n",
       "      <td>True</td>\n",
       "      <td>True</td>\n",
       "      <td>False</td>\n",
       "    </tr>\n",
       "    <tr>\n",
       "      <th>b</th>\n",
       "      <td>True</td>\n",
       "      <td>True</td>\n",
       "      <td>True</td>\n",
       "    </tr>\n",
       "    <tr>\n",
       "      <th>c</th>\n",
       "      <td>True</td>\n",
       "      <td>True</td>\n",
       "      <td>True</td>\n",
       "    </tr>\n",
       "    <tr>\n",
       "      <th>d</th>\n",
       "      <td>False</td>\n",
       "      <td>True</td>\n",
       "      <td>True</td>\n",
       "    </tr>\n",
       "  </tbody>\n",
       "</table>\n",
       "</div>"
      ],
      "text/plain": [
       "     One   Two  Three\n",
       "a   True  True  False\n",
       "b   True  True   True\n",
       "c   True  True   True\n",
       "d  False  True   True"
      ]
     },
     "execution_count": 67,
     "metadata": {},
     "output_type": "execute_result"
    }
   ],
   "source": [
    "df.le(df2)"
   ]
  },
  {
   "cell_type": "code",
   "execution_count": 68,
   "metadata": {},
   "outputs": [
    {
     "data": {
      "text/html": [
       "<div>\n",
       "<style scoped>\n",
       "    .dataframe tbody tr th:only-of-type {\n",
       "        vertical-align: middle;\n",
       "    }\n",
       "\n",
       "    .dataframe tbody tr th {\n",
       "        vertical-align: top;\n",
       "    }\n",
       "\n",
       "    .dataframe thead th {\n",
       "        text-align: right;\n",
       "    }\n",
       "</style>\n",
       "<table border=\"1\" class=\"dataframe\">\n",
       "  <thead>\n",
       "    <tr style=\"text-align: right;\">\n",
       "      <th></th>\n",
       "      <th>One</th>\n",
       "      <th>Two</th>\n",
       "      <th>Three</th>\n",
       "    </tr>\n",
       "  </thead>\n",
       "  <tbody>\n",
       "    <tr>\n",
       "      <th>a</th>\n",
       "      <td>True</td>\n",
       "      <td>True</td>\n",
       "      <td>False</td>\n",
       "    </tr>\n",
       "    <tr>\n",
       "      <th>b</th>\n",
       "      <td>True</td>\n",
       "      <td>True</td>\n",
       "      <td>True</td>\n",
       "    </tr>\n",
       "    <tr>\n",
       "      <th>c</th>\n",
       "      <td>True</td>\n",
       "      <td>True</td>\n",
       "      <td>True</td>\n",
       "    </tr>\n",
       "    <tr>\n",
       "      <th>d</th>\n",
       "      <td>False</td>\n",
       "      <td>True</td>\n",
       "      <td>True</td>\n",
       "    </tr>\n",
       "  </tbody>\n",
       "</table>\n",
       "</div>"
      ],
      "text/plain": [
       "     One   Two  Three\n",
       "a   True  True  False\n",
       "b   True  True   True\n",
       "c   True  True   True\n",
       "d  False  True   True"
      ]
     },
     "execution_count": 68,
     "metadata": {},
     "output_type": "execute_result"
    }
   ],
   "source": [
    "df.ge(df2)"
   ]
  },
  {
   "cell_type": "code",
   "execution_count": 69,
   "metadata": {},
   "outputs": [
    {
     "data": {
      "text/plain": [
       "One      False\n",
       "Two       True\n",
       "Three    False\n",
       "dtype: bool"
      ]
     },
     "execution_count": 69,
     "metadata": {},
     "output_type": "execute_result"
    }
   ],
   "source": [
    "(df > 0).all()"
   ]
  },
  {
   "cell_type": "code",
   "execution_count": 70,
   "metadata": {},
   "outputs": [
    {
     "data": {
      "text/plain": [
       "One      True\n",
       "Two      True\n",
       "Three    True\n",
       "dtype: bool"
      ]
     },
     "execution_count": 70,
     "metadata": {},
     "output_type": "execute_result"
    }
   ],
   "source": [
    "(df > 0).any()"
   ]
  },
  {
   "cell_type": "code",
   "execution_count": 71,
   "metadata": {},
   "outputs": [
    {
     "data": {
      "text/plain": [
       "True"
      ]
     },
     "execution_count": 71,
     "metadata": {},
     "output_type": "execute_result"
    }
   ],
   "source": [
    "(df > 0).any().any()"
   ]
  },
  {
   "cell_type": "code",
   "execution_count": 72,
   "metadata": {},
   "outputs": [
    {
     "data": {
      "text/plain": [
       "False"
      ]
     },
     "execution_count": 72,
     "metadata": {},
     "output_type": "execute_result"
    }
   ],
   "source": [
    "df.empty"
   ]
  },
  {
   "cell_type": "code",
   "execution_count": 73,
   "metadata": {},
   "outputs": [
    {
     "data": {
      "text/plain": [
       "True"
      ]
     },
     "execution_count": 73,
     "metadata": {},
     "output_type": "execute_result"
    }
   ],
   "source": [
    "pd.DataFrame(columns=list('ABC')).empty"
   ]
  },
  {
   "cell_type": "code",
   "execution_count": 74,
   "metadata": {},
   "outputs": [
    {
     "data": {
      "text/plain": [
       "True"
      ]
     },
     "execution_count": 74,
     "metadata": {},
     "output_type": "execute_result"
    }
   ],
   "source": [
    "pd.Series([True]).bool()"
   ]
  },
  {
   "cell_type": "code",
   "execution_count": 75,
   "metadata": {},
   "outputs": [
    {
     "data": {
      "text/plain": [
       "False"
      ]
     },
     "execution_count": 75,
     "metadata": {},
     "output_type": "execute_result"
    }
   ],
   "source": [
    "pd.Series([False]).bool()"
   ]
  },
  {
   "cell_type": "code",
   "execution_count": 76,
   "metadata": {},
   "outputs": [
    {
     "data": {
      "text/plain": [
       "True"
      ]
     },
     "execution_count": 76,
     "metadata": {},
     "output_type": "execute_result"
    }
   ],
   "source": [
    "pd.DataFrame([[True]]).bool()"
   ]
  },
  {
   "cell_type": "code",
   "execution_count": 77,
   "metadata": {},
   "outputs": [
    {
     "data": {
      "text/plain": [
       "False"
      ]
     },
     "execution_count": 77,
     "metadata": {},
     "output_type": "execute_result"
    }
   ],
   "source": [
    "pd.DataFrame([[False]]).bool()"
   ]
  },
  {
   "cell_type": "code",
   "execution_count": 78,
   "metadata": {},
   "outputs": [
    {
     "data": {
      "text/plain": [
       "True"
      ]
     },
     "execution_count": 78,
     "metadata": {},
     "output_type": "execute_result"
    }
   ],
   "source": [
    "bool(df.iloc[0][0])"
   ]
  },
  {
   "cell_type": "code",
   "execution_count": 79,
   "metadata": {},
   "outputs": [
    {
     "data": {
      "text/html": [
       "<div>\n",
       "<style scoped>\n",
       "    .dataframe tbody tr th:only-of-type {\n",
       "        vertical-align: middle;\n",
       "    }\n",
       "\n",
       "    .dataframe tbody tr th {\n",
       "        vertical-align: top;\n",
       "    }\n",
       "\n",
       "    .dataframe thead th {\n",
       "        text-align: right;\n",
       "    }\n",
       "</style>\n",
       "<table border=\"1\" class=\"dataframe\">\n",
       "  <thead>\n",
       "    <tr style=\"text-align: right;\">\n",
       "      <th></th>\n",
       "      <th>One</th>\n",
       "      <th>Two</th>\n",
       "      <th>Three</th>\n",
       "    </tr>\n",
       "  </thead>\n",
       "  <tbody>\n",
       "    <tr>\n",
       "      <th>a</th>\n",
       "      <td>2.789962</td>\n",
       "      <td>3.545034</td>\n",
       "      <td>NaN</td>\n",
       "    </tr>\n",
       "    <tr>\n",
       "      <th>b</th>\n",
       "      <td>0.686108</td>\n",
       "      <td>3.824246</td>\n",
       "      <td>-0.100780</td>\n",
       "    </tr>\n",
       "    <tr>\n",
       "      <th>c</th>\n",
       "      <td>1.390492</td>\n",
       "      <td>2.956738</td>\n",
       "      <td>2.454870</td>\n",
       "    </tr>\n",
       "    <tr>\n",
       "      <th>d</th>\n",
       "      <td>NaN</td>\n",
       "      <td>0.558688</td>\n",
       "      <td>-1.226344</td>\n",
       "    </tr>\n",
       "  </tbody>\n",
       "</table>\n",
       "</div>"
      ],
      "text/plain": [
       "        One       Two     Three\n",
       "a  2.789962  3.545034       NaN\n",
       "b  0.686108  3.824246 -0.100780\n",
       "c  1.390492  2.956738  2.454870\n",
       "d       NaN  0.558688 -1.226344"
      ]
     },
     "execution_count": 79,
     "metadata": {},
     "output_type": "execute_result"
    }
   ],
   "source": [
    "df + df"
   ]
  },
  {
   "cell_type": "code",
   "execution_count": 80,
   "metadata": {},
   "outputs": [
    {
     "data": {
      "text/html": [
       "<div>\n",
       "<style scoped>\n",
       "    .dataframe tbody tr th:only-of-type {\n",
       "        vertical-align: middle;\n",
       "    }\n",
       "\n",
       "    .dataframe tbody tr th {\n",
       "        vertical-align: top;\n",
       "    }\n",
       "\n",
       "    .dataframe thead th {\n",
       "        text-align: right;\n",
       "    }\n",
       "</style>\n",
       "<table border=\"1\" class=\"dataframe\">\n",
       "  <thead>\n",
       "    <tr style=\"text-align: right;\">\n",
       "      <th></th>\n",
       "      <th>One</th>\n",
       "      <th>Two</th>\n",
       "      <th>Three</th>\n",
       "    </tr>\n",
       "  </thead>\n",
       "  <tbody>\n",
       "    <tr>\n",
       "      <th>a</th>\n",
       "      <td>2.789962</td>\n",
       "      <td>3.545034</td>\n",
       "      <td>NaN</td>\n",
       "    </tr>\n",
       "    <tr>\n",
       "      <th>b</th>\n",
       "      <td>0.686108</td>\n",
       "      <td>3.824246</td>\n",
       "      <td>-0.100780</td>\n",
       "    </tr>\n",
       "    <tr>\n",
       "      <th>c</th>\n",
       "      <td>1.390492</td>\n",
       "      <td>2.956738</td>\n",
       "      <td>2.454870</td>\n",
       "    </tr>\n",
       "    <tr>\n",
       "      <th>d</th>\n",
       "      <td>NaN</td>\n",
       "      <td>0.558688</td>\n",
       "      <td>-1.226344</td>\n",
       "    </tr>\n",
       "  </tbody>\n",
       "</table>\n",
       "</div>"
      ],
      "text/plain": [
       "        One       Two     Three\n",
       "a  2.789962  3.545034       NaN\n",
       "b  0.686108  3.824246 -0.100780\n",
       "c  1.390492  2.956738  2.454870\n",
       "d       NaN  0.558688 -1.226344"
      ]
     },
     "execution_count": 80,
     "metadata": {},
     "output_type": "execute_result"
    }
   ],
   "source": [
    "df * 2"
   ]
  },
  {
   "cell_type": "code",
   "execution_count": 81,
   "metadata": {},
   "outputs": [
    {
     "data": {
      "text/html": [
       "<div>\n",
       "<style scoped>\n",
       "    .dataframe tbody tr th:only-of-type {\n",
       "        vertical-align: middle;\n",
       "    }\n",
       "\n",
       "    .dataframe tbody tr th {\n",
       "        vertical-align: top;\n",
       "    }\n",
       "\n",
       "    .dataframe thead th {\n",
       "        text-align: right;\n",
       "    }\n",
       "</style>\n",
       "<table border=\"1\" class=\"dataframe\">\n",
       "  <thead>\n",
       "    <tr style=\"text-align: right;\">\n",
       "      <th></th>\n",
       "      <th>One</th>\n",
       "      <th>Two</th>\n",
       "      <th>Three</th>\n",
       "    </tr>\n",
       "  </thead>\n",
       "  <tbody>\n",
       "    <tr>\n",
       "      <th>a</th>\n",
       "      <td>True</td>\n",
       "      <td>True</td>\n",
       "      <td>False</td>\n",
       "    </tr>\n",
       "    <tr>\n",
       "      <th>b</th>\n",
       "      <td>True</td>\n",
       "      <td>True</td>\n",
       "      <td>True</td>\n",
       "    </tr>\n",
       "    <tr>\n",
       "      <th>c</th>\n",
       "      <td>True</td>\n",
       "      <td>True</td>\n",
       "      <td>True</td>\n",
       "    </tr>\n",
       "    <tr>\n",
       "      <th>d</th>\n",
       "      <td>False</td>\n",
       "      <td>True</td>\n",
       "      <td>True</td>\n",
       "    </tr>\n",
       "  </tbody>\n",
       "</table>\n",
       "</div>"
      ],
      "text/plain": [
       "     One   Two  Three\n",
       "a   True  True  False\n",
       "b   True  True   True\n",
       "c   True  True   True\n",
       "d  False  True   True"
      ]
     },
     "execution_count": 81,
     "metadata": {},
     "output_type": "execute_result"
    }
   ],
   "source": [
    "# False 끼리의 논리연산은 False를 반환한다.\n",
    "df + df == df * 2"
   ]
  },
  {
   "cell_type": "code",
   "execution_count": 82,
   "metadata": {},
   "outputs": [
    {
     "data": {
      "text/plain": [
       "True"
      ]
     },
     "execution_count": 82,
     "metadata": {},
     "output_type": "execute_result"
    }
   ],
   "source": [
    "(df + df).equals(df * 2)"
   ]
  },
  {
   "cell_type": "code",
   "execution_count": 83,
   "metadata": {},
   "outputs": [
    {
     "data": {
      "text/plain": [
       "0    False\n",
       "1     True\n",
       "2    False\n",
       "dtype: bool"
      ]
     },
     "execution_count": 83,
     "metadata": {},
     "output_type": "execute_result"
    }
   ],
   "source": [
    "pd.Series(['One', 'Two', 'Three']) == 'Two'"
   ]
  },
  {
   "cell_type": "code",
   "execution_count": 84,
   "metadata": {},
   "outputs": [
    {
     "data": {
      "text/plain": [
       "array([False,  True, False])"
      ]
     },
     "execution_count": 84,
     "metadata": {},
     "output_type": "execute_result"
    }
   ],
   "source": [
    "pd.Index(['Four', 'Five', 'Six']) == 'Five'"
   ]
  },
  {
   "cell_type": "code",
   "execution_count": 85,
   "metadata": {},
   "outputs": [
    {
     "data": {
      "text/plain": [
       "0     True\n",
       "1    False\n",
       "2    False\n",
       "dtype: bool"
      ]
     },
     "execution_count": 85,
     "metadata": {},
     "output_type": "execute_result"
    }
   ],
   "source": [
    "pd.Series(['One', 'Two', 'Three']) == pd.Index(['One', 'Five', 'Six'])"
   ]
  },
  {
   "cell_type": "code",
   "execution_count": 86,
   "metadata": {},
   "outputs": [
    {
     "data": {
      "text/plain": [
       "0     True\n",
       "1    False\n",
       "2    False\n",
       "dtype: bool"
      ]
     },
     "execution_count": 86,
     "metadata": {},
     "output_type": "execute_result"
    }
   ],
   "source": [
    "pd.Series(['One', 'Two', 'Three']) == np.array(['One', 'Five', 'Six'])"
   ]
  },
  {
   "cell_type": "code",
   "execution_count": 87,
   "metadata": {},
   "outputs": [
    {
     "data": {
      "text/plain": [
       "array([ True, False, False])"
      ]
     },
     "execution_count": 87,
     "metadata": {},
     "output_type": "execute_result"
    }
   ],
   "source": [
    "np.array([1,2,3]) == np.array([1])"
   ]
  },
  {
   "cell_type": "code",
   "execution_count": 88,
   "metadata": {},
   "outputs": [],
   "source": [
    "df1 = pd.DataFrame({'A' : [1., np.nan, 3., 5., np.nan],\n",
    "                   'B' : [np.nan, 2., 3., np.nan, 6.]})"
   ]
  },
  {
   "cell_type": "code",
   "execution_count": 89,
   "metadata": {},
   "outputs": [
    {
     "name": "stdout",
     "output_type": "stream",
     "text": [
      "|    |   A |   B |\n",
      "|---:|----:|----:|\n",
      "|  0 |   1 | nan |\n",
      "|  1 | nan |   2 |\n",
      "|  2 |   3 |   3 |\n",
      "|  3 |   5 | nan |\n",
      "|  4 | nan |   6 |\n"
     ]
    }
   ],
   "source": [
    "print(df1.to_markdown())"
   ]
  },
  {
   "cell_type": "code",
   "execution_count": 90,
   "metadata": {},
   "outputs": [],
   "source": [
    "df2 = pd.DataFrame({'A' : [5., 2., 4., np.nan, 3., 7.],\n",
    "                   'B' : [np.nan, np.nan, 3., 4., 6., 8.]})"
   ]
  },
  {
   "cell_type": "code",
   "execution_count": 91,
   "metadata": {},
   "outputs": [
    {
     "name": "stdout",
     "output_type": "stream",
     "text": [
      "|    |   A |   B |\n",
      "|---:|----:|----:|\n",
      "|  0 |   5 | nan |\n",
      "|  1 |   2 | nan |\n",
      "|  2 |   4 |   3 |\n",
      "|  3 | nan |   4 |\n",
      "|  4 |   3 |   6 |\n",
      "|  5 |   7 |   8 |\n"
     ]
    }
   ],
   "source": [
    "print(df2.to_markdown())"
   ]
  },
  {
   "cell_type": "code",
   "execution_count": 92,
   "metadata": {},
   "outputs": [],
   "source": [
    "a = df1.combine_first(df2)"
   ]
  },
  {
   "cell_type": "code",
   "execution_count": 93,
   "metadata": {},
   "outputs": [
    {
     "name": "stdout",
     "output_type": "stream",
     "text": [
      "|    |   A |   B |\n",
      "|---:|----:|----:|\n",
      "|  0 |   1 | nan |\n",
      "|  1 |   2 |   2 |\n",
      "|  2 |   3 |   3 |\n",
      "|  3 |   5 |   4 |\n",
      "|  4 |   3 |   6 |\n",
      "|  5 |   7 |   8 |\n"
     ]
    }
   ],
   "source": [
    "print(a.to_markdown())"
   ]
  },
  {
   "cell_type": "code",
   "execution_count": 94,
   "metadata": {},
   "outputs": [],
   "source": [
    "b = df2.combine_first(df1)"
   ]
  },
  {
   "cell_type": "code",
   "execution_count": 95,
   "metadata": {},
   "outputs": [
    {
     "name": "stdout",
     "output_type": "stream",
     "text": [
      "|    |   A |   B |\n",
      "|---:|----:|----:|\n",
      "|  0 |   5 | nan |\n",
      "|  1 |   2 |   2 |\n",
      "|  2 |   4 |   3 |\n",
      "|  3 |   5 |   4 |\n",
      "|  4 |   3 |   6 |\n",
      "|  5 |   7 |   8 |\n"
     ]
    }
   ],
   "source": [
    "print(b.to_markdown())"
   ]
  },
  {
   "cell_type": "code",
   "execution_count": 96,
   "metadata": {},
   "outputs": [
    {
     "name": "stdout",
     "output_type": "stream",
     "text": [
      "|    |        One |      Two |      Three |\n",
      "|:---|-----------:|---------:|-----------:|\n",
      "| a  |   1.39498  | 1.77252  | nan        |\n",
      "| b  |   0.343054 | 1.91212  |  -0.05039  |\n",
      "| c  |   0.695246 | 1.47837  |   1.22744  |\n",
      "| d  | nan        | 0.279344 |  -0.613172 |\n"
     ]
    }
   ],
   "source": [
    "print(df.to_markdown())"
   ]
  },
  {
   "cell_type": "code",
   "execution_count": 97,
   "metadata": {},
   "outputs": [
    {
     "data": {
      "text/plain": [
       "One      0.811094\n",
       "Two      1.360588\n",
       "Three    0.187958\n",
       "dtype: float64"
      ]
     },
     "execution_count": 97,
     "metadata": {},
     "output_type": "execute_result"
    }
   ],
   "source": [
    "df.mean(0)"
   ]
  },
  {
   "cell_type": "code",
   "execution_count": 98,
   "metadata": {},
   "outputs": [
    {
     "data": {
      "text/plain": [
       "a    1.583749\n",
       "b    0.734929\n",
       "c    1.133683\n",
       "d   -0.166914\n",
       "dtype: float64"
      ]
     },
     "execution_count": 98,
     "metadata": {},
     "output_type": "execute_result"
    }
   ],
   "source": [
    "df.mean(1)"
   ]
  },
  {
   "cell_type": "code",
   "execution_count": 99,
   "metadata": {},
   "outputs": [
    {
     "data": {
      "text/plain": [
       "One           NaN\n",
       "Two      5.442353\n",
       "Three         NaN\n",
       "dtype: float64"
      ]
     },
     "execution_count": 99,
     "metadata": {},
     "output_type": "execute_result"
    }
   ],
   "source": [
    "df.sum(0, skipna=False)"
   ]
  },
  {
   "cell_type": "code",
   "execution_count": 100,
   "metadata": {},
   "outputs": [
    {
     "data": {
      "text/plain": [
       "a    3.167498\n",
       "b    2.204787\n",
       "c    3.401050\n",
       "d   -0.333828\n",
       "dtype: float64"
      ]
     },
     "execution_count": 100,
     "metadata": {},
     "output_type": "execute_result"
    }
   ],
   "source": [
    "df.sum(axis=1, skipna=True)"
   ]
  },
  {
   "cell_type": "code",
   "execution_count": 101,
   "metadata": {},
   "outputs": [],
   "source": [
    "ts_stand = (df - df.mean(0)) / df.std()"
   ]
  },
  {
   "cell_type": "code",
   "execution_count": 102,
   "metadata": {},
   "outputs": [
    {
     "data": {
      "text/plain": [
       "One      1.0\n",
       "Two      1.0\n",
       "Three    1.0\n",
       "dtype: float64"
      ]
     },
     "execution_count": 102,
     "metadata": {},
     "output_type": "execute_result"
    }
   ],
   "source": [
    "ts_stand.std()"
   ]
  },
  {
   "cell_type": "code",
   "execution_count": 103,
   "metadata": {},
   "outputs": [],
   "source": [
    "xs_stand = df.sub(df.mean(1), axis=0).div(df.std(1), axis=0)"
   ]
  },
  {
   "cell_type": "code",
   "execution_count": 104,
   "metadata": {},
   "outputs": [
    {
     "data": {
      "text/html": [
       "<div>\n",
       "<style scoped>\n",
       "    .dataframe tbody tr th:only-of-type {\n",
       "        vertical-align: middle;\n",
       "    }\n",
       "\n",
       "    .dataframe tbody tr th {\n",
       "        vertical-align: top;\n",
       "    }\n",
       "\n",
       "    .dataframe thead th {\n",
       "        text-align: right;\n",
       "    }\n",
       "</style>\n",
       "<table border=\"1\" class=\"dataframe\">\n",
       "  <thead>\n",
       "    <tr style=\"text-align: right;\">\n",
       "      <th></th>\n",
       "      <th>One</th>\n",
       "      <th>Two</th>\n",
       "      <th>Three</th>\n",
       "    </tr>\n",
       "  </thead>\n",
       "  <tbody>\n",
       "    <tr>\n",
       "      <th>a</th>\n",
       "      <td>-0.707107</td>\n",
       "      <td>0.707107</td>\n",
       "      <td>NaN</td>\n",
       "    </tr>\n",
       "    <tr>\n",
       "      <th>b</th>\n",
       "      <td>-0.377425</td>\n",
       "      <td>1.133785</td>\n",
       "      <td>-0.756361</td>\n",
       "    </tr>\n",
       "    <tr>\n",
       "      <th>c</th>\n",
       "      <td>-1.096393</td>\n",
       "      <td>0.861950</td>\n",
       "      <td>0.234443</td>\n",
       "    </tr>\n",
       "    <tr>\n",
       "      <th>d</th>\n",
       "      <td>NaN</td>\n",
       "      <td>0.707107</td>\n",
       "      <td>-0.707107</td>\n",
       "    </tr>\n",
       "  </tbody>\n",
       "</table>\n",
       "</div>"
      ],
      "text/plain": [
       "        One       Two     Three\n",
       "a -0.707107  0.707107       NaN\n",
       "b -0.377425  1.133785 -0.756361\n",
       "c -1.096393  0.861950  0.234443\n",
       "d       NaN  0.707107 -0.707107"
      ]
     },
     "execution_count": 104,
     "metadata": {},
     "output_type": "execute_result"
    }
   ],
   "source": [
    "xs_stand"
   ]
  },
  {
   "cell_type": "code",
   "execution_count": 105,
   "metadata": {},
   "outputs": [
    {
     "name": "stdout",
     "output_type": "stream",
     "text": [
      "|    |        One |      Two |      Three |\n",
      "|:---|-----------:|---------:|-----------:|\n",
      "| a  |  -0.707107 | 0.707107 | nan        |\n",
      "| b  |  -0.377425 | 1.13379  |  -0.756361 |\n",
      "| c  |  -1.09639  | 0.86195  |   0.234443 |\n",
      "| d  | nan        | 0.707107 |  -0.707107 |\n"
     ]
    }
   ],
   "source": [
    "print(xs_stand.to_markdown())"
   ]
  },
  {
   "cell_type": "code",
   "execution_count": 106,
   "metadata": {},
   "outputs": [
    {
     "data": {
      "text/plain": [
       "a    1.0\n",
       "b    1.0\n",
       "c    1.0\n",
       "d    1.0\n",
       "dtype: float64"
      ]
     },
     "execution_count": 106,
     "metadata": {},
     "output_type": "execute_result"
    }
   ],
   "source": [
    "xs_stand.std(1)"
   ]
  },
  {
   "cell_type": "code",
   "execution_count": 107,
   "metadata": {},
   "outputs": [
    {
     "data": {
      "text/html": [
       "<div>\n",
       "<style scoped>\n",
       "    .dataframe tbody tr th:only-of-type {\n",
       "        vertical-align: middle;\n",
       "    }\n",
       "\n",
       "    .dataframe tbody tr th {\n",
       "        vertical-align: top;\n",
       "    }\n",
       "\n",
       "    .dataframe thead th {\n",
       "        text-align: right;\n",
       "    }\n",
       "</style>\n",
       "<table border=\"1\" class=\"dataframe\">\n",
       "  <thead>\n",
       "    <tr style=\"text-align: right;\">\n",
       "      <th></th>\n",
       "      <th>One</th>\n",
       "      <th>Two</th>\n",
       "      <th>Three</th>\n",
       "    </tr>\n",
       "  </thead>\n",
       "  <tbody>\n",
       "    <tr>\n",
       "      <th>a</th>\n",
       "      <td>1.394981</td>\n",
       "      <td>1.772517</td>\n",
       "      <td>NaN</td>\n",
       "    </tr>\n",
       "    <tr>\n",
       "      <th>b</th>\n",
       "      <td>1.738035</td>\n",
       "      <td>3.684640</td>\n",
       "      <td>-0.050390</td>\n",
       "    </tr>\n",
       "    <tr>\n",
       "      <th>c</th>\n",
       "      <td>2.433281</td>\n",
       "      <td>5.163009</td>\n",
       "      <td>1.177045</td>\n",
       "    </tr>\n",
       "    <tr>\n",
       "      <th>d</th>\n",
       "      <td>NaN</td>\n",
       "      <td>5.442353</td>\n",
       "      <td>0.563873</td>\n",
       "    </tr>\n",
       "  </tbody>\n",
       "</table>\n",
       "</div>"
      ],
      "text/plain": [
       "        One       Two     Three\n",
       "a  1.394981  1.772517       NaN\n",
       "b  1.738035  3.684640 -0.050390\n",
       "c  2.433281  5.163009  1.177045\n",
       "d       NaN  5.442353  0.563873"
      ]
     },
     "execution_count": 107,
     "metadata": {},
     "output_type": "execute_result"
    }
   ],
   "source": [
    "df.cumsum()"
   ]
  },
  {
   "cell_type": "code",
   "execution_count": 108,
   "metadata": {},
   "outputs": [
    {
     "data": {
      "text/plain": [
       "0.8110936666666667"
      ]
     },
     "execution_count": 108,
     "metadata": {},
     "output_type": "execute_result"
    }
   ],
   "source": [
    "np.mean(df['One'])"
   ]
  },
  {
   "cell_type": "code",
   "execution_count": 109,
   "metadata": {},
   "outputs": [
    {
     "data": {
      "text/plain": [
       "nan"
      ]
     },
     "execution_count": 109,
     "metadata": {},
     "output_type": "execute_result"
    }
   ],
   "source": [
    "np.mean(df['One'].to_numpy())"
   ]
  },
  {
   "cell_type": "code",
   "execution_count": 110,
   "metadata": {},
   "outputs": [],
   "source": [
    "Series = pd.Series(np.random.randn(500))"
   ]
  },
  {
   "cell_type": "code",
   "execution_count": 111,
   "metadata": {},
   "outputs": [],
   "source": [
    "Series[20:200] = np.nan"
   ]
  },
  {
   "cell_type": "code",
   "execution_count": 112,
   "metadata": {},
   "outputs": [],
   "source": [
    "Series[10:20] = 5"
   ]
  },
  {
   "cell_type": "code",
   "execution_count": 113,
   "metadata": {},
   "outputs": [
    {
     "data": {
      "text/plain": [
       "311"
      ]
     },
     "execution_count": 113,
     "metadata": {},
     "output_type": "execute_result"
    }
   ],
   "source": [
    "Series.nunique()"
   ]
  },
  {
   "cell_type": "code",
   "execution_count": 114,
   "metadata": {},
   "outputs": [],
   "source": [
    "series = pd.Series(np.random.randn(1000))"
   ]
  },
  {
   "cell_type": "code",
   "execution_count": 115,
   "metadata": {},
   "outputs": [],
   "source": [
    "series[::2] = np.nan"
   ]
  },
  {
   "cell_type": "code",
   "execution_count": 116,
   "metadata": {},
   "outputs": [
    {
     "data": {
      "text/plain": [
       "count    500.000000\n",
       "mean      -0.042642\n",
       "std        1.008094\n",
       "min       -3.070551\n",
       "25%       -0.704547\n",
       "50%       -0.043483\n",
       "75%        0.618776\n",
       "max        2.973440\n",
       "dtype: float64"
      ]
     },
     "execution_count": 116,
     "metadata": {},
     "output_type": "execute_result"
    }
   ],
   "source": [
    "series.describe()"
   ]
  },
  {
   "cell_type": "code",
   "execution_count": 117,
   "metadata": {},
   "outputs": [],
   "source": [
    "df = pd.DataFrame(np.random.randn(1000,5), columns=['a','b','c','d','e'])"
   ]
  },
  {
   "cell_type": "code",
   "execution_count": 118,
   "metadata": {},
   "outputs": [],
   "source": [
    "df.iloc[::2] = np.nan"
   ]
  },
  {
   "cell_type": "code",
   "execution_count": 119,
   "metadata": {},
   "outputs": [],
   "source": [
    "a = df.describe()"
   ]
  },
  {
   "cell_type": "code",
   "execution_count": 120,
   "metadata": {},
   "outputs": [
    {
     "name": "stdout",
     "output_type": "stream",
     "text": [
      "|       |           a |           b |           c |           d |            e |\n",
      "|:------|------------:|------------:|------------:|------------:|-------------:|\n",
      "| count | 500         | 500         | 500         | 500         | 500          |\n",
      "| mean  |  -0.0963947 |  -0.0390427 |   0.0361362 |  -0.0165034 |   0.0231554  |\n",
      "| std   |   0.982687  |   1.00201   |   0.998696  |   0.987522  |   0.988383   |\n",
      "| min   |  -3.16744   |  -3.50397   |  -3.9836    |  -3.32137   |  -2.90131    |\n",
      "| 25%   |  -0.755721  |  -0.661963  |  -0.656283  |  -0.727345  |  -0.644632   |\n",
      "| 50%   |  -0.115855  |  -0.0340861 |   0.054431  |   0.0121548 |   0.00431527 |\n",
      "| 75%   |   0.535257  |   0.618931  |   0.6699    |   0.637289  |   0.72417    |\n",
      "| max   |   2.56841   |   3.42342   |   3.59918   |   3.55105   |   2.76491    |\n"
     ]
    }
   ],
   "source": [
    "print(a.to_markdown())"
   ]
  },
  {
   "cell_type": "code",
   "execution_count": 121,
   "metadata": {},
   "outputs": [
    {
     "data": {
      "text/plain": [
       "count    500.000000\n",
       "mean      -0.042642\n",
       "std        1.008094\n",
       "min       -3.070551\n",
       "5%        -1.704915\n",
       "25%       -0.704547\n",
       "50%       -0.043483\n",
       "75%        0.618776\n",
       "95%        1.627701\n",
       "max        2.973440\n",
       "dtype: float64"
      ]
     },
     "execution_count": 121,
     "metadata": {},
     "output_type": "execute_result"
    }
   ],
   "source": [
    "series.describe(percentiles=[.05, .25, .75, .95])"
   ]
  },
  {
   "cell_type": "code",
   "execution_count": 122,
   "metadata": {},
   "outputs": [],
   "source": [
    "s = pd.Series(['a','a','a','b','b',np.nan,'c','d','a'])"
   ]
  },
  {
   "cell_type": "code",
   "execution_count": 123,
   "metadata": {},
   "outputs": [
    {
     "data": {
      "text/plain": [
       "count     8\n",
       "unique    4\n",
       "top       a\n",
       "freq      4\n",
       "dtype: object"
      ]
     },
     "execution_count": 123,
     "metadata": {},
     "output_type": "execute_result"
    }
   ],
   "source": [
    "s.describe()"
   ]
  },
  {
   "cell_type": "code",
   "execution_count": 124,
   "metadata": {},
   "outputs": [],
   "source": [
    "df = pd.DataFrame({'a' : ['Yes','Yes','No','No'], 'b' : range(4)})"
   ]
  },
  {
   "cell_type": "code",
   "execution_count": 125,
   "metadata": {},
   "outputs": [
    {
     "data": {
      "text/html": [
       "<div>\n",
       "<style scoped>\n",
       "    .dataframe tbody tr th:only-of-type {\n",
       "        vertical-align: middle;\n",
       "    }\n",
       "\n",
       "    .dataframe tbody tr th {\n",
       "        vertical-align: top;\n",
       "    }\n",
       "\n",
       "    .dataframe thead th {\n",
       "        text-align: right;\n",
       "    }\n",
       "</style>\n",
       "<table border=\"1\" class=\"dataframe\">\n",
       "  <thead>\n",
       "    <tr style=\"text-align: right;\">\n",
       "      <th></th>\n",
       "      <th>b</th>\n",
       "    </tr>\n",
       "  </thead>\n",
       "  <tbody>\n",
       "    <tr>\n",
       "      <th>count</th>\n",
       "      <td>4.000000</td>\n",
       "    </tr>\n",
       "    <tr>\n",
       "      <th>mean</th>\n",
       "      <td>1.500000</td>\n",
       "    </tr>\n",
       "    <tr>\n",
       "      <th>std</th>\n",
       "      <td>1.290994</td>\n",
       "    </tr>\n",
       "    <tr>\n",
       "      <th>min</th>\n",
       "      <td>0.000000</td>\n",
       "    </tr>\n",
       "    <tr>\n",
       "      <th>25%</th>\n",
       "      <td>0.750000</td>\n",
       "    </tr>\n",
       "    <tr>\n",
       "      <th>50%</th>\n",
       "      <td>1.500000</td>\n",
       "    </tr>\n",
       "    <tr>\n",
       "      <th>75%</th>\n",
       "      <td>2.250000</td>\n",
       "    </tr>\n",
       "    <tr>\n",
       "      <th>max</th>\n",
       "      <td>3.000000</td>\n",
       "    </tr>\n",
       "  </tbody>\n",
       "</table>\n",
       "</div>"
      ],
      "text/plain": [
       "              b\n",
       "count  4.000000\n",
       "mean   1.500000\n",
       "std    1.290994\n",
       "min    0.000000\n",
       "25%    0.750000\n",
       "50%    1.500000\n",
       "75%    2.250000\n",
       "max    3.000000"
      ]
     },
     "execution_count": 125,
     "metadata": {},
     "output_type": "execute_result"
    }
   ],
   "source": [
    "df.describe()"
   ]
  },
  {
   "cell_type": "code",
   "execution_count": 126,
   "metadata": {},
   "outputs": [
    {
     "data": {
      "text/html": [
       "<div>\n",
       "<style scoped>\n",
       "    .dataframe tbody tr th:only-of-type {\n",
       "        vertical-align: middle;\n",
       "    }\n",
       "\n",
       "    .dataframe tbody tr th {\n",
       "        vertical-align: top;\n",
       "    }\n",
       "\n",
       "    .dataframe thead th {\n",
       "        text-align: right;\n",
       "    }\n",
       "</style>\n",
       "<table border=\"1\" class=\"dataframe\">\n",
       "  <thead>\n",
       "    <tr style=\"text-align: right;\">\n",
       "      <th></th>\n",
       "      <th>a</th>\n",
       "    </tr>\n",
       "  </thead>\n",
       "  <tbody>\n",
       "    <tr>\n",
       "      <th>count</th>\n",
       "      <td>4</td>\n",
       "    </tr>\n",
       "    <tr>\n",
       "      <th>unique</th>\n",
       "      <td>2</td>\n",
       "    </tr>\n",
       "    <tr>\n",
       "      <th>top</th>\n",
       "      <td>Yes</td>\n",
       "    </tr>\n",
       "    <tr>\n",
       "      <th>freq</th>\n",
       "      <td>2</td>\n",
       "    </tr>\n",
       "  </tbody>\n",
       "</table>\n",
       "</div>"
      ],
      "text/plain": [
       "          a\n",
       "count     4\n",
       "unique    2\n",
       "top     Yes\n",
       "freq      2"
      ]
     },
     "execution_count": 126,
     "metadata": {},
     "output_type": "execute_result"
    }
   ],
   "source": [
    "df.describe(include=['object'])"
   ]
  },
  {
   "cell_type": "code",
   "execution_count": 127,
   "metadata": {},
   "outputs": [
    {
     "data": {
      "text/html": [
       "<div>\n",
       "<style scoped>\n",
       "    .dataframe tbody tr th:only-of-type {\n",
       "        vertical-align: middle;\n",
       "    }\n",
       "\n",
       "    .dataframe tbody tr th {\n",
       "        vertical-align: top;\n",
       "    }\n",
       "\n",
       "    .dataframe thead th {\n",
       "        text-align: right;\n",
       "    }\n",
       "</style>\n",
       "<table border=\"1\" class=\"dataframe\">\n",
       "  <thead>\n",
       "    <tr style=\"text-align: right;\">\n",
       "      <th></th>\n",
       "      <th>b</th>\n",
       "    </tr>\n",
       "  </thead>\n",
       "  <tbody>\n",
       "    <tr>\n",
       "      <th>count</th>\n",
       "      <td>4.000000</td>\n",
       "    </tr>\n",
       "    <tr>\n",
       "      <th>mean</th>\n",
       "      <td>1.500000</td>\n",
       "    </tr>\n",
       "    <tr>\n",
       "      <th>std</th>\n",
       "      <td>1.290994</td>\n",
       "    </tr>\n",
       "    <tr>\n",
       "      <th>min</th>\n",
       "      <td>0.000000</td>\n",
       "    </tr>\n",
       "    <tr>\n",
       "      <th>25%</th>\n",
       "      <td>0.750000</td>\n",
       "    </tr>\n",
       "    <tr>\n",
       "      <th>50%</th>\n",
       "      <td>1.500000</td>\n",
       "    </tr>\n",
       "    <tr>\n",
       "      <th>75%</th>\n",
       "      <td>2.250000</td>\n",
       "    </tr>\n",
       "    <tr>\n",
       "      <th>max</th>\n",
       "      <td>3.000000</td>\n",
       "    </tr>\n",
       "  </tbody>\n",
       "</table>\n",
       "</div>"
      ],
      "text/plain": [
       "              b\n",
       "count  4.000000\n",
       "mean   1.500000\n",
       "std    1.290994\n",
       "min    0.000000\n",
       "25%    0.750000\n",
       "50%    1.500000\n",
       "75%    2.250000\n",
       "max    3.000000"
      ]
     },
     "execution_count": 127,
     "metadata": {},
     "output_type": "execute_result"
    }
   ],
   "source": [
    "df.describe(include=['number'])"
   ]
  },
  {
   "cell_type": "code",
   "execution_count": 128,
   "metadata": {},
   "outputs": [
    {
     "data": {
      "text/html": [
       "<div>\n",
       "<style scoped>\n",
       "    .dataframe tbody tr th:only-of-type {\n",
       "        vertical-align: middle;\n",
       "    }\n",
       "\n",
       "    .dataframe tbody tr th {\n",
       "        vertical-align: top;\n",
       "    }\n",
       "\n",
       "    .dataframe thead th {\n",
       "        text-align: right;\n",
       "    }\n",
       "</style>\n",
       "<table border=\"1\" class=\"dataframe\">\n",
       "  <thead>\n",
       "    <tr style=\"text-align: right;\">\n",
       "      <th></th>\n",
       "      <th>a</th>\n",
       "      <th>b</th>\n",
       "    </tr>\n",
       "  </thead>\n",
       "  <tbody>\n",
       "    <tr>\n",
       "      <th>count</th>\n",
       "      <td>4</td>\n",
       "      <td>4.000000</td>\n",
       "    </tr>\n",
       "    <tr>\n",
       "      <th>unique</th>\n",
       "      <td>2</td>\n",
       "      <td>NaN</td>\n",
       "    </tr>\n",
       "    <tr>\n",
       "      <th>top</th>\n",
       "      <td>Yes</td>\n",
       "      <td>NaN</td>\n",
       "    </tr>\n",
       "    <tr>\n",
       "      <th>freq</th>\n",
       "      <td>2</td>\n",
       "      <td>NaN</td>\n",
       "    </tr>\n",
       "    <tr>\n",
       "      <th>mean</th>\n",
       "      <td>NaN</td>\n",
       "      <td>1.500000</td>\n",
       "    </tr>\n",
       "    <tr>\n",
       "      <th>std</th>\n",
       "      <td>NaN</td>\n",
       "      <td>1.290994</td>\n",
       "    </tr>\n",
       "    <tr>\n",
       "      <th>min</th>\n",
       "      <td>NaN</td>\n",
       "      <td>0.000000</td>\n",
       "    </tr>\n",
       "    <tr>\n",
       "      <th>25%</th>\n",
       "      <td>NaN</td>\n",
       "      <td>0.750000</td>\n",
       "    </tr>\n",
       "    <tr>\n",
       "      <th>50%</th>\n",
       "      <td>NaN</td>\n",
       "      <td>1.500000</td>\n",
       "    </tr>\n",
       "    <tr>\n",
       "      <th>75%</th>\n",
       "      <td>NaN</td>\n",
       "      <td>2.250000</td>\n",
       "    </tr>\n",
       "    <tr>\n",
       "      <th>max</th>\n",
       "      <td>NaN</td>\n",
       "      <td>3.000000</td>\n",
       "    </tr>\n",
       "  </tbody>\n",
       "</table>\n",
       "</div>"
      ],
      "text/plain": [
       "          a         b\n",
       "count     4  4.000000\n",
       "unique    2       NaN\n",
       "top     Yes       NaN\n",
       "freq      2       NaN\n",
       "mean    NaN  1.500000\n",
       "std     NaN  1.290994\n",
       "min     NaN  0.000000\n",
       "25%     NaN  0.750000\n",
       "50%     NaN  1.500000\n",
       "75%     NaN  2.250000\n",
       "max     NaN  3.000000"
      ]
     },
     "execution_count": 128,
     "metadata": {},
     "output_type": "execute_result"
    }
   ],
   "source": [
    "df.describe(include='all')"
   ]
  },
  {
   "cell_type": "code",
   "execution_count": 129,
   "metadata": {},
   "outputs": [],
   "source": [
    "s1 = pd.Series(np.random.randn(5))"
   ]
  },
  {
   "cell_type": "code",
   "execution_count": 130,
   "metadata": {},
   "outputs": [
    {
     "data": {
      "text/plain": [
       "0    0.923321\n",
       "1    0.125817\n",
       "2    0.319676\n",
       "3   -0.039548\n",
       "4    0.069782\n",
       "dtype: float64"
      ]
     },
     "execution_count": 130,
     "metadata": {},
     "output_type": "execute_result"
    }
   ],
   "source": [
    "s1"
   ]
  },
  {
   "cell_type": "code",
   "execution_count": 131,
   "metadata": {},
   "outputs": [
    {
     "data": {
      "text/plain": [
       "(3, 0)"
      ]
     },
     "execution_count": 131,
     "metadata": {},
     "output_type": "execute_result"
    }
   ],
   "source": [
    "s1.idxmin(), s1.idxmax()"
   ]
  },
  {
   "cell_type": "code",
   "execution_count": 132,
   "metadata": {},
   "outputs": [],
   "source": [
    "df1 = pd.DataFrame(np.random.randn(5, 3), columns=['A','B','C'])"
   ]
  },
  {
   "cell_type": "code",
   "execution_count": 133,
   "metadata": {},
   "outputs": [
    {
     "name": "stdout",
     "output_type": "stream",
     "text": [
      "|    |        A |          B |          C |\n",
      "|---:|---------:|-----------:|-----------:|\n",
      "|  0 | 1.16018  |  0.873103  | -0.772864  |\n",
      "|  1 | 1.27365  | -0.0781211 | -0.0577717 |\n",
      "|  2 | 0.916009 |  1.31096   | -0.93093   |\n",
      "|  3 | 0.48759  |  0.0156025 |  2.28807   |\n",
      "|  4 | 0.342103 |  0.243225  |  0.713667  |\n"
     ]
    }
   ],
   "source": [
    "print(df1.to_markdown())"
   ]
  },
  {
   "cell_type": "code",
   "execution_count": 134,
   "metadata": {},
   "outputs": [
    {
     "data": {
      "text/plain": [
       "A    4\n",
       "B    1\n",
       "C    2\n",
       "dtype: int64"
      ]
     },
     "execution_count": 134,
     "metadata": {},
     "output_type": "execute_result"
    }
   ],
   "source": [
    "df1.idxmin(axis=0)"
   ]
  },
  {
   "cell_type": "code",
   "execution_count": 135,
   "metadata": {},
   "outputs": [
    {
     "data": {
      "text/plain": [
       "0    A\n",
       "1    A\n",
       "2    B\n",
       "3    C\n",
       "4    C\n",
       "dtype: object"
      ]
     },
     "execution_count": 135,
     "metadata": {},
     "output_type": "execute_result"
    }
   ],
   "source": [
    "df1.idxmax(axis=1)"
   ]
  },
  {
   "cell_type": "code",
   "execution_count": 136,
   "metadata": {},
   "outputs": [],
   "source": [
    "df3 = pd.DataFrame([2, 1, 1, 3, np.nan], columns=['A'], index=list('edcba'))"
   ]
  },
  {
   "cell_type": "code",
   "execution_count": 137,
   "metadata": {},
   "outputs": [
    {
     "name": "stdout",
     "output_type": "stream",
     "text": [
      "|    |   A |\n",
      "|:---|----:|\n",
      "| e  |   2 |\n",
      "| d  |   1 |\n",
      "| c  |   1 |\n",
      "| b  |   3 |\n",
      "| a  | nan |\n"
     ]
    }
   ],
   "source": [
    "print(df3.to_markdown())"
   ]
  },
  {
   "cell_type": "code",
   "execution_count": 138,
   "metadata": {},
   "outputs": [
    {
     "data": {
      "text/plain": [
       "'d'"
      ]
     },
     "execution_count": 138,
     "metadata": {},
     "output_type": "execute_result"
    }
   ],
   "source": [
    "df3['A'].idxmin()"
   ]
  },
  {
   "cell_type": "code",
   "execution_count": 139,
   "metadata": {},
   "outputs": [],
   "source": [
    "data = np.random.randint(0, 7, size=50)"
   ]
  },
  {
   "cell_type": "code",
   "execution_count": 140,
   "metadata": {},
   "outputs": [
    {
     "data": {
      "text/plain": [
       "array([6, 2, 2, 1, 3, 6, 6, 4, 2, 3, 4, 1, 1, 4, 5, 6, 2, 3, 6, 3, 0, 5,\n",
       "       0, 4, 1, 1, 1, 3, 6, 0, 2, 3, 3, 3, 3, 3, 2, 0, 3, 0, 2, 5, 5, 3,\n",
       "       5, 2, 2, 2, 2, 4])"
      ]
     },
     "execution_count": 140,
     "metadata": {},
     "output_type": "execute_result"
    }
   ],
   "source": [
    "data"
   ]
  },
  {
   "cell_type": "code",
   "execution_count": 141,
   "metadata": {},
   "outputs": [],
   "source": [
    "s = pd.Series(data)"
   ]
  },
  {
   "cell_type": "code",
   "execution_count": 142,
   "metadata": {},
   "outputs": [
    {
     "data": {
      "text/plain": [
       "3    12\n",
       "2    11\n",
       "6     6\n",
       "1     6\n",
       "5     5\n",
       "4     5\n",
       "0     5\n",
       "dtype: int64"
      ]
     },
     "execution_count": 142,
     "metadata": {},
     "output_type": "execute_result"
    }
   ],
   "source": [
    "s.value_counts()"
   ]
  },
  {
   "cell_type": "code",
   "execution_count": 143,
   "metadata": {},
   "outputs": [
    {
     "data": {
      "text/plain": [
       "3    12\n",
       "2    11\n",
       "6     6\n",
       "1     6\n",
       "5     5\n",
       "4     5\n",
       "0     5\n",
       "dtype: int64"
      ]
     },
     "execution_count": 143,
     "metadata": {},
     "output_type": "execute_result"
    }
   ],
   "source": [
    "pd.value_counts(data)"
   ]
  },
  {
   "cell_type": "code",
   "execution_count": 144,
   "metadata": {},
   "outputs": [],
   "source": [
    "s5 = pd.Series([1, 1, 3, 3, 3, 5, 5, 7, 7, 7])"
   ]
  },
  {
   "cell_type": "code",
   "execution_count": 145,
   "metadata": {},
   "outputs": [
    {
     "data": {
      "text/plain": [
       "0    3\n",
       "1    7\n",
       "dtype: int64"
      ]
     },
     "execution_count": 145,
     "metadata": {},
     "output_type": "execute_result"
    }
   ],
   "source": [
    "s5.mode()"
   ]
  },
  {
   "cell_type": "code",
   "execution_count": 146,
   "metadata": {},
   "outputs": [],
   "source": [
    "df5 = pd.DataFrame({\"A\": np.random.randint(0, 7, size=50),\n",
    "               \"B\": np.random.randint(-10, 15, size=50)})"
   ]
  },
  {
   "cell_type": "code",
   "execution_count": 147,
   "metadata": {},
   "outputs": [
    {
     "data": {
      "text/html": [
       "<div>\n",
       "<style scoped>\n",
       "    .dataframe tbody tr th:only-of-type {\n",
       "        vertical-align: middle;\n",
       "    }\n",
       "\n",
       "    .dataframe tbody tr th {\n",
       "        vertical-align: top;\n",
       "    }\n",
       "\n",
       "    .dataframe thead th {\n",
       "        text-align: right;\n",
       "    }\n",
       "</style>\n",
       "<table border=\"1\" class=\"dataframe\">\n",
       "  <thead>\n",
       "    <tr style=\"text-align: right;\">\n",
       "      <th></th>\n",
       "      <th>A</th>\n",
       "      <th>B</th>\n",
       "    </tr>\n",
       "  </thead>\n",
       "  <tbody>\n",
       "    <tr>\n",
       "      <th>0</th>\n",
       "      <td>1</td>\n",
       "      <td>-5.0</td>\n",
       "    </tr>\n",
       "    <tr>\n",
       "      <th>1</th>\n",
       "      <td>2</td>\n",
       "      <td>6.0</td>\n",
       "    </tr>\n",
       "    <tr>\n",
       "      <th>2</th>\n",
       "      <td>3</td>\n",
       "      <td>NaN</td>\n",
       "    </tr>\n",
       "  </tbody>\n",
       "</table>\n",
       "</div>"
      ],
      "text/plain": [
       "   A    B\n",
       "0  1 -5.0\n",
       "1  2  6.0\n",
       "2  3  NaN"
      ]
     },
     "execution_count": 147,
     "metadata": {},
     "output_type": "execute_result"
    }
   ],
   "source": [
    "df5.mode()"
   ]
  },
  {
   "cell_type": "code",
   "execution_count": 148,
   "metadata": {},
   "outputs": [],
   "source": [
    "arr = np.random.randn(20)"
   ]
  },
  {
   "cell_type": "code",
   "execution_count": 149,
   "metadata": {},
   "outputs": [
    {
     "data": {
      "text/plain": [
       "array([ 5.59139516e-01, -3.03787628e-02,  7.66176112e-05,  7.13562781e-01,\n",
       "        2.07901808e-01, -8.54826632e-02,  1.33942264e+00, -1.37791378e+00,\n",
       "       -4.76426186e-01, -2.96972961e-01, -1.09706945e+00, -1.24678983e-02,\n",
       "        9.13389104e-01, -8.93661258e-01, -1.37659396e-02, -2.24395629e-01,\n",
       "        7.51967221e-01, -4.07768621e-01, -4.22681154e-01,  8.94823302e-01])"
      ]
     },
     "execution_count": 149,
     "metadata": {},
     "output_type": "execute_result"
    }
   ],
   "source": [
    "arr"
   ]
  },
  {
   "cell_type": "code",
   "execution_count": 150,
   "metadata": {},
   "outputs": [],
   "source": [
    "factor = pd.cut(arr, 4)"
   ]
  },
  {
   "cell_type": "code",
   "execution_count": 151,
   "metadata": {},
   "outputs": [
    {
     "data": {
      "text/plain": [
       "[(-0.0192, 0.66], (-0.699, -0.0192], (-0.0192, 0.66], (0.66, 1.339], (-0.0192, 0.66], ..., (-0.699, -0.0192], (0.66, 1.339], (-0.699, -0.0192], (-0.699, -0.0192], (0.66, 1.339]]\n",
       "Length: 20\n",
       "Categories (4, interval[float64]): [(-1.381, -0.699] < (-0.699, -0.0192] < (-0.0192, 0.66] < (0.66, 1.339]]"
      ]
     },
     "execution_count": 151,
     "metadata": {},
     "output_type": "execute_result"
    }
   ],
   "source": [
    "factor"
   ]
  },
  {
   "cell_type": "code",
   "execution_count": 152,
   "metadata": {},
   "outputs": [],
   "source": [
    "factor = pd.cut(arr, [-5, -1, 0, 1, 5])"
   ]
  },
  {
   "cell_type": "code",
   "execution_count": 153,
   "metadata": {},
   "outputs": [
    {
     "data": {
      "text/plain": [
       "[(0, 1], (-1, 0], (0, 1], (0, 1], (0, 1], ..., (-1, 0], (0, 1], (-1, 0], (-1, 0], (0, 1]]\n",
       "Length: 20\n",
       "Categories (4, interval[int64]): [(-5, -1] < (-1, 0] < (0, 1] < (1, 5]]"
      ]
     },
     "execution_count": 153,
     "metadata": {},
     "output_type": "execute_result"
    }
   ],
   "source": [
    "factor"
   ]
  },
  {
   "cell_type": "code",
   "execution_count": 154,
   "metadata": {},
   "outputs": [],
   "source": [
    "arr = np.random.randn(30)"
   ]
  },
  {
   "cell_type": "code",
   "execution_count": 155,
   "metadata": {},
   "outputs": [
    {
     "data": {
      "text/plain": [
       "array([-1.24637083, -1.9086062 ,  0.28523412,  0.91359233, -1.01086452,\n",
       "        0.59916767, -0.59331338,  0.04735298,  0.57958753,  2.47710398,\n",
       "       -0.59181171, -0.78168733,  1.15742048,  0.60780649,  0.66866562,\n",
       "       -0.80588128,  0.97136787, -1.34554029, -0.64233756,  1.23448069,\n",
       "       -0.27984827,  2.20350422,  0.09996483,  1.03171303,  1.11998625,\n",
       "        1.48193321, -0.16609505, -0.17753791,  0.504189  , -1.05717501])"
      ]
     },
     "execution_count": 155,
     "metadata": {},
     "output_type": "execute_result"
    }
   ],
   "source": [
    "arr"
   ]
  },
  {
   "cell_type": "code",
   "execution_count": 156,
   "metadata": {},
   "outputs": [],
   "source": [
    "factor = pd.qcut(arr, [0, .25, .5, .75, 1])"
   ]
  },
  {
   "cell_type": "code",
   "execution_count": 157,
   "metadata": {},
   "outputs": [
    {
     "data": {
      "text/plain": [
       "[(-1.91, -0.63], (-1.91, -0.63], (0.193, 0.957], (0.193, 0.957], (-1.91, -0.63], ..., (0.957, 2.477], (-0.63, 0.193], (-0.63, 0.193], (0.193, 0.957], (-1.91, -0.63]]\n",
       "Length: 30\n",
       "Categories (4, interval[float64]): [(-1.91, -0.63] < (-0.63, 0.193] < (0.193, 0.957] < (0.957, 2.477]]"
      ]
     },
     "execution_count": 157,
     "metadata": {},
     "output_type": "execute_result"
    }
   ],
   "source": [
    "factor"
   ]
  },
  {
   "cell_type": "code",
   "execution_count": 158,
   "metadata": {},
   "outputs": [
    {
     "data": {
      "text/plain": [
       "(0.957, 2.477]    8\n",
       "(-1.91, -0.63]    8\n",
       "(0.193, 0.957]    7\n",
       "(-0.63, 0.193]    7\n",
       "dtype: int64"
      ]
     },
     "execution_count": 158,
     "metadata": {},
     "output_type": "execute_result"
    }
   ],
   "source": [
    "pd.value_counts(factor)"
   ]
  },
  {
   "cell_type": "code",
   "execution_count": 159,
   "metadata": {},
   "outputs": [],
   "source": [
    "arr = np.random.randn(20)"
   ]
  },
  {
   "cell_type": "code",
   "execution_count": 160,
   "metadata": {},
   "outputs": [],
   "source": [
    "factor = pd.cut(arr, [-np.inf, 0, np.inf])"
   ]
  },
  {
   "cell_type": "code",
   "execution_count": 161,
   "metadata": {},
   "outputs": [
    {
     "data": {
      "text/plain": [
       "[(0.0, inf], (0.0, inf], (-inf, 0.0], (0.0, inf], (-inf, 0.0], ..., (-inf, 0.0], (-inf, 0.0], (-inf, 0.0], (-inf, 0.0], (-inf, 0.0]]\n",
       "Length: 20\n",
       "Categories (2, interval[float64]): [(-inf, 0.0] < (0.0, inf]]"
      ]
     },
     "execution_count": 161,
     "metadata": {},
     "output_type": "execute_result"
    }
   ],
   "source": [
    "factor"
   ]
  },
  {
   "cell_type": "code",
   "execution_count": 162,
   "metadata": {},
   "outputs": [
    {
     "data": {
      "text/html": [
       "<div>\n",
       "<style scoped>\n",
       "    .dataframe tbody tr th:only-of-type {\n",
       "        vertical-align: middle;\n",
       "    }\n",
       "\n",
       "    .dataframe tbody tr th {\n",
       "        vertical-align: top;\n",
       "    }\n",
       "\n",
       "    .dataframe thead th {\n",
       "        text-align: right;\n",
       "    }\n",
       "</style>\n",
       "<table border=\"1\" class=\"dataframe\">\n",
       "  <thead>\n",
       "    <tr style=\"text-align: right;\">\n",
       "      <th></th>\n",
       "      <th>home_team</th>\n",
       "      <th>away_team</th>\n",
       "      <th>home_goals</th>\n",
       "      <th>away_goals</th>\n",
       "      <th>result</th>\n",
       "      <th>season</th>\n",
       "    </tr>\n",
       "  </thead>\n",
       "  <tbody>\n",
       "    <tr>\n",
       "      <th>0</th>\n",
       "      <td>TottenhamHotspur</td>\n",
       "      <td>ManchesterCity</td>\n",
       "      <td>0</td>\n",
       "      <td>0</td>\n",
       "      <td>D</td>\n",
       "      <td>2010-2011</td>\n",
       "    </tr>\n",
       "    <tr>\n",
       "      <th>1</th>\n",
       "      <td>AstonVilla</td>\n",
       "      <td>WestHamUnited</td>\n",
       "      <td>3</td>\n",
       "      <td>0</td>\n",
       "      <td>H</td>\n",
       "      <td>2010-2011</td>\n",
       "    </tr>\n",
       "    <tr>\n",
       "      <th>2</th>\n",
       "      <td>BlackburnRovers</td>\n",
       "      <td>Everton</td>\n",
       "      <td>1</td>\n",
       "      <td>0</td>\n",
       "      <td>H</td>\n",
       "      <td>2010-2011</td>\n",
       "    </tr>\n",
       "    <tr>\n",
       "      <th>3</th>\n",
       "      <td>BoltonWanderers</td>\n",
       "      <td>Fulham</td>\n",
       "      <td>0</td>\n",
       "      <td>0</td>\n",
       "      <td>D</td>\n",
       "      <td>2010-2011</td>\n",
       "    </tr>\n",
       "    <tr>\n",
       "      <th>4</th>\n",
       "      <td>Sunderland</td>\n",
       "      <td>BirminghamCity</td>\n",
       "      <td>2</td>\n",
       "      <td>2</td>\n",
       "      <td>D</td>\n",
       "      <td>2010-2011</td>\n",
       "    </tr>\n",
       "    <tr>\n",
       "      <th>...</th>\n",
       "      <td>...</td>\n",
       "      <td>...</td>\n",
       "      <td>...</td>\n",
       "      <td>...</td>\n",
       "      <td>...</td>\n",
       "      <td>...</td>\n",
       "    </tr>\n",
       "    <tr>\n",
       "      <th>3663</th>\n",
       "      <td>Liverpool</td>\n",
       "      <td>Southampton</td>\n",
       "      <td>4</td>\n",
       "      <td>0</td>\n",
       "      <td>H</td>\n",
       "      <td>NaN</td>\n",
       "    </tr>\n",
       "    <tr>\n",
       "      <th>3664</th>\n",
       "      <td>NewcastleUnited</td>\n",
       "      <td>NorwichCity</td>\n",
       "      <td>0</td>\n",
       "      <td>0</td>\n",
       "      <td>D</td>\n",
       "      <td>NaN</td>\n",
       "    </tr>\n",
       "    <tr>\n",
       "      <th>3665</th>\n",
       "      <td>Watford</td>\n",
       "      <td>Everton</td>\n",
       "      <td>2</td>\n",
       "      <td>3</td>\n",
       "      <td>A</td>\n",
       "      <td>NaN</td>\n",
       "    </tr>\n",
       "    <tr>\n",
       "      <th>3666</th>\n",
       "      <td>WestHamUnited</td>\n",
       "      <td>BrightonandHoveAlbion</td>\n",
       "      <td>3</td>\n",
       "      <td>3</td>\n",
       "      <td>D</td>\n",
       "      <td>NaN</td>\n",
       "    </tr>\n",
       "    <tr>\n",
       "      <th>3667</th>\n",
       "      <td>ManchesterUnited</td>\n",
       "      <td>WolverhamptonWanderers</td>\n",
       "      <td>0</td>\n",
       "      <td>0</td>\n",
       "      <td>D</td>\n",
       "      <td>NaN</td>\n",
       "    </tr>\n",
       "  </tbody>\n",
       "</table>\n",
       "<p>3668 rows × 6 columns</p>\n",
       "</div>"
      ],
      "text/plain": [
       "             home_team               away_team  home_goals  away_goals result  \\\n",
       "0     TottenhamHotspur          ManchesterCity           0           0      D   \n",
       "1           AstonVilla           WestHamUnited           3           0      H   \n",
       "2      BlackburnRovers                 Everton           1           0      H   \n",
       "3      BoltonWanderers                  Fulham           0           0      D   \n",
       "4           Sunderland          BirminghamCity           2           2      D   \n",
       "...                ...                     ...         ...         ...    ...   \n",
       "3663         Liverpool             Southampton           4           0      H   \n",
       "3664   NewcastleUnited             NorwichCity           0           0      D   \n",
       "3665           Watford                 Everton           2           3      A   \n",
       "3666     WestHamUnited   BrightonandHoveAlbion           3           3      D   \n",
       "3667  ManchesterUnited  WolverhamptonWanderers           0           0      D   \n",
       "\n",
       "         season  \n",
       "0     2010-2011  \n",
       "1     2010-2011  \n",
       "2     2010-2011  \n",
       "3     2010-2011  \n",
       "4     2010-2011  \n",
       "...         ...  \n",
       "3663        NaN  \n",
       "3664        NaN  \n",
       "3665        NaN  \n",
       "3666        NaN  \n",
       "3667        NaN  \n",
       "\n",
       "[3668 rows x 6 columns]"
      ]
     },
     "execution_count": 162,
     "metadata": {},
     "output_type": "execute_result"
    }
   ],
   "source": [
    "df = pd.read_csv('premier_league.csv')\n",
    "df"
   ]
  },
  {
   "cell_type": "code",
   "execution_count": 163,
   "metadata": {},
   "outputs": [],
   "source": [
    "def extract_city_name(df):\n",
    "    df['city_name'] = df['city_and_code'].str.split(\",\").str.get(0)\n",
    "    return df\n",
    "\n",
    "def add_country_name(df, country_name = None):\n",
    "    col = 'city_name'\n",
    "    df['city_and_country'] = df[col] + country_name\n",
    "    return df\n",
    "\n",
    "df_p = pd.DataFrame({'city_and_code' : ['Chicago, IL']})"
   ]
  },
  {
   "cell_type": "code",
   "execution_count": 164,
   "metadata": {},
   "outputs": [
    {
     "name": "stdout",
     "output_type": "stream",
     "text": [
      "|    | city_and_code   | city_name   | city_and_country   |\n",
      "|---:|:----------------|:------------|:-------------------|\n",
      "|  0 | Chicago, IL     | Chicago     | ChicagoUS          |\n"
     ]
    }
   ],
   "source": [
    "tmp = add_country_name(extract_city_name(df_p), country_name='US')\n",
    "print(tmp.to_markdown())"
   ]
  },
  {
   "cell_type": "code",
   "execution_count": 165,
   "metadata": {},
   "outputs": [
    {
     "name": "stdout",
     "output_type": "stream",
     "text": [
      "|    | city_and_code   | city_name   | city_and_country   |\n",
      "|---:|:----------------|:------------|:-------------------|\n",
      "|  0 | Chicago, IL     | Chicago     | ChicagoUS          |\n"
     ]
    }
   ],
   "source": [
    "tmp = (df_p.pipe(extract_city_name)\n",
    "     .pipe(add_country_name, country_name='US'))\n",
    "print(tmp.to_markdown())"
   ]
  },
  {
   "cell_type": "code",
   "execution_count": 166,
   "metadata": {},
   "outputs": [
    {
     "data": {
      "text/plain": [
       "0       0.0\n",
       "1       3.0\n",
       "2       1.0\n",
       "3       0.0\n",
       "4       2.0\n",
       "       ... \n",
       "3663    4.0\n",
       "3664    0.0\n",
       "3665    2.0\n",
       "3666    3.0\n",
       "3667    0.0\n",
       "Name: home_goals, Length: 3668, dtype: float64"
      ]
     },
     "execution_count": 166,
     "metadata": {},
     "output_type": "execute_result"
    }
   ],
   "source": [
    "df['home_goals'].apply(np.mean)"
   ]
  },
  {
   "cell_type": "code",
   "execution_count": 167,
   "metadata": {},
   "outputs": [
    {
     "data": {
      "text/plain": [
       "home_goals    1.551799\n",
       "away_goals    1.198201\n",
       "dtype: float64"
      ]
     },
     "execution_count": 167,
     "metadata": {},
     "output_type": "execute_result"
    }
   ],
   "source": [
    "df.apply('mean')"
   ]
  },
  {
   "cell_type": "code",
   "execution_count": 168,
   "metadata": {},
   "outputs": [
    {
     "data": {
      "text/plain": [
       "A   2002-07-13\n",
       "B   2001-10-05\n",
       "C   2001-01-07\n",
       "dtype: datetime64[ns]"
      ]
     },
     "execution_count": 168,
     "metadata": {},
     "output_type": "execute_result"
    }
   ],
   "source": [
    "tsdf = pd.DataFrame(np.random.randn(1000, 3), columns=['A','B','C'],\n",
    "                   index=pd.date_range('1/1/2000', periods=1000))\n",
    "\n",
    "tsdf.apply(lambda x : x.idxmax())"
   ]
  },
  {
   "cell_type": "code",
   "execution_count": 169,
   "metadata": {
    "scrolled": true
   },
   "outputs": [
    {
     "name": "stdout",
     "output_type": "stream",
     "text": [
      "|                     |         A |         B |         C |\n",
      "|:--------------------|----------:|----------:|----------:|\n",
      "| 2000-01-01 00:00:00 | -2.13635  | -1.70312  | -1.45989  |\n",
      "| 2000-01-02 00:00:00 | -2.35437  | -1.61038  | -1.58392  |\n",
      "| 2000-01-03 00:00:00 | -1.52649  | -1.92751  | -1.75699  |\n",
      "| 2000-01-04 00:00:00 | -1.73027  | -2.13232  | -1.51315  |\n",
      "| 2000-01-05 00:00:00 | -2.10197  | -1.73646  | -1.76386  |\n",
      "| 2000-01-06 00:00:00 | -1.29188  | -1.7668   | -1.51203  |\n",
      "| 2000-01-07 00:00:00 | -1.67286  | -1.72048  | -1.50212  |\n",
      "| 2000-01-08 00:00:00 | -1.82995  | -1.49564  | -1.67545  |\n",
      "| 2000-01-09 00:00:00 | -1.83546  | -1.63432  | -1.77109  |\n",
      "| 2000-01-10 00:00:00 | -0.803199 | -1.47979  | -1.32354  |\n",
      "| 2000-01-11 00:00:00 | -1.50214  | -1.09235  | -1.78498  |\n",
      "| 2000-01-12 00:00:00 | -1.91905  | -1.0225   | -1.87112  |\n",
      "| 2000-01-13 00:00:00 | -1.50502  | -1.17936  | -1.52888  |\n",
      "| 2000-01-14 00:00:00 | -1.73014  | -1.5039   | -1.7874   |\n",
      "| 2000-01-15 00:00:00 | -1.02178  | -1.41531  | -1.9186   |\n",
      "| 2000-01-16 00:00:00 | -1.72402  | -0.97516  | -1.45388  |\n",
      "| 2000-01-17 00:00:00 | -1.45501  | -2.07479  | -1.93522  |\n",
      "| 2000-01-18 00:00:00 | -1.82286  | -1.17163  | -1.67379  |\n",
      "| 2000-01-19 00:00:00 | -1.80884  | -1.7301   | -1.45931  |\n",
      "| 2000-01-20 00:00:00 | -1.85433  | -1.67013  | -2.23977  |\n",
      "| 2000-01-21 00:00:00 | -1.52787  | -0.929593 | -1.65706  |\n",
      "| 2000-01-22 00:00:00 | -1.96579  | -2.16003  | -1.88876  |\n",
      "| 2000-01-23 00:00:00 | -0.816832 | -1.3295   | -2.08415  |\n",
      "| 2000-01-24 00:00:00 | -1.3113   | -1.93685  | -1.5138   |\n",
      "| 2000-01-25 00:00:00 | -1.66447  | -1.9587   | -1.73624  |\n",
      "| 2000-01-26 00:00:00 | -1.20262  | -2.40712  | -1.83082  |\n",
      "| 2000-01-27 00:00:00 | -1.12014  | -1.47991  | -1.67246  |\n",
      "| 2000-01-28 00:00:00 | -1.23738  | -2.14362  | -1.64888  |\n",
      "| 2000-01-29 00:00:00 | -1.73205  | -1.49996  | -1.36023  |\n",
      "| 2000-01-30 00:00:00 | -1.18732  | -1.87886  | -2.2447   |\n",
      "| 2000-01-31 00:00:00 | -1.49532  | -1.73293  | -1.82104  |\n",
      "| 2000-02-01 00:00:00 | -1.83748  | -2.07306  | -1.26599  |\n",
      "| 2000-02-02 00:00:00 | -1.47986  | -1.35452  | -1.23584  |\n",
      "| 2000-02-03 00:00:00 | -2.0377   | -1.4968   | -1.29857  |\n",
      "| 2000-02-04 00:00:00 | -1.55052  | -1.9036   | -1.4138   |\n",
      "| 2000-02-05 00:00:00 | -1.68459  | -2.32261  | -1.60333  |\n",
      "| 2000-02-06 00:00:00 | -1.69298  | -1.26223  | -1.34379  |\n",
      "| 2000-02-07 00:00:00 | -1.36862  | -1.66074  | -2.12229  |\n",
      "| 2000-02-08 00:00:00 | -1.25218  | -1.91796  | -1.48008  |\n",
      "| 2000-02-09 00:00:00 | -1.46408  | -1.56968  | -1.44338  |\n",
      "| 2000-02-10 00:00:00 | -1.84564  | -1.56922  | -1.46454  |\n",
      "| 2000-02-11 00:00:00 | -1.54679  | -2.0206   | -1.88191  |\n",
      "| 2000-02-12 00:00:00 | -1.97869  | -2.15531  | -1.30532  |\n",
      "| 2000-02-13 00:00:00 | -1.95304  | -1.79774  | -1.28869  |\n",
      "| 2000-02-14 00:00:00 | -1.67826  | -1.1364   | -1.81865  |\n",
      "| 2000-02-15 00:00:00 | -1.37555  | -1.61038  | -1.78045  |\n",
      "| 2000-02-16 00:00:00 | -1.34071  | -2.60992  | -0.898563 |\n",
      "| 2000-02-17 00:00:00 | -1.54077  | -1.5497   | -1.38806  |\n",
      "| 2000-02-18 00:00:00 | -1.59519  | -1.35804  | -1.67686  |\n",
      "| 2000-02-19 00:00:00 | -2.02824  | -1.38399  | -1.57164  |\n",
      "| 2000-02-20 00:00:00 | -1.47714  | -1.50412  | -1.30373  |\n",
      "| 2000-02-21 00:00:00 | -1.86764  | -1.60723  | -0.986823 |\n",
      "| 2000-02-22 00:00:00 | -1.60369  | -2.06749  | -1.96393  |\n",
      "| 2000-02-23 00:00:00 | -2.16016  | -1.82366  | -2.01063  |\n",
      "| 2000-02-24 00:00:00 | -1.73061  | -1.10809  | -1.34649  |\n",
      "| 2000-02-25 00:00:00 | -1.49748  | -1.87574  | -2.04296  |\n",
      "| 2000-02-26 00:00:00 | -1.2601   | -1.31686  | -1.50514  |\n",
      "| 2000-02-27 00:00:00 | -2.20352  | -1.23087  | -1.76302  |\n",
      "| 2000-02-28 00:00:00 | -2.28024  | -1.67836  | -2.43468  |\n",
      "| 2000-02-29 00:00:00 | -1.45544  | -1.70593  | -2.44983  |\n",
      "| 2000-03-01 00:00:00 | -1.31238  | -2.12046  | -2.14936  |\n",
      "| 2000-03-02 00:00:00 | -1.91819  | -1.80947  | -1.71951  |\n",
      "| 2000-03-03 00:00:00 | -2.05408  | -1.69477  | -1.32047  |\n",
      "| 2000-03-04 00:00:00 | -2.03872  | -1.29283  | -1.11595  |\n",
      "| 2000-03-05 00:00:00 | -1.29847  | -1.93334  | -1.56929  |\n",
      "| 2000-03-06 00:00:00 | -2.05937  | -2.33514  | -2.0931   |\n",
      "| 2000-03-07 00:00:00 | -1.56057  | -1.79924  | -1.91462  |\n",
      "| 2000-03-08 00:00:00 | -1.14673  | -1.49076  | -1.82493  |\n",
      "| 2000-03-09 00:00:00 | -0.864268 | -1.61846  | -1.85433  |\n",
      "| 2000-03-10 00:00:00 | -2.21597  | -1.69175  | -1.27625  |\n",
      "| 2000-03-11 00:00:00 | -1.82838  | -1.73107  | -1.56977  |\n",
      "| 2000-03-12 00:00:00 | -1.2697   | -2.62147  | -1.56014  |\n",
      "| 2000-03-13 00:00:00 | -1.89572  | -1.92875  | -1.28842  |\n",
      "| 2000-03-14 00:00:00 | -1.24549  | -1.46686  | -2.31938  |\n",
      "| 2000-03-15 00:00:00 | -1.44802  | -1.26076  | -1.76234  |\n",
      "| 2000-03-16 00:00:00 | -2.32376  | -1.54282  | -1.7016   |\n",
      "| 2000-03-17 00:00:00 | -1.24472  | -1.42481  | -2.06191  |\n",
      "| 2000-03-18 00:00:00 | -1.77361  | -2.02371  | -2.02845  |\n",
      "| 2000-03-19 00:00:00 | -1.84628  | -0.714847 | -1.79593  |\n",
      "| 2000-03-20 00:00:00 | -1.6615   | -1.77687  | -1.14624  |\n",
      "| 2000-03-21 00:00:00 | -1.52267  | -2.0071   | -1.57792  |\n",
      "| 2000-03-22 00:00:00 | -2.49335  | -2.10572  | -2.61949  |\n",
      "| 2000-03-23 00:00:00 | -0.850058 | -2.01986  | -2.06129  |\n",
      "| 2000-03-24 00:00:00 | -1.6129   | -1.36     | -1.25648  |\n",
      "| 2000-03-25 00:00:00 | -1.72441  | -1.53502  | -1.55274  |\n",
      "| 2000-03-26 00:00:00 | -2.3045   | -1.44083  | -2.26681  |\n",
      "| 2000-03-27 00:00:00 | -1.2701   | -1.56151  | -1.3431   |\n",
      "| 2000-03-28 00:00:00 | -1.98803  | -2.19334  | -1.51543  |\n",
      "| 2000-03-29 00:00:00 | -2.11068  | -1.85727  | -1.80445  |\n",
      "| 2000-03-30 00:00:00 | -1.90399  | -1.23577  | -2.0576   |\n",
      "| 2000-03-31 00:00:00 | -1.07905  | -1.66922  | -1.6724   |\n",
      "| 2000-04-01 00:00:00 | -1.57504  | -0.967441 | -1.34496  |\n",
      "| 2000-04-02 00:00:00 | -1.98208  | -1.49426  | -1.49772  |\n",
      "| 2000-04-03 00:00:00 | -1.4063   | -1.69396  | -1.81888  |\n",
      "| 2000-04-04 00:00:00 | -2.41341  | -1.69823  | -1.1208   |\n",
      "| 2000-04-05 00:00:00 | -2.16959  | -1.98046  | -1.31182  |\n",
      "| 2000-04-06 00:00:00 | -1.73838  | -1.41389  | -1.90508  |\n",
      "| 2000-04-07 00:00:00 | -1.29522  | -1.97646  | -1.19702  |\n",
      "| 2000-04-08 00:00:00 | -2.0422   | -1.20304  | -1.81274  |\n",
      "| 2000-04-09 00:00:00 | -1.30618  | -1.80369  | -1.22568  |\n",
      "| 2000-04-10 00:00:00 | -1.42692  | -1.78564  | -0.966391 |\n",
      "| 2000-04-11 00:00:00 | -1.32193  | -1.32646  | -2.36215  |\n",
      "| 2000-04-12 00:00:00 | -1.9208   | -1.33477  | -1.77995  |\n",
      "| 2000-04-13 00:00:00 | -0.948687 | -1.26792  | -1.89845  |\n",
      "| 2000-04-14 00:00:00 | -1.98221  | -2.36592  | -1.51442  |\n",
      "| 2000-04-15 00:00:00 | -2.33875  | -1.32596  | -1.1724   |\n",
      "| 2000-04-16 00:00:00 | -1.48973  | -2.34483  | -1.6731   |\n",
      "| 2000-04-17 00:00:00 | -1.81718  | -2.06681  | -1.23971  |\n",
      "| 2000-04-18 00:00:00 | -1.91125  | -1.54115  | -1.11506  |\n",
      "| 2000-04-19 00:00:00 | -1.55674  | -1.29203  | -1.68105  |\n",
      "| 2000-04-20 00:00:00 | -1.74803  | -1.39003  | -2.09211  |\n",
      "| 2000-04-21 00:00:00 | -1.78117  | -1.96264  | -1.49957  |\n",
      "| 2000-04-22 00:00:00 | -1.94512  | -1.73722  | -1.54595  |\n",
      "| 2000-04-23 00:00:00 | -1.53694  | -1.11423  | -1.79812  |\n",
      "| 2000-04-24 00:00:00 | -1.51172  | -2.43503  | -2.44464  |\n",
      "| 2000-04-25 00:00:00 | -1.98769  | -1.93223  | -2.09203  |\n",
      "| 2000-04-26 00:00:00 | -1.52513  | -1.4274   | -1.8475   |\n",
      "| 2000-04-27 00:00:00 | -0.71548  | -1.41677  | -1.15831  |\n",
      "| 2000-04-28 00:00:00 | -1.96221  | -2.35159  | -1.86689  |\n",
      "| 2000-04-29 00:00:00 | -1.37331  | -1.59069  | -2.27525  |\n",
      "| 2000-04-30 00:00:00 | -1.83925  | -1.42848  | -1.88445  |\n",
      "| 2000-05-01 00:00:00 | -1.48192  | -1.9188   | -1.52161  |\n",
      "| 2000-05-02 00:00:00 | -1.74039  | -2.11956  | -1.52716  |\n",
      "| 2000-05-03 00:00:00 | -1.51756  | -1.63355  | -1.24095  |\n",
      "| 2000-05-04 00:00:00 | -0.818869 | -1.4535   | -2.32375  |\n",
      "| 2000-05-05 00:00:00 | -1.86006  | -1.15415  | -1.86744  |\n",
      "| 2000-05-06 00:00:00 | -1.64781  | -1.41105  | -1.94634  |\n",
      "| 2000-05-07 00:00:00 | -2.26638  | -2.19268  | -2.02234  |\n",
      "| 2000-05-08 00:00:00 | -1.91783  | -2.35867  | -1.64421  |\n",
      "| 2000-05-09 00:00:00 | -1.69038  | -1.97788  | -1.80946  |\n",
      "| 2000-05-10 00:00:00 | -1.43829  | -2.03134  | -1.26243  |\n",
      "| 2000-05-11 00:00:00 | -1.70269  | -1.81357  | -2.28731  |\n",
      "| 2000-05-12 00:00:00 | -1.60866  | -1.14008  | -1.90768  |\n",
      "| 2000-05-13 00:00:00 | -1.49733  | -1.25923  | -2.37137  |\n",
      "| 2000-05-14 00:00:00 | -2.08466  | -1.73936  | -1.8971   |\n",
      "| 2000-05-15 00:00:00 | -1.48922  | -2.02626  | -1.84558  |\n",
      "| 2000-05-16 00:00:00 | -1.10345  | -1.86834  | -1.70254  |\n",
      "| 2000-05-17 00:00:00 | -1.99108  | -2.05538  | -1.84077  |\n",
      "| 2000-05-18 00:00:00 | -1.60625  | -1.84846  | -1.85437  |\n",
      "| 2000-05-19 00:00:00 | -1.31028  | -1.84868  | -1.52269  |\n",
      "| 2000-05-20 00:00:00 | -1.21597  | -1.78306  | -2.09919  |\n",
      "| 2000-05-21 00:00:00 | -1.73126  | -1.48047  | -1.82873  |\n",
      "| 2000-05-22 00:00:00 | -1.72304  | -1.12064  | -1.74459  |\n",
      "| 2000-05-23 00:00:00 | -0.834328 | -1.53655  | -1.37042  |\n",
      "| 2000-05-24 00:00:00 | -1.24736  | -1.57787  | -1.94725  |\n",
      "| 2000-05-25 00:00:00 | -1.64307  | -1.54441  | -1.03348  |\n",
      "| 2000-05-26 00:00:00 | -0.938432 | -1.64757  | -1.0418   |\n",
      "| 2000-05-27 00:00:00 | -2.00473  | -1.36525  | -1.9283   |\n",
      "| 2000-05-28 00:00:00 | -0.929168 | -1.98405  | -0.668547 |\n",
      "| 2000-05-29 00:00:00 | -1.20618  | -1.09572  | -1.42448  |\n",
      "| 2000-05-30 00:00:00 | -2.07494  | -1.65866  | -1.71298  |\n",
      "| 2000-05-31 00:00:00 | -1.7412   | -1.76507  | -1.4722   |\n",
      "| 2000-06-01 00:00:00 | -1.55545  | -1.72189  | -1.9448   |\n",
      "| 2000-06-02 00:00:00 | -1.42072  | -1.62086  | -1.43395  |\n",
      "| 2000-06-03 00:00:00 | -1.13934  | -2.12696  | -1.5084   |\n",
      "| 2000-06-04 00:00:00 | -1.37683  | -2.18823  | -1.77432  |\n",
      "| 2000-06-05 00:00:00 | -1.77257  | -1.4958   | -0.974521 |\n",
      "| 2000-06-06 00:00:00 | -2.06854  | -1.91545  | -1.93047  |\n",
      "| 2000-06-07 00:00:00 | -1.96169  | -1.47358  | -1.40247  |\n",
      "| 2000-06-08 00:00:00 | -1.99469  | -1.25118  | -1.78276  |\n",
      "| 2000-06-09 00:00:00 | -1.29135  | -1.69278  | -1.47813  |\n",
      "| 2000-06-10 00:00:00 | -1.83633  | -1.84871  | -1.84122  |\n",
      "| 2000-06-11 00:00:00 | -1.86635  | -2.26469  | -1.55235  |\n",
      "| 2000-06-12 00:00:00 | -1.41916  | -1.36164  | -1.11972  |\n",
      "| 2000-06-13 00:00:00 | -1.67557  | -1.70772  | -1.95973  |\n",
      "| 2000-06-14 00:00:00 | -1.46445  | -1.89152  | -1.55123  |\n",
      "| 2000-06-15 00:00:00 | -2.01516  | -1.69693  | -1.96018  |\n",
      "| 2000-06-16 00:00:00 | -1.2142   | -1.61174  | -1.75911  |\n",
      "| 2000-06-17 00:00:00 | -1.42374  | -1.93356  | -1.4182   |\n",
      "| 2000-06-18 00:00:00 | -2.02229  | -2.36937  | -1.5012   |\n",
      "| 2000-06-19 00:00:00 | -1.5842   | -1.21686  | -1.77536  |\n",
      "| 2000-06-20 00:00:00 | -1.89431  | -1.32784  | -1.4388   |\n",
      "| 2000-06-21 00:00:00 | -1.90106  | -1.3992   | -2.60726  |\n",
      "| 2000-06-22 00:00:00 | -2.8996   | -1.4427   | -1.01272  |\n",
      "| 2000-06-23 00:00:00 | -1.12326  | -1.72823  | -2.39363  |\n",
      "| 2000-06-24 00:00:00 | -1.58249  | -1.4332   | -1.38122  |\n",
      "| 2000-06-25 00:00:00 | -1.22669  | -2.02383  | -1.57001  |\n",
      "| 2000-06-26 00:00:00 | -2.09584  | -1.50435  | -2.06994  |\n",
      "| 2000-06-27 00:00:00 | -1.43758  | -1.30908  | -1.60612  |\n",
      "| 2000-06-28 00:00:00 | -1.48311  | -1.46247  | -1.67468  |\n",
      "| 2000-06-29 00:00:00 | -2.48116  | -1.60815  | -1.77062  |\n",
      "| 2000-06-30 00:00:00 | -1.69833  | -1.74603  | -1.99419  |\n",
      "| 2000-07-01 00:00:00 | -1.46167  | -1.36993  | -1.33518  |\n",
      "| 2000-07-02 00:00:00 | -1.86317  | -0.886877 | -1.53535  |\n",
      "| 2000-07-03 00:00:00 | -1.81186  | -1.37267  | -1.45423  |\n",
      "| 2000-07-04 00:00:00 | -1.65317  | -1.75926  | -2.28853  |\n",
      "| 2000-07-05 00:00:00 | -1.52625  | -1.956    | -1.72998  |\n",
      "| 2000-07-06 00:00:00 | -1.76232  | -2.04089  | -1.92271  |\n",
      "| 2000-07-07 00:00:00 | -1.726    | -1.69543  | -1.77287  |\n",
      "| 2000-07-08 00:00:00 | -1.89396  | -1.54943  | -1.21002  |\n",
      "| 2000-07-09 00:00:00 | -1.01846  | -1.54171  | -1.37736  |\n",
      "| 2000-07-10 00:00:00 | -1.71666  | -2.13848  | -0.826496 |\n",
      "| 2000-07-11 00:00:00 | -1.37919  | -1.32853  | -1.36351  |\n",
      "| 2000-07-12 00:00:00 | -1.73554  | -1.63109  | -2.19864  |\n",
      "| 2000-07-13 00:00:00 | -1.42917  | -1.31099  | -1.366    |\n",
      "| 2000-07-14 00:00:00 | -1.50245  | -1.79071  | -1.55706  |\n",
      "| 2000-07-15 00:00:00 | -1.61487  | -1.35653  | -1.57798  |\n",
      "| 2000-07-16 00:00:00 | -1.90249  | -1.54591  | -2.14984  |\n",
      "| 2000-07-17 00:00:00 | -2.04953  | -1.4277   | -1.56696  |\n",
      "| 2000-07-18 00:00:00 | -1.22006  | -1.88035  | -2.12676  |\n",
      "| 2000-07-19 00:00:00 | -1.77908  | -1.11996  | -1.35238  |\n",
      "| 2000-07-20 00:00:00 | -1.81163  | -1.32386  | -1.60078  |\n",
      "| 2000-07-21 00:00:00 | -1.84034  | -1.96004  | -1.83015  |\n",
      "| 2000-07-22 00:00:00 | -1.51917  | -1.98673  | -1.11282  |\n",
      "| 2000-07-23 00:00:00 | -1.86121  | -1.81436  | -1.99614  |\n",
      "| 2000-07-24 00:00:00 | -0.882667 | -1.69873  | -1.38743  |\n",
      "| 2000-07-25 00:00:00 | -1.73321  | -1.74169  | -1.82788  |\n",
      "| 2000-07-26 00:00:00 | -1.88994  | -1.50272  | -0.937563 |\n",
      "| 2000-07-27 00:00:00 | -1.16835  | -0.901622 | -1.69438  |\n",
      "| 2000-07-28 00:00:00 | -1.2474   | -1.70733  | -2.28342  |\n",
      "| 2000-07-29 00:00:00 | -1.82302  | -1.68185  | -2.01698  |\n",
      "| 2000-07-30 00:00:00 | -1.90618  | -2.15294  | -2.22583  |\n",
      "| 2000-07-31 00:00:00 | -1.54128  | -2.13534  | -1.41429  |\n",
      "| 2000-08-01 00:00:00 | -1.78691  | -2.34717  | -1.72753  |\n",
      "| 2000-08-02 00:00:00 | -1.77011  | -1.55278  | -1.39367  |\n",
      "| 2000-08-03 00:00:00 | -1.82005  | -1.98788  | -2.23958  |\n",
      "| 2000-08-04 00:00:00 | -1.25     | -1.57705  | -1.58879  |\n",
      "| 2000-08-05 00:00:00 | -1.69677  | -1.88022  | -2.09655  |\n",
      "| 2000-08-06 00:00:00 | -1.38016  | -1.1412   | -1.03648  |\n",
      "| 2000-08-07 00:00:00 | -1.85606  | -1.40186  | -1.32237  |\n",
      "| 2000-08-08 00:00:00 | -1.88969  | -1.74896  | -2.51136  |\n",
      "| 2000-08-09 00:00:00 | -1.36059  | -1.48676  | -1.35622  |\n",
      "| 2000-08-10 00:00:00 | -1.80428  | -1.69728  | -2.21279  |\n",
      "| 2000-08-11 00:00:00 | -1.55222  | -1.50457  | -1.39836  |\n",
      "| 2000-08-12 00:00:00 | -2.09833  | -0.972308 | -1.68533  |\n",
      "| 2000-08-13 00:00:00 | -1.32135  | -1.39634  | -1.73977  |\n",
      "| 2000-08-14 00:00:00 | -1.64795  | -1.93105  | -1.28401  |\n",
      "| 2000-08-15 00:00:00 | -2.01474  | -1.19984  | -1.99291  |\n",
      "| 2000-08-16 00:00:00 | -1.56012  | -0.93206  | -1.76958  |\n",
      "| 2000-08-17 00:00:00 | -1.578    | -1.91993  | -1.60628  |\n",
      "| 2000-08-18 00:00:00 | -2.04306  | -1.52287  | -1.74113  |\n",
      "| 2000-08-19 00:00:00 | -1.70666  | -1.34318  | -1.807    |\n",
      "| 2000-08-20 00:00:00 | -1.76094  | -1.9208   | -1.59642  |\n",
      "| 2000-08-21 00:00:00 | -1.42058  | -1.18144  | -1.53732  |\n",
      "| 2000-08-22 00:00:00 | -2.42231  | -1.81714  | -2.1422   |\n",
      "| 2000-08-23 00:00:00 | -2.44102  | -1.39031  | -1.61941  |\n",
      "| 2000-08-24 00:00:00 | -1.71601  | -1.80168  | -1.51069  |\n",
      "| 2000-08-25 00:00:00 | -1.64244  | -1.71458  | -1.78733  |\n",
      "| 2000-08-26 00:00:00 | -2.18269  | -1.39915  | -1.77389  |\n",
      "| 2000-08-27 00:00:00 | -1.92863  | -1.56406  | -2.37348  |\n",
      "| 2000-08-28 00:00:00 | -1.46324  | -1.69016  | -1.73978  |\n",
      "| 2000-08-29 00:00:00 | -1.93911  | -1.91498  | -1.77037  |\n",
      "| 2000-08-30 00:00:00 | -2.07602  | -1.5779   | -1.27258  |\n",
      "| 2000-08-31 00:00:00 | -1.63066  | -1.47201  | -1.38977  |\n",
      "| 2000-09-01 00:00:00 | -2.30898  | -1.48622  | -1.62073  |\n",
      "| 2000-09-02 00:00:00 | -1.85909  | -1.26371  | -1.498    |\n",
      "| 2000-09-03 00:00:00 | -1.57382  | -1.52188  | -1.94872  |\n",
      "| 2000-09-04 00:00:00 | -2.2155   | -1.95819  | -1.82551  |\n",
      "| 2000-09-05 00:00:00 | -1.18568  | -1.76774  | -1.8588   |\n",
      "| 2000-09-06 00:00:00 | -2.08819  | -2.51348  | -1.33169  |\n",
      "| 2000-09-07 00:00:00 | -1.81283  | -1.59581  | -1.24708  |\n",
      "| 2000-09-08 00:00:00 | -1.26668  | -1.90585  | -1.52348  |\n",
      "| 2000-09-09 00:00:00 | -1.44761  | -1.2209   | -1.53042  |\n",
      "| 2000-09-10 00:00:00 | -1.31666  | -1.70642  | -1.79875  |\n",
      "| 2000-09-11 00:00:00 | -1.34343  | -2.07198  | -1.37207  |\n",
      "| 2000-09-12 00:00:00 | -2.02174  | -1.14582  | -1.35474  |\n",
      "| 2000-09-13 00:00:00 | -2.06776  | -2.17855  | -2.11978  |\n",
      "| 2000-09-14 00:00:00 | -1.82197  | -1.95583  | -1.34973  |\n",
      "| 2000-09-15 00:00:00 | -1.83104  | -1.85477  | -1.91409  |\n",
      "| 2000-09-16 00:00:00 | -1.50733  | -1.31937  | -1.661    |\n",
      "| 2000-09-17 00:00:00 | -1.12218  | -2.03009  | -1.73118  |\n",
      "| 2000-09-18 00:00:00 | -1.63895  | -1.79312  | -1.39176  |\n",
      "| 2000-09-19 00:00:00 | -1.40758  | -1.27835  | -1.7361   |\n",
      "| 2000-09-20 00:00:00 | -1.66854  | -1.61049  | -2.11693  |\n",
      "| 2000-09-21 00:00:00 | -1.6669   | -1.5121   | -1.45908  |\n",
      "| 2000-09-22 00:00:00 | -1.59119  | -1.55508  | -1.91081  |\n",
      "| 2000-09-23 00:00:00 | -2.0071   | -1.38032  | -1.82154  |\n",
      "| 2000-09-24 00:00:00 | -1.72413  | -1.70141  | -2.07765  |\n",
      "| 2000-09-25 00:00:00 | -1.32402  | -1.82888  | -1.34202  |\n",
      "| 2000-09-26 00:00:00 | -1.59439  | -1.95835  | -1.51534  |\n",
      "| 2000-09-27 00:00:00 | -1.84331  | -1.98676  | -2.0787   |\n",
      "| 2000-09-28 00:00:00 | -1.7362   | -1.41556  | -1.96494  |\n",
      "| 2000-09-29 00:00:00 | -1.45953  | -2.27497  | -1.73587  |\n",
      "| 2000-09-30 00:00:00 | -1.42608  | -2.53379  | -1.42311  |\n",
      "| 2000-10-01 00:00:00 | -1.78327  | -1.46769  | -1.17089  |\n",
      "| 2000-10-02 00:00:00 | -2.39602  | -1.6299   | -1.77305  |\n",
      "| 2000-10-03 00:00:00 | -1.94001  | -1.8399   | -1.86913  |\n",
      "| 2000-10-04 00:00:00 | -1.8564   | -1.8795   | -1.62463  |\n",
      "| 2000-10-05 00:00:00 | -1.53965  | -1.36742  | -1.31011  |\n",
      "| 2000-10-06 00:00:00 | -1.66118  | -1.75156  | -2.25039  |\n",
      "| 2000-10-07 00:00:00 | -1.9383   | -1.78339  | -1.51381  |\n",
      "| 2000-10-08 00:00:00 | -1.98574  | -1.15692  | -1.78817  |\n",
      "| 2000-10-09 00:00:00 | -1.87511  | -1.18438  | -2.14497  |\n",
      "| 2000-10-10 00:00:00 | -1.73737  | -2.20373  | -2.23779  |\n",
      "| 2000-10-11 00:00:00 | -1.90121  | -1.32238  | -1.64775  |\n",
      "| 2000-10-12 00:00:00 | -1.36006  | -0.985742 | -1.49857  |\n",
      "| 2000-10-13 00:00:00 | -1.75885  | -2.0706   | -0.964601 |\n",
      "| 2000-10-14 00:00:00 | -1.7385   | -2.02689  | -1.88489  |\n",
      "| 2000-10-15 00:00:00 | -2.0011   | -1.68143  | -1.74902  |\n",
      "| 2000-10-16 00:00:00 | -1.77721  | -1.35927  | -2.01926  |\n",
      "| 2000-10-17 00:00:00 | -1.82923  | -1.77959  | -1.33146  |\n",
      "| 2000-10-18 00:00:00 | -0.966244 | -1.01315  | -1.8595   |\n",
      "| 2000-10-19 00:00:00 | -1.91115  | -1.29686  | -1.38919  |\n",
      "| 2000-10-20 00:00:00 | -2.187    | -1.5897   | -1.96543  |\n",
      "| 2000-10-21 00:00:00 | -1.67024  | -1.88624  | -2.12116  |\n",
      "| 2000-10-22 00:00:00 | -2.03423  | -1.7508   | -1.61493  |\n",
      "| 2000-10-23 00:00:00 | -1.76896  | -1.6466   | -1.14975  |\n",
      "| 2000-10-24 00:00:00 | -1.65537  | -1.34964  | -1.49618  |\n",
      "| 2000-10-25 00:00:00 | -1.13774  | -1.74362  | -1.90024  |\n",
      "| 2000-10-26 00:00:00 | -1.85553  | -1.59761  | -1.38484  |\n",
      "| 2000-10-27 00:00:00 | -2.03654  | -1.46343  | -1.60606  |\n",
      "| 2000-10-28 00:00:00 | -1.50883  | -2.05293  | -1.92376  |\n",
      "| 2000-10-29 00:00:00 | -1.6212   | -1.5664   | -1.01677  |\n",
      "| 2000-10-30 00:00:00 | -1.42758  | -1.4052   | -1.65175  |\n",
      "| 2000-10-31 00:00:00 | -1.50196  | -1.37224  | -1.95783  |\n",
      "| 2000-11-01 00:00:00 | -1.23376  | -1.89033  | -2.27261  |\n",
      "| 2000-11-02 00:00:00 | -1.89076  | -1.8779   | -1.34877  |\n",
      "| 2000-11-03 00:00:00 | -1.65457  | -1.23961  | -1.60201  |\n",
      "| 2000-11-04 00:00:00 | -1.93195  | -1.66051  | -1.58131  |\n",
      "| 2000-11-05 00:00:00 | -1.94539  | -1.10536  | -1.44618  |\n",
      "| 2000-11-06 00:00:00 | -1.78631  | -1.9296   | -1.35705  |\n",
      "| 2000-11-07 00:00:00 | -1.57022  | -1.99275  | -1.10871  |\n",
      "| 2000-11-08 00:00:00 | -1.67747  | -1.772    | -1.4102   |\n",
      "| 2000-11-09 00:00:00 | -1.70747  | -1.5807   | -1.53681  |\n",
      "| 2000-11-10 00:00:00 | -1.92133  | -2.07455  | -1.67316  |\n",
      "| 2000-11-11 00:00:00 | -2.17087  | -1.68781  | -1.48907  |\n",
      "| 2000-11-12 00:00:00 | -1.33595  | -1.84772  | -1.96318  |\n",
      "| 2000-11-13 00:00:00 | -1.76224  | -1.01544  | -1.9803   |\n",
      "| 2000-11-14 00:00:00 | -1.72324  | -1.64967  | -1.46663  |\n",
      "| 2000-11-15 00:00:00 | -1.70474  | -1.87448  | -2.18043  |\n",
      "| 2000-11-16 00:00:00 | -1.98373  | -1.60129  | -2.20493  |\n",
      "| 2000-11-17 00:00:00 | -2.09266  | -1.94408  | -1.65569  |\n",
      "| 2000-11-18 00:00:00 | -1.66019  | -1.60101  | -1.83539  |\n",
      "| 2000-11-19 00:00:00 | -1.21288  | -1.80205  | -1.08908  |\n",
      "| 2000-11-20 00:00:00 | -1.44655  | -1.5568   | -1.30933  |\n",
      "| 2000-11-21 00:00:00 | -1.65487  | -1.55115  | -2.05988  |\n",
      "| 2000-11-22 00:00:00 | -2.10062  | -1.33829  | -2.15217  |\n",
      "| 2000-11-23 00:00:00 | -1.65093  | -1.13915  | -1.37739  |\n",
      "| 2000-11-24 00:00:00 | -1.62581  | -1.32282  | -1.48724  |\n",
      "| 2000-11-25 00:00:00 | -1.70295  | -1.72129  | -1.4712   |\n",
      "| 2000-11-26 00:00:00 | -1.4898   | -1.75566  | -1.39828  |\n",
      "| 2000-11-27 00:00:00 | -1.60135  | -1.6539   | -1.36527  |\n",
      "| 2000-11-28 00:00:00 | -1.33645  | -1.965    | -1.73401  |\n",
      "| 2000-11-29 00:00:00 | -1.43487  | -1.67518  | -2.05519  |\n",
      "| 2000-11-30 00:00:00 | -1.64975  | -2.03428  | -1.1628   |\n",
      "| 2000-12-01 00:00:00 | -1.712    | -1.52223  | -1.80042  |\n",
      "| 2000-12-02 00:00:00 | -1.43103  | -1.79247  | -1.19951  |\n",
      "| 2000-12-03 00:00:00 | -1.16394  | -1.78097  | -2.10013  |\n",
      "| 2000-12-04 00:00:00 | -2.15143  | -1.68416  | -1.73862  |\n",
      "| 2000-12-05 00:00:00 | -1.52431  | -1.705    | -2.02555  |\n",
      "| 2000-12-06 00:00:00 | -1.83649  | -1.44875  | -1.9172   |\n",
      "| 2000-12-07 00:00:00 | -1.52161  | -1.63624  | -1.4096   |\n",
      "| 2000-12-08 00:00:00 | -1.60913  | -1.53668  | -2.06388  |\n",
      "| 2000-12-09 00:00:00 | -2.09025  | -2.34177  | -1.20982  |\n",
      "| 2000-12-10 00:00:00 | -2.01239  | -1.39041  | -1.66067  |\n",
      "| 2000-12-11 00:00:00 | -1.67358  | -1.32017  | -1.6216   |\n",
      "| 2000-12-12 00:00:00 | -1.83987  | -2.32791  | -1.76229  |\n",
      "| 2000-12-13 00:00:00 | -1.32271  | -2.11162  | -1.91723  |\n",
      "| 2000-12-14 00:00:00 | -1.13863  | -1.75454  | -1.74834  |\n",
      "| 2000-12-15 00:00:00 | -2.30123  | -1.78332  | -1.1896   |\n",
      "| 2000-12-16 00:00:00 | -1.94826  | -1.69955  | -1.38119  |\n",
      "| 2000-12-17 00:00:00 | -1.85549  | -1.94464  | -1.6303   |\n",
      "| 2000-12-18 00:00:00 | -1.67521  | -1.58556  | -2.05028  |\n",
      "| 2000-12-19 00:00:00 | -1.36275  | -1.66277  | -1.48977  |\n",
      "| 2000-12-20 00:00:00 | -1.61648  | -1.81197  | -1.42951  |\n",
      "| 2000-12-21 00:00:00 | -2.19671  | -1.68525  | -1.59948  |\n",
      "| 2000-12-22 00:00:00 | -1.35352  | -1.2851   | -1.72688  |\n",
      "| 2000-12-23 00:00:00 | -1.26815  | -1.92216  | -1.93146  |\n",
      "| 2000-12-24 00:00:00 | -1.48462  | -1.60666  | -1.69329  |\n",
      "| 2000-12-25 00:00:00 | -1.12099  | -1.73473  | -1.59015  |\n",
      "| 2000-12-26 00:00:00 | -1.87322  | -1.45244  | -1.80853  |\n",
      "| 2000-12-27 00:00:00 | -1.37267  | -1.11087  | -1.52831  |\n",
      "| 2000-12-28 00:00:00 | -2.16626  | -2.23993  | -2.09912  |\n",
      "| 2000-12-29 00:00:00 | -1.57147  | -1.77728  | -1.83714  |\n",
      "| 2000-12-30 00:00:00 | -1.9501   | -1.89543  | -1.99153  |\n",
      "| 2000-12-31 00:00:00 | -1.41942  | -1.47037  | -1.49741  |\n",
      "| 2001-01-01 00:00:00 | -1.65079  | -1.58161  | -2.23604  |\n",
      "| 2001-01-02 00:00:00 | -1.04833  | -1.70697  | -1.79982  |\n",
      "| 2001-01-03 00:00:00 | -1.79922  | -2.52035  | -1.88332  |\n",
      "| 2001-01-04 00:00:00 | -1.40014  | -1.71199  | -1.75696  |\n",
      "| 2001-01-05 00:00:00 | -1.44697  | -1.70092  | -1.62287  |\n",
      "| 2001-01-06 00:00:00 | -1.80902  | -1.75894  | -1.1151   |\n",
      "| 2001-01-07 00:00:00 | -1.46037  | -1.70604  | -0.556247 |\n",
      "| 2001-01-08 00:00:00 | -1.53848  | -1.61068  | -2.4775   |\n",
      "| 2001-01-09 00:00:00 | -1.67267  | -1.83034  | -1.66168  |\n",
      "| 2001-01-10 00:00:00 | -1.75602  | -1.35379  | -1.84126  |\n",
      "| 2001-01-11 00:00:00 | -1.86479  | -2.05866  | -1.61338  |\n",
      "| 2001-01-12 00:00:00 | -1.67361  | -1.4913   | -2.15155  |\n",
      "| 2001-01-13 00:00:00 | -1.72122  | -1.68631  | -1.2912   |\n",
      "| 2001-01-14 00:00:00 | -1.11186  | -1.67475  | -1.88608  |\n",
      "| 2001-01-15 00:00:00 | -2.29834  | -1.56249  | -1.50344  |\n",
      "| 2001-01-16 00:00:00 | -2.03217  | -2.16498  | -1.99033  |\n",
      "| 2001-01-17 00:00:00 | -1.65151  | -1.33668  | -1.87572  |\n",
      "| 2001-01-18 00:00:00 | -1.66309  | -1.23879  | -2.1282   |\n",
      "| 2001-01-19 00:00:00 | -1.66816  | -1.47164  | -1.3221   |\n",
      "| 2001-01-20 00:00:00 | -1.7225   | -1.79051  | -0.994361 |\n",
      "| 2001-01-21 00:00:00 | -2.25228  | -1.46324  | -1.63896  |\n",
      "| 2001-01-22 00:00:00 | -1.63587  | -1.80521  | -1.99448  |\n",
      "| 2001-01-23 00:00:00 | -1.5373   | -1.56326  | -1.81078  |\n",
      "| 2001-01-24 00:00:00 | -1.41853  | -1.6863   | -1.49416  |\n",
      "| 2001-01-25 00:00:00 | -1.37813  | -2.04012  | -1.41656  |\n",
      "| 2001-01-26 00:00:00 | -1.31177  | -1.37296  | -1.28493  |\n",
      "| 2001-01-27 00:00:00 | -1.47906  | -1.19671  | -1.60848  |\n",
      "| 2001-01-28 00:00:00 | -1.49836  | -1.42992  | -1.87582  |\n",
      "| 2001-01-29 00:00:00 | -1.91626  | -1.37947  | -1.49761  |\n",
      "| 2001-01-30 00:00:00 | -1.34133  | -1.62908  | -1.9147   |\n",
      "| 2001-01-31 00:00:00 | -2.3487   | -1.64743  | -2.30009  |\n",
      "| 2001-02-01 00:00:00 | -1.53145  | -1.61824  | -1.08249  |\n",
      "| 2001-02-02 00:00:00 | -1.97815  | -1.73765  | -1.46633  |\n",
      "| 2001-02-03 00:00:00 | -1.33964  | -1.21377  | -1.62533  |\n",
      "| 2001-02-04 00:00:00 | -0.814831 | -1.8292   | -1.53351  |\n",
      "| 2001-02-05 00:00:00 | -2.23667  | -1.41723  | -1.74163  |\n",
      "| 2001-02-06 00:00:00 | -1.87655  | -1.64033  | -1.46357  |\n",
      "| 2001-02-07 00:00:00 | -1.91122  | -1.43966  | -1.4754   |\n",
      "| 2001-02-08 00:00:00 | -1.54394  | -1.80027  | -0.620423 |\n",
      "| 2001-02-09 00:00:00 | -1.84781  | -1.86714  | -2.03332  |\n",
      "| 2001-02-10 00:00:00 | -1.11877  | -1.82291  | -1.53209  |\n",
      "| 2001-02-11 00:00:00 | -1.46645  | -1.82453  | -1.59362  |\n",
      "| 2001-02-12 00:00:00 | -2.74245  | -2.07867  | -1.4382   |\n",
      "| 2001-02-13 00:00:00 | -1.75733  | -1.08633  | -1.22884  |\n",
      "| 2001-02-14 00:00:00 | -1.55447  | -2.28559  | -1.93397  |\n",
      "| 2001-02-15 00:00:00 | -1.5701   | -1.6649   | -1.5349   |\n",
      "| 2001-02-16 00:00:00 | -1.24693  | -0.688949 | -1.5759   |\n",
      "| 2001-02-17 00:00:00 | -1.58258  | -1.45706  | -2.17136  |\n",
      "| 2001-02-18 00:00:00 | -1.55625  | -1.8147   | -1.89876  |\n",
      "| 2001-02-19 00:00:00 | -1.67129  | -1.26893  | -1.93509  |\n",
      "| 2001-02-20 00:00:00 | -1.39552  | -1.8472   | -1.79248  |\n",
      "| 2001-02-21 00:00:00 | -1.93167  | -1.86099  | -1.62928  |\n",
      "| 2001-02-22 00:00:00 | -1.82063  | -1.89282  | -1.90687  |\n",
      "| 2001-02-23 00:00:00 | -1.16163  | -1.37243  | -1.30391  |\n",
      "| 2001-02-24 00:00:00 | -1.19595  | -1.55143  | -1.41344  |\n",
      "| 2001-02-25 00:00:00 | -1.47197  | -0.948495 | -1.82077  |\n",
      "| 2001-02-26 00:00:00 | -1.44055  | -1.91559  | -1.50923  |\n",
      "| 2001-02-27 00:00:00 | -1.87664  | -1.91429  | -1.00858  |\n",
      "| 2001-02-28 00:00:00 | -2.20186  | -1.43829  | -1.648    |\n",
      "| 2001-03-01 00:00:00 | -2.43057  | -2.27062  | -0.869586 |\n",
      "| 2001-03-02 00:00:00 | -1.52255  | -1.49806  | -1.65566  |\n",
      "| 2001-03-03 00:00:00 | -1.3976   | -1.74771  | -1.49777  |\n",
      "| 2001-03-04 00:00:00 | -1.39968  | -1.68103  | -0.886005 |\n",
      "| 2001-03-05 00:00:00 | -1.53672  | -1.31801  | -1.59681  |\n",
      "| 2001-03-06 00:00:00 | -1.35382  | -1.49455  | -1.46415  |\n",
      "| 2001-03-07 00:00:00 | -1.69661  | -1.97132  | -1.83148  |\n",
      "| 2001-03-08 00:00:00 | -1.8845   | -1.49639  | -1.85869  |\n",
      "| 2001-03-09 00:00:00 | -1.22564  | -1.88365  | -1.88606  |\n",
      "| 2001-03-10 00:00:00 | -1.62344  | -1.28105  | -1.80372  |\n",
      "| 2001-03-11 00:00:00 | -2.25467  | -1.50967  | -1.87155  |\n",
      "| 2001-03-12 00:00:00 | -1.44722  | -1.98863  | -1.78295  |\n",
      "| 2001-03-13 00:00:00 | -1.48574  | -1.7798   | -1.99777  |\n",
      "| 2001-03-14 00:00:00 | -1.32897  | -1.14472  | -1.99601  |\n",
      "| 2001-03-15 00:00:00 | -1.72529  | -2.17343  | -1.34633  |\n",
      "| 2001-03-16 00:00:00 | -1.30511  | -1.87182  | -1.03011  |\n",
      "| 2001-03-17 00:00:00 | -1.01604  | -1.66408  | -1.62933  |\n",
      "| 2001-03-18 00:00:00 | -1.77806  | -1.00187  | -1.80518  |\n",
      "| 2001-03-19 00:00:00 | -1.03167  | -1.09074  | -1.05603  |\n",
      "| 2001-03-20 00:00:00 | -1.97573  | -1.83891  | -1.73295  |\n",
      "| 2001-03-21 00:00:00 | -2.23774  | -1.31594  | -1.76602  |\n",
      "| 2001-03-22 00:00:00 | -1.90907  | -1.38607  | -1.98584  |\n",
      "| 2001-03-23 00:00:00 | -2.07041  | -1.90045  | -1.58532  |\n",
      "| 2001-03-24 00:00:00 | -1.55991  | -1.3421   | -1.7731   |\n",
      "| 2001-03-25 00:00:00 | -1.18759  | -1.9422   | -1.93919  |\n",
      "| 2001-03-26 00:00:00 | -2.04758  | -1.70554  | -1.36931  |\n",
      "| 2001-03-27 00:00:00 | -1.33803  | -2.03654  | -0.959897 |\n",
      "| 2001-03-28 00:00:00 | -1.53979  | -1.63596  | -1.62602  |\n",
      "| 2001-03-29 00:00:00 | -1.46465  | -1.82608  | -1.88804  |\n",
      "| 2001-03-30 00:00:00 | -1.71201  | -1.941    | -2.04667  |\n",
      "| 2001-03-31 00:00:00 | -1.9837   | -1.04961  | -1.33371  |\n",
      "| 2001-04-01 00:00:00 | -1.87489  | -1.69655  | -2.01385  |\n",
      "| 2001-04-02 00:00:00 | -1.21385  | -1.55073  | -1.40164  |\n",
      "| 2001-04-03 00:00:00 | -0.814876 | -1.71797  | -2.30888  |\n",
      "| 2001-04-04 00:00:00 | -1.90403  | -1.82914  | -1.62812  |\n",
      "| 2001-04-05 00:00:00 | -1.9958   | -1.50271  | -1.7069   |\n",
      "| 2001-04-06 00:00:00 | -1.93211  | -1.68775  | -1.54734  |\n",
      "| 2001-04-07 00:00:00 | -2.16853  | -1.69384  | -1.55641  |\n",
      "| 2001-04-08 00:00:00 | -1.51341  | -1.34281  | -1.68232  |\n",
      "| 2001-04-09 00:00:00 | -1.82133  | -2.06801  | -1.14908  |\n",
      "| 2001-04-10 00:00:00 | -1.51085  | -1.07176  | -1.3926   |\n",
      "| 2001-04-11 00:00:00 | -2.06244  | -1.49292  | -1.78744  |\n",
      "| 2001-04-12 00:00:00 | -1.15502  | -1.36088  | -2.23578  |\n",
      "| 2001-04-13 00:00:00 | -1.9036   | -1.52671  | -0.703419 |\n",
      "| 2001-04-14 00:00:00 | -1.62877  | -1.38389  | -1.24784  |\n",
      "| 2001-04-15 00:00:00 | -1.28145  | -1.19805  | -1.63784  |\n",
      "| 2001-04-16 00:00:00 | -1.62266  | -1.75466  | -1.59713  |\n",
      "| 2001-04-17 00:00:00 | -1.79145  | -1.78586  | -1.88388  |\n",
      "| 2001-04-18 00:00:00 | -0.917065 | -2.27957  | -1.635    |\n",
      "| 2001-04-19 00:00:00 | -1.46549  | -1.643    | -2.50189  |\n",
      "| 2001-04-20 00:00:00 | -1.66364  | -2.39264  | -1.78836  |\n",
      "| 2001-04-21 00:00:00 | -1.90155  | -1.52536  | -1.6473   |\n",
      "| 2001-04-22 00:00:00 | -2.06102  | -2.02165  | -2.55005  |\n",
      "| 2001-04-23 00:00:00 | -1.49627  | -2.1409   | -1.50901  |\n",
      "| 2001-04-24 00:00:00 | -1.65022  | -2.09723  | -1.61591  |\n",
      "| 2001-04-25 00:00:00 | -2.02789  | -1.69754  | -1.31735  |\n",
      "| 2001-04-26 00:00:00 | -1.40756  | -1.73811  | -1.90098  |\n",
      "| 2001-04-27 00:00:00 | -1.52609  | -1.50083  | -2.19283  |\n",
      "| 2001-04-28 00:00:00 | -1.37902  | -1.45672  | -1.62564  |\n",
      "| 2001-04-29 00:00:00 | -2.15733  | -2.33143  | -2.1081   |\n",
      "| 2001-04-30 00:00:00 | -1.53838  | -2.03032  | -2.43571  |\n",
      "| 2001-05-01 00:00:00 | -1.86456  | -1.39169  | -1.59319  |\n",
      "| 2001-05-02 00:00:00 | -1.45219  | -1.76054  | -1.2515   |\n",
      "| 2001-05-03 00:00:00 | -1.95273  | -1.47823  | -1.70018  |\n",
      "| 2001-05-04 00:00:00 | -1.67084  | -1.95526  | -1.48116  |\n",
      "| 2001-05-05 00:00:00 | -1.37803  | -1.36869  | -1.61405  |\n",
      "| 2001-05-06 00:00:00 | -1.956    | -1.94354  | -1.92673  |\n",
      "| 2001-05-07 00:00:00 | -1.75313  | -1.9822   | -1.52667  |\n",
      "| 2001-05-08 00:00:00 | -1.53388  | -1.82257  | -1.39236  |\n",
      "| 2001-05-09 00:00:00 | -1.17326  | -1.82729  | -1.51461  |\n",
      "| 2001-05-10 00:00:00 | -1.31716  | -1.57461  | -1.31352  |\n",
      "| 2001-05-11 00:00:00 | -1.52511  | -1.39426  | -1.92386  |\n",
      "| 2001-05-12 00:00:00 | -1.5934   | -1.36542  | -1.13313  |\n",
      "| 2001-05-13 00:00:00 | -1.45431  | -1.41458  | -2.11584  |\n",
      "| 2001-05-14 00:00:00 | -2.14095  | -1.1613   | -1.92092  |\n",
      "| 2001-05-15 00:00:00 | -1.36259  | -1.53112  | -1.91493  |\n",
      "| 2001-05-16 00:00:00 | -1.69591  | -1.17023  | -1.79407  |\n",
      "| 2001-05-17 00:00:00 | -2.03603  | -1.48632  | -1.53995  |\n",
      "| 2001-05-18 00:00:00 | -1.4352   | -1.80627  | -1.81184  |\n",
      "| 2001-05-19 00:00:00 | -1.89379  | -1.72688  | -1.79363  |\n",
      "| 2001-05-20 00:00:00 | -1.38932  | -1.76149  | -1.49531  |\n",
      "| 2001-05-21 00:00:00 | -1.27254  | -1.82986  | -2.11891  |\n",
      "| 2001-05-22 00:00:00 | -2.36609  | -1.25229  | -1.7897   |\n",
      "| 2001-05-23 00:00:00 | -2.41516  | -1.74105  | -1.65044  |\n",
      "| 2001-05-24 00:00:00 | -1.0683   | -1.85838  | -1.76736  |\n",
      "| 2001-05-25 00:00:00 | -2.35039  | -1.69218  | -1.85495  |\n",
      "| 2001-05-26 00:00:00 | -1.90583  | -0.846621 | -1.34113  |\n",
      "| 2001-05-27 00:00:00 | -1.97976  | -1.34377  | -1.38696  |\n",
      "| 2001-05-28 00:00:00 | -1.5195   | -1.78613  | -1.45939  |\n",
      "| 2001-05-29 00:00:00 | -1.59754  | -1.84279  | -1.71013  |\n",
      "| 2001-05-30 00:00:00 | -1.07919  | -1.7341   | -1.53444  |\n",
      "| 2001-05-31 00:00:00 | -0.942139 | -1.96358  | -1.86038  |\n",
      "| 2001-06-01 00:00:00 | -1.87362  | -1.64138  | -1.56456  |\n",
      "| 2001-06-02 00:00:00 | -1.69824  | -1.52004  | -1.19466  |\n",
      "| 2001-06-03 00:00:00 | -1.0104   | -1.59795  | -2.0212   |\n",
      "| 2001-06-04 00:00:00 | -1.67377  | -2.20905  | -2.29531  |\n",
      "| 2001-06-05 00:00:00 | -1.93488  | -1.57703  | -2.10946  |\n",
      "| 2001-06-06 00:00:00 | -1.45059  | -2.20949  | -1.44218  |\n",
      "| 2001-06-07 00:00:00 | -1.59204  | -1.707    | -1.72514  |\n",
      "| 2001-06-08 00:00:00 | -1.54961  | -1.6104   | -1.94234  |\n",
      "| 2001-06-09 00:00:00 | -1.49073  | -2.26605  | -1.89882  |\n",
      "| 2001-06-10 00:00:00 | -1.36456  | -1.91296  | -1.6223   |\n",
      "| 2001-06-11 00:00:00 | -1.42244  | -1.70922  | -1.6901   |\n",
      "| 2001-06-12 00:00:00 | -1.81154  | -2.19774  | -1.39515  |\n",
      "| 2001-06-13 00:00:00 | -1.44627  | -2.39466  | -1.7436   |\n",
      "| 2001-06-14 00:00:00 | -1.33729  | -1.78355  | -1.3905   |\n",
      "| 2001-06-15 00:00:00 | -1.53783  | -1.65055  | -1.41456  |\n",
      "| 2001-06-16 00:00:00 | -1.80005  | -1.56991  | -2.06329  |\n",
      "| 2001-06-17 00:00:00 | -1.86987  | -2.15537  | -1.81829  |\n",
      "| 2001-06-18 00:00:00 | -1.30334  | -1.67385  | -1.28196  |\n",
      "| 2001-06-19 00:00:00 | -1.34917  | -2.15874  | -1.4438   |\n",
      "| 2001-06-20 00:00:00 | -1.50828  | -1.42369  | -1.52313  |\n",
      "| 2001-06-21 00:00:00 | -0.894042 | -2.15251  | -1.77706  |\n",
      "| 2001-06-22 00:00:00 | -2.1471   | -1.91453  | -0.979662 |\n",
      "| 2001-06-23 00:00:00 | -1.05131  | -1.72188  | -1.91143  |\n",
      "| 2001-06-24 00:00:00 | -1.98625  | -1.5063   | -1.4944   |\n",
      "| 2001-06-25 00:00:00 | -1.98838  | -1.77082  | -1.80771  |\n",
      "| 2001-06-26 00:00:00 | -1.85334  | -1.93545  | -1.47392  |\n",
      "| 2001-06-27 00:00:00 | -1.74359  | -1.67497  | -2.04608  |\n",
      "| 2001-06-28 00:00:00 | -1.85675  | -2.03129  | -1.47139  |\n",
      "| 2001-06-29 00:00:00 | -1.65589  | -1.8954   | -1.56901  |\n",
      "| 2001-06-30 00:00:00 | -1.28898  | -1.44715  | -1.90104  |\n",
      "| 2001-07-01 00:00:00 | -1.89678  | -1.76924  | -1.34143  |\n",
      "| 2001-07-02 00:00:00 | -1.61891  | -1.95208  | -1.62351  |\n",
      "| 2001-07-03 00:00:00 | -1.59098  | -1.10826  | -1.9416   |\n",
      "| 2001-07-04 00:00:00 | -2.13335  | -1.70206  | -1.63206  |\n",
      "| 2001-07-05 00:00:00 | -1.71328  | -1.66872  | -1.41615  |\n",
      "| 2001-07-06 00:00:00 | -1.29965  | -1.0505   | -2.00048  |\n",
      "| 2001-07-07 00:00:00 | -1.60679  | -2.00467  | -2.1207   |\n",
      "| 2001-07-08 00:00:00 | -1.90506  | -2.02452  | -1.88618  |\n",
      "| 2001-07-09 00:00:00 | -1.90449  | -1.86845  | -1.48758  |\n",
      "| 2001-07-10 00:00:00 | -1.17447  | -1.71133  | -1.55257  |\n",
      "| 2001-07-11 00:00:00 | -1.18578  | -1.46303  | -2.39147  |\n",
      "| 2001-07-12 00:00:00 | -1.69039  | -1.22763  | -1.25031  |\n",
      "| 2001-07-13 00:00:00 | -1.63926  | -1.30548  | -1.68667  |\n",
      "| 2001-07-14 00:00:00 | -2.11856  | -1.63225  | -1.55083  |\n",
      "| 2001-07-15 00:00:00 | -2.2308   | -1.46781  | -2.08168  |\n",
      "| 2001-07-16 00:00:00 | -1.28319  | -1.73404  | -1.77604  |\n",
      "| 2001-07-17 00:00:00 | -1.56986  | -1.45791  | -1.51865  |\n",
      "| 2001-07-18 00:00:00 | -1.83797  | -1.17767  | -1.20617  |\n",
      "| 2001-07-19 00:00:00 | -1.81697  | -1.99072  | -1.29157  |\n",
      "| 2001-07-20 00:00:00 | -2.10392  | -2.21819  | -1.41016  |\n",
      "| 2001-07-21 00:00:00 | -1.58254  | -1.60866  | -2.08716  |\n",
      "| 2001-07-22 00:00:00 | -1.15558  | -1.70776  | -1.54888  |\n",
      "| 2001-07-23 00:00:00 | -1.32299  | -1.93819  | -2.2293   |\n",
      "| 2001-07-24 00:00:00 | -1.68211  | -1.56973  | -1.91397  |\n",
      "| 2001-07-25 00:00:00 | -1.49105  | -1.68298  | -1.71441  |\n",
      "| 2001-07-26 00:00:00 | -1.88848  | -1.4643   | -1.90202  |\n",
      "| 2001-07-27 00:00:00 | -1.77246  | -1.7059   | -1.95394  |\n",
      "| 2001-07-28 00:00:00 | -1.6723   | -1.52546  | -1.61257  |\n",
      "| 2001-07-29 00:00:00 | -2.05024  | -1.7347   | -1.82307  |\n",
      "| 2001-07-30 00:00:00 | -1.48748  | -1.82204  | -2.41283  |\n",
      "| 2001-07-31 00:00:00 | -1.28409  | -1.55657  | -1.99168  |\n",
      "| 2001-08-01 00:00:00 | -1.54717  | -1.45469  | -1.51211  |\n",
      "| 2001-08-02 00:00:00 | -1.57055  | -1.57539  | -1.50737  |\n",
      "| 2001-08-03 00:00:00 | -1.71742  | -2.45087  | -1.2489   |\n",
      "| 2001-08-04 00:00:00 | -1.68773  | -1.81608  | -1.63711  |\n",
      "| 2001-08-05 00:00:00 | -1.37205  | -2.07452  | -1.56673  |\n",
      "| 2001-08-06 00:00:00 | -2.35439  | -1.26024  | -1.8483   |\n",
      "| 2001-08-07 00:00:00 | -1.98441  | -1.48908  | -1.02236  |\n",
      "| 2001-08-08 00:00:00 | -2.05427  | -1.60484  | -2.03109  |\n",
      "| 2001-08-09 00:00:00 | -2.00101  | -1.57135  | -1.69213  |\n",
      "| 2001-08-10 00:00:00 | -1.45474  | -1.11159  | -1.34726  |\n",
      "| 2001-08-11 00:00:00 | -1.91855  | -1.87023  | -1.5474   |\n",
      "| 2001-08-12 00:00:00 | -1.53729  | -1.82586  | -2.25032  |\n",
      "| 2001-08-13 00:00:00 | -1.65859  | -1.75697  | -1.01066  |\n",
      "| 2001-08-14 00:00:00 | -1.49305  | -1.64382  | -1.47165  |\n",
      "| 2001-08-15 00:00:00 | -1.91951  | -1.78121  | -0.878483 |\n",
      "| 2001-08-16 00:00:00 | -2.36711  | -1.68794  | -1.67513  |\n",
      "| 2001-08-17 00:00:00 | -1.29522  | -1.6309   | -1.78022  |\n",
      "| 2001-08-18 00:00:00 | -1.95849  | -1.3485   | -1.6398   |\n",
      "| 2001-08-19 00:00:00 | -1.48596  | -1.64061  | -1.77201  |\n",
      "| 2001-08-20 00:00:00 | -1.32653  | -1.63746  | -1.27343  |\n",
      "| 2001-08-21 00:00:00 | -1.57381  | -0.899068 | -1.93688  |\n",
      "| 2001-08-22 00:00:00 | -1.699    | -1.36329  | -1.61572  |\n",
      "| 2001-08-23 00:00:00 | -1.72869  | -1.559    | -1.36039  |\n",
      "| 2001-08-24 00:00:00 | -1.22796  | -1.83479  | -1.88535  |\n",
      "| 2001-08-25 00:00:00 | -1.92276  | -1.75124  | -1.33143  |\n",
      "| 2001-08-26 00:00:00 | -1.68351  | -1.53477  | -1.53584  |\n",
      "| 2001-08-27 00:00:00 | -1.52287  | -1.50215  | -1.54203  |\n",
      "| 2001-08-28 00:00:00 | -2.03809  | -1.59483  | -1.47334  |\n",
      "| 2001-08-29 00:00:00 | -1.72838  | -1.37414  | -1.90604  |\n",
      "| 2001-08-30 00:00:00 | -1.43872  | -1.23373  | -1.8597   |\n",
      "| 2001-08-31 00:00:00 | -1.80317  | -1.86216  | -2.11562  |\n",
      "| 2001-09-01 00:00:00 | -1.73997  | -1.55306  | -1.089    |\n",
      "| 2001-09-02 00:00:00 | -1.05013  | -1.42915  | -1.57942  |\n",
      "| 2001-09-03 00:00:00 | -2.03807  | -2.11624  | -1.3496   |\n",
      "| 2001-09-04 00:00:00 | -1.6716   | -2.22929  | -1.76255  |\n",
      "| 2001-09-05 00:00:00 | -1.29356  | -1.4902   | -1.5434   |\n",
      "| 2001-09-06 00:00:00 | -1.65043  | -1.51345  | -1.9077   |\n",
      "| 2001-09-07 00:00:00 | -1.39246  | -1.54346  | -2.22276  |\n",
      "| 2001-09-08 00:00:00 | -1.40965  | -1.37164  | -1.61286  |\n",
      "| 2001-09-09 00:00:00 | -1.59142  | -1.49888  | -1.32152  |\n",
      "| 2001-09-10 00:00:00 | -1.67625  | -1.3362   | -0.959822 |\n",
      "| 2001-09-11 00:00:00 | -1.98802  | -1.34218  | -1.53361  |\n",
      "| 2001-09-12 00:00:00 | -1.90286  | -1.5455   | -1.75421  |\n",
      "| 2001-09-13 00:00:00 | -1.28128  | -1.42336  | -2.18229  |\n",
      "| 2001-09-14 00:00:00 | -2.42376  | -1.87194  | -1.84531  |\n",
      "| 2001-09-15 00:00:00 | -1.21419  | -1.11702  | -1.82358  |\n",
      "| 2001-09-16 00:00:00 | -1.59728  | -1.61467  | -1.4638   |\n",
      "| 2001-09-17 00:00:00 | -1.63872  | -2.03299  | -1.58518  |\n",
      "| 2001-09-18 00:00:00 | -1.32573  | -2.09598  | -2.08428  |\n",
      "| 2001-09-19 00:00:00 | -1.41419  | -2.04419  | -1.25049  |\n",
      "| 2001-09-20 00:00:00 | -1.50949  | -1.2026   | -1.76896  |\n",
      "| 2001-09-21 00:00:00 | -1.45468  | -1.97805  | -1.46457  |\n",
      "| 2001-09-22 00:00:00 | -1.82561  | -1.55334  | -1.57834  |\n",
      "| 2001-09-23 00:00:00 | -1.8968   | -1.59077  | -1.54514  |\n",
      "| 2001-09-24 00:00:00 | -1.603    | -1.53828  | -2.30401  |\n",
      "| 2001-09-25 00:00:00 | -1.80168  | -1.02141  | -1.52381  |\n",
      "| 2001-09-26 00:00:00 | -1.56535  | -1.65646  | -1.10906  |\n",
      "| 2001-09-27 00:00:00 | -1.27786  | -2.11227  | -1.81613  |\n",
      "| 2001-09-28 00:00:00 | -1.83595  | -1.51447  | -1.79039  |\n",
      "| 2001-09-29 00:00:00 | -1.34166  | -2.33736  | -1.41257  |\n",
      "| 2001-09-30 00:00:00 | -1.9191   | -1.60257  | -0.673388 |\n",
      "| 2001-10-01 00:00:00 | -1.3336   | -1.53632  | -1.50314  |\n",
      "| 2001-10-02 00:00:00 | -1.41643  | -1.50924  | -1.71391  |\n",
      "| 2001-10-03 00:00:00 | -1.55616  | -1.9456   | -1.93062  |\n",
      "| 2001-10-04 00:00:00 | -1.67874  | -1.40565  | -1.89821  |\n",
      "| 2001-10-05 00:00:00 | -1.6869   | -0.685637 | -1.64096  |\n",
      "| 2001-10-06 00:00:00 | -1.19604  | -1.81636  | -1.3536   |\n",
      "| 2001-10-07 00:00:00 | -1.03729  | -1.87521  | -1.68575  |\n",
      "| 2001-10-08 00:00:00 | -1.74125  | -1.77165  | -1.54897  |\n",
      "| 2001-10-09 00:00:00 | -1.79221  | -2.24123  | -2.21142  |\n",
      "| 2001-10-10 00:00:00 | -1.13436  | -1.08259  | -2.07821  |\n",
      "| 2001-10-11 00:00:00 | -1.80365  | -2.04777  | -1.17482  |\n",
      "| 2001-10-12 00:00:00 | -1.26793  | -1.86283  | -1.52443  |\n",
      "| 2001-10-13 00:00:00 | -1.35893  | -1.80313  | -1.68219  |\n",
      "| 2001-10-14 00:00:00 | -2.3478   | -1.22411  | -1.77847  |\n",
      "| 2001-10-15 00:00:00 | -1.11464  | -1.50638  | -1.39698  |\n",
      "| 2001-10-16 00:00:00 | -1.29201  | -1.95383  | -1.69401  |\n",
      "| 2001-10-17 00:00:00 | -1.31699  | -1.11823  | -1.67894  |\n",
      "| 2001-10-18 00:00:00 | -1.90885  | -1.87375  | -1.90158  |\n",
      "| 2001-10-19 00:00:00 | -1.8188   | -1.44618  | -1.62149  |\n",
      "| 2001-10-20 00:00:00 | -1.13668  | -1.57333  | -1.64758  |\n",
      "| 2001-10-21 00:00:00 | -2.24591  | -1.61272  | -1.88683  |\n",
      "| 2001-10-22 00:00:00 | -1.33146  | -1.11241  | -1.36224  |\n",
      "| 2001-10-23 00:00:00 | -1.46193  | -0.962351 | -1.75101  |\n",
      "| 2001-10-24 00:00:00 | -1.68801  | -1.35901  | -1.3584   |\n",
      "| 2001-10-25 00:00:00 | -1.941    | -1.5291   | -2.38479  |\n",
      "| 2001-10-26 00:00:00 | -1.73167  | -2.21578  | -1.32754  |\n",
      "| 2001-10-27 00:00:00 | -1.84004  | -1.09854  | -1.38563  |\n",
      "| 2001-10-28 00:00:00 | -1.71761  | -1.73267  | -1.70596  |\n",
      "| 2001-10-29 00:00:00 | -1.60024  | -1.53284  | -1.64204  |\n",
      "| 2001-10-30 00:00:00 | -1.5823   | -1.88987  | -2.0348   |\n",
      "| 2001-10-31 00:00:00 | -2.0184   | -1.59426  | -1.32072  |\n",
      "| 2001-11-01 00:00:00 | -1.52239  | -1.26867  | -1.34616  |\n",
      "| 2001-11-02 00:00:00 | -0.924518 | -1.61255  | -1.73955  |\n",
      "| 2001-11-03 00:00:00 | -1.82424  | -1.40745  | -1.22512  |\n",
      "| 2001-11-04 00:00:00 | -1.45792  | -1.67945  | -2.12385  |\n",
      "| 2001-11-05 00:00:00 | -1.87155  | -1.63702  | -1.53235  |\n",
      "| 2001-11-06 00:00:00 | -1.82137  | -1.76572  | -2.10462  |\n",
      "| 2001-11-07 00:00:00 | -0.929505 | -1.37771  | -1.33215  |\n",
      "| 2001-11-08 00:00:00 | -2.04538  | -1.14871  | -1.53488  |\n",
      "| 2001-11-09 00:00:00 | -1.60151  | -1.58651  | -1.59877  |\n",
      "| 2001-11-10 00:00:00 | -2.02579  | -1.94336  | -0.93833  |\n",
      "| 2001-11-11 00:00:00 | -1.63664  | -1.82985  | -1.51979  |\n",
      "| 2001-11-12 00:00:00 | -1.09694  | -1.23109  | -1.85106  |\n",
      "| 2001-11-13 00:00:00 | -1.39611  | -1.74389  | -1.30454  |\n",
      "| 2001-11-14 00:00:00 | -1.30668  | -1.49553  | -2.05632  |\n",
      "| 2001-11-15 00:00:00 | -1.13138  | -1.48501  | -1.78156  |\n",
      "| 2001-11-16 00:00:00 | -1.24209  | -1.87654  | -1.65987  |\n",
      "| 2001-11-17 00:00:00 | -1.33353  | -1.80158  | -1.83948  |\n",
      "| 2001-11-18 00:00:00 | -1.90993  | -1.49388  | -1.96767  |\n",
      "| 2001-11-19 00:00:00 | -1.43428  | -2.28796  | -1.7275   |\n",
      "| 2001-11-20 00:00:00 | -1.78364  | -2.28964  | -1.765    |\n",
      "| 2001-11-21 00:00:00 | -1.58128  | -1.04752  | -2.00924  |\n",
      "| 2001-11-22 00:00:00 | -1.31176  | -1.1026   | -1.79383  |\n",
      "| 2001-11-23 00:00:00 | -1.12233  | -1.27187  | -1.72347  |\n",
      "| 2001-11-24 00:00:00 | -1.68411  | -1.58113  | -1.61238  |\n",
      "| 2001-11-25 00:00:00 | -1.03735  | -1.18365  | -1.94711  |\n",
      "| 2001-11-26 00:00:00 | -1.66541  | -1.55448  | -2.02643  |\n",
      "| 2001-11-27 00:00:00 | -1.30359  | -2.21576  | -1.95278  |\n",
      "| 2001-11-28 00:00:00 | -1.90141  | -2.2278   | -1.89952  |\n",
      "| 2001-11-29 00:00:00 | -1.79696  | -1.79383  | -1.01085  |\n",
      "| 2001-11-30 00:00:00 | -1.33109  | -1.84757  | -1.44553  |\n",
      "| 2001-12-01 00:00:00 | -1.89637  | -1.23222  | -1.35153  |\n",
      "| 2001-12-02 00:00:00 | -1.76307  | -1.73577  | -1.63322  |\n",
      "| 2001-12-03 00:00:00 | -1.7887   | -1.86719  | -1.64452  |\n",
      "| 2001-12-04 00:00:00 | -1.64563  | -1.46303  | -1.53859  |\n",
      "| 2001-12-05 00:00:00 | -1.46221  | -2.18944  | -1.8799   |\n",
      "| 2001-12-06 00:00:00 | -2.32844  | -1.48483  | -1.99484  |\n",
      "| 2001-12-07 00:00:00 | -1.64861  | -1.89404  | -1.84433  |\n",
      "| 2001-12-08 00:00:00 | -2.05672  | -1.88597  | -0.908766 |\n",
      "| 2001-12-09 00:00:00 | -1.9759   | -1.12669  | -1.57096  |\n",
      "| 2001-12-10 00:00:00 | -1.69928  | -1.41334  | -1.59814  |\n",
      "| 2001-12-11 00:00:00 | -0.871543 | -1.14479  | -2.09438  |\n",
      "| 2001-12-12 00:00:00 | -1.0687   | -1.90782  | -1.41749  |\n",
      "| 2001-12-13 00:00:00 | -1.4493   | -1.36569  | -2.03904  |\n",
      "| 2001-12-14 00:00:00 | -1.29234  | -1.49689  | -1.90097  |\n",
      "| 2001-12-15 00:00:00 | -1.89611  | -1.67679  | -1.30576  |\n",
      "| 2001-12-16 00:00:00 | -1.83487  | -1.27096  | -1.49306  |\n",
      "| 2001-12-17 00:00:00 | -1.59835  | -1.44779  | -2.08428  |\n",
      "| 2001-12-18 00:00:00 | -1.35894  | -1.75731  | -1.3769   |\n",
      "| 2001-12-19 00:00:00 | -1.8187   | -1.98539  | -2.08651  |\n",
      "| 2001-12-20 00:00:00 | -1.25879  | -1.34388  | -1.45456  |\n",
      "| 2001-12-21 00:00:00 | -1.88595  | -2.19535  | -2.03912  |\n",
      "| 2001-12-22 00:00:00 | -2.41042  | -1.46254  | -1.75371  |\n",
      "| 2001-12-23 00:00:00 | -1.44648  | -2.06295  | -1.20294  |\n",
      "| 2001-12-24 00:00:00 | -2.11029  | -2.0407   | -1.49457  |\n",
      "| 2001-12-25 00:00:00 | -1.67799  | -1.6663   | -1.53027  |\n",
      "| 2001-12-26 00:00:00 | -1.42101  | -1.17159  | -1.61813  |\n",
      "| 2001-12-27 00:00:00 | -1.73313  | -2.17514  | -1.06807  |\n",
      "| 2001-12-28 00:00:00 | -1.09339  | -0.81001  | -1.6384   |\n",
      "| 2001-12-29 00:00:00 | -1.83916  | -2.15924  | -2.02904  |\n",
      "| 2001-12-30 00:00:00 | -2.16415  | -2.0425   | -1.22391  |\n",
      "| 2001-12-31 00:00:00 | -1.4397   | -1.23167  | -1.63013  |\n",
      "| 2002-01-01 00:00:00 | -1.30042  | -1.21217  | -2.28923  |\n",
      "| 2002-01-02 00:00:00 | -1.92572  | -1.60489  | -1.29658  |\n",
      "| 2002-01-03 00:00:00 | -1.65833  | -2.36215  | -1.78944  |\n",
      "| 2002-01-04 00:00:00 | -1.22796  | -1.92549  | -1.48525  |\n",
      "| 2002-01-05 00:00:00 | -1.5649   | -1.58252  | -1.6614   |\n",
      "| 2002-01-06 00:00:00 | -1.45478  | -1.31873  | -1.80555  |\n",
      "| 2002-01-07 00:00:00 | -1.64965  | -1.70627  | -0.854741 |\n",
      "| 2002-01-08 00:00:00 | -1.72594  | -1.10704  | -1.42064  |\n",
      "| 2002-01-09 00:00:00 | -1.46485  | -1.82042  | -1.38753  |\n",
      "| 2002-01-10 00:00:00 | -1.73842  | -1.74194  | -2.22628  |\n",
      "| 2002-01-11 00:00:00 | -1.8791   | -2.27818  | -1.29364  |\n",
      "| 2002-01-12 00:00:00 | -1.82138  | -1.60851  | -2.04524  |\n",
      "| 2002-01-13 00:00:00 | -0.693538 | -1.67191  | -1.46175  |\n",
      "| 2002-01-14 00:00:00 | -1.07247  | -1.43964  | -1.97334  |\n",
      "| 2002-01-15 00:00:00 | -1.94916  | -2.03365  | -1.91821  |\n",
      "| 2002-01-16 00:00:00 | -1.27104  | -1.90796  | -1.60416  |\n",
      "| 2002-01-17 00:00:00 | -2.24152  | -1.82492  | -1.54366  |\n",
      "| 2002-01-18 00:00:00 | -1.36872  | -1.65531  | -1.29537  |\n",
      "| 2002-01-19 00:00:00 | -1.84932  | -1.38006  | -1.97235  |\n",
      "| 2002-01-20 00:00:00 | -1.45628  | -1.49936  | -1.6902   |\n",
      "| 2002-01-21 00:00:00 | -1.96446  | -0.80042  | -1.1491   |\n",
      "| 2002-01-22 00:00:00 | -1.13785  | -1.74673  | -1.20686  |\n",
      "| 2002-01-23 00:00:00 | -1.64733  | -1.95583  | -1.68374  |\n",
      "| 2002-01-24 00:00:00 | -1.76469  | -1.92718  | -1.37609  |\n",
      "| 2002-01-25 00:00:00 | -1.6384   | -2.15971  | -1.62032  |\n",
      "| 2002-01-26 00:00:00 | -1.50278  | -2.45037  | -1.85164  |\n",
      "| 2002-01-27 00:00:00 | -1.01542  | -1.0542   | -1.90918  |\n",
      "| 2002-01-28 00:00:00 | -1.56136  | -1.65717  | -1.47077  |\n",
      "| 2002-01-29 00:00:00 | -1.79123  | -1.13357  | -2.22107  |\n",
      "| 2002-01-30 00:00:00 | -1.25254  | -2.16112  | -1.5574   |\n",
      "| 2002-01-31 00:00:00 | -1.87573  | -1.5584   | -2.08518  |\n",
      "| 2002-02-01 00:00:00 | -1.01651  | -1.46505  | -1.22656  |\n",
      "| 2002-02-02 00:00:00 | -1.34639  | -2.10655  | -1.63081  |\n",
      "| 2002-02-03 00:00:00 | -2.34769  | -1.52474  | -1.7383   |\n",
      "| 2002-02-04 00:00:00 | -1.11954  | -1.76     | -1.29985  |\n",
      "| 2002-02-05 00:00:00 | -1.4988   | -1.17207  | -1.71089  |\n",
      "| 2002-02-06 00:00:00 | -1.80468  | -1.43782  | -1.86105  |\n",
      "| 2002-02-07 00:00:00 | -1.89294  | -1.6034   | -1.82651  |\n",
      "| 2002-02-08 00:00:00 | -1.59606  | -1.72107  | -1.29359  |\n",
      "| 2002-02-09 00:00:00 | -1.45057  | -1.11706  | -1.06588  |\n",
      "| 2002-02-10 00:00:00 | -2.30439  | -1.76109  | -1.35995  |\n",
      "| 2002-02-11 00:00:00 | -1.15934  | -1.86066  | -2.05617  |\n",
      "| 2002-02-12 00:00:00 | -1.54022  | -2.2513   | -2.02701  |\n",
      "| 2002-02-13 00:00:00 | -2.00203  | -1.35301  | -1.77291  |\n",
      "| 2002-02-14 00:00:00 | -1.56932  | -2.37847  | -1.8102   |\n",
      "| 2002-02-15 00:00:00 | -1.8926   | -2.30453  | -1.24101  |\n",
      "| 2002-02-16 00:00:00 | -1.2119   | -1.41582  | -1.28719  |\n",
      "| 2002-02-17 00:00:00 | -1.74692  | -2.01124  | -1.57674  |\n",
      "| 2002-02-18 00:00:00 | -1.48352  | -2.20126  | -1.43833  |\n",
      "| 2002-02-19 00:00:00 | -1.34756  | -1.83457  | -1.98759  |\n",
      "| 2002-02-20 00:00:00 | -2.30722  | -1.85015  | -1.53749  |\n",
      "| 2002-02-21 00:00:00 | -1.25757  | -1.48259  | -1.84769  |\n",
      "| 2002-02-22 00:00:00 | -1.69047  | -1.11902  | -1.58603  |\n",
      "| 2002-02-23 00:00:00 | -1.62325  | -1.1516   | -1.12013  |\n",
      "| 2002-02-24 00:00:00 | -1.35999  | -1.5308   | -1.38198  |\n",
      "| 2002-02-25 00:00:00 | -2.38081  | -1.25283  | -2.09909  |\n",
      "| 2002-02-26 00:00:00 | -2.07312  | -1.96917  | -1.88134  |\n",
      "| 2002-02-27 00:00:00 | -1.54004  | -1.52598  | -1.06651  |\n",
      "| 2002-02-28 00:00:00 | -1.6653   | -1.66172  | -1.98858  |\n",
      "| 2002-03-01 00:00:00 | -1.56152  | -1.60467  | -1.90929  |\n",
      "| 2002-03-02 00:00:00 | -1.43737  | -2.00289  | -2.01348  |\n",
      "| 2002-03-03 00:00:00 | -1.67874  | -1.72447  | -1.90769  |\n",
      "| 2002-03-04 00:00:00 | -1.99771  | -1.71468  | -2.38096  |\n",
      "| 2002-03-05 00:00:00 | -1.82382  | -1.8862   | -1.8083   |\n",
      "| 2002-03-06 00:00:00 | -1.54785  | -1.72426  | -1.48908  |\n",
      "| 2002-03-07 00:00:00 | -1.84392  | -1.73515  | -1.99252  |\n",
      "| 2002-03-08 00:00:00 | -1.73267  | -1.73733  | -2.50896  |\n",
      "| 2002-03-09 00:00:00 | -1.1038   | -1.69325  | -1.84584  |\n",
      "| 2002-03-10 00:00:00 | -1.45798  | -2.16171  | -1.45926  |\n",
      "| 2002-03-11 00:00:00 | -1.98923  | -1.12929  | -1.64397  |\n",
      "| 2002-03-12 00:00:00 | -1.86982  | -1.28772  | -1.70027  |\n",
      "| 2002-03-13 00:00:00 | -2.08566  | -1.93171  | -1.72932  |\n",
      "| 2002-03-14 00:00:00 | -1.57246  | -1.74892  | -1.20553  |\n",
      "| 2002-03-15 00:00:00 | -0.72399  | -2.42397  | -0.974677 |\n",
      "| 2002-03-16 00:00:00 | -1.84254  | -1.2176   | -1.97318  |\n",
      "| 2002-03-17 00:00:00 | -1.66662  | -1.87465  | -1.56933  |\n",
      "| 2002-03-18 00:00:00 | -1.64591  | -2.40036  | -1.78465  |\n",
      "| 2002-03-19 00:00:00 | -1.21316  | -1.83025  | -1.96121  |\n",
      "| 2002-03-20 00:00:00 | -1.78057  | -1.34542  | -2.28593  |\n",
      "| 2002-03-21 00:00:00 | -1.45534  | -1.99135  | -1.45395  |\n",
      "| 2002-03-22 00:00:00 | -1.55462  | -1.53277  | -1.72325  |\n",
      "| 2002-03-23 00:00:00 | -1.12268  | -1.86625  | -2.22092  |\n",
      "| 2002-03-24 00:00:00 | -1.69752  | -1.59617  | -1.58335  |\n",
      "| 2002-03-25 00:00:00 | -2.27631  | -2.04397  | -1.44191  |\n",
      "| 2002-03-26 00:00:00 | -1.24684  | -1.76325  | -1.78456  |\n",
      "| 2002-03-27 00:00:00 | -1.85917  | -1.26825  | -1.79949  |\n",
      "| 2002-03-28 00:00:00 | -1.46382  | -1.863    | -1.72467  |\n",
      "| 2002-03-29 00:00:00 | -2.08157  | -1.17586  | -1.41229  |\n",
      "| 2002-03-30 00:00:00 | -1.65729  | -1.5968   | -1.24694  |\n",
      "| 2002-03-31 00:00:00 | -2.39723  | -1.69447  | -1.45575  |\n",
      "| 2002-04-01 00:00:00 | -1.72848  | -1.18732  | -1.37259  |\n",
      "| 2002-04-02 00:00:00 | -2.52438  | -2.16095  | -1.80148  |\n",
      "| 2002-04-03 00:00:00 | -2.43057  | -1.43667  | -1.50312  |\n",
      "| 2002-04-04 00:00:00 | -1.80679  | -1.77825  | -2.03809  |\n",
      "| 2002-04-05 00:00:00 | -1.98264  | -2.19283  | -1.54916  |\n",
      "| 2002-04-06 00:00:00 | -1.63208  | -1.90279  | -1.65122  |\n",
      "| 2002-04-07 00:00:00 | -2.16255  | -1.86783  | -1.50102  |\n",
      "| 2002-04-08 00:00:00 | -1.72041  | -1.79289  | -1.60278  |\n",
      "| 2002-04-09 00:00:00 | -1.78357  | -1.50451  | -1.20068  |\n",
      "| 2002-04-10 00:00:00 | -1.5718   | -1.84613  | -1.34233  |\n",
      "| 2002-04-11 00:00:00 | -1.29164  | -2.16713  | -1.75652  |\n",
      "| 2002-04-12 00:00:00 | -1.82954  | -2.14611  | -1.25561  |\n",
      "| 2002-04-13 00:00:00 | -1.52073  | -1.9362   | -1.31713  |\n",
      "| 2002-04-14 00:00:00 | -1.99315  | -1.80139  | -1.84553  |\n",
      "| 2002-04-15 00:00:00 | -1.83959  | -1.83502  | -1.96979  |\n",
      "| 2002-04-16 00:00:00 | -1.75517  | -1.93402  | -1.53759  |\n",
      "| 2002-04-17 00:00:00 | -1.58745  | -1.14266  | -1.04245  |\n",
      "| 2002-04-18 00:00:00 | -1.09314  | -2.095    | -1.95356  |\n",
      "| 2002-04-19 00:00:00 | -2.17663  | -1.82086  | -1.65533  |\n",
      "| 2002-04-20 00:00:00 | -2.41283  | -1.76779  | -2.00833  |\n",
      "| 2002-04-21 00:00:00 | -1.18188  | -0.976176 | -2.00866  |\n",
      "| 2002-04-22 00:00:00 | -1.59112  | -1.6209   | -1.47096  |\n",
      "| 2002-04-23 00:00:00 | -1.53234  | -1.69668  | -1.40796  |\n",
      "| 2002-04-24 00:00:00 | -1.85613  | -2.46643  | -1.33059  |\n",
      "| 2002-04-25 00:00:00 | -1.22592  | -1.27779  | -1.37692  |\n",
      "| 2002-04-26 00:00:00 | -2.40461  | -1.45321  | -2.04744  |\n",
      "| 2002-04-27 00:00:00 | -1.85507  | -1.42108  | -1.03467  |\n",
      "| 2002-04-28 00:00:00 | -1.50742  | -1.38084  | -1.82367  |\n",
      "| 2002-04-29 00:00:00 | -2.06262  | -1.61772  | -1.7379   |\n",
      "| 2002-04-30 00:00:00 | -2.23164  | -1.60131  | -1.67118  |\n",
      "| 2002-05-01 00:00:00 | -1.93529  | -1.8364   | -1.04922  |\n",
      "| 2002-05-02 00:00:00 | -2.38251  | -2.00718  | -2.03647  |\n",
      "| 2002-05-03 00:00:00 | -1.82339  | -1.72124  | -1.86991  |\n",
      "| 2002-05-04 00:00:00 | -1.66224  | -1.41348  | -1.82077  |\n",
      "| 2002-05-05 00:00:00 | -1.83239  | -1.50094  | -1.40956  |\n",
      "| 2002-05-06 00:00:00 | -1.37171  | -2.04741  | -1.33432  |\n",
      "| 2002-05-07 00:00:00 | -1.54138  | -1.23995  | -2.00608  |\n",
      "| 2002-05-08 00:00:00 | -1.35824  | -1.26828  | -1.71585  |\n",
      "| 2002-05-09 00:00:00 | -1.01469  | -2.61149  | -2.13867  |\n",
      "| 2002-05-10 00:00:00 | -2.03326  | -1.43617  | -1.74539  |\n",
      "| 2002-05-11 00:00:00 | -2.01783  | -1.41553  | -2.12722  |\n",
      "| 2002-05-12 00:00:00 | -2.03287  | -1.81431  | -2.00399  |\n",
      "| 2002-05-13 00:00:00 | -1.54247  | -1.52669  | -1.77758  |\n",
      "| 2002-05-14 00:00:00 | -1.48     | -1.50891  | -1.99284  |\n",
      "| 2002-05-15 00:00:00 | -1.7932   | -1.94518  | -1.26558  |\n",
      "| 2002-05-16 00:00:00 | -1.90386  | -1.70675  | -1.99587  |\n",
      "| 2002-05-17 00:00:00 | -1.95899  | -1.38317  | -2.22707  |\n",
      "| 2002-05-18 00:00:00 | -1.58203  | -1.22756  | -1.6664   |\n",
      "| 2002-05-19 00:00:00 | -1.89415  | -1.62553  | -1.76116  |\n",
      "| 2002-05-20 00:00:00 | -1.82701  | -1.24722  | -0.932697 |\n",
      "| 2002-05-21 00:00:00 | -2.13385  | -1.3923   | -1.72189  |\n",
      "| 2002-05-22 00:00:00 | -1.65266  | -1.20975  | -1.65182  |\n",
      "| 2002-05-23 00:00:00 | -1.536    | -1.74451  | -1.65686  |\n",
      "| 2002-05-24 00:00:00 | -1.6561   | -1.61993  | -2.09747  |\n",
      "| 2002-05-25 00:00:00 | -2.08355  | -1.4509   | -1.52035  |\n",
      "| 2002-05-26 00:00:00 | -1.74525  | -1.21697  | -1.97539  |\n",
      "| 2002-05-27 00:00:00 | -1.40562  | -1.79676  | -2.38452  |\n",
      "| 2002-05-28 00:00:00 | -1.68698  | -1.77864  | -1.72662  |\n",
      "| 2002-05-29 00:00:00 | -1.31991  | -1.62662  | -1.8841   |\n",
      "| 2002-05-30 00:00:00 | -0.924011 | -1.3029   | -1.42139  |\n",
      "| 2002-05-31 00:00:00 | -1.93393  | -1.57091  | -1.27589  |\n",
      "| 2002-06-01 00:00:00 | -1.67884  | -1.51806  | -1.24257  |\n",
      "| 2002-06-02 00:00:00 | -1.23289  | -1.39184  | -1.52274  |\n",
      "| 2002-06-03 00:00:00 | -1.32995  | -1.01976  | -1.03455  |\n",
      "| 2002-06-04 00:00:00 | -1.47344  | -1.98617  | -1.7966   |\n",
      "| 2002-06-05 00:00:00 | -1.47112  | -1.54651  | -1.59922  |\n",
      "| 2002-06-06 00:00:00 | -1.5401   | -1.9889   | -2.1825   |\n",
      "| 2002-06-07 00:00:00 | -2.36151  | -2.19305  | -1.94199  |\n",
      "| 2002-06-08 00:00:00 | -2.04188  | -1.46535  | -1.63018  |\n",
      "| 2002-06-09 00:00:00 | -1.67453  | -1.79326  | -1.20826  |\n",
      "| 2002-06-10 00:00:00 | -1.09724  | -1.47519  | -1.42494  |\n",
      "| 2002-06-11 00:00:00 | -1.37596  | -1.08127  | -1.90441  |\n",
      "| 2002-06-12 00:00:00 | -0.911123 | -1.46903  | -1.62552  |\n",
      "| 2002-06-13 00:00:00 | -1.90284  | -0.81445  | -1.30267  |\n",
      "| 2002-06-14 00:00:00 | -1.77176  | -1.36565  | -0.88877  |\n",
      "| 2002-06-15 00:00:00 | -1.85089  | -2.12019  | -1.34302  |\n",
      "| 2002-06-16 00:00:00 | -1.66353  | -1.63488  | -1.74714  |\n",
      "| 2002-06-17 00:00:00 | -2.0731   | -1.37279  | -2.0506   |\n",
      "| 2002-06-18 00:00:00 | -1.52746  | -2.03442  | -1.90991  |\n",
      "| 2002-06-19 00:00:00 | -1.27315  | -1.63843  | -1.38742  |\n",
      "| 2002-06-20 00:00:00 | -1.41588  | -1.59095  | -1.89309  |\n",
      "| 2002-06-21 00:00:00 | -1.60706  | -1.57711  | -2.31863  |\n",
      "| 2002-06-22 00:00:00 | -1.79414  | -1.29703  | -1.48649  |\n",
      "| 2002-06-23 00:00:00 | -1.79054  | -1.45685  | -1.32301  |\n",
      "| 2002-06-24 00:00:00 | -1.62811  | -1.559    | -1.51491  |\n",
      "| 2002-06-25 00:00:00 | -2.04024  | -2.16622  | -1.07267  |\n",
      "| 2002-06-26 00:00:00 | -2.10072  | -2.06306  | -1.45258  |\n",
      "| 2002-06-27 00:00:00 | -1.79307  | -1.84248  | -0.843472 |\n",
      "| 2002-06-28 00:00:00 | -1.55029  | -1.49079  | -1.26198  |\n",
      "| 2002-06-29 00:00:00 | -1.76124  | -1.84776  | -1.48994  |\n",
      "| 2002-06-30 00:00:00 | -2.09151  | -1.43014  | -1.80349  |\n",
      "| 2002-07-01 00:00:00 | -1.27154  | -1.68604  | -1.19732  |\n",
      "| 2002-07-02 00:00:00 | -1.23453  | -1.83201  | -1.28956  |\n",
      "| 2002-07-03 00:00:00 | -1.69371  | -1.69754  | -1.60898  |\n",
      "| 2002-07-04 00:00:00 | -2.17571  | -1.9351   | -2.09442  |\n",
      "| 2002-07-05 00:00:00 | -1.22106  | -2.14649  | -1.20851  |\n",
      "| 2002-07-06 00:00:00 | -1.16404  | -1.18915  | -1.68024  |\n",
      "| 2002-07-07 00:00:00 | -2.43668  | -1.94519  | -1.70882  |\n",
      "| 2002-07-08 00:00:00 | -1.69842  | -2.02581  | -1.51642  |\n",
      "| 2002-07-09 00:00:00 | -1.66995  | -2.22132  | -1.97771  |\n",
      "| 2002-07-10 00:00:00 | -1.3243   | -1.6492   | -1.86006  |\n",
      "| 2002-07-11 00:00:00 | -1.76989  | -1.73365  | -1.93597  |\n",
      "| 2002-07-12 00:00:00 | -1.38559  | -1.55691  | -1.728    |\n",
      "| 2002-07-13 00:00:00 | -0.517753 | -1.15046  | -1.53558  |\n",
      "| 2002-07-14 00:00:00 | -0.830036 | -1.06529  | -1.70908  |\n",
      "| 2002-07-15 00:00:00 | -2.10812  | -1.74098  | -1.77032  |\n",
      "| 2002-07-16 00:00:00 | -1.63556  | -2.03708  | -1.74563  |\n",
      "| 2002-07-17 00:00:00 | -1.87767  | -1.36568  | -2.31231  |\n",
      "| 2002-07-18 00:00:00 | -1.69334  | -1.30757  | -1.26155  |\n",
      "| 2002-07-19 00:00:00 | -1.24696  | -1.74592  | -2.2775   |\n",
      "| 2002-07-20 00:00:00 | -1.89343  | -2.01695  | -1.73696  |\n",
      "| 2002-07-21 00:00:00 | -2.11203  | -1.53619  | -1.31767  |\n",
      "| 2002-07-22 00:00:00 | -2.0847   | -1.72873  | -1.39676  |\n",
      "| 2002-07-23 00:00:00 | -1.48739  | -1.93101  | -1.93916  |\n",
      "| 2002-07-24 00:00:00 | -1.28861  | -1.25053  | -2.20088  |\n",
      "| 2002-07-25 00:00:00 | -1.72059  | -1.51518  | -1.9171   |\n",
      "| 2002-07-26 00:00:00 | -1.36649  | -1.77368  | -1.83371  |\n",
      "| 2002-07-27 00:00:00 | -1.46415  | -1.44621  | -1.53961  |\n",
      "| 2002-07-28 00:00:00 | -1.4508   | -1.594    | -1.65387  |\n",
      "| 2002-07-29 00:00:00 | -1.33087  | -1.0246   | -1.5793   |\n",
      "| 2002-07-30 00:00:00 | -2.2788   | -2.11518  | -1.21778  |\n",
      "| 2002-07-31 00:00:00 | -1.41123  | -2.38079  | -2.14387  |\n",
      "| 2002-08-01 00:00:00 | -1.51872  | -2.18453  | -2.16019  |\n",
      "| 2002-08-02 00:00:00 | -0.982892 | -1.47602  | -1.50664  |\n",
      "| 2002-08-03 00:00:00 | -2.19193  | -1.63634  | -2.11414  |\n",
      "| 2002-08-04 00:00:00 | -2.71614  | -1.27459  | -1.44391  |\n",
      "| 2002-08-05 00:00:00 | -1.83675  | -2.0751   | -1.4499   |\n",
      "| 2002-08-06 00:00:00 | -2.03942  | -1.85556  | -2.00969  |\n",
      "| 2002-08-07 00:00:00 | -1.3303   | -2.08905  | -1.82899  |\n",
      "| 2002-08-08 00:00:00 | -2.25129  | -1.67669  | -1.55086  |\n",
      "| 2002-08-09 00:00:00 | -1.78788  | -1.5174   | -1.75502  |\n",
      "| 2002-08-10 00:00:00 | -1.46953  | -1.86677  | -1.4634   |\n",
      "| 2002-08-11 00:00:00 | -2.13004  | -1.44976  | -1.34308  |\n",
      "| 2002-08-12 00:00:00 | -1.19031  | -1.74061  | -1.5338   |\n",
      "| 2002-08-13 00:00:00 | -1.14929  | -1.84159  | -1.43236  |\n",
      "| 2002-08-14 00:00:00 | -1.78218  | -1.8029   | -1.59571  |\n",
      "| 2002-08-15 00:00:00 | -1.86681  | -1.571    | -1.73584  |\n",
      "| 2002-08-16 00:00:00 | -1.42303  | -2.03757  | -1.85336  |\n",
      "| 2002-08-17 00:00:00 | -1.85675  | -2.21742  | -1.49968  |\n",
      "| 2002-08-18 00:00:00 | -1.72712  | -1.58554  | -1.32211  |\n",
      "| 2002-08-19 00:00:00 | -1.87119  | -1.88844  | -1.26914  |\n",
      "| 2002-08-20 00:00:00 | -1.32315  | -1.37097  | -1.09026  |\n",
      "| 2002-08-21 00:00:00 | -1.37569  | -1.80134  | -1.4771   |\n",
      "| 2002-08-22 00:00:00 | -1.53578  | -1.2604   | -1.61128  |\n",
      "| 2002-08-23 00:00:00 | -2.20077  | -1.6388   | -1.62885  |\n",
      "| 2002-08-24 00:00:00 | -1.05024  | -2.19719  | -2.07711  |\n",
      "| 2002-08-25 00:00:00 | -1.7614   | -2.05227  | -0.971617 |\n",
      "| 2002-08-26 00:00:00 | -2.32175  | -1.77789  | -1.60059  |\n",
      "| 2002-08-27 00:00:00 | -1.69241  | -1.64394  | -2.37136  |\n",
      "| 2002-08-28 00:00:00 | -2.01177  | -1.80502  | -1.8109   |\n",
      "| 2002-08-29 00:00:00 | -1.55344  | -1.58652  | -1.88164  |\n",
      "| 2002-08-30 00:00:00 | -1.07707  | -1.49654  | -2.18172  |\n",
      "| 2002-08-31 00:00:00 | -1.48711  | -1.94311  | -2.39931  |\n",
      "| 2002-09-01 00:00:00 | -1.63764  | -2.26228  | -1.6868   |\n",
      "| 2002-09-02 00:00:00 | -1.54076  | -1.50714  | -2.2946   |\n",
      "| 2002-09-03 00:00:00 | -1.80813  | -1.7372   | -2.16977  |\n",
      "| 2002-09-04 00:00:00 | -1.16609  | -1.98404  | -1.79152  |\n",
      "| 2002-09-05 00:00:00 | -1.34132  | -1.84658  | -1.82248  |\n",
      "| 2002-09-06 00:00:00 | -1.71825  | -1.4167   | -1.56698  |\n",
      "| 2002-09-07 00:00:00 | -1.62327  | -1.32558  | -0.873271 |\n",
      "| 2002-09-08 00:00:00 | -1.84079  | -1.5764   | -1.69804  |\n",
      "| 2002-09-09 00:00:00 | -1.82161  | -0.911959 | -1.56225  |\n",
      "| 2002-09-10 00:00:00 | -2.00201  | -1.13903  | -1.13542  |\n",
      "| 2002-09-11 00:00:00 | -1.9772   | -1.2321   | -1.56886  |\n",
      "| 2002-09-12 00:00:00 | -2.02353  | -2.19221  | -1.48081  |\n",
      "| 2002-09-13 00:00:00 | -1.74291  | -1.61083  | -1.85804  |\n",
      "| 2002-09-14 00:00:00 | -1.70975  | -1.32019  | -1.62583  |\n",
      "| 2002-09-15 00:00:00 | -1.04578  | -1.70264  | -1.24584  |\n",
      "| 2002-09-16 00:00:00 | -1.93816  | -2.07496  | -1.65379  |\n",
      "| 2002-09-17 00:00:00 | -1.39818  | -1.56058  | -1.42419  |\n",
      "| 2002-09-18 00:00:00 | -1.56423  | -1.30565  | -1.53841  |\n",
      "| 2002-09-19 00:00:00 | -1.43645  | -1.96229  | -1.74908  |\n",
      "| 2002-09-20 00:00:00 | -2.11159  | -1.59521  | -2.08075  |\n",
      "| 2002-09-21 00:00:00 | -1.81378  | -1.83502  | -2.18695  |\n",
      "| 2002-09-22 00:00:00 | -1.56711  | -1.94436  | -1.08043  |\n",
      "| 2002-09-23 00:00:00 | -1.88634  | -1.09066  | -1.79023  |\n",
      "| 2002-09-24 00:00:00 | -1.39587  | -2.18582  | -1.82486  |\n",
      "| 2002-09-25 00:00:00 | -1.60621  | -1.87616  | -1.44654  |\n",
      "| 2002-09-26 00:00:00 | -1.55628  | -1.47022  | -0.891754 |\n"
     ]
    }
   ],
   "source": [
    "def subtract_and_divide(x, sub, divide = 1):\n",
    "    return (x-sub) / divide\n",
    "\n",
    "tmp = tsdf.apply(subtract_and_divide, args=(5,), divide=3)\n",
    "print(tmp.to_markdown())"
   ]
  },
  {
   "cell_type": "code",
   "execution_count": 170,
   "metadata": {},
   "outputs": [
    {
     "name": "stdout",
     "output_type": "stream",
     "text": [
      "|                     |            A |           B |            C |\n",
      "|:--------------------|-------------:|------------:|-------------:|\n",
      "| 2000-01-01 00:00:00 | -1.40905     | -0.109362   |  0.620325    |\n",
      "| 2000-01-02 00:00:00 | -2.06311     |  0.168855   |  0.248239    |\n",
      "| 2000-01-03 00:00:00 |  0.420529    | -0.782539   | -0.270976    |\n",
      "| 2000-01-04 00:00:00 | -0.190814    | -1.39697    |  0.460543    |\n",
      "| 2000-01-05 00:00:00 | -1.30592     | -0.209384   | -0.291567    |\n",
      "| 2000-01-06 00:00:00 |  1.12435     | -0.300393   |  0.463907    |\n",
      "| 2000-01-07 00:00:00 | -0.0185888   | -0.161435   |  0.493654    |\n",
      "| 2000-01-08 00:00:00 | -0.489839    |  0.513095   | -0.0263361   |\n",
      "| 2000-01-09 00:00:00 | -0.506378    |  0.0970507  | -0.313285    |\n",
      "| 2000-01-10 00:00:00 |  2.5904      |  0.560643   |  1.02937     |\n",
      "| 2000-01-11 00:00:00 |  0.493568    |  1.72296    | -0.354936    |\n",
      "| 2000-01-12 00:00:00 | -0.757156    |  1.93251    | -0.613347    |\n",
      "| 2000-01-13 00:00:00 |  0.484926    |  1.46192    |  0.413371    |\n",
      "| 2000-01-14 00:00:00 | -0.190433    |  0.488295   | -0.362187    |\n",
      "| 2000-01-15 00:00:00 |  1.93466     |  0.75407    | -0.755809    |\n",
      "| 2000-01-16 00:00:00 | -0.172056    |  2.07452    |  0.638366    |\n",
      "| 2000-01-17 00:00:00 |  0.634956    | -1.22438    | -0.805646    |\n",
      "| 2000-01-18 00:00:00 | -0.468584    |  1.48511    | -0.0213648   |\n",
      "| 2000-01-19 00:00:00 | -0.426528    | -0.190302   |  0.622056    |\n",
      "| 2000-01-20 00:00:00 | -0.562991    | -0.0103962  | -1.7193      |\n",
      "| 2000-01-21 00:00:00 |  0.416382    |  2.21122    |  0.0288169   |\n",
      "| 2000-01-22 00:00:00 | -0.897376    | -1.48008    | -0.66629     |\n",
      "| 2000-01-23 00:00:00 |  2.5495      |  1.01149    | -1.25244     |\n",
      "| 2000-01-24 00:00:00 |  1.0661      | -0.810542   |  0.458596    |\n",
      "| 2000-01-25 00:00:00 |  0.00658226  | -0.876109   | -0.208714    |\n",
      "| 2000-01-26 00:00:00 |  1.39214     | -2.22136    | -0.492454    |\n",
      "| 2000-01-27 00:00:00 |  1.63959     |  0.560258   | -0.0173806   |\n",
      "| 2000-01-28 00:00:00 |  1.28787     | -1.43085    |  0.0533597   |\n",
      "| 2000-01-29 00:00:00 | -0.196141    |  0.500113   |  0.91931     |\n",
      "| 2000-01-30 00:00:00 |  1.43805     | -0.636575   | -1.73409     |\n",
      "| 2000-01-31 00:00:00 |  0.514048    | -0.198791   | -0.463106    |\n",
      "| 2000-02-01 00:00:00 | -0.512441    | -1.21918    |  1.20203     |\n",
      "| 2000-02-02 00:00:00 |  0.560408    |  0.936431   |  1.29248     |\n",
      "| 2000-02-03 00:00:00 | -1.11309     |  0.509603   |  1.10428     |\n",
      "| 2000-02-04 00:00:00 |  0.348455    | -0.710793   |  0.758612    |\n",
      "| 2000-02-05 00:00:00 | -0.0537818   | -1.96784    |  0.190004    |\n",
      "| 2000-02-06 00:00:00 | -0.07894     |  1.21331    |  0.968624    |\n",
      "| 2000-02-07 00:00:00 |  0.894136    |  0.0177907  | -1.36687     |\n",
      "| 2000-02-08 00:00:00 |  1.24347     | -0.753891   |  0.559759    |\n",
      "| 2000-02-09 00:00:00 |  0.607757    |  0.290953   |  0.669848    |\n",
      "| 2000-02-10 00:00:00 | -0.536906    |  0.292335   |  0.606372    |\n",
      "| 2000-02-11 00:00:00 |  0.359633    | -1.0618     | -0.645726    |\n",
      "| 2000-02-12 00:00:00 | -0.936079    | -1.46592    |  1.08405     |\n",
      "| 2000-02-13 00:00:00 | -0.859113    | -0.393216   |  1.13394     |\n",
      "| 2000-02-14 00:00:00 | -0.0347731   |  1.5908     | -0.455949    |\n",
      "| 2000-02-15 00:00:00 |  0.873344    |  0.168845   | -0.341356    |\n",
      "| 2000-02-16 00:00:00 |  0.977876    | -2.82976    |  2.30431     |\n",
      "| 2000-02-17 00:00:00 |  0.377685    |  0.350913   |  0.83581     |\n",
      "| 2000-02-18 00:00:00 |  0.214426    |  0.925884   | -0.0305836   |\n",
      "| 2000-02-19 00:00:00 | -1.08471     |  0.84803    |  0.285091    |\n",
      "| 2000-02-20 00:00:00 |  0.568572    |  0.487629   |  1.08881     |\n",
      "| 2000-02-21 00:00:00 | -0.60293     |  0.178309   |  2.03953     |\n",
      "| 2000-02-22 00:00:00 |  0.188936    | -1.20248    | -0.891785    |\n",
      "| 2000-02-23 00:00:00 | -1.48049     | -0.470977   | -1.03189     |\n",
      "| 2000-02-24 00:00:00 | -0.191845    |  1.67573    |  0.960517    |\n",
      "| 2000-02-25 00:00:00 |  0.507551    | -0.62722    | -1.12889     |\n",
      "| 2000-02-26 00:00:00 |  1.21971     |  1.04941    |  0.484587    |\n",
      "| 2000-02-27 00:00:00 | -1.61055     |  1.30739    | -0.289071    |\n",
      "| 2000-02-28 00:00:00 | -1.84072     | -0.0350668  | -2.30405     |\n",
      "| 2000-02-29 00:00:00 |  0.633685    | -0.117783   | -2.34949     |\n",
      "| 2000-03-01 00:00:00 |  1.06285     | -1.36138    | -1.44809     |\n",
      "| 2000-03-02 00:00:00 | -0.754559    | -0.428402   | -0.158539    |\n",
      "| 2000-03-03 00:00:00 | -1.16223     | -0.0843081  |  1.0386      |\n",
      "| 2000-03-04 00:00:00 | -1.11616     |  1.12152    |  1.65215     |\n",
      "| 2000-03-05 00:00:00 |  1.10459     | -0.800032   |  0.292137    |\n",
      "| 2000-03-06 00:00:00 | -1.1781      | -2.00542    | -1.2793      |\n",
      "| 2000-03-07 00:00:00 |  0.318295    | -0.397726   | -0.743874    |\n",
      "| 2000-03-08 00:00:00 |  1.55981     |  0.527724   | -0.474778    |\n",
      "| 2000-03-09 00:00:00 |  2.4072      |  0.144611   | -0.562995    |\n",
      "| 2000-03-10 00:00:00 | -1.6479      | -0.075256   |  1.17125     |\n",
      "| 2000-03-11 00:00:00 | -0.485139    | -0.193209   |  0.290685    |\n",
      "| 2000-03-12 00:00:00 |  1.19091     | -2.86441    |  0.319595    |\n",
      "| 2000-03-13 00:00:00 | -0.687157    | -0.78624    |  1.13473     |\n",
      "| 2000-03-14 00:00:00 |  1.26354     |  0.599429   | -1.95814     |\n",
      "| 2000-03-15 00:00:00 |  0.655954    |  1.21771    | -0.287009    |\n",
      "| 2000-03-16 00:00:00 | -1.97127     |  0.37153    | -0.104794    |\n",
      "| 2000-03-17 00:00:00 |  1.26584     |  0.725559   | -1.18573     |\n",
      "| 2000-03-18 00:00:00 | -0.320835    | -1.07112    | -1.08535     |\n",
      "| 2000-03-19 00:00:00 | -0.538852    |  2.85546    | -0.387803    |\n",
      "| 2000-03-20 00:00:00 |  0.0154921   | -0.330614   |  1.56127     |\n",
      "| 2000-03-21 00:00:00 |  0.431985    | -1.02131    |  0.266247    |\n",
      "| 2000-03-22 00:00:00 | -2.48004     | -1.31715    | -2.85846     |\n",
      "| 2000-03-23 00:00:00 |  2.44983     | -1.05957    | -1.18388     |\n",
      "| 2000-03-24 00:00:00 |  0.161293    |  0.919992   |  1.23057     |\n",
      "| 2000-03-25 00:00:00 | -0.173227    |  0.394932   |  0.341781    |\n",
      "| 2000-03-26 00:00:00 | -1.91349     |  0.677506   | -1.80042     |\n",
      "| 2000-03-27 00:00:00 |  1.18969     |  0.315483   |  0.970693    |\n",
      "| 2000-03-28 00:00:00 | -0.964084    | -1.58003    |  0.4537      |\n",
      "| 2000-03-29 00:00:00 | -1.33204     | -0.571799   | -0.413338    |\n",
      "| 2000-03-30 00:00:00 | -0.711969    |  1.29269    | -1.17279     |\n",
      "| 2000-03-31 00:00:00 |  1.76284     | -0.00765941 | -0.0171891   |\n",
      "| 2000-04-01 00:00:00 |  0.274889    |  2.09768    |  0.965132    |\n",
      "| 2000-04-02 00:00:00 | -0.94625     |  0.517225   |  0.506848    |\n",
      "| 2000-04-03 00:00:00 |  0.781097    | -0.0818746  | -0.456625    |\n",
      "| 2000-04-04 00:00:00 | -2.24024     | -0.0946983  |  1.63759     |\n",
      "| 2000-04-05 00:00:00 | -1.50877     | -0.941374   |  1.06453     |\n",
      "| 2000-04-06 00:00:00 | -0.215149    |  0.758339   | -0.715225    |\n",
      "| 2000-04-07 00:00:00 |  1.11435     | -0.929383   |  1.40894     |\n",
      "| 2000-04-08 00:00:00 | -1.1266      |  1.39088    | -0.438232    |\n",
      "| 2000-04-09 00:00:00 |  1.08146     | -0.411076   |  1.32296     |\n",
      "| 2000-04-10 00:00:00 |  0.71923     | -0.356929   |  2.10083     |\n",
      "| 2000-04-11 00:00:00 |  1.03422     |  1.02062    | -2.08646     |\n",
      "| 2000-04-12 00:00:00 | -0.762395    |  0.995678   | -0.339854    |\n",
      "| 2000-04-13 00:00:00 |  2.15394     |  1.19624    | -0.695338    |\n",
      "| 2000-04-14 00:00:00 | -0.946617    | -2.09777    |  0.456736    |\n",
      "| 2000-04-15 00:00:00 | -2.01626     |  1.02213    |  1.4828      |\n",
      "| 2000-04-16 00:00:00 |  0.530819    | -2.03448    | -0.0193061   |\n",
      "| 2000-04-17 00:00:00 | -0.451531    | -1.20044    |  1.28086     |\n",
      "| 2000-04-18 00:00:00 | -0.733759    |  0.376545   |  1.65482     |\n",
      "| 2000-04-19 00:00:00 |  0.329786    |  1.1239     | -0.0431579   |\n",
      "| 2000-04-20 00:00:00 | -0.244088    |  0.829909   | -1.27632     |\n",
      "| 2000-04-21 00:00:00 | -0.343511    | -0.887926   |  0.501279    |\n",
      "| 2000-04-22 00:00:00 | -0.835345    | -0.211669   |  0.362159    |\n",
      "| 2000-04-23 00:00:00 |  0.38919     |  1.6573     | -0.394359    |\n",
      "| 2000-04-24 00:00:00 |  0.46484     | -2.3051     | -2.33391     |\n",
      "| 2000-04-25 00:00:00 | -0.963056    | -0.796688   | -1.27609     |\n",
      "| 2000-04-26 00:00:00 |  0.424619    |  0.717795   | -0.542512    |\n",
      "| 2000-04-27 00:00:00 |  2.85356     |  0.749696   |  1.52507     |\n",
      "| 2000-04-28 00:00:00 | -0.886624    | -2.05478    | -0.600668    |\n",
      "| 2000-04-29 00:00:00 |  0.880071    |  0.227924   | -1.82574     |\n",
      "| 2000-04-30 00:00:00 | -0.517743    |  0.714572   | -0.653339    |\n",
      "| 2000-05-01 00:00:00 |  0.554243    | -0.756407   |  0.435161    |\n",
      "| 2000-05-02 00:00:00 | -0.221168    | -1.35868    |  0.41853     |\n",
      "| 2000-05-03 00:00:00 |  0.447309    |  0.0993571  |  1.27716     |\n",
      "| 2000-05-04 00:00:00 |  2.54339     |  0.639511   | -1.97124     |\n",
      "| 2000-05-05 00:00:00 | -0.58019     |  1.53755    | -0.60232     |\n",
      "| 2000-05-06 00:00:00 |  0.0565554   |  0.766839   | -0.839021    |\n",
      "| 2000-05-07 00:00:00 | -1.79915     | -1.57805    | -1.06701     |\n",
      "| 2000-05-08 00:00:00 | -0.753492    | -2.07602    |  0.0673843   |\n",
      "| 2000-05-09 00:00:00 | -0.071142    | -0.933652   | -0.428386    |\n",
      "| 2000-05-10 00:00:00 |  0.685129    | -1.09403    |  1.21272     |\n",
      "| 2000-05-11 00:00:00 | -0.108076    | -0.440702   | -1.86192     |\n",
      "| 2000-05-12 00:00:00 |  0.174017    |  1.57975    | -0.723049    |\n",
      "| 2000-05-13 00:00:00 |  0.508022    |  1.22231    | -2.11412     |\n",
      "| 2000-05-14 00:00:00 | -1.25397     | -0.21807    | -0.691309    |\n",
      "| 2000-05-15 00:00:00 |  0.532326    | -1.07879    | -0.536752    |\n",
      "| 2000-05-16 00:00:00 |  1.68966     | -0.60503    | -0.107625    |\n",
      "| 2000-05-17 00:00:00 | -0.973248    | -1.16615    | -0.522322    |\n",
      "| 2000-05-18 00:00:00 |  0.181245    | -0.545385   | -0.563114    |\n",
      "| 2000-05-19 00:00:00 |  1.06915     | -0.546052   |  0.431937    |\n",
      "| 2000-05-20 00:00:00 |  1.35208     | -0.349177   | -1.29758     |\n",
      "| 2000-05-21 00:00:00 | -0.193788    |  0.558593   | -0.486191    |\n",
      "| 2000-05-22 00:00:00 | -0.169133    |  1.63807    | -0.233781    |\n",
      "| 2000-05-23 00:00:00 |  2.49702     |  0.390357   |  0.888739    |\n",
      "| 2000-05-24 00:00:00 |  1.25792     |  0.266401   | -0.841747    |\n",
      "| 2000-05-25 00:00:00 |  0.0707857   |  0.36678    |  1.89955     |\n",
      "| 2000-05-26 00:00:00 |  2.1847      |  0.0572871  |  1.8746      |\n",
      "| 2000-05-27 00:00:00 | -1.0142      |  0.904262   | -0.78489     |\n",
      "| 2000-05-28 00:00:00 |  2.2125      | -0.952162   |  2.99436     |\n",
      "| 2000-05-29 00:00:00 |  1.38145     |  1.71285    |  0.726559    |\n",
      "| 2000-05-30 00:00:00 | -1.22483     |  0.0240207  | -0.138944    |\n",
      "| 2000-05-31 00:00:00 | -0.22361     | -0.295216   |  0.583401    |\n",
      "| 2000-06-01 00:00:00 |  0.333663    | -0.165669   | -0.834399    |\n",
      "| 2000-06-02 00:00:00 |  0.737847    |  0.137414   |  0.698165    |\n",
      "| 2000-06-03 00:00:00 |  1.58198     | -1.38087    |  0.474814    |\n",
      "| 2000-06-04 00:00:00 |  0.869516    | -1.56468    | -0.322969    |\n",
      "| 2000-06-05 00:00:00 | -0.317714    |  0.512594   |  2.07644     |\n",
      "| 2000-06-06 00:00:00 | -1.20562     | -0.746346   | -0.791414    |\n",
      "| 2000-06-07 00:00:00 | -0.885057    |  0.579274   |  0.7926      |\n",
      "| 2000-06-08 00:00:00 | -0.984061    |  1.24645    | -0.348272    |\n",
      "| 2000-06-09 00:00:00 |  1.12594     | -0.0783435  |  0.565597    |\n",
      "| 2000-06-10 00:00:00 | -0.508986    | -0.546122   | -0.523664    |\n",
      "| 2000-06-11 00:00:00 | -0.599037    | -1.79408    |  0.34295     |\n",
      "| 2000-06-12 00:00:00 |  0.742518    |  0.915094   |  1.64083     |\n",
      "| 2000-06-13 00:00:00 | -0.0267217   | -0.123148   | -0.879179    |\n",
      "| 2000-06-14 00:00:00 |  0.606662    | -0.674563   |  0.346317    |\n",
      "| 2000-06-15 00:00:00 | -1.04547     | -0.0907839  | -0.880552    |\n",
      "| 2000-06-16 00:00:00 |  1.3574      |  0.164767   | -0.277318    |\n",
      "| 2000-06-17 00:00:00 |  0.728794    | -0.800681   |  0.745399    |\n",
      "| 2000-06-18 00:00:00 | -1.06687     | -2.10812    |  0.496408    |\n",
      "| 2000-06-19 00:00:00 |  0.247388    |  1.34943    | -0.32607     |\n",
      "| 2000-06-20 00:00:00 | -0.682919    |  1.01647    |  0.683615    |\n",
      "| 2000-06-21 00:00:00 | -0.703175    |  0.802415   | -2.82179     |\n",
      "| 2000-06-22 00:00:00 | -3.69881     |  0.671891   |  1.96183     |\n",
      "| 2000-06-23 00:00:00 |  1.63023     | -0.184677   | -2.1809      |\n",
      "| 2000-06-24 00:00:00 |  0.252542    |  0.700413   |  0.856354    |\n",
      "| 2000-06-25 00:00:00 |  1.31992     | -1.07149    |  0.289957    |\n",
      "| 2000-06-26 00:00:00 | -1.28751     |  0.486962   | -1.20981     |\n",
      "| 2000-06-27 00:00:00 |  0.687269    |  1.07277    |  0.181636    |\n",
      "| 2000-06-28 00:00:00 |  0.550677    |  0.612599   | -0.0240469   |\n",
      "| 2000-06-29 00:00:00 | -2.44349     |  0.175543   | -0.311874    |\n",
      "| 2000-06-30 00:00:00 | -0.0949875   | -0.238087   | -0.982557    |\n",
      "| 2000-07-01 00:00:00 |  0.614994    |  0.890217   |  0.994453    |\n",
      "| 2000-07-02 00:00:00 | -0.589505    |  2.33937    |  0.39394     |\n",
      "| 2000-07-03 00:00:00 | -0.435584    |  0.881998   |  0.637312    |\n",
      "| 2000-07-04 00:00:00 |  0.0405025   | -0.277778   | -1.86559     |\n",
      "| 2000-07-05 00:00:00 |  0.421246    | -0.867993   | -0.189926    |\n",
      "| 2000-07-06 00:00:00 | -0.286956    | -1.12268    | -0.76813     |\n",
      "| 2000-07-07 00:00:00 | -0.178006    | -0.0862895  | -0.318622    |\n",
      "| 2000-07-08 00:00:00 | -0.681872    |  0.351708   |  1.36995     |\n",
      "| 2000-07-09 00:00:00 |  1.94462     |  0.374866   |  0.86791     |\n",
      "| 2000-07-10 00:00:00 | -0.149967    | -1.41544    |  2.52051     |\n",
      "| 2000-07-11 00:00:00 |  0.86244     |  1.01442    |  0.909479    |\n",
      "| 2000-07-12 00:00:00 | -0.20662     |  0.106726   | -1.59593     |\n",
      "| 2000-07-13 00:00:00 |  0.712478    |  1.06704    |  0.901994    |\n",
      "| 2000-07-14 00:00:00 |  0.492636    | -0.372126   |  0.328815    |\n",
      "| 2000-07-15 00:00:00 |  0.155404    |  0.930402   |  0.266051    |\n",
      "| 2000-07-16 00:00:00 | -0.707468    |  0.362256   | -1.44951     |\n",
      "| 2000-07-17 00:00:00 | -1.14859     |  0.716899   |  0.299118    |\n",
      "| 2000-07-18 00:00:00 |  1.33982     | -0.641062   | -1.38027     |\n",
      "| 2000-07-19 00:00:00 | -0.337254    |  1.64011    |  0.942856    |\n",
      "| 2000-07-20 00:00:00 | -0.434882    |  1.02842    |  0.19767     |\n",
      "| 2000-07-21 00:00:00 | -0.521007    | -0.880125   | -0.490435    |\n",
      "| 2000-07-22 00:00:00 |  0.442487    | -0.9602     |  1.66155     |\n",
      "| 2000-07-23 00:00:00 | -0.583643    | -0.443077   | -0.988414    |\n",
      "| 2000-07-24 00:00:00 |  2.352       | -0.0961934  |  0.837695    |\n",
      "| 2000-07-25 00:00:00 | -0.199637    | -0.225063   | -0.483654    |\n",
      "| 2000-07-26 00:00:00 | -0.669829    |  0.491837   |  2.18731     |\n",
      "| 2000-07-27 00:00:00 |  1.49496     |  2.29514    | -0.0831371   |\n",
      "| 2000-07-28 00:00:00 |  1.25779     | -0.121988   | -1.85027     |\n",
      "| 2000-07-29 00:00:00 | -0.469061    | -0.0455574  | -1.05094     |\n",
      "| 2000-07-30 00:00:00 | -0.718553    | -1.45883    | -1.6775      |\n",
      "| 2000-07-31 00:00:00 |  0.376168    | -1.40602    |  0.757145    |\n",
      "| 2000-08-01 00:00:00 | -0.360736    | -2.0415     | -0.1826      |\n",
      "| 2000-08-02 00:00:00 | -0.310341    |  0.34166    |  0.81899     |\n",
      "| 2000-08-03 00:00:00 | -0.460147    | -0.963626   | -1.71873     |\n",
      "| 2000-08-04 00:00:00 |  1.25001     |  0.268858   |  0.23364     |\n",
      "| 2000-08-05 00:00:00 | -0.0903001   | -0.64066    | -1.28964     |\n",
      "| 2000-08-06 00:00:00 |  0.859525    |  1.57641    |  1.89057     |\n",
      "| 2000-08-07 00:00:00 | -0.568182    |  0.794412   |  1.0329      |\n",
      "| 2000-08-08 00:00:00 | -0.669084    | -0.246881   | -2.53408     |\n",
      "| 2000-08-09 00:00:00 |  0.918217    |  0.539716   |  0.931328    |\n",
      "| 2000-08-10 00:00:00 | -0.412837    | -0.0918546  | -1.63836     |\n",
      "| 2000-08-11 00:00:00 |  0.343325    |  0.486276   |  0.804906    |\n",
      "| 2000-08-12 00:00:00 | -1.29499     |  2.08307    | -0.0559752   |\n",
      "| 2000-08-13 00:00:00 |  1.03596     |  0.810966   | -0.219317    |\n",
      "| 2000-08-14 00:00:00 |  0.0561649   | -0.793156   |  1.14796     |\n",
      "| 2000-08-15 00:00:00 | -1.04423     |  1.40047    | -0.978738    |\n",
      "| 2000-08-16 00:00:00 |  0.319651    |  2.20382    | -0.30874     |\n",
      "| 2000-08-17 00:00:00 |  0.265999    | -0.759805   |  0.181153    |\n",
      "| 2000-08-18 00:00:00 | -1.12917     |  0.431405   | -0.223399    |\n",
      "| 2000-08-19 00:00:00 | -0.119991    |  0.970462   | -0.421002    |\n",
      "| 2000-08-20 00:00:00 | -0.282829    | -0.762398   |  0.210749    |\n",
      "| 2000-08-21 00:00:00 |  0.738248    |  1.45567    |  0.388048    |\n",
      "| 2000-08-22 00:00:00 | -2.26693     | -0.451408   | -1.4266      |\n",
      "| 2000-08-23 00:00:00 | -2.32306     |  0.829072   |  0.141776    |\n",
      "| 2000-08-24 00:00:00 | -0.148032    | -0.405042   |  0.46794     |\n",
      "| 2000-08-25 00:00:00 |  0.0726917   | -0.143743   | -0.361996    |\n",
      "| 2000-08-26 00:00:00 | -1.54807     |  0.802552   | -0.321676    |\n",
      "| 2000-08-27 00:00:00 | -0.78589     |  0.307808   | -2.12043     |\n",
      "| 2000-08-28 00:00:00 |  0.610293    | -0.070472   | -0.219325    |\n",
      "| 2000-08-29 00:00:00 | -0.817331    | -0.744935   | -0.311098    |\n",
      "| 2000-08-30 00:00:00 | -1.22807     |  0.266288   |  1.18226     |\n",
      "| 2000-08-31 00:00:00 |  0.108005    |  0.583983   |  0.830699    |\n",
      "| 2000-09-01 00:00:00 | -1.92695     |  0.541342   |  0.137821    |\n",
      "| 2000-09-02 00:00:00 | -0.577272    |  1.20886    |  0.506008    |\n",
      "| 2000-09-03 00:00:00 |  0.278527    |  0.43435    | -0.846153    |\n",
      "| 2000-09-04 00:00:00 | -1.6465      | -0.874556   | -0.47654     |\n",
      "| 2000-09-05 00:00:00 |  1.44295     | -0.303224   | -0.576389    |\n",
      "| 2000-09-06 00:00:00 | -1.26458     | -2.54044    |  1.00493     |\n",
      "| 2000-09-07 00:00:00 | -0.438495    |  0.212573   |  1.25875     |\n",
      "| 2000-09-08 00:00:00 |  1.19995     | -0.71755    |  0.429569    |\n",
      "| 2000-09-09 00:00:00 |  0.657183    |  1.33731    |  0.408749    |\n",
      "| 2000-09-10 00:00:00 |  1.05002     | -0.119264   | -0.396251    |\n",
      "| 2000-09-11 00:00:00 |  0.969708    | -1.21595    |  0.883775    |\n",
      "| 2000-09-12 00:00:00 | -1.06522     |  1.56255    |  0.935775    |\n",
      "| 2000-09-13 00:00:00 | -1.20327     | -1.53566    | -1.35934     |\n",
      "| 2000-09-14 00:00:00 | -0.465908    | -0.867501   |  0.950816    |\n",
      "| 2000-09-15 00:00:00 | -0.493105    | -0.564308   | -0.74227     |\n",
      "| 2000-09-16 00:00:00 |  0.47801     |  1.04188    |  0.0170027   |\n",
      "| 2000-09-17 00:00:00 |  1.63346     | -1.09028    | -0.193545    |\n",
      "| 2000-09-18 00:00:00 |  0.0831372   | -0.379369   |  0.824728    |\n",
      "| 2000-09-19 00:00:00 |  0.777254    |  1.16494    | -0.208291    |\n",
      "| 2000-09-20 00:00:00 | -0.0056255   |  0.168534   | -1.3508      |\n",
      "| 2000-09-21 00:00:00 | -0.000697448 |  0.463688   |  0.622751    |\n",
      "| 2000-09-22 00:00:00 |  0.22642     |  0.334754   | -0.732443    |\n",
      "| 2000-09-23 00:00:00 | -1.02129     |  0.859038   | -0.464615    |\n",
      "| 2000-09-24 00:00:00 | -0.172379    | -0.104231   | -1.23296     |\n",
      "| 2000-09-25 00:00:00 |  1.02793     | -0.486633   |  0.973951    |\n",
      "| 2000-09-26 00:00:00 |  0.216822    | -0.875055   |  0.453982    |\n",
      "| 2000-09-27 00:00:00 | -0.529924    | -0.96029    | -1.23611     |\n",
      "| 2000-09-28 00:00:00 | -0.208587    |  0.753316   | -0.894819    |\n",
      "| 2000-09-29 00:00:00 |  0.621404    | -1.8249     | -0.207613    |\n",
      "| 2000-09-30 00:00:00 |  0.721752    | -2.60136    |  0.730665    |\n",
      "| 2000-10-01 00:00:00 | -0.349797    |  0.596933   |  1.48734     |\n",
      "| 2000-10-02 00:00:00 | -2.18806     |  0.110293   | -0.319162    |\n",
      "| 2000-10-03 00:00:00 | -0.820038    | -0.519714   | -0.607392    |\n",
      "| 2000-10-04 00:00:00 | -0.569197    | -0.638486   |  0.126097    |\n",
      "| 2000-10-05 00:00:00 |  0.381044    |  0.897738   |  1.06968     |\n",
      "| 2000-10-06 00:00:00 |  0.0164468   | -0.254669   | -1.75118     |\n",
      "| 2000-10-07 00:00:00 | -0.814893    | -0.350172   |  0.458574    |\n",
      "| 2000-10-08 00:00:00 | -0.957218    |  1.52925    | -0.36452     |\n",
      "| 2000-10-09 00:00:00 | -0.625325    |  1.44687    | -1.4349      |\n",
      "| 2000-10-10 00:00:00 | -0.212097    | -1.61119    | -1.71337     |\n",
      "| 2000-10-11 00:00:00 | -0.703638    |  1.03286    |  0.0567465   |\n",
      "| 2000-10-12 00:00:00 |  0.919823    |  2.04277    |  0.504298    |\n",
      "| 2000-10-13 00:00:00 | -0.276539    | -1.2118     |  2.1062      |\n",
      "| 2000-10-14 00:00:00 | -0.215504    | -1.08066    | -0.654659    |\n",
      "| 2000-10-15 00:00:00 | -1.00329     | -0.0442987  | -0.247065    |\n",
      "| 2000-10-16 00:00:00 | -0.33162     |  0.922186   | -1.05777     |\n",
      "| 2000-10-17 00:00:00 | -0.487699    | -0.338767   |  1.00563     |\n",
      "| 2000-10-18 00:00:00 |  2.10127     |  1.96056    | -0.578493    |\n",
      "| 2000-10-19 00:00:00 | -0.733455    |  1.10941    |  0.832443    |\n",
      "| 2000-10-20 00:00:00 | -1.561       |  0.230897   | -0.89628     |\n",
      "| 2000-10-21 00:00:00 | -0.0107199   | -0.658717   | -1.36348     |\n",
      "| 2000-10-22 00:00:00 | -1.1027      | -0.252403   |  0.155199    |\n",
      "| 2000-10-23 00:00:00 | -0.306866    |  0.0601857  |  1.55076     |\n",
      "| 2000-10-24 00:00:00 |  0.0338798   |  0.951067   |  0.511458    |\n",
      "| 2000-10-25 00:00:00 |  1.58677     | -0.230875   | -0.700723    |\n",
      "| 2000-10-26 00:00:00 | -0.56659     |  0.207175   |  0.845472    |\n",
      "| 2000-10-27 00:00:00 | -1.10962     |  0.609719   |  0.181835    |\n",
      "| 2000-10-28 00:00:00 |  0.473512    | -1.15879    | -0.771278    |\n",
      "| 2000-10-29 00:00:00 |  0.136411    |  0.300806   |  1.94968     |\n",
      "| 2000-10-30 00:00:00 |  0.717263    |  0.784395   |  0.0447568   |\n",
      "| 2000-10-31 00:00:00 |  0.494125    |  0.883275   | -0.873497    |\n",
      "| 2000-11-01 00:00:00 |  1.29871     | -0.670999   | -1.81784     |\n",
      "| 2000-11-02 00:00:00 | -0.672277    | -0.633712   |  0.953683    |\n",
      "| 2000-11-03 00:00:00 |  0.0362962   |  1.28116    |  0.193963    |\n",
      "| 2000-11-04 00:00:00 | -0.795843    |  0.0184726  |  0.256074    |\n",
      "| 2000-11-05 00:00:00 | -0.83616     |  1.68393    |  0.661447    |\n",
      "| 2000-11-06 00:00:00 | -0.358943    | -0.788803   |  0.928851    |\n",
      "| 2000-11-07 00:00:00 |  0.289349    | -0.978256   |  1.67388     |\n",
      "| 2000-11-08 00:00:00 | -0.032421    | -0.315995   |  0.7694      |\n",
      "| 2000-11-09 00:00:00 | -0.122425    |  0.257905   |  0.389559    |\n",
      "| 2000-11-10 00:00:00 | -0.763998    | -1.22366    | -0.0194825   |\n",
      "| 2000-11-11 00:00:00 | -1.51261     | -0.0634311  |  0.532776    |\n",
      "| 2000-11-12 00:00:00 |  0.992139    | -0.543154   | -0.88954     |\n",
      "| 2000-11-13 00:00:00 | -0.286722    |  1.95368    | -0.94089     |\n",
      "| 2000-11-14 00:00:00 | -0.169717    |  0.0509935  |  0.600125    |\n",
      "| 2000-11-15 00:00:00 | -0.114228    | -0.623435   | -1.54129     |\n",
      "| 2000-11-16 00:00:00 | -0.951201    |  0.196121   | -1.61479     |\n",
      "| 2000-11-17 00:00:00 | -1.27799     | -0.832229   |  0.0329224   |\n",
      "| 2000-11-18 00:00:00 |  0.0194349   |  0.196956   | -0.506166    |\n",
      "| 2000-11-19 00:00:00 |  1.36136     | -0.40615    |  1.73276     |\n",
      "| 2000-11-20 00:00:00 |  0.660357    |  0.329615   |  1.07202     |\n",
      "| 2000-11-21 00:00:00 |  0.0353913   |  0.34655    | -1.17964     |\n",
      "| 2000-11-22 00:00:00 | -1.30185     |  0.98512    | -1.45651     |\n",
      "| 2000-11-23 00:00:00 |  0.0472089   |  1.58255    |  0.867837    |\n",
      "| 2000-11-24 00:00:00 |  0.122576    |  1.03155    |  0.538274    |\n",
      "| 2000-11-25 00:00:00 | -0.10885     | -0.163862   |  0.586415    |\n",
      "| 2000-11-26 00:00:00 |  0.530609    | -0.266994   |  0.80517     |\n",
      "| 2000-11-27 00:00:00 |  0.19595     |  0.0383139  |  0.904179    |\n",
      "| 2000-11-28 00:00:00 |  0.990656    | -0.895008   | -0.20203     |\n",
      "| 2000-11-29 00:00:00 |  0.695385    | -0.0255343  | -1.16557     |\n",
      "| 2000-11-30 00:00:00 |  0.0507397   | -1.10283    |  1.51159     |\n",
      "| 2000-12-01 00:00:00 | -0.136004    |  0.433315   | -0.401247    |\n",
      "| 2000-12-02 00:00:00 |  0.706918    | -0.377415   |  1.40148     |\n",
      "| 2000-12-03 00:00:00 |  1.50819     | -0.342904   | -1.30039     |\n",
      "| 2000-12-04 00:00:00 | -1.45428     | -0.0524734  | -0.215848    |\n",
      "| 2000-12-05 00:00:00 |  0.427057    | -0.114992   | -1.07666     |\n",
      "| 2000-12-06 00:00:00 | -0.50947     |  0.653742   | -0.751594    |\n",
      "| 2000-12-07 00:00:00 |  0.435174    |  0.0912912  |  0.771191    |\n",
      "| 2000-12-08 00:00:00 |  0.172604    |  0.389971   | -1.19164     |\n",
      "| 2000-12-09 00:00:00 | -1.27075     | -2.0253     |  1.37055     |\n",
      "| 2000-12-10 00:00:00 | -1.03716     |  0.828773   |  0.0179826   |\n",
      "| 2000-12-11 00:00:00 | -0.0207349   |  1.03949    |  0.135207    |\n",
      "| 2000-12-12 00:00:00 | -0.519621    | -1.98374    | -0.286861    |\n",
      "| 2000-12-13 00:00:00 |  1.03186     | -1.33487    | -0.751704    |\n",
      "| 2000-12-14 00:00:00 |  1.58411     | -0.263627   | -0.245012    |\n",
      "| 2000-12-15 00:00:00 | -1.9037      | -0.349948   |  1.43121     |\n",
      "| 2000-12-16 00:00:00 | -0.844776    | -0.098636   |  0.856415    |\n",
      "| 2000-12-17 00:00:00 | -0.566457    | -0.833927   |  0.109085    |\n",
      "| 2000-12-18 00:00:00 | -0.0256318   |  0.243316   | -1.15083     |\n",
      "| 2000-12-19 00:00:00 |  0.911757    |  0.0116932  |  0.530682    |\n",
      "| 2000-12-20 00:00:00 |  0.150561    | -0.435915   |  0.711483    |\n",
      "| 2000-12-21 00:00:00 | -1.59014     | -0.0557627  |  0.201566    |\n",
      "| 2000-12-22 00:00:00 |  0.939446    |  1.1447     | -0.180635    |\n",
      "| 2000-12-23 00:00:00 |  1.19554     | -0.766475   | -0.794395    |\n",
      "| 2000-12-24 00:00:00 |  0.54615     |  0.180014   | -0.0798609   |\n",
      "| 2000-12-25 00:00:00 |  1.63704     | -0.204184   |  0.229549    |\n",
      "| 2000-12-26 00:00:00 | -0.619655    |  0.64268    | -0.425577    |\n",
      "| 2000-12-27 00:00:00 |  0.88198     |  1.66739    |  0.415061    |\n",
      "| 2000-12-28 00:00:00 | -1.49879     | -1.71979    | -1.29737     |\n",
      "| 2000-12-29 00:00:00 |  0.285591    | -0.331842   | -0.511426    |\n",
      "| 2000-12-30 00:00:00 | -0.850293    | -0.686298   | -0.974579    |\n",
      "| 2000-12-31 00:00:00 |  0.741749    |  0.588877   |  0.507761    |\n",
      "| 2001-01-01 00:00:00 |  0.0476194   |  0.255168   | -1.70812     |\n",
      "| 2001-01-02 00:00:00 |  1.85501     | -0.120907   | -0.399463    |\n",
      "| 2001-01-03 00:00:00 | -0.39765     | -2.56104    | -0.64995     |\n",
      "| 2001-01-04 00:00:00 |  0.799574    | -0.135979   | -0.270882    |\n",
      "| 2001-01-05 00:00:00 |  0.659087    | -0.102772   |  0.131388    |\n",
      "| 2001-01-06 00:00:00 | -0.427064    | -0.276819   |  1.6547      |\n",
      "| 2001-01-07 00:00:00 |  0.618897    | -0.118107   |  3.33126     |\n",
      "| 2001-01-08 00:00:00 |  0.384573    |  0.16796    | -2.43249     |\n",
      "| 2001-01-09 00:00:00 | -0.0180077   | -0.491024   |  0.014946    |\n",
      "| 2001-01-10 00:00:00 | -0.26805     |  0.938633   | -0.52378     |\n",
      "| 2001-01-11 00:00:00 | -0.594385    | -1.17597    |  0.159846    |\n",
      "| 2001-01-12 00:00:00 | -0.0208344   |  0.526104   | -1.45466     |\n",
      "| 2001-01-13 00:00:00 | -0.163648    | -0.0589213  |  1.1264      |\n",
      "| 2001-01-14 00:00:00 |  1.66443     | -0.024258   | -0.658254    |\n",
      "| 2001-01-15 00:00:00 | -1.89501     |  0.312527   |  0.48968     |\n",
      "| 2001-01-16 00:00:00 | -1.09652     | -1.49495    | -0.970999    |\n",
      "| 2001-01-17 00:00:00 |  0.045471    |  0.989946   | -0.627145    |\n",
      "| 2001-01-18 00:00:00 |  0.0107281   |  1.28363    | -1.38461     |\n",
      "| 2001-01-19 00:00:00 | -0.00447103  |  0.585094   |  1.03369     |\n",
      "| 2001-01-20 00:00:00 | -0.167515    | -0.37152    |  2.01692     |\n",
      "| 2001-01-21 00:00:00 | -1.75683     |  0.610282   |  0.0831279   |\n",
      "| 2001-01-22 00:00:00 |  0.0923968   | -0.415642   | -0.983443    |\n",
      "| 2001-01-23 00:00:00 |  0.388102    |  0.310206   | -0.432345    |\n",
      "| 2001-01-24 00:00:00 |  0.744411    | -0.0588873  |  0.517505    |\n",
      "| 2001-01-25 00:00:00 |  0.865622    | -1.12035    |  0.750328    |\n",
      "| 2001-01-26 00:00:00 |  1.06468     |  0.881123   |  1.1452      |\n",
      "| 2001-01-27 00:00:00 |  0.562812    |  1.40987    |  0.174573    |\n",
      "| 2001-01-28 00:00:00 |  0.50493     |  0.71025    | -0.627468    |\n",
      "| 2001-01-29 00:00:00 | -0.748776    |  0.861582   |  0.507166    |\n",
      "| 2001-01-30 00:00:00 |  0.976003    |  0.112746   | -0.744087    |\n",
      "| 2001-01-31 00:00:00 | -2.04611     |  0.0577166  | -1.90028     |\n",
      "| 2001-02-01 00:00:00 |  0.405637    |  0.145276   |  1.75254     |\n",
      "| 2001-02-02 00:00:00 | -0.934448    | -0.212965   |  0.601004    |\n",
      "| 2001-02-03 00:00:00 |  0.981068    |  1.35868    |  0.124001    |\n",
      "| 2001-02-04 00:00:00 |  2.55551     | -0.487604   |  0.399475    |\n",
      "| 2001-02-05 00:00:00 | -1.71        |  0.7483     | -0.224902    |\n",
      "| 2001-02-06 00:00:00 | -0.629656    |  0.0790187  |  0.609279    |\n",
      "| 2001-02-07 00:00:00 | -0.733646    |  0.68101    |  0.573796    |\n",
      "| 2001-02-08 00:00:00 |  0.368188    | -0.400805   |  3.13873     |\n",
      "| 2001-02-09 00:00:00 | -0.543445    | -0.601423   | -1.09996     |\n",
      "| 2001-02-10 00:00:00 |  1.6437      | -0.468741   |  0.403728    |\n",
      "| 2001-02-11 00:00:00 |  0.600639    | -0.473586   |  0.219153    |\n",
      "| 2001-02-12 00:00:00 | -3.22735     | -1.236      |  0.685402    |\n",
      "| 2001-02-13 00:00:00 | -0.271997    |  1.741      |  1.31348     |\n",
      "| 2001-02-14 00:00:00 |  0.336578    | -1.85676    | -0.80192     |\n",
      "| 2001-02-15 00:00:00 |  0.289713    |  0.00531055 |  0.39531     |\n",
      "| 2001-02-16 00:00:00 |  1.2592      |  2.93315    |  0.272303    |\n",
      "| 2001-02-17 00:00:00 |  0.252246    |  0.628812   | -1.51409     |\n",
      "| 2001-02-18 00:00:00 |  0.331244    | -0.444092   | -0.69629     |\n",
      "| 2001-02-19 00:00:00 | -0.0138609   |  1.1932     | -0.805282    |\n",
      "| 2001-02-20 00:00:00 |  0.813453    | -0.541592   | -0.377454    |\n",
      "| 2001-02-21 00:00:00 | -0.795001    | -0.582982   |  0.112154    |\n",
      "| 2001-02-22 00:00:00 | -0.461882    | -0.678447   | -0.7206      |\n",
      "| 2001-02-23 00:00:00 |  1.51512     |  0.882711   |  1.08827     |\n",
      "| 2001-02-24 00:00:00 |  1.41214     |  0.345708   |  0.759686    |\n",
      "| 2001-02-25 00:00:00 |  0.584104    |  2.15452    | -0.462308    |\n",
      "| 2001-02-26 00:00:00 |  0.678335    | -0.746757   |  0.472318    |\n",
      "| 2001-02-27 00:00:00 | -0.629907    | -0.74287    |  1.97425     |\n",
      "| 2001-02-28 00:00:00 | -1.60557     |  0.68514    |  0.0560144   |\n",
      "| 2001-03-01 00:00:00 | -2.29171     | -1.81186    |  2.39124     |\n",
      "| 2001-03-02 00:00:00 |  0.43236     |  0.50582    |  0.0330222   |\n",
      "| 2001-03-03 00:00:00 |  0.80721     | -0.243138   |  0.506701    |\n",
      "| 2001-03-04 00:00:00 |  0.800961    | -0.0430864  |  2.34199     |\n",
      "| 2001-03-05 00:00:00 |  0.389833    |  1.04597    |  0.209569    |\n",
      "| 2001-03-06 00:00:00 |  0.93853     |  0.516335   |  0.607539    |\n",
      "| 2001-03-07 00:00:00 | -0.0898376   | -0.913962   | -0.494434    |\n",
      "| 2001-03-08 00:00:00 | -0.653485    |  0.510839   | -0.576072    |\n",
      "| 2001-03-09 00:00:00 |  1.32309     | -0.650942   | -0.658183    |\n",
      "| 2001-03-10 00:00:00 |  0.129681    |  1.15685    | -0.411167    |\n",
      "| 2001-03-11 00:00:00 | -1.76401     |  0.470998   | -0.614654    |\n",
      "| 2001-03-12 00:00:00 |  0.658354    | -0.965883   | -0.348862    |\n",
      "| 2001-03-13 00:00:00 |  0.542788    | -0.339411   | -0.9933      |\n",
      "| 2001-03-14 00:00:00 |  1.01309     |  1.56585    | -0.988018    |\n",
      "| 2001-03-15 00:00:00 | -0.17588     | -1.52029    |  0.961009    |\n",
      "| 2001-03-16 00:00:00 |  1.08468     | -0.615464   |  1.90966     |\n",
      "| 2001-03-17 00:00:00 |  1.95188     |  0.00774589 |  0.112018    |\n",
      "| 2001-03-18 00:00:00 | -0.334186    |  1.9944     | -0.415553    |\n",
      "| 2001-03-19 00:00:00 |  1.90499     |  1.72777    |  1.83191     |\n",
      "| 2001-03-20 00:00:00 | -0.927197    | -0.516721   | -0.198837    |\n",
      "| 2001-03-21 00:00:00 | -1.71321     |  1.05219    | -0.298055    |\n",
      "| 2001-03-22 00:00:00 | -0.727225    |  0.841789   | -0.957533    |\n",
      "| 2001-03-23 00:00:00 | -1.21122     | -0.701363   |  0.244039    |\n",
      "| 2001-03-24 00:00:00 |  0.320276    |  0.973704   | -0.319308    |\n",
      "| 2001-03-25 00:00:00 |  1.43723     | -0.826589   | -0.817582    |\n",
      "| 2001-03-26 00:00:00 | -1.14274     | -0.11661    |  0.892064    |\n",
      "| 2001-03-27 00:00:00 |  0.9859      | -1.10961    |  2.12031     |\n",
      "| 2001-03-28 00:00:00 |  0.380636    |  0.0921182  |  0.12193     |\n",
      "| 2001-03-29 00:00:00 |  0.606052    | -0.478242   | -0.664108    |\n",
      "| 2001-03-30 00:00:00 | -0.136026    | -0.822989   | -1.14002     |\n",
      "| 2001-03-31 00:00:00 | -0.951107    |  1.85116    |  0.998878    |\n",
      "| 2001-04-01 00:00:00 | -0.624664    | -0.0896467  | -1.04154     |\n",
      "| 2001-04-02 00:00:00 |  1.35844     |  0.347799   |  0.795091    |\n",
      "| 2001-04-03 00:00:00 |  2.55537     | -0.153902   | -1.92664     |\n",
      "| 2001-04-04 00:00:00 | -0.712094    | -0.487424   |  0.115638    |\n",
      "| 2001-04-05 00:00:00 | -0.987397    |  0.491876   | -0.120687    |\n",
      "| 2001-04-06 00:00:00 | -0.796337    | -0.0632584  |  0.357967    |\n",
      "| 2001-04-07 00:00:00 | -1.50558     | -0.081532   |  0.330767    |\n",
      "| 2001-04-08 00:00:00 |  0.459766    |  0.971559   | -0.0469679   |\n",
      "| 2001-04-09 00:00:00 | -0.463978    | -1.20402    |  1.55276     |\n",
      "| 2001-04-10 00:00:00 |  0.467449    |  1.78471    |  0.822214    |\n",
      "| 2001-04-11 00:00:00 | -1.18732     |  0.52123    | -0.362327    |\n",
      "| 2001-04-12 00:00:00 |  1.53493     |  0.917347   | -1.70734     |\n",
      "| 2001-04-13 00:00:00 | -0.710813    |  0.41986    |  2.88974     |\n",
      "| 2001-04-14 00:00:00 |  0.113678    |  0.848337   |  1.25647     |\n",
      "| 2001-04-15 00:00:00 |  1.15566     |  1.40585    |  0.086486    |\n",
      "| 2001-04-16 00:00:00 |  0.132006    | -0.263982   |  0.208606    |\n",
      "| 2001-04-17 00:00:00 | -0.37434     | -0.357574   | -0.651636    |\n",
      "| 2001-04-18 00:00:00 |  2.2488      | -1.8387     |  0.0950071   |\n",
      "| 2001-04-19 00:00:00 |  0.603522    |  0.0710124  | -2.50567     |\n",
      "| 2001-04-20 00:00:00 |  0.00908706  | -2.17792    | -0.365078    |\n",
      "| 2001-04-21 00:00:00 | -0.704641    |  0.423934   |  0.0581075   |\n",
      "| 2001-04-22 00:00:00 | -1.18307     | -1.06495    | -2.65016     |\n",
      "| 2001-04-23 00:00:00 |  0.511189    | -1.4227     |  0.472983    |\n",
      "| 2001-04-24 00:00:00 |  0.0493422   | -1.29168    |  0.152268    |\n",
      "| 2001-04-25 00:00:00 | -1.08366     | -0.0926211  |  1.04796     |\n",
      "| 2001-04-26 00:00:00 |  0.777331    | -0.214321   | -0.702934    |\n",
      "| 2001-04-27 00:00:00 |  0.421718    |  0.497501   | -1.57848     |\n",
      "| 2001-04-28 00:00:00 |  0.862941    |  0.629826   |  0.123095    |\n",
      "| 2001-04-29 00:00:00 | -1.47199     | -1.99428    | -1.32431     |\n",
      "| 2001-04-30 00:00:00 |  0.384855    | -1.09096    | -2.30714     |\n",
      "| 2001-05-01 00:00:00 | -0.593676    |  0.824939   |  0.220441    |\n",
      "| 2001-05-02 00:00:00 |  0.643428    | -0.28162    |  1.24549     |\n",
      "| 2001-05-03 00:00:00 | -0.858184    |  0.565318   | -0.100549    |\n",
      "| 2001-05-04 00:00:00 | -0.0125235   | -0.865774   |  0.556505    |\n",
      "| 2001-05-05 00:00:00 |  0.865899    |  0.893941   |  0.157844    |\n",
      "| 2001-05-06 00:00:00 | -0.868007    | -0.83063    | -0.780203    |\n",
      "| 2001-05-07 00:00:00 | -0.259401    | -0.946591   |  0.419987    |\n",
      "| 2001-05-08 00:00:00 |  0.398349    | -0.467718   |  0.822922    |\n",
      "| 2001-05-09 00:00:00 |  1.48022     | -0.481864   |  0.456182    |\n",
      "| 2001-05-10 00:00:00 |  1.04851     |  0.276185   |  1.05944     |\n",
      "| 2001-05-11 00:00:00 |  0.424658    |  0.817217   | -0.771586    |\n",
      "| 2001-05-12 00:00:00 |  0.219812    |  0.903745   |  1.6006      |\n",
      "| 2001-05-13 00:00:00 |  0.637065    |  0.756273   | -1.34751     |\n",
      "| 2001-05-14 00:00:00 | -1.42285     |  1.51611    | -0.762772    |\n",
      "| 2001-05-15 00:00:00 |  0.912224    |  0.406651   | -0.744783    |\n",
      "| 2001-05-16 00:00:00 | -0.0877168   |  1.48931    | -0.382211    |\n",
      "| 2001-05-17 00:00:00 | -1.1081      |  0.541051   |  0.380149    |\n",
      "| 2001-05-18 00:00:00 |  0.69439     | -0.418801   | -0.435525    |\n",
      "| 2001-05-19 00:00:00 | -0.681374    | -0.180648   | -0.380903    |\n",
      "| 2001-05-20 00:00:00 |  0.832042    | -0.284465   |  0.514073    |\n",
      "| 2001-05-21 00:00:00 |  1.18238     | -0.489587   | -1.35674     |\n",
      "| 2001-05-22 00:00:00 | -2.09828     |  1.24312    | -0.369106    |\n",
      "| 2001-05-23 00:00:00 | -2.24549     | -0.223165   |  0.0486812   |\n",
      "| 2001-05-24 00:00:00 |  1.7951      | -0.575132   | -0.302092    |\n",
      "| 2001-05-25 00:00:00 | -2.05116     | -0.076551   | -0.564859    |\n",
      "| 2001-05-26 00:00:00 | -0.717478    |  2.46014    |  0.976601    |\n",
      "| 2001-05-27 00:00:00 | -0.93928     |  0.968684   |  0.839127    |\n",
      "| 2001-05-28 00:00:00 |  0.441499    | -0.35839    |  0.621836    |\n",
      "| 2001-05-29 00:00:00 |  0.207385    | -0.528374   | -0.130397    |\n",
      "| 2001-05-30 00:00:00 |  1.76244     | -0.202303   |  0.396688    |\n",
      "| 2001-05-31 00:00:00 |  2.17358     | -0.890748   | -0.581127    |\n",
      "| 2001-06-01 00:00:00 | -0.620874    |  0.0758651  |  0.306313    |\n",
      "| 2001-06-02 00:00:00 | -0.094727    |  0.439877   |  1.41603     |\n",
      "| 2001-06-03 00:00:00 |  1.96881     |  0.206136   | -1.06361     |\n",
      "| 2001-06-04 00:00:00 | -0.0213185   | -1.62716    | -1.88592     |\n",
      "| 2001-06-05 00:00:00 | -0.804636    |  0.268896   | -1.32838     |\n",
      "| 2001-06-06 00:00:00 |  0.648221    | -1.62847    |  0.673458    |\n",
      "| 2001-06-07 00:00:00 |  0.223879    | -0.121005   | -0.175408    |\n",
      "| 2001-06-08 00:00:00 |  0.351171    |  0.168808   | -0.827009    |\n",
      "| 2001-06-09 00:00:00 |  0.527812    | -1.79816    | -0.696459    |\n",
      "| 2001-06-10 00:00:00 |  0.906307    | -0.738887   |  0.133096    |\n",
      "| 2001-06-11 00:00:00 |  0.732687    | -0.127661   | -0.0703068   |\n",
      "| 2001-06-12 00:00:00 | -0.434625    | -1.59321    |  0.81456     |\n",
      "| 2001-06-13 00:00:00 |  0.661178    | -2.18398    | -0.230787    |\n",
      "| 2001-06-14 00:00:00 |  0.988129    | -0.350664   |  0.828505    |\n",
      "| 2001-06-15 00:00:00 |  0.386503    |  0.0483367  |  0.756322    |\n",
      "| 2001-06-16 00:00:00 | -0.400149    |  0.290262   | -1.18988     |\n",
      "| 2001-06-17 00:00:00 | -0.609613    | -1.46611    | -0.454859    |\n",
      "| 2001-06-18 00:00:00 |  1.08997     | -0.0215369  |  1.15413     |\n",
      "| 2001-06-19 00:00:00 |  0.952476    | -1.47622    |  0.668592    |\n",
      "| 2001-06-20 00:00:00 |  0.475163    |  0.728937   |  0.430611    |\n",
      "| 2001-06-21 00:00:00 |  2.31787     | -1.45753    | -0.331178    |\n",
      "| 2001-06-22 00:00:00 | -1.44129     | -0.743578   |  2.06101     |\n",
      "| 2001-06-23 00:00:00 |  1.84607     | -0.165641   | -0.734287    |\n",
      "| 2001-06-24 00:00:00 | -0.958757    |  0.481113   |  0.516798    |\n",
      "| 2001-06-25 00:00:00 | -0.965139    | -0.312471   | -0.423122    |\n",
      "| 2001-06-26 00:00:00 | -0.560021    | -0.806343   |  0.578247    |\n",
      "| 2001-06-27 00:00:00 | -0.230783    | -0.0249091  | -1.13823     |\n",
      "| 2001-06-28 00:00:00 | -0.570261    | -1.09388    |  0.585838    |\n",
      "| 2001-06-29 00:00:00 |  0.0323278   | -0.686193   |  0.292967    |\n",
      "| 2001-06-30 00:00:00 |  1.13306     |  0.658563   | -0.703129    |\n",
      "| 2001-07-01 00:00:00 | -0.690336    | -0.307716   |  0.975724    |\n",
      "| 2001-07-02 00:00:00 |  0.143279    | -0.856229   |  0.129464    |\n",
      "| 2001-07-03 00:00:00 |  0.227047    |  1.67523    | -0.824799    |\n",
      "| 2001-07-04 00:00:00 | -1.40005     | -0.106175   |  0.103807    |\n",
      "| 2001-07-05 00:00:00 | -0.139836    | -0.00616419 |  0.751542    |\n",
      "| 2001-07-06 00:00:00 |  1.10106     |  1.84849    | -1.00144     |\n",
      "| 2001-07-07 00:00:00 |  0.179626    | -1.014      | -1.36211     |\n",
      "| 2001-07-08 00:00:00 | -0.715189    | -1.07357    | -0.658546    |\n",
      "| 2001-07-09 00:00:00 | -0.713461    | -0.605337   |  0.537251    |\n",
      "| 2001-07-10 00:00:00 |  1.47658     | -0.134005   |  0.342281    |\n",
      "| 2001-07-11 00:00:00 |  1.44267     |  0.610915   | -2.17442     |\n",
      "| 2001-07-12 00:00:00 | -0.0711666   |  1.31712    |  1.24908     |\n",
      "| 2001-07-13 00:00:00 |  0.0822305   |  1.08355    | -0.0600026   |\n",
      "| 2001-07-14 00:00:00 | -1.35569     |  0.103259   |  0.347523    |\n",
      "| 2001-07-15 00:00:00 | -1.6924      |  0.596582   | -1.24505     |\n",
      "| 2001-07-16 00:00:00 |  1.15042     | -0.202126   | -0.328105    |\n",
      "| 2001-07-17 00:00:00 |  0.290411    |  0.626265   |  0.444061    |\n",
      "| 2001-07-18 00:00:00 | -0.51391     |  1.46699    |  1.38148     |\n",
      "| 2001-07-19 00:00:00 | -0.450915    | -0.972173   |  1.12529     |\n",
      "| 2001-07-20 00:00:00 | -1.31175     | -1.65457    |  0.76952     |\n",
      "| 2001-07-21 00:00:00 |  0.252392    |  0.174014   | -1.26148     |\n",
      "| 2001-07-22 00:00:00 |  1.53327     | -0.123274   |  0.353354    |\n",
      "| 2001-07-23 00:00:00 |  1.03102     | -0.814584   | -1.6879      |\n",
      "| 2001-07-24 00:00:00 | -0.0463301   |  0.2908     | -0.741917    |\n",
      "| 2001-07-25 00:00:00 |  0.526853    | -0.0489324  | -0.143232    |\n",
      "| 2001-07-26 00:00:00 | -0.665453    |  0.607111   | -0.706061    |\n",
      "| 2001-07-27 00:00:00 | -0.317379    | -0.117713   | -0.861824    |\n",
      "| 2001-07-28 00:00:00 | -0.0168969   |  0.423622   |  0.162277    |\n",
      "| 2001-07-29 00:00:00 | -1.15071     | -0.204099   | -0.469205    |\n",
      "| 2001-07-30 00:00:00 |  0.537559    | -0.466109   | -2.23848     |\n",
      "| 2001-07-31 00:00:00 |  1.14773     |  0.330295   | -0.975039    |\n",
      "| 2001-08-01 00:00:00 |  0.358501    |  0.635942   |  0.46366     |\n",
      "| 2001-08-02 00:00:00 |  0.288356    |  0.273817   |  0.477901    |\n",
      "| 2001-08-03 00:00:00 | -0.152263    | -2.35261    |  1.2533      |\n",
      "| 2001-08-04 00:00:00 | -0.0632035   | -0.448228   |  0.0886583   |\n",
      "| 2001-08-05 00:00:00 |  0.883847    | -1.22355    |  0.299822    |\n",
      "| 2001-08-06 00:00:00 | -2.06316     |  1.21928    | -0.544901    |\n",
      "| 2001-08-07 00:00:00 | -0.953217    |  0.53277    |  1.93291     |\n",
      "| 2001-08-08 00:00:00 | -1.16281     |  0.185474   | -1.09327     |\n",
      "| 2001-08-09 00:00:00 | -1.00304     |  0.285952   | -0.0764023   |\n",
      "| 2001-08-10 00:00:00 |  0.635769    |  1.66523    |  0.95821     |\n",
      "| 2001-08-11 00:00:00 | -0.755661    | -0.610698   |  0.357806    |\n",
      "| 2001-08-12 00:00:00 |  0.388122    | -0.477575   | -1.75097     |\n",
      "| 2001-08-13 00:00:00 |  0.0242367   | -0.270905   |  1.96802     |\n",
      "| 2001-08-14 00:00:00 |  0.52086     |  0.0685336  |  0.585036    |\n",
      "| 2001-08-15 00:00:00 | -0.758531    | -0.343632   |  2.36455     |\n",
      "| 2001-08-16 00:00:00 | -2.10132     | -0.0638108  | -0.0253997   |\n",
      "| 2001-08-17 00:00:00 |  1.11433     |  0.107293   | -0.340645    |\n",
      "| 2001-08-18 00:00:00 | -0.875463    |  0.954495   |  0.0806143   |\n",
      "| 2001-08-19 00:00:00 |  0.542131    |  0.0781722  | -0.316022    |\n",
      "| 2001-08-20 00:00:00 |  1.0204      |  0.0876276  |  1.17972     |\n",
      "| 2001-08-21 00:00:00 |  0.278566    |  2.3028     | -0.810629    |\n",
      "| 2001-08-22 00:00:00 | -0.0970079   |  0.91013    |  0.152843    |\n",
      "| 2001-08-23 00:00:00 | -0.186068    |  0.323009   |  0.918845    |\n",
      "| 2001-08-24 00:00:00 |  1.31612     | -0.504377   | -0.656045    |\n",
      "| 2001-08-25 00:00:00 | -0.768294    | -0.25373    |  1.00572     |\n",
      "| 2001-08-26 00:00:00 | -0.0505361   |  0.395694   |  0.392491    |\n",
      "| 2001-08-27 00:00:00 |  0.431391    |  0.493553   |  0.3739      |\n",
      "| 2001-08-28 00:00:00 | -1.11426     |  0.215518   |  0.579981    |\n",
      "| 2001-08-29 00:00:00 | -0.185151    |  0.877592   | -0.718122    |\n",
      "| 2001-08-30 00:00:00 |  0.683835    |  1.29882    | -0.579087    |\n",
      "| 2001-08-31 00:00:00 | -0.409522    | -0.586474   | -1.34685     |\n",
      "| 2001-09-01 00:00:00 | -0.219924    |  0.340809   |  1.733       |\n",
      "| 2001-09-02 00:00:00 |  1.84961     |  0.712543   |  0.261726    |\n",
      "| 2001-09-03 00:00:00 | -1.11421     | -1.34872    |  0.951207    |\n",
      "| 2001-09-04 00:00:00 | -0.0147866   | -1.68786    | -0.287638    |\n",
      "| 2001-09-05 00:00:00 |  1.11931     |  0.529387   |  0.369787    |\n",
      "| 2001-09-06 00:00:00 |  0.0487175   |  0.459644   | -0.723094    |\n",
      "| 2001-09-07 00:00:00 |  0.822622    |  0.369609   | -1.66828     |\n",
      "| 2001-09-08 00:00:00 |  0.771041    |  0.88508    |  0.161408    |\n",
      "| 2001-09-09 00:00:00 |  0.225739    |  0.503375   |  1.03545     |\n",
      "| 2001-09-10 00:00:00 | -0.0287533   |  0.991414   |  2.12054     |\n",
      "| 2001-09-11 00:00:00 | -0.964074    |  0.973446   |  0.399172    |\n",
      "| 2001-09-12 00:00:00 | -0.708593    |  0.363498   | -0.262622    |\n",
      "| 2001-09-13 00:00:00 |  1.15617     |  0.72991    | -1.54688     |\n",
      "| 2001-09-14 00:00:00 | -2.27129     | -0.615814   | -0.535927    |\n",
      "| 2001-09-15 00:00:00 |  1.35742     |  1.64893    | -0.470736    |\n",
      "| 2001-09-16 00:00:00 |  0.208169    |  0.155998   |  0.608601    |\n",
      "| 2001-09-17 00:00:00 |  0.0838401   | -1.09897    |  0.244465    |\n",
      "| 2001-09-18 00:00:00 |  1.02282     | -1.28793    | -1.25283     |\n",
      "| 2001-09-19 00:00:00 |  0.757434    | -1.13257    |  1.24853     |\n",
      "| 2001-09-20 00:00:00 |  0.471538    |  1.39219    | -0.306895    |\n",
      "| 2001-09-21 00:00:00 |  0.635947    | -0.934137   |  0.606289    |\n",
      "| 2001-09-22 00:00:00 | -0.476818    |  0.339982   |  0.26499     |\n",
      "| 2001-09-23 00:00:00 | -0.690408    |  0.227682   |  0.364585    |\n",
      "| 2001-09-24 00:00:00 |  0.190992    |  0.385166   | -1.91202     |\n",
      "| 2001-09-25 00:00:00 | -0.405033    |  1.93576    |  0.42858     |\n",
      "| 2001-09-26 00:00:00 |  0.303945    |  0.0306299  |  1.67283     |\n",
      "| 2001-09-27 00:00:00 |  1.16643     | -1.3368     | -0.448383    |\n",
      "| 2001-09-28 00:00:00 | -0.507862    |  0.456599   | -0.371157    |\n",
      "| 2001-09-29 00:00:00 |  0.97502     | -2.01207    |  0.762285    |\n",
      "| 2001-09-30 00:00:00 | -0.757312    |  0.192299   |  2.97984     |\n",
      "| 2001-10-01 00:00:00 |  0.999191    |  0.391033   |  0.49057     |\n",
      "| 2001-10-02 00:00:00 |  0.750706    |  0.472284   | -0.141731    |\n",
      "| 2001-10-03 00:00:00 |  0.331516    | -0.836809   | -0.791857    |\n",
      "| 2001-10-04 00:00:00 | -0.0362197   |  0.783059   | -0.694626    |\n",
      "| 2001-10-05 00:00:00 | -0.0606919   |  2.94309    |  0.077128    |\n",
      "| 2001-10-06 00:00:00 |  1.41189     | -0.449067   |  0.939206    |\n",
      "| 2001-10-07 00:00:00 |  1.88813     | -0.625645   | -0.0572613   |\n",
      "| 2001-10-08 00:00:00 | -0.22376     | -0.314952   |  0.353095    |\n",
      "| 2001-10-09 00:00:00 | -0.376619    | -1.7237     | -1.63427     |\n",
      "| 2001-10-10 00:00:00 |  1.59692     |  1.75223    | -1.23464     |\n",
      "| 2001-10-11 00:00:00 | -0.41095     | -1.14332    |  1.47554     |\n",
      "| 2001-10-12 00:00:00 |  1.19621     | -0.588495   |  0.426698    |\n",
      "| 2001-10-13 00:00:00 |  0.923207    | -0.409387   | -0.0465655   |\n",
      "| 2001-10-14 00:00:00 | -2.0434      |  1.32766    | -0.335399    |\n",
      "| 2001-10-15 00:00:00 |  1.65608     |  0.480868   |  0.809074    |\n",
      "| 2001-10-16 00:00:00 |  1.12397     | -0.861487   | -0.0820258   |\n",
      "| 2001-10-17 00:00:00 |  1.04903     |  1.64532    | -0.0368244   |\n",
      "| 2001-10-18 00:00:00 | -0.726536    | -0.621245   | -0.704749    |\n",
      "| 2001-10-19 00:00:00 | -0.456396    |  0.661472   |  0.135528    |\n",
      "| 2001-10-20 00:00:00 |  1.58996     |  0.280008   |  0.0572516   |\n",
      "| 2001-10-21 00:00:00 | -1.73772     |  0.161834   | -0.660497    |\n",
      "| 2001-10-22 00:00:00 |  1.00561     |  1.66276    |  0.913279    |\n",
      "| 2001-10-23 00:00:00 |  0.614223    |  2.11295    | -0.253035    |\n",
      "| 2001-10-24 00:00:00 | -0.0640361   |  0.922971   |  0.924795    |\n",
      "| 2001-10-25 00:00:00 | -0.822987    |  0.412698   | -2.15437     |\n",
      "| 2001-10-26 00:00:00 | -0.194998    | -1.64733    |  1.01739     |\n",
      "| 2001-10-27 00:00:00 | -0.520126    |  1.70439    |  0.843116    |\n",
      "| 2001-10-28 00:00:00 | -0.152841    | -0.198      | -0.117882    |\n",
      "| 2001-10-29 00:00:00 |  0.199293    |  0.40147    |  0.0738733   |\n",
      "| 2001-10-30 00:00:00 |  0.253095    | -0.669618   | -1.1044      |\n",
      "| 2001-10-31 00:00:00 | -1.0552      |  0.217226   |  1.03785     |\n",
      "| 2001-11-01 00:00:00 |  0.432836    |  1.19399    |  0.96153     |\n",
      "| 2001-11-02 00:00:00 |  2.22645     |  0.162351   | -0.218658    |\n",
      "| 2001-11-03 00:00:00 | -0.472707    |  0.777645   |  1.32465     |\n",
      "| 2001-11-04 00:00:00 |  0.626248    | -0.0383597  | -1.37156     |\n",
      "| 2001-11-05 00:00:00 | -0.614653    |  0.08895    |  0.40294     |\n",
      "| 2001-11-06 00:00:00 | -0.4641      | -0.297157   | -1.31385     |\n",
      "| 2001-11-07 00:00:00 |  2.21148     |  0.866874   |  1.00355     |\n",
      "| 2001-11-08 00:00:00 | -1.13613     |  1.55387    |  0.395358    |\n",
      "| 2001-11-09 00:00:00 |  0.195471    |  0.240477   |  0.203684    |\n",
      "| 2001-11-10 00:00:00 | -1.07736     | -0.830084   |  2.18501     |\n",
      "| 2001-11-11 00:00:00 |  0.0900665   | -0.489552   |  0.440629    |\n",
      "| 2001-11-12 00:00:00 |  1.70917     |  1.30674    | -0.553195    |\n",
      "| 2001-11-13 00:00:00 |  0.811682    | -0.231664   |  1.08639     |\n",
      "| 2001-11-14 00:00:00 |  1.07995     |  0.513408   | -1.16897     |\n",
      "| 2001-11-15 00:00:00 |  1.60587     |  0.54497    | -0.344671    |\n",
      "| 2001-11-16 00:00:00 |  1.27372     | -0.629621   |  0.0203773   |\n",
      "| 2001-11-17 00:00:00 |  0.999421    | -0.40475    | -0.518436    |\n",
      "| 2001-11-18 00:00:00 | -0.729794    |  0.518353   | -0.903009    |\n",
      "| 2001-11-19 00:00:00 |  0.697168    | -1.86387    | -0.182485    |\n",
      "| 2001-11-20 00:00:00 | -0.350915    | -1.86891    | -0.295003    |\n",
      "| 2001-11-21 00:00:00 |  0.256162    |  1.85745    | -1.02772     |\n",
      "| 2001-11-22 00:00:00 |  1.06471     |  1.69219    | -0.381496    |\n",
      "| 2001-11-23 00:00:00 |  1.63302     |  1.18439    | -0.170415    |\n",
      "| 2001-11-24 00:00:00 | -0.0523268   |  0.256611   |  0.162848    |\n",
      "| 2001-11-25 00:00:00 |  1.88795     |  1.44906    | -0.841325    |\n",
      "| 2001-11-26 00:00:00 |  0.00378367  |  0.336561   | -1.07928     |\n",
      "| 2001-11-27 00:00:00 |  1.08922     | -1.64729    | -0.858337    |\n",
      "| 2001-11-28 00:00:00 | -0.704236    | -1.68339    | -0.698555    |\n",
      "| 2001-11-29 00:00:00 | -0.390888    | -0.381503   |  1.96745     |\n",
      "| 2001-11-30 00:00:00 |  1.00672     | -0.542714   |  0.663425    |\n",
      "| 2001-12-01 00:00:00 | -0.689099    |  1.30333    |  0.945413    |\n",
      "| 2001-12-02 00:00:00 | -0.289205    | -0.207305   |  0.10033     |\n",
      "| 2001-12-03 00:00:00 | -0.366103    | -0.601564   |  0.0664263   |\n",
      "| 2001-12-04 00:00:00 |  0.0631115   |  0.610909   |  0.384244    |\n",
      "| 2001-12-05 00:00:00 |  0.613363    | -1.56833    | -0.639714    |\n",
      "| 2001-12-06 00:00:00 | -1.98532     |  0.545507   | -0.984524    |\n",
      "| 2001-12-07 00:00:00 |  0.0541576   | -0.682134   | -0.532983    |\n",
      "| 2001-12-08 00:00:00 | -1.17016     | -0.65792    |  2.2737      |\n",
      "| 2001-12-09 00:00:00 | -0.927687    |  1.61993    |  0.287105    |\n",
      "| 2001-12-10 00:00:00 | -0.0978402   |  0.759965   |  0.205566    |\n",
      "| 2001-12-11 00:00:00 |  2.38537     |  1.56562    | -1.28313     |\n",
      "| 2001-12-12 00:00:00 |  1.79389     | -0.723457   |  0.747529    |\n",
      "| 2001-12-13 00:00:00 |  0.652107    |  0.902926   | -1.11711     |\n",
      "| 2001-12-14 00:00:00 |  1.12299     |  0.509338   | -0.702925    |\n",
      "| 2001-12-15 00:00:00 | -0.688315    | -0.0303572  |  1.08272     |\n",
      "| 2001-12-16 00:00:00 | -0.504611    |  1.18713    |  0.520814    |\n",
      "| 2001-12-17 00:00:00 |  0.204942    |  0.656625   | -1.25283     |\n",
      "| 2001-12-18 00:00:00 |  0.923185    | -0.27194    |  0.869312    |\n",
      "| 2001-12-19 00:00:00 | -0.456114    | -0.956181   | -1.25954     |\n",
      "| 2001-12-20 00:00:00 |  1.22364     |  0.96837    |  0.636328    |\n",
      "| 2001-12-21 00:00:00 | -0.657854    | -1.58605    | -1.11737     |\n",
      "| 2001-12-22 00:00:00 | -2.23126     |  0.612377   | -0.261135    |\n",
      "| 2001-12-23 00:00:00 |  0.660551    | -1.18884    |  1.39118     |\n",
      "| 2001-12-24 00:00:00 | -1.33087     | -1.1221     |  0.516278    |\n",
      "| 2001-12-25 00:00:00 | -0.0339779   |  0.00109211 |  0.409175    |\n",
      "| 2001-12-26 00:00:00 |  0.736974    |  1.48524    |  0.145618    |\n",
      "| 2001-12-27 00:00:00 | -0.199399    | -1.52541    |  1.79578     |\n",
      "| 2001-12-28 00:00:00 |  1.71984     |  2.56997    |  0.084789    |\n",
      "| 2001-12-29 00:00:00 | -0.51747     | -1.47772    | -1.08713     |\n",
      "| 2001-12-30 00:00:00 | -1.49245     | -1.1275     |  1.32828     |\n",
      "| 2001-12-31 00:00:00 |  0.680899    |  1.305      |  0.109621    |\n",
      "| 2002-01-01 00:00:00 |  1.09874     |  1.36348    | -1.86768     |\n",
      "| 2002-01-02 00:00:00 | -0.77717     |  0.185325   |  1.11026     |\n",
      "| 2002-01-03 00:00:00 |  0.025       | -2.08644    | -0.368314    |\n",
      "| 2002-01-04 00:00:00 |  1.31613     | -0.77647    |  0.544261    |\n",
      "| 2002-01-05 00:00:00 |  0.305314    |  0.252426   |  0.0157975   |\n",
      "| 2002-01-06 00:00:00 |  0.635659    |  1.0438     | -0.416652    |\n",
      "| 2002-01-07 00:00:00 |  0.0510421   | -0.118818   |  2.43578     |\n",
      "| 2002-01-08 00:00:00 | -0.177814    |  1.67889    |  0.738088    |\n",
      "| 2002-01-09 00:00:00 |  0.605436    | -0.461254   |  0.837399    |\n",
      "| 2002-01-10 00:00:00 | -0.215259    | -0.225821   | -1.67885     |\n",
      "| 2002-01-11 00:00:00 | -0.637298    | -1.83454    |  1.11909     |\n",
      "| 2002-01-12 00:00:00 | -0.464137    |  0.174469   | -1.13571     |\n",
      "| 2002-01-13 00:00:00 |  2.91939     | -0.0157154  |  0.614758    |\n",
      "| 2002-01-14 00:00:00 |  1.7826      |  0.681088   | -0.920028    |\n",
      "| 2002-01-15 00:00:00 | -0.847484    | -1.10096    | -0.754634    |\n",
      "| 2002-01-16 00:00:00 |  1.18687     | -0.723888   |  0.187528    |\n",
      "| 2002-01-17 00:00:00 | -1.72456     | -0.474753   |  0.369015    |\n",
      "| 2002-01-18 00:00:00 |  0.893836    |  0.034066   |  1.11389     |\n",
      "| 2002-01-19 00:00:00 | -0.547946    |  0.859814   | -0.917051    |\n",
      "| 2002-01-20 00:00:00 |  0.631155    |  0.501907   | -0.0705887   |\n",
      "| 2002-01-21 00:00:00 | -0.893372    |  2.59874    |  1.5527      |\n",
      "| 2002-01-22 00:00:00 |  1.58644     | -0.240197   |  1.37942     |\n",
      "| 2002-01-23 00:00:00 |  0.0580145   | -0.867492   | -0.0512058   |\n",
      "| 2002-01-24 00:00:00 | -0.294066    | -0.781544   |  0.871735    |\n",
      "| 2002-01-25 00:00:00 |  0.0848058   | -1.47913    |  0.13904     |\n",
      "| 2002-01-26 00:00:00 |  0.491648    | -2.3511     | -0.554934    |\n",
      "| 2002-01-27 00:00:00 |  1.95374     |  1.8374     | -0.727525    |\n",
      "| 2002-01-28 00:00:00 |  0.315933    |  0.0284889  |  0.587695    |\n",
      "| 2002-01-29 00:00:00 | -0.373698    |  1.59929    | -1.66322     |\n",
      "| 2002-01-30 00:00:00 |  1.24237     | -1.48336    |  0.327801    |\n",
      "| 2002-01-31 00:00:00 | -0.627198    |  0.324797   | -1.25553     |\n",
      "| 2002-02-01 00:00:00 |  1.95046     |  0.604847   |  1.32031     |\n",
      "| 2002-02-02 00:00:00 |  0.960842    | -1.31966    |  0.107559    |\n",
      "| 2002-02-03 00:00:00 | -2.04308     |  0.425788   | -0.214914    |\n",
      "| 2002-02-04 00:00:00 |  1.64138     | -0.280004   |  1.10045     |\n",
      "| 2002-02-05 00:00:00 |  0.503588    |  1.48379    | -0.132679    |\n",
      "| 2002-02-06 00:00:00 | -0.414043    |  0.686537   | -0.583159    |\n",
      "| 2002-02-07 00:00:00 | -0.678816    |  0.189809   | -0.47953     |\n",
      "| 2002-02-08 00:00:00 |  0.211815    | -0.163219   |  1.11924     |\n",
      "| 2002-02-09 00:00:00 |  0.648297    |  1.64882    |  1.80236     |\n",
      "| 2002-02-10 00:00:00 | -1.91316     | -0.283275   |  0.92016     |\n",
      "| 2002-02-11 00:00:00 |  1.52199     | -0.581994   | -1.1685      |\n",
      "| 2002-02-12 00:00:00 |  0.379346    | -1.75389    | -1.08102     |\n",
      "| 2002-02-13 00:00:00 | -1.00609     |  0.940982   | -0.318724    |\n",
      "| 2002-02-14 00:00:00 |  0.292039    | -2.1354     | -0.430603    |\n",
      "| 2002-02-15 00:00:00 | -0.677804    | -1.9136     |  1.27696     |\n",
      "| 2002-02-16 00:00:00 |  1.36431     |  0.752529   |  1.13842     |\n",
      "| 2002-02-17 00:00:00 | -0.240749    | -1.03373    |  0.269791    |\n",
      "| 2002-02-18 00:00:00 |  0.549438    | -1.60377    |  0.685       |\n",
      "| 2002-02-19 00:00:00 |  0.95731     | -0.503707   | -0.962775    |\n",
      "| 2002-02-20 00:00:00 | -1.92167     | -0.550462   |  0.387529    |\n",
      "| 2002-02-21 00:00:00 |  1.22729     |  0.55224    | -0.543057    |\n",
      "| 2002-02-22 00:00:00 | -0.0714132   |  1.64293    |  0.241911    |\n",
      "| 2002-02-23 00:00:00 |  0.130243    |  1.54519    |  1.63961     |\n",
      "| 2002-02-24 00:00:00 |  0.920018    |  0.407608   |  0.854056    |\n",
      "| 2002-02-25 00:00:00 | -2.14243     |  1.24152    | -1.29728     |\n",
      "| 2002-02-26 00:00:00 | -1.21935     | -0.907496   | -0.644009    |\n",
      "| 2002-02-27 00:00:00 |  0.379875    |  0.422058   |  1.80046     |\n",
      "| 2002-02-28 00:00:00 |  0.00411429  |  0.0148545  | -0.965754    |\n",
      "| 2002-03-01 00:00:00 |  0.315435    |  0.186      | -0.727856    |\n",
      "| 2002-03-02 00:00:00 |  0.687903    | -1.00868    | -1.04045     |\n",
      "| 2002-03-03 00:00:00 | -0.0362178   | -0.173418   | -0.723064    |\n",
      "| 2002-03-04 00:00:00 | -0.993139    | -0.144041   | -2.14287     |\n",
      "| 2002-03-05 00:00:00 | -0.471452    | -0.658613   | -0.424901    |\n",
      "| 2002-03-06 00:00:00 |  0.356442    | -0.172777   |  0.532767    |\n",
      "| 2002-03-07 00:00:00 | -0.531753    | -0.205457   | -0.977559    |\n",
      "| 2002-03-08 00:00:00 | -0.198003    | -0.211991   | -2.52688     |\n",
      "| 2002-03-09 00:00:00 |  1.68859     | -0.0797606  | -0.537528    |\n",
      "| 2002-03-10 00:00:00 |  0.626062    | -1.48513    |  0.622211    |\n",
      "| 2002-03-11 00:00:00 | -0.967678    |  1.61214    |  0.0680798   |\n",
      "| 2002-03-12 00:00:00 | -0.609466    |  1.13684    | -0.100816    |\n",
      "| 2002-03-13 00:00:00 | -1.25698     | -0.795134   | -0.187947    |\n",
      "| 2002-03-14 00:00:00 |  0.282616    | -0.246766   |  1.38342     |\n",
      "| 2002-03-15 00:00:00 |  2.82803     | -2.27192    |  2.07597     |\n",
      "| 2002-03-16 00:00:00 | -0.527625    |  1.34719    | -0.919534    |\n",
      "| 2002-03-17 00:00:00 |  0.000126105 | -0.623942   |  0.292012    |\n",
      "| 2002-03-18 00:00:00 |  0.0622606   | -2.20109    | -0.353948    |\n",
      "| 2002-03-19 00:00:00 |  1.36052     | -0.490762   | -0.883625    |\n",
      "| 2002-03-20 00:00:00 | -0.341702    |  0.963742   | -1.85778     |\n",
      "| 2002-03-21 00:00:00 |  0.633993    | -0.97406    |  0.638155    |\n",
      "| 2002-03-22 00:00:00 |  0.33613     |  0.401687   | -0.169744    |\n",
      "| 2002-03-23 00:00:00 |  1.63196     | -0.59874    | -1.66275     |\n",
      "| 2002-03-24 00:00:00 | -0.092557    |  0.211487   |  0.249953    |\n",
      "| 2002-03-25 00:00:00 | -1.82893     | -1.13191    |  0.674275    |\n",
      "| 2002-03-26 00:00:00 |  1.25947     | -0.289749   | -0.353674    |\n",
      "| 2002-03-27 00:00:00 | -0.5775      |  1.19525    | -0.39847     |\n",
      "| 2002-03-28 00:00:00 |  0.608534    | -0.588992   | -0.174023    |\n",
      "| 2002-03-29 00:00:00 | -1.24472     |  1.47243    |  0.763139    |\n",
      "| 2002-03-30 00:00:00 |  0.0281259   |  0.209586   |  1.25919     |\n",
      "| 2002-03-31 00:00:00 | -2.19169     | -0.0834159  |  0.632754    |\n",
      "| 2002-04-01 00:00:00 | -0.185454    |  1.43803    |  0.882235    |\n",
      "| 2002-04-02 00:00:00 | -2.57314     | -1.48285    | -0.404429    |\n",
      "| 2002-04-03 00:00:00 | -2.29172     |  0.689979   |  0.490653    |\n",
      "| 2002-04-04 00:00:00 | -0.420361    | -0.334752   | -1.11427     |\n",
      "| 2002-04-05 00:00:00 | -0.947914    | -1.57849    |  0.35251     |\n",
      "| 2002-04-06 00:00:00 |  0.103759    | -0.708365   |  0.0463471   |\n",
      "| 2002-04-07 00:00:00 | -1.48764     | -0.603485   |  0.496925    |\n",
      "| 2002-04-08 00:00:00 | -0.161232    | -0.378676   |  0.191668    |\n",
      "| 2002-04-09 00:00:00 | -0.350699    |  0.486476   |  1.39796     |\n",
      "| 2002-04-10 00:00:00 |  0.284594    | -0.538392   |  0.972996    |\n",
      "| 2002-04-11 00:00:00 |  1.12508     | -1.50138    | -0.269548    |\n",
      "| 2002-04-12 00:00:00 | -0.488624    | -1.43833    |  1.23318     |\n",
      "| 2002-04-13 00:00:00 |  0.43782     | -0.808604   |  1.0486      |\n",
      "| 2002-04-14 00:00:00 | -0.979446    | -0.404184   | -0.5366      |\n",
      "| 2002-04-15 00:00:00 | -0.518772    | -0.505053   | -0.909368    |\n",
      "| 2002-04-16 00:00:00 | -0.265511    | -0.80206    |  0.387221    |\n",
      "| 2002-04-17 00:00:00 |  0.237646    |  1.57201    |  1.87266     |\n",
      "| 2002-04-18 00:00:00 |  1.72058     | -1.28499    | -0.860694    |\n",
      "| 2002-04-19 00:00:00 | -1.5299      | -0.46258    |  0.0340083   |\n",
      "| 2002-04-20 00:00:00 | -2.23848     | -0.303365   | -1.02498     |\n",
      "| 2002-04-21 00:00:00 |  1.45437     |  2.07147    | -1.02598     |\n",
      "| 2002-04-22 00:00:00 |  0.226643    |  0.137301   |  0.587128    |\n",
      "| 2002-04-23 00:00:00 |  0.40297     | -0.0900456  |  0.77612     |\n",
      "| 2002-04-24 00:00:00 | -0.568395    | -2.3993     |  1.00824     |\n",
      "| 2002-04-25 00:00:00 |  1.32224     |  1.16664    |  0.869253    |\n",
      "| 2002-04-26 00:00:00 | -2.21383     |  0.64038    | -1.14231     |\n",
      "| 2002-04-27 00:00:00 | -0.565213    |  0.736773   |  1.89599     |\n",
      "| 2002-04-28 00:00:00 |  0.477753    |  0.857484   | -0.471012    |\n",
      "| 2002-04-29 00:00:00 | -1.18787     |  0.146827   | -0.213693    |\n",
      "| 2002-04-30 00:00:00 | -1.69492     |  0.196072   | -0.0135485   |\n",
      "| 2002-05-01 00:00:00 | -0.805856    | -0.509195   |  1.85235     |\n",
      "| 2002-05-02 00:00:00 | -2.14753     | -1.02153    | -1.10942     |\n",
      "| 2002-05-03 00:00:00 | -0.470162    | -0.163732   | -0.609734    |\n",
      "| 2002-05-04 00:00:00 |  0.0132845   |  0.75957    | -0.46231     |\n",
      "| 2002-05-05 00:00:00 | -0.497168    |  0.49719    |  0.771328    |\n",
      "| 2002-05-06 00:00:00 |  0.884882    | -1.14223    |  0.997025    |\n",
      "| 2002-05-07 00:00:00 |  0.375854    |  1.28014    | -1.01824     |\n",
      "| 2002-05-08 00:00:00 |  0.925277    |  1.19515    | -0.147557    |\n",
      "| 2002-05-09 00:00:00 |  1.95593     | -2.83448    | -1.41602     |\n",
      "| 2002-05-10 00:00:00 | -1.09977     |  0.691491   | -0.236183    |\n",
      "| 2002-05-11 00:00:00 | -1.05348     |  0.753419   | -1.38166     |\n",
      "| 2002-05-12 00:00:00 | -1.09862     | -0.442927   | -1.01196     |\n",
      "| 2002-05-13 00:00:00 |  0.372588    |  0.419927   | -0.33275     |\n",
      "| 2002-05-14 00:00:00 |  0.559993    |  0.473281   | -0.978505    |\n",
      "| 2002-05-15 00:00:00 | -0.379586    | -0.835552   |  1.20327     |\n",
      "| 2002-05-16 00:00:00 | -0.711587    | -0.120246   | -0.987596    |\n",
      "| 2002-05-17 00:00:00 | -0.876978    |  0.850488   | -1.68122     |\n",
      "| 2002-05-18 00:00:00 |  0.253907    |  1.31731    |  0.000802575 |\n",
      "| 2002-05-19 00:00:00 | -0.682459    |  0.123405   | -0.28347     |\n",
      "| 2002-05-20 00:00:00 | -0.481026    |  1.25835    |  2.20191     |\n",
      "| 2002-05-21 00:00:00 | -1.40155     |  0.8231     | -0.165662    |\n",
      "| 2002-05-22 00:00:00 |  0.0420301   |  1.37076    |  0.044542    |\n",
      "| 2002-05-23 00:00:00 |  0.392002    | -0.233545   |  0.0294132   |\n",
      "| 2002-05-24 00:00:00 |  0.0317023   |  0.140196   | -1.29241     |\n",
      "| 2002-05-25 00:00:00 | -1.25066     |  0.647291   |  0.43896     |\n",
      "| 2002-05-26 00:00:00 | -0.235746    |  1.34909    | -0.926163    |\n",
      "| 2002-05-27 00:00:00 |  0.783136    | -0.390289   | -2.15356     |\n",
      "| 2002-05-28 00:00:00 | -0.0609329   | -0.33591    | -0.179848    |\n",
      "| 2002-05-29 00:00:00 |  1.04027     |  0.12015    | -0.65229     |\n",
      "| 2002-05-30 00:00:00 |  2.22797     |  1.0913     |  0.735839    |\n",
      "| 2002-05-31 00:00:00 | -0.801778    |  0.287264   |  1.17234     |\n",
      "| 2002-06-01 00:00:00 | -0.0365117   |  0.445827   |  1.27229     |\n",
      "| 2002-06-02 00:00:00 |  1.30134     |  0.824487   |  0.431781    |\n",
      "| 2002-06-03 00:00:00 |  1.01016     |  1.94071    |  1.89634     |\n",
      "| 2002-06-04 00:00:00 |  0.579668    | -0.958501   | -0.38981     |\n",
      "| 2002-06-05 00:00:00 |  0.586654    |  0.360459   |  0.20235     |\n",
      "| 2002-06-06 00:00:00 |  0.37971     | -0.966696   | -1.5475      |\n",
      "| 2002-06-07 00:00:00 | -2.08452     | -1.57915    | -0.825965    |\n",
      "| 2002-06-08 00:00:00 | -1.12565     |  0.603957   |  0.109461    |\n",
      "| 2002-06-09 00:00:00 | -0.0235804   | -0.379769   |  1.37522     |\n",
      "| 2002-06-10 00:00:00 |  1.70828     |  0.574443   |  0.725175    |\n",
      "| 2002-06-11 00:00:00 |  0.872111    |  1.75619    | -0.713245    |\n",
      "| 2002-06-12 00:00:00 |  2.26663     |  0.592911   |  0.123449    |\n",
      "| 2002-06-13 00:00:00 | -0.708526    |  2.55665    |  1.09199     |\n",
      "| 2002-06-14 00:00:00 | -0.315284    |  0.903049   |  2.33369     |\n",
      "| 2002-06-15 00:00:00 | -0.552679    | -1.36058    |  0.97095     |\n",
      "| 2002-06-16 00:00:00 |  0.00940592  |  0.0953696  | -0.241427    |\n",
      "| 2002-06-17 00:00:00 | -1.2193      |  0.881626   | -1.15179     |\n",
      "| 2002-06-18 00:00:00 |  0.417628    | -1.10325    | -0.729733    |\n",
      "| 2002-06-19 00:00:00 |  1.18054     |  0.084698   |  0.837739    |\n",
      "| 2002-06-20 00:00:00 |  0.752368    |  0.227155   | -0.67927     |\n",
      "| 2002-06-21 00:00:00 |  0.17882     |  0.268661   | -1.9559      |\n",
      "| 2002-06-22 00:00:00 | -0.38242     |  1.10891    |  0.54052     |\n",
      "| 2002-06-23 00:00:00 | -0.371623    |  0.629445   |  1.03098     |\n",
      "| 2002-06-24 00:00:00 |  0.115658    |  0.322999   |  0.455284    |\n",
      "| 2002-06-25 00:00:00 | -1.12073     | -1.49865    |  1.78198     |\n",
      "| 2002-06-26 00:00:00 | -1.30216     | -1.18919    |  0.642262    |\n",
      "| 2002-06-27 00:00:00 | -0.379221    | -0.527442   |  2.46958     |\n",
      "| 2002-06-28 00:00:00 |  0.349134    |  0.527639   |  1.21407     |\n",
      "| 2002-06-29 00:00:00 | -0.283725    | -0.543283   |  0.530181    |\n",
      "| 2002-06-30 00:00:00 | -1.27453     |  0.709574   | -0.410469    |\n",
      "| 2002-07-01 00:00:00 |  1.18538     | -0.0581055  |  1.40805     |\n",
      "| 2002-07-02 00:00:00 |  1.29642     | -0.49602    |  1.13133     |\n",
      "| 2002-07-03 00:00:00 | -0.081129    | -0.0926332  |  0.173072    |\n",
      "| 2002-07-04 00:00:00 | -1.52713     | -0.805313   | -1.28326     |\n",
      "| 2002-07-05 00:00:00 |  1.33681     | -1.43948    |  1.37448     |\n",
      "| 2002-07-06 00:00:00 |  1.50787     |  1.43256    | -0.0407105   |\n",
      "| 2002-07-07 00:00:00 | -2.31004     | -0.835562   | -0.12645     |\n",
      "| 2002-07-08 00:00:00 | -0.0952736   | -1.07744    |  0.450729    |\n",
      "| 2002-07-09 00:00:00 | -0.00984635  | -1.66395    | -0.933117    |\n",
      "| 2002-07-10 00:00:00 |  1.02711     |  0.0523954  | -0.580188    |\n",
      "| 2002-07-11 00:00:00 | -0.309679    | -0.200945   | -0.807909    |\n",
      "| 2002-07-12 00:00:00 |  0.843226    |  0.32928    | -0.18401     |\n",
      "| 2002-07-13 00:00:00 |  3.44674     |  1.54861    |  0.393257    |\n",
      "| 2002-07-14 00:00:00 |  2.50989     |  1.80413    | -0.127254    |\n",
      "| 2002-07-15 00:00:00 | -1.32435     | -0.222949   | -0.310974    |\n",
      "| 2002-07-16 00:00:00 |  0.0933293   | -1.11124    | -0.236883    |\n",
      "| 2002-07-17 00:00:00 | -0.633024    |  0.90295    | -1.93692     |\n",
      "| 2002-07-18 00:00:00 | -0.0800323   |  1.0773     |  1.21534     |\n",
      "| 2002-07-19 00:00:00 |  1.25913     | -0.237757   | -1.83249     |\n",
      "| 2002-07-20 00:00:00 | -0.680284    | -1.05085    | -0.21088     |\n",
      "| 2002-07-21 00:00:00 | -1.33609     |  0.391423   |  1.04699     |\n",
      "| 2002-07-22 00:00:00 | -1.2541      | -0.186176   |  0.809709    |\n",
      "| 2002-07-23 00:00:00 |  0.537833    | -0.79303    | -0.817484    |\n",
      "| 2002-07-24 00:00:00 |  1.13416     |  1.2484     | -1.60263     |\n",
      "| 2002-07-25 00:00:00 | -0.161766    |  0.454467   | -0.751307    |\n",
      "| 2002-07-26 00:00:00 |  0.900524    | -0.321033   | -0.501139    |\n",
      "| 2002-07-27 00:00:00 |  0.607541    |  0.661366   |  0.381175    |\n",
      "| 2002-07-28 00:00:00 |  0.647592    |  0.217996   |  0.0384043   |\n",
      "| 2002-07-29 00:00:00 |  1.0074      |  1.92621    |  0.262104    |\n",
      "| 2002-07-30 00:00:00 | -1.83641     | -1.34553    |  1.34665     |\n",
      "| 2002-07-31 00:00:00 |  0.766313    | -2.14238    | -1.43161     |\n",
      "| 2002-08-01 00:00:00 |  0.44384     | -1.55358    | -1.48056     |\n",
      "| 2002-08-02 00:00:00 |  2.05132     |  0.571948   |  0.480067    |\n",
      "| 2002-08-03 00:00:00 | -1.5758      |  0.0909787  | -1.34241     |\n",
      "| 2002-08-04 00:00:00 | -3.14842     |  1.17624    |  0.668266    |\n",
      "| 2002-08-05 00:00:00 | -0.510252    | -1.22529    |  0.650306    |\n",
      "| 2002-08-06 00:00:00 | -1.11826     | -0.566667   | -1.02906     |\n",
      "| 2002-08-07 00:00:00 |  1.00909     | -1.26716    | -0.486966    |\n",
      "| 2002-08-08 00:00:00 | -1.75387     | -0.0300817  |  0.347425    |\n",
      "| 2002-08-09 00:00:00 | -0.363653    |  0.447813   | -0.265058    |\n",
      "| 2002-08-10 00:00:00 |  0.591413    | -0.600309   |  0.609813    |\n",
      "| 2002-08-11 00:00:00 | -1.39012     |  0.650712   |  0.970769    |\n",
      "| 2002-08-12 00:00:00 |  1.42906     | -0.221821   |  0.398601    |\n",
      "| 2002-08-13 00:00:00 |  1.55212     | -0.524766   |  0.702914    |\n",
      "| 2002-08-14 00:00:00 | -0.346545    | -0.408699   |  0.212865    |\n",
      "| 2002-08-15 00:00:00 | -0.600436    |  0.287012   | -0.207517    |\n",
      "| 2002-08-16 00:00:00 |  0.730895    | -1.11271    | -0.560069    |\n",
      "| 2002-08-17 00:00:00 | -0.570261    | -1.65225    |  0.500952    |\n",
      "| 2002-08-18 00:00:00 | -0.181348    |  0.243368   |  1.03366     |\n",
      "| 2002-08-19 00:00:00 | -0.613569    | -0.665326   |  1.19259     |\n",
      "| 2002-08-20 00:00:00 |  1.03056     |  0.887083   |  1.72922     |\n",
      "| 2002-08-21 00:00:00 |  0.872925    | -0.404021   |  0.56871     |\n",
      "| 2002-08-22 00:00:00 |  0.392649    |  1.2188     |  0.166154    |\n",
      "| 2002-08-23 00:00:00 | -1.60232     |  0.0836037  |  0.113442    |\n",
      "| 2002-08-24 00:00:00 |  1.84929     | -1.59158    | -1.23132     |\n",
      "| 2002-08-25 00:00:00 | -0.284212    | -1.1568     |  2.08515     |\n",
      "| 2002-08-26 00:00:00 | -1.96526     | -0.333663   |  0.198225    |\n",
      "| 2002-08-27 00:00:00 | -0.0772238   |  0.0681813  | -2.11407     |\n",
      "| 2002-08-28 00:00:00 | -1.03531     | -0.415055   | -0.432692    |\n",
      "| 2002-08-29 00:00:00 |  0.339692    |  0.240444   | -0.644908    |\n",
      "| 2002-08-30 00:00:00 |  1.76879     |  0.510381   | -1.54516     |\n",
      "| 2002-08-31 00:00:00 |  0.53866     | -0.829344   | -2.19793     |\n",
      "| 2002-09-01 00:00:00 |  0.0870795   | -1.78685    | -0.0603888   |\n",
      "| 2002-09-02 00:00:00 |  0.37771     |  0.478571   | -1.8838      |\n",
      "| 2002-09-03 00:00:00 | -0.424402    | -0.211606   | -1.5093      |\n",
      "| 2002-09-04 00:00:00 |  1.50174     | -0.952119   | -0.374553    |\n",
      "| 2002-09-05 00:00:00 |  0.976042    | -0.539735   | -0.467435    |\n",
      "| 2002-09-06 00:00:00 | -0.154762    |  0.7499     |  0.299074    |\n",
      "| 2002-09-07 00:00:00 |  0.130201    |  1.02327    |  2.38019     |\n",
      "| 2002-09-08 00:00:00 | -0.522382    |  0.270807   | -0.0941185   |\n",
      "| 2002-09-09 00:00:00 | -0.464816    |  2.26412    |  0.313238    |\n",
      "| 2002-09-10 00:00:00 | -1.00604     |  1.58291    |  1.59374     |\n",
      "| 2002-09-11 00:00:00 | -0.931589    |  1.30369    |  0.293413    |\n",
      "| 2002-09-12 00:00:00 | -1.07058     | -1.57664    |  0.557562    |\n",
      "| 2002-09-13 00:00:00 | -0.22873     |  0.167514   | -0.574124    |\n",
      "| 2002-09-14 00:00:00 | -0.129262    |  1.03943    |  0.122509    |\n",
      "| 2002-09-15 00:00:00 |  1.86265     | -0.107929   |  1.26248     |\n",
      "| 2002-09-16 00:00:00 | -0.814477    | -1.22487    |  0.0386422   |\n",
      "| 2002-09-17 00:00:00 |  0.805468    |  0.318269   |  0.72743     |\n",
      "| 2002-09-18 00:00:00 |  0.30731     |  1.08304    |  0.384757    |\n",
      "| 2002-09-19 00:00:00 |  0.690646    | -0.886858   | -0.247244    |\n",
      "| 2002-09-20 00:00:00 | -1.33478     |  0.214381   | -1.24226     |\n",
      "| 2002-09-21 00:00:00 | -0.441345    | -0.505051   | -1.56084     |\n",
      "| 2002-09-22 00:00:00 |  0.29868     | -0.833065   |  1.75872     |\n",
      "| 2002-09-23 00:00:00 | -0.65903     |  1.72802    | -0.370687    |\n",
      "| 2002-09-24 00:00:00 |  0.812378    | -1.55746    | -0.474575    |\n",
      "| 2002-09-25 00:00:00 |  0.181368    | -0.628486   |  0.660373    |\n",
      "| 2002-09-26 00:00:00 |  0.331168    |  0.589328   |  2.32474     |\n"
     ]
    }
   ],
   "source": [
    "print(tsdf.apply(pd.Series.interpolate).to_markdown())"
   ]
  },
  {
   "cell_type": "code",
   "execution_count": 175,
   "metadata": {},
   "outputs": [
    {
     "name": "stdout",
     "output_type": "stream",
     "text": [
      "|                     |         A |         B |         C |\n",
      "|:--------------------|----------:|----------:|----------:|\n",
      "| 2020-05-01 00:00:00 |  0.407908 | -0.600054 | -1.41581  |\n",
      "| 2020-05-02 00:00:00 |  0.179237 | -0.734658 | -1.79698  |\n",
      "| 2020-05-03 00:00:00 |  0.954097 | -0.882917 |  0.795765 |\n",
      "| 2020-05-04 00:00:00 | -0.551622 |  1.74542  | -1.88462  |\n",
      "| 2020-05-05 00:00:00 | -0.131639 |  1.14236  | -1.33374  |\n",
      "| 2020-05-06 00:00:00 |  0.802303 |  0.441731 | -0.394808 |\n",
      "| 2020-05-07 00:00:00 | -0.206431 | -1.32951  | -1.49405  |\n",
      "| 2020-05-08 00:00:00 | -2.55758  |  0.367704 | -0.557975 |\n",
      "| 2020-05-09 00:00:00 | -0.674054 |  1.63908  | -0.138926 |\n",
      "| 2020-05-10 00:00:00 | -0.592699 |  0.668945 | -1.36891  |\n"
     ]
    }
   ],
   "source": [
    "tsdf = pd.DataFrame(np.random.randn(10, 3), columns=['A','B','C'],\n",
    "                   index=pd.date_range('5/1/2020', periods=10))\n",
    "print(tsdf.to_markdown())"
   ]
  },
  {
   "cell_type": "code",
   "execution_count": 176,
   "metadata": {},
   "outputs": [
    {
     "name": "stdout",
     "output_type": "stream",
     "text": [
      "|                     |          A |          B |          C |\n",
      "|:--------------------|-----------:|-----------:|-----------:|\n",
      "| 2020-05-01 00:00:00 |   0.407908 |  -0.600054 |  -1.41581  |\n",
      "| 2020-05-02 00:00:00 |   0.179237 |  -0.734658 |  -1.79698  |\n",
      "| 2020-05-03 00:00:00 |   0.954097 |  -0.882917 |   0.795765 |\n",
      "| 2020-05-04 00:00:00 | nan        | nan        | nan        |\n",
      "| 2020-05-05 00:00:00 | nan        | nan        | nan        |\n",
      "| 2020-05-06 00:00:00 | nan        | nan        | nan        |\n",
      "| 2020-05-07 00:00:00 | nan        | nan        | nan        |\n",
      "| 2020-05-08 00:00:00 |  -2.55758  |   0.367704 |  -0.557975 |\n",
      "| 2020-05-09 00:00:00 |  -0.674054 |   1.63908  |  -0.138926 |\n",
      "| 2020-05-10 00:00:00 |  -0.592699 |   0.668945 |  -1.36891  |\n"
     ]
    }
   ],
   "source": [
    "tsdf.iloc[3:7] = np.nan\n",
    "print(tsdf.to_markdown())"
   ]
  },
  {
   "cell_type": "code",
   "execution_count": 177,
   "metadata": {},
   "outputs": [
    {
     "data": {
      "text/plain": [
       "A   -2.283095\n",
       "B    0.458099\n",
       "C   -4.482836\n",
       "dtype: float64"
      ]
     },
     "execution_count": 177,
     "metadata": {},
     "output_type": "execute_result"
    }
   ],
   "source": [
    "tsdf.agg(np.sum)"
   ]
  },
  {
   "cell_type": "code",
   "execution_count": 178,
   "metadata": {},
   "outputs": [
    {
     "data": {
      "text/plain": [
       "A   -2.283095\n",
       "B    0.458099\n",
       "C   -4.482836\n",
       "dtype: float64"
      ]
     },
     "execution_count": 178,
     "metadata": {},
     "output_type": "execute_result"
    }
   ],
   "source": [
    "tsdf.agg('sum')"
   ]
  },
  {
   "cell_type": "code",
   "execution_count": 179,
   "metadata": {},
   "outputs": [
    {
     "data": {
      "text/plain": [
       "A   -2.283095\n",
       "B    0.458099\n",
       "C   -4.482836\n",
       "dtype: float64"
      ]
     },
     "execution_count": 179,
     "metadata": {},
     "output_type": "execute_result"
    }
   ],
   "source": [
    "tsdf.sum()"
   ]
  },
  {
   "cell_type": "code",
   "execution_count": 180,
   "metadata": {},
   "outputs": [
    {
     "data": {
      "text/plain": [
       "-2.2830949400475666"
      ]
     },
     "execution_count": 180,
     "metadata": {},
     "output_type": "execute_result"
    }
   ],
   "source": [
    "tsdf['A'].agg('sum')"
   ]
  },
  {
   "cell_type": "code",
   "execution_count": 183,
   "metadata": {},
   "outputs": [
    {
     "name": "stdout",
     "output_type": "stream",
     "text": [
      "|     |        A |        B |        C |\n",
      "|:----|---------:|---------:|---------:|\n",
      "| sum | -2.28309 | 0.458099 | -4.48284 |\n"
     ]
    }
   ],
   "source": [
    "print(tsdf.agg(['sum']).to_markdown())"
   ]
  },
  {
   "cell_type": "code",
   "execution_count": 184,
   "metadata": {},
   "outputs": [
    {
     "name": "stdout",
     "output_type": "stream",
     "text": [
      "|      |         A |         B |         C |\n",
      "|:-----|----------:|----------:|----------:|\n",
      "| sum  | -2.28309  | 0.458099  | -4.48284  |\n",
      "| mean | -0.380516 | 0.0763498 | -0.747139 |\n"
     ]
    }
   ],
   "source": [
    "print(tsdf.agg(['sum','mean']).to_markdown())"
   ]
  },
  {
   "cell_type": "code",
   "execution_count": 185,
   "metadata": {},
   "outputs": [
    {
     "data": {
      "text/plain": [
       "sum    -2.283095\n",
       "mean   -0.380516\n",
       "Name: A, dtype: float64"
      ]
     },
     "execution_count": 185,
     "metadata": {},
     "output_type": "execute_result"
    }
   ],
   "source": [
    "tsdf['A'].agg(['sum','mean'])"
   ]
  },
  {
   "cell_type": "code",
   "execution_count": 186,
   "metadata": {},
   "outputs": [
    {
     "data": {
      "text/plain": [
       "sum        -2.283095\n",
       "<lambda>   -0.380516\n",
       "Name: A, dtype: float64"
      ]
     },
     "execution_count": 186,
     "metadata": {},
     "output_type": "execute_result"
    }
   ],
   "source": [
    "tsdf['A'].agg(['sum', lambda x: x.mean()])"
   ]
  },
  {
   "cell_type": "code",
   "execution_count": 187,
   "metadata": {},
   "outputs": [
    {
     "data": {
      "text/plain": [
       "sum      -2.283095\n",
       "mymean   -0.380516\n",
       "Name: A, dtype: float64"
      ]
     },
     "execution_count": 187,
     "metadata": {},
     "output_type": "execute_result"
    }
   ],
   "source": [
    "def mymean(x):\n",
    "    return x.mean()\n",
    "\n",
    "tsdf['A'].agg(['sum',mymean])"
   ]
  },
  {
   "cell_type": "code",
   "execution_count": 188,
   "metadata": {},
   "outputs": [
    {
     "data": {
      "text/plain": [
       "A   -0.380516\n",
       "B    0.458099\n",
       "dtype: float64"
      ]
     },
     "execution_count": 188,
     "metadata": {},
     "output_type": "execute_result"
    }
   ],
   "source": [
    "tsdf.agg({'A': 'mean', 'B' : 'sum'})"
   ]
  },
  {
   "cell_type": "code",
   "execution_count": 190,
   "metadata": {},
   "outputs": [
    {
     "name": "stdout",
     "output_type": "stream",
     "text": [
      "|      |          A |          B |\n",
      "|:-----|-----------:|-----------:|\n",
      "| mean |  -0.380516 | nan        |\n",
      "| min  |  -2.55758  | nan        |\n",
      "| sum  | nan        |   0.458099 |\n"
     ]
    }
   ],
   "source": [
    "print(tsdf.agg({'A' : ['mean','min'], 'B' : 'sum'}).to_markdown())"
   ]
  },
  {
   "cell_type": "code",
   "execution_count": 191,
   "metadata": {},
   "outputs": [
    {
     "data": {
      "text/plain": [
       "A             int64\n",
       "B           float64\n",
       "C            object\n",
       "D    datetime64[ns]\n",
       "dtype: object"
      ]
     },
     "execution_count": 191,
     "metadata": {},
     "output_type": "execute_result"
    }
   ],
   "source": [
    "mdf = pd.DataFrame({'A' : [1, 2, 3],\n",
    "                   'B' : [1., 2., 3.,],\n",
    "                   'C' : ['foo', 'bar', 'baz'],\n",
    "                   'D' : pd.date_range('20200501', periods=3)})\n",
    "mdf.dtypes"
   ]
  },
  {
   "cell_type": "code",
   "execution_count": 193,
   "metadata": {},
   "outputs": [
    {
     "name": "stdout",
     "output_type": "stream",
     "text": [
      "|     |   A |   B | C         | D                   |\n",
      "|:----|----:|----:|:----------|:--------------------|\n",
      "| min |   1 |   1 | bar       | 2020-05-01 00:00:00 |\n",
      "| sum |   6 |   6 | foobarbaz | NaT                 |\n"
     ]
    }
   ],
   "source": [
    "print(mdf.agg(['min', 'sum']).to_markdown())"
   ]
  },
  {
   "cell_type": "code",
   "execution_count": 196,
   "metadata": {},
   "outputs": [
    {
     "name": "stdout",
     "output_type": "stream",
     "text": [
      "|        |         A |          B |         C |\n",
      "|:-------|----------:|-----------:|----------:|\n",
      "| count  |  6        |  6         |  6        |\n",
      "| mean   | -0.380516 |  0.0763498 | -0.747139 |\n",
      "| std    |  1.23182  |  0.991325  |  0.971817 |\n",
      "| min    | -2.55758  | -0.882917  | -1.79698  |\n",
      "| 25%    | -0.653715 | -0.701007  | -1.40409  |\n",
      "| median | -0.206731 | -0.116175  | -0.963444 |\n",
      "| 75%    |  0.350741 |  0.593635  | -0.243689 |\n",
      "| max    |  0.954097 |  1.63908   |  0.795765 |\n"
     ]
    }
   ],
   "source": [
    "from functools import partial\n",
    "q_25 = partial(pd.Series.quantile, q=0.25)\n",
    "q_25.__name__ = '25%'\n",
    "q_75 = partial(pd.Series.quantile, q=0.75)\n",
    "q_75.__name__ = '75%'\n",
    "print(tsdf.agg(['count','mean','std','min',q_25,'median',q_75,'max']).to_markdown())"
   ]
  },
  {
   "cell_type": "code",
   "execution_count": 3,
   "metadata": {},
   "outputs": [
    {
     "data": {
      "text/html": [
       "<div>\n",
       "<style scoped>\n",
       "    .dataframe tbody tr th:only-of-type {\n",
       "        vertical-align: middle;\n",
       "    }\n",
       "\n",
       "    .dataframe tbody tr th {\n",
       "        vertical-align: top;\n",
       "    }\n",
       "\n",
       "    .dataframe thead th {\n",
       "        text-align: right;\n",
       "    }\n",
       "</style>\n",
       "<table border=\"1\" class=\"dataframe\">\n",
       "  <thead>\n",
       "    <tr style=\"text-align: right;\">\n",
       "      <th></th>\n",
       "      <th>A</th>\n",
       "      <th>B</th>\n",
       "      <th>C</th>\n",
       "    </tr>\n",
       "  </thead>\n",
       "  <tbody>\n",
       "    <tr>\n",
       "      <th>2020-05-01</th>\n",
       "      <td>-0.896244</td>\n",
       "      <td>0.682385</td>\n",
       "      <td>0.225629</td>\n",
       "    </tr>\n",
       "    <tr>\n",
       "      <th>2020-05-02</th>\n",
       "      <td>-0.977570</td>\n",
       "      <td>-2.099081</td>\n",
       "      <td>1.431794</td>\n",
       "    </tr>\n",
       "    <tr>\n",
       "      <th>2020-05-03</th>\n",
       "      <td>0.584787</td>\n",
       "      <td>-0.377973</td>\n",
       "      <td>0.425982</td>\n",
       "    </tr>\n",
       "    <tr>\n",
       "      <th>2020-05-04</th>\n",
       "      <td>0.105026</td>\n",
       "      <td>-0.569659</td>\n",
       "      <td>-0.556011</td>\n",
       "    </tr>\n",
       "    <tr>\n",
       "      <th>2020-05-05</th>\n",
       "      <td>-0.820829</td>\n",
       "      <td>1.338921</td>\n",
       "      <td>-1.902243</td>\n",
       "    </tr>\n",
       "    <tr>\n",
       "      <th>2020-05-06</th>\n",
       "      <td>-0.682315</td>\n",
       "      <td>-0.123386</td>\n",
       "      <td>1.944718</td>\n",
       "    </tr>\n",
       "    <tr>\n",
       "      <th>2020-05-07</th>\n",
       "      <td>0.202266</td>\n",
       "      <td>1.041347</td>\n",
       "      <td>-0.612509</td>\n",
       "    </tr>\n",
       "    <tr>\n",
       "      <th>2020-05-08</th>\n",
       "      <td>-0.744223</td>\n",
       "      <td>0.982502</td>\n",
       "      <td>0.649855</td>\n",
       "    </tr>\n",
       "    <tr>\n",
       "      <th>2020-05-09</th>\n",
       "      <td>0.439956</td>\n",
       "      <td>-0.004754</td>\n",
       "      <td>0.886070</td>\n",
       "    </tr>\n",
       "    <tr>\n",
       "      <th>2020-05-10</th>\n",
       "      <td>0.017860</td>\n",
       "      <td>-0.118774</td>\n",
       "      <td>-0.640164</td>\n",
       "    </tr>\n",
       "  </tbody>\n",
       "</table>\n",
       "</div>"
      ],
      "text/plain": [
       "                   A         B         C\n",
       "2020-05-01 -0.896244  0.682385  0.225629\n",
       "2020-05-02 -0.977570 -2.099081  1.431794\n",
       "2020-05-03  0.584787 -0.377973  0.425982\n",
       "2020-05-04  0.105026 -0.569659 -0.556011\n",
       "2020-05-05 -0.820829  1.338921 -1.902243\n",
       "2020-05-06 -0.682315 -0.123386  1.944718\n",
       "2020-05-07  0.202266  1.041347 -0.612509\n",
       "2020-05-08 -0.744223  0.982502  0.649855\n",
       "2020-05-09  0.439956 -0.004754  0.886070\n",
       "2020-05-10  0.017860 -0.118774 -0.640164"
      ]
     },
     "execution_count": 3,
     "metadata": {},
     "output_type": "execute_result"
    }
   ],
   "source": [
    "tsdf = pd.DataFrame(np.random.randn(10, 3), columns=['A','B','C'],\n",
    "                   index=pd.date_range('20200501', periods=10))\n",
    "tsdf"
   ]
  },
  {
   "cell_type": "code",
   "execution_count": 5,
   "metadata": {},
   "outputs": [
    {
     "name": "stdout",
     "output_type": "stream",
     "text": [
      "|                     |           A |            B |          C |\n",
      "|:--------------------|------------:|-------------:|-----------:|\n",
      "| 2020-05-01 00:00:00 |  -0.896244  |   0.682385   |   0.225629 |\n",
      "| 2020-05-02 00:00:00 |  -0.97757   |  -2.09908    |   1.43179  |\n",
      "| 2020-05-03 00:00:00 |   0.584787  |  -0.377973   |   0.425982 |\n",
      "| 2020-05-04 00:00:00 | nan         | nan          | nan        |\n",
      "| 2020-05-05 00:00:00 | nan         | nan          | nan        |\n",
      "| 2020-05-06 00:00:00 | nan         | nan          | nan        |\n",
      "| 2020-05-07 00:00:00 | nan         | nan          | nan        |\n",
      "| 2020-05-08 00:00:00 |  -0.744223  |   0.982502   |   0.649855 |\n",
      "| 2020-05-09 00:00:00 |   0.439956  |  -0.00475368 |   0.88607  |\n",
      "| 2020-05-10 00:00:00 |   0.0178599 |  -0.118774   |  -0.640164 |\n"
     ]
    }
   ],
   "source": [
    "tsdf.iloc[3:7] = np.nan\n",
    "print(tsdf.to_markdown())"
   ]
  },
  {
   "cell_type": "code",
   "execution_count": 9,
   "metadata": {},
   "outputs": [
    {
     "name": "stdout",
     "output_type": "stream",
     "text": [
      "|                     |           A |            B |          C |\n",
      "|:--------------------|------------:|-------------:|-----------:|\n",
      "| 2020-05-01 00:00:00 |   0.896244  |   0.682385   |   0.225629 |\n",
      "| 2020-05-02 00:00:00 |   0.97757   |   2.09908    |   1.43179  |\n",
      "| 2020-05-03 00:00:00 |   0.584787  |   0.377973   |   0.425982 |\n",
      "| 2020-05-04 00:00:00 | nan         | nan          | nan        |\n",
      "| 2020-05-05 00:00:00 | nan         | nan          | nan        |\n",
      "| 2020-05-06 00:00:00 | nan         | nan          | nan        |\n",
      "| 2020-05-07 00:00:00 | nan         | nan          | nan        |\n",
      "| 2020-05-08 00:00:00 |   0.744223  |   0.982502   |   0.649855 |\n",
      "| 2020-05-09 00:00:00 |   0.439956  |   0.00475368 |   0.88607  |\n",
      "| 2020-05-10 00:00:00 |   0.0178599 |   0.118774   |   0.640164 |\n"
     ]
    }
   ],
   "source": [
    "print(tsdf.transform(np.abs).to_markdown())"
   ]
  },
  {
   "cell_type": "code",
   "execution_count": 10,
   "metadata": {},
   "outputs": [
    {
     "name": "stdout",
     "output_type": "stream",
     "text": [
      "|                     |           A |            B |          C |\n",
      "|:--------------------|------------:|-------------:|-----------:|\n",
      "| 2020-05-01 00:00:00 |   0.896244  |   0.682385   |   0.225629 |\n",
      "| 2020-05-02 00:00:00 |   0.97757   |   2.09908    |   1.43179  |\n",
      "| 2020-05-03 00:00:00 |   0.584787  |   0.377973   |   0.425982 |\n",
      "| 2020-05-04 00:00:00 | nan         | nan          | nan        |\n",
      "| 2020-05-05 00:00:00 | nan         | nan          | nan        |\n",
      "| 2020-05-06 00:00:00 | nan         | nan          | nan        |\n",
      "| 2020-05-07 00:00:00 | nan         | nan          | nan        |\n",
      "| 2020-05-08 00:00:00 |   0.744223  |   0.982502   |   0.649855 |\n",
      "| 2020-05-09 00:00:00 |   0.439956  |   0.00475368 |   0.88607  |\n",
      "| 2020-05-10 00:00:00 |   0.0178599 |   0.118774   |   0.640164 |\n"
     ]
    }
   ],
   "source": [
    "print(tsdf.transform('abs').to_markdown())"
   ]
  },
  {
   "cell_type": "code",
   "execution_count": 11,
   "metadata": {},
   "outputs": [
    {
     "name": "stdout",
     "output_type": "stream",
     "text": [
      "|                     |           A |            B |          C |\n",
      "|:--------------------|------------:|-------------:|-----------:|\n",
      "| 2020-05-01 00:00:00 |   0.896244  |   0.682385   |   0.225629 |\n",
      "| 2020-05-02 00:00:00 |   0.97757   |   2.09908    |   1.43179  |\n",
      "| 2020-05-03 00:00:00 |   0.584787  |   0.377973   |   0.425982 |\n",
      "| 2020-05-04 00:00:00 | nan         | nan          | nan        |\n",
      "| 2020-05-05 00:00:00 | nan         | nan          | nan        |\n",
      "| 2020-05-06 00:00:00 | nan         | nan          | nan        |\n",
      "| 2020-05-07 00:00:00 | nan         | nan          | nan        |\n",
      "| 2020-05-08 00:00:00 |   0.744223  |   0.982502   |   0.649855 |\n",
      "| 2020-05-09 00:00:00 |   0.439956  |   0.00475368 |   0.88607  |\n",
      "| 2020-05-10 00:00:00 |   0.0178599 |   0.118774   |   0.640164 |\n"
     ]
    }
   ],
   "source": [
    "print(tsdf.transform(lambda x : x.abs()).to_markdown())"
   ]
  },
  {
   "cell_type": "code",
   "execution_count": 13,
   "metadata": {},
   "outputs": [
    {
     "name": "stdout",
     "output_type": "stream",
     "text": [
      "|                     |           A |            B |          C |\n",
      "|:--------------------|------------:|-------------:|-----------:|\n",
      "| 2020-05-01 00:00:00 |   0.896244  |   0.682385   |   0.225629 |\n",
      "| 2020-05-02 00:00:00 |   0.97757   |   2.09908    |   1.43179  |\n",
      "| 2020-05-03 00:00:00 |   0.584787  |   0.377973   |   0.425982 |\n",
      "| 2020-05-04 00:00:00 | nan         | nan          | nan        |\n",
      "| 2020-05-05 00:00:00 | nan         | nan          | nan        |\n",
      "| 2020-05-06 00:00:00 | nan         | nan          | nan        |\n",
      "| 2020-05-07 00:00:00 | nan         | nan          | nan        |\n",
      "| 2020-05-08 00:00:00 |   0.744223  |   0.982502   |   0.649855 |\n",
      "| 2020-05-09 00:00:00 |   0.439956  |   0.00475368 |   0.88607  |\n",
      "| 2020-05-10 00:00:00 |   0.0178599 |   0.118774   |   0.640164 |\n"
     ]
    }
   ],
   "source": [
    "print(np.abs(tsdf).to_markdown())"
   ]
  },
  {
   "cell_type": "code",
   "execution_count": 14,
   "metadata": {},
   "outputs": [
    {
     "data": {
      "text/plain": [
       "2020-05-01    0.896244\n",
       "2020-05-02    0.977570\n",
       "2020-05-03    0.584787\n",
       "2020-05-04         NaN\n",
       "2020-05-05         NaN\n",
       "2020-05-06         NaN\n",
       "2020-05-07         NaN\n",
       "2020-05-08    0.744223\n",
       "2020-05-09    0.439956\n",
       "2020-05-10    0.017860\n",
       "Freq: D, Name: A, dtype: float64"
      ]
     },
     "execution_count": 14,
     "metadata": {},
     "output_type": "execute_result"
    }
   ],
   "source": [
    "tsdf['A'].transform(np.abs)"
   ]
  },
  {
   "cell_type": "code",
   "execution_count": 16,
   "metadata": {},
   "outputs": [
    {
     "name": "stdout",
     "output_type": "stream",
     "text": [
      "|                     |   ('A', 'absolute') |   ('A', '<lambda>') |   ('B', 'absolute') |   ('B', '<lambda>') |   ('C', 'absolute') |   ('C', '<lambda>') |\n",
      "|:--------------------|--------------------:|--------------------:|--------------------:|--------------------:|--------------------:|--------------------:|\n",
      "| 2020-05-01 00:00:00 |           0.896244  |           0.103756  |          0.682385   |            1.68238  |            0.225629 |            1.22563  |\n",
      "| 2020-05-02 00:00:00 |           0.97757   |           0.0224299 |          2.09908    |           -1.09908  |            1.43179  |            2.43179  |\n",
      "| 2020-05-03 00:00:00 |           0.584787  |           1.58479   |          0.377973   |            0.622027 |            0.425982 |            1.42598  |\n",
      "| 2020-05-04 00:00:00 |         nan         |         nan         |        nan          |          nan        |          nan        |          nan        |\n",
      "| 2020-05-05 00:00:00 |         nan         |         nan         |        nan          |          nan        |          nan        |          nan        |\n",
      "| 2020-05-06 00:00:00 |         nan         |         nan         |        nan          |          nan        |          nan        |          nan        |\n",
      "| 2020-05-07 00:00:00 |         nan         |         nan         |        nan          |          nan        |          nan        |          nan        |\n",
      "| 2020-05-08 00:00:00 |           0.744223  |           0.255777  |          0.982502   |            1.9825   |            0.649855 |            1.64986  |\n",
      "| 2020-05-09 00:00:00 |           0.439956  |           1.43996   |          0.00475368 |            0.995246 |            0.88607  |            1.88607  |\n",
      "| 2020-05-10 00:00:00 |           0.0178599 |           1.01786   |          0.118774   |            0.881226 |            0.640164 |            0.359836 |\n"
     ]
    }
   ],
   "source": [
    "print(tsdf.transform([np.abs, lambda x : x +  1]).to_markdown())"
   ]
  },
  {
   "cell_type": "code",
   "execution_count": 18,
   "metadata": {},
   "outputs": [
    {
     "name": "stdout",
     "output_type": "stream",
     "text": [
      "|                     |    absolute |    <lambda> |\n",
      "|:--------------------|------------:|------------:|\n",
      "| 2020-05-01 00:00:00 |   0.896244  |   0.103756  |\n",
      "| 2020-05-02 00:00:00 |   0.97757   |   0.0224299 |\n",
      "| 2020-05-03 00:00:00 |   0.584787  |   1.58479   |\n",
      "| 2020-05-04 00:00:00 | nan         | nan         |\n",
      "| 2020-05-05 00:00:00 | nan         | nan         |\n",
      "| 2020-05-06 00:00:00 | nan         | nan         |\n",
      "| 2020-05-07 00:00:00 | nan         | nan         |\n",
      "| 2020-05-08 00:00:00 |   0.744223  |   0.255777  |\n",
      "| 2020-05-09 00:00:00 |   0.439956  |   1.43996   |\n",
      "| 2020-05-10 00:00:00 |   0.0178599 |   1.01786   |\n"
     ]
    }
   ],
   "source": [
    "print(tsdf['A'].transform([np.abs, lambda x : x + 1]).to_markdown())"
   ]
  },
  {
   "cell_type": "code",
   "execution_count": 20,
   "metadata": {},
   "outputs": [
    {
     "name": "stdout",
     "output_type": "stream",
     "text": [
      "|                     |           A |          B |\n",
      "|:--------------------|------------:|-----------:|\n",
      "| 2020-05-01 00:00:00 |   0.896244  |   1.68238  |\n",
      "| 2020-05-02 00:00:00 |   0.97757   |  -1.09908  |\n",
      "| 2020-05-03 00:00:00 |   0.584787  |   0.622027 |\n",
      "| 2020-05-04 00:00:00 | nan         | nan        |\n",
      "| 2020-05-05 00:00:00 | nan         | nan        |\n",
      "| 2020-05-06 00:00:00 | nan         | nan        |\n",
      "| 2020-05-07 00:00:00 | nan         | nan        |\n",
      "| 2020-05-08 00:00:00 |   0.744223  |   1.9825   |\n",
      "| 2020-05-09 00:00:00 |   0.439956  |   0.995246 |\n",
      "| 2020-05-10 00:00:00 |   0.0178599 |   0.881226 |\n"
     ]
    }
   ],
   "source": [
    "print(tsdf.transform({'A' : np.abs, 'B' : lambda x : x + 1}).to_markdown())"
   ]
  },
  {
   "cell_type": "code",
   "execution_count": 22,
   "metadata": {},
   "outputs": [
    {
     "name": "stdout",
     "output_type": "stream",
     "text": [
      "|                     |   ('A', 'absolute') |   ('B', '<lambda>') |   ('B', 'sqrt') |\n",
      "|:--------------------|--------------------:|--------------------:|----------------:|\n",
      "| 2020-05-01 00:00:00 |           0.896244  |            1.68238  |        0.826066 |\n",
      "| 2020-05-02 00:00:00 |           0.97757   |           -1.09908  |      nan        |\n",
      "| 2020-05-03 00:00:00 |           0.584787  |            0.622027 |      nan        |\n",
      "| 2020-05-04 00:00:00 |         nan         |          nan        |      nan        |\n",
      "| 2020-05-05 00:00:00 |         nan         |          nan        |      nan        |\n",
      "| 2020-05-06 00:00:00 |         nan         |          nan        |      nan        |\n",
      "| 2020-05-07 00:00:00 |         nan         |          nan        |      nan        |\n",
      "| 2020-05-08 00:00:00 |           0.744223  |            1.9825   |        0.991212 |\n",
      "| 2020-05-09 00:00:00 |           0.439956  |            0.995246 |      nan        |\n",
      "| 2020-05-10 00:00:00 |           0.0178599 |            0.881226 |      nan        |\n"
     ]
    },
    {
     "name": "stderr",
     "output_type": "stream",
     "text": [
      "/Users/kimjuhun/opt/anaconda3/lib/python3.7/site-packages/pandas/core/series.py:679: RuntimeWarning: invalid value encountered in sqrt\n",
      "  result = getattr(ufunc, method)(*inputs, **kwargs)\n"
     ]
    }
   ],
   "source": [
    "print(tsdf.transform({'A' : np.abs, 'B' : [lambda x : x + 1, 'sqrt']}).to_markdown())"
   ]
  },
  {
   "cell_type": "code",
   "execution_count": 23,
   "metadata": {},
   "outputs": [],
   "source": [
    "df4 = pd.DataFrame(np.random.randn(4,3), columns=['one','two','three'],\n",
    "                  index=['a','b','c','d'])"
   ]
  },
  {
   "cell_type": "code",
   "execution_count": 32,
   "metadata": {},
   "outputs": [
    {
     "name": "stdout",
     "output_type": "stream",
     "text": [
      "|    |        one |       two |      three |\n",
      "|:---|-----------:|----------:|-----------:|\n",
      "| a  |  -0.245643 | -2.0549   | nan        |\n",
      "| b  |   0.22655  |  1.48683  |  -0.150279 |\n",
      "| c  |  -0.530094 |  0.254373 |  -1.08476  |\n",
      "| d  | nan        |  1.168    |   0.854002 |\n"
     ]
    }
   ],
   "source": [
    "df4['one']['d'] = np.nan\n",
    "df4['three']['a'] = np.nan\n",
    "print(df4.to_markdown())"
   ]
  },
  {
   "cell_type": "code",
   "execution_count": 34,
   "metadata": {},
   "outputs": [
    {
     "data": {
      "text/plain": [
       "a    19\n",
       "b    19\n",
       "c    19\n",
       "d     3\n",
       "Name: one, dtype: int64"
      ]
     },
     "execution_count": 34,
     "metadata": {},
     "output_type": "execute_result"
    }
   ],
   "source": [
    "def f(x):\n",
    "    return len(str(x))\n",
    "\n",
    "df4['one'].map(f)"
   ]
  },
  {
   "cell_type": "code",
   "execution_count": 35,
   "metadata": {},
   "outputs": [
    {
     "name": "stdout",
     "output_type": "stream",
     "text": [
      "|    |   one |   two |   three |\n",
      "|:---|------:|------:|--------:|\n",
      "| a  |    19 |    19 |       3 |\n",
      "| b  |    19 |    18 |      19 |\n",
      "| c  |    19 |    19 |      19 |\n",
      "| d  |     3 |    18 |      17 |\n"
     ]
    }
   ],
   "source": [
    "print(df4.applymap(f).to_markdown())"
   ]
  },
  {
   "cell_type": "code",
   "execution_count": 41,
   "metadata": {},
   "outputs": [],
   "source": [
    "s = pd.Series(['six','seven','six','seven','six'], \n",
    "                index = ['a','b','c','d','e'])"
   ]
  },
  {
   "cell_type": "code",
   "execution_count": 42,
   "metadata": {},
   "outputs": [],
   "source": [
    "t = pd.Series({'six' : 6., 'seven' : 7.})"
   ]
  },
  {
   "cell_type": "code",
   "execution_count": 43,
   "metadata": {},
   "outputs": [
    {
     "data": {
      "text/plain": [
       "a      six\n",
       "b    seven\n",
       "c      six\n",
       "d    seven\n",
       "e      six\n",
       "dtype: object"
      ]
     },
     "execution_count": 43,
     "metadata": {},
     "output_type": "execute_result"
    }
   ],
   "source": [
    "s"
   ]
  },
  {
   "cell_type": "code",
   "execution_count": 44,
   "metadata": {},
   "outputs": [
    {
     "data": {
      "text/plain": [
       "six      6.0\n",
       "seven    7.0\n",
       "dtype: float64"
      ]
     },
     "execution_count": 44,
     "metadata": {},
     "output_type": "execute_result"
    }
   ],
   "source": [
    "t"
   ]
  },
  {
   "cell_type": "code",
   "execution_count": 45,
   "metadata": {},
   "outputs": [
    {
     "data": {
      "text/plain": [
       "a    6.0\n",
       "b    7.0\n",
       "c    6.0\n",
       "d    7.0\n",
       "e    6.0\n",
       "dtype: float64"
      ]
     },
     "execution_count": 45,
     "metadata": {},
     "output_type": "execute_result"
    }
   ],
   "source": [
    "s.map(t)"
   ]
  },
  {
   "cell_type": "code",
   "execution_count": 2,
   "metadata": {},
   "outputs": [
    {
     "data": {
      "text/plain": [
       "a   -0.175884\n",
       "b   -0.714753\n",
       "c    0.255026\n",
       "d   -0.150072\n",
       "e    1.262673\n",
       "dtype: float64"
      ]
     },
     "execution_count": 2,
     "metadata": {},
     "output_type": "execute_result"
    }
   ],
   "source": [
    "s = pd.Series(np.random.randn(5), index=['a','b','c','d','e'])\n",
    "s"
   ]
  },
  {
   "cell_type": "code",
   "execution_count": 3,
   "metadata": {},
   "outputs": [
    {
     "data": {
      "text/plain": [
       "e    1.262673\n",
       "b   -0.714753\n",
       "f         NaN\n",
       "d   -0.150072\n",
       "dtype: float64"
      ]
     },
     "execution_count": 3,
     "metadata": {},
     "output_type": "execute_result"
    }
   ],
   "source": [
    "s.reindex(['e','b','f','d'])"
   ]
  },
  {
   "cell_type": "code",
   "execution_count": 11,
   "metadata": {},
   "outputs": [
    {
     "data": {
      "text/html": [
       "<div>\n",
       "<style scoped>\n",
       "    .dataframe tbody tr th:only-of-type {\n",
       "        vertical-align: middle;\n",
       "    }\n",
       "\n",
       "    .dataframe tbody tr th {\n",
       "        vertical-align: top;\n",
       "    }\n",
       "\n",
       "    .dataframe thead th {\n",
       "        text-align: right;\n",
       "    }\n",
       "</style>\n",
       "<table border=\"1\" class=\"dataframe\">\n",
       "  <thead>\n",
       "    <tr style=\"text-align: right;\">\n",
       "      <th></th>\n",
       "      <th>one</th>\n",
       "      <th>two</th>\n",
       "      <th>three</th>\n",
       "    </tr>\n",
       "  </thead>\n",
       "  <tbody>\n",
       "    <tr>\n",
       "      <th>a</th>\n",
       "      <td>1.082888</td>\n",
       "      <td>1.738943</td>\n",
       "      <td>-0.168816</td>\n",
       "    </tr>\n",
       "    <tr>\n",
       "      <th>b</th>\n",
       "      <td>1.555301</td>\n",
       "      <td>0.662961</td>\n",
       "      <td>1.294289</td>\n",
       "    </tr>\n",
       "    <tr>\n",
       "      <th>c</th>\n",
       "      <td>1.792241</td>\n",
       "      <td>-0.061913</td>\n",
       "      <td>0.251609</td>\n",
       "    </tr>\n",
       "    <tr>\n",
       "      <th>d</th>\n",
       "      <td>0.993658</td>\n",
       "      <td>0.663250</td>\n",
       "      <td>-1.414891</td>\n",
       "    </tr>\n",
       "  </tbody>\n",
       "</table>\n",
       "</div>"
      ],
      "text/plain": [
       "        one       two     three\n",
       "a  1.082888  1.738943 -0.168816\n",
       "b  1.555301  0.662961  1.294289\n",
       "c  1.792241 -0.061913  0.251609\n",
       "d  0.993658  0.663250 -1.414891"
      ]
     },
     "execution_count": 11,
     "metadata": {},
     "output_type": "execute_result"
    }
   ],
   "source": [
    "df = pd.DataFrame(np.random.randn(4, 3), index=['a','b','c','d'], columns=['one','two','three'])\n",
    "df"
   ]
  },
  {
   "cell_type": "code",
   "execution_count": 8,
   "metadata": {},
   "outputs": [
    {
     "data": {
      "text/html": [
       "<div>\n",
       "<style scoped>\n",
       "    .dataframe tbody tr th:only-of-type {\n",
       "        vertical-align: middle;\n",
       "    }\n",
       "\n",
       "    .dataframe tbody tr th {\n",
       "        vertical-align: top;\n",
       "    }\n",
       "\n",
       "    .dataframe thead th {\n",
       "        text-align: right;\n",
       "    }\n",
       "</style>\n",
       "<table border=\"1\" class=\"dataframe\">\n",
       "  <thead>\n",
       "    <tr style=\"text-align: right;\">\n",
       "      <th></th>\n",
       "      <th>three</th>\n",
       "      <th>two</th>\n",
       "      <th>one</th>\n",
       "    </tr>\n",
       "  </thead>\n",
       "  <tbody>\n",
       "    <tr>\n",
       "      <th>c</th>\n",
       "      <td>-1.080338</td>\n",
       "      <td>1.881124</td>\n",
       "      <td>-2.080188</td>\n",
       "    </tr>\n",
       "    <tr>\n",
       "      <th>f</th>\n",
       "      <td>NaN</td>\n",
       "      <td>NaN</td>\n",
       "      <td>NaN</td>\n",
       "    </tr>\n",
       "    <tr>\n",
       "      <th>b</th>\n",
       "      <td>-1.407497</td>\n",
       "      <td>1.476699</td>\n",
       "      <td>1.508872</td>\n",
       "    </tr>\n",
       "  </tbody>\n",
       "</table>\n",
       "</div>"
      ],
      "text/plain": [
       "      three       two       one\n",
       "c -1.080338  1.881124 -2.080188\n",
       "f       NaN       NaN       NaN\n",
       "b -1.407497  1.476699  1.508872"
      ]
     },
     "execution_count": 8,
     "metadata": {},
     "output_type": "execute_result"
    }
   ],
   "source": [
    "df.reindex(index=['c','f','b'], columns=['three','two','one'])"
   ]
  },
  {
   "cell_type": "code",
   "execution_count": 11,
   "metadata": {},
   "outputs": [
    {
     "name": "stdout",
     "output_type": "stream",
     "text": [
      "|    |     three |       two |       one |\n",
      "|:---|----------:|----------:|----------:|\n",
      "| c  |  -1.08034 |   1.88112 |  -2.08019 |\n",
      "| f  | nan       | nan       | nan       |\n",
      "| b  |  -1.4075  |   1.4767  |   1.50887 |\n"
     ]
    }
   ],
   "source": [
    "print(df.reindex(index=['c','f','b'], columns=['three','two','one']).to_markdown())"
   ]
  },
  {
   "cell_type": "code",
   "execution_count": 12,
   "metadata": {},
   "outputs": [
    {
     "data": {
      "text/html": [
       "<div>\n",
       "<style scoped>\n",
       "    .dataframe tbody tr th:only-of-type {\n",
       "        vertical-align: middle;\n",
       "    }\n",
       "\n",
       "    .dataframe tbody tr th {\n",
       "        vertical-align: top;\n",
       "    }\n",
       "\n",
       "    .dataframe thead th {\n",
       "        text-align: right;\n",
       "    }\n",
       "</style>\n",
       "<table border=\"1\" class=\"dataframe\">\n",
       "  <thead>\n",
       "    <tr style=\"text-align: right;\">\n",
       "      <th></th>\n",
       "      <th>one</th>\n",
       "      <th>two</th>\n",
       "      <th>three</th>\n",
       "    </tr>\n",
       "  </thead>\n",
       "  <tbody>\n",
       "    <tr>\n",
       "      <th>c</th>\n",
       "      <td>-2.080188</td>\n",
       "      <td>1.881124</td>\n",
       "      <td>-1.080338</td>\n",
       "    </tr>\n",
       "    <tr>\n",
       "      <th>f</th>\n",
       "      <td>NaN</td>\n",
       "      <td>NaN</td>\n",
       "      <td>NaN</td>\n",
       "    </tr>\n",
       "    <tr>\n",
       "      <th>b</th>\n",
       "      <td>1.508872</td>\n",
       "      <td>1.476699</td>\n",
       "      <td>-1.407497</td>\n",
       "    </tr>\n",
       "  </tbody>\n",
       "</table>\n",
       "</div>"
      ],
      "text/plain": [
       "        one       two     three\n",
       "c -2.080188  1.881124 -1.080338\n",
       "f       NaN       NaN       NaN\n",
       "b  1.508872  1.476699 -1.407497"
      ]
     },
     "execution_count": 12,
     "metadata": {},
     "output_type": "execute_result"
    }
   ],
   "source": [
    "df.reindex(['c','f','b'], axis='index')"
   ]
  },
  {
   "cell_type": "code",
   "execution_count": 13,
   "metadata": {},
   "outputs": [
    {
     "name": "stdout",
     "output_type": "stream",
     "text": [
      "|    |       one |       two |     three |\n",
      "|:---|----------:|----------:|----------:|\n",
      "| c  |  -2.08019 |   1.88112 |  -1.08034 |\n",
      "| f  | nan       | nan       | nan       |\n",
      "| b  |   1.50887 |   1.4767  |  -1.4075  |\n"
     ]
    }
   ],
   "source": [
    "print(df.reindex(['c','f','b'], axis='index').to_markdown())"
   ]
  },
  {
   "cell_type": "code",
   "execution_count": 14,
   "metadata": {},
   "outputs": [],
   "source": [
    "rs = s.reindex(df.index)"
   ]
  },
  {
   "cell_type": "code",
   "execution_count": 15,
   "metadata": {},
   "outputs": [
    {
     "data": {
      "text/plain": [
       "a   -0.175884\n",
       "b   -0.714753\n",
       "c    0.255026\n",
       "d   -0.150072\n",
       "dtype: float64"
      ]
     },
     "execution_count": 15,
     "metadata": {},
     "output_type": "execute_result"
    }
   ],
   "source": [
    "rs"
   ]
  },
  {
   "cell_type": "code",
   "execution_count": 16,
   "metadata": {},
   "outputs": [
    {
     "data": {
      "text/plain": [
       "True"
      ]
     },
     "execution_count": 16,
     "metadata": {},
     "output_type": "execute_result"
    }
   ],
   "source": [
    "rs.index is df.index"
   ]
  },
  {
   "cell_type": "code",
   "execution_count": 19,
   "metadata": {},
   "outputs": [
    {
     "name": "stdout",
     "output_type": "stream",
     "text": [
      "|    |       one |       two |     three |\n",
      "|:---|----------:|----------:|----------:|\n",
      "| c  |  -2.08019 |   1.88112 |  -1.08034 |\n",
      "| f  | nan       | nan       | nan       |\n",
      "| b  |   1.50887 |   1.4767  |  -1.4075  |\n"
     ]
    }
   ],
   "source": [
    "print(df.reindex(['c','f','b'], axis='index').to_markdown())"
   ]
  },
  {
   "cell_type": "code",
   "execution_count": 20,
   "metadata": {},
   "outputs": [
    {
     "name": "stdout",
     "output_type": "stream",
     "text": [
      "|    |     three |       two |       one |\n",
      "|:---|----------:|----------:|----------:|\n",
      "| a  |  0.806466 |  1.08527  |  1.17957  |\n",
      "| b  | -1.4075   |  1.4767   |  1.50887  |\n",
      "| c  | -1.08034  |  1.88112  | -2.08019  |\n",
      "| d  | -0.39275  | -0.640094 |  0.452879 |\n"
     ]
    }
   ],
   "source": [
    "print(df.reindex(['three','two','one'], axis='columns').to_markdown())"
   ]
  },
  {
   "cell_type": "code",
   "execution_count": 5,
   "metadata": {},
   "outputs": [],
   "source": [
    "df2 = pd.DataFrame(np.random.randn(3,2), index=['a','b','c'], columns=['one','two'])"
   ]
  },
  {
   "cell_type": "code",
   "execution_count": 9,
   "metadata": {},
   "outputs": [
    {
     "name": "stdout",
     "output_type": "stream",
     "text": [
      "|    |       one |       two |\n",
      "|:---|----------:|----------:|\n",
      "| a  | -0.954435 | -0.136404 |\n",
      "| b  |  0.664582 | -0.745416 |\n",
      "| c  | -0.582238 | -0.684242 |\n"
     ]
    }
   ],
   "source": [
    "print(df2.to_markdown())"
   ]
  },
  {
   "cell_type": "code",
   "execution_count": 7,
   "metadata": {},
   "outputs": [],
   "source": [
    "df3 = pd.DataFrame(np.random.randn(3,2), index=['a','b','c'], columns=['one','two'])"
   ]
  },
  {
   "cell_type": "code",
   "execution_count": 10,
   "metadata": {},
   "outputs": [
    {
     "name": "stdout",
     "output_type": "stream",
     "text": [
      "|    |       one |       two |\n",
      "|:---|----------:|----------:|\n",
      "| a  | -0.129764 |  2.42972  |\n",
      "| b  |  0.114185 |  1.61554  |\n",
      "| c  | -0.483383 | -0.209427 |\n"
     ]
    }
   ],
   "source": [
    "print(df3.to_markdown())"
   ]
  },
  {
   "cell_type": "code",
   "execution_count": 15,
   "metadata": {},
   "outputs": [
    {
     "name": "stdout",
     "output_type": "stream",
     "text": [
      "|    |     one |        two |\n",
      "|:---|--------:|-----------:|\n",
      "| a  | 1.08289 |  1.73894   |\n",
      "| b  | 1.5553  |  0.662961  |\n",
      "| c  | 1.79224 | -0.0619129 |\n"
     ]
    }
   ],
   "source": [
    "print(df.reindex_like(df2).to_markdown())"
   ]
  },
  {
   "cell_type": "code",
   "execution_count": 16,
   "metadata": {},
   "outputs": [],
   "source": [
    "s = pd.Series(np.random.randn(5), index=['a', 'b', 'c', 'd', 'e'])"
   ]
  },
  {
   "cell_type": "code",
   "execution_count": 17,
   "metadata": {},
   "outputs": [],
   "source": [
    "s1 = s[:4]"
   ]
  },
  {
   "cell_type": "code",
   "execution_count": 18,
   "metadata": {},
   "outputs": [],
   "source": [
    "s2 = s[1:]"
   ]
  },
  {
   "cell_type": "code",
   "execution_count": 19,
   "metadata": {},
   "outputs": [
    {
     "data": {
      "text/plain": [
       "(a    0.399127\n",
       " b    0.822136\n",
       " c    0.382556\n",
       " d   -0.481126\n",
       " e         NaN\n",
       " dtype: float64,\n",
       " a         NaN\n",
       " b    0.822136\n",
       " c    0.382556\n",
       " d   -0.481126\n",
       " e   -0.252125\n",
       " dtype: float64)"
      ]
     },
     "execution_count": 19,
     "metadata": {},
     "output_type": "execute_result"
    }
   ],
   "source": [
    "s1.align(s2, join='outer')"
   ]
  },
  {
   "cell_type": "code",
   "execution_count": 20,
   "metadata": {},
   "outputs": [
    {
     "data": {
      "text/plain": [
       "b    0.822136\n",
       "c    0.382556\n",
       "d   -0.481126\n",
       "e   -0.252125\n",
       "dtype: float64"
      ]
     },
     "execution_count": 20,
     "metadata": {},
     "output_type": "execute_result"
    }
   ],
   "source": [
    "s2"
   ]
  },
  {
   "cell_type": "code",
   "execution_count": 21,
   "metadata": {},
   "outputs": [
    {
     "data": {
      "text/plain": [
       "a    0.399127\n",
       "b    0.822136\n",
       "c    0.382556\n",
       "d   -0.481126\n",
       "dtype: float64"
      ]
     },
     "execution_count": 21,
     "metadata": {},
     "output_type": "execute_result"
    }
   ],
   "source": [
    "s1"
   ]
  },
  {
   "cell_type": "code",
   "execution_count": 23,
   "metadata": {},
   "outputs": [
    {
     "data": {
      "text/plain": [
       "(a    0.399127\n",
       " b    0.822136\n",
       " c    0.382556\n",
       " d   -0.481126\n",
       " dtype: float64,\n",
       " a         NaN\n",
       " b    0.822136\n",
       " c    0.382556\n",
       " d   -0.481126\n",
       " dtype: float64)"
      ]
     },
     "execution_count": 23,
     "metadata": {},
     "output_type": "execute_result"
    }
   ],
   "source": [
    "s1.align(s2, join='left')"
   ]
  },
  {
   "cell_type": "code",
   "execution_count": 24,
   "metadata": {},
   "outputs": [
    {
     "data": {
      "text/plain": [
       "(b    0.822136\n",
       " c    0.382556\n",
       " d   -0.481126\n",
       " e         NaN\n",
       " dtype: float64,\n",
       " b    0.822136\n",
       " c    0.382556\n",
       " d   -0.481126\n",
       " e   -0.252125\n",
       " dtype: float64)"
      ]
     },
     "execution_count": 24,
     "metadata": {},
     "output_type": "execute_result"
    }
   ],
   "source": [
    "s1.align(s2, join='right')"
   ]
  },
  {
   "cell_type": "code",
   "execution_count": 25,
   "metadata": {},
   "outputs": [
    {
     "data": {
      "text/plain": [
       "(b    0.822136\n",
       " c    0.382556\n",
       " d   -0.481126\n",
       " dtype: float64,\n",
       " b    0.822136\n",
       " c    0.382556\n",
       " d   -0.481126\n",
       " dtype: float64)"
      ]
     },
     "execution_count": 25,
     "metadata": {},
     "output_type": "execute_result"
    }
   ],
   "source": [
    "s1.align(s2, join='inner')"
   ]
  },
  {
   "cell_type": "code",
   "execution_count": 26,
   "metadata": {},
   "outputs": [
    {
     "data": {
      "text/plain": [
       "(        one       two\n",
       " a  1.082888  1.738943\n",
       " b  1.555301  0.662961\n",
       " c  1.792241 -0.061913,\n",
       "         one       two\n",
       " a -0.954435 -0.136404\n",
       " b  0.664582 -0.745416\n",
       " c -0.582238 -0.684242)"
      ]
     },
     "execution_count": 26,
     "metadata": {},
     "output_type": "execute_result"
    }
   ],
   "source": [
    "df.align(df2, join='inner')"
   ]
  },
  {
   "cell_type": "code",
   "execution_count": 27,
   "metadata": {},
   "outputs": [
    {
     "data": {
      "text/plain": [
       "(        one       two     three\n",
       " a  1.082888  1.738943 -0.168816\n",
       " b  1.555301  0.662961  1.294289\n",
       " c  1.792241 -0.061913  0.251609,\n",
       "         one       two\n",
       " a -0.954435 -0.136404\n",
       " b  0.664582 -0.745416\n",
       " c -0.582238 -0.684242)"
      ]
     },
     "execution_count": 27,
     "metadata": {},
     "output_type": "execute_result"
    }
   ],
   "source": [
    "df.align(df2, join='inner', axis=0)"
   ]
  },
  {
   "cell_type": "code",
   "execution_count": 28,
   "metadata": {},
   "outputs": [
    {
     "data": {
      "text/plain": [
       "(        one     three       two\n",
       " a  1.082888 -0.168816  1.738943\n",
       " b  1.555301  1.294289  0.662961\n",
       " c  1.792241  0.251609 -0.061913\n",
       " d  0.993658 -1.414891  0.663250,\n",
       " one     -0.954435\n",
       " three         NaN\n",
       " two     -0.136404\n",
       " Name: a, dtype: float64)"
      ]
     },
     "execution_count": 28,
     "metadata": {},
     "output_type": "execute_result"
    }
   ],
   "source": [
    "df.align(df2.iloc[0], axis=1)"
   ]
  },
  {
   "cell_type": "code",
   "execution_count": 31,
   "metadata": {},
   "outputs": [],
   "source": [
    "rng = pd.date_range('5/20/2020', periods=8)"
   ]
  },
  {
   "cell_type": "code",
   "execution_count": 32,
   "metadata": {},
   "outputs": [
    {
     "data": {
      "text/plain": [
       "DatetimeIndex(['2020-05-20', '2020-05-21', '2020-05-22', '2020-05-23',\n",
       "               '2020-05-24', '2020-05-25', '2020-05-26', '2020-05-27'],\n",
       "              dtype='datetime64[ns]', freq='D')"
      ]
     },
     "execution_count": 32,
     "metadata": {},
     "output_type": "execute_result"
    }
   ],
   "source": [
    "rng"
   ]
  },
  {
   "cell_type": "code",
   "execution_count": 33,
   "metadata": {},
   "outputs": [],
   "source": [
    "ts = pd.Series(np.random.randn(8), index=rng)"
   ]
  },
  {
   "cell_type": "code",
   "execution_count": 34,
   "metadata": {},
   "outputs": [
    {
     "data": {
      "text/plain": [
       "2020-05-20   -0.505216\n",
       "2020-05-21   -0.817539\n",
       "2020-05-22    0.369850\n",
       "2020-05-23    0.495342\n",
       "2020-05-24    0.532168\n",
       "2020-05-25   -0.980164\n",
       "2020-05-26   -0.630167\n",
       "2020-05-27   -0.244960\n",
       "Freq: D, dtype: float64"
      ]
     },
     "execution_count": 34,
     "metadata": {},
     "output_type": "execute_result"
    }
   ],
   "source": [
    "ts"
   ]
  },
  {
   "cell_type": "code",
   "execution_count": 35,
   "metadata": {},
   "outputs": [],
   "source": [
    "ts2 = ts[[0, 3, 6]]"
   ]
  },
  {
   "cell_type": "code",
   "execution_count": 36,
   "metadata": {},
   "outputs": [
    {
     "data": {
      "text/plain": [
       "2020-05-20   -0.505216\n",
       "2020-05-23    0.495342\n",
       "2020-05-26   -0.630167\n",
       "dtype: float64"
      ]
     },
     "execution_count": 36,
     "metadata": {},
     "output_type": "execute_result"
    }
   ],
   "source": [
    "ts2"
   ]
  },
  {
   "cell_type": "code",
   "execution_count": 40,
   "metadata": {},
   "outputs": [
    {
     "data": {
      "text/plain": [
       "2020-05-20   -0.505216\n",
       "2020-05-21         NaN\n",
       "2020-05-22         NaN\n",
       "2020-05-23    0.495342\n",
       "2020-05-24         NaN\n",
       "2020-05-25         NaN\n",
       "2020-05-26   -0.630167\n",
       "2020-05-27         NaN\n",
       "Freq: D, dtype: float64"
      ]
     },
     "execution_count": 40,
     "metadata": {},
     "output_type": "execute_result"
    }
   ],
   "source": [
    "ts2.reindex(ts.index)"
   ]
  },
  {
   "cell_type": "code",
   "execution_count": 41,
   "metadata": {},
   "outputs": [
    {
     "data": {
      "text/plain": [
       "2020-05-20   -0.505216\n",
       "2020-05-21   -0.505216\n",
       "2020-05-22   -0.505216\n",
       "2020-05-23    0.495342\n",
       "2020-05-24    0.495342\n",
       "2020-05-25    0.495342\n",
       "2020-05-26   -0.630167\n",
       "2020-05-27   -0.630167\n",
       "Freq: D, dtype: float64"
      ]
     },
     "execution_count": 41,
     "metadata": {},
     "output_type": "execute_result"
    }
   ],
   "source": [
    "ts2.reindex(ts.index, method='ffill')"
   ]
  },
  {
   "cell_type": "code",
   "execution_count": 42,
   "metadata": {},
   "outputs": [
    {
     "data": {
      "text/plain": [
       "2020-05-20   -0.505216\n",
       "2020-05-21    0.495342\n",
       "2020-05-22    0.495342\n",
       "2020-05-23    0.495342\n",
       "2020-05-24   -0.630167\n",
       "2020-05-25   -0.630167\n",
       "2020-05-26   -0.630167\n",
       "2020-05-27         NaN\n",
       "Freq: D, dtype: float64"
      ]
     },
     "execution_count": 42,
     "metadata": {},
     "output_type": "execute_result"
    }
   ],
   "source": [
    "ts2.reindex(ts.index, method='bfill')"
   ]
  },
  {
   "cell_type": "code",
   "execution_count": 43,
   "metadata": {},
   "outputs": [
    {
     "data": {
      "text/plain": [
       "2020-05-20   -0.505216\n",
       "2020-05-21   -0.505216\n",
       "2020-05-22    0.495342\n",
       "2020-05-23    0.495342\n",
       "2020-05-24    0.495342\n",
       "2020-05-25   -0.630167\n",
       "2020-05-26   -0.630167\n",
       "2020-05-27   -0.630167\n",
       "Freq: D, dtype: float64"
      ]
     },
     "execution_count": 43,
     "metadata": {},
     "output_type": "execute_result"
    }
   ],
   "source": [
    "ts2.reindex(ts.index, method='nearest')"
   ]
  },
  {
   "cell_type": "code",
   "execution_count": 44,
   "metadata": {},
   "outputs": [
    {
     "data": {
      "text/plain": [
       "2020-05-20   -0.505216\n",
       "2020-05-21   -0.505216\n",
       "2020-05-22   -0.505216\n",
       "2020-05-23    0.495342\n",
       "2020-05-24    0.495342\n",
       "2020-05-25    0.495342\n",
       "2020-05-26   -0.630167\n",
       "2020-05-27   -0.630167\n",
       "Freq: D, dtype: float64"
      ]
     },
     "execution_count": 44,
     "metadata": {},
     "output_type": "execute_result"
    }
   ],
   "source": [
    "ts2.reindex(ts.index).fillna(method='ffill')"
   ]
  },
  {
   "cell_type": "code",
   "execution_count": 45,
   "metadata": {},
   "outputs": [
    {
     "data": {
      "text/plain": [
       "2020-05-20   -0.505216\n",
       "2020-05-21   -0.505216\n",
       "2020-05-22         NaN\n",
       "2020-05-23    0.495342\n",
       "2020-05-24    0.495342\n",
       "2020-05-25         NaN\n",
       "2020-05-26   -0.630167\n",
       "2020-05-27   -0.630167\n",
       "Freq: D, dtype: float64"
      ]
     },
     "execution_count": 45,
     "metadata": {},
     "output_type": "execute_result"
    }
   ],
   "source": [
    "ts2.reindex(ts.index, method='ffill', limit=1)"
   ]
  },
  {
   "cell_type": "code",
   "execution_count": 46,
   "metadata": {},
   "outputs": [
    {
     "data": {
      "text/plain": [
       "2020-05-20   -0.505216\n",
       "2020-05-21   -0.505216\n",
       "2020-05-22         NaN\n",
       "2020-05-23    0.495342\n",
       "2020-05-24    0.495342\n",
       "2020-05-25         NaN\n",
       "2020-05-26   -0.630167\n",
       "2020-05-27   -0.630167\n",
       "Freq: D, dtype: float64"
      ]
     },
     "execution_count": 46,
     "metadata": {},
     "output_type": "execute_result"
    }
   ],
   "source": [
    "ts2.reindex(ts.index, method='ffill', tolerance='1 day')"
   ]
  },
  {
   "cell_type": "code",
   "execution_count": 47,
   "metadata": {},
   "outputs": [
    {
     "data": {
      "text/html": [
       "<div>\n",
       "<style scoped>\n",
       "    .dataframe tbody tr th:only-of-type {\n",
       "        vertical-align: middle;\n",
       "    }\n",
       "\n",
       "    .dataframe tbody tr th {\n",
       "        vertical-align: top;\n",
       "    }\n",
       "\n",
       "    .dataframe thead th {\n",
       "        text-align: right;\n",
       "    }\n",
       "</style>\n",
       "<table border=\"1\" class=\"dataframe\">\n",
       "  <thead>\n",
       "    <tr style=\"text-align: right;\">\n",
       "      <th></th>\n",
       "      <th>one</th>\n",
       "      <th>two</th>\n",
       "      <th>three</th>\n",
       "    </tr>\n",
       "  </thead>\n",
       "  <tbody>\n",
       "    <tr>\n",
       "      <th>a</th>\n",
       "      <td>1.082888</td>\n",
       "      <td>1.738943</td>\n",
       "      <td>-0.168816</td>\n",
       "    </tr>\n",
       "    <tr>\n",
       "      <th>b</th>\n",
       "      <td>1.555301</td>\n",
       "      <td>0.662961</td>\n",
       "      <td>1.294289</td>\n",
       "    </tr>\n",
       "    <tr>\n",
       "      <th>c</th>\n",
       "      <td>1.792241</td>\n",
       "      <td>-0.061913</td>\n",
       "      <td>0.251609</td>\n",
       "    </tr>\n",
       "    <tr>\n",
       "      <th>d</th>\n",
       "      <td>0.993658</td>\n",
       "      <td>0.663250</td>\n",
       "      <td>-1.414891</td>\n",
       "    </tr>\n",
       "  </tbody>\n",
       "</table>\n",
       "</div>"
      ],
      "text/plain": [
       "        one       two     three\n",
       "a  1.082888  1.738943 -0.168816\n",
       "b  1.555301  0.662961  1.294289\n",
       "c  1.792241 -0.061913  0.251609\n",
       "d  0.993658  0.663250 -1.414891"
      ]
     },
     "execution_count": 47,
     "metadata": {},
     "output_type": "execute_result"
    }
   ],
   "source": [
    "df"
   ]
  },
  {
   "cell_type": "code",
   "execution_count": 50,
   "metadata": {},
   "outputs": [
    {
     "name": "stdout",
     "output_type": "stream",
     "text": [
      "|    |     one |        two |    three |\n",
      "|:---|--------:|-----------:|---------:|\n",
      "| b  | 1.5553  |  0.662961  | 1.29429  |\n",
      "| c  | 1.79224 | -0.0619129 | 0.251609 |\n"
     ]
    }
   ],
   "source": [
    "print(df.drop(['a','d'], axis=0).to_markdown())"
   ]
  },
  {
   "cell_type": "code",
   "execution_count": 51,
   "metadata": {},
   "outputs": [
    {
     "name": "stdout",
     "output_type": "stream",
     "text": [
      "|    |        two |     three |\n",
      "|:---|-----------:|----------:|\n",
      "| a  |  1.73894   | -0.168816 |\n",
      "| b  |  0.662961  |  1.29429  |\n",
      "| c  | -0.0619129 |  0.251609 |\n",
      "| d  |  0.66325   | -1.41489  |\n"
     ]
    }
   ],
   "source": [
    "print(df.drop(['one'], axis=1).to_markdown())"
   ]
  },
  {
   "cell_type": "code",
   "execution_count": 53,
   "metadata": {},
   "outputs": [
    {
     "name": "stdout",
     "output_type": "stream",
     "text": [
      "|    |     one |        two |    three |\n",
      "|:---|--------:|-----------:|---------:|\n",
      "| b  | 1.5553  |  0.662961  | 1.29429  |\n",
      "| c  | 1.79224 | -0.0619129 | 0.251609 |\n"
     ]
    }
   ],
   "source": [
    "print(df.reindex(df.index.difference(['a','d'])).to_markdown())"
   ]
  },
  {
   "cell_type": "code",
   "execution_count": 2,
   "metadata": {},
   "outputs": [],
   "source": [
    "s = pd.Series(np.random.randn(5), index=['a', 'b', 'c', 'd', 'e'])"
   ]
  },
  {
   "cell_type": "code",
   "execution_count": 3,
   "metadata": {},
   "outputs": [
    {
     "data": {
      "text/plain": [
       "a   -0.075894\n",
       "b    0.185599\n",
       "c   -0.519371\n",
       "d   -0.146455\n",
       "e    1.248039\n",
       "dtype: float64"
      ]
     },
     "execution_count": 3,
     "metadata": {},
     "output_type": "execute_result"
    }
   ],
   "source": [
    "s"
   ]
  },
  {
   "cell_type": "code",
   "execution_count": 5,
   "metadata": {},
   "outputs": [
    {
     "data": {
      "text/plain": [
       "A   -0.075894\n",
       "B    0.185599\n",
       "C   -0.519371\n",
       "D   -0.146455\n",
       "E    1.248039\n",
       "dtype: float64"
      ]
     },
     "execution_count": 5,
     "metadata": {},
     "output_type": "execute_result"
    }
   ],
   "source": [
    "s.rename(str.upper)"
   ]
  },
  {
   "cell_type": "code",
   "execution_count": 9,
   "metadata": {},
   "outputs": [
    {
     "name": "stdout",
     "output_type": "stream",
     "text": [
      "|    |        one |       two |     three |\n",
      "|:---|-----------:|----------:|----------:|\n",
      "| a  |  0.46764   | -0.762784 | -0.294786 |\n",
      "| b  |  0.0442426 |  1.311    |  1.23261  |\n",
      "| c  | -0.0144119 | -0.239189 |  0.708016 |\n",
      "| d  | -0.430634  | -0.435274 | -0.342011 |\n"
     ]
    }
   ],
   "source": [
    "df = pd.DataFrame(np.random.randn(4, 3), index=['a','b','c','d'], columns=['one','two','three'])\n",
    "print(df.to_markdown())"
   ]
  },
  {
   "cell_type": "code",
   "execution_count": 11,
   "metadata": {},
   "outputs": [],
   "source": [
    "tmp = df.rename(columns={'one':'foo','two':'bar'},\n",
    "         index={'a':'apple','b':'banana','d':'durian'})"
   ]
  },
  {
   "cell_type": "code",
   "execution_count": 12,
   "metadata": {},
   "outputs": [
    {
     "name": "stdout",
     "output_type": "stream",
     "text": [
      "|        |        foo |       bar |     three |\n",
      "|:-------|-----------:|----------:|----------:|\n",
      "| apple  |  0.46764   | -0.762784 | -0.294786 |\n",
      "| banana |  0.0442426 |  1.311    |  1.23261  |\n",
      "| c      | -0.0144119 | -0.239189 |  0.708016 |\n",
      "| durian | -0.430634  | -0.435274 | -0.342011 |\n"
     ]
    }
   ],
   "source": [
    "print(tmp.to_markdown())"
   ]
  },
  {
   "cell_type": "code",
   "execution_count": 14,
   "metadata": {},
   "outputs": [
    {
     "name": "stdout",
     "output_type": "stream",
     "text": [
      "|    |        foo |       bar |     three |\n",
      "|:---|-----------:|----------:|----------:|\n",
      "| a  |  0.46764   | -0.762784 | -0.294786 |\n",
      "| b  |  0.0442426 |  1.311    |  1.23261  |\n",
      "| c  | -0.0144119 | -0.239189 |  0.708016 |\n",
      "| d  | -0.430634  | -0.435274 | -0.342011 |\n"
     ]
    }
   ],
   "source": [
    "print(df.rename({'one':'foo','two':'bar'}, axis='columns').to_markdown())"
   ]
  },
  {
   "cell_type": "code",
   "execution_count": 16,
   "metadata": {},
   "outputs": [
    {
     "name": "stdout",
     "output_type": "stream",
     "text": [
      "|        |        one |       two |     three |\n",
      "|:-------|-----------:|----------:|----------:|\n",
      "| apple  |  0.46764   | -0.762784 | -0.294786 |\n",
      "| banana |  0.0442426 |  1.311    |  1.23261  |\n",
      "| c      | -0.0144119 | -0.239189 |  0.708016 |\n",
      "| durian | -0.430634  | -0.435274 | -0.342011 |\n"
     ]
    }
   ],
   "source": [
    "print(df.rename({'a':'apple','b':'banana','d':'durian'}).to_markdown())"
   ]
  },
  {
   "cell_type": "code",
   "execution_count": 17,
   "metadata": {},
   "outputs": [
    {
     "data": {
      "text/plain": [
       "a   -0.075894\n",
       "b    0.185599\n",
       "c   -0.519371\n",
       "d   -0.146455\n",
       "e    1.248039\n",
       "Name: scalar-name, dtype: float64"
      ]
     },
     "execution_count": 17,
     "metadata": {},
     "output_type": "execute_result"
    }
   ],
   "source": [
    "s.rename('scalar-name')"
   ]
  },
  {
   "cell_type": "code",
   "execution_count": 18,
   "metadata": {},
   "outputs": [],
   "source": [
    "df = pd.DataFrame({'x':[1, 2, 3, 4, 5, 6 ],\n",
    "                  'y' :[10, 20, 30, 40, 50, 60]},\n",
    "                 index = pd.MultiIndex.from_product([['a','b','c'], [1,2]], names=['let','num']))"
   ]
  },
  {
   "cell_type": "code",
   "execution_count": 21,
   "metadata": {},
   "outputs": [
    {
     "data": {
      "text/html": [
       "<div>\n",
       "<style scoped>\n",
       "    .dataframe tbody tr th:only-of-type {\n",
       "        vertical-align: middle;\n",
       "    }\n",
       "\n",
       "    .dataframe tbody tr th {\n",
       "        vertical-align: top;\n",
       "    }\n",
       "\n",
       "    .dataframe thead th {\n",
       "        text-align: right;\n",
       "    }\n",
       "</style>\n",
       "<table border=\"1\" class=\"dataframe\">\n",
       "  <thead>\n",
       "    <tr style=\"text-align: right;\">\n",
       "      <th></th>\n",
       "      <th></th>\n",
       "      <th>x</th>\n",
       "      <th>y</th>\n",
       "    </tr>\n",
       "    <tr>\n",
       "      <th>let</th>\n",
       "      <th>num</th>\n",
       "      <th></th>\n",
       "      <th></th>\n",
       "    </tr>\n",
       "  </thead>\n",
       "  <tbody>\n",
       "    <tr>\n",
       "      <th rowspan=\"2\" valign=\"top\">a</th>\n",
       "      <th>1</th>\n",
       "      <td>1</td>\n",
       "      <td>10</td>\n",
       "    </tr>\n",
       "    <tr>\n",
       "      <th>2</th>\n",
       "      <td>2</td>\n",
       "      <td>20</td>\n",
       "    </tr>\n",
       "    <tr>\n",
       "      <th rowspan=\"2\" valign=\"top\">b</th>\n",
       "      <th>1</th>\n",
       "      <td>3</td>\n",
       "      <td>30</td>\n",
       "    </tr>\n",
       "    <tr>\n",
       "      <th>2</th>\n",
       "      <td>4</td>\n",
       "      <td>40</td>\n",
       "    </tr>\n",
       "    <tr>\n",
       "      <th rowspan=\"2\" valign=\"top\">c</th>\n",
       "      <th>1</th>\n",
       "      <td>5</td>\n",
       "      <td>50</td>\n",
       "    </tr>\n",
       "    <tr>\n",
       "      <th>2</th>\n",
       "      <td>6</td>\n",
       "      <td>60</td>\n",
       "    </tr>\n",
       "  </tbody>\n",
       "</table>\n",
       "</div>"
      ],
      "text/plain": [
       "         x   y\n",
       "let num       \n",
       "a   1    1  10\n",
       "    2    2  20\n",
       "b   1    3  30\n",
       "    2    4  40\n",
       "c   1    5  50\n",
       "    2    6  60"
      ]
     },
     "execution_count": 21,
     "metadata": {},
     "output_type": "execute_result"
    }
   ],
   "source": [
    "df"
   ]
  },
  {
   "cell_type": "code",
   "execution_count": 22,
   "metadata": {},
   "outputs": [
    {
     "data": {
      "text/html": [
       "<div>\n",
       "<style scoped>\n",
       "    .dataframe tbody tr th:only-of-type {\n",
       "        vertical-align: middle;\n",
       "    }\n",
       "\n",
       "    .dataframe tbody tr th {\n",
       "        vertical-align: top;\n",
       "    }\n",
       "\n",
       "    .dataframe thead th {\n",
       "        text-align: right;\n",
       "    }\n",
       "</style>\n",
       "<table border=\"1\" class=\"dataframe\">\n",
       "  <thead>\n",
       "    <tr style=\"text-align: right;\">\n",
       "      <th></th>\n",
       "      <th></th>\n",
       "      <th>x</th>\n",
       "      <th>y</th>\n",
       "    </tr>\n",
       "    <tr>\n",
       "      <th>abc</th>\n",
       "      <th>num</th>\n",
       "      <th></th>\n",
       "      <th></th>\n",
       "    </tr>\n",
       "  </thead>\n",
       "  <tbody>\n",
       "    <tr>\n",
       "      <th rowspan=\"2\" valign=\"top\">a</th>\n",
       "      <th>1</th>\n",
       "      <td>1</td>\n",
       "      <td>10</td>\n",
       "    </tr>\n",
       "    <tr>\n",
       "      <th>2</th>\n",
       "      <td>2</td>\n",
       "      <td>20</td>\n",
       "    </tr>\n",
       "    <tr>\n",
       "      <th rowspan=\"2\" valign=\"top\">b</th>\n",
       "      <th>1</th>\n",
       "      <td>3</td>\n",
       "      <td>30</td>\n",
       "    </tr>\n",
       "    <tr>\n",
       "      <th>2</th>\n",
       "      <td>4</td>\n",
       "      <td>40</td>\n",
       "    </tr>\n",
       "    <tr>\n",
       "      <th rowspan=\"2\" valign=\"top\">c</th>\n",
       "      <th>1</th>\n",
       "      <td>5</td>\n",
       "      <td>50</td>\n",
       "    </tr>\n",
       "    <tr>\n",
       "      <th>2</th>\n",
       "      <td>6</td>\n",
       "      <td>60</td>\n",
       "    </tr>\n",
       "  </tbody>\n",
       "</table>\n",
       "</div>"
      ],
      "text/plain": [
       "         x   y\n",
       "abc num       \n",
       "a   1    1  10\n",
       "    2    2  20\n",
       "b   1    3  30\n",
       "    2    4  40\n",
       "c   1    5  50\n",
       "    2    6  60"
      ]
     },
     "execution_count": 22,
     "metadata": {},
     "output_type": "execute_result"
    }
   ],
   "source": [
    "df.rename_axis(index={'let':'abc'})"
   ]
  },
  {
   "cell_type": "code",
   "execution_count": 23,
   "metadata": {},
   "outputs": [
    {
     "data": {
      "text/html": [
       "<div>\n",
       "<style scoped>\n",
       "    .dataframe tbody tr th:only-of-type {\n",
       "        vertical-align: middle;\n",
       "    }\n",
       "\n",
       "    .dataframe tbody tr th {\n",
       "        vertical-align: top;\n",
       "    }\n",
       "\n",
       "    .dataframe thead th {\n",
       "        text-align: right;\n",
       "    }\n",
       "</style>\n",
       "<table border=\"1\" class=\"dataframe\">\n",
       "  <thead>\n",
       "    <tr style=\"text-align: right;\">\n",
       "      <th></th>\n",
       "      <th></th>\n",
       "      <th>x</th>\n",
       "      <th>y</th>\n",
       "    </tr>\n",
       "    <tr>\n",
       "      <th>LET</th>\n",
       "      <th>NUM</th>\n",
       "      <th></th>\n",
       "      <th></th>\n",
       "    </tr>\n",
       "  </thead>\n",
       "  <tbody>\n",
       "    <tr>\n",
       "      <th rowspan=\"2\" valign=\"top\">a</th>\n",
       "      <th>1</th>\n",
       "      <td>1</td>\n",
       "      <td>10</td>\n",
       "    </tr>\n",
       "    <tr>\n",
       "      <th>2</th>\n",
       "      <td>2</td>\n",
       "      <td>20</td>\n",
       "    </tr>\n",
       "    <tr>\n",
       "      <th rowspan=\"2\" valign=\"top\">b</th>\n",
       "      <th>1</th>\n",
       "      <td>3</td>\n",
       "      <td>30</td>\n",
       "    </tr>\n",
       "    <tr>\n",
       "      <th>2</th>\n",
       "      <td>4</td>\n",
       "      <td>40</td>\n",
       "    </tr>\n",
       "    <tr>\n",
       "      <th rowspan=\"2\" valign=\"top\">c</th>\n",
       "      <th>1</th>\n",
       "      <td>5</td>\n",
       "      <td>50</td>\n",
       "    </tr>\n",
       "    <tr>\n",
       "      <th>2</th>\n",
       "      <td>6</td>\n",
       "      <td>60</td>\n",
       "    </tr>\n",
       "  </tbody>\n",
       "</table>\n",
       "</div>"
      ],
      "text/plain": [
       "         x   y\n",
       "LET NUM       \n",
       "a   1    1  10\n",
       "    2    2  20\n",
       "b   1    3  30\n",
       "    2    4  40\n",
       "c   1    5  50\n",
       "    2    6  60"
      ]
     },
     "execution_count": 23,
     "metadata": {},
     "output_type": "execute_result"
    }
   ],
   "source": [
    "df.rename_axis(index=str.upper)"
   ]
  },
  {
   "cell_type": "code",
   "execution_count": 3,
   "metadata": {},
   "outputs": [],
   "source": [
    "df = pd.DataFrame({'col1' : np.random.randn(3),\n",
    "                  'col2' : np.random.randn(3)}, index=list('abc'))"
   ]
  },
  {
   "cell_type": "code",
   "execution_count": 7,
   "metadata": {},
   "outputs": [
    {
     "name": "stdout",
     "output_type": "stream",
     "text": [
      "|    |      col1 |     col2 |\n",
      "|:---|----------:|---------:|\n",
      "| a  | -0.428519 | 0.756701 |\n",
      "| b  |  0.359407 | 1.45551  |\n",
      "| c  |  0.796692 | 2.11757  |\n"
     ]
    }
   ],
   "source": [
    "print(df.to_markdown())"
   ]
  },
  {
   "cell_type": "code",
   "execution_count": 6,
   "metadata": {},
   "outputs": [
    {
     "name": "stdout",
     "output_type": "stream",
     "text": [
      "col1\n",
      "col2\n"
     ]
    }
   ],
   "source": [
    "for col in df:\n",
    "    print(col)"
   ]
  },
  {
   "cell_type": "code",
   "execution_count": 8,
   "metadata": {},
   "outputs": [
    {
     "name": "stdout",
     "output_type": "stream",
     "text": [
      "col1\n",
      "a   -0.428519\n",
      "b    0.359407\n",
      "c    0.796692\n",
      "Name: col1, dtype: float64\n",
      "col2\n",
      "a    0.756701\n",
      "b    1.455514\n",
      "c    2.117571\n",
      "Name: col2, dtype: float64\n"
     ]
    }
   ],
   "source": [
    "for label, ser in df.items():\n",
    "    print(label)\n",
    "    print(ser)"
   ]
  },
  {
   "cell_type": "code",
   "execution_count": 9,
   "metadata": {},
   "outputs": [
    {
     "name": "stdout",
     "output_type": "stream",
     "text": [
      "a\n",
      "col1   -0.428519\n",
      "col2    0.756701\n",
      "Name: a, dtype: float64\n",
      "b\n",
      "col1    0.359407\n",
      "col2    1.455514\n",
      "Name: b, dtype: float64\n",
      "c\n",
      "col1    0.796692\n",
      "col2    2.117571\n",
      "Name: c, dtype: float64\n"
     ]
    }
   ],
   "source": [
    "for row_index, row in df.iterrows():\n",
    "    print(row_index, row, sep='\\n')"
   ]
  },
  {
   "cell_type": "code",
   "execution_count": 10,
   "metadata": {},
   "outputs": [],
   "source": [
    "df_orig = pd.DataFrame([[1, 1.5]], columns=['int', 'float'])"
   ]
  },
  {
   "cell_type": "code",
   "execution_count": 14,
   "metadata": {},
   "outputs": [
    {
     "data": {
      "text/plain": [
       "int        int64\n",
       "float    float64\n",
       "dtype: object"
      ]
     },
     "execution_count": 14,
     "metadata": {},
     "output_type": "execute_result"
    }
   ],
   "source": [
    "df_orig.dtypes"
   ]
  },
  {
   "cell_type": "code",
   "execution_count": 15,
   "metadata": {},
   "outputs": [
    {
     "data": {
      "text/plain": [
       "int      1.0\n",
       "float    1.5\n",
       "Name: 0, dtype: float64"
      ]
     },
     "execution_count": 15,
     "metadata": {},
     "output_type": "execute_result"
    }
   ],
   "source": [
    "row = next(df_orig.iterrows())[1]\n",
    "row"
   ]
  },
  {
   "cell_type": "code",
   "execution_count": 2,
   "metadata": {},
   "outputs": [
    {
     "name": "stdout",
     "output_type": "stream",
     "text": [
      "|    |   X |   Y |\n",
      "|---:|----:|----:|\n",
      "|  0 |   1 |   4 |\n",
      "|  1 |   2 |   5 |\n",
      "|  2 |   3 |   6 |\n"
     ]
    }
   ],
   "source": [
    "df = pd.DataFrame({'X' : [1, 2, 3], 'Y' : [4, 5, 6]})\n",
    "print(df.to_markdown())"
   ]
  },
  {
   "cell_type": "code",
   "execution_count": 21,
   "metadata": {},
   "outputs": [
    {
     "name": "stdout",
     "output_type": "stream",
     "text": [
      "|    |   0 |   1 |   2 |\n",
      "|:---|----:|----:|----:|\n",
      "| X  |   1 |   2 |   3 |\n",
      "| Y  |   4 |   5 |   6 |\n"
     ]
    }
   ],
   "source": [
    "print(df.T.to_markdown())"
   ]
  },
  {
   "cell_type": "code",
   "execution_count": 22,
   "metadata": {},
   "outputs": [
    {
     "name": "stdout",
     "output_type": "stream",
     "text": [
      "|    |   0 |   1 |   2 |\n",
      "|:---|----:|----:|----:|\n",
      "| X  |   1 |   2 |   3 |\n",
      "| Y  |   4 |   5 |   6 |\n"
     ]
    }
   ],
   "source": [
    "df_t = pd.DataFrame({idx: values for idx,values in df.iterrows()})\n",
    "print(df_t.to_markdown())"
   ]
  },
  {
   "cell_type": "code",
   "execution_count": 3,
   "metadata": {},
   "outputs": [
    {
     "name": "stdout",
     "output_type": "stream",
     "text": [
      "Pandas(Index=0, X=1, Y=4)\n",
      "Pandas(Index=1, X=2, Y=5)\n",
      "Pandas(Index=2, X=3, Y=6)\n"
     ]
    }
   ],
   "source": [
    "for row in df.itertuples():\n",
    "    print(row)"
   ]
  },
  {
   "cell_type": "code",
   "execution_count": 16,
   "metadata": {},
   "outputs": [
    {
     "name": "stdout",
     "output_type": "stream",
     "text": [
      "|    |         a |          b |         c |\n",
      "|:---|----------:|-----------:|----------:|\n",
      "| A  | -0.192465 |  0.0879462 |  1.86821  |\n",
      "| B  | -0.289564 | -0.81428   | -0.450477 |\n",
      "| C  |  1.30744  | -1.96822   | -0.708351 |\n",
      "| D  | -1.12491  |  0.62193   | -0.600519 |\n",
      "| E  |  0.210696 |  0.174923  | -0.377212 |\n"
     ]
    }
   ],
   "source": [
    "df2 = pd.DataFrame(np.random.randn(5, 3), index=['A','B','C','D','E'], columns=['a','b','c'])\n",
    "print(df2.to_markdown())"
   ]
  },
  {
   "cell_type": "code",
   "execution_count": 15,
   "metadata": {},
   "outputs": [
    {
     "name": "stdout",
     "output_type": "stream",
     "text": [
      "Pandas(Index='A', a=0.6024277891709394, b=0.7023825314050832, c=-1.4592140330168373)\n",
      "Pandas(Index='B', a=0.6061749075526626, b=1.3818544899961684, c=-1.1449089593234958)\n",
      "Pandas(Index='C', a=0.6935515551226142, b=-0.8714477214573187, c=-0.38283972048462567)\n",
      "Pandas(Index='D', a=0.2828894547390519, b=-0.26980092327972255, c=0.32057694404888515)\n",
      "Pandas(Index='E', a=0.15600930560893841, b=0.3377466546133208, c=1.4363602108065132)\n"
     ]
    }
   ],
   "source": [
    "for row in df2.itertuples():\n",
    "    print(row)"
   ]
  },
  {
   "cell_type": "code",
   "execution_count": 2,
   "metadata": {},
   "outputs": [],
   "source": [
    "s = pd.Series(pd.date_range('20200601 20:29:31', periods=4))"
   ]
  },
  {
   "cell_type": "code",
   "execution_count": 3,
   "metadata": {},
   "outputs": [
    {
     "data": {
      "text/plain": [
       "0   2020-06-01 20:29:31\n",
       "1   2020-06-02 20:29:31\n",
       "2   2020-06-03 20:29:31\n",
       "3   2020-06-04 20:29:31\n",
       "dtype: datetime64[ns]"
      ]
     },
     "execution_count": 3,
     "metadata": {},
     "output_type": "execute_result"
    }
   ],
   "source": [
    "s"
   ]
  },
  {
   "cell_type": "code",
   "execution_count": 4,
   "metadata": {},
   "outputs": [
    {
     "data": {
      "text/plain": [
       "0    20\n",
       "1    20\n",
       "2    20\n",
       "3    20\n",
       "dtype: int64"
      ]
     },
     "execution_count": 4,
     "metadata": {},
     "output_type": "execute_result"
    }
   ],
   "source": [
    "s.dt.hour"
   ]
  },
  {
   "cell_type": "code",
   "execution_count": 5,
   "metadata": {},
   "outputs": [
    {
     "data": {
      "text/plain": [
       "0    31\n",
       "1    31\n",
       "2    31\n",
       "3    31\n",
       "dtype: int64"
      ]
     },
     "execution_count": 5,
     "metadata": {},
     "output_type": "execute_result"
    }
   ],
   "source": [
    "s.dt.second"
   ]
  },
  {
   "cell_type": "code",
   "execution_count": 6,
   "metadata": {},
   "outputs": [
    {
     "data": {
      "text/plain": [
       "0    1\n",
       "1    2\n",
       "2    3\n",
       "3    4\n",
       "dtype: int64"
      ]
     },
     "execution_count": 6,
     "metadata": {},
     "output_type": "execute_result"
    }
   ],
   "source": [
    "s.dt.day"
   ]
  },
  {
   "cell_type": "code",
   "execution_count": 7,
   "metadata": {},
   "outputs": [
    {
     "data": {
      "text/plain": [
       "1   2020-06-02 20:29:31\n",
       "dtype: datetime64[ns]"
      ]
     },
     "execution_count": 7,
     "metadata": {},
     "output_type": "execute_result"
    }
   ],
   "source": [
    "s[s.dt.day == 2]"
   ]
  },
  {
   "cell_type": "code",
   "execution_count": 8,
   "metadata": {},
   "outputs": [],
   "source": [
    "stz = s.dt.tz_localize('US/Eastern')"
   ]
  },
  {
   "cell_type": "code",
   "execution_count": 9,
   "metadata": {},
   "outputs": [
    {
     "data": {
      "text/plain": [
       "0   2020-06-01 20:29:31-04:00\n",
       "1   2020-06-02 20:29:31-04:00\n",
       "2   2020-06-03 20:29:31-04:00\n",
       "3   2020-06-04 20:29:31-04:00\n",
       "dtype: datetime64[ns, US/Eastern]"
      ]
     },
     "execution_count": 9,
     "metadata": {},
     "output_type": "execute_result"
    }
   ],
   "source": [
    "stz"
   ]
  },
  {
   "cell_type": "code",
   "execution_count": 10,
   "metadata": {},
   "outputs": [
    {
     "data": {
      "text/plain": [
       "<DstTzInfo 'US/Eastern' LMT-1 day, 19:04:00 STD>"
      ]
     },
     "execution_count": 10,
     "metadata": {},
     "output_type": "execute_result"
    }
   ],
   "source": [
    "stz.dt.tz"
   ]
  },
  {
   "cell_type": "code",
   "execution_count": 12,
   "metadata": {},
   "outputs": [
    {
     "data": {
      "text/plain": [
       "0   2020-06-01 16:29:31-04:00\n",
       "1   2020-06-02 16:29:31-04:00\n",
       "2   2020-06-03 16:29:31-04:00\n",
       "3   2020-06-04 16:29:31-04:00\n",
       "dtype: datetime64[ns, US/Eastern]"
      ]
     },
     "execution_count": 12,
     "metadata": {},
     "output_type": "execute_result"
    }
   ],
   "source": [
    "s.dt.tz_localize('UTC').dt.tz_convert('US/Eastern')"
   ]
  },
  {
   "cell_type": "code",
   "execution_count": 14,
   "metadata": {},
   "outputs": [],
   "source": [
    "s = pd.Series(pd.date_range('20200601', periods=4))"
   ]
  },
  {
   "cell_type": "code",
   "execution_count": 15,
   "metadata": {},
   "outputs": [
    {
     "data": {
      "text/plain": [
       "0   2020-06-01\n",
       "1   2020-06-02\n",
       "2   2020-06-03\n",
       "3   2020-06-04\n",
       "dtype: datetime64[ns]"
      ]
     },
     "execution_count": 15,
     "metadata": {},
     "output_type": "execute_result"
    }
   ],
   "source": [
    "s"
   ]
  },
  {
   "cell_type": "code",
   "execution_count": 16,
   "metadata": {},
   "outputs": [
    {
     "data": {
      "text/plain": [
       "0    2020/06/01\n",
       "1    2020/06/02\n",
       "2    2020/06/03\n",
       "3    2020/06/04\n",
       "dtype: object"
      ]
     },
     "execution_count": 16,
     "metadata": {},
     "output_type": "execute_result"
    }
   ],
   "source": [
    "s.dt.strftime('%Y/%m/%d')"
   ]
  },
  {
   "cell_type": "code",
   "execution_count": 17,
   "metadata": {},
   "outputs": [],
   "source": [
    "s = pd.Series(pd.period_range('20200601', periods=4))"
   ]
  },
  {
   "cell_type": "code",
   "execution_count": 18,
   "metadata": {},
   "outputs": [
    {
     "data": {
      "text/plain": [
       "0    2020-06-01\n",
       "1    2020-06-02\n",
       "2    2020-06-03\n",
       "3    2020-06-04\n",
       "dtype: period[D]"
      ]
     },
     "execution_count": 18,
     "metadata": {},
     "output_type": "execute_result"
    }
   ],
   "source": [
    "s"
   ]
  },
  {
   "cell_type": "code",
   "execution_count": 19,
   "metadata": {},
   "outputs": [
    {
     "data": {
      "text/plain": [
       "0    2020/06/01\n",
       "1    2020/06/02\n",
       "2    2020/06/03\n",
       "3    2020/06/04\n",
       "dtype: object"
      ]
     },
     "execution_count": 19,
     "metadata": {},
     "output_type": "execute_result"
    }
   ],
   "source": [
    "s.dt.strftime('%Y/%m/%d')"
   ]
  },
  {
   "cell_type": "code",
   "execution_count": 20,
   "metadata": {},
   "outputs": [
    {
     "data": {
      "text/plain": [
       "0    2020-06-01\n",
       "1    2020-06-02\n",
       "2    2020-06-03\n",
       "3    2020-06-04\n",
       "dtype: period[D]"
      ]
     },
     "execution_count": 20,
     "metadata": {},
     "output_type": "execute_result"
    }
   ],
   "source": [
    "s = pd.Series(pd.period_range('20200601', periods=4, freq='D'))\n",
    "s"
   ]
  },
  {
   "cell_type": "code",
   "execution_count": 21,
   "metadata": {},
   "outputs": [
    {
     "data": {
      "text/plain": [
       "0    2020\n",
       "1    2020\n",
       "2    2020\n",
       "3    2020\n",
       "dtype: int64"
      ]
     },
     "execution_count": 21,
     "metadata": {},
     "output_type": "execute_result"
    }
   ],
   "source": [
    "s.dt.year"
   ]
  },
  {
   "cell_type": "code",
   "execution_count": 22,
   "metadata": {},
   "outputs": [
    {
     "data": {
      "text/plain": [
       "0    1\n",
       "1    2\n",
       "2    3\n",
       "3    4\n",
       "dtype: int64"
      ]
     },
     "execution_count": 22,
     "metadata": {},
     "output_type": "execute_result"
    }
   ],
   "source": [
    "s.dt.day"
   ]
  },
  {
   "cell_type": "code",
   "execution_count": 23,
   "metadata": {},
   "outputs": [
    {
     "data": {
      "text/plain": [
       "0   1 days 00:00:05\n",
       "1   1 days 00:00:06\n",
       "2   1 days 00:00:07\n",
       "3   1 days 00:00:08\n",
       "dtype: timedelta64[ns]"
      ]
     },
     "execution_count": 23,
     "metadata": {},
     "output_type": "execute_result"
    }
   ],
   "source": [
    "s = pd.Series(pd.timedelta_range('1 day 00:00:05', periods=4, freq='s'))\n",
    "s"
   ]
  },
  {
   "cell_type": "code",
   "execution_count": 24,
   "metadata": {},
   "outputs": [
    {
     "data": {
      "text/plain": [
       "0    1\n",
       "1    1\n",
       "2    1\n",
       "3    1\n",
       "dtype: int64"
      ]
     },
     "execution_count": 24,
     "metadata": {},
     "output_type": "execute_result"
    }
   ],
   "source": [
    "s.dt.days"
   ]
  },
  {
   "cell_type": "code",
   "execution_count": 25,
   "metadata": {},
   "outputs": [
    {
     "data": {
      "text/plain": [
       "0    5\n",
       "1    6\n",
       "2    7\n",
       "3    8\n",
       "dtype: int64"
      ]
     },
     "execution_count": 25,
     "metadata": {},
     "output_type": "execute_result"
    }
   ],
   "source": [
    "s.dt.seconds"
   ]
  },
  {
   "cell_type": "code",
   "execution_count": 27,
   "metadata": {},
   "outputs": [
    {
     "name": "stdout",
     "output_type": "stream",
     "text": [
      "|    |   days |   hours |   minutes |   seconds |   milliseconds |   microseconds |   nanoseconds |\n",
      "|---:|-------:|--------:|----------:|----------:|---------------:|---------------:|--------------:|\n",
      "|  0 |      1 |       0 |         0 |         5 |              0 |              0 |             0 |\n",
      "|  1 |      1 |       0 |         0 |         6 |              0 |              0 |             0 |\n",
      "|  2 |      1 |       0 |         0 |         7 |              0 |              0 |             0 |\n",
      "|  3 |      1 |       0 |         0 |         8 |              0 |              0 |             0 |\n"
     ]
    }
   ],
   "source": [
    "print(s.dt.components.to_markdown())"
   ]
  },
  {
   "cell_type": "code",
   "execution_count": 2,
   "metadata": {},
   "outputs": [
    {
     "data": {
      "text/plain": [
       "0       A\n",
       "1       B\n",
       "2       C\n",
       "3    Aaba\n",
       "4    Baca\n",
       "5    <NA>\n",
       "6    CABA\n",
       "7     dog\n",
       "8     cat\n",
       "dtype: string"
      ]
     },
     "execution_count": 2,
     "metadata": {},
     "output_type": "execute_result"
    }
   ],
   "source": [
    "s = pd.Series(['A','B','C', 'Aaba', 'Baca', np.nan, 'CABA', 'dog', 'cat'],dtype=\"string\")\n",
    "s"
   ]
  },
  {
   "cell_type": "code",
   "execution_count": 3,
   "metadata": {},
   "outputs": [
    {
     "data": {
      "text/plain": [
       "0       a\n",
       "1       b\n",
       "2       c\n",
       "3    aaba\n",
       "4    baca\n",
       "5    <NA>\n",
       "6    caba\n",
       "7     dog\n",
       "8     cat\n",
       "dtype: string"
      ]
     },
     "execution_count": 3,
     "metadata": {},
     "output_type": "execute_result"
    }
   ],
   "source": [
    "s.str.lower()"
   ]
  },
  {
   "cell_type": "code",
   "execution_count": 4,
   "metadata": {},
   "outputs": [
    {
     "data": {
      "text/plain": [
       "0       A\n",
       "1       B\n",
       "2       C\n",
       "3    AABA\n",
       "4    BACA\n",
       "5    <NA>\n",
       "6    CABA\n",
       "7     DOG\n",
       "8     CAT\n",
       "dtype: string"
      ]
     },
     "execution_count": 4,
     "metadata": {},
     "output_type": "execute_result"
    }
   ],
   "source": [
    "s.str.upper()"
   ]
  },
  {
   "cell_type": "code",
   "execution_count": 5,
   "metadata": {},
   "outputs": [
    {
     "data": {
      "text/plain": [
       "0       1\n",
       "1       1\n",
       "2       1\n",
       "3       4\n",
       "4       4\n",
       "5    <NA>\n",
       "6       4\n",
       "7       3\n",
       "8       3\n",
       "dtype: Int64"
      ]
     },
     "execution_count": 5,
     "metadata": {},
     "output_type": "execute_result"
    }
   ],
   "source": [
    "s.str.len()"
   ]
  },
  {
   "cell_type": "code",
   "execution_count": 6,
   "metadata": {},
   "outputs": [],
   "source": [
    "idx = pd.Index([' jack', 'jill ', ' jesse ', 'frank'])"
   ]
  },
  {
   "cell_type": "code",
   "execution_count": 7,
   "metadata": {},
   "outputs": [
    {
     "data": {
      "text/plain": [
       "Index([' jack', 'jill ', ' jesse ', 'frank'], dtype='object')"
      ]
     },
     "execution_count": 7,
     "metadata": {},
     "output_type": "execute_result"
    }
   ],
   "source": [
    "idx"
   ]
  },
  {
   "cell_type": "code",
   "execution_count": 8,
   "metadata": {},
   "outputs": [
    {
     "data": {
      "text/plain": [
       "Index(['jack', 'jill', 'jesse', 'frank'], dtype='object')"
      ]
     },
     "execution_count": 8,
     "metadata": {},
     "output_type": "execute_result"
    }
   ],
   "source": [
    "idx.str.strip()"
   ]
  },
  {
   "cell_type": "code",
   "execution_count": 9,
   "metadata": {},
   "outputs": [
    {
     "data": {
      "text/plain": [
       "Index(['jack', 'jill ', 'jesse ', 'frank'], dtype='object')"
      ]
     },
     "execution_count": 9,
     "metadata": {},
     "output_type": "execute_result"
    }
   ],
   "source": [
    "idx.str.lstrip()"
   ]
  },
  {
   "cell_type": "code",
   "execution_count": 10,
   "metadata": {},
   "outputs": [
    {
     "data": {
      "text/plain": [
       "Index([' jack', 'jill', ' jesse', 'frank'], dtype='object')"
      ]
     },
     "execution_count": 10,
     "metadata": {},
     "output_type": "execute_result"
    }
   ],
   "source": [
    "idx.str.rstrip()"
   ]
  },
  {
   "cell_type": "code",
   "execution_count": 11,
   "metadata": {},
   "outputs": [],
   "source": [
    "df = pd.DataFrame(np.random.randn(3, 2),columns=[' Column A ', ' Column B '], index=range(3))"
   ]
  },
  {
   "cell_type": "code",
   "execution_count": 17,
   "metadata": {},
   "outputs": [
    {
     "name": "stdout",
     "output_type": "stream",
     "text": [
      "|    |    Column A  |    Column B  |\n",
      "|---:|-------------:|-------------:|\n",
      "|  0 |   -0.0519944 |     0.79352  |\n",
      "|  1 |    0.589757  |    -0.601026 |\n",
      "|  2 |    0.382946  |     1.01586  |\n"
     ]
    }
   ],
   "source": [
    "print(df.to_markdown())"
   ]
  },
  {
   "cell_type": "code",
   "execution_count": 15,
   "metadata": {},
   "outputs": [
    {
     "data": {
      "text/plain": [
       "Index(['Column A', 'Column B'], dtype='object')"
      ]
     },
     "execution_count": 15,
     "metadata": {},
     "output_type": "execute_result"
    }
   ],
   "source": [
    "df.columns.str.strip()"
   ]
  },
  {
   "cell_type": "code",
   "execution_count": 16,
   "metadata": {},
   "outputs": [
    {
     "data": {
      "text/plain": [
       "Index([' column a ', ' column b '], dtype='object')"
      ]
     },
     "execution_count": 16,
     "metadata": {},
     "output_type": "execute_result"
    }
   ],
   "source": [
    "df.columns.str.lower()"
   ]
  },
  {
   "cell_type": "code",
   "execution_count": 19,
   "metadata": {},
   "outputs": [
    {
     "name": "stdout",
     "output_type": "stream",
     "text": [
      "|    |   column_a |   column_b |\n",
      "|---:|-----------:|-----------:|\n",
      "|  0 | -0.0519944 |   0.79352  |\n",
      "|  1 |  0.589757  |  -0.601026 |\n",
      "|  2 |  0.382946  |   1.01586  |\n"
     ]
    }
   ],
   "source": [
    "df.columns = df.columns.str.strip().str.lower().str.replace(' ','_')\n",
    "print(df.to_markdown())"
   ]
  },
  {
   "cell_type": "code",
   "execution_count": null,
   "metadata": {},
   "outputs": [],
   "source": []
  }
 ],
 "metadata": {
  "kernelspec": {
   "display_name": "Python 3",
   "language": "python",
   "name": "python3"
  },
  "language_info": {
   "codemirror_mode": {
    "name": "ipython",
    "version": 3
   },
   "file_extension": ".py",
   "mimetype": "text/x-python",
   "name": "python",
   "nbconvert_exporter": "python",
   "pygments_lexer": "ipython3",
   "version": "3.7.4"
  }
 },
 "nbformat": 4,
 "nbformat_minor": 2
}
