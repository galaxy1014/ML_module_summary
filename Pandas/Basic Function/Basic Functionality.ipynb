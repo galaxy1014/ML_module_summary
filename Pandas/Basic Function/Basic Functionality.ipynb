{
 "cells": [
  {
   "cell_type": "code",
   "execution_count": 1,
   "metadata": {},
   "outputs": [],
   "source": [
    "import pandas as pd\n",
    "import numpy as np\n"
   ]
  },
  {
   "cell_type": "code",
   "execution_count": 4,
   "metadata": {},
   "outputs": [
    {
     "data": {
      "text/plain": [
       "DatetimeIndex(['2020-01-31', '2020-02-29', '2020-03-31', '2020-04-30',\n",
       "               '2020-05-31', '2020-06-30', '2020-07-31', '2020-08-31'],\n",
       "              dtype='datetime64[ns]', freq='M')"
      ]
     },
     "execution_count": 4,
     "metadata": {},
     "output_type": "execute_result"
    }
   ],
   "source": [
    "# 인덱스 생성(시계열)\n",
    "t_idx = pd.date_range('2020-01-01', periods=8, freq='M')\n",
    "t_idx"
   ]
  },
  {
   "cell_type": "code",
   "execution_count": 5,
   "metadata": {},
   "outputs": [
    {
     "data": {
      "text/plain": [
       "2020-01-31   -0.947804\n",
       "2020-02-29    0.621019\n",
       "2020-03-31    0.526869\n",
       "2020-04-30    1.208103\n",
       "2020-05-31   -0.112500\n",
       "2020-06-30   -0.739076\n",
       "2020-07-31    1.419800\n",
       "2020-08-31   -2.781923\n",
       "Freq: M, dtype: float64"
      ]
     },
     "execution_count": 5,
     "metadata": {},
     "output_type": "execute_result"
    }
   ],
   "source": [
    "# 시리즈 생성\n",
    "s = pd.Series(np.random.randn(8),index = t_idx)\n",
    "s"
   ]
  },
  {
   "cell_type": "code",
   "execution_count": 6,
   "metadata": {},
   "outputs": [
    {
     "data": {
      "text/html": [
       "<div>\n",
       "<style scoped>\n",
       "    .dataframe tbody tr th:only-of-type {\n",
       "        vertical-align: middle;\n",
       "    }\n",
       "\n",
       "    .dataframe tbody tr th {\n",
       "        vertical-align: top;\n",
       "    }\n",
       "\n",
       "    .dataframe thead th {\n",
       "        text-align: right;\n",
       "    }\n",
       "</style>\n",
       "<table border=\"1\" class=\"dataframe\">\n",
       "  <thead>\n",
       "    <tr style=\"text-align: right;\">\n",
       "      <th></th>\n",
       "      <th>One</th>\n",
       "      <th>Two</th>\n",
       "    </tr>\n",
       "  </thead>\n",
       "  <tbody>\n",
       "    <tr>\n",
       "      <th>2020-01-31</th>\n",
       "      <td>1</td>\n",
       "      <td>8</td>\n",
       "    </tr>\n",
       "    <tr>\n",
       "      <th>2020-02-29</th>\n",
       "      <td>2</td>\n",
       "      <td>7</td>\n",
       "    </tr>\n",
       "    <tr>\n",
       "      <th>2020-03-31</th>\n",
       "      <td>3</td>\n",
       "      <td>6</td>\n",
       "    </tr>\n",
       "    <tr>\n",
       "      <th>2020-04-30</th>\n",
       "      <td>4</td>\n",
       "      <td>5</td>\n",
       "    </tr>\n",
       "    <tr>\n",
       "      <th>2020-05-31</th>\n",
       "      <td>5</td>\n",
       "      <td>4</td>\n",
       "    </tr>\n",
       "    <tr>\n",
       "      <th>2020-06-30</th>\n",
       "      <td>6</td>\n",
       "      <td>3</td>\n",
       "    </tr>\n",
       "    <tr>\n",
       "      <th>2020-07-31</th>\n",
       "      <td>7</td>\n",
       "      <td>2</td>\n",
       "    </tr>\n",
       "    <tr>\n",
       "      <th>2020-08-31</th>\n",
       "      <td>8</td>\n",
       "      <td>1</td>\n",
       "    </tr>\n",
       "  </tbody>\n",
       "</table>\n",
       "</div>"
      ],
      "text/plain": [
       "            One  Two\n",
       "2020-01-31    1    8\n",
       "2020-02-29    2    7\n",
       "2020-03-31    3    6\n",
       "2020-04-30    4    5\n",
       "2020-05-31    5    4\n",
       "2020-06-30    6    3\n",
       "2020-07-31    7    2\n",
       "2020-08-31    8    1"
      ]
     },
     "execution_count": 6,
     "metadata": {},
     "output_type": "execute_result"
    }
   ],
   "source": [
    "# 데이터프레임 생성\n",
    "df = pd.DataFrame({'One' : [1,2,3,4,5,6,7,8], 'Two' : [8,7,6,5,4,3,2,1,]}, index=t_idx)\n",
    "df"
   ]
  },
  {
   "cell_type": "code",
   "execution_count": 7,
   "metadata": {},
   "outputs": [
    {
     "data": {
      "text/plain": [
       "2020-01-31   -0.947804\n",
       "2020-02-29    0.621019\n",
       "2020-03-31    0.526869\n",
       "2020-04-30    1.208103\n",
       "2020-05-31   -0.112500\n",
       "Freq: M, dtype: float64"
      ]
     },
     "execution_count": 7,
     "metadata": {},
     "output_type": "execute_result"
    }
   ],
   "source": [
    "s.head()"
   ]
  },
  {
   "cell_type": "code",
   "execution_count": 8,
   "metadata": {},
   "outputs": [
    {
     "data": {
      "text/plain": [
       "2020-03-31    0.526869\n",
       "2020-04-30    1.208103\n",
       "2020-05-31   -0.112500\n",
       "2020-06-30   -0.739076\n",
       "2020-07-31    1.419800\n",
       "2020-08-31   -2.781923\n",
       "Freq: M, dtype: float64"
      ]
     },
     "execution_count": 8,
     "metadata": {},
     "output_type": "execute_result"
    }
   ],
   "source": [
    "s.tail(6)"
   ]
  },
  {
   "cell_type": "code",
   "execution_count": 10,
   "metadata": {},
   "outputs": [
    {
     "data": {
      "text/plain": [
       "(8,)"
      ]
     },
     "execution_count": 10,
     "metadata": {},
     "output_type": "execute_result"
    }
   ],
   "source": [
    "# 시리즈 shape\n",
    "s.shape"
   ]
  },
  {
   "cell_type": "code",
   "execution_count": 11,
   "metadata": {},
   "outputs": [
    {
     "data": {
      "text/plain": [
       "(8, 2)"
      ]
     },
     "execution_count": 11,
     "metadata": {},
     "output_type": "execute_result"
    }
   ],
   "source": [
    "# 데이터프레임 shape\n",
    "df.shape"
   ]
  },
  {
   "cell_type": "code",
   "execution_count": 12,
   "metadata": {},
   "outputs": [
    {
     "data": {
      "text/plain": [
       "(8,)"
      ]
     },
     "execution_count": 12,
     "metadata": {},
     "output_type": "execute_result"
    }
   ],
   "source": [
    "# 인덱스 shape\n",
    "t_idx.shape"
   ]
  },
  {
   "cell_type": "code",
   "execution_count": 15,
   "metadata": {},
   "outputs": [
    {
     "data": {
      "text/html": [
       "<div>\n",
       "<style scoped>\n",
       "    .dataframe tbody tr th:only-of-type {\n",
       "        vertical-align: middle;\n",
       "    }\n",
       "\n",
       "    .dataframe tbody tr th {\n",
       "        vertical-align: top;\n",
       "    }\n",
       "\n",
       "    .dataframe thead th {\n",
       "        text-align: right;\n",
       "    }\n",
       "</style>\n",
       "<table border=\"1\" class=\"dataframe\">\n",
       "  <thead>\n",
       "    <tr style=\"text-align: right;\">\n",
       "      <th></th>\n",
       "      <th>One</th>\n",
       "      <th>Two</th>\n",
       "    </tr>\n",
       "  </thead>\n",
       "  <tbody>\n",
       "    <tr>\n",
       "      <th>2020-01-31</th>\n",
       "      <td>1</td>\n",
       "      <td>8</td>\n",
       "    </tr>\n",
       "    <tr>\n",
       "      <th>2020-02-29</th>\n",
       "      <td>2</td>\n",
       "      <td>7</td>\n",
       "    </tr>\n",
       "    <tr>\n",
       "      <th>2020-03-31</th>\n",
       "      <td>3</td>\n",
       "      <td>6</td>\n",
       "    </tr>\n",
       "  </tbody>\n",
       "</table>\n",
       "</div>"
      ],
      "text/plain": [
       "            One  Two\n",
       "2020-01-31    1    8\n",
       "2020-02-29    2    7\n",
       "2020-03-31    3    6"
      ]
     },
     "execution_count": 15,
     "metadata": {},
     "output_type": "execute_result"
    }
   ],
   "source": [
    "# 0~3번째의 행을 출력\n",
    "df[:3]"
   ]
  },
  {
   "cell_type": "code",
   "execution_count": 16,
   "metadata": {},
   "outputs": [
    {
     "data": {
      "text/html": [
       "<div>\n",
       "<style scoped>\n",
       "    .dataframe tbody tr th:only-of-type {\n",
       "        vertical-align: middle;\n",
       "    }\n",
       "\n",
       "    .dataframe tbody tr th {\n",
       "        vertical-align: top;\n",
       "    }\n",
       "\n",
       "    .dataframe thead th {\n",
       "        text-align: right;\n",
       "    }\n",
       "</style>\n",
       "<table border=\"1\" class=\"dataframe\">\n",
       "  <thead>\n",
       "    <tr style=\"text-align: right;\">\n",
       "      <th></th>\n",
       "      <th>One</th>\n",
       "      <th>Two</th>\n",
       "    </tr>\n",
       "  </thead>\n",
       "  <tbody>\n",
       "    <tr>\n",
       "      <th>2020-03-31</th>\n",
       "      <td>3</td>\n",
       "      <td>6</td>\n",
       "    </tr>\n",
       "    <tr>\n",
       "      <th>2020-04-30</th>\n",
       "      <td>4</td>\n",
       "      <td>5</td>\n",
       "    </tr>\n",
       "    <tr>\n",
       "      <th>2020-05-31</th>\n",
       "      <td>5</td>\n",
       "      <td>4</td>\n",
       "    </tr>\n",
       "  </tbody>\n",
       "</table>\n",
       "</div>"
      ],
      "text/plain": [
       "            One  Two\n",
       "2020-03-31    3    6\n",
       "2020-04-30    4    5\n",
       "2020-05-31    5    4"
      ]
     },
     "execution_count": 16,
     "metadata": {},
     "output_type": "execute_result"
    }
   ],
   "source": [
    "# 2~5번째의 행을 출력\n",
    "df[2:5]"
   ]
  },
  {
   "cell_type": "code",
   "execution_count": 17,
   "metadata": {},
   "outputs": [
    {
     "data": {
      "text/plain": [
       "<PandasArray>\n",
       "[ -0.9478040550309271,   0.6210189401447063,   0.5268690969841191,\n",
       "   1.2081027538889946, -0.11250048407157869,  -0.7390759558578995,\n",
       "   1.4198001438584995,   -2.781922728141299]\n",
       "Length: 8, dtype: float64"
      ]
     },
     "execution_count": 17,
     "metadata": {},
     "output_type": "execute_result"
    }
   ],
   "source": [
    "# 시리즈 내부의 값\n",
    "s.array"
   ]
  },
  {
   "cell_type": "code",
   "execution_count": 18,
   "metadata": {},
   "outputs": [
    {
     "data": {
      "text/plain": [
       "<DatetimeArray>\n",
       "['2020-01-31 00:00:00', '2020-02-29 00:00:00', '2020-03-31 00:00:00',\n",
       " '2020-04-30 00:00:00', '2020-05-31 00:00:00', '2020-06-30 00:00:00',\n",
       " '2020-07-31 00:00:00', '2020-08-31 00:00:00']\n",
       "Length: 8, dtype: datetime64[ns]"
      ]
     },
     "execution_count": 18,
     "metadata": {},
     "output_type": "execute_result"
    }
   ],
   "source": [
    "# 시리즈 인덱스 값(시계열)\n",
    "s.index.array"
   ]
  },
  {
   "cell_type": "code",
   "execution_count": 20,
   "metadata": {},
   "outputs": [
    {
     "data": {
      "text/plain": [
       "array([-0.94780406,  0.62101894,  0.5268691 ,  1.20810275, -0.11250048,\n",
       "       -0.73907596,  1.41980014, -2.78192273])"
      ]
     },
     "execution_count": 20,
     "metadata": {},
     "output_type": "execute_result"
    }
   ],
   "source": [
    "# to_numpy 메소드 사용\n",
    "s.to_numpy()"
   ]
  },
  {
   "cell_type": "code",
   "execution_count": 21,
   "metadata": {},
   "outputs": [
    {
     "data": {
      "text/plain": [
       "array([-0.94780406,  0.62101894,  0.5268691 ,  1.20810275, -0.11250048,\n",
       "       -0.73907596,  1.41980014, -2.78192273])"
      ]
     },
     "execution_count": 21,
     "metadata": {},
     "output_type": "execute_result"
    }
   ],
   "source": [
    "# np.asarray 메소드 사용\n",
    "np.asarray(s)"
   ]
  },
  {
   "cell_type": "code",
   "execution_count": 24,
   "metadata": {},
   "outputs": [],
   "source": [
    "# 타임존을 설정한 시계열 시리즈 생성\n",
    "t_s = pd.Series(pd.date_range('2020', periods=2, tz='CET'))"
   ]
  },
  {
   "cell_type": "code",
   "execution_count": 25,
   "metadata": {},
   "outputs": [
    {
     "data": {
      "text/plain": [
       "0   2020-01-01 00:00:00+01:00\n",
       "1   2020-01-02 00:00:00+01:00\n",
       "dtype: datetime64[ns, CET]"
      ]
     },
     "execution_count": 25,
     "metadata": {},
     "output_type": "execute_result"
    }
   ],
   "source": [
    "t_s"
   ]
  },
  {
   "cell_type": "code",
   "execution_count": 28,
   "metadata": {},
   "outputs": [
    {
     "data": {
      "text/plain": [
       "array([Timestamp('2020-01-01 00:00:00+0100', tz='CET', freq='D'),\n",
       "       Timestamp('2020-01-02 00:00:00+0100', tz='CET', freq='D')],\n",
       "      dtype=object)"
      ]
     },
     "execution_count": 28,
     "metadata": {},
     "output_type": "execute_result"
    }
   ],
   "source": [
    "# 자료형 Object \n",
    "t_s.to_numpy(dtype=object)"
   ]
  },
  {
   "cell_type": "code",
   "execution_count": 29,
   "metadata": {
    "scrolled": true
   },
   "outputs": [
    {
     "data": {
      "text/plain": [
       "array(['2019-12-31T23:00:00.000000000', '2020-01-01T23:00:00.000000000'],\n",
       "      dtype='datetime64[ns]')"
      ]
     },
     "execution_count": 29,
     "metadata": {},
     "output_type": "execute_result"
    }
   ],
   "source": [
    "# 자료형 datetime64[ns]\n",
    "t_s.to_numpy(dtype='datetime64[ns]')"
   ]
  },
  {
   "cell_type": "code",
   "execution_count": 30,
   "metadata": {},
   "outputs": [
    {
     "data": {
      "text/plain": [
       "array([[1, 8],\n",
       "       [2, 7],\n",
       "       [3, 6],\n",
       "       [4, 5],\n",
       "       [5, 4],\n",
       "       [6, 3],\n",
       "       [7, 2],\n",
       "       [8, 1]])"
      ]
     },
     "execution_count": 30,
     "metadata": {},
     "output_type": "execute_result"
    }
   ],
   "source": [
    "df.to_numpy()"
   ]
  },
  {
   "cell_type": "code",
   "execution_count": 34,
   "metadata": {},
   "outputs": [],
   "source": [
    "# 정수, 소수, 문자형이 섞여있는 데이터프레임 생성\n",
    "df2 = pd.DataFrame({'A' : [1,2,np.nan,'a'],\n",
    "                   'B' : [3,4,5,6]})"
   ]
  },
  {
   "cell_type": "code",
   "execution_count": 35,
   "metadata": {},
   "outputs": [
    {
     "data": {
      "text/html": [
       "<div>\n",
       "<style scoped>\n",
       "    .dataframe tbody tr th:only-of-type {\n",
       "        vertical-align: middle;\n",
       "    }\n",
       "\n",
       "    .dataframe tbody tr th {\n",
       "        vertical-align: top;\n",
       "    }\n",
       "\n",
       "    .dataframe thead th {\n",
       "        text-align: right;\n",
       "    }\n",
       "</style>\n",
       "<table border=\"1\" class=\"dataframe\">\n",
       "  <thead>\n",
       "    <tr style=\"text-align: right;\">\n",
       "      <th></th>\n",
       "      <th>A</th>\n",
       "      <th>B</th>\n",
       "    </tr>\n",
       "  </thead>\n",
       "  <tbody>\n",
       "    <tr>\n",
       "      <th>0</th>\n",
       "      <td>1</td>\n",
       "      <td>3</td>\n",
       "    </tr>\n",
       "    <tr>\n",
       "      <th>1</th>\n",
       "      <td>2</td>\n",
       "      <td>4</td>\n",
       "    </tr>\n",
       "    <tr>\n",
       "      <th>2</th>\n",
       "      <td>NaN</td>\n",
       "      <td>5</td>\n",
       "    </tr>\n",
       "    <tr>\n",
       "      <th>3</th>\n",
       "      <td>a</td>\n",
       "      <td>6</td>\n",
       "    </tr>\n",
       "  </tbody>\n",
       "</table>\n",
       "</div>"
      ],
      "text/plain": [
       "     A  B\n",
       "0    1  3\n",
       "1    2  4\n",
       "2  NaN  5\n",
       "3    a  6"
      ]
     },
     "execution_count": 35,
     "metadata": {},
     "output_type": "execute_result"
    }
   ],
   "source": [
    "df2"
   ]
  },
  {
   "cell_type": "code",
   "execution_count": 36,
   "metadata": {},
   "outputs": [
    {
     "data": {
      "text/plain": [
       "array([[1, 3],\n",
       "       [2, 4],\n",
       "       [nan, 5],\n",
       "       ['a', 6]], dtype=object)"
      ]
     },
     "execution_count": 36,
     "metadata": {},
     "output_type": "execute_result"
    }
   ],
   "source": [
    "df2.to_numpy()"
   ]
  },
  {
   "cell_type": "code",
   "execution_count": 37,
   "metadata": {},
   "outputs": [],
   "source": [
    "# 정수와 누락값(소수)으로 구성되어 있는 데이터프레임 생성\n",
    "df3 = pd.DataFrame({'A' : [1,2,np.nan,3], \n",
    "                   'B' : [4,5,6,7]}) "
   ]
  },
  {
   "cell_type": "code",
   "execution_count": 38,
   "metadata": {},
   "outputs": [
    {
     "data": {
      "text/html": [
       "<div>\n",
       "<style scoped>\n",
       "    .dataframe tbody tr th:only-of-type {\n",
       "        vertical-align: middle;\n",
       "    }\n",
       "\n",
       "    .dataframe tbody tr th {\n",
       "        vertical-align: top;\n",
       "    }\n",
       "\n",
       "    .dataframe thead th {\n",
       "        text-align: right;\n",
       "    }\n",
       "</style>\n",
       "<table border=\"1\" class=\"dataframe\">\n",
       "  <thead>\n",
       "    <tr style=\"text-align: right;\">\n",
       "      <th></th>\n",
       "      <th>A</th>\n",
       "      <th>B</th>\n",
       "    </tr>\n",
       "  </thead>\n",
       "  <tbody>\n",
       "    <tr>\n",
       "      <th>0</th>\n",
       "      <td>1.0</td>\n",
       "      <td>4</td>\n",
       "    </tr>\n",
       "    <tr>\n",
       "      <th>1</th>\n",
       "      <td>2.0</td>\n",
       "      <td>5</td>\n",
       "    </tr>\n",
       "    <tr>\n",
       "      <th>2</th>\n",
       "      <td>NaN</td>\n",
       "      <td>6</td>\n",
       "    </tr>\n",
       "    <tr>\n",
       "      <th>3</th>\n",
       "      <td>3.0</td>\n",
       "      <td>7</td>\n",
       "    </tr>\n",
       "  </tbody>\n",
       "</table>\n",
       "</div>"
      ],
      "text/plain": [
       "     A  B\n",
       "0  1.0  4\n",
       "1  2.0  5\n",
       "2  NaN  6\n",
       "3  3.0  7"
      ]
     },
     "execution_count": 38,
     "metadata": {},
     "output_type": "execute_result"
    }
   ],
   "source": [
    "df3"
   ]
  },
  {
   "cell_type": "code",
   "execution_count": 44,
   "metadata": {},
   "outputs": [
    {
     "data": {
      "text/plain": [
       "array([[ 1.,  4.],\n",
       "       [ 2.,  5.],\n",
       "       [nan,  6.],\n",
       "       [ 3.,  7.]])"
      ]
     },
     "execution_count": 44,
     "metadata": {},
     "output_type": "execute_result"
    }
   ],
   "source": [
    "df3.to_numpy()"
   ]
  },
  {
   "cell_type": "code",
   "execution_count": 4,
   "metadata": {},
   "outputs": [],
   "source": [
    "df = pd.read_csv('../Pandas/premier_league.csv')"
   ]
  },
  {
   "cell_type": "code",
   "execution_count": 5,
   "metadata": {},
   "outputs": [
    {
     "data": {
      "text/html": [
       "<div>\n",
       "<style scoped>\n",
       "    .dataframe tbody tr th:only-of-type {\n",
       "        vertical-align: middle;\n",
       "    }\n",
       "\n",
       "    .dataframe tbody tr th {\n",
       "        vertical-align: top;\n",
       "    }\n",
       "\n",
       "    .dataframe thead th {\n",
       "        text-align: right;\n",
       "    }\n",
       "</style>\n",
       "<table border=\"1\" class=\"dataframe\">\n",
       "  <thead>\n",
       "    <tr style=\"text-align: right;\">\n",
       "      <th></th>\n",
       "      <th>home_team</th>\n",
       "      <th>away_team</th>\n",
       "      <th>home_goals</th>\n",
       "      <th>away_goals</th>\n",
       "      <th>result</th>\n",
       "      <th>season</th>\n",
       "    </tr>\n",
       "  </thead>\n",
       "  <tbody>\n",
       "    <tr>\n",
       "      <th>0</th>\n",
       "      <td>TottenhamHotspur</td>\n",
       "      <td>ManchesterCity</td>\n",
       "      <td>0</td>\n",
       "      <td>0</td>\n",
       "      <td>D</td>\n",
       "      <td>2010-2011</td>\n",
       "    </tr>\n",
       "    <tr>\n",
       "      <th>1</th>\n",
       "      <td>AstonVilla</td>\n",
       "      <td>WestHamUnited</td>\n",
       "      <td>3</td>\n",
       "      <td>0</td>\n",
       "      <td>H</td>\n",
       "      <td>2010-2011</td>\n",
       "    </tr>\n",
       "    <tr>\n",
       "      <th>2</th>\n",
       "      <td>BlackburnRovers</td>\n",
       "      <td>Everton</td>\n",
       "      <td>1</td>\n",
       "      <td>0</td>\n",
       "      <td>H</td>\n",
       "      <td>2010-2011</td>\n",
       "    </tr>\n",
       "    <tr>\n",
       "      <th>3</th>\n",
       "      <td>BoltonWanderers</td>\n",
       "      <td>Fulham</td>\n",
       "      <td>0</td>\n",
       "      <td>0</td>\n",
       "      <td>D</td>\n",
       "      <td>2010-2011</td>\n",
       "    </tr>\n",
       "    <tr>\n",
       "      <th>4</th>\n",
       "      <td>Sunderland</td>\n",
       "      <td>BirminghamCity</td>\n",
       "      <td>2</td>\n",
       "      <td>2</td>\n",
       "      <td>D</td>\n",
       "      <td>2010-2011</td>\n",
       "    </tr>\n",
       "    <tr>\n",
       "      <th>...</th>\n",
       "      <td>...</td>\n",
       "      <td>...</td>\n",
       "      <td>...</td>\n",
       "      <td>...</td>\n",
       "      <td>...</td>\n",
       "      <td>...</td>\n",
       "    </tr>\n",
       "    <tr>\n",
       "      <th>3663</th>\n",
       "      <td>Liverpool</td>\n",
       "      <td>Southampton</td>\n",
       "      <td>4</td>\n",
       "      <td>0</td>\n",
       "      <td>H</td>\n",
       "      <td>NaN</td>\n",
       "    </tr>\n",
       "    <tr>\n",
       "      <th>3664</th>\n",
       "      <td>NewcastleUnited</td>\n",
       "      <td>NorwichCity</td>\n",
       "      <td>0</td>\n",
       "      <td>0</td>\n",
       "      <td>D</td>\n",
       "      <td>NaN</td>\n",
       "    </tr>\n",
       "    <tr>\n",
       "      <th>3665</th>\n",
       "      <td>Watford</td>\n",
       "      <td>Everton</td>\n",
       "      <td>2</td>\n",
       "      <td>3</td>\n",
       "      <td>A</td>\n",
       "      <td>NaN</td>\n",
       "    </tr>\n",
       "    <tr>\n",
       "      <th>3666</th>\n",
       "      <td>WestHamUnited</td>\n",
       "      <td>BrightonandHoveAlbion</td>\n",
       "      <td>3</td>\n",
       "      <td>3</td>\n",
       "      <td>D</td>\n",
       "      <td>NaN</td>\n",
       "    </tr>\n",
       "    <tr>\n",
       "      <th>3667</th>\n",
       "      <td>ManchesterUnited</td>\n",
       "      <td>WolverhamptonWanderers</td>\n",
       "      <td>0</td>\n",
       "      <td>0</td>\n",
       "      <td>D</td>\n",
       "      <td>NaN</td>\n",
       "    </tr>\n",
       "  </tbody>\n",
       "</table>\n",
       "<p>3668 rows × 6 columns</p>\n",
       "</div>"
      ],
      "text/plain": [
       "             home_team               away_team  home_goals  away_goals result  \\\n",
       "0     TottenhamHotspur          ManchesterCity           0           0      D   \n",
       "1           AstonVilla           WestHamUnited           3           0      H   \n",
       "2      BlackburnRovers                 Everton           1           0      H   \n",
       "3      BoltonWanderers                  Fulham           0           0      D   \n",
       "4           Sunderland          BirminghamCity           2           2      D   \n",
       "...                ...                     ...         ...         ...    ...   \n",
       "3663         Liverpool             Southampton           4           0      H   \n",
       "3664   NewcastleUnited             NorwichCity           0           0      D   \n",
       "3665           Watford                 Everton           2           3      A   \n",
       "3666     WestHamUnited   BrightonandHoveAlbion           3           3      D   \n",
       "3667  ManchesterUnited  WolverhamptonWanderers           0           0      D   \n",
       "\n",
       "         season  \n",
       "0     2010-2011  \n",
       "1     2010-2011  \n",
       "2     2010-2011  \n",
       "3     2010-2011  \n",
       "4     2010-2011  \n",
       "...         ...  \n",
       "3663        NaN  \n",
       "3664        NaN  \n",
       "3665        NaN  \n",
       "3666        NaN  \n",
       "3667        NaN  \n",
       "\n",
       "[3668 rows x 6 columns]"
      ]
     },
     "execution_count": 5,
     "metadata": {},
     "output_type": "execute_result"
    }
   ],
   "source": [
    "df"
   ]
  },
  {
   "cell_type": "code",
   "execution_count": 11,
   "metadata": {},
   "outputs": [],
   "source": [
    "import bottleneck as bn\n",
    "import time "
   ]
  },
  {
   "cell_type": "code",
   "execution_count": 12,
   "metadata": {},
   "outputs": [
    {
     "name": "stdout",
     "output_type": "stream",
     "text": [
      "1.5517993456924755 0.0002181529998779297\n"
     ]
    }
   ],
   "source": [
    "start = time.time() # 시작시간 측정\n",
    "print(bn.nanmean(df['home_goals']), time.time() - start)"
   ]
  },
  {
   "cell_type": "code",
   "execution_count": 15,
   "metadata": {},
   "outputs": [
    {
     "name": "stdout",
     "output_type": "stream",
     "text": [
      "1.5517993456924755 0.00026988983154296875\n"
     ]
    }
   ],
   "source": [
    "start = time.time() # 시작시간 측정\n",
    "print(np.nanmean(df['home_goals']), time.time() - start)"
   ]
  },
  {
   "cell_type": "code",
   "execution_count": 2,
   "metadata": {},
   "outputs": [],
   "source": [
    "df = pd.DataFrame({'One' : pd.Series(np.random.randn(4), index=['a','b','c','d']),\n",
    "                    'Two' : pd.Series(np.random.randn(3), index=['a','c','d']),\n",
    "                   'Three' : pd.Series(np.random.randn(3), index=['b','c','d'])})"
   ]
  },
  {
   "cell_type": "code",
   "execution_count": 17,
   "metadata": {},
   "outputs": [
    {
     "data": {
      "text/html": [
       "<div>\n",
       "<style scoped>\n",
       "    .dataframe tbody tr th:only-of-type {\n",
       "        vertical-align: middle;\n",
       "    }\n",
       "\n",
       "    .dataframe tbody tr th {\n",
       "        vertical-align: top;\n",
       "    }\n",
       "\n",
       "    .dataframe thead th {\n",
       "        text-align: right;\n",
       "    }\n",
       "</style>\n",
       "<table border=\"1\" class=\"dataframe\">\n",
       "  <thead>\n",
       "    <tr style=\"text-align: right;\">\n",
       "      <th></th>\n",
       "      <th>One</th>\n",
       "      <th>Two</th>\n",
       "      <th>Three</th>\n",
       "    </tr>\n",
       "  </thead>\n",
       "  <tbody>\n",
       "    <tr>\n",
       "      <th>a</th>\n",
       "      <td>1.008765</td>\n",
       "      <td>-0.175352</td>\n",
       "      <td>NaN</td>\n",
       "    </tr>\n",
       "    <tr>\n",
       "      <th>b</th>\n",
       "      <td>1.748897</td>\n",
       "      <td>NaN</td>\n",
       "      <td>0.624603</td>\n",
       "    </tr>\n",
       "    <tr>\n",
       "      <th>c</th>\n",
       "      <td>1.078679</td>\n",
       "      <td>-0.866894</td>\n",
       "      <td>-0.950405</td>\n",
       "    </tr>\n",
       "    <tr>\n",
       "      <th>d</th>\n",
       "      <td>-1.573860</td>\n",
       "      <td>0.170444</td>\n",
       "      <td>0.322723</td>\n",
       "    </tr>\n",
       "  </tbody>\n",
       "</table>\n",
       "</div>"
      ],
      "text/plain": [
       "        One       Two     Three\n",
       "a  1.008765 -0.175352       NaN\n",
       "b  1.748897       NaN  0.624603\n",
       "c  1.078679 -0.866894 -0.950405\n",
       "d -1.573860  0.170444  0.322723"
      ]
     },
     "execution_count": 17,
     "metadata": {},
     "output_type": "execute_result"
    }
   ],
   "source": [
    "df"
   ]
  },
  {
   "cell_type": "code",
   "execution_count": 18,
   "metadata": {},
   "outputs": [],
   "source": [
    "# 연산을 할 시리즈 생성(데이터프레임에서 한 행을 추출)\n",
    "row = df.iloc[1]"
   ]
  },
  {
   "cell_type": "code",
   "execution_count": 19,
   "metadata": {},
   "outputs": [
    {
     "data": {
      "text/plain": [
       "One      1.748897\n",
       "Two           NaN\n",
       "Three    0.624603\n",
       "Name: b, dtype: float64"
      ]
     },
     "execution_count": 19,
     "metadata": {},
     "output_type": "execute_result"
    }
   ],
   "source": [
    "row"
   ]
  },
  {
   "cell_type": "code",
   "execution_count": 20,
   "metadata": {},
   "outputs": [
    {
     "data": {
      "text/html": [
       "<div>\n",
       "<style scoped>\n",
       "    .dataframe tbody tr th:only-of-type {\n",
       "        vertical-align: middle;\n",
       "    }\n",
       "\n",
       "    .dataframe tbody tr th {\n",
       "        vertical-align: top;\n",
       "    }\n",
       "\n",
       "    .dataframe thead th {\n",
       "        text-align: right;\n",
       "    }\n",
       "</style>\n",
       "<table border=\"1\" class=\"dataframe\">\n",
       "  <thead>\n",
       "    <tr style=\"text-align: right;\">\n",
       "      <th></th>\n",
       "      <th>One</th>\n",
       "      <th>Two</th>\n",
       "      <th>Three</th>\n",
       "    </tr>\n",
       "  </thead>\n",
       "  <tbody>\n",
       "    <tr>\n",
       "      <th>a</th>\n",
       "      <td>-0.740132</td>\n",
       "      <td>NaN</td>\n",
       "      <td>NaN</td>\n",
       "    </tr>\n",
       "    <tr>\n",
       "      <th>b</th>\n",
       "      <td>0.000000</td>\n",
       "      <td>NaN</td>\n",
       "      <td>0.000000</td>\n",
       "    </tr>\n",
       "    <tr>\n",
       "      <th>c</th>\n",
       "      <td>-0.670218</td>\n",
       "      <td>NaN</td>\n",
       "      <td>-1.575008</td>\n",
       "    </tr>\n",
       "    <tr>\n",
       "      <th>d</th>\n",
       "      <td>-3.322757</td>\n",
       "      <td>NaN</td>\n",
       "      <td>-0.301881</td>\n",
       "    </tr>\n",
       "  </tbody>\n",
       "</table>\n",
       "</div>"
      ],
      "text/plain": [
       "        One  Two     Three\n",
       "a -0.740132  NaN       NaN\n",
       "b  0.000000  NaN  0.000000\n",
       "c -0.670218  NaN -1.575008\n",
       "d -3.322757  NaN -0.301881"
      ]
     },
     "execution_count": 20,
     "metadata": {},
     "output_type": "execute_result"
    }
   ],
   "source": [
    "df.sub(row, axis='columns')"
   ]
  },
  {
   "cell_type": "code",
   "execution_count": 22,
   "metadata": {},
   "outputs": [
    {
     "data": {
      "text/html": [
       "<div>\n",
       "<style scoped>\n",
       "    .dataframe tbody tr th:only-of-type {\n",
       "        vertical-align: middle;\n",
       "    }\n",
       "\n",
       "    .dataframe tbody tr th {\n",
       "        vertical-align: top;\n",
       "    }\n",
       "\n",
       "    .dataframe thead th {\n",
       "        text-align: right;\n",
       "    }\n",
       "</style>\n",
       "<table border=\"1\" class=\"dataframe\">\n",
       "  <thead>\n",
       "    <tr style=\"text-align: right;\">\n",
       "      <th></th>\n",
       "      <th>One</th>\n",
       "      <th>Two</th>\n",
       "      <th>Three</th>\n",
       "    </tr>\n",
       "  </thead>\n",
       "  <tbody>\n",
       "    <tr>\n",
       "      <th>a</th>\n",
       "      <td>-0.740132</td>\n",
       "      <td>NaN</td>\n",
       "      <td>NaN</td>\n",
       "    </tr>\n",
       "    <tr>\n",
       "      <th>b</th>\n",
       "      <td>0.000000</td>\n",
       "      <td>NaN</td>\n",
       "      <td>0.000000</td>\n",
       "    </tr>\n",
       "    <tr>\n",
       "      <th>c</th>\n",
       "      <td>-0.670218</td>\n",
       "      <td>NaN</td>\n",
       "      <td>-1.575008</td>\n",
       "    </tr>\n",
       "    <tr>\n",
       "      <th>d</th>\n",
       "      <td>-3.322757</td>\n",
       "      <td>NaN</td>\n",
       "      <td>-0.301881</td>\n",
       "    </tr>\n",
       "  </tbody>\n",
       "</table>\n",
       "</div>"
      ],
      "text/plain": [
       "        One  Two     Three\n",
       "a -0.740132  NaN       NaN\n",
       "b  0.000000  NaN  0.000000\n",
       "c -0.670218  NaN -1.575008\n",
       "d -3.322757  NaN -0.301881"
      ]
     },
     "execution_count": 22,
     "metadata": {},
     "output_type": "execute_result"
    }
   ],
   "source": [
    "df.sub(row, axis=1)"
   ]
  },
  {
   "cell_type": "code",
   "execution_count": 7,
   "metadata": {},
   "outputs": [],
   "source": [
    "# 연산을 할 시리즈 생성(데이터프레임에서 한 열을 추출)\n",
    "column = df['One']"
   ]
  },
  {
   "cell_type": "code",
   "execution_count": 8,
   "metadata": {},
   "outputs": [
    {
     "data": {
      "text/plain": [
       "a    2.371463\n",
       "b   -2.182147\n",
       "c   -0.555885\n",
       "d   -1.374381\n",
       "Name: One, dtype: float64"
      ]
     },
     "execution_count": 8,
     "metadata": {},
     "output_type": "execute_result"
    }
   ],
   "source": [
    "column"
   ]
  },
  {
   "cell_type": "code",
   "execution_count": 25,
   "metadata": {},
   "outputs": [
    {
     "data": {
      "text/html": [
       "<div>\n",
       "<style scoped>\n",
       "    .dataframe tbody tr th:only-of-type {\n",
       "        vertical-align: middle;\n",
       "    }\n",
       "\n",
       "    .dataframe tbody tr th {\n",
       "        vertical-align: top;\n",
       "    }\n",
       "\n",
       "    .dataframe thead th {\n",
       "        text-align: right;\n",
       "    }\n",
       "</style>\n",
       "<table border=\"1\" class=\"dataframe\">\n",
       "  <thead>\n",
       "    <tr style=\"text-align: right;\">\n",
       "      <th></th>\n",
       "      <th>One</th>\n",
       "      <th>Two</th>\n",
       "      <th>Three</th>\n",
       "    </tr>\n",
       "  </thead>\n",
       "  <tbody>\n",
       "    <tr>\n",
       "      <th>a</th>\n",
       "      <td>0.0</td>\n",
       "      <td>-1.184117</td>\n",
       "      <td>NaN</td>\n",
       "    </tr>\n",
       "    <tr>\n",
       "      <th>b</th>\n",
       "      <td>0.0</td>\n",
       "      <td>NaN</td>\n",
       "      <td>-1.124294</td>\n",
       "    </tr>\n",
       "    <tr>\n",
       "      <th>c</th>\n",
       "      <td>0.0</td>\n",
       "      <td>-1.945573</td>\n",
       "      <td>-2.029084</td>\n",
       "    </tr>\n",
       "    <tr>\n",
       "      <th>d</th>\n",
       "      <td>0.0</td>\n",
       "      <td>1.744304</td>\n",
       "      <td>1.896582</td>\n",
       "    </tr>\n",
       "  </tbody>\n",
       "</table>\n",
       "</div>"
      ],
      "text/plain": [
       "   One       Two     Three\n",
       "a  0.0 -1.184117       NaN\n",
       "b  0.0       NaN -1.124294\n",
       "c  0.0 -1.945573 -2.029084\n",
       "d  0.0  1.744304  1.896582"
      ]
     },
     "execution_count": 25,
     "metadata": {},
     "output_type": "execute_result"
    }
   ],
   "source": [
    "df.sub(column, axis=0)"
   ]
  },
  {
   "cell_type": "code",
   "execution_count": 26,
   "metadata": {},
   "outputs": [
    {
     "data": {
      "text/html": [
       "<div>\n",
       "<style scoped>\n",
       "    .dataframe tbody tr th:only-of-type {\n",
       "        vertical-align: middle;\n",
       "    }\n",
       "\n",
       "    .dataframe tbody tr th {\n",
       "        vertical-align: top;\n",
       "    }\n",
       "\n",
       "    .dataframe thead th {\n",
       "        text-align: right;\n",
       "    }\n",
       "</style>\n",
       "<table border=\"1\" class=\"dataframe\">\n",
       "  <thead>\n",
       "    <tr style=\"text-align: right;\">\n",
       "      <th></th>\n",
       "      <th>One</th>\n",
       "      <th>Two</th>\n",
       "      <th>Three</th>\n",
       "    </tr>\n",
       "  </thead>\n",
       "  <tbody>\n",
       "    <tr>\n",
       "      <th>a</th>\n",
       "      <td>0.0</td>\n",
       "      <td>-1.184117</td>\n",
       "      <td>NaN</td>\n",
       "    </tr>\n",
       "    <tr>\n",
       "      <th>b</th>\n",
       "      <td>0.0</td>\n",
       "      <td>NaN</td>\n",
       "      <td>-1.124294</td>\n",
       "    </tr>\n",
       "    <tr>\n",
       "      <th>c</th>\n",
       "      <td>0.0</td>\n",
       "      <td>-1.945573</td>\n",
       "      <td>-2.029084</td>\n",
       "    </tr>\n",
       "    <tr>\n",
       "      <th>d</th>\n",
       "      <td>0.0</td>\n",
       "      <td>1.744304</td>\n",
       "      <td>1.896582</td>\n",
       "    </tr>\n",
       "  </tbody>\n",
       "</table>\n",
       "</div>"
      ],
      "text/plain": [
       "   One       Two     Three\n",
       "a  0.0 -1.184117       NaN\n",
       "b  0.0       NaN -1.124294\n",
       "c  0.0 -1.945573 -2.029084\n",
       "d  0.0  1.744304  1.896582"
      ]
     },
     "execution_count": 26,
     "metadata": {},
     "output_type": "execute_result"
    }
   ],
   "source": [
    "df.sub(column, axis='index')"
   ]
  },
  {
   "cell_type": "code",
   "execution_count": 3,
   "metadata": {},
   "outputs": [],
   "source": [
    "# 데이터프레임 사본 생성\n",
    "m_df = df.copy()"
   ]
  },
  {
   "cell_type": "code",
   "execution_count": 4,
   "metadata": {},
   "outputs": [
    {
     "data": {
      "text/html": [
       "<div>\n",
       "<style scoped>\n",
       "    .dataframe tbody tr th:only-of-type {\n",
       "        vertical-align: middle;\n",
       "    }\n",
       "\n",
       "    .dataframe tbody tr th {\n",
       "        vertical-align: top;\n",
       "    }\n",
       "\n",
       "    .dataframe thead th {\n",
       "        text-align: right;\n",
       "    }\n",
       "</style>\n",
       "<table border=\"1\" class=\"dataframe\">\n",
       "  <thead>\n",
       "    <tr style=\"text-align: right;\">\n",
       "      <th></th>\n",
       "      <th></th>\n",
       "      <th>One</th>\n",
       "      <th>Two</th>\n",
       "      <th>Three</th>\n",
       "    </tr>\n",
       "    <tr>\n",
       "      <th>first</th>\n",
       "      <th>second</th>\n",
       "      <th></th>\n",
       "      <th></th>\n",
       "      <th></th>\n",
       "    </tr>\n",
       "  </thead>\n",
       "  <tbody>\n",
       "    <tr>\n",
       "      <th rowspan=\"3\" valign=\"top\">1</th>\n",
       "      <th>a</th>\n",
       "      <td>2.371463</td>\n",
       "      <td>0.820267</td>\n",
       "      <td>NaN</td>\n",
       "    </tr>\n",
       "    <tr>\n",
       "      <th>b</th>\n",
       "      <td>-2.182147</td>\n",
       "      <td>NaN</td>\n",
       "      <td>1.225875</td>\n",
       "    </tr>\n",
       "    <tr>\n",
       "      <th>c</th>\n",
       "      <td>-0.555885</td>\n",
       "      <td>-1.185652</td>\n",
       "      <td>-0.985316</td>\n",
       "    </tr>\n",
       "    <tr>\n",
       "      <th>2</th>\n",
       "      <th>a</th>\n",
       "      <td>-1.374381</td>\n",
       "      <td>-0.908853</td>\n",
       "      <td>-1.045511</td>\n",
       "    </tr>\n",
       "  </tbody>\n",
       "</table>\n",
       "</div>"
      ],
      "text/plain": [
       "                   One       Two     Three\n",
       "first second                              \n",
       "1     a       2.371463  0.820267       NaN\n",
       "      b      -2.182147       NaN  1.225875\n",
       "      c      -0.555885 -1.185652 -0.985316\n",
       "2     a      -1.374381 -0.908853 -1.045511"
      ]
     },
     "execution_count": 4,
     "metadata": {},
     "output_type": "execute_result"
    }
   ],
   "source": [
    "# 멀티인덱스 생성  \n",
    "m_df.index = pd.MultiIndex.from_tuples([(1,'a'),(1,'b'),(1,'c'),(2,'a')], names=['first','second'])\n",
    "m_df"
   ]
  },
  {
   "cell_type": "code",
   "execution_count": 5,
   "metadata": {},
   "outputs": [
    {
     "name": "stdout",
     "output_type": "stream",
     "text": [
      "|          |       One |        Two |      Three |\n",
      "|:---------|----------:|-----------:|-----------:|\n",
      "| (1, 'a') |  2.37146  |   0.820267 | nan        |\n",
      "| (1, 'b') | -2.18215  | nan        |   1.22587  |\n",
      "| (1, 'c') | -0.555885 |  -1.18565  |  -0.985316 |\n",
      "| (2, 'a') | -1.37438  |  -0.908853 |  -1.04551  |\n"
     ]
    }
   ],
   "source": [
    "print(m_df.to_markdown())"
   ]
  },
  {
   "cell_type": "code",
   "execution_count": 11,
   "metadata": {},
   "outputs": [
    {
     "data": {
      "text/html": [
       "<div>\n",
       "<style scoped>\n",
       "    .dataframe tbody tr th:only-of-type {\n",
       "        vertical-align: middle;\n",
       "    }\n",
       "\n",
       "    .dataframe tbody tr th {\n",
       "        vertical-align: top;\n",
       "    }\n",
       "\n",
       "    .dataframe thead th {\n",
       "        text-align: right;\n",
       "    }\n",
       "</style>\n",
       "<table border=\"1\" class=\"dataframe\">\n",
       "  <thead>\n",
       "    <tr style=\"text-align: right;\">\n",
       "      <th></th>\n",
       "      <th></th>\n",
       "      <th>One</th>\n",
       "      <th>Two</th>\n",
       "      <th>Three</th>\n",
       "    </tr>\n",
       "    <tr>\n",
       "      <th>first</th>\n",
       "      <th>second</th>\n",
       "      <th></th>\n",
       "      <th></th>\n",
       "      <th></th>\n",
       "    </tr>\n",
       "  </thead>\n",
       "  <tbody>\n",
       "    <tr>\n",
       "      <th rowspan=\"3\" valign=\"top\">1</th>\n",
       "      <th>a</th>\n",
       "      <td>0.000000</td>\n",
       "      <td>-1.551196</td>\n",
       "      <td>NaN</td>\n",
       "    </tr>\n",
       "    <tr>\n",
       "      <th>b</th>\n",
       "      <td>0.000000</td>\n",
       "      <td>NaN</td>\n",
       "      <td>3.408022</td>\n",
       "    </tr>\n",
       "    <tr>\n",
       "      <th>c</th>\n",
       "      <td>0.000000</td>\n",
       "      <td>-0.629766</td>\n",
       "      <td>-0.429430</td>\n",
       "    </tr>\n",
       "    <tr>\n",
       "      <th>2</th>\n",
       "      <th>a</th>\n",
       "      <td>-3.745844</td>\n",
       "      <td>-3.280316</td>\n",
       "      <td>-3.416973</td>\n",
       "    </tr>\n",
       "  </tbody>\n",
       "</table>\n",
       "</div>"
      ],
      "text/plain": [
       "                   One       Two     Three\n",
       "first second                              \n",
       "1     a       0.000000 -1.551196       NaN\n",
       "      b       0.000000       NaN  3.408022\n",
       "      c       0.000000 -0.629766 -0.429430\n",
       "2     a      -3.745844 -3.280316 -3.416973"
      ]
     },
     "execution_count": 11,
     "metadata": {},
     "output_type": "execute_result"
    }
   ],
   "source": [
    "m_dfs = m_df.sub(column, axis=0, level='second')"
   ]
  },
  {
   "cell_type": "code",
   "execution_count": 10,
   "metadata": {},
   "outputs": [
    {
     "name": "stdout",
     "output_type": "stream",
     "text": [
      "|          |      One |        Two |     Three |\n",
      "|:---------|---------:|-----------:|----------:|\n",
      "| (1, 'a') |  0       |  -1.5512   | nan       |\n",
      "| (1, 'b') |  0       | nan        |   3.40802 |\n",
      "| (1, 'c') |  0       |  -0.629766 |  -0.42943 |\n",
      "| (2, 'a') | -3.74584 |  -3.28032  |  -3.41697 |\n"
     ]
    }
   ],
   "source": [
    "print(m_dfs.to_markdown())"
   ]
  },
  {
   "cell_type": "code",
   "execution_count": 42,
   "metadata": {},
   "outputs": [],
   "source": [
    "# 0~10까지의 정수를 원소로하는 시리즈 생성\n",
    "s = pd.Series(np.arange(10))"
   ]
  },
  {
   "cell_type": "code",
   "execution_count": 43,
   "metadata": {},
   "outputs": [
    {
     "data": {
      "text/plain": [
       "0    0\n",
       "1    1\n",
       "2    2\n",
       "3    3\n",
       "4    4\n",
       "5    5\n",
       "6    6\n",
       "7    7\n",
       "8    8\n",
       "9    9\n",
       "dtype: int64"
      ]
     },
     "execution_count": 43,
     "metadata": {},
     "output_type": "execute_result"
    }
   ],
   "source": [
    "s"
   ]
  },
  {
   "cell_type": "code",
   "execution_count": 44,
   "metadata": {},
   "outputs": [],
   "source": [
    "div, rem = divmod(s, 3)"
   ]
  },
  {
   "cell_type": "code",
   "execution_count": 45,
   "metadata": {},
   "outputs": [
    {
     "data": {
      "text/plain": [
       "0    0\n",
       "1    0\n",
       "2    0\n",
       "3    1\n",
       "4    1\n",
       "5    1\n",
       "6    2\n",
       "7    2\n",
       "8    2\n",
       "9    3\n",
       "dtype: int64"
      ]
     },
     "execution_count": 45,
     "metadata": {},
     "output_type": "execute_result"
    }
   ],
   "source": [
    "# s를 3으로 나눈 몫\n",
    "div"
   ]
  },
  {
   "cell_type": "code",
   "execution_count": 46,
   "metadata": {},
   "outputs": [
    {
     "data": {
      "text/plain": [
       "0    0\n",
       "1    1\n",
       "2    2\n",
       "3    0\n",
       "4    1\n",
       "5    2\n",
       "6    0\n",
       "7    1\n",
       "8    2\n",
       "9    0\n",
       "dtype: int64"
      ]
     },
     "execution_count": 46,
     "metadata": {},
     "output_type": "execute_result"
    }
   ],
   "source": [
    "# s를 3으로 나눈 나머지  \n",
    "rem"
   ]
  },
  {
   "cell_type": "code",
   "execution_count": 48,
   "metadata": {},
   "outputs": [],
   "source": [
    "div, rem = divmod(s, [2,2,2,3,3,3,4,4,4,5])"
   ]
  },
  {
   "cell_type": "code",
   "execution_count": 49,
   "metadata": {},
   "outputs": [
    {
     "data": {
      "text/plain": [
       "0    0\n",
       "1    0\n",
       "2    1\n",
       "3    1\n",
       "4    1\n",
       "5    1\n",
       "6    1\n",
       "7    1\n",
       "8    2\n",
       "9    1\n",
       "dtype: int64"
      ]
     },
     "execution_count": 49,
     "metadata": {},
     "output_type": "execute_result"
    }
   ],
   "source": [
    "div"
   ]
  },
  {
   "cell_type": "code",
   "execution_count": 51,
   "metadata": {},
   "outputs": [
    {
     "data": {
      "text/plain": [
       "0    0\n",
       "1    1\n",
       "2    0\n",
       "3    0\n",
       "4    1\n",
       "5    2\n",
       "6    2\n",
       "7    3\n",
       "8    0\n",
       "9    4\n",
       "dtype: int64"
      ]
     },
     "execution_count": 51,
     "metadata": {},
     "output_type": "execute_result"
    }
   ],
   "source": [
    "rem"
   ]
  },
  {
   "cell_type": "code",
   "execution_count": 15,
   "metadata": {},
   "outputs": [],
   "source": [
    "df = pd.DataFrame({'One' : {'a': 1.394981, 'b' : 0.343054, 'c' : 0.695246},\n",
    "                  'Two' : {'a' : 1.772517, 'b' : 1.912123, 'c' : 1.478369, 'd' : 0.279344},\n",
    "                  'Three' : {'b' : -0.050390, 'c' : 1.227435, 'd' : -0.613172}})"
   ]
  },
  {
   "cell_type": "code",
   "execution_count": 13,
   "metadata": {},
   "outputs": [
    {
     "data": {
      "text/html": [
       "<div>\n",
       "<style scoped>\n",
       "    .dataframe tbody tr th:only-of-type {\n",
       "        vertical-align: middle;\n",
       "    }\n",
       "\n",
       "    .dataframe tbody tr th {\n",
       "        vertical-align: top;\n",
       "    }\n",
       "\n",
       "    .dataframe thead th {\n",
       "        text-align: right;\n",
       "    }\n",
       "</style>\n",
       "<table border=\"1\" class=\"dataframe\">\n",
       "  <thead>\n",
       "    <tr style=\"text-align: right;\">\n",
       "      <th></th>\n",
       "      <th>One</th>\n",
       "      <th>Two</th>\n",
       "      <th>Three</th>\n",
       "    </tr>\n",
       "  </thead>\n",
       "  <tbody>\n",
       "    <tr>\n",
       "      <th>a</th>\n",
       "      <td>1.394981</td>\n",
       "      <td>1.772517</td>\n",
       "      <td>NaN</td>\n",
       "    </tr>\n",
       "    <tr>\n",
       "      <th>b</th>\n",
       "      <td>0.343054</td>\n",
       "      <td>1.912123</td>\n",
       "      <td>-0.050390</td>\n",
       "    </tr>\n",
       "    <tr>\n",
       "      <th>c</th>\n",
       "      <td>0.695246</td>\n",
       "      <td>1.478369</td>\n",
       "      <td>1.227435</td>\n",
       "    </tr>\n",
       "    <tr>\n",
       "      <th>d</th>\n",
       "      <td>NaN</td>\n",
       "      <td>0.279344</td>\n",
       "      <td>-0.613172</td>\n",
       "    </tr>\n",
       "  </tbody>\n",
       "</table>\n",
       "</div>"
      ],
      "text/plain": [
       "        One       Two     Three\n",
       "a  1.394981  1.772517       NaN\n",
       "b  0.343054  1.912123 -0.050390\n",
       "c  0.695246  1.478369  1.227435\n",
       "d       NaN  0.279344 -0.613172"
      ]
     },
     "execution_count": 13,
     "metadata": {},
     "output_type": "execute_result"
    }
   ],
   "source": [
    "df"
   ]
  },
  {
   "cell_type": "code",
   "execution_count": 3,
   "metadata": {},
   "outputs": [],
   "source": [
    "df2 = pd.DataFrame({'One' : {'a' : 1.394981, 'b' : 0.343054, 'c' : 0.695246},\n",
    "                   'Two' : {'a' : 1.772517, 'b' : 1.912123, 'c' : 1.478369, 'd' : 0.279344},\n",
    "                   'Three' : {'a' : 1.000000 , 'b' : -0.050390, 'c' : 1.227435, 'd' : -0.613172}})"
   ]
  },
  {
   "cell_type": "code",
   "execution_count": 15,
   "metadata": {},
   "outputs": [
    {
     "data": {
      "text/html": [
       "<div>\n",
       "<style scoped>\n",
       "    .dataframe tbody tr th:only-of-type {\n",
       "        vertical-align: middle;\n",
       "    }\n",
       "\n",
       "    .dataframe tbody tr th {\n",
       "        vertical-align: top;\n",
       "    }\n",
       "\n",
       "    .dataframe thead th {\n",
       "        text-align: right;\n",
       "    }\n",
       "</style>\n",
       "<table border=\"1\" class=\"dataframe\">\n",
       "  <thead>\n",
       "    <tr style=\"text-align: right;\">\n",
       "      <th></th>\n",
       "      <th>One</th>\n",
       "      <th>Two</th>\n",
       "      <th>Three</th>\n",
       "    </tr>\n",
       "  </thead>\n",
       "  <tbody>\n",
       "    <tr>\n",
       "      <th>a</th>\n",
       "      <td>1.394981</td>\n",
       "      <td>1.772517</td>\n",
       "      <td>1.000000</td>\n",
       "    </tr>\n",
       "    <tr>\n",
       "      <th>b</th>\n",
       "      <td>0.343054</td>\n",
       "      <td>1.912123</td>\n",
       "      <td>-0.050390</td>\n",
       "    </tr>\n",
       "    <tr>\n",
       "      <th>c</th>\n",
       "      <td>0.695246</td>\n",
       "      <td>1.478369</td>\n",
       "      <td>1.227435</td>\n",
       "    </tr>\n",
       "    <tr>\n",
       "      <th>d</th>\n",
       "      <td>NaN</td>\n",
       "      <td>0.279344</td>\n",
       "      <td>-0.613172</td>\n",
       "    </tr>\n",
       "  </tbody>\n",
       "</table>\n",
       "</div>"
      ],
      "text/plain": [
       "        One       Two     Three\n",
       "a  1.394981  1.772517  1.000000\n",
       "b  0.343054  1.912123 -0.050390\n",
       "c  0.695246  1.478369  1.227435\n",
       "d       NaN  0.279344 -0.613172"
      ]
     },
     "execution_count": 15,
     "metadata": {},
     "output_type": "execute_result"
    }
   ],
   "source": [
    "df2"
   ]
  },
  {
   "cell_type": "code",
   "execution_count": 20,
   "metadata": {},
   "outputs": [
    {
     "name": "stdout",
     "output_type": "stream",
     "text": [
      "|    |        One |      Two |     Three |\n",
      "|:---|-----------:|---------:|----------:|\n",
      "| a  |   1.39498  | 1.77252  |  1        |\n",
      "| b  |   0.343054 | 1.91212  | -0.05039  |\n",
      "| c  |   0.695246 | 1.47837  |  1.22744  |\n",
      "| d  | nan        | 0.279344 | -0.613172 |\n"
     ]
    }
   ],
   "source": [
    "print(df2.to_markdown())"
   ]
  },
  {
   "cell_type": "code",
   "execution_count": 23,
   "metadata": {},
   "outputs": [
    {
     "data": {
      "text/html": [
       "<div>\n",
       "<style scoped>\n",
       "    .dataframe tbody tr th:only-of-type {\n",
       "        vertical-align: middle;\n",
       "    }\n",
       "\n",
       "    .dataframe tbody tr th {\n",
       "        vertical-align: top;\n",
       "    }\n",
       "\n",
       "    .dataframe thead th {\n",
       "        text-align: right;\n",
       "    }\n",
       "</style>\n",
       "<table border=\"1\" class=\"dataframe\">\n",
       "  <thead>\n",
       "    <tr style=\"text-align: right;\">\n",
       "      <th></th>\n",
       "      <th>One</th>\n",
       "      <th>Two</th>\n",
       "      <th>Three</th>\n",
       "    </tr>\n",
       "  </thead>\n",
       "  <tbody>\n",
       "    <tr>\n",
       "      <th>a</th>\n",
       "      <td>2.789962</td>\n",
       "      <td>3.545034</td>\n",
       "      <td>NaN</td>\n",
       "    </tr>\n",
       "    <tr>\n",
       "      <th>b</th>\n",
       "      <td>0.686108</td>\n",
       "      <td>3.824246</td>\n",
       "      <td>-0.100780</td>\n",
       "    </tr>\n",
       "    <tr>\n",
       "      <th>c</th>\n",
       "      <td>1.390492</td>\n",
       "      <td>2.956738</td>\n",
       "      <td>2.454870</td>\n",
       "    </tr>\n",
       "    <tr>\n",
       "      <th>d</th>\n",
       "      <td>NaN</td>\n",
       "      <td>0.558688</td>\n",
       "      <td>-1.226344</td>\n",
       "    </tr>\n",
       "  </tbody>\n",
       "</table>\n",
       "</div>"
      ],
      "text/plain": [
       "        One       Two     Three\n",
       "a  2.789962  3.545034       NaN\n",
       "b  0.686108  3.824246 -0.100780\n",
       "c  1.390492  2.956738  2.454870\n",
       "d       NaN  0.558688 -1.226344"
      ]
     },
     "execution_count": 23,
     "metadata": {},
     "output_type": "execute_result"
    }
   ],
   "source": [
    "df + df2"
   ]
  },
  {
   "cell_type": "code",
   "execution_count": 26,
   "metadata": {},
   "outputs": [
    {
     "data": {
      "text/html": [
       "<div>\n",
       "<style scoped>\n",
       "    .dataframe tbody tr th:only-of-type {\n",
       "        vertical-align: middle;\n",
       "    }\n",
       "\n",
       "    .dataframe tbody tr th {\n",
       "        vertical-align: top;\n",
       "    }\n",
       "\n",
       "    .dataframe thead th {\n",
       "        text-align: right;\n",
       "    }\n",
       "</style>\n",
       "<table border=\"1\" class=\"dataframe\">\n",
       "  <thead>\n",
       "    <tr style=\"text-align: right;\">\n",
       "      <th></th>\n",
       "      <th>One</th>\n",
       "      <th>Two</th>\n",
       "      <th>Three</th>\n",
       "    </tr>\n",
       "  </thead>\n",
       "  <tbody>\n",
       "    <tr>\n",
       "      <th>a</th>\n",
       "      <td>2.789962</td>\n",
       "      <td>3.545034</td>\n",
       "      <td>1.000000</td>\n",
       "    </tr>\n",
       "    <tr>\n",
       "      <th>b</th>\n",
       "      <td>0.686108</td>\n",
       "      <td>3.824246</td>\n",
       "      <td>-0.100780</td>\n",
       "    </tr>\n",
       "    <tr>\n",
       "      <th>c</th>\n",
       "      <td>1.390492</td>\n",
       "      <td>2.956738</td>\n",
       "      <td>2.454870</td>\n",
       "    </tr>\n",
       "    <tr>\n",
       "      <th>d</th>\n",
       "      <td>NaN</td>\n",
       "      <td>0.558688</td>\n",
       "      <td>-1.226344</td>\n",
       "    </tr>\n",
       "  </tbody>\n",
       "</table>\n",
       "</div>"
      ],
      "text/plain": [
       "        One       Two     Three\n",
       "a  2.789962  3.545034  1.000000\n",
       "b  0.686108  3.824246 -0.100780\n",
       "c  1.390492  2.956738  2.454870\n",
       "d       NaN  0.558688 -1.226344"
      ]
     },
     "execution_count": 26,
     "metadata": {},
     "output_type": "execute_result"
    }
   ],
   "source": [
    "df.add(df2, fill_value=0)"
   ]
  },
  {
   "cell_type": "code",
   "execution_count": 29,
   "metadata": {},
   "outputs": [
    {
     "data": {
      "text/html": [
       "<div>\n",
       "<style scoped>\n",
       "    .dataframe tbody tr th:only-of-type {\n",
       "        vertical-align: middle;\n",
       "    }\n",
       "\n",
       "    .dataframe tbody tr th {\n",
       "        vertical-align: top;\n",
       "    }\n",
       "\n",
       "    .dataframe thead th {\n",
       "        text-align: right;\n",
       "    }\n",
       "</style>\n",
       "<table border=\"1\" class=\"dataframe\">\n",
       "  <thead>\n",
       "    <tr style=\"text-align: right;\">\n",
       "      <th></th>\n",
       "      <th>One</th>\n",
       "      <th>Two</th>\n",
       "      <th>Three</th>\n",
       "    </tr>\n",
       "  </thead>\n",
       "  <tbody>\n",
       "    <tr>\n",
       "      <th>a</th>\n",
       "      <td>2.789962</td>\n",
       "      <td>3.545034</td>\n",
       "      <td>2.000000</td>\n",
       "    </tr>\n",
       "    <tr>\n",
       "      <th>b</th>\n",
       "      <td>0.686108</td>\n",
       "      <td>3.824246</td>\n",
       "      <td>-0.100780</td>\n",
       "    </tr>\n",
       "    <tr>\n",
       "      <th>c</th>\n",
       "      <td>1.390492</td>\n",
       "      <td>2.956738</td>\n",
       "      <td>2.454870</td>\n",
       "    </tr>\n",
       "    <tr>\n",
       "      <th>d</th>\n",
       "      <td>NaN</td>\n",
       "      <td>0.558688</td>\n",
       "      <td>-1.226344</td>\n",
       "    </tr>\n",
       "  </tbody>\n",
       "</table>\n",
       "</div>"
      ],
      "text/plain": [
       "        One       Two     Three\n",
       "a  2.789962  3.545034  2.000000\n",
       "b  0.686108  3.824246 -0.100780\n",
       "c  1.390492  2.956738  2.454870\n",
       "d       NaN  0.558688 -1.226344"
      ]
     },
     "execution_count": 29,
     "metadata": {},
     "output_type": "execute_result"
    }
   ],
   "source": [
    "df.add(df2, fill_value=1)"
   ]
  },
  {
   "cell_type": "code",
   "execution_count": 14,
   "metadata": {},
   "outputs": [
    {
     "data": {
      "text/html": [
       "<div>\n",
       "<style scoped>\n",
       "    .dataframe tbody tr th:only-of-type {\n",
       "        vertical-align: middle;\n",
       "    }\n",
       "\n",
       "    .dataframe tbody tr th {\n",
       "        vertical-align: top;\n",
       "    }\n",
       "\n",
       "    .dataframe thead th {\n",
       "        text-align: right;\n",
       "    }\n",
       "</style>\n",
       "<table border=\"1\" class=\"dataframe\">\n",
       "  <thead>\n",
       "    <tr style=\"text-align: right;\">\n",
       "      <th></th>\n",
       "      <th>One</th>\n",
       "      <th>Two</th>\n",
       "      <th>Three</th>\n",
       "    </tr>\n",
       "  </thead>\n",
       "  <tbody>\n",
       "    <tr>\n",
       "      <th>a</th>\n",
       "      <td>True</td>\n",
       "      <td>True</td>\n",
       "      <td>False</td>\n",
       "    </tr>\n",
       "    <tr>\n",
       "      <th>b</th>\n",
       "      <td>True</td>\n",
       "      <td>True</td>\n",
       "      <td>True</td>\n",
       "    </tr>\n",
       "    <tr>\n",
       "      <th>c</th>\n",
       "      <td>True</td>\n",
       "      <td>True</td>\n",
       "      <td>True</td>\n",
       "    </tr>\n",
       "    <tr>\n",
       "      <th>d</th>\n",
       "      <td>False</td>\n",
       "      <td>True</td>\n",
       "      <td>True</td>\n",
       "    </tr>\n",
       "  </tbody>\n",
       "</table>\n",
       "</div>"
      ],
      "text/plain": [
       "     One   Two  Three\n",
       "a   True  True  False\n",
       "b   True  True   True\n",
       "c   True  True   True\n",
       "d  False  True   True"
      ]
     },
     "execution_count": 14,
     "metadata": {},
     "output_type": "execute_result"
    }
   ],
   "source": [
    "df.eq(df2)"
   ]
  },
  {
   "cell_type": "code",
   "execution_count": 15,
   "metadata": {},
   "outputs": [
    {
     "data": {
      "text/html": [
       "<div>\n",
       "<style scoped>\n",
       "    .dataframe tbody tr th:only-of-type {\n",
       "        vertical-align: middle;\n",
       "    }\n",
       "\n",
       "    .dataframe tbody tr th {\n",
       "        vertical-align: top;\n",
       "    }\n",
       "\n",
       "    .dataframe thead th {\n",
       "        text-align: right;\n",
       "    }\n",
       "</style>\n",
       "<table border=\"1\" class=\"dataframe\">\n",
       "  <thead>\n",
       "    <tr style=\"text-align: right;\">\n",
       "      <th></th>\n",
       "      <th>One</th>\n",
       "      <th>Two</th>\n",
       "      <th>Three</th>\n",
       "    </tr>\n",
       "  </thead>\n",
       "  <tbody>\n",
       "    <tr>\n",
       "      <th>a</th>\n",
       "      <td>False</td>\n",
       "      <td>False</td>\n",
       "      <td>True</td>\n",
       "    </tr>\n",
       "    <tr>\n",
       "      <th>b</th>\n",
       "      <td>False</td>\n",
       "      <td>False</td>\n",
       "      <td>False</td>\n",
       "    </tr>\n",
       "    <tr>\n",
       "      <th>c</th>\n",
       "      <td>False</td>\n",
       "      <td>False</td>\n",
       "      <td>False</td>\n",
       "    </tr>\n",
       "    <tr>\n",
       "      <th>d</th>\n",
       "      <td>True</td>\n",
       "      <td>False</td>\n",
       "      <td>False</td>\n",
       "    </tr>\n",
       "  </tbody>\n",
       "</table>\n",
       "</div>"
      ],
      "text/plain": [
       "     One    Two  Three\n",
       "a  False  False   True\n",
       "b  False  False  False\n",
       "c  False  False  False\n",
       "d   True  False  False"
      ]
     },
     "execution_count": 15,
     "metadata": {},
     "output_type": "execute_result"
    }
   ],
   "source": [
    "df.ne(df2)"
   ]
  },
  {
   "cell_type": "code",
   "execution_count": 18,
   "metadata": {},
   "outputs": [
    {
     "data": {
      "text/html": [
       "<div>\n",
       "<style scoped>\n",
       "    .dataframe tbody tr th:only-of-type {\n",
       "        vertical-align: middle;\n",
       "    }\n",
       "\n",
       "    .dataframe tbody tr th {\n",
       "        vertical-align: top;\n",
       "    }\n",
       "\n",
       "    .dataframe thead th {\n",
       "        text-align: right;\n",
       "    }\n",
       "</style>\n",
       "<table border=\"1\" class=\"dataframe\">\n",
       "  <thead>\n",
       "    <tr style=\"text-align: right;\">\n",
       "      <th></th>\n",
       "      <th>One</th>\n",
       "      <th>Two</th>\n",
       "      <th>Three</th>\n",
       "    </tr>\n",
       "  </thead>\n",
       "  <tbody>\n",
       "    <tr>\n",
       "      <th>a</th>\n",
       "      <td>False</td>\n",
       "      <td>False</td>\n",
       "      <td>False</td>\n",
       "    </tr>\n",
       "    <tr>\n",
       "      <th>b</th>\n",
       "      <td>False</td>\n",
       "      <td>False</td>\n",
       "      <td>False</td>\n",
       "    </tr>\n",
       "    <tr>\n",
       "      <th>c</th>\n",
       "      <td>False</td>\n",
       "      <td>False</td>\n",
       "      <td>False</td>\n",
       "    </tr>\n",
       "    <tr>\n",
       "      <th>d</th>\n",
       "      <td>False</td>\n",
       "      <td>False</td>\n",
       "      <td>False</td>\n",
       "    </tr>\n",
       "  </tbody>\n",
       "</table>\n",
       "</div>"
      ],
      "text/plain": [
       "     One    Two  Three\n",
       "a  False  False  False\n",
       "b  False  False  False\n",
       "c  False  False  False\n",
       "d  False  False  False"
      ]
     },
     "execution_count": 18,
     "metadata": {},
     "output_type": "execute_result"
    }
   ],
   "source": [
    "df.lt(df2)"
   ]
  },
  {
   "cell_type": "code",
   "execution_count": 7,
   "metadata": {},
   "outputs": [
    {
     "data": {
      "text/html": [
       "<div>\n",
       "<style scoped>\n",
       "    .dataframe tbody tr th:only-of-type {\n",
       "        vertical-align: middle;\n",
       "    }\n",
       "\n",
       "    .dataframe tbody tr th {\n",
       "        vertical-align: top;\n",
       "    }\n",
       "\n",
       "    .dataframe thead th {\n",
       "        text-align: right;\n",
       "    }\n",
       "</style>\n",
       "<table border=\"1\" class=\"dataframe\">\n",
       "  <thead>\n",
       "    <tr style=\"text-align: right;\">\n",
       "      <th></th>\n",
       "      <th>One</th>\n",
       "      <th>Two</th>\n",
       "      <th>Three</th>\n",
       "    </tr>\n",
       "  </thead>\n",
       "  <tbody>\n",
       "    <tr>\n",
       "      <th>a</th>\n",
       "      <td>False</td>\n",
       "      <td>False</td>\n",
       "      <td>False</td>\n",
       "    </tr>\n",
       "    <tr>\n",
       "      <th>b</th>\n",
       "      <td>False</td>\n",
       "      <td>False</td>\n",
       "      <td>False</td>\n",
       "    </tr>\n",
       "    <tr>\n",
       "      <th>c</th>\n",
       "      <td>False</td>\n",
       "      <td>False</td>\n",
       "      <td>False</td>\n",
       "    </tr>\n",
       "    <tr>\n",
       "      <th>d</th>\n",
       "      <td>False</td>\n",
       "      <td>False</td>\n",
       "      <td>False</td>\n",
       "    </tr>\n",
       "  </tbody>\n",
       "</table>\n",
       "</div>"
      ],
      "text/plain": [
       "     One    Two  Three\n",
       "a  False  False  False\n",
       "b  False  False  False\n",
       "c  False  False  False\n",
       "d  False  False  False"
      ]
     },
     "execution_count": 7,
     "metadata": {},
     "output_type": "execute_result"
    }
   ],
   "source": [
    "df.gt(df2)"
   ]
  },
  {
   "cell_type": "code",
   "execution_count": 8,
   "metadata": {},
   "outputs": [
    {
     "data": {
      "text/html": [
       "<div>\n",
       "<style scoped>\n",
       "    .dataframe tbody tr th:only-of-type {\n",
       "        vertical-align: middle;\n",
       "    }\n",
       "\n",
       "    .dataframe tbody tr th {\n",
       "        vertical-align: top;\n",
       "    }\n",
       "\n",
       "    .dataframe thead th {\n",
       "        text-align: right;\n",
       "    }\n",
       "</style>\n",
       "<table border=\"1\" class=\"dataframe\">\n",
       "  <thead>\n",
       "    <tr style=\"text-align: right;\">\n",
       "      <th></th>\n",
       "      <th>One</th>\n",
       "      <th>Two</th>\n",
       "      <th>Three</th>\n",
       "    </tr>\n",
       "  </thead>\n",
       "  <tbody>\n",
       "    <tr>\n",
       "      <th>a</th>\n",
       "      <td>True</td>\n",
       "      <td>True</td>\n",
       "      <td>False</td>\n",
       "    </tr>\n",
       "    <tr>\n",
       "      <th>b</th>\n",
       "      <td>True</td>\n",
       "      <td>True</td>\n",
       "      <td>True</td>\n",
       "    </tr>\n",
       "    <tr>\n",
       "      <th>c</th>\n",
       "      <td>True</td>\n",
       "      <td>True</td>\n",
       "      <td>True</td>\n",
       "    </tr>\n",
       "    <tr>\n",
       "      <th>d</th>\n",
       "      <td>False</td>\n",
       "      <td>True</td>\n",
       "      <td>True</td>\n",
       "    </tr>\n",
       "  </tbody>\n",
       "</table>\n",
       "</div>"
      ],
      "text/plain": [
       "     One   Two  Three\n",
       "a   True  True  False\n",
       "b   True  True   True\n",
       "c   True  True   True\n",
       "d  False  True   True"
      ]
     },
     "execution_count": 8,
     "metadata": {},
     "output_type": "execute_result"
    }
   ],
   "source": [
    "df.le(df2)"
   ]
  },
  {
   "cell_type": "code",
   "execution_count": 9,
   "metadata": {},
   "outputs": [
    {
     "data": {
      "text/html": [
       "<div>\n",
       "<style scoped>\n",
       "    .dataframe tbody tr th:only-of-type {\n",
       "        vertical-align: middle;\n",
       "    }\n",
       "\n",
       "    .dataframe tbody tr th {\n",
       "        vertical-align: top;\n",
       "    }\n",
       "\n",
       "    .dataframe thead th {\n",
       "        text-align: right;\n",
       "    }\n",
       "</style>\n",
       "<table border=\"1\" class=\"dataframe\">\n",
       "  <thead>\n",
       "    <tr style=\"text-align: right;\">\n",
       "      <th></th>\n",
       "      <th>One</th>\n",
       "      <th>Two</th>\n",
       "      <th>Three</th>\n",
       "    </tr>\n",
       "  </thead>\n",
       "  <tbody>\n",
       "    <tr>\n",
       "      <th>a</th>\n",
       "      <td>True</td>\n",
       "      <td>True</td>\n",
       "      <td>False</td>\n",
       "    </tr>\n",
       "    <tr>\n",
       "      <th>b</th>\n",
       "      <td>True</td>\n",
       "      <td>True</td>\n",
       "      <td>True</td>\n",
       "    </tr>\n",
       "    <tr>\n",
       "      <th>c</th>\n",
       "      <td>True</td>\n",
       "      <td>True</td>\n",
       "      <td>True</td>\n",
       "    </tr>\n",
       "    <tr>\n",
       "      <th>d</th>\n",
       "      <td>False</td>\n",
       "      <td>True</td>\n",
       "      <td>True</td>\n",
       "    </tr>\n",
       "  </tbody>\n",
       "</table>\n",
       "</div>"
      ],
      "text/plain": [
       "     One   Two  Three\n",
       "a   True  True  False\n",
       "b   True  True   True\n",
       "c   True  True   True\n",
       "d  False  True   True"
      ]
     },
     "execution_count": 9,
     "metadata": {},
     "output_type": "execute_result"
    }
   ],
   "source": [
    "df.ge(df2)"
   ]
  },
  {
   "cell_type": "code",
   "execution_count": 19,
   "metadata": {},
   "outputs": [
    {
     "data": {
      "text/plain": [
       "One      False\n",
       "Two       True\n",
       "Three    False\n",
       "dtype: bool"
      ]
     },
     "execution_count": 19,
     "metadata": {},
     "output_type": "execute_result"
    }
   ],
   "source": [
    "(df > 0).all()"
   ]
  },
  {
   "cell_type": "code",
   "execution_count": 20,
   "metadata": {},
   "outputs": [
    {
     "data": {
      "text/plain": [
       "One      True\n",
       "Two      True\n",
       "Three    True\n",
       "dtype: bool"
      ]
     },
     "execution_count": 20,
     "metadata": {},
     "output_type": "execute_result"
    }
   ],
   "source": [
    "(df > 0).any()"
   ]
  },
  {
   "cell_type": "code",
   "execution_count": 22,
   "metadata": {},
   "outputs": [
    {
     "data": {
      "text/plain": [
       "True"
      ]
     },
     "execution_count": 22,
     "metadata": {},
     "output_type": "execute_result"
    }
   ],
   "source": [
    "(df > 0).any().any()"
   ]
  },
  {
   "cell_type": "code",
   "execution_count": 23,
   "metadata": {},
   "outputs": [
    {
     "data": {
      "text/plain": [
       "False"
      ]
     },
     "execution_count": 23,
     "metadata": {},
     "output_type": "execute_result"
    }
   ],
   "source": [
    "df.empty"
   ]
  },
  {
   "cell_type": "code",
   "execution_count": 24,
   "metadata": {},
   "outputs": [
    {
     "data": {
      "text/plain": [
       "True"
      ]
     },
     "execution_count": 24,
     "metadata": {},
     "output_type": "execute_result"
    }
   ],
   "source": [
    "pd.DataFrame(columns=list('ABC')).empty"
   ]
  },
  {
   "cell_type": "code",
   "execution_count": 25,
   "metadata": {},
   "outputs": [
    {
     "data": {
      "text/plain": [
       "True"
      ]
     },
     "execution_count": 25,
     "metadata": {},
     "output_type": "execute_result"
    }
   ],
   "source": [
    "pd.Series([True]).bool()"
   ]
  },
  {
   "cell_type": "code",
   "execution_count": 26,
   "metadata": {},
   "outputs": [
    {
     "data": {
      "text/plain": [
       "False"
      ]
     },
     "execution_count": 26,
     "metadata": {},
     "output_type": "execute_result"
    }
   ],
   "source": [
    "pd.Series([False]).bool()"
   ]
  },
  {
   "cell_type": "code",
   "execution_count": 28,
   "metadata": {},
   "outputs": [
    {
     "data": {
      "text/plain": [
       "True"
      ]
     },
     "execution_count": 28,
     "metadata": {},
     "output_type": "execute_result"
    }
   ],
   "source": [
    "pd.DataFrame([[True]]).bool()"
   ]
  },
  {
   "cell_type": "code",
   "execution_count": 29,
   "metadata": {},
   "outputs": [
    {
     "data": {
      "text/plain": [
       "False"
      ]
     },
     "execution_count": 29,
     "metadata": {},
     "output_type": "execute_result"
    }
   ],
   "source": [
    "pd.DataFrame([[False]]).bool()"
   ]
  },
  {
   "cell_type": "code",
   "execution_count": 43,
   "metadata": {},
   "outputs": [
    {
     "data": {
      "text/plain": [
       "True"
      ]
     },
     "execution_count": 43,
     "metadata": {},
     "output_type": "execute_result"
    }
   ],
   "source": [
    "bool(df.iloc[0][0])"
   ]
  },
  {
   "cell_type": "code",
   "execution_count": 44,
   "metadata": {},
   "outputs": [
    {
     "data": {
      "text/html": [
       "<div>\n",
       "<style scoped>\n",
       "    .dataframe tbody tr th:only-of-type {\n",
       "        vertical-align: middle;\n",
       "    }\n",
       "\n",
       "    .dataframe tbody tr th {\n",
       "        vertical-align: top;\n",
       "    }\n",
       "\n",
       "    .dataframe thead th {\n",
       "        text-align: right;\n",
       "    }\n",
       "</style>\n",
       "<table border=\"1\" class=\"dataframe\">\n",
       "  <thead>\n",
       "    <tr style=\"text-align: right;\">\n",
       "      <th></th>\n",
       "      <th>One</th>\n",
       "      <th>Two</th>\n",
       "      <th>Three</th>\n",
       "    </tr>\n",
       "  </thead>\n",
       "  <tbody>\n",
       "    <tr>\n",
       "      <th>a</th>\n",
       "      <td>2.789962</td>\n",
       "      <td>3.545034</td>\n",
       "      <td>NaN</td>\n",
       "    </tr>\n",
       "    <tr>\n",
       "      <th>b</th>\n",
       "      <td>0.686108</td>\n",
       "      <td>3.824246</td>\n",
       "      <td>-0.100780</td>\n",
       "    </tr>\n",
       "    <tr>\n",
       "      <th>c</th>\n",
       "      <td>1.390492</td>\n",
       "      <td>2.956738</td>\n",
       "      <td>2.454870</td>\n",
       "    </tr>\n",
       "    <tr>\n",
       "      <th>d</th>\n",
       "      <td>NaN</td>\n",
       "      <td>0.558688</td>\n",
       "      <td>-1.226344</td>\n",
       "    </tr>\n",
       "  </tbody>\n",
       "</table>\n",
       "</div>"
      ],
      "text/plain": [
       "        One       Two     Three\n",
       "a  2.789962  3.545034       NaN\n",
       "b  0.686108  3.824246 -0.100780\n",
       "c  1.390492  2.956738  2.454870\n",
       "d       NaN  0.558688 -1.226344"
      ]
     },
     "execution_count": 44,
     "metadata": {},
     "output_type": "execute_result"
    }
   ],
   "source": [
    "df + df"
   ]
  },
  {
   "cell_type": "code",
   "execution_count": 45,
   "metadata": {},
   "outputs": [
    {
     "data": {
      "text/html": [
       "<div>\n",
       "<style scoped>\n",
       "    .dataframe tbody tr th:only-of-type {\n",
       "        vertical-align: middle;\n",
       "    }\n",
       "\n",
       "    .dataframe tbody tr th {\n",
       "        vertical-align: top;\n",
       "    }\n",
       "\n",
       "    .dataframe thead th {\n",
       "        text-align: right;\n",
       "    }\n",
       "</style>\n",
       "<table border=\"1\" class=\"dataframe\">\n",
       "  <thead>\n",
       "    <tr style=\"text-align: right;\">\n",
       "      <th></th>\n",
       "      <th>One</th>\n",
       "      <th>Two</th>\n",
       "      <th>Three</th>\n",
       "    </tr>\n",
       "  </thead>\n",
       "  <tbody>\n",
       "    <tr>\n",
       "      <th>a</th>\n",
       "      <td>2.789962</td>\n",
       "      <td>3.545034</td>\n",
       "      <td>NaN</td>\n",
       "    </tr>\n",
       "    <tr>\n",
       "      <th>b</th>\n",
       "      <td>0.686108</td>\n",
       "      <td>3.824246</td>\n",
       "      <td>-0.100780</td>\n",
       "    </tr>\n",
       "    <tr>\n",
       "      <th>c</th>\n",
       "      <td>1.390492</td>\n",
       "      <td>2.956738</td>\n",
       "      <td>2.454870</td>\n",
       "    </tr>\n",
       "    <tr>\n",
       "      <th>d</th>\n",
       "      <td>NaN</td>\n",
       "      <td>0.558688</td>\n",
       "      <td>-1.226344</td>\n",
       "    </tr>\n",
       "  </tbody>\n",
       "</table>\n",
       "</div>"
      ],
      "text/plain": [
       "        One       Two     Three\n",
       "a  2.789962  3.545034       NaN\n",
       "b  0.686108  3.824246 -0.100780\n",
       "c  1.390492  2.956738  2.454870\n",
       "d       NaN  0.558688 -1.226344"
      ]
     },
     "execution_count": 45,
     "metadata": {},
     "output_type": "execute_result"
    }
   ],
   "source": [
    "df * 2"
   ]
  },
  {
   "cell_type": "code",
   "execution_count": 49,
   "metadata": {},
   "outputs": [
    {
     "data": {
      "text/html": [
       "<div>\n",
       "<style scoped>\n",
       "    .dataframe tbody tr th:only-of-type {\n",
       "        vertical-align: middle;\n",
       "    }\n",
       "\n",
       "    .dataframe tbody tr th {\n",
       "        vertical-align: top;\n",
       "    }\n",
       "\n",
       "    .dataframe thead th {\n",
       "        text-align: right;\n",
       "    }\n",
       "</style>\n",
       "<table border=\"1\" class=\"dataframe\">\n",
       "  <thead>\n",
       "    <tr style=\"text-align: right;\">\n",
       "      <th></th>\n",
       "      <th>One</th>\n",
       "      <th>Two</th>\n",
       "      <th>Three</th>\n",
       "    </tr>\n",
       "  </thead>\n",
       "  <tbody>\n",
       "    <tr>\n",
       "      <th>a</th>\n",
       "      <td>True</td>\n",
       "      <td>True</td>\n",
       "      <td>False</td>\n",
       "    </tr>\n",
       "    <tr>\n",
       "      <th>b</th>\n",
       "      <td>True</td>\n",
       "      <td>True</td>\n",
       "      <td>True</td>\n",
       "    </tr>\n",
       "    <tr>\n",
       "      <th>c</th>\n",
       "      <td>True</td>\n",
       "      <td>True</td>\n",
       "      <td>True</td>\n",
       "    </tr>\n",
       "    <tr>\n",
       "      <th>d</th>\n",
       "      <td>False</td>\n",
       "      <td>True</td>\n",
       "      <td>True</td>\n",
       "    </tr>\n",
       "  </tbody>\n",
       "</table>\n",
       "</div>"
      ],
      "text/plain": [
       "     One   Two  Three\n",
       "a   True  True  False\n",
       "b   True  True   True\n",
       "c   True  True   True\n",
       "d  False  True   True"
      ]
     },
     "execution_count": 49,
     "metadata": {},
     "output_type": "execute_result"
    }
   ],
   "source": [
    "# False 끼리의 논리연산은 False를 반환한다.\n",
    "df + df == df * 2"
   ]
  },
  {
   "cell_type": "code",
   "execution_count": 50,
   "metadata": {},
   "outputs": [
    {
     "data": {
      "text/plain": [
       "True"
      ]
     },
     "execution_count": 50,
     "metadata": {},
     "output_type": "execute_result"
    }
   ],
   "source": [
    "(df + df).equals(df * 2)"
   ]
  },
  {
   "cell_type": "code",
   "execution_count": 51,
   "metadata": {},
   "outputs": [
    {
     "data": {
      "text/plain": [
       "0    False\n",
       "1     True\n",
       "2    False\n",
       "dtype: bool"
      ]
     },
     "execution_count": 51,
     "metadata": {},
     "output_type": "execute_result"
    }
   ],
   "source": [
    "pd.Series(['One', 'Two', 'Three']) == 'Two'"
   ]
  },
  {
   "cell_type": "code",
   "execution_count": 52,
   "metadata": {},
   "outputs": [
    {
     "data": {
      "text/plain": [
       "array([False,  True, False])"
      ]
     },
     "execution_count": 52,
     "metadata": {},
     "output_type": "execute_result"
    }
   ],
   "source": [
    "pd.Index(['Four', 'Five', 'Six']) == 'Five'"
   ]
  },
  {
   "cell_type": "code",
   "execution_count": 53,
   "metadata": {},
   "outputs": [
    {
     "data": {
      "text/plain": [
       "0     True\n",
       "1    False\n",
       "2    False\n",
       "dtype: bool"
      ]
     },
     "execution_count": 53,
     "metadata": {},
     "output_type": "execute_result"
    }
   ],
   "source": [
    "pd.Series(['One', 'Two', 'Three']) == pd.Index(['One', 'Five', 'Six'])"
   ]
  },
  {
   "cell_type": "code",
   "execution_count": 54,
   "metadata": {},
   "outputs": [
    {
     "data": {
      "text/plain": [
       "0     True\n",
       "1    False\n",
       "2    False\n",
       "dtype: bool"
      ]
     },
     "execution_count": 54,
     "metadata": {},
     "output_type": "execute_result"
    }
   ],
   "source": [
    "pd.Series(['One', 'Two', 'Three']) == np.array(['One', 'Five', 'Six'])"
   ]
  },
  {
   "cell_type": "code",
   "execution_count": 56,
   "metadata": {},
   "outputs": [
    {
     "data": {
      "text/plain": [
       "array([ True, False, False])"
      ]
     },
     "execution_count": 56,
     "metadata": {},
     "output_type": "execute_result"
    }
   ],
   "source": [
    "np.array([1,2,3]) == np.array([1])"
   ]
  },
  {
   "cell_type": "code",
   "execution_count": 2,
   "metadata": {},
   "outputs": [],
   "source": [
    "df1 = pd.DataFrame({'A' : [1., np.nan, 3., 5., np.nan],\n",
    "                   'B' : [np.nan, 2., 3., np.nan, 6.]})"
   ]
  },
  {
   "cell_type": "code",
   "execution_count": 8,
   "metadata": {},
   "outputs": [
    {
     "name": "stdout",
     "output_type": "stream",
     "text": [
      "|    |   A |   B |\n",
      "|---:|----:|----:|\n",
      "|  0 |   1 | nan |\n",
      "|  1 | nan |   2 |\n",
      "|  2 |   3 |   3 |\n",
      "|  3 |   5 | nan |\n",
      "|  4 | nan |   6 |\n"
     ]
    }
   ],
   "source": [
    "print(df1.to_markdown())"
   ]
  },
  {
   "cell_type": "code",
   "execution_count": 4,
   "metadata": {},
   "outputs": [],
   "source": [
    "df2 = pd.DataFrame({'A' : [5., 2., 4., np.nan, 3., 7.],\n",
    "                   'B' : [np.nan, np.nan, 3., 4., 6., 8.]})"
   ]
  },
  {
   "cell_type": "code",
   "execution_count": 9,
   "metadata": {},
   "outputs": [
    {
     "name": "stdout",
     "output_type": "stream",
     "text": [
      "|    |   A |   B |\n",
      "|---:|----:|----:|\n",
      "|  0 |   5 | nan |\n",
      "|  1 |   2 | nan |\n",
      "|  2 |   4 |   3 |\n",
      "|  3 | nan |   4 |\n",
      "|  4 |   3 |   6 |\n",
      "|  5 |   7 |   8 |\n"
     ]
    }
   ],
   "source": [
    "print(df2.to_markdown())"
   ]
  },
  {
   "cell_type": "code",
   "execution_count": 10,
   "metadata": {},
   "outputs": [],
   "source": [
    "a = df1.combine_first(df2)"
   ]
  },
  {
   "cell_type": "code",
   "execution_count": 11,
   "metadata": {},
   "outputs": [
    {
     "name": "stdout",
     "output_type": "stream",
     "text": [
      "|    |   A |   B |\n",
      "|---:|----:|----:|\n",
      "|  0 |   1 | nan |\n",
      "|  1 |   2 |   2 |\n",
      "|  2 |   3 |   3 |\n",
      "|  3 |   5 |   4 |\n",
      "|  4 |   3 |   6 |\n",
      "|  5 |   7 |   8 |\n"
     ]
    }
   ],
   "source": [
    "print(a.to_markdown())"
   ]
  },
  {
   "cell_type": "code",
   "execution_count": 12,
   "metadata": {},
   "outputs": [],
   "source": [
    "b = df2.combine_first(df1)"
   ]
  },
  {
   "cell_type": "code",
   "execution_count": 13,
   "metadata": {},
   "outputs": [
    {
     "name": "stdout",
     "output_type": "stream",
     "text": [
      "|    |   A |   B |\n",
      "|---:|----:|----:|\n",
      "|  0 |   5 | nan |\n",
      "|  1 |   2 |   2 |\n",
      "|  2 |   4 |   3 |\n",
      "|  3 |   5 |   4 |\n",
      "|  4 |   3 |   6 |\n",
      "|  5 |   7 |   8 |\n"
     ]
    }
   ],
   "source": [
    "print(b.to_markdown())"
   ]
  },
  {
   "cell_type": "code",
   "execution_count": 17,
   "metadata": {},
   "outputs": [
    {
     "name": "stdout",
     "output_type": "stream",
     "text": [
      "|    |        One |      Two |      Three |\n",
      "|:---|-----------:|---------:|-----------:|\n",
      "| a  |   1.39498  | 1.77252  | nan        |\n",
      "| b  |   0.343054 | 1.91212  |  -0.05039  |\n",
      "| c  |   0.695246 | 1.47837  |   1.22744  |\n",
      "| d  | nan        | 0.279344 |  -0.613172 |\n"
     ]
    }
   ],
   "source": [
    "print(df.to_markdown())"
   ]
  },
  {
   "cell_type": "code",
   "execution_count": 18,
   "metadata": {},
   "outputs": [
    {
     "data": {
      "text/plain": [
       "One      0.811094\n",
       "Two      1.360588\n",
       "Three    0.187958\n",
       "dtype: float64"
      ]
     },
     "execution_count": 18,
     "metadata": {},
     "output_type": "execute_result"
    }
   ],
   "source": [
    "df.mean(0)"
   ]
  },
  {
   "cell_type": "code",
   "execution_count": 19,
   "metadata": {},
   "outputs": [
    {
     "data": {
      "text/plain": [
       "a    1.583749\n",
       "b    0.734929\n",
       "c    1.133683\n",
       "d   -0.166914\n",
       "dtype: float64"
      ]
     },
     "execution_count": 19,
     "metadata": {},
     "output_type": "execute_result"
    }
   ],
   "source": [
    "df.mean(1)"
   ]
  },
  {
   "cell_type": "code",
   "execution_count": 21,
   "metadata": {},
   "outputs": [
    {
     "data": {
      "text/plain": [
       "One           NaN\n",
       "Two      5.442353\n",
       "Three         NaN\n",
       "dtype: float64"
      ]
     },
     "execution_count": 21,
     "metadata": {},
     "output_type": "execute_result"
    }
   ],
   "source": [
    "df.sum(0, skipna=False)"
   ]
  },
  {
   "cell_type": "code",
   "execution_count": 22,
   "metadata": {},
   "outputs": [
    {
     "data": {
      "text/plain": [
       "a    3.167498\n",
       "b    2.204787\n",
       "c    3.401050\n",
       "d   -0.333828\n",
       "dtype: float64"
      ]
     },
     "execution_count": 22,
     "metadata": {},
     "output_type": "execute_result"
    }
   ],
   "source": [
    "df.sum(axis=1, skipna=True)"
   ]
  },
  {
   "cell_type": "code",
   "execution_count": 23,
   "metadata": {},
   "outputs": [],
   "source": [
    "ts_stand = (df - df.mean(0)) / df.std()"
   ]
  },
  {
   "cell_type": "code",
   "execution_count": 24,
   "metadata": {},
   "outputs": [
    {
     "data": {
      "text/plain": [
       "One      1.0\n",
       "Two      1.0\n",
       "Three    1.0\n",
       "dtype: float64"
      ]
     },
     "execution_count": 24,
     "metadata": {},
     "output_type": "execute_result"
    }
   ],
   "source": [
    "ts_stand.std()"
   ]
  },
  {
   "cell_type": "code",
   "execution_count": 25,
   "metadata": {},
   "outputs": [],
   "source": [
    "xs_stand = df.sub(df.mean(1), axis=0).div(df.std(1), axis=0)"
   ]
  },
  {
   "cell_type": "code",
   "execution_count": 26,
   "metadata": {},
   "outputs": [
    {
     "data": {
      "text/html": [
       "<div>\n",
       "<style scoped>\n",
       "    .dataframe tbody tr th:only-of-type {\n",
       "        vertical-align: middle;\n",
       "    }\n",
       "\n",
       "    .dataframe tbody tr th {\n",
       "        vertical-align: top;\n",
       "    }\n",
       "\n",
       "    .dataframe thead th {\n",
       "        text-align: right;\n",
       "    }\n",
       "</style>\n",
       "<table border=\"1\" class=\"dataframe\">\n",
       "  <thead>\n",
       "    <tr style=\"text-align: right;\">\n",
       "      <th></th>\n",
       "      <th>One</th>\n",
       "      <th>Two</th>\n",
       "      <th>Three</th>\n",
       "    </tr>\n",
       "  </thead>\n",
       "  <tbody>\n",
       "    <tr>\n",
       "      <th>a</th>\n",
       "      <td>-0.707107</td>\n",
       "      <td>0.707107</td>\n",
       "      <td>NaN</td>\n",
       "    </tr>\n",
       "    <tr>\n",
       "      <th>b</th>\n",
       "      <td>-0.377425</td>\n",
       "      <td>1.133785</td>\n",
       "      <td>-0.756361</td>\n",
       "    </tr>\n",
       "    <tr>\n",
       "      <th>c</th>\n",
       "      <td>-1.096393</td>\n",
       "      <td>0.861950</td>\n",
       "      <td>0.234443</td>\n",
       "    </tr>\n",
       "    <tr>\n",
       "      <th>d</th>\n",
       "      <td>NaN</td>\n",
       "      <td>0.707107</td>\n",
       "      <td>-0.707107</td>\n",
       "    </tr>\n",
       "  </tbody>\n",
       "</table>\n",
       "</div>"
      ],
      "text/plain": [
       "        One       Two     Three\n",
       "a -0.707107  0.707107       NaN\n",
       "b -0.377425  1.133785 -0.756361\n",
       "c -1.096393  0.861950  0.234443\n",
       "d       NaN  0.707107 -0.707107"
      ]
     },
     "execution_count": 26,
     "metadata": {},
     "output_type": "execute_result"
    }
   ],
   "source": [
    "xs_stand"
   ]
  },
  {
   "cell_type": "code",
   "execution_count": 29,
   "metadata": {},
   "outputs": [
    {
     "name": "stdout",
     "output_type": "stream",
     "text": [
      "|    |        One |      Two |      Three |\n",
      "|:---|-----------:|---------:|-----------:|\n",
      "| a  |  -0.707107 | 0.707107 | nan        |\n",
      "| b  |  -0.377425 | 1.13379  |  -0.756361 |\n",
      "| c  |  -1.09639  | 0.86195  |   0.234443 |\n",
      "| d  | nan        | 0.707107 |  -0.707107 |\n"
     ]
    }
   ],
   "source": [
    "print(xs_stand.to_markdown())"
   ]
  },
  {
   "cell_type": "code",
   "execution_count": 28,
   "metadata": {},
   "outputs": [
    {
     "data": {
      "text/plain": [
       "a    1.0\n",
       "b    1.0\n",
       "c    1.0\n",
       "d    1.0\n",
       "dtype: float64"
      ]
     },
     "execution_count": 28,
     "metadata": {},
     "output_type": "execute_result"
    }
   ],
   "source": [
    "xs_stand.std(1)"
   ]
  },
  {
   "cell_type": "code",
   "execution_count": 33,
   "metadata": {},
   "outputs": [
    {
     "data": {
      "text/html": [
       "<div>\n",
       "<style scoped>\n",
       "    .dataframe tbody tr th:only-of-type {\n",
       "        vertical-align: middle;\n",
       "    }\n",
       "\n",
       "    .dataframe tbody tr th {\n",
       "        vertical-align: top;\n",
       "    }\n",
       "\n",
       "    .dataframe thead th {\n",
       "        text-align: right;\n",
       "    }\n",
       "</style>\n",
       "<table border=\"1\" class=\"dataframe\">\n",
       "  <thead>\n",
       "    <tr style=\"text-align: right;\">\n",
       "      <th></th>\n",
       "      <th>One</th>\n",
       "      <th>Two</th>\n",
       "      <th>Three</th>\n",
       "    </tr>\n",
       "  </thead>\n",
       "  <tbody>\n",
       "    <tr>\n",
       "      <th>a</th>\n",
       "      <td>1.394981</td>\n",
       "      <td>1.772517</td>\n",
       "      <td>NaN</td>\n",
       "    </tr>\n",
       "    <tr>\n",
       "      <th>b</th>\n",
       "      <td>1.738035</td>\n",
       "      <td>3.684640</td>\n",
       "      <td>-0.050390</td>\n",
       "    </tr>\n",
       "    <tr>\n",
       "      <th>c</th>\n",
       "      <td>2.433281</td>\n",
       "      <td>5.163009</td>\n",
       "      <td>1.177045</td>\n",
       "    </tr>\n",
       "    <tr>\n",
       "      <th>d</th>\n",
       "      <td>NaN</td>\n",
       "      <td>5.442353</td>\n",
       "      <td>0.563873</td>\n",
       "    </tr>\n",
       "  </tbody>\n",
       "</table>\n",
       "</div>"
      ],
      "text/plain": [
       "        One       Two     Three\n",
       "a  1.394981  1.772517       NaN\n",
       "b  1.738035  3.684640 -0.050390\n",
       "c  2.433281  5.163009  1.177045\n",
       "d       NaN  5.442353  0.563873"
      ]
     },
     "execution_count": 33,
     "metadata": {},
     "output_type": "execute_result"
    }
   ],
   "source": [
    "df.cumsum()"
   ]
  },
  {
   "cell_type": "code",
   "execution_count": 36,
   "metadata": {},
   "outputs": [
    {
     "data": {
      "text/plain": [
       "0.8110936666666667"
      ]
     },
     "execution_count": 36,
     "metadata": {},
     "output_type": "execute_result"
    }
   ],
   "source": [
    "np.mean(df['One'])"
   ]
  },
  {
   "cell_type": "code",
   "execution_count": 38,
   "metadata": {},
   "outputs": [
    {
     "data": {
      "text/plain": [
       "nan"
      ]
     },
     "execution_count": 38,
     "metadata": {},
     "output_type": "execute_result"
    }
   ],
   "source": [
    "np.mean(df['One'].to_numpy())"
   ]
  },
  {
   "cell_type": "code",
   "execution_count": 39,
   "metadata": {},
   "outputs": [],
   "source": [
    "Series = pd.Series(np.random.randn(500))"
   ]
  },
  {
   "cell_type": "code",
   "execution_count": 41,
   "metadata": {},
   "outputs": [],
   "source": [
    "Series[20:200] = np.nan"
   ]
  },
  {
   "cell_type": "code",
   "execution_count": 42,
   "metadata": {},
   "outputs": [],
   "source": [
    "Series[10:20] = 5"
   ]
  },
  {
   "cell_type": "code",
   "execution_count": 43,
   "metadata": {},
   "outputs": [
    {
     "data": {
      "text/plain": [
       "311"
      ]
     },
     "execution_count": 43,
     "metadata": {},
     "output_type": "execute_result"
    }
   ],
   "source": [
    "Series.nunique()"
   ]
  },
  {
   "cell_type": "code",
   "execution_count": 44,
   "metadata": {},
   "outputs": [],
   "source": [
    "series = pd.Series(np.random.randn(1000))"
   ]
  },
  {
   "cell_type": "code",
   "execution_count": 45,
   "metadata": {},
   "outputs": [],
   "source": [
    "series[::2] = np.nan"
   ]
  },
  {
   "cell_type": "code",
   "execution_count": 47,
   "metadata": {},
   "outputs": [
    {
     "data": {
      "text/plain": [
       "count    500.000000\n",
       "mean      -0.104046\n",
       "std        0.973392\n",
       "min       -3.459899\n",
       "25%       -0.705669\n",
       "50%       -0.057655\n",
       "75%        0.559557\n",
       "max        3.115283\n",
       "dtype: float64"
      ]
     },
     "execution_count": 47,
     "metadata": {},
     "output_type": "execute_result"
    }
   ],
   "source": [
    "series.describe()"
   ]
  },
  {
   "cell_type": "code",
   "execution_count": 48,
   "metadata": {},
   "outputs": [],
   "source": [
    "df = pd.DataFrame(np.random.randn(1000,5), columns=['a','b','c','d','e'])"
   ]
  },
  {
   "cell_type": "code",
   "execution_count": 50,
   "metadata": {},
   "outputs": [],
   "source": [
    "df.iloc[::2] = np.nan"
   ]
  },
  {
   "cell_type": "code",
   "execution_count": 52,
   "metadata": {},
   "outputs": [],
   "source": [
    "a = df.describe()"
   ]
  },
  {
   "cell_type": "code",
   "execution_count": 53,
   "metadata": {},
   "outputs": [
    {
     "name": "stdout",
     "output_type": "stream",
     "text": [
      "|       |           a |           b |           c |           d |           e |\n",
      "|:------|------------:|------------:|------------:|------------:|------------:|\n",
      "| count | 500         | 500         | 500         | 500         | 500         |\n",
      "| mean  |  -0.0098391 |  -0.0217725 |  -0.0133153 |   0.0329154 |   0.0208793 |\n",
      "| std   |   1.04484   |   1.02411   |   1.03689   |   0.991465  |   1.01293   |\n",
      "| min   |  -3.15347   |  -2.56002   |  -2.98677   |  -2.66778   |  -2.99676   |\n",
      "| 25%   |  -0.736796  |  -0.682348  |  -0.716998  |  -0.616957  |  -0.754231  |\n",
      "| 50%   |   0.0153571 |  -0.124131  |  -0.0624372 |   0.0335433 |   0.0098666 |\n",
      "| 75%   |   0.683469  |   0.678965  |   0.686431  |   0.705677  |   0.736733  |\n",
      "| max   |   3.26103   |   3.05544   |   3.11557   |   3.24525   |   2.79697   |\n"
     ]
    }
   ],
   "source": [
    "print(a.to_markdown())"
   ]
  },
  {
   "cell_type": "code",
   "execution_count": 54,
   "metadata": {},
   "outputs": [
    {
     "data": {
      "text/plain": [
       "count    500.000000\n",
       "mean      -0.104046\n",
       "std        0.973392\n",
       "min       -3.459899\n",
       "5%        -1.804095\n",
       "25%       -0.705669\n",
       "50%       -0.057655\n",
       "75%        0.559557\n",
       "95%        1.402325\n",
       "max        3.115283\n",
       "dtype: float64"
      ]
     },
     "execution_count": 54,
     "metadata": {},
     "output_type": "execute_result"
    }
   ],
   "source": [
    "series.describe(percentiles=[.05, .25, .75, .95])"
   ]
  },
  {
   "cell_type": "code",
   "execution_count": 55,
   "metadata": {},
   "outputs": [],
   "source": [
    "s = pd.Series(['a','a','a','b','b',np.nan,'c','d','a'])"
   ]
  },
  {
   "cell_type": "code",
   "execution_count": 56,
   "metadata": {},
   "outputs": [
    {
     "data": {
      "text/plain": [
       "count     8\n",
       "unique    4\n",
       "top       a\n",
       "freq      4\n",
       "dtype: object"
      ]
     },
     "execution_count": 56,
     "metadata": {},
     "output_type": "execute_result"
    }
   ],
   "source": [
    "s.describe()"
   ]
  },
  {
   "cell_type": "code",
   "execution_count": 57,
   "metadata": {},
   "outputs": [],
   "source": [
    "df = pd.DataFrame({'a' : ['Yes','Yes','No','No'], 'b' : range(4)})"
   ]
  },
  {
   "cell_type": "code",
   "execution_count": 61,
   "metadata": {},
   "outputs": [
    {
     "data": {
      "text/html": [
       "<div>\n",
       "<style scoped>\n",
       "    .dataframe tbody tr th:only-of-type {\n",
       "        vertical-align: middle;\n",
       "    }\n",
       "\n",
       "    .dataframe tbody tr th {\n",
       "        vertical-align: top;\n",
       "    }\n",
       "\n",
       "    .dataframe thead th {\n",
       "        text-align: right;\n",
       "    }\n",
       "</style>\n",
       "<table border=\"1\" class=\"dataframe\">\n",
       "  <thead>\n",
       "    <tr style=\"text-align: right;\">\n",
       "      <th></th>\n",
       "      <th>b</th>\n",
       "    </tr>\n",
       "  </thead>\n",
       "  <tbody>\n",
       "    <tr>\n",
       "      <th>count</th>\n",
       "      <td>4.000000</td>\n",
       "    </tr>\n",
       "    <tr>\n",
       "      <th>mean</th>\n",
       "      <td>1.500000</td>\n",
       "    </tr>\n",
       "    <tr>\n",
       "      <th>std</th>\n",
       "      <td>1.290994</td>\n",
       "    </tr>\n",
       "    <tr>\n",
       "      <th>min</th>\n",
       "      <td>0.000000</td>\n",
       "    </tr>\n",
       "    <tr>\n",
       "      <th>25%</th>\n",
       "      <td>0.750000</td>\n",
       "    </tr>\n",
       "    <tr>\n",
       "      <th>50%</th>\n",
       "      <td>1.500000</td>\n",
       "    </tr>\n",
       "    <tr>\n",
       "      <th>75%</th>\n",
       "      <td>2.250000</td>\n",
       "    </tr>\n",
       "    <tr>\n",
       "      <th>max</th>\n",
       "      <td>3.000000</td>\n",
       "    </tr>\n",
       "  </tbody>\n",
       "</table>\n",
       "</div>"
      ],
      "text/plain": [
       "              b\n",
       "count  4.000000\n",
       "mean   1.500000\n",
       "std    1.290994\n",
       "min    0.000000\n",
       "25%    0.750000\n",
       "50%    1.500000\n",
       "75%    2.250000\n",
       "max    3.000000"
      ]
     },
     "execution_count": 61,
     "metadata": {},
     "output_type": "execute_result"
    }
   ],
   "source": [
    "df.describe()"
   ]
  },
  {
   "cell_type": "code",
   "execution_count": 68,
   "metadata": {},
   "outputs": [
    {
     "data": {
      "text/html": [
       "<div>\n",
       "<style scoped>\n",
       "    .dataframe tbody tr th:only-of-type {\n",
       "        vertical-align: middle;\n",
       "    }\n",
       "\n",
       "    .dataframe tbody tr th {\n",
       "        vertical-align: top;\n",
       "    }\n",
       "\n",
       "    .dataframe thead th {\n",
       "        text-align: right;\n",
       "    }\n",
       "</style>\n",
       "<table border=\"1\" class=\"dataframe\">\n",
       "  <thead>\n",
       "    <tr style=\"text-align: right;\">\n",
       "      <th></th>\n",
       "      <th>a</th>\n",
       "    </tr>\n",
       "  </thead>\n",
       "  <tbody>\n",
       "    <tr>\n",
       "      <th>count</th>\n",
       "      <td>4</td>\n",
       "    </tr>\n",
       "    <tr>\n",
       "      <th>unique</th>\n",
       "      <td>2</td>\n",
       "    </tr>\n",
       "    <tr>\n",
       "      <th>top</th>\n",
       "      <td>No</td>\n",
       "    </tr>\n",
       "    <tr>\n",
       "      <th>freq</th>\n",
       "      <td>2</td>\n",
       "    </tr>\n",
       "  </tbody>\n",
       "</table>\n",
       "</div>"
      ],
      "text/plain": [
       "         a\n",
       "count    4\n",
       "unique   2\n",
       "top     No\n",
       "freq     2"
      ]
     },
     "execution_count": 68,
     "metadata": {},
     "output_type": "execute_result"
    }
   ],
   "source": [
    "df.describe(include=['object'])"
   ]
  },
  {
   "cell_type": "code",
   "execution_count": 71,
   "metadata": {},
   "outputs": [
    {
     "data": {
      "text/html": [
       "<div>\n",
       "<style scoped>\n",
       "    .dataframe tbody tr th:only-of-type {\n",
       "        vertical-align: middle;\n",
       "    }\n",
       "\n",
       "    .dataframe tbody tr th {\n",
       "        vertical-align: top;\n",
       "    }\n",
       "\n",
       "    .dataframe thead th {\n",
       "        text-align: right;\n",
       "    }\n",
       "</style>\n",
       "<table border=\"1\" class=\"dataframe\">\n",
       "  <thead>\n",
       "    <tr style=\"text-align: right;\">\n",
       "      <th></th>\n",
       "      <th>b</th>\n",
       "    </tr>\n",
       "  </thead>\n",
       "  <tbody>\n",
       "    <tr>\n",
       "      <th>count</th>\n",
       "      <td>4.000000</td>\n",
       "    </tr>\n",
       "    <tr>\n",
       "      <th>mean</th>\n",
       "      <td>1.500000</td>\n",
       "    </tr>\n",
       "    <tr>\n",
       "      <th>std</th>\n",
       "      <td>1.290994</td>\n",
       "    </tr>\n",
       "    <tr>\n",
       "      <th>min</th>\n",
       "      <td>0.000000</td>\n",
       "    </tr>\n",
       "    <tr>\n",
       "      <th>25%</th>\n",
       "      <td>0.750000</td>\n",
       "    </tr>\n",
       "    <tr>\n",
       "      <th>50%</th>\n",
       "      <td>1.500000</td>\n",
       "    </tr>\n",
       "    <tr>\n",
       "      <th>75%</th>\n",
       "      <td>2.250000</td>\n",
       "    </tr>\n",
       "    <tr>\n",
       "      <th>max</th>\n",
       "      <td>3.000000</td>\n",
       "    </tr>\n",
       "  </tbody>\n",
       "</table>\n",
       "</div>"
      ],
      "text/plain": [
       "              b\n",
       "count  4.000000\n",
       "mean   1.500000\n",
       "std    1.290994\n",
       "min    0.000000\n",
       "25%    0.750000\n",
       "50%    1.500000\n",
       "75%    2.250000\n",
       "max    3.000000"
      ]
     },
     "execution_count": 71,
     "metadata": {},
     "output_type": "execute_result"
    }
   ],
   "source": [
    "df.describe(include=['number'])"
   ]
  },
  {
   "cell_type": "code",
   "execution_count": 74,
   "metadata": {},
   "outputs": [
    {
     "data": {
      "text/html": [
       "<div>\n",
       "<style scoped>\n",
       "    .dataframe tbody tr th:only-of-type {\n",
       "        vertical-align: middle;\n",
       "    }\n",
       "\n",
       "    .dataframe tbody tr th {\n",
       "        vertical-align: top;\n",
       "    }\n",
       "\n",
       "    .dataframe thead th {\n",
       "        text-align: right;\n",
       "    }\n",
       "</style>\n",
       "<table border=\"1\" class=\"dataframe\">\n",
       "  <thead>\n",
       "    <tr style=\"text-align: right;\">\n",
       "      <th></th>\n",
       "      <th>a</th>\n",
       "      <th>b</th>\n",
       "    </tr>\n",
       "  </thead>\n",
       "  <tbody>\n",
       "    <tr>\n",
       "      <th>count</th>\n",
       "      <td>4</td>\n",
       "      <td>4.000000</td>\n",
       "    </tr>\n",
       "    <tr>\n",
       "      <th>unique</th>\n",
       "      <td>2</td>\n",
       "      <td>NaN</td>\n",
       "    </tr>\n",
       "    <tr>\n",
       "      <th>top</th>\n",
       "      <td>No</td>\n",
       "      <td>NaN</td>\n",
       "    </tr>\n",
       "    <tr>\n",
       "      <th>freq</th>\n",
       "      <td>2</td>\n",
       "      <td>NaN</td>\n",
       "    </tr>\n",
       "    <tr>\n",
       "      <th>mean</th>\n",
       "      <td>NaN</td>\n",
       "      <td>1.500000</td>\n",
       "    </tr>\n",
       "    <tr>\n",
       "      <th>std</th>\n",
       "      <td>NaN</td>\n",
       "      <td>1.290994</td>\n",
       "    </tr>\n",
       "    <tr>\n",
       "      <th>min</th>\n",
       "      <td>NaN</td>\n",
       "      <td>0.000000</td>\n",
       "    </tr>\n",
       "    <tr>\n",
       "      <th>25%</th>\n",
       "      <td>NaN</td>\n",
       "      <td>0.750000</td>\n",
       "    </tr>\n",
       "    <tr>\n",
       "      <th>50%</th>\n",
       "      <td>NaN</td>\n",
       "      <td>1.500000</td>\n",
       "    </tr>\n",
       "    <tr>\n",
       "      <th>75%</th>\n",
       "      <td>NaN</td>\n",
       "      <td>2.250000</td>\n",
       "    </tr>\n",
       "    <tr>\n",
       "      <th>max</th>\n",
       "      <td>NaN</td>\n",
       "      <td>3.000000</td>\n",
       "    </tr>\n",
       "  </tbody>\n",
       "</table>\n",
       "</div>"
      ],
      "text/plain": [
       "          a         b\n",
       "count     4  4.000000\n",
       "unique    2       NaN\n",
       "top      No       NaN\n",
       "freq      2       NaN\n",
       "mean    NaN  1.500000\n",
       "std     NaN  1.290994\n",
       "min     NaN  0.000000\n",
       "25%     NaN  0.750000\n",
       "50%     NaN  1.500000\n",
       "75%     NaN  2.250000\n",
       "max     NaN  3.000000"
      ]
     },
     "execution_count": 74,
     "metadata": {},
     "output_type": "execute_result"
    }
   ],
   "source": [
    "df.describe(include='all')"
   ]
  },
  {
   "cell_type": "code",
   "execution_count": 75,
   "metadata": {},
   "outputs": [],
   "source": [
    "s1 = pd.Series(np.random.randn(5))"
   ]
  },
  {
   "cell_type": "code",
   "execution_count": 76,
   "metadata": {},
   "outputs": [
    {
     "data": {
      "text/plain": [
       "0    0.013833\n",
       "1    1.375255\n",
       "2   -0.261117\n",
       "3   -1.300798\n",
       "4    0.550127\n",
       "dtype: float64"
      ]
     },
     "execution_count": 76,
     "metadata": {},
     "output_type": "execute_result"
    }
   ],
   "source": [
    "s1"
   ]
  },
  {
   "cell_type": "code",
   "execution_count": 77,
   "metadata": {},
   "outputs": [
    {
     "data": {
      "text/plain": [
       "(3, 1)"
      ]
     },
     "execution_count": 77,
     "metadata": {},
     "output_type": "execute_result"
    }
   ],
   "source": [
    "s1.idxmin(), s1.idxmax()"
   ]
  },
  {
   "cell_type": "code",
   "execution_count": 78,
   "metadata": {},
   "outputs": [],
   "source": [
    "df1 = pd.DataFrame(np.random.randn(5, 3), columns=['A','B','C'])"
   ]
  },
  {
   "cell_type": "code",
   "execution_count": 80,
   "metadata": {},
   "outputs": [
    {
     "name": "stdout",
     "output_type": "stream",
     "text": [
      "|    |          A |         B |         C |\n",
      "|---:|-----------:|----------:|----------:|\n",
      "|  0 | -0.307946  |  0.96568  |  0.854274 |\n",
      "|  1 | -0.734701  | -0.763467 |  0.805104 |\n",
      "|  2 |  0.0317531 |  0.494293 | -0.720657 |\n",
      "|  3 |  2.08982   |  0.295745 |  1.1382   |\n",
      "|  4 |  0.260457  |  0.785826 |  0.109045 |\n"
     ]
    }
   ],
   "source": [
    "print(df1.to_markdown())"
   ]
  },
  {
   "cell_type": "code",
   "execution_count": 81,
   "metadata": {},
   "outputs": [
    {
     "data": {
      "text/plain": [
       "A    1\n",
       "B    1\n",
       "C    2\n",
       "dtype: int64"
      ]
     },
     "execution_count": 81,
     "metadata": {},
     "output_type": "execute_result"
    }
   ],
   "source": [
    "df1.idxmin(axis=0)"
   ]
  },
  {
   "cell_type": "code",
   "execution_count": 82,
   "metadata": {},
   "outputs": [
    {
     "data": {
      "text/plain": [
       "0    B\n",
       "1    C\n",
       "2    B\n",
       "3    A\n",
       "4    B\n",
       "dtype: object"
      ]
     },
     "execution_count": 82,
     "metadata": {},
     "output_type": "execute_result"
    }
   ],
   "source": [
    "df1.idxmax(axis=1)"
   ]
  },
  {
   "cell_type": "code",
   "execution_count": 83,
   "metadata": {},
   "outputs": [],
   "source": [
    "df3 = pd.DataFrame([2, 1, 1, 3, np.nan], columns=['A'], index=list('edcba'))"
   ]
  },
  {
   "cell_type": "code",
   "execution_count": 85,
   "metadata": {},
   "outputs": [
    {
     "name": "stdout",
     "output_type": "stream",
     "text": [
      "|    |   A |\n",
      "|:---|----:|\n",
      "| e  |   2 |\n",
      "| d  |   1 |\n",
      "| c  |   1 |\n",
      "| b  |   3 |\n",
      "| a  | nan |\n"
     ]
    }
   ],
   "source": [
    "print(df3.to_markdown())"
   ]
  },
  {
   "cell_type": "code",
   "execution_count": 86,
   "metadata": {},
   "outputs": [
    {
     "data": {
      "text/plain": [
       "'d'"
      ]
     },
     "execution_count": 86,
     "metadata": {},
     "output_type": "execute_result"
    }
   ],
   "source": [
    "df3['A'].idxmin()"
   ]
  },
  {
   "cell_type": "code",
   "execution_count": 87,
   "metadata": {},
   "outputs": [],
   "source": [
    "data = np.random.randint(0, 7, size=50)"
   ]
  },
  {
   "cell_type": "code",
   "execution_count": 88,
   "metadata": {},
   "outputs": [
    {
     "data": {
      "text/plain": [
       "array([5, 3, 6, 1, 4, 1, 3, 0, 0, 3, 2, 4, 5, 3, 1, 4, 6, 2, 2, 1, 5, 6,\n",
       "       6, 0, 0, 4, 6, 5, 1, 4, 6, 3, 1, 3, 4, 6, 0, 4, 3, 6, 3, 6, 2, 2,\n",
       "       1, 2, 5, 3, 0, 4])"
      ]
     },
     "execution_count": 88,
     "metadata": {},
     "output_type": "execute_result"
    }
   ],
   "source": [
    "data"
   ]
  },
  {
   "cell_type": "code",
   "execution_count": 89,
   "metadata": {},
   "outputs": [],
   "source": [
    "s = pd.Series(data)"
   ]
  },
  {
   "cell_type": "code",
   "execution_count": 90,
   "metadata": {},
   "outputs": [
    {
     "data": {
      "text/plain": [
       "6    9\n",
       "3    9\n",
       "4    8\n",
       "1    7\n",
       "2    6\n",
       "0    6\n",
       "5    5\n",
       "dtype: int64"
      ]
     },
     "execution_count": 90,
     "metadata": {},
     "output_type": "execute_result"
    }
   ],
   "source": [
    "s.value_counts()"
   ]
  },
  {
   "cell_type": "code",
   "execution_count": 92,
   "metadata": {},
   "outputs": [
    {
     "data": {
      "text/plain": [
       "6    9\n",
       "3    9\n",
       "4    8\n",
       "1    7\n",
       "2    6\n",
       "0    6\n",
       "5    5\n",
       "dtype: int64"
      ]
     },
     "execution_count": 92,
     "metadata": {},
     "output_type": "execute_result"
    }
   ],
   "source": [
    "pd.value_counts(data)"
   ]
  },
  {
   "cell_type": "code",
   "execution_count": 93,
   "metadata": {},
   "outputs": [],
   "source": [
    "s5 = pd.Series([1, 1, 3, 3, 3, 5, 5, 7, 7, 7])"
   ]
  },
  {
   "cell_type": "code",
   "execution_count": 94,
   "metadata": {},
   "outputs": [
    {
     "data": {
      "text/plain": [
       "0    3\n",
       "1    7\n",
       "dtype: int64"
      ]
     },
     "execution_count": 94,
     "metadata": {},
     "output_type": "execute_result"
    }
   ],
   "source": [
    "s5.mode()"
   ]
  },
  {
   "cell_type": "code",
   "execution_count": 95,
   "metadata": {},
   "outputs": [],
   "source": [
    "df5 = pd.DataFrame({\"A\": np.random.randint(0, 7, size=50),\n",
    "               \"B\": np.random.randint(-10, 15, size=50)})"
   ]
  },
  {
   "cell_type": "code",
   "execution_count": 98,
   "metadata": {},
   "outputs": [
    {
     "data": {
      "text/html": [
       "<div>\n",
       "<style scoped>\n",
       "    .dataframe tbody tr th:only-of-type {\n",
       "        vertical-align: middle;\n",
       "    }\n",
       "\n",
       "    .dataframe tbody tr th {\n",
       "        vertical-align: top;\n",
       "    }\n",
       "\n",
       "    .dataframe thead th {\n",
       "        text-align: right;\n",
       "    }\n",
       "</style>\n",
       "<table border=\"1\" class=\"dataframe\">\n",
       "  <thead>\n",
       "    <tr style=\"text-align: right;\">\n",
       "      <th></th>\n",
       "      <th>A</th>\n",
       "      <th>B</th>\n",
       "    </tr>\n",
       "  </thead>\n",
       "  <tbody>\n",
       "    <tr>\n",
       "      <th>0</th>\n",
       "      <td>1</td>\n",
       "      <td>3</td>\n",
       "    </tr>\n",
       "  </tbody>\n",
       "</table>\n",
       "</div>"
      ],
      "text/plain": [
       "   A  B\n",
       "0  1  3"
      ]
     },
     "execution_count": 98,
     "metadata": {},
     "output_type": "execute_result"
    }
   ],
   "source": [
    "df5.mode()"
   ]
  },
  {
   "cell_type": "code",
   "execution_count": 99,
   "metadata": {},
   "outputs": [],
   "source": [
    "arr = np.random.randn(20)"
   ]
  },
  {
   "cell_type": "code",
   "execution_count": 100,
   "metadata": {},
   "outputs": [
    {
     "data": {
      "text/plain": [
       "array([-0.99357841,  1.57974431, -0.60909831, -1.36768082, -0.7160791 ,\n",
       "       -0.02279333, -0.39298072, -1.45827772, -0.02566391,  0.92865122,\n",
       "        0.82623857,  1.41247274,  1.16325227,  0.92048371, -1.81958929,\n",
       "        0.73825483, -0.28654464,  1.06215868, -1.01476624,  0.31787862])"
      ]
     },
     "execution_count": 100,
     "metadata": {},
     "output_type": "execute_result"
    }
   ],
   "source": [
    "arr"
   ]
  },
  {
   "cell_type": "code",
   "execution_count": 101,
   "metadata": {},
   "outputs": [],
   "source": [
    "factor = pd.cut(arr, 4)"
   ]
  },
  {
   "cell_type": "code",
   "execution_count": 102,
   "metadata": {},
   "outputs": [
    {
     "data": {
      "text/plain": [
       "[(-1.823, -0.97], (0.73, 1.58], (-0.97, -0.12], (-1.823, -0.97], (-0.97, -0.12], ..., (0.73, 1.58], (-0.97, -0.12], (0.73, 1.58], (-1.823, -0.97], (-0.12, 0.73]]\n",
       "Length: 20\n",
       "Categories (4, interval[float64]): [(-1.823, -0.97] < (-0.97, -0.12] < (-0.12, 0.73] < (0.73, 1.58]]"
      ]
     },
     "execution_count": 102,
     "metadata": {},
     "output_type": "execute_result"
    }
   ],
   "source": [
    "factor"
   ]
  },
  {
   "cell_type": "code",
   "execution_count": 103,
   "metadata": {},
   "outputs": [],
   "source": [
    "factor = pd.cut(arr, [-5, -1, 0, 1, 5])"
   ]
  },
  {
   "cell_type": "code",
   "execution_count": 104,
   "metadata": {},
   "outputs": [
    {
     "data": {
      "text/plain": [
       "[(-1, 0], (1, 5], (-1, 0], (-5, -1], (-1, 0], ..., (0, 1], (-1, 0], (1, 5], (-5, -1], (0, 1]]\n",
       "Length: 20\n",
       "Categories (4, interval[int64]): [(-5, -1] < (-1, 0] < (0, 1] < (1, 5]]"
      ]
     },
     "execution_count": 104,
     "metadata": {},
     "output_type": "execute_result"
    }
   ],
   "source": [
    "factor"
   ]
  },
  {
   "cell_type": "code",
   "execution_count": 105,
   "metadata": {},
   "outputs": [],
   "source": [
    "arr = np.random.randn(30)"
   ]
  },
  {
   "cell_type": "code",
   "execution_count": 106,
   "metadata": {},
   "outputs": [
    {
     "data": {
      "text/plain": [
       "array([ 1.15079381,  0.49939784, -0.15594853, -0.5517254 , -0.23522974,\n",
       "       -1.69728499, -0.80471605, -0.72416246,  0.79870411,  1.28311701,\n",
       "       -0.26005877,  0.4855533 ,  0.49194232, -1.89062664, -0.43397157,\n",
       "        0.77145788, -0.32865781,  0.36810471, -1.76766844, -0.74308291,\n",
       "       -0.05939578,  1.55420964, -0.82908721,  0.92783387,  0.55435694,\n",
       "        0.10418023,  0.3697685 , -0.39919188,  1.13068469, -0.15891597])"
      ]
     },
     "execution_count": 106,
     "metadata": {},
     "output_type": "execute_result"
    }
   ],
   "source": [
    "arr"
   ]
  },
  {
   "cell_type": "code",
   "execution_count": 107,
   "metadata": {},
   "outputs": [],
   "source": [
    "factor = pd.qcut(arr, [0, .25, .5, .75, 1])"
   ]
  },
  {
   "cell_type": "code",
   "execution_count": 108,
   "metadata": {},
   "outputs": [
    {
     "data": {
      "text/plain": [
       "[(0.541, 1.554], (-0.108, 0.541], (-0.522, -0.108], (-1.892, -0.522], (-0.522, -0.108], ..., (-0.108, 0.541], (-0.108, 0.541], (-0.522, -0.108], (0.541, 1.554], (-0.522, -0.108]]\n",
       "Length: 30\n",
       "Categories (4, interval[float64]): [(-1.892, -0.522] < (-0.522, -0.108] < (-0.108, 0.541] < (0.541, 1.554]]"
      ]
     },
     "execution_count": 108,
     "metadata": {},
     "output_type": "execute_result"
    }
   ],
   "source": [
    "factor"
   ]
  },
  {
   "cell_type": "code",
   "execution_count": 109,
   "metadata": {},
   "outputs": [
    {
     "data": {
      "text/plain": [
       "(0.541, 1.554]      8\n",
       "(-1.892, -0.522]    8\n",
       "(-0.108, 0.541]     7\n",
       "(-0.522, -0.108]    7\n",
       "dtype: int64"
      ]
     },
     "execution_count": 109,
     "metadata": {},
     "output_type": "execute_result"
    }
   ],
   "source": [
    "pd.value_counts(factor)"
   ]
  },
  {
   "cell_type": "code",
   "execution_count": 110,
   "metadata": {},
   "outputs": [],
   "source": [
    "arr = np.random.randn(20)"
   ]
  },
  {
   "cell_type": "code",
   "execution_count": 111,
   "metadata": {},
   "outputs": [],
   "source": [
    "factor = pd.cut(arr, [-np.inf, 0, np.inf])"
   ]
  },
  {
   "cell_type": "code",
   "execution_count": 112,
   "metadata": {},
   "outputs": [
    {
     "data": {
      "text/plain": [
       "[(0.0, inf], (0.0, inf], (0.0, inf], (-inf, 0.0], (-inf, 0.0], ..., (-inf, 0.0], (0.0, inf], (0.0, inf], (0.0, inf], (-inf, 0.0]]\n",
       "Length: 20\n",
       "Categories (2, interval[float64]): [(-inf, 0.0] < (0.0, inf]]"
      ]
     },
     "execution_count": 112,
     "metadata": {},
     "output_type": "execute_result"
    }
   ],
   "source": [
    "factor"
   ]
  },
  {
   "cell_type": "code",
   "execution_count": 3,
   "metadata": {},
   "outputs": [
    {
     "data": {
      "text/html": [
       "<div>\n",
       "<style scoped>\n",
       "    .dataframe tbody tr th:only-of-type {\n",
       "        vertical-align: middle;\n",
       "    }\n",
       "\n",
       "    .dataframe tbody tr th {\n",
       "        vertical-align: top;\n",
       "    }\n",
       "\n",
       "    .dataframe thead th {\n",
       "        text-align: right;\n",
       "    }\n",
       "</style>\n",
       "<table border=\"1\" class=\"dataframe\">\n",
       "  <thead>\n",
       "    <tr style=\"text-align: right;\">\n",
       "      <th></th>\n",
       "      <th>home_team</th>\n",
       "      <th>away_team</th>\n",
       "      <th>home_goals</th>\n",
       "      <th>away_goals</th>\n",
       "      <th>result</th>\n",
       "      <th>season</th>\n",
       "    </tr>\n",
       "  </thead>\n",
       "  <tbody>\n",
       "    <tr>\n",
       "      <th>0</th>\n",
       "      <td>TottenhamHotspur</td>\n",
       "      <td>ManchesterCity</td>\n",
       "      <td>0</td>\n",
       "      <td>0</td>\n",
       "      <td>D</td>\n",
       "      <td>2010-2011</td>\n",
       "    </tr>\n",
       "    <tr>\n",
       "      <th>1</th>\n",
       "      <td>AstonVilla</td>\n",
       "      <td>WestHamUnited</td>\n",
       "      <td>3</td>\n",
       "      <td>0</td>\n",
       "      <td>H</td>\n",
       "      <td>2010-2011</td>\n",
       "    </tr>\n",
       "    <tr>\n",
       "      <th>2</th>\n",
       "      <td>BlackburnRovers</td>\n",
       "      <td>Everton</td>\n",
       "      <td>1</td>\n",
       "      <td>0</td>\n",
       "      <td>H</td>\n",
       "      <td>2010-2011</td>\n",
       "    </tr>\n",
       "    <tr>\n",
       "      <th>3</th>\n",
       "      <td>BoltonWanderers</td>\n",
       "      <td>Fulham</td>\n",
       "      <td>0</td>\n",
       "      <td>0</td>\n",
       "      <td>D</td>\n",
       "      <td>2010-2011</td>\n",
       "    </tr>\n",
       "    <tr>\n",
       "      <th>4</th>\n",
       "      <td>Sunderland</td>\n",
       "      <td>BirminghamCity</td>\n",
       "      <td>2</td>\n",
       "      <td>2</td>\n",
       "      <td>D</td>\n",
       "      <td>2010-2011</td>\n",
       "    </tr>\n",
       "    <tr>\n",
       "      <th>...</th>\n",
       "      <td>...</td>\n",
       "      <td>...</td>\n",
       "      <td>...</td>\n",
       "      <td>...</td>\n",
       "      <td>...</td>\n",
       "      <td>...</td>\n",
       "    </tr>\n",
       "    <tr>\n",
       "      <th>3663</th>\n",
       "      <td>Liverpool</td>\n",
       "      <td>Southampton</td>\n",
       "      <td>4</td>\n",
       "      <td>0</td>\n",
       "      <td>H</td>\n",
       "      <td>NaN</td>\n",
       "    </tr>\n",
       "    <tr>\n",
       "      <th>3664</th>\n",
       "      <td>NewcastleUnited</td>\n",
       "      <td>NorwichCity</td>\n",
       "      <td>0</td>\n",
       "      <td>0</td>\n",
       "      <td>D</td>\n",
       "      <td>NaN</td>\n",
       "    </tr>\n",
       "    <tr>\n",
       "      <th>3665</th>\n",
       "      <td>Watford</td>\n",
       "      <td>Everton</td>\n",
       "      <td>2</td>\n",
       "      <td>3</td>\n",
       "      <td>A</td>\n",
       "      <td>NaN</td>\n",
       "    </tr>\n",
       "    <tr>\n",
       "      <th>3666</th>\n",
       "      <td>WestHamUnited</td>\n",
       "      <td>BrightonandHoveAlbion</td>\n",
       "      <td>3</td>\n",
       "      <td>3</td>\n",
       "      <td>D</td>\n",
       "      <td>NaN</td>\n",
       "    </tr>\n",
       "    <tr>\n",
       "      <th>3667</th>\n",
       "      <td>ManchesterUnited</td>\n",
       "      <td>WolverhamptonWanderers</td>\n",
       "      <td>0</td>\n",
       "      <td>0</td>\n",
       "      <td>D</td>\n",
       "      <td>NaN</td>\n",
       "    </tr>\n",
       "  </tbody>\n",
       "</table>\n",
       "<p>3668 rows × 6 columns</p>\n",
       "</div>"
      ],
      "text/plain": [
       "             home_team               away_team  home_goals  away_goals result  \\\n",
       "0     TottenhamHotspur          ManchesterCity           0           0      D   \n",
       "1           AstonVilla           WestHamUnited           3           0      H   \n",
       "2      BlackburnRovers                 Everton           1           0      H   \n",
       "3      BoltonWanderers                  Fulham           0           0      D   \n",
       "4           Sunderland          BirminghamCity           2           2      D   \n",
       "...                ...                     ...         ...         ...    ...   \n",
       "3663         Liverpool             Southampton           4           0      H   \n",
       "3664   NewcastleUnited             NorwichCity           0           0      D   \n",
       "3665           Watford                 Everton           2           3      A   \n",
       "3666     WestHamUnited   BrightonandHoveAlbion           3           3      D   \n",
       "3667  ManchesterUnited  WolverhamptonWanderers           0           0      D   \n",
       "\n",
       "         season  \n",
       "0     2010-2011  \n",
       "1     2010-2011  \n",
       "2     2010-2011  \n",
       "3     2010-2011  \n",
       "4     2010-2011  \n",
       "...         ...  \n",
       "3663        NaN  \n",
       "3664        NaN  \n",
       "3665        NaN  \n",
       "3666        NaN  \n",
       "3667        NaN  \n",
       "\n",
       "[3668 rows x 6 columns]"
      ]
     },
     "execution_count": 3,
     "metadata": {},
     "output_type": "execute_result"
    }
   ],
   "source": [
    "df = pd.read_csv('premier_league.csv')\n",
    "df"
   ]
  },
  {
   "cell_type": "code",
   "execution_count": 10,
   "metadata": {},
   "outputs": [],
   "source": [
    "def extract_city_name(df):\n",
    "    df['city_name'] = df['city_and_code'].str.split(\",\").str.get(0)\n",
    "    return df\n",
    "\n",
    "def add_country_name(df, country_name = None):\n",
    "    col = 'city_name'\n",
    "    df['city_and_country'] = df[col] + country_name\n",
    "    return df\n",
    "\n",
    "df_p = pd.DataFrame({'city_and_code' : ['Chicago, IL']})"
   ]
  },
  {
   "cell_type": "code",
   "execution_count": 14,
   "metadata": {},
   "outputs": [
    {
     "name": "stdout",
     "output_type": "stream",
     "text": [
      "|    | city_and_code   | city_name   | city_and_country   |\n",
      "|---:|:----------------|:------------|:-------------------|\n",
      "|  0 | Chicago, IL     | Chicago     | ChicagoUS          |\n"
     ]
    }
   ],
   "source": [
    "tmp = add_country_name(extract_city_name(df_p), country_name='US')\n",
    "print(tmp.to_markdown())"
   ]
  },
  {
   "cell_type": "code",
   "execution_count": 15,
   "metadata": {},
   "outputs": [
    {
     "name": "stdout",
     "output_type": "stream",
     "text": [
      "|    | city_and_code   | city_name   | city_and_country   |\n",
      "|---:|:----------------|:------------|:-------------------|\n",
      "|  0 | Chicago, IL     | Chicago     | ChicagoUS          |\n"
     ]
    }
   ],
   "source": [
    "tmp = (df_p.pipe(extract_city_name)\n",
    "     .pipe(add_country_name, country_name='US'))\n",
    "print(tmp.to_markdown())"
   ]
  },
  {
   "cell_type": "code",
   "execution_count": 18,
   "metadata": {},
   "outputs": [
    {
     "data": {
      "text/plain": [
       "0       0.0\n",
       "1       3.0\n",
       "2       1.0\n",
       "3       0.0\n",
       "4       2.0\n",
       "       ... \n",
       "3663    4.0\n",
       "3664    0.0\n",
       "3665    2.0\n",
       "3666    3.0\n",
       "3667    0.0\n",
       "Name: home_goals, Length: 3668, dtype: float64"
      ]
     },
     "execution_count": 18,
     "metadata": {},
     "output_type": "execute_result"
    }
   ],
   "source": [
    "df['home_goals'].apply(np.mean)"
   ]
  },
  {
   "cell_type": "code",
   "execution_count": 32,
   "metadata": {},
   "outputs": [
    {
     "data": {
      "text/plain": [
       "home_goals    1.551799\n",
       "away_goals    1.198201\n",
       "dtype: float64"
      ]
     },
     "execution_count": 32,
     "metadata": {},
     "output_type": "execute_result"
    }
   ],
   "source": [
    "df.apply('mean')"
   ]
  },
  {
   "cell_type": "code",
   "execution_count": 43,
   "metadata": {},
   "outputs": [
    {
     "data": {
      "text/plain": [
       "A   2001-11-28\n",
       "B   2000-04-24\n",
       "C   2002-08-15\n",
       "dtype: datetime64[ns]"
      ]
     },
     "execution_count": 43,
     "metadata": {},
     "output_type": "execute_result"
    }
   ],
   "source": [
    "tsdf = pd.DataFrame(np.random.randn(1000, 3), columns=['A','B','C'],\n",
    "                   index=pd.date_range('1/1/2000', periods=1000))\n",
    "\n",
    "tsdf.apply(lambda x : x.idxmax())"
   ]
  },
  {
   "cell_type": "code",
   "execution_count": 48,
   "metadata": {
    "scrolled": true
   },
   "outputs": [
    {
     "name": "stdout",
     "output_type": "stream",
     "text": [
      "|                     |         A |         B |         C |\n",
      "|:--------------------|----------:|----------:|----------:|\n",
      "| 2000-01-01 00:00:00 | -1.745    | -1.67402  | -1.93762  |\n",
      "| 2000-01-02 00:00:00 | -1.85958  | -2.01404  | -1.34984  |\n",
      "| 2000-01-03 00:00:00 | -1.34948  | -1.62634  | -1.2855   |\n",
      "| 2000-01-04 00:00:00 | -1.8898   | -1.89961  | -1.82673  |\n",
      "| 2000-01-05 00:00:00 | -0.839412 | -1.496    | -1.11361  |\n",
      "| 2000-01-06 00:00:00 | -1.9484   | -1.62996  | -1.20595  |\n",
      "| 2000-01-07 00:00:00 | -1.24549  | -1.12449  | -1.33754  |\n",
      "| 2000-01-08 00:00:00 | -1.6188   | -1.83663  | -1.88883  |\n",
      "| 2000-01-09 00:00:00 | -1.56541  | -1.88771  | -1.12292  |\n",
      "| 2000-01-10 00:00:00 | -1.78074  | -1.80143  | -1.73056  |\n",
      "| 2000-01-11 00:00:00 | -1.37461  | -1.61463  | -1.79432  |\n",
      "| 2000-01-12 00:00:00 | -1.82991  | -1.59375  | -2.16066  |\n",
      "| 2000-01-13 00:00:00 | -1.45812  | -1.41979  | -1.98306  |\n",
      "| 2000-01-14 00:00:00 | -1.56264  | -1.48197  | -1.71941  |\n",
      "| 2000-01-15 00:00:00 | -2.12301  | -1.8444   | -2.21301  |\n",
      "| 2000-01-16 00:00:00 | -1.84389  | -1.62153  | -1.8379   |\n",
      "| 2000-01-17 00:00:00 | -1.79762  | -1.85483  | -1.62741  |\n",
      "| 2000-01-18 00:00:00 | -1.95687  | -1.73154  | -1.76231  |\n",
      "| 2000-01-19 00:00:00 | -1.3925   | -2.10242  | -1.61149  |\n",
      "| 2000-01-20 00:00:00 | -1.22809  | -1.71693  | -1.80094  |\n",
      "| 2000-01-21 00:00:00 | -1.76311  | -1.7304   | -2.09944  |\n",
      "| 2000-01-22 00:00:00 | -1.53475  | -1.8551   | -2.12612  |\n",
      "| 2000-01-23 00:00:00 | -1.66607  | -1.77555  | -1.79339  |\n",
      "| 2000-01-24 00:00:00 | -1.47313  | -1.7141   | -1.60731  |\n",
      "| 2000-01-25 00:00:00 | -1.46086  | -1.69204  | -2.03977  |\n",
      "| 2000-01-26 00:00:00 | -1.63836  | -1.48484  | -1.37765  |\n",
      "| 2000-01-27 00:00:00 | -1.79447  | -2.13716  | -1.98398  |\n",
      "| 2000-01-28 00:00:00 | -1.52138  | -2.51282  | -1.28051  |\n",
      "| 2000-01-29 00:00:00 | -1.52484  | -1.52007  | -1.74073  |\n",
      "| 2000-01-30 00:00:00 | -1.99677  | -2.14451  | -1.36388  |\n",
      "| 2000-01-31 00:00:00 | -0.977162 | -1.25513  | -1.43009  |\n",
      "| 2000-02-01 00:00:00 | -1.95603  | -1.50601  | -1.47635  |\n",
      "| 2000-02-02 00:00:00 | -1.70972  | -1.43825  | -1.80445  |\n",
      "| 2000-02-03 00:00:00 | -2.08473  | -2.27771  | -1.69108  |\n",
      "| 2000-02-04 00:00:00 | -1.12299  | -1.75778  | -2.23963  |\n",
      "| 2000-02-05 00:00:00 | -1.44742  | -1.54019  | -1.9477   |\n",
      "| 2000-02-06 00:00:00 | -2.01991  | -1.21159  | -1.66751  |\n",
      "| 2000-02-07 00:00:00 | -2.03187  | -1.08615  | -2.034    |\n",
      "| 2000-02-08 00:00:00 | -2.06407  | -2.25407  | -1.79319  |\n",
      "| 2000-02-09 00:00:00 | -1.57335  | -1.72677  | -2.19897  |\n",
      "| 2000-02-10 00:00:00 | -1.05963  | -1.82981  | -1.66876  |\n",
      "| 2000-02-11 00:00:00 | -1.19206  | -1.7417   | -1.76014  |\n",
      "| 2000-02-12 00:00:00 | -2.36789  | -1.44297  | -1.41275  |\n",
      "| 2000-02-13 00:00:00 | -2.20078  | -1.96605  | -2.05246  |\n",
      "| 2000-02-14 00:00:00 | -1.87886  | -1.62162  | -1.47354  |\n",
      "| 2000-02-15 00:00:00 | -2.34768  | -1.70278  | -1.95657  |\n",
      "| 2000-02-16 00:00:00 | -2.27418  | -1.68667  | -2.23706  |\n",
      "| 2000-02-17 00:00:00 | -2.22273  | -1.27761  | -1.54911  |\n",
      "| 2000-02-18 00:00:00 | -1.51697  | -1.32321  | -1.82147  |\n",
      "| 2000-02-19 00:00:00 | -1.17432  | -1.1948   | -1.90614  |\n",
      "| 2000-02-20 00:00:00 | -1.53366  | -1.23644  | -1.56483  |\n",
      "| 2000-02-21 00:00:00 | -1.27521  | -2.45167  | -2.0151   |\n",
      "| 2000-02-22 00:00:00 | -1.8225   | -1.80615  | -1.44414  |\n",
      "| 2000-02-23 00:00:00 | -2.29354  | -1.5083   | -1.31242  |\n",
      "| 2000-02-24 00:00:00 | -1.96264  | -1.38056  | -1.7705   |\n",
      "| 2000-02-25 00:00:00 | -1.06567  | -1.76069  | -2.07748  |\n",
      "| 2000-02-26 00:00:00 | -1.14538  | -2.28035  | -1.82773  |\n",
      "| 2000-02-27 00:00:00 | -1.80057  | -1.36081  | -1.45006  |\n",
      "| 2000-02-28 00:00:00 | -1.82697  | -1.81348  | -1.6648   |\n",
      "| 2000-02-29 00:00:00 | -1.46486  | -1.47196  | -1.64332  |\n",
      "| 2000-03-01 00:00:00 | -1.63148  | -1.04058  | -1.71893  |\n",
      "| 2000-03-02 00:00:00 | -1.46542  | -1.64089  | -2.14047  |\n",
      "| 2000-03-03 00:00:00 | -1.14225  | -1.17689  | -1.78066  |\n",
      "| 2000-03-04 00:00:00 | -1.37379  | -1.65943  | -1.51106  |\n",
      "| 2000-03-05 00:00:00 | -1.85604  | -1.40793  | -1.762    |\n",
      "| 2000-03-06 00:00:00 | -1.80353  | -1.727    | -1.41469  |\n",
      "| 2000-03-07 00:00:00 | -1.85322  | -1.725    | -2.28935  |\n",
      "| 2000-03-08 00:00:00 | -1.77069  | -1.39523  | -1.69717  |\n",
      "| 2000-03-09 00:00:00 | -1.49456  | -1.72968  | -2.43801  |\n",
      "| 2000-03-10 00:00:00 | -1.66231  | -1.23193  | -1.73537  |\n",
      "| 2000-03-11 00:00:00 | -1.71071  | -1.34652  | -1.70071  |\n",
      "| 2000-03-12 00:00:00 | -1.55442  | -1.76613  | -1.83492  |\n",
      "| 2000-03-13 00:00:00 | -1.58516  | -1.3652   | -1.57334  |\n",
      "| 2000-03-14 00:00:00 | -1.96899  | -1.86814  | -1.44476  |\n",
      "| 2000-03-15 00:00:00 | -1.58237  | -1.48786  | -1.67858  |\n",
      "| 2000-03-16 00:00:00 | -1.32011  | -1.47785  | -1.0354   |\n",
      "| 2000-03-17 00:00:00 | -1.53563  | -2.10099  | -1.12555  |\n",
      "| 2000-03-18 00:00:00 | -1.40085  | -1.51778  | -1.50675  |\n",
      "| 2000-03-19 00:00:00 | -1.16807  | -1.10226  | -1.65126  |\n",
      "| 2000-03-20 00:00:00 | -2.29812  | -1.73949  | -1.90277  |\n",
      "| 2000-03-21 00:00:00 | -1.76833  | -1.97326  | -1.4774   |\n",
      "| 2000-03-22 00:00:00 | -1.83969  | -0.955867 | -1.93591  |\n",
      "| 2000-03-23 00:00:00 | -1.6557   | -1.6114   | -1.70122  |\n",
      "| 2000-03-24 00:00:00 | -1.94994  | -2.0562   | -1.85059  |\n",
      "| 2000-03-25 00:00:00 | -1.96055  | -1.81878  | -1.72959  |\n",
      "| 2000-03-26 00:00:00 | -1.06939  | -2.13894  | -1.93642  |\n",
      "| 2000-03-27 00:00:00 | -1.58458  | -1.70589  | -1.81693  |\n",
      "| 2000-03-28 00:00:00 | -1.27875  | -1.60523  | -1.43125  |\n",
      "| 2000-03-29 00:00:00 | -1.00077  | -1.70504  | -1.51735  |\n",
      "| 2000-03-30 00:00:00 | -1.89327  | -1.16586  | -1.30418  |\n",
      "| 2000-03-31 00:00:00 | -2.15424  | -1.51107  | -2.19249  |\n",
      "| 2000-04-01 00:00:00 | -1.93505  | -2.50036  | -1.23363  |\n",
      "| 2000-04-02 00:00:00 | -1.55553  | -1.97951  | -1.88071  |\n",
      "| 2000-04-03 00:00:00 | -1.03031  | -1.14164  | -1.50728  |\n",
      "| 2000-04-04 00:00:00 | -1.32952  | -1.87298  | -2.02107  |\n",
      "| 2000-04-05 00:00:00 | -1.96577  | -0.766564 | -1.75503  |\n",
      "| 2000-04-06 00:00:00 | -1.65167  | -1.05405  | -2.06135  |\n",
      "| 2000-04-07 00:00:00 | -1.88552  | -1.8586   | -1.98949  |\n",
      "| 2000-04-08 00:00:00 | -1.42963  | -1.84401  | -1.70943  |\n",
      "| 2000-04-09 00:00:00 | -1.61089  | -1.38366  | -1.11333  |\n",
      "| 2000-04-10 00:00:00 | -1.96456  | -1.73358  | -1.92971  |\n",
      "| 2000-04-11 00:00:00 | -1.31823  | -1.60374  | -1.82718  |\n",
      "| 2000-04-12 00:00:00 | -1.8917   | -1.44223  | -2.02369  |\n",
      "| 2000-04-13 00:00:00 | -1.63176  | -1.64486  | -1.36689  |\n",
      "| 2000-04-14 00:00:00 | -1.77038  | -1.63678  | -1.84257  |\n",
      "| 2000-04-15 00:00:00 | -1.86046  | -1.34492  | -1.5254   |\n",
      "| 2000-04-16 00:00:00 | -1.35031  | -1.64151  | -2.07978  |\n",
      "| 2000-04-17 00:00:00 | -1.92225  | -1.31977  | -1.84868  |\n",
      "| 2000-04-18 00:00:00 | -1.51012  | -1.71554  | -1.9465   |\n",
      "| 2000-04-19 00:00:00 | -1.66408  | -1.87811  | -1.85866  |\n",
      "| 2000-04-20 00:00:00 | -1.1746   | -1.89012  | -1.81795  |\n",
      "| 2000-04-21 00:00:00 | -1.6915   | -1.82087  | -1.64076  |\n",
      "| 2000-04-22 00:00:00 | -1.74804  | -1.73878  | -1.09424  |\n",
      "| 2000-04-23 00:00:00 | -1.76283  | -1.55662  | -1.84748  |\n",
      "| 2000-04-24 00:00:00 | -1.51459  | -0.510356 | -1.73078  |\n",
      "| 2000-04-25 00:00:00 | -1.14243  | -2.49161  | -2.12595  |\n",
      "| 2000-04-26 00:00:00 | -1.71902  | -1.52324  | -2.00793  |\n",
      "| 2000-04-27 00:00:00 | -2.00382  | -1.2147   | -1.20393  |\n",
      "| 2000-04-28 00:00:00 | -1.95385  | -0.542216 | -1.38032  |\n",
      "| 2000-04-29 00:00:00 | -2.24307  | -1.68267  | -1.65226  |\n",
      "| 2000-04-30 00:00:00 | -1.86054  | -1.7816   | -2.26111  |\n",
      "| 2000-05-01 00:00:00 | -1.16132  | -1.51465  | -1.58466  |\n",
      "| 2000-05-02 00:00:00 | -1.50461  | -1.79938  | -1.56966  |\n",
      "| 2000-05-03 00:00:00 | -1.88418  | -2.39914  | -1.67771  |\n",
      "| 2000-05-04 00:00:00 | -1.94585  | -1.30299  | -1.69986  |\n",
      "| 2000-05-05 00:00:00 | -1.72851  | -1.84629  | -1.48072  |\n",
      "| 2000-05-06 00:00:00 | -1.47645  | -1.6463   | -1.5722   |\n",
      "| 2000-05-07 00:00:00 | -1.66554  | -1.61804  | -1.70191  |\n",
      "| 2000-05-08 00:00:00 | -1.6209   | -1.65863  | -1.93226  |\n",
      "| 2000-05-09 00:00:00 | -2.01524  | -1.83867  | -1.11983  |\n",
      "| 2000-05-10 00:00:00 | -1.3492   | -1.19518  | -1.95891  |\n",
      "| 2000-05-11 00:00:00 | -1.66617  | -1.43465  | -1.20521  |\n",
      "| 2000-05-12 00:00:00 | -1.76049  | -0.967712 | -1.61388  |\n",
      "| 2000-05-13 00:00:00 | -1.60772  | -1.92901  | -2.05543  |\n",
      "| 2000-05-14 00:00:00 | -1.6674   | -1.92248  | -1.28945  |\n",
      "| 2000-05-15 00:00:00 | -1.73852  | -1.17392  | -1.91521  |\n",
      "| 2000-05-16 00:00:00 | -1.70309  | -1.28072  | -2.50373  |\n",
      "| 2000-05-17 00:00:00 | -2.13615  | -1.25059  | -2.31289  |\n",
      "| 2000-05-18 00:00:00 | -1.70021  | -1.98093  | -1.91131  |\n",
      "| 2000-05-19 00:00:00 | -1.94539  | -1.98208  | -2.51162  |\n",
      "| 2000-05-20 00:00:00 | -2.28434  | -1.72631  | -1.56718  |\n",
      "| 2000-05-21 00:00:00 | -1.47388  | -1.6466   | -2.2837   |\n",
      "| 2000-05-22 00:00:00 | -1.14988  | -1.17814  | -1.49429  |\n",
      "| 2000-05-23 00:00:00 | -1.18874  | -1.72619  | -1.7806   |\n",
      "| 2000-05-24 00:00:00 | -1.29091  | -1.95739  | -1.41834  |\n",
      "| 2000-05-25 00:00:00 | -1.54237  | -1.54033  | -1.61298  |\n",
      "| 2000-05-26 00:00:00 | -1.93933  | -1.74389  | -1.46998  |\n",
      "| 2000-05-27 00:00:00 | -1.41845  | -2.00947  | -1.54467  |\n",
      "| 2000-05-28 00:00:00 | -1.86595  | -1.43387  | -1.60906  |\n",
      "| 2000-05-29 00:00:00 | -1.87561  | -1.64389  | -2.07073  |\n",
      "| 2000-05-30 00:00:00 | -1.09557  | -1.10023  | -1.46835  |\n",
      "| 2000-05-31 00:00:00 | -1.20208  | -1.78469  | -1.52645  |\n",
      "| 2000-06-01 00:00:00 | -1.94417  | -1.66264  | -2.14143  |\n",
      "| 2000-06-02 00:00:00 | -1.71737  | -1.42823  | -1.80344  |\n",
      "| 2000-06-03 00:00:00 | -1.69352  | -1.57925  | -1.94134  |\n",
      "| 2000-06-04 00:00:00 | -1.96962  | -1.98221  | -1.59801  |\n",
      "| 2000-06-05 00:00:00 | -2.22725  | -1.99487  | -1.71101  |\n",
      "| 2000-06-06 00:00:00 | -1.99992  | -1.68193  | -1.80317  |\n",
      "| 2000-06-07 00:00:00 | -1.05353  | -1.8761   | -1.76697  |\n",
      "| 2000-06-08 00:00:00 | -1.32193  | -0.93413  | -1.76614  |\n",
      "| 2000-06-09 00:00:00 | -1.30897  | -1.28276  | -1.45032  |\n",
      "| 2000-06-10 00:00:00 | -1.65238  | -1.18411  | -1.11217  |\n",
      "| 2000-06-11 00:00:00 | -1.59557  | -1.97926  | -1.60263  |\n",
      "| 2000-06-12 00:00:00 | -0.86375  | -1.44467  | -1.17307  |\n",
      "| 2000-06-13 00:00:00 | -2.20001  | -1.34951  | -1.10666  |\n",
      "| 2000-06-14 00:00:00 | -1.76006  | -1.41543  | -2.16349  |\n",
      "| 2000-06-15 00:00:00 | -1.40858  | -1.40443  | -2.16144  |\n",
      "| 2000-06-16 00:00:00 | -1.54178  | -1.32584  | -1.74076  |\n",
      "| 2000-06-17 00:00:00 | -1.83344  | -1.192    | -2.18096  |\n",
      "| 2000-06-18 00:00:00 | -1.21201  | -1.2979   | -1.22482  |\n",
      "| 2000-06-19 00:00:00 | -1.97091  | -1.80479  | -2.20396  |\n",
      "| 2000-06-20 00:00:00 | -2.05558  | -1.90431  | -1.94582  |\n",
      "| 2000-06-21 00:00:00 | -1.69517  | -1.6024   | -1.89552  |\n",
      "| 2000-06-22 00:00:00 | -2.21121  | -1.74087  | -1.94219  |\n",
      "| 2000-06-23 00:00:00 | -1.81831  | -1.1458   | -1.89082  |\n",
      "| 2000-06-24 00:00:00 | -2.1652   | -1.62423  | -1.63147  |\n",
      "| 2000-06-25 00:00:00 | -1.84662  | -1.8025   | -2.03142  |\n",
      "| 2000-06-26 00:00:00 | -0.715851 | -1.95343  | -1.37536  |\n",
      "| 2000-06-27 00:00:00 | -2.10139  | -2.20478  | -2.09299  |\n",
      "| 2000-06-28 00:00:00 | -1.8629   | -1.94325  | -1.09434  |\n",
      "| 2000-06-29 00:00:00 | -2.28592  | -1.66107  | -1.69079  |\n",
      "| 2000-06-30 00:00:00 | -1.09753  | -1.64475  | -1.72827  |\n",
      "| 2000-07-01 00:00:00 | -1.93811  | -1.78226  | -1.64672  |\n",
      "| 2000-07-02 00:00:00 | -2.16219  | -1.63519  | -1.97627  |\n",
      "| 2000-07-03 00:00:00 | -1.77896  | -1.29626  | -1.85887  |\n",
      "| 2000-07-04 00:00:00 | -1.83983  | -1.66245  | -1.63976  |\n",
      "| 2000-07-05 00:00:00 | -2.14539  | -1.83243  | -1.92148  |\n",
      "| 2000-07-06 00:00:00 | -2.15685  | -1.91501  | -1.69214  |\n",
      "| 2000-07-07 00:00:00 | -1.55373  | -2.12449  | -1.36577  |\n",
      "| 2000-07-08 00:00:00 | -1.53708  | -1.78522  | -1.72864  |\n",
      "| 2000-07-09 00:00:00 | -1.54056  | -1.95407  | -1.01228  |\n",
      "| 2000-07-10 00:00:00 | -1.5661   | -2.06005  | -1.57347  |\n",
      "| 2000-07-11 00:00:00 | -1.40108  | -1.90338  | -2.16536  |\n",
      "| 2000-07-12 00:00:00 | -2.10524  | -1.40163  | -1.14638  |\n",
      "| 2000-07-13 00:00:00 | -1.9526   | -1.12406  | -1.13352  |\n",
      "| 2000-07-14 00:00:00 | -1.78712  | -1.24235  | -1.40211  |\n",
      "| 2000-07-15 00:00:00 | -1.83108  | -1.6174   | -1.53205  |\n",
      "| 2000-07-16 00:00:00 | -1.65445  | -1.2571   | -1.82553  |\n",
      "| 2000-07-17 00:00:00 | -1.72637  | -1.59815  | -1.67712  |\n",
      "| 2000-07-18 00:00:00 | -1.86192  | -1.91962  | -1.69059  |\n",
      "| 2000-07-19 00:00:00 | -1.76747  | -1.85546  | -1.76898  |\n",
      "| 2000-07-20 00:00:00 | -1.56445  | -1.82854  | -1.21822  |\n",
      "| 2000-07-21 00:00:00 | -1.67174  | -1.6193   | -1.38237  |\n",
      "| 2000-07-22 00:00:00 | -0.987829 | -2.07131  | -1.63279  |\n",
      "| 2000-07-23 00:00:00 | -1.47051  | -0.843689 | -1.67281  |\n",
      "| 2000-07-24 00:00:00 | -2.09094  | -1.86383  | -2.30079  |\n",
      "| 2000-07-25 00:00:00 | -1.71278  | -1.99382  | -1.51499  |\n",
      "| 2000-07-26 00:00:00 | -1.95988  | -1.29495  | -1.48383  |\n",
      "| 2000-07-27 00:00:00 | -1.57109  | -1.69006  | -2.38981  |\n",
      "| 2000-07-28 00:00:00 | -1.6461   | -1.74611  | -1.08156  |\n",
      "| 2000-07-29 00:00:00 | -1.46887  | -1.72186  | -1.96579  |\n",
      "| 2000-07-30 00:00:00 | -1.41614  | -0.923099 | -1.97708  |\n",
      "| 2000-07-31 00:00:00 | -2.4156   | -0.96834  | -1.44057  |\n",
      "| 2000-08-01 00:00:00 | -1.65557  | -1.48604  | -2.08849  |\n",
      "| 2000-08-02 00:00:00 | -2.08369  | -1.87997  | -1.92188  |\n",
      "| 2000-08-03 00:00:00 | -1.77469  | -1.60824  | -1.75798  |\n",
      "| 2000-08-04 00:00:00 | -0.736915 | -1.23267  | -1.65957  |\n",
      "| 2000-08-05 00:00:00 | -1.3972   | -2.0621   | -1.63584  |\n",
      "| 2000-08-06 00:00:00 | -1.89763  | -2.02988  | -1.52848  |\n",
      "| 2000-08-07 00:00:00 | -1.89871  | -1.38242  | -1.47578  |\n",
      "| 2000-08-08 00:00:00 | -1.27421  | -1.81718  | -1.85836  |\n",
      "| 2000-08-09 00:00:00 | -1.74473  | -1.85042  | -1.52983  |\n",
      "| 2000-08-10 00:00:00 | -2.28835  | -2.03659  | -1.8777   |\n",
      "| 2000-08-11 00:00:00 | -1.61425  | -2.18177  | -1.61411  |\n",
      "| 2000-08-12 00:00:00 | -1.71724  | -1.3943   | -1.52063  |\n",
      "| 2000-08-13 00:00:00 | -1.64602  | -1.34581  | -1.34027  |\n",
      "| 2000-08-14 00:00:00 | -1.65996  | -1.99749  | -1.45488  |\n",
      "| 2000-08-15 00:00:00 | -1.67413  | -1.19815  | -1.50468  |\n",
      "| 2000-08-16 00:00:00 | -1.61268  | -1.72696  | -1.70444  |\n",
      "| 2000-08-17 00:00:00 | -1.38454  | -2.3936   | -1.6284   |\n",
      "| 2000-08-18 00:00:00 | -1.49581  | -1.91589  | -1.53816  |\n",
      "| 2000-08-19 00:00:00 | -1.32995  | -1.69412  | -2.15634  |\n",
      "| 2000-08-20 00:00:00 | -1.86838  | -0.946306 | -1.22949  |\n",
      "| 2000-08-21 00:00:00 | -1.01325  | -1.82793  | -1.12464  |\n",
      "| 2000-08-22 00:00:00 | -1.57802  | -1.34332  | -1.70001  |\n",
      "| 2000-08-23 00:00:00 | -1.54941  | -0.981622 | -1.75591  |\n",
      "| 2000-08-24 00:00:00 | -2.35326  | -1.83451  | -2.07915  |\n",
      "| 2000-08-25 00:00:00 | -1.90992  | -1.23634  | -1.77209  |\n",
      "| 2000-08-26 00:00:00 | -2.13383  | -1.77119  | -1.56735  |\n",
      "| 2000-08-27 00:00:00 | -1.30766  | -1.32089  | -1.34256  |\n",
      "| 2000-08-28 00:00:00 | -1.7049   | -1.66536  | -1.49002  |\n",
      "| 2000-08-29 00:00:00 | -1.65344  | -1.75346  | -1.72763  |\n",
      "| 2000-08-30 00:00:00 | -1.815    | -1.68222  | -1.99508  |\n",
      "| 2000-08-31 00:00:00 | -1.45515  | -1.9749   | -1.70286  |\n",
      "| 2000-09-01 00:00:00 | -1.42143  | -2.24736  | -1.22447  |\n",
      "| 2000-09-02 00:00:00 | -1.66951  | -1.92373  | -1.35044  |\n",
      "| 2000-09-03 00:00:00 | -1.59689  | -1.43     | -1.44166  |\n",
      "| 2000-09-04 00:00:00 | -1.69101  | -1.82479  | -1.59806  |\n",
      "| 2000-09-05 00:00:00 | -1.72822  | -2.17216  | -1.73598  |\n",
      "| 2000-09-06 00:00:00 | -1.58183  | -1.90763  | -1.55999  |\n",
      "| 2000-09-07 00:00:00 | -1.78467  | -1.59104  | -1.63703  |\n",
      "| 2000-09-08 00:00:00 | -1.77128  | -1.37286  | -1.29292  |\n",
      "| 2000-09-09 00:00:00 | -1.53918  | -1.1521   | -0.988814 |\n",
      "| 2000-09-10 00:00:00 | -1.83478  | -1.36432  | -1.67285  |\n",
      "| 2000-09-11 00:00:00 | -1.42209  | -1.57041  | -2.05135  |\n",
      "| 2000-09-12 00:00:00 | -1.71393  | -1.80425  | -1.67899  |\n",
      "| 2000-09-13 00:00:00 | -1.6116   | -1.72499  | -1.48478  |\n",
      "| 2000-09-14 00:00:00 | -1.94982  | -1.94739  | -1.2703   |\n",
      "| 2000-09-15 00:00:00 | -2.00355  | -1.60482  | -1.75432  |\n",
      "| 2000-09-16 00:00:00 | -2.05411  | -1.61752  | -1.57604  |\n",
      "| 2000-09-17 00:00:00 | -1.71872  | -1.13963  | -1.70895  |\n",
      "| 2000-09-18 00:00:00 | -2.13028  | -1.27151  | -1.50154  |\n",
      "| 2000-09-19 00:00:00 | -2.00659  | -2.14899  | -2.15569  |\n",
      "| 2000-09-20 00:00:00 | -1.52309  | -1.57334  | -1.38937  |\n",
      "| 2000-09-21 00:00:00 | -1.57216  | -1.67486  | -2.18046  |\n",
      "| 2000-09-22 00:00:00 | -1.17798  | -2.27026  | -1.54259  |\n",
      "| 2000-09-23 00:00:00 | -1.64857  | -1.90403  | -1.13382  |\n",
      "| 2000-09-24 00:00:00 | -1.59132  | -1.84332  | -1.51204  |\n",
      "| 2000-09-25 00:00:00 | -1.5887   | -2.64849  | -1.63658  |\n",
      "| 2000-09-26 00:00:00 | -1.64873  | -2.23446  | -1.80377  |\n",
      "| 2000-09-27 00:00:00 | -1.4111   | -1.45815  | -1.01337  |\n",
      "| 2000-09-28 00:00:00 | -1.55541  | -1.35888  | -1.55113  |\n",
      "| 2000-09-29 00:00:00 | -1.98273  | -1.61689  | -1.48358  |\n",
      "| 2000-09-30 00:00:00 | -1.52503  | -1.51419  | -1.65842  |\n",
      "| 2000-10-01 00:00:00 | -2.18023  | -1.98385  | -1.77452  |\n",
      "| 2000-10-02 00:00:00 | -2.43533  | -2.03311  | -1.7822   |\n",
      "| 2000-10-03 00:00:00 | -1.47122  | -1.79433  | -1.63881  |\n",
      "| 2000-10-04 00:00:00 | -2.04349  | -1.66698  | -1.55922  |\n",
      "| 2000-10-05 00:00:00 | -1.19445  | -0.99412  | -1.63136  |\n",
      "| 2000-10-06 00:00:00 | -1.54768  | -1.95168  | -1.91417  |\n",
      "| 2000-10-07 00:00:00 | -2.17381  | -1.74894  | -1.51204  |\n",
      "| 2000-10-08 00:00:00 | -1.4625   | -1.41053  | -1.54995  |\n",
      "| 2000-10-09 00:00:00 | -1.71693  | -1.26003  | -1.7733   |\n",
      "| 2000-10-10 00:00:00 | -0.907411 | -1.62611  | -1.50429  |\n",
      "| 2000-10-11 00:00:00 | -2.05886  | -1.56749  | -0.96058  |\n",
      "| 2000-10-12 00:00:00 | -1.50318  | -1.58461  | -1.44587  |\n",
      "| 2000-10-13 00:00:00 | -1.77611  | -1.5202   | -2.07863  |\n",
      "| 2000-10-14 00:00:00 | -1.49152  | -1.62522  | -1.70723  |\n",
      "| 2000-10-15 00:00:00 | -1.7824   | -1.88326  | -1.57047  |\n",
      "| 2000-10-16 00:00:00 | -1.78865  | -1.2771   | -1.85361  |\n",
      "| 2000-10-17 00:00:00 | -1.71694  | -1.79006  | -1.84684  |\n",
      "| 2000-10-18 00:00:00 | -1.50261  | -1.75904  | -1.83822  |\n",
      "| 2000-10-19 00:00:00 | -1.71802  | -1.95262  | -1.4454   |\n",
      "| 2000-10-20 00:00:00 | -1.78451  | -2.04553  | -1.43882  |\n",
      "| 2000-10-21 00:00:00 | -1.34981  | -1.48013  | -1.7207   |\n",
      "| 2000-10-22 00:00:00 | -1.73089  | -1.12284  | -1.68861  |\n",
      "| 2000-10-23 00:00:00 | -1.75161  | -1.32151  | -1.61457  |\n",
      "| 2000-10-24 00:00:00 | -1.51194  | -1.57092  | -2.02284  |\n",
      "| 2000-10-25 00:00:00 | -1.50461  | -1.76142  | -1.53914  |\n",
      "| 2000-10-26 00:00:00 | -2.54722  | -1.11884  | -1.7041   |\n",
      "| 2000-10-27 00:00:00 | -2.16091  | -1.82606  | -1.51007  |\n",
      "| 2000-10-28 00:00:00 | -1.9043   | -1.89932  | -1.44199  |\n",
      "| 2000-10-29 00:00:00 | -1.54308  | -1.96803  | -1.39013  |\n",
      "| 2000-10-30 00:00:00 | -1.48109  | -1.68012  | -1.80789  |\n",
      "| 2000-10-31 00:00:00 | -1.68718  | -1.55144  | -1.34279  |\n",
      "| 2000-11-01 00:00:00 | -1.48852  | -1.68728  | -1.72465  |\n",
      "| 2000-11-02 00:00:00 | -1.36365  | -1.60027  | -2.08547  |\n",
      "| 2000-11-03 00:00:00 | -1.66322  | -1.66656  | -1.82776  |\n",
      "| 2000-11-04 00:00:00 | -1.42257  | -1.94118  | -1.15632  |\n",
      "| 2000-11-05 00:00:00 | -1.9741   | -1.91492  | -1.89384  |\n",
      "| 2000-11-06 00:00:00 | -1.53827  | -1.46417  | -1.86249  |\n",
      "| 2000-11-07 00:00:00 | -1.62469  | -1.70294  | -1.5261   |\n",
      "| 2000-11-08 00:00:00 | -0.978115 | -1.63862  | -1.83679  |\n",
      "| 2000-11-09 00:00:00 | -1.19088  | -1.59876  | -1.53743  |\n",
      "| 2000-11-10 00:00:00 | -1.67444  | -1.3934   | -1.44383  |\n",
      "| 2000-11-11 00:00:00 | -1.78042  | -1.60401  | -1.8998   |\n",
      "| 2000-11-12 00:00:00 | -1.59897  | -1.06111  | -1.33763  |\n",
      "| 2000-11-13 00:00:00 | -1.85337  | -1.23689  | -1.62173  |\n",
      "| 2000-11-14 00:00:00 | -1.63884  | -1.63639  | -1.63278  |\n",
      "| 2000-11-15 00:00:00 | -1.71021  | -1.87371  | -2.14073  |\n",
      "| 2000-11-16 00:00:00 | -1.30799  | -1.87156  | -1.7019   |\n",
      "| 2000-11-17 00:00:00 | -1.47585  | -1.61015  | -2.0303   |\n",
      "| 2000-11-18 00:00:00 | -0.996491 | -1.55219  | -1.55765  |\n",
      "| 2000-11-19 00:00:00 | -1.3795   | -0.914886 | -1.5136   |\n",
      "| 2000-11-20 00:00:00 | -2.07105  | -2.38144  | -2.09544  |\n",
      "| 2000-11-21 00:00:00 | -1.13141  | -1.717    | -1.70144  |\n",
      "| 2000-11-22 00:00:00 | -1.75678  | -1.718    | -1.68577  |\n",
      "| 2000-11-23 00:00:00 | -1.68023  | -1.24148  | -1.48373  |\n",
      "| 2000-11-24 00:00:00 | -1.72155  | -1.86684  | -1.91551  |\n",
      "| 2000-11-25 00:00:00 | -1.15199  | -1.06039  | -1.60647  |\n",
      "| 2000-11-26 00:00:00 | -1.99133  | -1.52637  | -1.71738  |\n",
      "| 2000-11-27 00:00:00 | -1.8817   | -1.81459  | -1.46598  |\n",
      "| 2000-11-28 00:00:00 | -1.68996  | -2.04578  | -1.72817  |\n",
      "| 2000-11-29 00:00:00 | -1.7211   | -1.10739  | -1.79007  |\n",
      "| 2000-11-30 00:00:00 | -2.42058  | -1.50994  | -1.50376  |\n",
      "| 2000-12-01 00:00:00 | -2.10552  | -2.20723  | -1.92661  |\n",
      "| 2000-12-02 00:00:00 | -2.16421  | -1.68623  | -1.44369  |\n",
      "| 2000-12-03 00:00:00 | -2.31396  | -1.58033  | -2.06608  |\n",
      "| 2000-12-04 00:00:00 | -1.57519  | -1.50431  | -2.36568  |\n",
      "| 2000-12-05 00:00:00 | -1.70164  | -2.40332  | -1.53107  |\n",
      "| 2000-12-06 00:00:00 | -1.61391  | -2.31279  | -1.70363  |\n",
      "| 2000-12-07 00:00:00 | -1.62797  | -1.52125  | -2.02309  |\n",
      "| 2000-12-08 00:00:00 | -1.32078  | -1.30138  | -2.23662  |\n",
      "| 2000-12-09 00:00:00 | -2.08378  | -1.52352  | -1.88693  |\n",
      "| 2000-12-10 00:00:00 | -1.42995  | -1.59156  | -1.74418  |\n",
      "| 2000-12-11 00:00:00 | -1.90262  | -1.86604  | -1.0219   |\n",
      "| 2000-12-12 00:00:00 | -1.01205  | -1.38319  | -1.61315  |\n",
      "| 2000-12-13 00:00:00 | -1.59155  | -1.64477  | -1.57892  |\n",
      "| 2000-12-14 00:00:00 | -1.71452  | -1.52648  | -1.25649  |\n",
      "| 2000-12-15 00:00:00 | -1.88962  | -1.18861  | -1.69129  |\n",
      "| 2000-12-16 00:00:00 | -1.99957  | -1.46454  | -1.59493  |\n",
      "| 2000-12-17 00:00:00 | -1.92833  | -1.85005  | -2.19753  |\n",
      "| 2000-12-18 00:00:00 | -1.63501  | -1.71978  | -1.54906  |\n",
      "| 2000-12-19 00:00:00 | -1.62497  | -2.49177  | -1.78456  |\n",
      "| 2000-12-20 00:00:00 | -1.65768  | -1.32125  | -1.87703  |\n",
      "| 2000-12-21 00:00:00 | -2.17819  | -1.64834  | -1.62439  |\n",
      "| 2000-12-22 00:00:00 | -2.08015  | -2.19827  | -2.2191   |\n",
      "| 2000-12-23 00:00:00 | -1.5406   | -1.02574  | -1.68668  |\n",
      "| 2000-12-24 00:00:00 | -1.40877  | -1.31484  | -1.25876  |\n",
      "| 2000-12-25 00:00:00 | -1.24496  | -2.22469  | -1.71293  |\n",
      "| 2000-12-26 00:00:00 | -1.84197  | -1.85253  | -2.26009  |\n",
      "| 2000-12-27 00:00:00 | -1.19955  | -1.90266  | -1.79413  |\n",
      "| 2000-12-28 00:00:00 | -1.38026  | -1.41145  | -1.30611  |\n",
      "| 2000-12-29 00:00:00 | -1.71194  | -1.2447   | -1.06149  |\n",
      "| 2000-12-30 00:00:00 | -2.27922  | -1.64476  | -2.35068  |\n",
      "| 2000-12-31 00:00:00 | -2.0428   | -1.46878  | -1.57368  |\n",
      "| 2001-01-01 00:00:00 | -1.87156  | -2.08076  | -2.02997  |\n",
      "| 2001-01-02 00:00:00 | -1.67691  | -1.85766  | -2.0561   |\n",
      "| 2001-01-03 00:00:00 | -1.1792   | -2.04526  | -1.05706  |\n",
      "| 2001-01-04 00:00:00 | -1.62617  | -2.0042   | -1.38549  |\n",
      "| 2001-01-05 00:00:00 | -2.01828  | -2.30486  | -1.68706  |\n",
      "| 2001-01-06 00:00:00 | -1.52127  | -2.18265  | -1.1084   |\n",
      "| 2001-01-07 00:00:00 | -1.66771  | -1.74429  | -1.31232  |\n",
      "| 2001-01-08 00:00:00 | -1.54801  | -2.13694  | -1.71191  |\n",
      "| 2001-01-09 00:00:00 | -2.05018  | -2.26048  | -1.68021  |\n",
      "| 2001-01-10 00:00:00 | -1.06234  | -1.69971  | -1.7737   |\n",
      "| 2001-01-11 00:00:00 | -1.71968  | -1.69076  | -1.52531  |\n",
      "| 2001-01-12 00:00:00 | -1.20809  | -1.41736  | -1.93449  |\n",
      "| 2001-01-13 00:00:00 | -2.22957  | -2.10836  | -2.26339  |\n",
      "| 2001-01-14 00:00:00 | -1.71904  | -2.0114   | -1.16539  |\n",
      "| 2001-01-15 00:00:00 | -1.70536  | -0.881564 | -2.48415  |\n",
      "| 2001-01-16 00:00:00 | -1.03863  | -1.67076  | -1.77168  |\n",
      "| 2001-01-17 00:00:00 | -1.75369  | -1.93787  | -1.56692  |\n",
      "| 2001-01-18 00:00:00 | -1.55999  | -1.50207  | -1.84381  |\n",
      "| 2001-01-19 00:00:00 | -1.23149  | -1.46704  | -2.63538  |\n",
      "| 2001-01-20 00:00:00 | -1.67155  | -1.20126  | -2.15547  |\n",
      "| 2001-01-21 00:00:00 | -1.55718  | -1.60607  | -1.57492  |\n",
      "| 2001-01-22 00:00:00 | -1.42045  | -1.66504  | -2.12943  |\n",
      "| 2001-01-23 00:00:00 | -1.95038  | -1.50823  | -0.940869 |\n",
      "| 2001-01-24 00:00:00 | -2.08347  | -2.44968  | -1.42525  |\n",
      "| 2001-01-25 00:00:00 | -1.58152  | -1.66135  | -1.06552  |\n",
      "| 2001-01-26 00:00:00 | -1.74199  | -1.74033  | -1.48464  |\n",
      "| 2001-01-27 00:00:00 | -1.65701  | -1.31213  | -1.88034  |\n",
      "| 2001-01-28 00:00:00 | -1.61209  | -1.67577  | -2.14821  |\n",
      "| 2001-01-29 00:00:00 | -1.76693  | -1.21576  | -1.41275  |\n",
      "| 2001-01-30 00:00:00 | -1.38968  | -2.56366  | -1.88018  |\n",
      "| 2001-01-31 00:00:00 | -1.93538  | -2.16443  | -1.80859  |\n",
      "| 2001-02-01 00:00:00 | -1.71982  | -1.84431  | -2.04377  |\n",
      "| 2001-02-02 00:00:00 | -1.31106  | -1.74054  | -0.900314 |\n",
      "| 2001-02-03 00:00:00 | -1.53707  | -1.69134  | -1.19502  |\n",
      "| 2001-02-04 00:00:00 | -0.941465 | -1.82693  | -1.54068  |\n",
      "| 2001-02-05 00:00:00 | -1.62184  | -1.30937  | -1.58094  |\n",
      "| 2001-02-06 00:00:00 | -2.32104  | -1.89056  | -1.71818  |\n",
      "| 2001-02-07 00:00:00 | -1.07149  | -1.11453  | -1.70696  |\n",
      "| 2001-02-08 00:00:00 | -1.49784  | -1.64877  | -1.19933  |\n",
      "| 2001-02-09 00:00:00 | -1.81097  | -1.79491  | -2.25545  |\n",
      "| 2001-02-10 00:00:00 | -1.62539  | -1.50458  | -1.75683  |\n",
      "| 2001-02-11 00:00:00 | -1.26397  | -1.62778  | -1.47951  |\n",
      "| 2001-02-12 00:00:00 | -1.38433  | -1.8298   | -1.24923  |\n",
      "| 2001-02-13 00:00:00 | -1.78723  | -1.70398  | -1.80921  |\n",
      "| 2001-02-14 00:00:00 | -1.9917   | -1.22924  | -1.69159  |\n",
      "| 2001-02-15 00:00:00 | -1.97936  | -1.57123  | -1.46248  |\n",
      "| 2001-02-16 00:00:00 | -1.1761   | -1.53472  | -1.96146  |\n",
      "| 2001-02-17 00:00:00 | -2.21567  | -1.87382  | -1.58483  |\n",
      "| 2001-02-18 00:00:00 | -1.6012   | -1.7245   | -1.5705   |\n",
      "| 2001-02-19 00:00:00 | -2.10591  | -1.91153  | -2.14956  |\n",
      "| 2001-02-20 00:00:00 | -1.51156  | -1.32442  | -1.11244  |\n",
      "| 2001-02-21 00:00:00 | -1.72939  | -0.968881 | -2.58206  |\n",
      "| 2001-02-22 00:00:00 | -1.4858   | -1.37686  | -1.67364  |\n",
      "| 2001-02-23 00:00:00 | -1.49029  | -1.65137  | -1.41045  |\n",
      "| 2001-02-24 00:00:00 | -1.55678  | -1.99046  | -1.93093  |\n",
      "| 2001-02-25 00:00:00 | -1.50857  | -1.71776  | -1.84894  |\n",
      "| 2001-02-26 00:00:00 | -1.86092  | -1.78689  | -1.54105  |\n",
      "| 2001-02-27 00:00:00 | -1.36084  | -1.65206  | -1.6697   |\n",
      "| 2001-02-28 00:00:00 | -1.67683  | -2.22578  | -1.94086  |\n",
      "| 2001-03-01 00:00:00 | -1.96432  | -1.32879  | -2.12086  |\n",
      "| 2001-03-02 00:00:00 | -2.08165  | -1.27495  | -1.54761  |\n",
      "| 2001-03-03 00:00:00 | -1.80359  | -1.95668  | -1.6309   |\n",
      "| 2001-03-04 00:00:00 | -2.16092  | -1.78719  | -1.21402  |\n",
      "| 2001-03-05 00:00:00 | -2.07875  | -1.30521  | -1.98864  |\n",
      "| 2001-03-06 00:00:00 | -1.73029  | -2.12369  | -2.2307   |\n",
      "| 2001-03-07 00:00:00 | -1.34107  | -1.78112  | -1.21097  |\n",
      "| 2001-03-08 00:00:00 | -2.08589  | -1.18438  | -1.43999  |\n",
      "| 2001-03-09 00:00:00 | -2.1883   | -1.73827  | -1.65927  |\n",
      "| 2001-03-10 00:00:00 | -1.68483  | -1.76635  | -1.97773  |\n",
      "| 2001-03-11 00:00:00 | -2.12182  | -1.78645  | -1.72643  |\n",
      "| 2001-03-12 00:00:00 | -1.4214   | -1.07731  | -1.59687  |\n",
      "| 2001-03-13 00:00:00 | -1.83284  | -1.8899   | -2.02964  |\n",
      "| 2001-03-14 00:00:00 | -2.0712   | -1.89164  | -2.41742  |\n",
      "| 2001-03-15 00:00:00 | -1.69273  | -1.75323  | -1.74369  |\n",
      "| 2001-03-16 00:00:00 | -2.12991  | -1.45532  | -1.57933  |\n",
      "| 2001-03-17 00:00:00 | -1.32797  | -1.33973  | -2.02045  |\n",
      "| 2001-03-18 00:00:00 | -2.03001  | -1.31404  | -1.7448   |\n",
      "| 2001-03-19 00:00:00 | -1.17729  | -1.30356  | -0.939733 |\n",
      "| 2001-03-20 00:00:00 | -2.01614  | -1.77     | -1.32451  |\n",
      "| 2001-03-21 00:00:00 | -2.06207  | -1.66863  | -1.40459  |\n",
      "| 2001-03-22 00:00:00 | -1.24255  | -1.92925  | -1.35176  |\n",
      "| 2001-03-23 00:00:00 | -1.98886  | -1.29059  | -1.4761   |\n",
      "| 2001-03-24 00:00:00 | -1.89738  | -1.97864  | -1.58158  |\n",
      "| 2001-03-25 00:00:00 | -1.79877  | -2.01119  | -1.82142  |\n",
      "| 2001-03-26 00:00:00 | -1.38458  | -1.69229  | -1.66828  |\n",
      "| 2001-03-27 00:00:00 | -1.08684  | -1.68645  | -1.24157  |\n",
      "| 2001-03-28 00:00:00 | -1.62729  | -1.80649  | -2.08923  |\n",
      "| 2001-03-29 00:00:00 | -1.75613  | -1.43872  | -1.26891  |\n",
      "| 2001-03-30 00:00:00 | -1.31327  | -1.18266  | -1.81745  |\n",
      "| 2001-03-31 00:00:00 | -1.4201   | -1.76168  | -1.44347  |\n",
      "| 2001-04-01 00:00:00 | -2.10369  | -1.66835  | -1.31263  |\n",
      "| 2001-04-02 00:00:00 | -2.22664  | -1.29907  | -1.77555  |\n",
      "| 2001-04-03 00:00:00 | -1.72214  | -1.30264  | -1.87358  |\n",
      "| 2001-04-04 00:00:00 | -1.68118  | -1.7307   | -1.29354  |\n",
      "| 2001-04-05 00:00:00 | -1.66883  | -1.89301  | -1.65804  |\n",
      "| 2001-04-06 00:00:00 | -1.286    | -1.85097  | -1.92525  |\n",
      "| 2001-04-07 00:00:00 | -1.4276   | -2.36307  | -1.8638   |\n",
      "| 2001-04-08 00:00:00 | -1.63653  | -1.38655  | -1.78652  |\n",
      "| 2001-04-09 00:00:00 | -1.45074  | -1.51508  | -1.27814  |\n",
      "| 2001-04-10 00:00:00 | -1.86076  | -1.26567  | -1.96661  |\n",
      "| 2001-04-11 00:00:00 | -1.41456  | -2.16737  | -1.0846   |\n",
      "| 2001-04-12 00:00:00 | -1.40458  | -1.53872  | -1.85968  |\n",
      "| 2001-04-13 00:00:00 | -1.87445  | -1.95268  | -1.54459  |\n",
      "| 2001-04-14 00:00:00 | -1.25905  | -1.66555  | -1.64938  |\n",
      "| 2001-04-15 00:00:00 | -1.68219  | -1.21043  | -1.40138  |\n",
      "| 2001-04-16 00:00:00 | -2.32351  | -1.26186  | -1.73667  |\n",
      "| 2001-04-17 00:00:00 | -1.21455  | -1.49713  | -2.17019  |\n",
      "| 2001-04-18 00:00:00 | -1.82688  | -1.69693  | -1.87296  |\n",
      "| 2001-04-19 00:00:00 | -1.2121   | -1.56912  | -1.87202  |\n",
      "| 2001-04-20 00:00:00 | -1.64708  | -1.91005  | -1.39061  |\n",
      "| 2001-04-21 00:00:00 | -2.09088  | -1.59898  | -1.60421  |\n",
      "| 2001-04-22 00:00:00 | -1.44422  | -1.82427  | -1.58442  |\n",
      "| 2001-04-23 00:00:00 | -1.02689  | -1.75898  | -1.56737  |\n",
      "| 2001-04-24 00:00:00 | -1.68062  | -1.10505  | -1.24563  |\n",
      "| 2001-04-25 00:00:00 | -1.83911  | -1.24504  | -1.77555  |\n",
      "| 2001-04-26 00:00:00 | -1.42253  | -1.14497  | -1.37544  |\n",
      "| 2001-04-27 00:00:00 | -1.8067   | -1.61577  | -1.53521  |\n",
      "| 2001-04-28 00:00:00 | -1.73293  | -1.79884  | -1.59509  |\n",
      "| 2001-04-29 00:00:00 | -1.28513  | -1.65839  | -1.60537  |\n",
      "| 2001-04-30 00:00:00 | -1.63524  | -1.60495  | -1.71641  |\n",
      "| 2001-05-01 00:00:00 | -1.28878  | -1.63747  | -1.58794  |\n",
      "| 2001-05-02 00:00:00 | -2.06353  | -1.23491  | -1.47707  |\n",
      "| 2001-05-03 00:00:00 | -1.09799  | -1.63307  | -1.80307  |\n",
      "| 2001-05-04 00:00:00 | -1.65618  | -1.42248  | -2.12712  |\n",
      "| 2001-05-05 00:00:00 | -1.73406  | -1.81401  | -1.57638  |\n",
      "| 2001-05-06 00:00:00 | -1.86205  | -1.46172  | -1.84408  |\n",
      "| 2001-05-07 00:00:00 | -2.21652  | -1.35713  | -1.28403  |\n",
      "| 2001-05-08 00:00:00 | -1.61717  | -1.35745  | -1.42343  |\n",
      "| 2001-05-09 00:00:00 | -1.16607  | -1.4751   | -1.85845  |\n",
      "| 2001-05-10 00:00:00 | -2.24849  | -1.32431  | -1.74634  |\n",
      "| 2001-05-11 00:00:00 | -1.83929  | -2.11978  | -2.14931  |\n",
      "| 2001-05-12 00:00:00 | -1.43115  | -2.27194  | -1.59916  |\n",
      "| 2001-05-13 00:00:00 | -1.9069   | -1.7638   | -1.73183  |\n",
      "| 2001-05-14 00:00:00 | -1.74673  | -1.66362  | -2.37122  |\n",
      "| 2001-05-15 00:00:00 | -1.91464  | -1.85457  | -1.70771  |\n",
      "| 2001-05-16 00:00:00 | -2.03668  | -1.73275  | -1.749    |\n",
      "| 2001-05-17 00:00:00 | -1.21329  | -1.44371  | -1.37628  |\n",
      "| 2001-05-18 00:00:00 | -2.37727  | -1.81011  | -1.9786   |\n",
      "| 2001-05-19 00:00:00 | -2.13879  | -1.34381  | -1.83619  |\n",
      "| 2001-05-20 00:00:00 | -1.68629  | -1.73     | -1.98133  |\n",
      "| 2001-05-21 00:00:00 | -1.83321  | -1.94593  | -1.59719  |\n",
      "| 2001-05-22 00:00:00 | -1.92231  | -1.96693  | -2.28301  |\n",
      "| 2001-05-23 00:00:00 | -1.97649  | -1.31766  | -1.34694  |\n",
      "| 2001-05-24 00:00:00 | -1.67128  | -1.04759  | -1.84058  |\n",
      "| 2001-05-25 00:00:00 | -1.14136  | -1.31323  | -1.57749  |\n",
      "| 2001-05-26 00:00:00 | -1.89796  | -1.59123  | -1.78692  |\n",
      "| 2001-05-27 00:00:00 | -2.02552  | -1.61623  | -2.42307  |\n",
      "| 2001-05-28 00:00:00 | -1.63014  | -1.5254   | -1.66025  |\n",
      "| 2001-05-29 00:00:00 | -1.44308  | -1.74481  | -2.02001  |\n",
      "| 2001-05-30 00:00:00 | -1.97695  | -1.34468  | -0.853487 |\n",
      "| 2001-05-31 00:00:00 | -1.73666  | -1.49444  | -1.90344  |\n",
      "| 2001-06-01 00:00:00 | -2.07231  | -1.82298  | -1.38351  |\n",
      "| 2001-06-02 00:00:00 | -2.14685  | -1.55723  | -2.07788  |\n",
      "| 2001-06-03 00:00:00 | -1.72919  | -1.76251  | -2.01552  |\n",
      "| 2001-06-04 00:00:00 | -2.07768  | -1.57709  | -1.07792  |\n",
      "| 2001-06-05 00:00:00 | -0.823745 | -2.014    | -1.6013   |\n",
      "| 2001-06-06 00:00:00 | -1.35282  | -2.17392  | -2.01823  |\n",
      "| 2001-06-07 00:00:00 | -1.58655  | -1.4825   | -2.27616  |\n",
      "| 2001-06-08 00:00:00 | -1.48424  | -1.3998   | -1.57491  |\n",
      "| 2001-06-09 00:00:00 | -1.40671  | -1.86748  | -1.27502  |\n",
      "| 2001-06-10 00:00:00 | -2.1075   | -1.6519   | -1.64802  |\n",
      "| 2001-06-11 00:00:00 | -1.35797  | -1.8717   | -1.21645  |\n",
      "| 2001-06-12 00:00:00 | -1.77732  | -2.07871  | -1.82001  |\n",
      "| 2001-06-13 00:00:00 | -1.91394  | -1.46531  | -1.47337  |\n",
      "| 2001-06-14 00:00:00 | -2.26063  | -1.48265  | -1.25143  |\n",
      "| 2001-06-15 00:00:00 | -2.0263   | -1.81143  | -2.31343  |\n",
      "| 2001-06-16 00:00:00 | -1.78682  | -1.6424   | -1.13294  |\n",
      "| 2001-06-17 00:00:00 | -1.5763   | -1.44814  | -2.39337  |\n",
      "| 2001-06-18 00:00:00 | -1.25825  | -1.69449  | -2.47506  |\n",
      "| 2001-06-19 00:00:00 | -1.71925  | -1.53114  | -1.36931  |\n",
      "| 2001-06-20 00:00:00 | -2.04406  | -1.52279  | -1.58045  |\n",
      "| 2001-06-21 00:00:00 | -1.89612  | -1.18885  | -1.71187  |\n",
      "| 2001-06-22 00:00:00 | -2.15742  | -1.43169  | -1.87212  |\n",
      "| 2001-06-23 00:00:00 | -2.36156  | -1.21057  | -1.25675  |\n",
      "| 2001-06-24 00:00:00 | -1.8137   | -1.44095  | -1.87541  |\n",
      "| 2001-06-25 00:00:00 | -1.91938  | -1.62511  | -1.77986  |\n",
      "| 2001-06-26 00:00:00 | -1.44014  | -1.54236  | -1.26302  |\n",
      "| 2001-06-27 00:00:00 | -1.76197  | -1.68718  | -1.75286  |\n",
      "| 2001-06-28 00:00:00 | -1.93688  | -1.91469  | -2.03355  |\n",
      "| 2001-06-29 00:00:00 | -1.27835  | -1.65383  | -1.69199  |\n",
      "| 2001-06-30 00:00:00 | -1.50127  | -1.91731  | -1.25032  |\n",
      "| 2001-07-01 00:00:00 | -1.80374  | -1.96373  | -1.96347  |\n",
      "| 2001-07-02 00:00:00 | -1.77661  | -1.66404  | -1.96558  |\n",
      "| 2001-07-03 00:00:00 | -1.91336  | -1.39108  | -1.3776   |\n",
      "| 2001-07-04 00:00:00 | -1.82716  | -2.36656  | -1.73501  |\n",
      "| 2001-07-05 00:00:00 | -1.59932  | -2.04268  | -1.07412  |\n",
      "| 2001-07-06 00:00:00 | -1.9899   | -1.67966  | -1.26222  |\n",
      "| 2001-07-07 00:00:00 | -1.96868  | -1.36905  | -1.49647  |\n",
      "| 2001-07-08 00:00:00 | -2.05562  | -1.33835  | -1.39044  |\n",
      "| 2001-07-09 00:00:00 | -1.76943  | -1.917    | -1.91159  |\n",
      "| 2001-07-10 00:00:00 | -1.22718  | -1.58365  | -2.13806  |\n",
      "| 2001-07-11 00:00:00 | -1.85471  | -1.90523  | -1.68157  |\n",
      "| 2001-07-12 00:00:00 | -1.47509  | -2.02808  | -1.71119  |\n",
      "| 2001-07-13 00:00:00 | -1.68487  | -1.29336  | -1.66483  |\n",
      "| 2001-07-14 00:00:00 | -1.39123  | -2.14989  | -1.96681  |\n",
      "| 2001-07-15 00:00:00 | -0.975687 | -1.89688  | -1.89531  |\n",
      "| 2001-07-16 00:00:00 | -1.75341  | -2.33592  | -1.50422  |\n",
      "| 2001-07-17 00:00:00 | -2.44185  | -2.14832  | -1.35953  |\n",
      "| 2001-07-18 00:00:00 | -2.0412   | -1.5209   | -2.89997  |\n",
      "| 2001-07-19 00:00:00 | -1.73042  | -1.9628   | -1.83627  |\n",
      "| 2001-07-20 00:00:00 | -1.55442  | -1.75322  | -1.54525  |\n",
      "| 2001-07-21 00:00:00 | -1.71526  | -1.68962  | -1.72885  |\n",
      "| 2001-07-22 00:00:00 | -2.21071  | -2.18301  | -1.63913  |\n",
      "| 2001-07-23 00:00:00 | -2.05741  | -1.53872  | -1.6918   |\n",
      "| 2001-07-24 00:00:00 | -1.78419  | -1.66584  | -1.51316  |\n",
      "| 2001-07-25 00:00:00 | -1.25316  | -1.98074  | -1.49314  |\n",
      "| 2001-07-26 00:00:00 | -1.70511  | -1.75016  | -2.31579  |\n",
      "| 2001-07-27 00:00:00 | -1.58762  | -1.04896  | -1.13579  |\n",
      "| 2001-07-28 00:00:00 | -1.4413   | -1.44481  | -2.01202  |\n",
      "| 2001-07-29 00:00:00 | -2.13999  | -1.886    | -1.96753  |\n",
      "| 2001-07-30 00:00:00 | -1.46794  | -1.4938   | -1.19206  |\n",
      "| 2001-07-31 00:00:00 | -1.80632  | -1.75837  | -1.47384  |\n",
      "| 2001-08-01 00:00:00 | -2.30262  | -1.78569  | -1.66604  |\n",
      "| 2001-08-02 00:00:00 | -2.33165  | -1.9285   | -1.51891  |\n",
      "| 2001-08-03 00:00:00 | -1.13758  | -1.57051  | -1.42574  |\n",
      "| 2001-08-04 00:00:00 | -1.49116  | -1.63615  | -2.18097  |\n",
      "| 2001-08-05 00:00:00 | -1.87738  | -1.66664  | -1.93806  |\n",
      "| 2001-08-06 00:00:00 | -1.62416  | -1.63643  | -1.74576  |\n",
      "| 2001-08-07 00:00:00 | -1.77847  | -1.73901  | -1.66775  |\n",
      "| 2001-08-08 00:00:00 | -1.47967  | -1.77386  | -1.36777  |\n",
      "| 2001-08-09 00:00:00 | -1.11299  | -1.29616  | -2.02671  |\n",
      "| 2001-08-10 00:00:00 | -2.01928  | -2.32322  | -1.50021  |\n",
      "| 2001-08-11 00:00:00 | -2.0227   | -1.40261  | -2.06902  |\n",
      "| 2001-08-12 00:00:00 | -2.17844  | -1.53927  | -1.67367  |\n",
      "| 2001-08-13 00:00:00 | -1.72338  | -1.60305  | -1.58088  |\n",
      "| 2001-08-14 00:00:00 | -1.77782  | -1.63251  | -1.82844  |\n",
      "| 2001-08-15 00:00:00 | -1.65683  | -1.52224  | -2.04916  |\n",
      "| 2001-08-16 00:00:00 | -1.00189  | -1.71643  | -1.29371  |\n",
      "| 2001-08-17 00:00:00 | -1.49048  | -1.88803  | -1.56975  |\n",
      "| 2001-08-18 00:00:00 | -1.55617  | -1.61989  | -1.4311   |\n",
      "| 2001-08-19 00:00:00 | -1.39251  | -1.8904   | -2.07694  |\n",
      "| 2001-08-20 00:00:00 | -1.67936  | -1.16121  | -1.61502  |\n",
      "| 2001-08-21 00:00:00 | -1.62746  | -1.9461   | -1.90289  |\n",
      "| 2001-08-22 00:00:00 | -1.13889  | -1.86006  | -1.80436  |\n",
      "| 2001-08-23 00:00:00 | -2.36807  | -1.8236   | -1.28913  |\n",
      "| 2001-08-24 00:00:00 | -1.11454  | -1.79401  | -1.52115  |\n",
      "| 2001-08-25 00:00:00 | -1.53509  | -2.63966  | -1.70783  |\n",
      "| 2001-08-26 00:00:00 | -1.46763  | -1.49893  | -2.16288  |\n",
      "| 2001-08-27 00:00:00 | -1.64848  | -1.70045  | -1.09002  |\n",
      "| 2001-08-28 00:00:00 | -1.47059  | -1.297    | -1.53319  |\n",
      "| 2001-08-29 00:00:00 | -1.39346  | -1.33866  | -1.09122  |\n",
      "| 2001-08-30 00:00:00 | -1.51718  | -1.6808   | -1.38975  |\n",
      "| 2001-08-31 00:00:00 | -2.00524  | -1.37974  | -1.74857  |\n",
      "| 2001-09-01 00:00:00 | -1.55562  | -2.02261  | -1.04579  |\n",
      "| 2001-09-02 00:00:00 | -1.36115  | -1.77948  | -1.64668  |\n",
      "| 2001-09-03 00:00:00 | -1.97104  | -2.09101  | -1.81023  |\n",
      "| 2001-09-04 00:00:00 | -1.71955  | -1.77756  | -2.03018  |\n",
      "| 2001-09-05 00:00:00 | -1.59023  | -1.44597  | -1.65916  |\n",
      "| 2001-09-06 00:00:00 | -1.82702  | -1.78664  | -1.84698  |\n",
      "| 2001-09-07 00:00:00 | -2.06955  | -2.30979  | -1.662    |\n",
      "| 2001-09-08 00:00:00 | -1.40483  | -1.21035  | -1.76068  |\n",
      "| 2001-09-09 00:00:00 | -1.64789  | -2.35992  | -1.32624  |\n",
      "| 2001-09-10 00:00:00 | -1.89488  | -1.42438  | -2.02353  |\n",
      "| 2001-09-11 00:00:00 | -1.9498   | -1.8684   | -1.98653  |\n",
      "| 2001-09-12 00:00:00 | -1.29919  | -1.48772  | -2.30004  |\n",
      "| 2001-09-13 00:00:00 | -1.44858  | -2.09537  | -1.83443  |\n",
      "| 2001-09-14 00:00:00 | -2.19408  | -1.50351  | -1.11315  |\n",
      "| 2001-09-15 00:00:00 | -1.34062  | -1.7492   | -2.44839  |\n",
      "| 2001-09-16 00:00:00 | -1.80025  | -1.59202  | -1.64234  |\n",
      "| 2001-09-17 00:00:00 | -1.92693  | -1.55064  | -1.78157  |\n",
      "| 2001-09-18 00:00:00 | -1.58634  | -1.76059  | -0.861844 |\n",
      "| 2001-09-19 00:00:00 | -1.32753  | -1.52004  | -0.972785 |\n",
      "| 2001-09-20 00:00:00 | -1.6171   | -1.70759  | -1.47469  |\n",
      "| 2001-09-21 00:00:00 | -1.50393  | -1.43799  | -1.61975  |\n",
      "| 2001-09-22 00:00:00 | -1.97778  | -2.14537  | -1.50021  |\n",
      "| 2001-09-23 00:00:00 | -0.918272 | -2.20511  | -1.02535  |\n",
      "| 2001-09-24 00:00:00 | -1.78622  | -2.07106  | -1.39622  |\n",
      "| 2001-09-25 00:00:00 | -1.43329  | -1.72497  | -1.55675  |\n",
      "| 2001-09-26 00:00:00 | -0.782345 | -1.44272  | -1.82382  |\n",
      "| 2001-09-27 00:00:00 | -1.88026  | -1.41031  | -1.40511  |\n",
      "| 2001-09-28 00:00:00 | -2.10946  | -1.55995  | -2.1347   |\n",
      "| 2001-09-29 00:00:00 | -1.54617  | -1.71505  | -1.50917  |\n",
      "| 2001-09-30 00:00:00 | -1.35501  | -1.40261  | -1.41515  |\n",
      "| 2001-10-01 00:00:00 | -1.41334  | -2.07176  | -1.61853  |\n",
      "| 2001-10-02 00:00:00 | -1.62002  | -1.80309  | -2.06513  |\n",
      "| 2001-10-03 00:00:00 | -1.82662  | -1.61791  | -1.62258  |\n",
      "| 2001-10-04 00:00:00 | -0.879676 | -2.11577  | -1.70072  |\n",
      "| 2001-10-05 00:00:00 | -1.85222  | -1.71353  | -1.96241  |\n",
      "| 2001-10-06 00:00:00 | -1.90586  | -1.65202  | -1.81448  |\n",
      "| 2001-10-07 00:00:00 | -1.27152  | -1.62546  | -1.29031  |\n",
      "| 2001-10-08 00:00:00 | -1.77488  | -1.73774  | -1.22112  |\n",
      "| 2001-10-09 00:00:00 | -1.76037  | -1.73994  | -2.35677  |\n",
      "| 2001-10-10 00:00:00 | -2.11111  | -1.74611  | -1.33899  |\n",
      "| 2001-10-11 00:00:00 | -1.54347  | -1.3681   | -1.71653  |\n",
      "| 2001-10-12 00:00:00 | -1.53757  | -2.32165  | -2.03305  |\n",
      "| 2001-10-13 00:00:00 | -1.39353  | -2.10546  | -1.88722  |\n",
      "| 2001-10-14 00:00:00 | -1.66583  | -1.05113  | -1.04312  |\n",
      "| 2001-10-15 00:00:00 | -1.71162  | -2.50216  | -1.69167  |\n",
      "| 2001-10-16 00:00:00 | -1.42572  | -1.08819  | -1.56328  |\n",
      "| 2001-10-17 00:00:00 | -1.56216  | -1.65736  | -1.33132  |\n",
      "| 2001-10-18 00:00:00 | -2.2141   | -1.84754  | -1.32819  |\n",
      "| 2001-10-19 00:00:00 | -1.45977  | -1.31533  | -0.978509 |\n",
      "| 2001-10-20 00:00:00 | -1.64059  | -1.39932  | -1.49068  |\n",
      "| 2001-10-21 00:00:00 | -1.72408  | -1.62157  | -1.96079  |\n",
      "| 2001-10-22 00:00:00 | -1.48633  | -2.02533  | -1.48311  |\n",
      "| 2001-10-23 00:00:00 | -1.323    | -1.57071  | -1.84776  |\n",
      "| 2001-10-24 00:00:00 | -1.77224  | -1.00564  | -1.81189  |\n",
      "| 2001-10-25 00:00:00 | -2.1931   | -1.59491  | -1.20342  |\n",
      "| 2001-10-26 00:00:00 | -1.82683  | -1.08486  | -2.16092  |\n",
      "| 2001-10-27 00:00:00 | -2.26282  | -1.41329  | -1.86639  |\n",
      "| 2001-10-28 00:00:00 | -2.14927  | -2.39653  | -1.08739  |\n",
      "| 2001-10-29 00:00:00 | -1.87371  | -2.16695  | -1.57976  |\n",
      "| 2001-10-30 00:00:00 | -1.2407   | -2.07714  | -1.9966   |\n",
      "| 2001-10-31 00:00:00 | -1.34534  | -1.36315  | -1.79131  |\n",
      "| 2001-11-01 00:00:00 | -2.24633  | -2.24039  | -1.64515  |\n",
      "| 2001-11-02 00:00:00 | -1.23748  | -2.22011  | -1.04115  |\n",
      "| 2001-11-03 00:00:00 | -1.7896   | -1.49893  | -1.21317  |\n",
      "| 2001-11-04 00:00:00 | -1.91498  | -1.73865  | -1.92896  |\n",
      "| 2001-11-05 00:00:00 | -1.25115  | -1.18716  | -1.57647  |\n",
      "| 2001-11-06 00:00:00 | -2.19157  | -2.24803  | -1.54005  |\n",
      "| 2001-11-07 00:00:00 | -1.62706  | -1.52184  | -1.66126  |\n",
      "| 2001-11-08 00:00:00 | -2.20245  | -1.70171  | -1.96074  |\n",
      "| 2001-11-09 00:00:00 | -1.90733  | -1.97378  | -2.56757  |\n",
      "| 2001-11-10 00:00:00 | -1.79858  | -1.43637  | -1.38926  |\n",
      "| 2001-11-11 00:00:00 | -1.98576  | -1.79631  | -1.72318  |\n",
      "| 2001-11-12 00:00:00 | -1.48488  | -1.80302  | -1.79804  |\n",
      "| 2001-11-13 00:00:00 | -1.74833  | -1.33056  | -2.00873  |\n",
      "| 2001-11-14 00:00:00 | -2.13927  | -1.45607  | -1.65081  |\n",
      "| 2001-11-15 00:00:00 | -1.68211  | -1.75693  | -1.93053  |\n",
      "| 2001-11-16 00:00:00 | -2.23123  | -2.04887  | -1.57536  |\n",
      "| 2001-11-17 00:00:00 | -2.28136  | -1.1117   | -1.38716  |\n",
      "| 2001-11-18 00:00:00 | -1.13571  | -1.56925  | -1.12402  |\n",
      "| 2001-11-19 00:00:00 | -1.16189  | -2.67004  | -1.49371  |\n",
      "| 2001-11-20 00:00:00 | -1.60536  | -2.02272  | -1.50305  |\n",
      "| 2001-11-21 00:00:00 | -1.7023   | -1.78845  | -2.16285  |\n",
      "| 2001-11-22 00:00:00 | -1.89083  | -1.88548  | -1.50944  |\n",
      "| 2001-11-23 00:00:00 | -1.33572  | -2.01967  | -1.06403  |\n",
      "| 2001-11-24 00:00:00 | -1.59659  | -1.73535  | -1.47359  |\n",
      "| 2001-11-25 00:00:00 | -2.0018   | -1.64185  | -1.65237  |\n",
      "| 2001-11-26 00:00:00 | -1.1306   | -1.50151  | -1.6848   |\n",
      "| 2001-11-27 00:00:00 | -1.57679  | -2.1758   | -1.16095  |\n",
      "| 2001-11-28 00:00:00 | -0.505763 | -1.67395  | -1.65828  |\n",
      "| 2001-11-29 00:00:00 | -2.20084  | -1.83393  | -1.3762   |\n",
      "| 2001-11-30 00:00:00 | -1.2179   | -1.33853  | -1.39953  |\n",
      "| 2001-12-01 00:00:00 | -1.13303  | -2.20402  | -1.41906  |\n",
      "| 2001-12-02 00:00:00 | -1.90577  | -1.16456  | -1.3264   |\n",
      "| 2001-12-03 00:00:00 | -1.80774  | -1.5623   | -2.15869  |\n",
      "| 2001-12-04 00:00:00 | -1.76876  | -1.69219  | -0.85828  |\n",
      "| 2001-12-05 00:00:00 | -1.71731  | -2.14183  | -2.04085  |\n",
      "| 2001-12-06 00:00:00 | -1.76071  | -1.12976  | -1.51973  |\n",
      "| 2001-12-07 00:00:00 | -1.89392  | -1.32079  | -1.53918  |\n",
      "| 2001-12-08 00:00:00 | -1.91751  | -1.59565  | -1.78821  |\n",
      "| 2001-12-09 00:00:00 | -1.76911  | -2.01427  | -1.4531   |\n",
      "| 2001-12-10 00:00:00 | -1.13769  | -1.40087  | -1.70403  |\n",
      "| 2001-12-11 00:00:00 | -1.52831  | -2.39446  | -1.72052  |\n",
      "| 2001-12-12 00:00:00 | -1.62085  | -1.40553  | -1.47644  |\n",
      "| 2001-12-13 00:00:00 | -1.42801  | -1.23045  | -1.65398  |\n",
      "| 2001-12-14 00:00:00 | -1.67154  | -1.55154  | -1.4124   |\n",
      "| 2001-12-15 00:00:00 | -1.65166  | -1.67759  | -1.19063  |\n",
      "| 2001-12-16 00:00:00 | -1.36962  | -1.50092  | -2.02745  |\n",
      "| 2001-12-17 00:00:00 | -1.62364  | -1.58515  | -1.66955  |\n",
      "| 2001-12-18 00:00:00 | -2.0353   | -1.56387  | -1.94307  |\n",
      "| 2001-12-19 00:00:00 | -2.2993   | -1.12442  | -1.36183  |\n",
      "| 2001-12-20 00:00:00 | -1.87168  | -1.54259  | -1.79702  |\n",
      "| 2001-12-21 00:00:00 | -1.79642  | -1.73628  | -1.73933  |\n",
      "| 2001-12-22 00:00:00 | -2.271    | -1.99427  | -1.02835  |\n",
      "| 2001-12-23 00:00:00 | -1.27883  | -1.95982  | -1.916    |\n",
      "| 2001-12-24 00:00:00 | -2.02599  | -1.6491   | -1.87197  |\n",
      "| 2001-12-25 00:00:00 | -1.46849  | -2.12198  | -1.15646  |\n",
      "| 2001-12-26 00:00:00 | -1.57396  | -1.39524  | -2.07107  |\n",
      "| 2001-12-27 00:00:00 | -1.70839  | -1.53892  | -1.97291  |\n",
      "| 2001-12-28 00:00:00 | -1.63124  | -1.51588  | -1.62144  |\n",
      "| 2001-12-29 00:00:00 | -2.1338   | -1.41164  | -2.23951  |\n",
      "| 2001-12-30 00:00:00 | -1.78466  | -1.92746  | -1.57749  |\n",
      "| 2001-12-31 00:00:00 | -1.2846   | -1.92579  | -1.64624  |\n",
      "| 2002-01-01 00:00:00 | -1.0447   | -1.54674  | -2.19546  |\n",
      "| 2002-01-02 00:00:00 | -1.6943   | -1.58726  | -1.54406  |\n",
      "| 2002-01-03 00:00:00 | -1.49001  | -1.39014  | -1.79342  |\n",
      "| 2002-01-04 00:00:00 | -1.70473  | -1.91306  | -1.63942  |\n",
      "| 2002-01-05 00:00:00 | -2.13894  | -0.827629 | -1.80364  |\n",
      "| 2002-01-06 00:00:00 | -2.22634  | -1.46485  | -1.70439  |\n",
      "| 2002-01-07 00:00:00 | -0.746898 | -2.17639  | -1.85253  |\n",
      "| 2002-01-08 00:00:00 | -1.50357  | -1.73529  | -1.5368   |\n",
      "| 2002-01-09 00:00:00 | -1.93805  | -1.78498  | -1.48734  |\n",
      "| 2002-01-10 00:00:00 | -2.34365  | -1.87752  | -1.99672  |\n",
      "| 2002-01-11 00:00:00 | -1.66649  | -2.23996  | -1.39127  |\n",
      "| 2002-01-12 00:00:00 | -1.44046  | -1.69816  | -1.69805  |\n",
      "| 2002-01-13 00:00:00 | -2.09714  | -2.23129  | -1.02161  |\n",
      "| 2002-01-14 00:00:00 | -1.55943  | -1.68186  | -1.06151  |\n",
      "| 2002-01-15 00:00:00 | -1.69235  | -1.63201  | -1.50044  |\n",
      "| 2002-01-16 00:00:00 | -1.62589  | -2.02345  | -1.80363  |\n",
      "| 2002-01-17 00:00:00 | -1.41755  | -2.1317   | -1.17001  |\n",
      "| 2002-01-18 00:00:00 | -1.4439   | -1.67137  | -1.66892  |\n",
      "| 2002-01-19 00:00:00 | -2.45805  | -1.15144  | -0.921665 |\n",
      "| 2002-01-20 00:00:00 | -1.6084   | -1.72765  | -1.39453  |\n",
      "| 2002-01-21 00:00:00 | -1.27898  | -1.46224  | -1.84968  |\n",
      "| 2002-01-22 00:00:00 | -2.3423   | -1.63204  | -1.52008  |\n",
      "| 2002-01-23 00:00:00 | -1.68601  | -1.51007  | -1.51256  |\n",
      "| 2002-01-24 00:00:00 | -1.32083  | -2.35389  | -1.51366  |\n",
      "| 2002-01-25 00:00:00 | -1.43279  | -1.80791  | -2.06296  |\n",
      "| 2002-01-26 00:00:00 | -1.87842  | -2.28519  | -1.89476  |\n",
      "| 2002-01-27 00:00:00 | -2.28213  | -1.65669  | -1.4792   |\n",
      "| 2002-01-28 00:00:00 | -1.06351  | -2.19774  | -1.74605  |\n",
      "| 2002-01-29 00:00:00 | -1.71877  | -1.74565  | -1.6933   |\n",
      "| 2002-01-30 00:00:00 | -1.86309  | -1.86868  | -1.23901  |\n",
      "| 2002-01-31 00:00:00 | -1.02722  | -1.38437  | -1.46522  |\n",
      "| 2002-02-01 00:00:00 | -1.82237  | -1.42216  | -1.69016  |\n",
      "| 2002-02-02 00:00:00 | -1.07515  | -1.82115  | -1.55091  |\n",
      "| 2002-02-03 00:00:00 | -1.23178  | -1.88032  | -1.67245  |\n",
      "| 2002-02-04 00:00:00 | -1.72351  | -2.04627  | -2.06347  |\n",
      "| 2002-02-05 00:00:00 | -1.77995  | -1.74838  | -1.53595  |\n",
      "| 2002-02-06 00:00:00 | -1.94386  | -1.30238  | -1.70652  |\n",
      "| 2002-02-07 00:00:00 | -1.30916  | -2.2812   | -1.91343  |\n",
      "| 2002-02-08 00:00:00 | -1.28185  | -1.34927  | -1.66885  |\n",
      "| 2002-02-09 00:00:00 | -1.72478  | -1.47425  | -1.4962   |\n",
      "| 2002-02-10 00:00:00 | -0.984993 | -1.50444  | -1.50046  |\n",
      "| 2002-02-11 00:00:00 | -1.63747  | -1.77469  | -1.38589  |\n",
      "| 2002-02-12 00:00:00 | -1.13077  | -1.96907  | -1.38283  |\n",
      "| 2002-02-13 00:00:00 | -1.23763  | -1.24737  | -2.18287  |\n",
      "| 2002-02-14 00:00:00 | -1.82804  | -2.16267  | -1.16282  |\n",
      "| 2002-02-15 00:00:00 | -1.04086  | -1.79703  | -2.09327  |\n",
      "| 2002-02-16 00:00:00 | -1.27365  | -1.53299  | -2.27027  |\n",
      "| 2002-02-17 00:00:00 | -2.12996  | -1.42771  | -1.22484  |\n",
      "| 2002-02-18 00:00:00 | -2.20336  | -1.72303  | -1.87898  |\n",
      "| 2002-02-19 00:00:00 | -1.97117  | -1.39576  | -1.98415  |\n",
      "| 2002-02-20 00:00:00 | -1.53607  | -1.69772  | -1.7663   |\n",
      "| 2002-02-21 00:00:00 | -1.60201  | -1.29641  | -1.93487  |\n",
      "| 2002-02-22 00:00:00 | -1.89259  | -1.59139  | -1.56606  |\n",
      "| 2002-02-23 00:00:00 | -1.43316  | -1.65049  | -1.40599  |\n",
      "| 2002-02-24 00:00:00 | -1.17053  | -1.66217  | -1.65875  |\n",
      "| 2002-02-25 00:00:00 | -1.19357  | -1.42769  | -1.92094  |\n",
      "| 2002-02-26 00:00:00 | -1.5345   | -1.69068  | -1.99074  |\n",
      "| 2002-02-27 00:00:00 | -1.75819  | -1.85424  | -1.77242  |\n",
      "| 2002-02-28 00:00:00 | -1.91835  | -2.41936  | -1.9291   |\n",
      "| 2002-03-01 00:00:00 | -1.82106  | -1.60464  | -1.919    |\n",
      "| 2002-03-02 00:00:00 | -2.66889  | -1.32636  | -1.7948   |\n",
      "| 2002-03-03 00:00:00 | -1.70377  | -1.88139  | -1.66506  |\n",
      "| 2002-03-04 00:00:00 | -1.07917  | -1.29591  | -1.682    |\n",
      "| 2002-03-05 00:00:00 | -1.29604  | -1.53775  | -0.990609 |\n",
      "| 2002-03-06 00:00:00 | -1.83124  | -2.33118  | -1.98724  |\n",
      "| 2002-03-07 00:00:00 | -1.90001  | -1.51623  | -1.08999  |\n",
      "| 2002-03-08 00:00:00 | -1.7553   | -1.80961  | -1.92719  |\n",
      "| 2002-03-09 00:00:00 | -1.4481   | -1.38496  | -0.969676 |\n",
      "| 2002-03-10 00:00:00 | -1.95735  | -1.37403  | -2.1251   |\n",
      "| 2002-03-11 00:00:00 | -1.87524  | -2.05803  | -1.62855  |\n",
      "| 2002-03-12 00:00:00 | -1.36009  | -1.73765  | -1.4209   |\n",
      "| 2002-03-13 00:00:00 | -1.52914  | -1.59794  | -0.905016 |\n",
      "| 2002-03-14 00:00:00 | -1.84663  | -1.8543   | -1.87695  |\n",
      "| 2002-03-15 00:00:00 | -1.40445  | -1.88677  | -1.62616  |\n",
      "| 2002-03-16 00:00:00 | -1.83928  | -1.55804  | -1.91528  |\n",
      "| 2002-03-17 00:00:00 | -1.63901  | -1.85554  | -1.48971  |\n",
      "| 2002-03-18 00:00:00 | -1.7072   | -1.88303  | -1.71316  |\n",
      "| 2002-03-19 00:00:00 | -1.5395   | -1.46969  | -1.24356  |\n",
      "| 2002-03-20 00:00:00 | -1.65875  | -2.02473  | -1.78695  |\n",
      "| 2002-03-21 00:00:00 | -1.73199  | -1.16382  | -1.37683  |\n",
      "| 2002-03-22 00:00:00 | -1.32497  | -1.75189  | -2.11351  |\n",
      "| 2002-03-23 00:00:00 | -1.51776  | -1.25755  | -1.46044  |\n",
      "| 2002-03-24 00:00:00 | -1.81996  | -1.99988  | -1.82074  |\n",
      "| 2002-03-25 00:00:00 | -1.88246  | -1.20598  | -2.13594  |\n",
      "| 2002-03-26 00:00:00 | -1.92002  | -0.9875   | -1.84574  |\n",
      "| 2002-03-27 00:00:00 | -1.78907  | -2.18439  | -1.54703  |\n",
      "| 2002-03-28 00:00:00 | -1.54537  | -1.64371  | -1.75448  |\n",
      "| 2002-03-29 00:00:00 | -1.75726  | -2.02327  | -2.04423  |\n",
      "| 2002-03-30 00:00:00 | -1.48063  | -1.46081  | -1.55211  |\n",
      "| 2002-03-31 00:00:00 | -1.53245  | -1.45257  | -1.12916  |\n",
      "| 2002-04-01 00:00:00 | -1.36892  | -1.37766  | -1.29243  |\n",
      "| 2002-04-02 00:00:00 | -1.82189  | -1.55733  | -1.97606  |\n",
      "| 2002-04-03 00:00:00 | -1.35029  | -1.60292  | -1.0795   |\n",
      "| 2002-04-04 00:00:00 | -1.84609  | -1.34865  | -1.17849  |\n",
      "| 2002-04-05 00:00:00 | -1.74998  | -1.22211  | -1.65183  |\n",
      "| 2002-04-06 00:00:00 | -1.51575  | -2.29073  | -1.8561   |\n",
      "| 2002-04-07 00:00:00 | -1.60648  | -1.65848  | -1.57091  |\n",
      "| 2002-04-08 00:00:00 | -1.55359  | -1.63154  | -1.41654  |\n",
      "| 2002-04-09 00:00:00 | -1.595    | -1.48442  | -1.98059  |\n",
      "| 2002-04-10 00:00:00 | -1.46664  | -2.0878   | -1.99558  |\n",
      "| 2002-04-11 00:00:00 | -1.63905  | -1.38169  | -1.91732  |\n",
      "| 2002-04-12 00:00:00 | -1.43132  | -0.94589  | -1.82605  |\n",
      "| 2002-04-13 00:00:00 | -1.43035  | -1.52357  | -2.44018  |\n",
      "| 2002-04-14 00:00:00 | -1.69865  | -2.20376  | -1.38248  |\n",
      "| 2002-04-15 00:00:00 | -1.3304   | -1.47214  | -1.85578  |\n",
      "| 2002-04-16 00:00:00 | -1.51527  | -1.11716  | -1.67677  |\n",
      "| 2002-04-17 00:00:00 | -2.12753  | -1.40417  | -1.86431  |\n",
      "| 2002-04-18 00:00:00 | -1.43383  | -1.48609  | -1.32744  |\n",
      "| 2002-04-19 00:00:00 | -1.37737  | -1.09268  | -1.45069  |\n",
      "| 2002-04-20 00:00:00 | -1.19932  | -1.70222  | -1.8934   |\n",
      "| 2002-04-21 00:00:00 | -2.28236  | -1.57934  | -1.59026  |\n",
      "| 2002-04-22 00:00:00 | -1.53704  | -0.838624 | -1.58317  |\n",
      "| 2002-04-23 00:00:00 | -1.10267  | -1.93202  | -1.33343  |\n",
      "| 2002-04-24 00:00:00 | -1.22008  | -1.56721  | -1.90832  |\n",
      "| 2002-04-25 00:00:00 | -1.67465  | -1.82182  | -1.7749   |\n",
      "| 2002-04-26 00:00:00 | -1.54117  | -1.35178  | -1.25549  |\n",
      "| 2002-04-27 00:00:00 | -2.09035  | -1.63091  | -2.17215  |\n",
      "| 2002-04-28 00:00:00 | -1.24736  | -1.79538  | -1.53082  |\n",
      "| 2002-04-29 00:00:00 | -1.98944  | -1.47187  | -2.1772   |\n",
      "| 2002-04-30 00:00:00 | -1.30243  | -2.30165  | -1.92555  |\n",
      "| 2002-05-01 00:00:00 | -2.02162  | -1.10009  | -1.76819  |\n",
      "| 2002-05-02 00:00:00 | -2.15571  | -1.27164  | -1.84181  |\n",
      "| 2002-05-03 00:00:00 | -2.26285  | -1.28045  | -1.59264  |\n",
      "| 2002-05-04 00:00:00 | -1.86516  | -2.0947   | -1.35664  |\n",
      "| 2002-05-05 00:00:00 | -1.04165  | -1.74627  | -1.68633  |\n",
      "| 2002-05-06 00:00:00 | -1.34042  | -1.80888  | -1.7283   |\n",
      "| 2002-05-07 00:00:00 | -1.43676  | -1.73551  | -1.83771  |\n",
      "| 2002-05-08 00:00:00 | -1.42623  | -1.77852  | -1.26112  |\n",
      "| 2002-05-09 00:00:00 | -1.56401  | -2.04793  | -1.59576  |\n",
      "| 2002-05-10 00:00:00 | -1.81342  | -1.3189   | -1.79627  |\n",
      "| 2002-05-11 00:00:00 | -1.22374  | -1.42187  | -2.18801  |\n",
      "| 2002-05-12 00:00:00 | -1.94034  | -1.54181  | -1.84263  |\n",
      "| 2002-05-13 00:00:00 | -1.36893  | -1.91245  | -1.46171  |\n",
      "| 2002-05-14 00:00:00 | -2.24898  | -1.36225  | -1.53481  |\n",
      "| 2002-05-15 00:00:00 | -1.90616  | -1.90766  | -1.11771  |\n",
      "| 2002-05-16 00:00:00 | -0.918721 | -1.56143  | -1.41221  |\n",
      "| 2002-05-17 00:00:00 | -1.47489  | -2.27597  | -1.49367  |\n",
      "| 2002-05-18 00:00:00 | -2.11584  | -1.7012   | -1.85721  |\n",
      "| 2002-05-19 00:00:00 | -2.12089  | -2.03377  | -1.99171  |\n",
      "| 2002-05-20 00:00:00 | -1.7316   | -2.05874  | -1.64864  |\n",
      "| 2002-05-21 00:00:00 | -1.31392  | -1.97035  | -1.27661  |\n",
      "| 2002-05-22 00:00:00 | -1.86789  | -2.44174  | -1.68142  |\n",
      "| 2002-05-23 00:00:00 | -1.69021  | -2.01582  | -1.72951  |\n",
      "| 2002-05-24 00:00:00 | -1.94986  | -1.56927  | -2.03865  |\n",
      "| 2002-05-25 00:00:00 | -1.66399  | -1.38759  | -2.11748  |\n",
      "| 2002-05-26 00:00:00 | -1.09911  | -2.09006  | -1.29007  |\n",
      "| 2002-05-27 00:00:00 | -2.0945   | -1.84603  | -1.77059  |\n",
      "| 2002-05-28 00:00:00 | -1.91756  | -1.12355  | -1.99216  |\n",
      "| 2002-05-29 00:00:00 | -1.39316  | -1.172    | -1.54406  |\n",
      "| 2002-05-30 00:00:00 | -2.20749  | -1.56925  | -1.5686   |\n",
      "| 2002-05-31 00:00:00 | -1.5176   | -1.52865  | -1.93134  |\n",
      "| 2002-06-01 00:00:00 | -1.65474  | -1.37524  | -1.90856  |\n",
      "| 2002-06-02 00:00:00 | -1.54089  | -1.4046   | -2.28458  |\n",
      "| 2002-06-03 00:00:00 | -2.14861  | -1.67385  | -1.65832  |\n",
      "| 2002-06-04 00:00:00 | -1.3717   | -2.10322  | -1.65357  |\n",
      "| 2002-06-05 00:00:00 | -1.49092  | -1.54558  | -1.62846  |\n",
      "| 2002-06-06 00:00:00 | -1.43042  | -1.7212   | -1.55073  |\n",
      "| 2002-06-07 00:00:00 | -1.89277  | -1.85651  | -2.06704  |\n",
      "| 2002-06-08 00:00:00 | -1.61807  | -1.99029  | -2.16323  |\n",
      "| 2002-06-09 00:00:00 | -1.33419  | -1.87869  | -1.50973  |\n",
      "| 2002-06-10 00:00:00 | -1.69387  | -1.41293  | -2.02942  |\n",
      "| 2002-06-11 00:00:00 | -1.71197  | -2.23791  | -1.76546  |\n",
      "| 2002-06-12 00:00:00 | -1.50702  | -1.57784  | -1.86714  |\n",
      "| 2002-06-13 00:00:00 | -1.76447  | -1.70638  | -2.15875  |\n",
      "| 2002-06-14 00:00:00 | -0.81913  | -1.40601  | -1.80294  |\n",
      "| 2002-06-15 00:00:00 | -1.4832   | -1.88527  | -1.77052  |\n",
      "| 2002-06-16 00:00:00 | -1.33376  | -1.14486  | -1.52082  |\n",
      "| 2002-06-17 00:00:00 | -1.73278  | -1.68539  | -1.66748  |\n",
      "| 2002-06-18 00:00:00 | -1.61086  | -1.85581  | -2.21379  |\n",
      "| 2002-06-19 00:00:00 | -1.80606  | -2.13578  | -2.02055  |\n",
      "| 2002-06-20 00:00:00 | -1.10542  | -1.98561  | -1.87072  |\n",
      "| 2002-06-21 00:00:00 | -1.59328  | -1.69843  | -1.97017  |\n",
      "| 2002-06-22 00:00:00 | -1.70941  | -1.56753  | -1.46272  |\n",
      "| 2002-06-23 00:00:00 | -1.4929   | -1.51658  | -2.41692  |\n",
      "| 2002-06-24 00:00:00 | -1.91745  | -1.38903  | -1.66235  |\n",
      "| 2002-06-25 00:00:00 | -1.71629  | -1.81969  | -1.79251  |\n",
      "| 2002-06-26 00:00:00 | -1.72673  | -1.58892  | -1.36916  |\n",
      "| 2002-06-27 00:00:00 | -1.22245  | -1.50993  | -1.79264  |\n",
      "| 2002-06-28 00:00:00 | -1.90806  | -2.02792  | -1.29816  |\n",
      "| 2002-06-29 00:00:00 | -1.54502  | -1.4461   | -1.21279  |\n",
      "| 2002-06-30 00:00:00 | -2.38601  | -1.66305  | -2.12609  |\n",
      "| 2002-07-01 00:00:00 | -1.38063  | -1.83846  | -1.74453  |\n",
      "| 2002-07-02 00:00:00 | -2.18294  | -1.02133  | -1.02725  |\n",
      "| 2002-07-03 00:00:00 | -1.63325  | -1.73339  | -1.58521  |\n",
      "| 2002-07-04 00:00:00 | -1.54594  | -2.11949  | -1.77551  |\n",
      "| 2002-07-05 00:00:00 | -1.23333  | -1.5534   | -2.29394  |\n",
      "| 2002-07-06 00:00:00 | -2.35481  | -1.55969  | -1.34754  |\n",
      "| 2002-07-07 00:00:00 | -1.43857  | -1.07304  | -1.91927  |\n",
      "| 2002-07-08 00:00:00 | -1.59366  | -1.78714  | -1.65136  |\n",
      "| 2002-07-09 00:00:00 | -1.32636  | -1.33992  | -1.17613  |\n",
      "| 2002-07-10 00:00:00 | -1.74724  | -1.84938  | -1.5511   |\n",
      "| 2002-07-11 00:00:00 | -1.78042  | -1.59312  | -1.69086  |\n",
      "| 2002-07-12 00:00:00 | -1.76615  | -2.14116  | -1.5031   |\n",
      "| 2002-07-13 00:00:00 | -1.4165   | -1.73273  | -1.53323  |\n",
      "| 2002-07-14 00:00:00 | -1.22068  | -2.20377  | -2.19231  |\n",
      "| 2002-07-15 00:00:00 | -1.73752  | -1.98604  | -1.3676   |\n",
      "| 2002-07-16 00:00:00 | -1.27754  | -1.65406  | -2.1311   |\n",
      "| 2002-07-17 00:00:00 | -1.94974  | -1.08827  | -1.75582  |\n",
      "| 2002-07-18 00:00:00 | -0.869356 | -1.3371   | -1.73283  |\n",
      "| 2002-07-19 00:00:00 | -1.63703  | -1.6627   | -1.63362  |\n",
      "| 2002-07-20 00:00:00 | -1.89655  | -1.82002  | -1.18483  |\n",
      "| 2002-07-21 00:00:00 | -2.24865  | -1.57958  | -1.5542   |\n",
      "| 2002-07-22 00:00:00 | -1.69778  | -1.50892  | -1.60988  |\n",
      "| 2002-07-23 00:00:00 | -1.50535  | -1.24431  | -1.687    |\n",
      "| 2002-07-24 00:00:00 | -1.23737  | -1.81707  | -1.59832  |\n",
      "| 2002-07-25 00:00:00 | -1.82547  | -1.86563  | -1.91691  |\n",
      "| 2002-07-26 00:00:00 | -1.62312  | -1.43286  | -1.91126  |\n",
      "| 2002-07-27 00:00:00 | -1.29662  | -1.39769  | -1.94526  |\n",
      "| 2002-07-28 00:00:00 | -1.57302  | -1.25726  | -1.19661  |\n",
      "| 2002-07-29 00:00:00 | -1.75188  | -1.03008  | -1.74605  |\n",
      "| 2002-07-30 00:00:00 | -1.15116  | -1.20923  | -1.70656  |\n",
      "| 2002-07-31 00:00:00 | -1.33013  | -1.95019  | -1.38245  |\n",
      "| 2002-08-01 00:00:00 | -1.61825  | -2.25843  | -1.33099  |\n",
      "| 2002-08-02 00:00:00 | -1.39615  | -2.23673  | -1.60291  |\n",
      "| 2002-08-03 00:00:00 | -1.41471  | -1.57077  | -1.85007  |\n",
      "| 2002-08-04 00:00:00 | -1.36512  | -1.52245  | -1.20671  |\n",
      "| 2002-08-05 00:00:00 | -1.53372  | -1.54194  | -2.00199  |\n",
      "| 2002-08-06 00:00:00 | -1.11473  | -2.25304  | -1.76905  |\n",
      "| 2002-08-07 00:00:00 | -0.992314 | -1.42198  | -2.06048  |\n",
      "| 2002-08-08 00:00:00 | -1.59707  | -1.61272  | -2.23747  |\n",
      "| 2002-08-09 00:00:00 | -1.9276   | -1.88217  | -1.87235  |\n",
      "| 2002-08-10 00:00:00 | -1.6802   | -1.75579  | -2.17515  |\n",
      "| 2002-08-11 00:00:00 | -1.77855  | -1.27935  | -1.36013  |\n",
      "| 2002-08-12 00:00:00 | -2.40907  | -1.14035  | -1.79489  |\n",
      "| 2002-08-13 00:00:00 | -1.70921  | -1.62669  | -1.34235  |\n",
      "| 2002-08-14 00:00:00 | -2.07446  | -1.82221  | -1.75033  |\n",
      "| 2002-08-15 00:00:00 | -1.62875  | -0.759078 | -0.835215 |\n",
      "| 2002-08-16 00:00:00 | -1.49937  | -1.58095  | -1.56637  |\n",
      "| 2002-08-17 00:00:00 | -1.23845  | -1.38444  | -1.67751  |\n",
      "| 2002-08-18 00:00:00 | -1.69737  | -2.17374  | -1.82811  |\n",
      "| 2002-08-19 00:00:00 | -1.61072  | -1.96776  | -1.10127  |\n",
      "| 2002-08-20 00:00:00 | -2.20411  | -1.61203  | -1.67774  |\n",
      "| 2002-08-21 00:00:00 | -1.03623  | -1.68871  | -1.7347   |\n",
      "| 2002-08-22 00:00:00 | -1.44378  | -2.37098  | -1.85954  |\n",
      "| 2002-08-23 00:00:00 | -1.67052  | -1.53768  | -1.92645  |\n",
      "| 2002-08-24 00:00:00 | -2.1038   | -1.50383  | -1.94093  |\n",
      "| 2002-08-25 00:00:00 | -1.54688  | -1.29045  | -1.61606  |\n",
      "| 2002-08-26 00:00:00 | -1.69653  | -1.93186  | -1.43189  |\n",
      "| 2002-08-27 00:00:00 | -1.33693  | -1.63159  | -1.81589  |\n",
      "| 2002-08-28 00:00:00 | -1.36783  | -1.52937  | -1.75575  |\n",
      "| 2002-08-29 00:00:00 | -1.9042   | -2.326    | -1.68551  |\n",
      "| 2002-08-30 00:00:00 | -1.31544  | -2.08048  | -1.52477  |\n",
      "| 2002-08-31 00:00:00 | -1.30879  | -1.26467  | -1.96656  |\n",
      "| 2002-09-01 00:00:00 | -1.85586  | -1.44453  | -1.98485  |\n",
      "| 2002-09-02 00:00:00 | -1.97044  | -1.8693   | -1.99339  |\n",
      "| 2002-09-03 00:00:00 | -1.57589  | -2.42803  | -1.92518  |\n",
      "| 2002-09-04 00:00:00 | -1.65801  | -1.68579  | -1.9516   |\n",
      "| 2002-09-05 00:00:00 | -1.63161  | -1.46517  | -1.74463  |\n",
      "| 2002-09-06 00:00:00 | -1.5519   | -0.940232 | -2.14074  |\n",
      "| 2002-09-07 00:00:00 | -1.46465  | -1.84862  | -1.49835  |\n",
      "| 2002-09-08 00:00:00 | -1.26176  | -2.18341  | -1.04675  |\n",
      "| 2002-09-09 00:00:00 | -1.68231  | -1.1038   | -1.92555  |\n",
      "| 2002-09-10 00:00:00 | -1.90911  | -1.64211  | -1.79401  |\n",
      "| 2002-09-11 00:00:00 | -1.67225  | -2.05081  | -1.41083  |\n",
      "| 2002-09-12 00:00:00 | -1.91585  | -1.39085  | -2.01529  |\n",
      "| 2002-09-13 00:00:00 | -1.85341  | -2.26123  | -1.46208  |\n",
      "| 2002-09-14 00:00:00 | -1.11542  | -1.41545  | -2.11975  |\n",
      "| 2002-09-15 00:00:00 | -1.38681  | -1.69467  | -1.27931  |\n",
      "| 2002-09-16 00:00:00 | -1.9654   | -1.30165  | -1.40279  |\n",
      "| 2002-09-17 00:00:00 | -1.71853  | -1.77869  | -1.60791  |\n",
      "| 2002-09-18 00:00:00 | -1.71438  | -1.50717  | -1.07192  |\n",
      "| 2002-09-19 00:00:00 | -0.738969 | -1.84461  | -1.4631   |\n",
      "| 2002-09-20 00:00:00 | -1.64938  | -1.78709  | -1.80835  |\n",
      "| 2002-09-21 00:00:00 | -1.89734  | -1.42748  | -1.62289  |\n",
      "| 2002-09-22 00:00:00 | -1.67901  | -1.92718  | -1.72693  |\n",
      "| 2002-09-23 00:00:00 | -1.85249  | -1.98621  | -2.11542  |\n",
      "| 2002-09-24 00:00:00 | -1.9239   | -1.55936  | -1.70618  |\n",
      "| 2002-09-25 00:00:00 | -1.51902  | -1.2497   | -1.91086  |\n",
      "| 2002-09-26 00:00:00 | -2.03093  | -1.33393  | -1.42886  |\n"
     ]
    }
   ],
   "source": [
    "def subtract_and_divide(x, sub, divide = 1):\n",
    "    return (x-sub) / divide\n",
    "\n",
    "tmp = tsdf.apply(subtract_and_divide, args=(5,), divide=3)\n",
    "print(tmp.to_markdown())"
   ]
  },
  {
   "cell_type": "code",
   "execution_count": 52,
   "metadata": {},
   "outputs": [
    {
     "name": "stdout",
     "output_type": "stream",
     "text": [
      "|                     |            A |            B |           C |\n",
      "|:--------------------|-------------:|-------------:|------------:|\n",
      "| 2000-01-01 00:00:00 | -0.234998    | -0.0220618   | -0.812864   |\n",
      "| 2000-01-02 00:00:00 | -0.578754    | -1.04212     |  0.950494   |\n",
      "| 2000-01-03 00:00:00 |  0.951572    |  0.120993    |  1.14351    |\n",
      "| 2000-01-04 00:00:00 | -0.669386    | -0.698823    | -0.48018    |\n",
      "| 2000-01-05 00:00:00 |  2.48176     |  0.512006    |  1.65917    |\n",
      "| 2000-01-06 00:00:00 | -0.845202    |  0.110124    |  1.38216    |\n",
      "| 2000-01-07 00:00:00 |  1.26354     |  1.62652     |  0.987382   |\n",
      "| 2000-01-08 00:00:00 |  0.143601    | -0.509895    | -0.666476   |\n",
      "| 2000-01-09 00:00:00 |  0.303776    | -0.66313     |  1.63123    |\n",
      "| 2000-01-10 00:00:00 | -0.342223    | -0.404277    | -0.191693   |\n",
      "| 2000-01-11 00:00:00 |  0.876158    |  0.156111    | -0.382975   |\n",
      "| 2000-01-12 00:00:00 | -0.489744    |  0.218755    | -1.48198    |\n",
      "| 2000-01-13 00:00:00 |  0.625647    |  0.740618    | -0.94917    |\n",
      "| 2000-01-14 00:00:00 |  0.312084    |  0.554088    | -0.15822    |\n",
      "| 2000-01-15 00:00:00 | -1.36903     | -0.533213    | -1.63903    |\n",
      "| 2000-01-16 00:00:00 | -0.531657    |  0.135399    | -0.513701   |\n",
      "| 2000-01-17 00:00:00 | -0.392859    | -0.564477    |  0.117784   |\n",
      "| 2000-01-18 00:00:00 | -0.870614    | -0.194628    | -0.286941   |\n",
      "| 2000-01-19 00:00:00 |  0.822502    | -1.30726     |  0.165516   |\n",
      "| 2000-01-20 00:00:00 |  1.31573     | -0.150803    | -0.402806   |\n",
      "| 2000-01-21 00:00:00 | -0.28934     | -0.191186    | -1.29832    |\n",
      "| 2000-01-22 00:00:00 |  0.395742    | -0.565313    | -1.37835    |\n",
      "| 2000-01-23 00:00:00 |  0.00177814  | -0.326642    | -0.380166   |\n",
      "| 2000-01-24 00:00:00 |  0.580625    | -0.142303    |  0.178075   |\n",
      "| 2000-01-25 00:00:00 |  0.617414    | -0.0761234   | -1.11931    |\n",
      "| 2000-01-26 00:00:00 |  0.0849168   |  0.545495    |  0.867051   |\n",
      "| 2000-01-27 00:00:00 | -0.383424    | -1.41149     | -0.951948   |\n",
      "| 2000-01-28 00:00:00 |  0.435855    | -2.53845     |  1.15848    |\n",
      "| 2000-01-29 00:00:00 |  0.425486    |  0.439804    | -0.222178   |\n",
      "| 2000-01-30 00:00:00 | -0.990307    | -1.43354     |  0.908355   |\n",
      "| 2000-01-31 00:00:00 |  2.06851     |  1.23461     |  0.709733   |\n",
      "| 2000-02-01 00:00:00 | -0.868095    |  0.481964    |  0.57096    |\n",
      "| 2000-02-02 00:00:00 | -0.129149    |  0.685247    | -0.413344   |\n",
      "| 2000-02-03 00:00:00 | -1.25418     | -1.83313     | -0.0732453  |\n",
      "| 2000-02-04 00:00:00 |  1.63102     | -0.27335     | -1.71889    |\n",
      "| 2000-02-05 00:00:00 |  0.657749    |  0.37942     | -0.843099   |\n",
      "| 2000-02-06 00:00:00 | -1.05972     |  1.36523     | -0.00252018 |\n",
      "| 2000-02-07 00:00:00 | -1.0956      |  1.74154     | -1.10199    |\n",
      "| 2000-02-08 00:00:00 | -1.19222     | -1.76222     | -0.379567   |\n",
      "| 2000-02-09 00:00:00 |  0.279947    | -0.180314    | -1.5969     |\n",
      "| 2000-02-10 00:00:00 |  1.8211      | -0.489426    | -0.00628251 |\n",
      "| 2000-02-11 00:00:00 |  1.42381     | -0.225085    | -0.280406   |\n",
      "| 2000-02-12 00:00:00 | -2.10366     |  0.671096    |  0.761736   |\n",
      "| 2000-02-13 00:00:00 | -1.60235     | -0.898157    | -1.15739    |\n",
      "| 2000-02-14 00:00:00 | -0.636588    |  0.135139    |  0.57939    |\n",
      "| 2000-02-15 00:00:00 | -2.04305     | -0.10833     | -0.869713   |\n",
      "| 2000-02-16 00:00:00 | -1.82255     | -0.0600134   | -1.71118    |\n",
      "| 2000-02-17 00:00:00 | -1.6682      |  1.16718     |  0.352671   |\n",
      "| 2000-02-18 00:00:00 |  0.449091    |  1.03036     | -0.464406   |\n",
      "| 2000-02-19 00:00:00 |  1.47705     |  1.4156      | -0.718423   |\n",
      "| 2000-02-20 00:00:00 |  0.39902     |  1.29068     |  0.30552    |\n",
      "| 2000-02-21 00:00:00 |  1.17437     | -2.355       | -1.0453     |\n",
      "| 2000-02-22 00:00:00 | -0.467506    | -0.418442    |  0.667595   |\n",
      "| 2000-02-23 00:00:00 | -1.88062     |  0.475102    |  1.06275    |\n",
      "| 2000-02-24 00:00:00 | -0.887915    |  0.858326    | -0.311508   |\n",
      "| 2000-02-25 00:00:00 |  1.80299     | -0.282082    | -1.23244    |\n",
      "| 2000-02-26 00:00:00 |  1.56387     | -1.84106     | -0.483179   |\n",
      "| 2000-02-27 00:00:00 | -0.401706    |  0.917558    |  0.649807   |\n",
      "| 2000-02-28 00:00:00 | -0.480913    | -0.440427    |  0.0056031  |\n",
      "| 2000-02-29 00:00:00 |  0.605425    |  0.584134    |  0.0700489  |\n",
      "| 2000-03-01 00:00:00 |  0.105565    |  1.87827     | -0.156796   |\n",
      "| 2000-03-02 00:00:00 |  0.603748    |  0.0773338   | -1.4214     |\n",
      "| 2000-03-03 00:00:00 |  1.57324     |  1.46934     | -0.341968   |\n",
      "| 2000-03-04 00:00:00 |  0.878642    |  0.0217041   |  0.466821   |\n",
      "| 2000-03-05 00:00:00 | -0.568107    |  0.776199    | -0.286013   |\n",
      "| 2000-03-06 00:00:00 | -0.410601    | -0.181005    |  0.755921   |\n",
      "| 2000-03-07 00:00:00 | -0.559663    | -0.175011    | -1.86804    |\n",
      "| 2000-03-08 00:00:00 | -0.312061    |  0.814315    | -0.0914978  |\n",
      "| 2000-03-09 00:00:00 |  0.516308    | -0.189037    | -2.31403    |\n",
      "| 2000-03-10 00:00:00 |  0.0130555   |  1.3042      | -0.206107   |\n",
      "| 2000-03-11 00:00:00 | -0.132141    |  0.960433    | -0.102125   |\n",
      "| 2000-03-12 00:00:00 |  0.336755    | -0.298375    | -0.504774   |\n",
      "| 2000-03-13 00:00:00 |  0.244534    |  0.904409    |  0.279973   |\n",
      "| 2000-03-14 00:00:00 | -0.906976    | -0.604416    |  0.665706   |\n",
      "| 2000-03-15 00:00:00 |  0.252905    |  0.536409    | -0.0357418  |\n",
      "| 2000-03-16 00:00:00 |  1.03966     |  0.566439    |  1.8938     |\n",
      "| 2000-03-17 00:00:00 |  0.393105    | -1.30297     |  1.62336    |\n",
      "| 2000-03-18 00:00:00 |  0.797449    |  0.446646    |  0.47974    |\n",
      "| 2000-03-19 00:00:00 |  1.4958      |  1.69321     |  0.0462222  |\n",
      "| 2000-03-20 00:00:00 | -1.89436     | -0.218466    | -0.708313   |\n",
      "| 2000-03-21 00:00:00 | -0.304983    | -0.919772    |  0.567814   |\n",
      "| 2000-03-22 00:00:00 | -0.519056    |  2.1324      | -0.807729   |\n",
      "| 2000-03-23 00:00:00 |  0.032909    |  0.165785    | -0.103651   |\n",
      "| 2000-03-24 00:00:00 | -0.849812    | -1.16861     | -0.55176    |\n",
      "| 2000-03-25 00:00:00 | -0.881657    | -0.456341    | -0.188772   |\n",
      "| 2000-03-26 00:00:00 |  1.79184     | -1.41683     | -0.809251   |\n",
      "| 2000-03-27 00:00:00 |  0.246253    | -0.117681    | -0.450784   |\n",
      "| 2000-03-28 00:00:00 |  1.16375     |  0.184322    |  0.706243   |\n",
      "| 2000-03-29 00:00:00 |  1.99769     | -0.115107    |  0.447951   |\n",
      "| 2000-03-30 00:00:00 | -0.679807    |  1.50243     |  1.08746    |\n",
      "| 2000-03-31 00:00:00 | -1.46271     |  0.466803    | -1.57747    |\n",
      "| 2000-04-01 00:00:00 | -0.805147    | -2.50108     |  1.2991     |\n",
      "| 2000-04-02 00:00:00 |  0.333405    | -0.938524    | -0.642125   |\n",
      "| 2000-04-03 00:00:00 |  1.90906     |  1.57507     |  0.478156   |\n",
      "| 2000-04-04 00:00:00 |  1.01143     | -0.618936    | -1.06321    |\n",
      "| 2000-04-05 00:00:00 | -0.89732     |  2.70031     | -0.265076   |\n",
      "| 2000-04-06 00:00:00 |  0.0449869   |  1.83784     | -1.18406    |\n",
      "| 2000-04-07 00:00:00 | -0.656551    | -0.575809    | -0.968462   |\n",
      "| 2000-04-08 00:00:00 |  0.711119    | -0.53202     | -0.128281   |\n",
      "| 2000-04-09 00:00:00 |  0.167331    |  0.849011    |  1.66       |\n",
      "| 2000-04-10 00:00:00 | -0.89369     | -0.20075     | -0.789121   |\n",
      "| 2000-04-11 00:00:00 |  1.04531     |  0.188768    | -0.481526   |\n",
      "| 2000-04-12 00:00:00 | -0.675106    |  0.673316    | -1.07107    |\n",
      "| 2000-04-13 00:00:00 |  0.104728    |  0.0654125   |  0.899318   |\n",
      "| 2000-04-14 00:00:00 | -0.311145    |  0.0896605   | -0.527724   |\n",
      "| 2000-04-15 00:00:00 | -0.581387    |  0.96525     |  0.4238     |\n",
      "| 2000-04-16 00:00:00 |  0.949081    |  0.0754811   | -1.23935    |\n",
      "| 2000-04-17 00:00:00 | -0.766739    |  1.04068     | -0.54603    |\n",
      "| 2000-04-18 00:00:00 |  0.469642    | -0.146623    | -0.839506   |\n",
      "| 2000-04-19 00:00:00 |  0.00776719  | -0.634322    | -0.575982   |\n",
      "| 2000-04-20 00:00:00 |  1.47621     | -0.670371    | -0.45384    |\n",
      "| 2000-04-21 00:00:00 | -0.0745135   | -0.462605    |  0.0777304  |\n",
      "| 2000-04-22 00:00:00 | -0.244108    | -0.216345    |  1.71729    |\n",
      "| 2000-04-23 00:00:00 | -0.288496    |  0.330131    | -0.542436   |\n",
      "| 2000-04-24 00:00:00 |  0.456221    |  3.46893     | -0.192333   |\n",
      "| 2000-04-25 00:00:00 |  1.5727      | -2.47484     | -1.37786    |\n",
      "| 2000-04-26 00:00:00 | -0.157069    |  0.430266    | -1.0238     |\n",
      "| 2000-04-27 00:00:00 | -1.01147     |  1.35591     |  1.38822    |\n",
      "| 2000-04-28 00:00:00 | -0.861555    |  3.37335     |  0.859026   |\n",
      "| 2000-04-29 00:00:00 | -1.7292      | -0.0480234   |  0.0432336  |\n",
      "| 2000-04-30 00:00:00 | -0.581622    | -0.344786    | -1.78332    |\n",
      "| 2000-05-01 00:00:00 |  1.51605     |  0.456062    |  0.246021   |\n",
      "| 2000-05-02 00:00:00 |  0.486158    | -0.398154    |  0.291034   |\n",
      "| 2000-05-03 00:00:00 | -0.652541    | -2.19741     | -0.033143   |\n",
      "| 2000-05-04 00:00:00 | -0.83754     |  1.09104     | -0.0995704  |\n",
      "| 2000-05-05 00:00:00 | -0.185535    | -0.538865    |  0.557833   |\n",
      "| 2000-05-06 00:00:00 |  0.570657    |  0.0611049   |  0.283392   |\n",
      "| 2000-05-07 00:00:00 |  0.00338715  |  0.145887    | -0.105718   |\n",
      "| 2000-05-08 00:00:00 |  0.137314    |  0.024125    | -0.796777   |\n",
      "| 2000-05-09 00:00:00 | -1.04572     | -0.516017    |  1.64051    |\n",
      "| 2000-05-10 00:00:00 |  0.952395    |  1.41445     | -0.876732   |\n",
      "| 2000-05-11 00:00:00 |  0.00149257  |  0.696063    |  1.38436    |\n",
      "| 2000-05-12 00:00:00 | -0.281468    |  2.09686     |  0.158356   |\n",
      "| 2000-05-13 00:00:00 |  0.176843    | -0.787041    | -1.16628    |\n",
      "| 2000-05-14 00:00:00 | -0.00221121  | -0.767445    |  1.13165    |\n",
      "| 2000-05-15 00:00:00 | -0.215565    |  1.47823     | -0.745619   |\n",
      "| 2000-05-16 00:00:00 | -0.109256    |  1.15784     | -2.51118    |\n",
      "| 2000-05-17 00:00:00 | -1.40846     |  1.24824     | -1.93867    |\n",
      "| 2000-05-18 00:00:00 | -0.100638    | -0.942783    | -0.73394    |\n",
      "| 2000-05-19 00:00:00 | -0.836174    | -0.946249    | -2.53486    |\n",
      "| 2000-05-20 00:00:00 | -1.85301     | -0.178917    |  0.298451   |\n",
      "| 2000-05-21 00:00:00 |  0.578373    |  0.0602007   | -1.85109    |\n",
      "| 2000-05-22 00:00:00 |  1.55037     |  1.46559     |  0.517131   |\n",
      "| 2000-05-23 00:00:00 |  1.43379     | -0.17856     | -0.341801   |\n",
      "| 2000-05-24 00:00:00 |  1.12728     | -0.872158    |  0.744987   |\n",
      "| 2000-05-25 00:00:00 |  0.372884    |  0.379       |  0.161046   |\n",
      "| 2000-05-26 00:00:00 | -0.817975    | -0.231663    |  0.590071   |\n",
      "| 2000-05-27 00:00:00 |  0.744658    | -1.0284      |  0.366003   |\n",
      "| 2000-05-28 00:00:00 | -0.597841    |  0.698379    |  0.172833   |\n",
      "| 2000-05-29 00:00:00 | -0.626833    |  0.0683366   | -1.2122     |\n",
      "| 2000-05-30 00:00:00 |  1.71329     |  1.69932     |  0.59494    |\n",
      "| 2000-05-31 00:00:00 |  1.39376     | -0.354058    |  0.420643   |\n",
      "| 2000-06-01 00:00:00 | -0.832515    |  0.0120672   | -1.4243     |\n",
      "| 2000-06-02 00:00:00 | -0.152101    |  0.715298    | -0.410325   |\n",
      "| 2000-06-03 00:00:00 | -0.0805529   |  0.262243    | -0.824013   |\n",
      "| 2000-06-04 00:00:00 | -0.908852    | -0.946633    |  0.205966   |\n",
      "| 2000-06-05 00:00:00 | -1.68174     | -0.984603    | -0.13303    |\n",
      "| 2000-06-06 00:00:00 | -0.999751    | -0.0457955   | -0.409501   |\n",
      "| 2000-06-07 00:00:00 |  1.8394      | -0.628307    | -0.300924   |\n",
      "| 2000-06-08 00:00:00 |  1.0342      |  2.19761     | -0.298417   |\n",
      "| 2000-06-09 00:00:00 |  1.07309     |  1.15171     |  0.649027   |\n",
      "| 2000-06-10 00:00:00 |  0.0428699   |  1.44766     |  1.6635     |\n",
      "| 2000-06-11 00:00:00 |  0.213281    | -0.937773    |  0.192103   |\n",
      "| 2000-06-12 00:00:00 |  2.40875     |  0.665992    |  1.48079    |\n",
      "| 2000-06-13 00:00:00 | -1.60002     |  0.951469    |  1.68001    |\n",
      "| 2000-06-14 00:00:00 | -0.280167    |  0.753701    | -1.49046    |\n",
      "| 2000-06-15 00:00:00 |  0.774249    |  0.78672     | -1.48431    |\n",
      "| 2000-06-16 00:00:00 |  0.374666    |  1.02248     | -0.222273   |\n",
      "| 2000-06-17 00:00:00 | -0.500316    |  1.424       | -1.54287    |\n",
      "| 2000-06-18 00:00:00 |  1.36396     |  1.10629     |  1.32554    |\n",
      "| 2000-06-19 00:00:00 | -0.912723    | -0.41437     | -1.61188    |\n",
      "| 2000-06-20 00:00:00 | -1.16673     | -0.712916    | -0.837471   |\n",
      "| 2000-06-21 00:00:00 | -0.0855239   |  0.192799    | -0.68656    |\n",
      "| 2000-06-22 00:00:00 | -1.63363     | -0.222606    | -0.826584   |\n",
      "| 2000-06-23 00:00:00 | -0.454941    |  1.56261     | -0.672448   |\n",
      "| 2000-06-24 00:00:00 | -1.49559     |  0.127301    |  0.105596   |\n",
      "| 2000-06-25 00:00:00 | -0.539847    | -0.407514    | -1.09427    |\n",
      "| 2000-06-26 00:00:00 |  2.85245     | -0.860302    |  0.873926   |\n",
      "| 2000-06-27 00:00:00 | -1.30418     | -1.61435     | -1.27896    |\n",
      "| 2000-06-28 00:00:00 | -0.588708    | -0.829744    |  1.71699    |\n",
      "| 2000-06-29 00:00:00 | -1.85775     |  0.0167807   | -0.072381   |\n",
      "| 2000-06-30 00:00:00 |  1.70741     |  0.0657455   | -0.184814   |\n",
      "| 2000-07-01 00:00:00 | -0.814343    | -0.346785    |  0.0598454  |\n",
      "| 2000-07-02 00:00:00 | -1.48657     |  0.0944235   | -0.928801   |\n",
      "| 2000-07-03 00:00:00 | -0.336891    |  1.11122     | -0.576599   |\n",
      "| 2000-07-04 00:00:00 | -0.519482    |  0.0126422   |  0.0807157  |\n",
      "| 2000-07-05 00:00:00 | -1.43618     | -0.497301    | -0.76444    |\n",
      "| 2000-07-06 00:00:00 | -1.47056     | -0.74503     | -0.0764322  |\n",
      "| 2000-07-07 00:00:00 |  0.338811    | -1.37347     |  0.902693   |\n",
      "| 2000-07-08 00:00:00 |  0.388747    | -0.355672    | -0.185925   |\n",
      "| 2000-07-09 00:00:00 |  0.378334    | -0.862205    |  1.96317    |\n",
      "| 2000-07-10 00:00:00 |  0.301706    | -1.18014     |  0.279604   |\n",
      "| 2000-07-11 00:00:00 |  0.796771    | -0.710136    | -1.49609    |\n",
      "| 2000-07-12 00:00:00 | -1.31571     |  0.795102    |  1.56087    |\n",
      "| 2000-07-13 00:00:00 | -0.857808    |  1.62783     |  1.59945    |\n",
      "| 2000-07-14 00:00:00 | -0.361361    |  1.27296     |  0.793668   |\n",
      "| 2000-07-15 00:00:00 | -0.493246    |  0.147803    |  0.403861   |\n",
      "| 2000-07-16 00:00:00 |  0.0366634   |  1.2287      | -0.476583   |\n",
      "| 2000-07-17 00:00:00 | -0.179124    |  0.205536    | -0.0313735  |\n",
      "| 2000-07-18 00:00:00 | -0.585774    | -0.758851    | -0.071763   |\n",
      "| 2000-07-19 00:00:00 | -0.3024      | -0.566393    | -0.306931   |\n",
      "| 2000-07-20 00:00:00 |  0.306665    | -0.485634    |  1.34534    |\n",
      "| 2000-07-21 00:00:00 | -0.0152061   |  0.142108    |  0.852891   |\n",
      "| 2000-07-22 00:00:00 |  2.03651     | -1.21393     |  0.101616   |\n",
      "| 2000-07-23 00:00:00 |  0.588481    |  2.46893     | -0.0184242  |\n",
      "| 2000-07-24 00:00:00 | -1.27283     | -0.591497    | -1.90236    |\n",
      "| 2000-07-25 00:00:00 | -0.138342    | -0.981447    |  0.455025   |\n",
      "| 2000-07-26 00:00:00 | -0.879631    |  1.11515     |  0.548525   |\n",
      "| 2000-07-27 00:00:00 |  0.286717    | -0.0701682   | -2.16943    |\n",
      "| 2000-07-28 00:00:00 |  0.0616855   | -0.238332    |  1.75532    |\n",
      "| 2000-07-29 00:00:00 |  0.593382    | -0.165582    | -0.897364   |\n",
      "| 2000-07-30 00:00:00 |  0.751577    |  2.2307      | -0.93125    |\n",
      "| 2000-07-31 00:00:00 | -2.2468      |  2.09498     |  0.67829    |\n",
      "| 2000-08-01 00:00:00 |  0.0332845   |  0.541894    | -1.26548    |\n",
      "| 2000-08-02 00:00:00 | -1.25108     | -0.639915    | -0.765653   |\n",
      "| 2000-08-03 00:00:00 | -0.324073    |  0.175289    | -0.273946   |\n",
      "| 2000-08-04 00:00:00 |  2.78926     |  1.30198     |  0.0212873  |\n",
      "| 2000-08-05 00:00:00 |  0.808399    | -1.18631     |  0.0924653  |\n",
      "| 2000-08-06 00:00:00 | -0.692875    | -1.08965     |  0.414567   |\n",
      "| 2000-08-07 00:00:00 | -0.696144    |  0.852752    |  0.572646   |\n",
      "| 2000-08-08 00:00:00 |  1.17736     | -0.451536    | -0.575079   |\n",
      "| 2000-08-09 00:00:00 | -0.234182    | -0.551246    |  0.410519   |\n",
      "| 2000-08-10 00:00:00 | -1.86505     | -1.10977     | -0.633104   |\n",
      "| 2000-08-11 00:00:00 |  0.157244    | -1.5453      |  0.157662   |\n",
      "| 2000-08-12 00:00:00 | -0.151709    |  0.817089    |  0.438109   |\n",
      "| 2000-08-13 00:00:00 |  0.0619349   |  0.962562    |  0.979201   |\n",
      "| 2000-08-14 00:00:00 |  0.0201084   | -0.992455    |  0.635351   |\n",
      "| 2000-08-15 00:00:00 | -0.0223984   |  1.40554     |  0.485951   |\n",
      "| 2000-08-16 00:00:00 |  0.161959    | -0.180886    | -0.113324   |\n",
      "| 2000-08-17 00:00:00 |  0.84637     | -2.1808      |  0.114813   |\n",
      "| 2000-08-18 00:00:00 |  0.512577    | -0.747661    |  0.385513   |\n",
      "| 2000-08-19 00:00:00 |  1.01015     | -0.0823652   | -1.46902    |\n",
      "| 2000-08-20 00:00:00 | -0.605144    |  2.16108     |  1.31153    |\n",
      "| 2000-08-21 00:00:00 |  1.96024     | -0.483794    |  1.62609    |\n",
      "| 2000-08-22 00:00:00 |  0.265946    |  0.970053    | -0.100034   |\n",
      "| 2000-08-23 00:00:00 |  0.351772    |  2.05513     | -0.267732   |\n",
      "| 2000-08-24 00:00:00 | -2.05978     | -0.503538    | -1.23745    |\n",
      "| 2000-08-25 00:00:00 | -0.72975     |  1.29098     | -0.316278   |\n",
      "| 2000-08-26 00:00:00 | -1.40148     | -0.31357     |  0.297952   |\n",
      "| 2000-08-27 00:00:00 |  1.07702     |  1.03733     |  0.972328   |\n",
      "| 2000-08-28 00:00:00 | -0.114694    |  0.00391863  |  0.529926   |\n",
      "| 2000-08-29 00:00:00 |  0.0396932   | -0.260366    | -0.18289    |\n",
      "| 2000-08-30 00:00:00 | -0.445004    | -0.046658    | -0.985248   |\n",
      "| 2000-08-31 00:00:00 |  0.634562    | -0.92471     | -0.108565   |\n",
      "| 2000-09-01 00:00:00 |  0.73571     | -1.74207     |  1.32658    |\n",
      "| 2000-09-02 00:00:00 | -0.00853767  | -0.771178    |  0.948693   |\n",
      "| 2000-09-03 00:00:00 |  0.209324    |  0.709989    |  0.675015   |\n",
      "| 2000-09-04 00:00:00 | -0.0730339   | -0.474361    |  0.205834   |\n",
      "| 2000-09-05 00:00:00 | -0.184662    | -1.51649     | -0.207929   |\n",
      "| 2000-09-06 00:00:00 |  0.254524    | -0.722896    |  0.320023   |\n",
      "| 2000-09-07 00:00:00 | -0.354008    |  0.226867    |  0.0889208  |\n",
      "| 2000-09-08 00:00:00 | -0.313843    |  0.881428    |  1.12125    |\n",
      "| 2000-09-09 00:00:00 |  0.382445    |  1.54369     |  2.03356    |\n",
      "| 2000-09-10 00:00:00 | -0.504345    |  0.907034    | -0.0185374  |\n",
      "| 2000-09-11 00:00:00 |  0.733733    |  0.288762    | -1.15405    |\n",
      "| 2000-09-12 00:00:00 | -0.141796    | -0.412745    | -0.0369788  |\n",
      "| 2000-09-13 00:00:00 |  0.165193    | -0.174979    |  0.545654   |\n",
      "| 2000-09-14 00:00:00 | -0.849448    | -0.842183    |  1.18911    |\n",
      "| 2000-09-15 00:00:00 | -1.01065     |  0.185539    | -0.262972   |\n",
      "| 2000-09-16 00:00:00 | -1.16234     |  0.147451    |  0.271888   |\n",
      "| 2000-09-17 00:00:00 | -0.156173    |  1.58111     | -0.126841   |\n",
      "| 2000-09-18 00:00:00 | -1.39084     |  1.18547     |  0.495372   |\n",
      "| 2000-09-19 00:00:00 | -1.01977     | -1.44697     | -1.46706    |\n",
      "| 2000-09-20 00:00:00 |  0.430745    |  0.279987    |  0.831878   |\n",
      "| 2000-09-21 00:00:00 |  0.283514    | -0.0245929   | -1.54137    |\n",
      "| 2000-09-22 00:00:00 |  1.46607     | -1.81077     |  0.372236   |\n",
      "| 2000-09-23 00:00:00 |  0.0542791   | -0.712101    |  1.59855    |\n",
      "| 2000-09-24 00:00:00 |  0.226039    | -0.529951    |  0.463873   |\n",
      "| 2000-09-25 00:00:00 |  0.233893    | -2.94547     |  0.090253   |\n",
      "| 2000-09-26 00:00:00 |  0.0538091   | -1.70337     | -0.411325   |\n",
      "| 2000-09-27 00:00:00 |  0.766711    |  0.625561    |  1.95989    |\n",
      "| 2000-09-28 00:00:00 |  0.333762    |  0.923362    |  0.346605   |\n",
      "| 2000-09-29 00:00:00 | -0.948198    |  0.149343    |  0.549263   |\n",
      "| 2000-09-30 00:00:00 |  0.42492     |  0.457416    |  0.0247547  |\n",
      "| 2000-10-01 00:00:00 | -1.54069     | -0.951562    | -0.323556   |\n",
      "| 2000-10-02 00:00:00 | -2.306       | -1.09933     | -0.346605   |\n",
      "| 2000-10-03 00:00:00 |  0.586333    | -0.382992    |  0.0835843  |\n",
      "| 2000-10-04 00:00:00 | -1.13048     | -0.000925357 |  0.322347   |\n",
      "| 2000-10-05 00:00:00 |  1.41665     |  2.01764     |  0.105906   |\n",
      "| 2000-10-06 00:00:00 |  0.356975    | -0.855051    | -0.742514   |\n",
      "| 2000-10-07 00:00:00 | -1.52142     | -0.246814    |  0.463893   |\n",
      "| 2000-10-08 00:00:00 |  0.612488    |  0.768403    |  0.35014    |\n",
      "| 2000-10-09 00:00:00 | -0.150785    |  1.21991     | -0.319913   |\n",
      "| 2000-10-10 00:00:00 |  2.27777     |  0.121665    |  0.487132   |\n",
      "| 2000-10-11 00:00:00 | -1.17659     |  0.297539    |  2.11826    |\n",
      "| 2000-10-12 00:00:00 |  0.490471    |  0.246173    |  0.662378   |\n",
      "| 2000-10-13 00:00:00 | -0.328316    |  0.439394    | -1.2359     |\n",
      "| 2000-10-14 00:00:00 |  0.525448    |  0.124341    | -0.121677   |\n",
      "| 2000-10-15 00:00:00 | -0.3472      | -0.649768    |  0.28859    |\n",
      "| 2000-10-16 00:00:00 | -0.365965    |  1.16869     | -0.560825   |\n",
      "| 2000-10-17 00:00:00 | -0.150831    | -0.37019     | -0.540529   |\n",
      "| 2000-10-18 00:00:00 |  0.492183    | -0.277119    | -0.514647   |\n",
      "| 2000-10-19 00:00:00 | -0.154055    | -0.857865    |  0.663801   |\n",
      "| 2000-10-20 00:00:00 | -0.353533    | -1.13658     |  0.683552   |\n",
      "| 2000-10-21 00:00:00 |  0.950581    |  0.559599    | -0.162112   |\n",
      "| 2000-10-22 00:00:00 | -0.192665    |  1.63149     | -0.0658289  |\n",
      "| 2000-10-23 00:00:00 | -0.25484     |  1.03548     |  0.156277   |\n",
      "| 2000-10-24 00:00:00 |  0.464168    |  0.287231    | -1.06852    |\n",
      "| 2000-10-25 00:00:00 |  0.486175    | -0.284251    |  0.382587   |\n",
      "| 2000-10-26 00:00:00 | -2.64166     |  1.64347     | -0.112288   |\n",
      "| 2000-10-27 00:00:00 | -1.48274     | -0.478172    |  0.469781   |\n",
      "| 2000-10-28 00:00:00 | -0.712909    | -0.697952    |  0.674015   |\n",
      "| 2000-10-29 00:00:00 |  0.370766    | -0.904089    |  0.829607   |\n",
      "| 2000-10-30 00:00:00 |  0.556716    | -0.0403634   | -0.423657   |\n",
      "| 2000-10-31 00:00:00 | -0.0615419   |  0.345666    |  0.971634   |\n",
      "| 2000-11-01 00:00:00 |  0.534428    | -0.0618259   | -0.173945   |\n",
      "| 2000-11-02 00:00:00 |  0.909061    |  0.199202    | -1.25642    |\n",
      "| 2000-11-03 00:00:00 |  0.0103473   |  0.00032602  | -0.483287   |\n",
      "| 2000-11-04 00:00:00 |  0.732284    | -0.823533    |  1.53104    |\n",
      "| 2000-11-05 00:00:00 | -0.922308    | -0.744759    | -0.681512   |\n",
      "| 2000-11-06 00:00:00 |  0.385184    |  0.607498    | -0.58747    |\n",
      "| 2000-11-07 00:00:00 |  0.125935    | -0.108829    |  0.421711   |\n",
      "| 2000-11-08 00:00:00 |  2.06566     |  0.0841526   | -0.510374   |\n",
      "| 2000-11-09 00:00:00 |  1.42736     |  0.203727    |  0.3877     |\n",
      "| 2000-11-10 00:00:00 | -0.0233195   |  0.8198      |  0.668503   |\n",
      "| 2000-11-11 00:00:00 | -0.341266    |  0.187973    | -0.699402   |\n",
      "| 2000-11-12 00:00:00 |  0.203089    |  1.81666     |  0.987104   |\n",
      "| 2000-11-13 00:00:00 | -0.560122    |  1.28933     |  0.134798   |\n",
      "| 2000-11-14 00:00:00 |  0.08348     |  0.0908337   |  0.10167    |\n",
      "| 2000-11-15 00:00:00 | -0.130627    | -0.621143    | -1.4222     |\n",
      "| 2000-11-16 00:00:00 |  1.07604     | -0.61468     | -0.105686   |\n",
      "| 2000-11-17 00:00:00 |  0.572463    |  0.169538    | -1.09091    |\n",
      "| 2000-11-18 00:00:00 |  2.01053     |  0.343442    |  0.32705    |\n",
      "| 2000-11-19 00:00:00 |  0.861515    |  2.25534     |  0.459209   |\n",
      "| 2000-11-20 00:00:00 | -1.21314     | -2.14431     | -1.28633    |\n",
      "| 2000-11-21 00:00:00 |  1.60578     | -0.151008    | -0.10431    |\n",
      "| 2000-11-22 00:00:00 | -0.270342    | -0.153987    | -0.0573227  |\n",
      "| 2000-11-23 00:00:00 | -0.040681    |  1.27555     |  0.548811   |\n",
      "| 2000-11-24 00:00:00 | -0.164639    | -0.600522    | -0.746525   |\n",
      "| 2000-11-25 00:00:00 |  1.54403     |  1.81884     |  0.180587   |\n",
      "| 2000-11-26 00:00:00 | -0.973982    |  0.420876    | -0.152136   |\n",
      "| 2000-11-27 00:00:00 | -0.645113    | -0.443765    |  0.60206    |\n",
      "| 2000-11-28 00:00:00 | -0.0698674   | -1.13735     | -0.184495   |\n",
      "| 2000-11-29 00:00:00 | -0.163287    |  1.67782     | -0.370198   |\n",
      "| 2000-11-30 00:00:00 | -2.26174     |  0.470178    |  0.488707   |\n",
      "| 2000-12-01 00:00:00 | -1.31657     | -1.62168     | -0.779817   |\n",
      "| 2000-12-02 00:00:00 | -1.49263     | -0.0586778   |  0.668929   |\n",
      "| 2000-12-03 00:00:00 | -1.94188     |  0.259006    | -1.19825    |\n",
      "| 2000-12-04 00:00:00 |  0.274435    |  0.487069    | -2.09703    |\n",
      "| 2000-12-05 00:00:00 | -0.104906    | -2.20996     |  0.406799   |\n",
      "| 2000-12-06 00:00:00 |  0.158266    | -1.93836     | -0.110879   |\n",
      "| 2000-12-07 00:00:00 |  0.116084    |  0.436254    | -1.06927    |\n",
      "| 2000-12-08 00:00:00 |  1.03767     |  1.09586     | -1.70986    |\n",
      "| 2000-12-09 00:00:00 | -1.25133     |  0.42944     | -0.660779   |\n",
      "| 2000-12-10 00:00:00 |  0.710142    |  0.225311    | -0.232533   |\n",
      "| 2000-12-11 00:00:00 | -0.707848    | -0.598112    |  1.93429    |\n",
      "| 2000-12-12 00:00:00 |  1.96385     |  0.850443    |  0.160541   |\n",
      "| 2000-12-13 00:00:00 |  0.225355    |  0.0656774   |  0.263235   |\n",
      "| 2000-12-14 00:00:00 | -0.143547    |  0.420564    |  1.23052    |\n",
      "| 2000-12-15 00:00:00 | -0.668852    |  1.43417     | -0.0738803  |\n",
      "| 2000-12-16 00:00:00 | -0.998715    |  0.60638     |  0.215221   |\n",
      "| 2000-12-17 00:00:00 | -0.784976    | -0.550139    | -1.5926     |\n",
      "| 2000-12-18 00:00:00 |  0.0949665   | -0.159342    |  0.352832   |\n",
      "| 2000-12-19 00:00:00 |  0.125083    | -2.47532     | -0.353682   |\n",
      "| 2000-12-20 00:00:00 |  0.0269597   |  1.03626     | -0.631081   |\n",
      "| 2000-12-21 00:00:00 | -1.53456     |  0.0549718   |  0.126844   |\n",
      "| 2000-12-22 00:00:00 | -1.24045     | -1.5948      | -1.65729    |\n",
      "| 2000-12-23 00:00:00 |  0.378205    |  1.92277     | -0.0600333  |\n",
      "| 2000-12-24 00:00:00 |  0.77368     |  1.05549     |  1.22372    |\n",
      "| 2000-12-25 00:00:00 |  1.26511     | -1.67407     | -0.138785   |\n",
      "| 2000-12-26 00:00:00 | -0.525908    | -0.557586    | -1.78028    |\n",
      "| 2000-12-27 00:00:00 |  1.40135     | -0.707991    | -0.382404   |\n",
      "| 2000-12-28 00:00:00 |  0.859232    |  0.765653    |  1.08168    |\n",
      "| 2000-12-29 00:00:00 | -0.13583     |  1.26589     |  1.81552    |\n",
      "| 2000-12-30 00:00:00 | -1.83767     |  0.0657256   | -2.05203    |\n",
      "| 2000-12-31 00:00:00 | -1.1284      |  0.593661    |  0.278951   |\n",
      "| 2001-01-01 00:00:00 | -0.614693    | -1.24228     | -1.0899     |\n",
      "| 2001-01-02 00:00:00 | -0.0307212   | -0.572979    | -1.16829    |\n",
      "| 2001-01-03 00:00:00 |  1.4624      | -1.13577     |  1.82881    |\n",
      "| 2001-01-04 00:00:00 |  0.121487    | -1.01261     |  0.843537   |\n",
      "| 2001-01-05 00:00:00 | -1.05483     | -1.91457     | -0.0611676  |\n",
      "| 2001-01-06 00:00:00 |  0.436199    | -1.54794     |  1.6748     |\n",
      "| 2001-01-07 00:00:00 | -0.00313456  | -0.232861    |  1.06305    |\n",
      "| 2001-01-08 00:00:00 |  0.35598     | -1.41082     | -0.135731   |\n",
      "| 2001-01-09 00:00:00 | -1.15054     | -1.78144     | -0.0406374  |\n",
      "| 2001-01-10 00:00:00 |  1.81297     | -0.0991369   | -0.321094   |\n",
      "| 2001-01-11 00:00:00 | -0.159038    | -0.0722922   |  0.424058   |\n",
      "| 2001-01-12 00:00:00 |  1.37572     |  0.74793     | -0.803473   |\n",
      "| 2001-01-13 00:00:00 | -1.6887      | -1.32507     | -1.79018    |\n",
      "| 2001-01-14 00:00:00 | -0.157119    | -1.0342      |  1.50384    |\n",
      "| 2001-01-15 00:00:00 | -0.116091    |  2.35531     | -2.45244    |\n",
      "| 2001-01-16 00:00:00 |  1.8841      | -0.0122727   | -0.315053   |\n",
      "| 2001-01-17 00:00:00 | -0.261079    | -0.8136      |  0.299231   |\n",
      "| 2001-01-18 00:00:00 |  0.320017    |  0.493804    | -0.531443   |\n",
      "| 2001-01-19 00:00:00 |  1.30554     |  0.598873    | -2.90614    |\n",
      "| 2001-01-20 00:00:00 | -0.014655    |  1.39621     | -1.46642    |\n",
      "| 2001-01-21 00:00:00 |  0.328463    |  0.181794    |  0.275231   |\n",
      "| 2001-01-22 00:00:00 |  0.73864     |  0.00489197  | -1.38828    |\n",
      "| 2001-01-23 00:00:00 | -0.851137    |  0.475318    |  2.17739    |\n",
      "| 2001-01-24 00:00:00 | -1.2504      | -2.34905     |  0.724258   |\n",
      "| 2001-01-25 00:00:00 |  0.255447    |  0.0159446   |  1.80345    |\n",
      "| 2001-01-26 00:00:00 | -0.22598     | -0.220981    |  0.546085   |\n",
      "| 2001-01-27 00:00:00 |  0.0289624   |  1.06362     | -0.641016   |\n",
      "| 2001-01-28 00:00:00 |  0.163718    | -0.0273002   | -1.44463    |\n",
      "| 2001-01-29 00:00:00 | -0.300796    |  1.35272     |  0.761765   |\n",
      "| 2001-01-30 00:00:00 |  0.830963    | -2.69098     | -0.640553   |\n",
      "| 2001-01-31 00:00:00 | -0.806138    | -1.4933      | -0.425782   |\n",
      "| 2001-02-01 00:00:00 | -0.159458    | -0.532938    | -1.13132    |\n",
      "| 2001-02-02 00:00:00 |  1.06683     | -0.221631    |  2.29906    |\n",
      "| 2001-02-03 00:00:00 |  0.388788    | -0.074022    |  1.41494    |\n",
      "| 2001-02-04 00:00:00 |  2.1756      | -0.4808      |  0.377968   |\n",
      "| 2001-02-05 00:00:00 |  0.134479    |  1.07189     |  0.257177   |\n",
      "| 2001-02-06 00:00:00 | -1.96312     | -0.671668    | -0.154545   |\n",
      "| 2001-02-07 00:00:00 |  1.78554     |  1.65641     | -0.120878   |\n",
      "| 2001-02-08 00:00:00 |  0.506495    |  0.0536966   |  1.40201    |\n",
      "| 2001-02-09 00:00:00 | -0.432902    | -0.384717    | -1.76634    |\n",
      "| 2001-02-10 00:00:00 |  0.123836    |  0.486268    | -0.270501   |\n",
      "| 2001-02-11 00:00:00 |  1.20808     |  0.116672    |  0.561467   |\n",
      "| 2001-02-12 00:00:00 |  0.847001    | -0.489398    |  1.25232    |\n",
      "| 2001-02-13 00:00:00 | -0.361678    | -0.111943    | -0.427627   |\n",
      "| 2001-02-14 00:00:00 | -0.975092    |  1.31228     | -0.0747671  |\n",
      "| 2001-02-15 00:00:00 | -0.938065    |  0.286324    |  0.612561   |\n",
      "| 2001-02-16 00:00:00 |  1.47171     |  0.395831    | -0.88439    |\n",
      "| 2001-02-17 00:00:00 | -1.64701     | -0.62147     |  0.245519   |\n",
      "| 2001-02-18 00:00:00 |  0.196397    | -0.173489    |  0.288489   |\n",
      "| 2001-02-19 00:00:00 | -1.31774     | -0.734585    | -1.44868    |\n",
      "| 2001-02-20 00:00:00 |  0.46531     |  1.02673     |  1.66269    |\n",
      "| 2001-02-21 00:00:00 | -0.188164    |  2.09336     | -2.74618    |\n",
      "| 2001-02-22 00:00:00 |  0.542591    |  0.869425    | -0.0209078  |\n",
      "| 2001-02-23 00:00:00 |  0.529127    |  0.0458995   |  0.76866    |\n",
      "| 2001-02-24 00:00:00 |  0.329663    | -0.971387    | -0.792798   |\n",
      "| 2001-02-25 00:00:00 |  0.474279    | -0.153277    | -0.546808   |\n",
      "| 2001-02-26 00:00:00 | -0.582751    | -0.360666    |  0.376858   |\n",
      "| 2001-02-27 00:00:00 |  0.917474    |  0.0438101   | -0.00909798 |\n",
      "| 2001-02-28 00:00:00 | -0.0304874   | -1.67733     | -0.822592   |\n",
      "| 2001-03-01 00:00:00 | -0.892969    |  1.01364     | -1.36257    |\n",
      "| 2001-03-02 00:00:00 | -1.24494     |  1.17515     |  0.357173   |\n",
      "| 2001-03-03 00:00:00 | -0.41076     | -0.870043    |  0.107295   |\n",
      "| 2001-03-04 00:00:00 | -1.48277     | -0.361583    |  1.35794    |\n",
      "| 2001-03-05 00:00:00 | -1.23624     |  1.08438     | -0.96591    |\n",
      "| 2001-03-06 00:00:00 | -0.190876    | -1.37107     | -1.69209    |\n",
      "| 2001-03-07 00:00:00 |  0.976785    | -0.343346    |  1.3671     |\n",
      "| 2001-03-08 00:00:00 | -1.25768     |  1.44686     |  0.680037   |\n",
      "| 2001-03-09 00:00:00 | -1.56489     | -0.214806    |  0.0221826  |\n",
      "| 2001-03-10 00:00:00 | -0.0545033   | -0.299054    | -0.933191   |\n",
      "| 2001-03-11 00:00:00 | -1.36547     | -0.359356    | -0.179275   |\n",
      "| 2001-03-12 00:00:00 |  0.735808    |  1.76806     |  0.209394   |\n",
      "| 2001-03-13 00:00:00 | -0.498509    | -0.669712    | -1.08891    |\n",
      "| 2001-03-14 00:00:00 | -1.2136      | -0.674932    | -2.25226    |\n",
      "| 2001-03-15 00:00:00 | -0.0781982   | -0.259678    | -0.231085   |\n",
      "| 2001-03-16 00:00:00 | -1.38972     |  0.634025    |  0.262002   |\n",
      "| 2001-03-17 00:00:00 |  1.01609     |  0.980809    | -1.06136    |\n",
      "| 2001-03-18 00:00:00 | -1.09004     |  1.05787     | -0.234386   |\n",
      "| 2001-03-19 00:00:00 |  1.46813     |  1.08932     |  2.1808     |\n",
      "| 2001-03-20 00:00:00 | -1.04843     | -0.31        |  1.02647    |\n",
      "| 2001-03-21 00:00:00 | -1.18622     | -0.00588874  |  0.786224   |\n",
      "| 2001-03-22 00:00:00 |  1.27236     | -0.787762    |  0.944723   |\n",
      "| 2001-03-23 00:00:00 | -0.96657     |  1.12823     |  0.57169    |\n",
      "| 2001-03-24 00:00:00 | -0.692134    | -0.93591     |  0.255248   |\n",
      "| 2001-03-25 00:00:00 | -0.396307    | -1.03358     | -0.464275   |\n",
      "| 2001-03-26 00:00:00 |  0.846268    | -0.0768672   | -0.00483705 |\n",
      "| 2001-03-27 00:00:00 |  1.73948     | -0.0593591   |  1.27529    |\n",
      "| 2001-03-28 00:00:00 |  0.118145    | -0.419484    | -1.26769    |\n",
      "| 2001-03-29 00:00:00 | -0.268402    |  0.683834    |  1.19326    |\n",
      "| 2001-03-30 00:00:00 |  1.0602      |  1.45202     | -0.452362   |\n",
      "| 2001-03-31 00:00:00 |  0.739707    | -0.285047    |  0.669579   |\n",
      "| 2001-04-01 00:00:00 | -1.31108     | -0.00505143  |  1.06211    |\n",
      "| 2001-04-02 00:00:00 | -1.67991     |  1.1028      | -0.326651   |\n",
      "| 2001-04-03 00:00:00 | -0.166427    |  1.09207     | -0.620752   |\n",
      "| 2001-04-04 00:00:00 | -0.0435288   | -0.192113    |  1.11937    |\n",
      "| 2001-04-05 00:00:00 | -0.00648101  | -0.679023    |  0.025885   |\n",
      "| 2001-04-06 00:00:00 |  1.14201     | -0.552902    | -0.775755   |\n",
      "| 2001-04-07 00:00:00 |  0.717201    | -2.08922     | -0.591415   |\n",
      "| 2001-04-08 00:00:00 |  0.090411    |  0.840363    | -0.359567   |\n",
      "| 2001-04-09 00:00:00 |  0.647788    |  0.454749    |  1.16558    |\n",
      "| 2001-04-10 00:00:00 | -0.582293    |  1.20299     | -0.899835   |\n",
      "| 2001-04-11 00:00:00 |  0.756311    | -1.50212     |  1.74621    |\n",
      "| 2001-04-12 00:00:00 |  0.786254    |  0.383836    | -0.579031   |\n",
      "| 2001-04-13 00:00:00 | -0.623357    | -0.858031    |  0.366225   |\n",
      "| 2001-04-14 00:00:00 |  1.22285     |  0.00335844  |  0.0518691  |\n",
      "| 2001-04-15 00:00:00 | -0.0465793   |  1.36871     |  0.795862   |\n",
      "| 2001-04-16 00:00:00 | -1.97054     |  1.21443     | -0.210017   |\n",
      "| 2001-04-17 00:00:00 |  1.35635     |  0.508615    | -1.51057    |\n",
      "| 2001-04-18 00:00:00 | -0.480645    | -0.0907845   | -0.618872   |\n",
      "| 2001-04-19 00:00:00 |  1.36369     |  0.292638    | -0.616047   |\n",
      "| 2001-04-20 00:00:00 |  0.0587587   | -0.730148    |  0.828181   |\n",
      "| 2001-04-21 00:00:00 | -1.27263     |  0.203054    |  0.187362   |\n",
      "| 2001-04-22 00:00:00 |  0.667328    | -0.47281     |  0.246749   |\n",
      "| 2001-04-23 00:00:00 |  1.91934     | -0.276952    |  0.2979     |\n",
      "| 2001-04-24 00:00:00 | -0.0418679   |  1.68486     |  1.26311    |\n",
      "| 2001-04-25 00:00:00 | -0.517316    |  1.26487     | -0.326645   |\n",
      "| 2001-04-26 00:00:00 |  0.732415    |  1.56509     |  0.873691   |\n",
      "| 2001-04-27 00:00:00 | -0.420087    |  0.152682    |  0.394359   |\n",
      "| 2001-04-28 00:00:00 | -0.198776    | -0.396528    |  0.214729   |\n",
      "| 2001-04-29 00:00:00 |  1.1446      |  0.0248185   |  0.183881   |\n",
      "| 2001-04-30 00:00:00 |  0.0942726   |  0.185158    | -0.149225   |\n",
      "| 2001-05-01 00:00:00 |  1.13367     |  0.0875982   |  0.236185   |\n",
      "| 2001-05-02 00:00:00 | -1.19059     |  1.29526     |  0.568803   |\n",
      "| 2001-05-03 00:00:00 |  1.70604     |  0.100782    | -0.409221   |\n",
      "| 2001-05-04 00:00:00 |  0.031473    |  0.732567    | -1.38136    |\n",
      "| 2001-05-05 00:00:00 | -0.202178    | -0.442039    |  0.270855   |\n",
      "| 2001-05-06 00:00:00 | -0.58614     |  0.614854    | -0.532226   |\n",
      "| 2001-05-07 00:00:00 | -1.64956     |  0.928602    |  1.14792    |\n",
      "| 2001-05-08 00:00:00 |  0.148476    |  0.927641    |  0.729714   |\n",
      "| 2001-05-09 00:00:00 |  1.5018      |  0.574698    | -0.575335   |\n",
      "| 2001-05-10 00:00:00 | -1.74547     |  1.02707     | -0.239017   |\n",
      "| 2001-05-11 00:00:00 | -0.517874    | -1.35933     | -1.44793    |\n",
      "| 2001-05-12 00:00:00 |  0.706548    | -1.81583     |  0.202511   |\n",
      "| 2001-05-13 00:00:00 | -0.72069     | -0.291415    | -0.195494   |\n",
      "| 2001-05-14 00:00:00 | -0.24018     |  0.00915072  | -2.11367    |\n",
      "| 2001-05-15 00:00:00 | -0.743908    | -0.563725    | -0.123126   |\n",
      "| 2001-05-16 00:00:00 | -1.11004     | -0.198245    | -0.246996   |\n",
      "| 2001-05-17 00:00:00 |  1.36014     |  0.668882    |  0.871173   |\n",
      "| 2001-05-18 00:00:00 | -2.1318      | -0.430324    | -0.93579    |\n",
      "| 2001-05-19 00:00:00 | -1.41638     |  0.968565    | -0.508564   |\n",
      "| 2001-05-20 00:00:00 | -0.0588675   | -0.190007    | -0.943977   |\n",
      "| 2001-05-21 00:00:00 | -0.499615    | -0.837784    |  0.208441   |\n",
      "| 2001-05-22 00:00:00 | -0.766932    | -0.900786    | -1.84904    |\n",
      "| 2001-05-23 00:00:00 | -0.929474    |  1.04703     |  0.959173   |\n",
      "| 2001-05-24 00:00:00 | -0.0138303   |  1.85722     | -0.521733   |\n",
      "| 2001-05-25 00:00:00 |  1.57592     |  1.06031     |  0.267526   |\n",
      "| 2001-05-26 00:00:00 | -0.693895    |  0.226311    | -0.360765   |\n",
      "| 2001-05-27 00:00:00 | -1.07655     |  0.151322    | -2.26921    |\n",
      "| 2001-05-28 00:00:00 |  0.109569    |  0.423811    |  0.01924    |\n",
      "| 2001-05-29 00:00:00 |  0.670748    | -0.234432    | -1.06003    |\n",
      "| 2001-05-30 00:00:00 | -0.930842    |  0.965961    |  2.43954    |\n",
      "| 2001-05-31 00:00:00 | -0.209973    |  0.516669    | -0.710321   |\n",
      "| 2001-06-01 00:00:00 | -1.21693     | -0.46894     |  0.849457   |\n",
      "| 2001-06-02 00:00:00 | -1.44055     |  0.328322    | -1.23365    |\n",
      "| 2001-06-03 00:00:00 | -0.187581    | -0.287523    | -1.04656    |\n",
      "| 2001-06-04 00:00:00 | -1.23303     |  0.268732    |  1.76623    |\n",
      "| 2001-06-05 00:00:00 |  2.52877     | -1.04201     |  0.196092   |\n",
      "| 2001-06-06 00:00:00 |  0.941552    | -1.52177     | -1.05468    |\n",
      "| 2001-06-07 00:00:00 |  0.240338    |  0.552497    | -1.82849    |\n",
      "| 2001-06-08 00:00:00 |  0.547295    |  0.800608    |  0.275279   |\n",
      "| 2001-06-09 00:00:00 |  0.779857    | -0.602444    |  1.17493    |\n",
      "| 2001-06-10 00:00:00 | -1.32251     |  0.0443042   |  0.0559377  |\n",
      "| 2001-06-11 00:00:00 |  0.926102    | -0.615112    |  1.35064    |\n",
      "| 2001-06-12 00:00:00 | -0.331949    | -1.23613     | -0.460032   |\n",
      "| 2001-06-13 00:00:00 | -0.741828    |  0.604068    |  0.579903   |\n",
      "| 2001-06-14 00:00:00 | -1.7819      |  0.55206     |  1.24572    |\n",
      "| 2001-06-15 00:00:00 | -1.07891     | -0.434282    | -1.94029    |\n",
      "| 2001-06-16 00:00:00 | -0.360465    |  0.0727894   |  1.60118    |\n",
      "| 2001-06-17 00:00:00 |  0.271107    |  0.655575    | -2.18012    |\n",
      "| 2001-06-18 00:00:00 |  1.22526     | -0.0834635   | -2.42518    |\n",
      "| 2001-06-19 00:00:00 | -0.157764    |  0.406588    |  0.892061   |\n",
      "| 2001-06-20 00:00:00 | -1.13218     |  0.431642    |  0.258646   |\n",
      "| 2001-06-21 00:00:00 | -0.688347    |  1.43346     | -0.135622   |\n",
      "| 2001-06-22 00:00:00 | -1.47226     |  0.704932    | -0.616356   |\n",
      "| 2001-06-23 00:00:00 | -2.08467     |  1.3683      |  1.22976    |\n",
      "| 2001-06-24 00:00:00 | -0.441104    |  0.677161    | -0.626217   |\n",
      "| 2001-06-25 00:00:00 | -0.758133    |  0.124677    | -0.339594   |\n",
      "| 2001-06-26 00:00:00 |  0.679573    |  0.37292     |  1.21095    |\n",
      "| 2001-06-27 00:00:00 | -0.285909    | -0.0615272   | -0.258585   |\n",
      "| 2001-06-28 00:00:00 | -0.810641    | -0.744083    | -1.10064    |\n",
      "| 2001-06-29 00:00:00 |  1.16495     |  0.0385021   | -0.0759735  |\n",
      "| 2001-06-30 00:00:00 |  0.49618     | -0.751921    |  1.24905    |\n",
      "| 2001-07-01 00:00:00 | -0.411213    | -0.89118     | -0.890414   |\n",
      "| 2001-07-02 00:00:00 | -0.329831    |  0.00787127  | -0.896739   |\n",
      "| 2001-07-03 00:00:00 | -0.740072    |  0.826753    |  0.867198   |\n",
      "| 2001-07-04 00:00:00 | -0.481485    | -2.09969     | -0.205031   |\n",
      "| 2001-07-05 00:00:00 |  0.202043    | -1.12804     |  1.77764    |\n",
      "| 2001-07-06 00:00:00 | -0.969704    | -0.0389658   |  1.21333    |\n",
      "| 2001-07-07 00:00:00 | -0.90605     |  0.892837    |  0.510577   |\n",
      "| 2001-07-08 00:00:00 | -1.16686     |  0.984941    |  0.828688   |\n",
      "| 2001-07-09 00:00:00 | -0.308283    | -0.750991    | -0.734773   |\n",
      "| 2001-07-10 00:00:00 |  1.31847     |  0.249056    | -1.41418    |\n",
      "| 2001-07-11 00:00:00 | -0.564136    | -0.715676    | -0.0447227  |\n",
      "| 2001-07-12 00:00:00 |  0.574719    | -1.08423     | -0.133579   |\n",
      "| 2001-07-13 00:00:00 | -0.0546077   |  1.11993     |  0.00551493 |\n",
      "| 2001-07-14 00:00:00 |  0.826298    | -1.44966     | -0.900432   |\n",
      "| 2001-07-15 00:00:00 |  2.07294     | -0.690626    | -0.68592    |\n",
      "| 2001-07-16 00:00:00 | -0.260219    | -2.00777     |  0.487339   |\n",
      "| 2001-07-17 00:00:00 | -2.32556     | -1.44496     |  0.921404   |\n",
      "| 2001-07-18 00:00:00 | -1.12361     |  0.43731     | -3.69992    |\n",
      "| 2001-07-19 00:00:00 | -0.191259    | -0.888401    | -0.508819   |\n",
      "| 2001-07-20 00:00:00 |  0.33674     | -0.259646    |  0.364259   |\n",
      "| 2001-07-21 00:00:00 | -0.145782    | -0.0688666   | -0.186556   |\n",
      "| 2001-07-22 00:00:00 | -1.63213     | -1.54903     |  0.0826081  |\n",
      "| 2001-07-23 00:00:00 | -1.17222     |  0.383841    | -0.0754055  |\n",
      "| 2001-07-24 00:00:00 | -0.352559    |  0.00246936  |  0.460518   |\n",
      "| 2001-07-25 00:00:00 |  1.24052     | -0.942227    |  0.520584   |\n",
      "| 2001-07-26 00:00:00 | -0.115331    | -0.250466    | -1.94736    |\n",
      "| 2001-07-27 00:00:00 |  0.237134    |  1.85313     |  1.59263    |\n",
      "| 2001-07-28 00:00:00 |  0.676099    |  0.665572    | -1.03605    |\n",
      "| 2001-07-29 00:00:00 | -1.41996     | -0.658006    | -0.902576   |\n",
      "| 2001-07-30 00:00:00 |  0.596171    |  0.5186      |  1.42383    |\n",
      "| 2001-07-31 00:00:00 | -0.418966    | -0.275104    |  0.578474   |\n",
      "| 2001-08-01 00:00:00 | -1.90787     | -0.357074    |  0.00188062 |\n",
      "| 2001-08-02 00:00:00 | -1.99494     | -0.785511    |  0.443277   |\n",
      "| 2001-08-03 00:00:00 |  1.58727     |  0.288465    |  0.722769   |\n",
      "| 2001-08-04 00:00:00 |  0.526506    |  0.0915568   | -1.54291    |\n",
      "| 2001-08-05 00:00:00 | -0.632154    |  9.02545e-05 | -0.814173   |\n",
      "| 2001-08-06 00:00:00 |  0.127517    |  0.0907159   | -0.237277   |\n",
      "| 2001-08-07 00:00:00 | -0.335403    | -0.217038    | -0.00324927 |\n",
      "| 2001-08-08 00:00:00 |  0.560991    | -0.321591    |  0.896691   |\n",
      "| 2001-08-09 00:00:00 |  1.66102     |  1.11151     | -1.08012    |\n",
      "| 2001-08-10 00:00:00 | -1.05785     | -1.96966     |  0.499377   |\n",
      "| 2001-08-11 00:00:00 | -1.0681      |  0.792156    | -1.20706    |\n",
      "| 2001-08-12 00:00:00 | -1.53532     |  0.382191    | -0.0210225  |\n",
      "| 2001-08-13 00:00:00 | -0.170128    |  0.190841    |  0.257374   |\n",
      "| 2001-08-14 00:00:00 | -0.333475    |  0.102471    | -0.485333   |\n",
      "| 2001-08-15 00:00:00 |  0.0295097   |  0.433276    | -1.14748    |\n",
      "| 2001-08-16 00:00:00 |  1.99434     | -0.149286    |  1.11888    |\n",
      "| 2001-08-17 00:00:00 |  0.528551    | -0.664105    |  0.290759   |\n",
      "| 2001-08-18 00:00:00 |  0.331484    |  0.140331    |  0.706686   |\n",
      "| 2001-08-19 00:00:00 |  0.822484    | -0.671206    | -1.23082    |\n",
      "| 2001-08-20 00:00:00 | -0.0380673   |  1.51636     |  0.154925   |\n",
      "| 2001-08-21 00:00:00 |  0.11763     | -0.838296    | -0.708669   |\n",
      "| 2001-08-22 00:00:00 |  1.58334     | -0.580165    | -0.413071   |\n",
      "| 2001-08-23 00:00:00 | -2.10421     | -0.470815    |  1.1326     |\n",
      "| 2001-08-24 00:00:00 |  1.65637     | -0.382015    |  0.436541   |\n",
      "| 2001-08-25 00:00:00 |  0.394728    | -2.91897     | -0.123489   |\n",
      "| 2001-08-26 00:00:00 |  0.597119    |  0.503218    | -1.48863    |\n",
      "| 2001-08-27 00:00:00 |  0.05456     | -0.101347    |  1.72994    |\n",
      "| 2001-08-28 00:00:00 |  0.588218    |  1.10901     |  0.40042    |\n",
      "| 2001-08-29 00:00:00 |  0.81963     |  0.984011    |  1.72634    |\n",
      "| 2001-08-30 00:00:00 |  0.448447    | -0.0424108   |  0.830741   |\n",
      "| 2001-08-31 00:00:00 | -1.01572     |  0.860772    | -0.24571    |\n",
      "| 2001-09-01 00:00:00 |  0.333127    | -1.06783     |  1.86264    |\n",
      "| 2001-09-02 00:00:00 |  0.916558    | -0.338428    |  0.0599711  |\n",
      "| 2001-09-03 00:00:00 | -0.913133    | -1.27303     | -0.430681   |\n",
      "| 2001-09-04 00:00:00 | -0.158645    | -0.332685    | -1.09054    |\n",
      "| 2001-09-05 00:00:00 |  0.229303    |  0.662097    |  0.0225201  |\n",
      "| 2001-09-06 00:00:00 | -0.481055    | -0.359916    | -0.540954   |\n",
      "| 2001-09-07 00:00:00 | -1.20864     | -1.92938     |  0.0140002  |\n",
      "| 2001-09-08 00:00:00 |  0.785514    |  1.36896     | -0.282053   |\n",
      "| 2001-09-09 00:00:00 |  0.0563276   | -2.07975     |  1.02129    |\n",
      "| 2001-09-10 00:00:00 | -0.684629    |  0.726864    | -1.07058    |\n",
      "| 2001-09-11 00:00:00 | -0.849386    | -0.605192    | -0.959585   |\n",
      "| 2001-09-12 00:00:00 |  1.10243     |  0.536841    | -1.90013    |\n",
      "| 2001-09-13 00:00:00 |  0.65425     | -1.2861      | -0.503295   |\n",
      "| 2001-09-14 00:00:00 | -1.58223     |  0.489473    |  1.66056    |\n",
      "| 2001-09-15 00:00:00 |  0.978129    | -0.247603    | -2.34517    |\n",
      "| 2001-09-16 00:00:00 | -0.400758    |  0.223933    |  0.0729738  |\n",
      "| 2001-09-17 00:00:00 | -0.780804    |  0.348092    | -0.344721   |\n",
      "| 2001-09-18 00:00:00 |  0.240977    | -0.281762    |  2.41447    |\n",
      "| 2001-09-19 00:00:00 |  1.0174      |  0.439873    |  2.08165    |\n",
      "| 2001-09-20 00:00:00 |  0.148713    | -0.122755    |  0.575918   |\n",
      "| 2001-09-21 00:00:00 |  0.4882      |  0.686023    |  0.140737   |\n",
      "| 2001-09-22 00:00:00 | -0.933341    | -1.4361      |  0.499378   |\n",
      "| 2001-09-23 00:00:00 |  2.24518     | -1.61534     |  1.92396    |\n",
      "| 2001-09-24 00:00:00 | -0.358674    | -1.21318     |  0.811348   |\n",
      "| 2001-09-25 00:00:00 |  0.70013     | -0.17492     |  0.329743   |\n",
      "| 2001-09-26 00:00:00 |  2.65297     |  0.67184     | -0.471447   |\n",
      "| 2001-09-27 00:00:00 | -0.640776    |  0.769072    |  0.784678   |\n",
      "| 2001-09-28 00:00:00 | -1.32838     |  0.320156    | -1.4041     |\n",
      "| 2001-09-29 00:00:00 |  0.361502    | -0.145148    |  0.472486   |\n",
      "| 2001-09-30 00:00:00 |  0.93497     |  0.792163    |  0.754547   |\n",
      "| 2001-10-01 00:00:00 |  0.759987    | -1.21527     |  0.144411   |\n",
      "| 2001-10-02 00:00:00 |  0.139952    | -0.409279    | -1.19538    |\n",
      "| 2001-10-03 00:00:00 | -0.479853    |  0.146256    |  0.132249   |\n",
      "| 2001-10-04 00:00:00 |  2.36097     | -1.34731     | -0.102153   |\n",
      "| 2001-10-05 00:00:00 | -0.556648    | -0.140598    | -0.887232   |\n",
      "| 2001-10-06 00:00:00 | -0.717569    |  0.0439391   | -0.443453   |\n",
      "| 2001-10-07 00:00:00 |  1.18544     |  0.123628    |  1.12908    |\n",
      "| 2001-10-08 00:00:00 | -0.324627    | -0.213227    |  1.33663    |\n",
      "| 2001-10-09 00:00:00 | -0.28111     | -0.219829    | -2.0703     |\n",
      "| 2001-10-10 00:00:00 | -1.33334     | -0.238318    |  0.983037   |\n",
      "| 2001-10-11 00:00:00 |  0.369593    |  0.895711    | -0.149585   |\n",
      "| 2001-10-12 00:00:00 |  0.387302    | -1.96496     | -1.09914    |\n",
      "| 2001-10-13 00:00:00 |  0.819397    | -1.31639     | -0.661667   |\n",
      "| 2001-10-14 00:00:00 |  0.00252022  |  1.84662     |  1.87063    |\n",
      "| 2001-10-15 00:00:00 | -0.134864    | -2.50649     | -0.0749971  |\n",
      "| 2001-10-16 00:00:00 |  0.722826    |  1.73543     |  0.310161   |\n",
      "| 2001-10-17 00:00:00 |  0.313527    |  0.0279196   |  1.00604    |\n",
      "| 2001-10-18 00:00:00 | -1.64231     | -0.542621    |  1.01542    |\n",
      "| 2001-10-19 00:00:00 |  0.620693    |  1.054       |  2.06447    |\n",
      "| 2001-10-20 00:00:00 |  0.0782205   |  0.802036    |  0.52797    |\n",
      "| 2001-10-21 00:00:00 | -0.172255    |  0.135285    | -0.882361   |\n",
      "| 2001-10-22 00:00:00 |  0.540999    | -1.076       |  0.550666   |\n",
      "| 2001-10-23 00:00:00 |  1.03101     |  0.287863    | -0.543283   |\n",
      "| 2001-10-24 00:00:00 | -0.316709    |  1.98307     | -0.43566    |\n",
      "| 2001-10-25 00:00:00 | -1.57931     |  0.215272    |  1.38974    |\n",
      "| 2001-10-26 00:00:00 | -0.480503    |  1.74542     | -1.48275    |\n",
      "| 2001-10-27 00:00:00 | -1.78847     |  0.76012     | -0.599159   |\n",
      "| 2001-10-28 00:00:00 | -1.44781     | -2.18958     |  1.73783    |\n",
      "| 2001-10-29 00:00:00 | -0.621122    | -1.50086     |  0.260726   |\n",
      "| 2001-10-30 00:00:00 |  1.27789     | -1.23143     | -0.989794   |\n",
      "| 2001-10-31 00:00:00 |  0.963994    |  0.910537    | -0.373915   |\n",
      "| 2001-11-01 00:00:00 | -1.739       | -1.72118     |  0.0645629  |\n",
      "| 2001-11-02 00:00:00 |  1.28756     | -1.66032     |  1.87655    |\n",
      "| 2001-11-03 00:00:00 | -0.368799    |  0.503205    |  1.36049    |\n",
      "| 2001-11-04 00:00:00 | -0.744931    | -0.215949    | -0.786867   |\n",
      "| 2001-11-05 00:00:00 |  1.24655     |  1.43853     |  0.270576   |\n",
      "| 2001-11-06 00:00:00 | -1.5747      | -1.74409     |  0.379845   |\n",
      "| 2001-11-07 00:00:00 |  0.118806    |  0.434484    |  0.0162321  |\n",
      "| 2001-11-08 00:00:00 | -1.60735     | -0.105117    | -0.882214   |\n",
      "| 2001-11-09 00:00:00 | -0.72198     | -0.921348    | -2.70272    |\n",
      "| 2001-11-10 00:00:00 | -0.395743    |  0.690902    |  0.832221   |\n",
      "| 2001-11-11 00:00:00 | -0.957277    | -0.388943    | -0.169546   |\n",
      "| 2001-11-12 00:00:00 |  0.545372    | -0.40906     | -0.394126   |\n",
      "| 2001-11-13 00:00:00 | -0.244993    |  1.00833     | -1.02619    |\n",
      "| 2001-11-14 00:00:00 | -1.41782     |  0.631802    |  0.0475838  |\n",
      "| 2001-11-15 00:00:00 | -0.0463251   | -0.270788    | -0.79158    |\n",
      "| 2001-11-16 00:00:00 | -1.69369     | -1.1466      |  0.273916   |\n",
      "| 2001-11-17 00:00:00 | -1.84408     |  1.6649      |  0.838526   |\n",
      "| 2001-11-18 00:00:00 |  1.59287     |  0.29226     |  1.62795    |\n",
      "| 2001-11-19 00:00:00 |  1.51433     | -3.01012     |  0.518857   |\n",
      "| 2001-11-20 00:00:00 |  0.183933    | -1.06817     |  0.490848   |\n",
      "| 2001-11-21 00:00:00 | -0.106897    | -0.365343    | -1.48854    |\n",
      "| 2001-11-22 00:00:00 | -0.672487    | -0.656431    |  0.471667   |\n",
      "| 2001-11-23 00:00:00 |  0.992849    | -1.05902     |  1.80791    |\n",
      "| 2001-11-24 00:00:00 |  0.210223    | -0.206045    |  0.579242   |\n",
      "| 2001-11-25 00:00:00 | -1.0054      |  0.074439    |  0.04289    |\n",
      "| 2001-11-26 00:00:00 |  1.60821     |  0.495477    | -0.0543989  |\n",
      "| 2001-11-27 00:00:00 |  0.269643    | -1.52741     |  1.51716    |\n",
      "| 2001-11-28 00:00:00 |  3.48271     | -0.0218605   |  0.0251716  |\n",
      "| 2001-11-29 00:00:00 | -1.60253     | -0.501792    |  0.871399   |\n",
      "| 2001-11-30 00:00:00 |  1.3463      |  0.984406    |  0.801423   |\n",
      "| 2001-12-01 00:00:00 |  1.60091     | -1.61205     |  0.742808   |\n",
      "| 2001-12-02 00:00:00 | -0.717322    |  1.50631     |  1.0208     |\n",
      "| 2001-12-03 00:00:00 | -0.423206    |  0.313092    | -1.47607    |\n",
      "| 2001-12-04 00:00:00 | -0.306266    | -0.0765647   |  2.42516    |\n",
      "| 2001-12-05 00:00:00 | -0.151937    | -1.42548     | -1.12255    |\n",
      "| 2001-12-06 00:00:00 | -0.282127    |  1.61073     |  0.440817   |\n",
      "| 2001-12-07 00:00:00 | -0.681756    |  1.03764     |  0.382451   |\n",
      "| 2001-12-08 00:00:00 | -0.752527    |  0.213049    | -0.364628   |\n",
      "| 2001-12-09 00:00:00 | -0.307333    | -1.04281     |  0.640707   |\n",
      "| 2001-12-10 00:00:00 |  1.58692     |  0.797398    | -0.112083   |\n",
      "| 2001-12-11 00:00:00 |  0.415061    | -2.18339     | -0.161569   |\n",
      "| 2001-12-12 00:00:00 |  0.137461    |  0.783402    |  0.570691   |\n",
      "| 2001-12-13 00:00:00 |  0.715973    |  1.30866     |  0.0380644  |\n",
      "| 2001-12-14 00:00:00 | -0.0146094   |  0.345386    |  0.762807   |\n",
      "| 2001-12-15 00:00:00 |  0.0450245   | -0.0327553   |  1.42811    |\n",
      "| 2001-12-16 00:00:00 |  0.891146    |  0.497242    | -1.08234    |\n",
      "| 2001-12-17 00:00:00 |  0.129073    |  0.244539    | -0.00865682 |\n",
      "| 2001-12-18 00:00:00 | -1.10591     |  0.308395    | -0.829204   |\n",
      "| 2001-12-19 00:00:00 | -1.89789     |  1.62674     |  0.914521   |\n",
      "| 2001-12-20 00:00:00 | -0.615042    |  0.372234    | -0.391072   |\n",
      "| 2001-12-21 00:00:00 | -0.389253    | -0.20884     | -0.217997   |\n",
      "| 2001-12-22 00:00:00 | -1.81299     | -0.982797    |  1.91495    |\n",
      "| 2001-12-23 00:00:00 |  1.16352     | -0.879469    | -0.748008   |\n",
      "| 2001-12-24 00:00:00 | -1.07798     |  0.0527023   | -0.615923   |\n",
      "| 2001-12-25 00:00:00 |  0.594529    | -1.36595     |  1.53062    |\n",
      "| 2001-12-26 00:00:00 |  0.278134    |  0.814279    | -1.21322    |\n",
      "| 2001-12-27 00:00:00 | -0.125157    |  0.383225    | -0.918731   |\n",
      "| 2001-12-28 00:00:00 |  0.10629     |  0.452375    |  0.135666   |\n",
      "| 2001-12-29 00:00:00 | -1.4014      |  0.765066    | -1.71853    |\n",
      "| 2001-12-30 00:00:00 | -0.353984    | -0.78238     |  0.267536   |\n",
      "| 2001-12-31 00:00:00 |  1.14619     | -0.777364    |  0.0612861  |\n",
      "| 2002-01-01 00:00:00 |  1.86591     |  0.35978     | -1.58637    |\n",
      "| 2002-01-02 00:00:00 | -0.0828973   |  0.23822     |  0.367809   |\n",
      "| 2002-01-03 00:00:00 |  0.529978    |  0.829576    | -0.380245   |\n",
      "| 2002-01-04 00:00:00 | -0.114187    | -0.739177    |  0.0817357  |\n",
      "| 2002-01-05 00:00:00 | -1.41681     |  2.51711     | -0.410929   |\n",
      "| 2002-01-06 00:00:00 | -1.67901     |  0.605458    | -0.113184   |\n",
      "| 2002-01-07 00:00:00 |  2.75931     | -1.52916     | -0.557589   |\n",
      "| 2002-01-08 00:00:00 |  0.489277    | -0.205863    |  0.389591   |\n",
      "| 2002-01-09 00:00:00 | -0.814138    | -0.354949    |  0.537968   |\n",
      "| 2002-01-10 00:00:00 | -2.03095     | -0.632553    | -0.990149   |\n",
      "| 2002-01-11 00:00:00 |  0.000523566 | -1.71988     |  0.826193   |\n",
      "| 2002-01-12 00:00:00 |  0.678621    | -0.0944785   | -0.0941641  |\n",
      "| 2002-01-13 00:00:00 | -1.29142     | -1.69388     |  1.93517    |\n",
      "| 2002-01-14 00:00:00 |  0.321697    | -0.0455739   |  1.81547    |\n",
      "| 2002-01-15 00:00:00 | -0.0770385   |  0.103978    |  0.49868    |\n",
      "| 2002-01-16 00:00:00 |  0.122316    | -1.07036     | -0.410883   |\n",
      "| 2002-01-17 00:00:00 |  0.747345    | -1.39509     |  1.48996    |\n",
      "| 2002-01-18 00:00:00 |  0.66829     | -0.0141057   | -0.00674706 |\n",
      "| 2002-01-19 00:00:00 | -2.37414     |  1.54568     |  2.235      |\n",
      "| 2002-01-20 00:00:00 |  0.174799    | -0.182937    |  0.816417   |\n",
      "| 2002-01-21 00:00:00 |  1.16307     |  0.613277    | -0.549036   |\n",
      "| 2002-01-22 00:00:00 | -2.0269      |  0.10387     |  0.439756   |\n",
      "| 2002-01-23 00:00:00 | -0.0580356   |  0.4698      |  0.462318   |\n",
      "| 2002-01-24 00:00:00 |  1.0375      | -2.06168     |  0.459026   |\n",
      "| 2002-01-25 00:00:00 |  0.701639    | -0.42373     | -1.18889    |\n",
      "| 2002-01-26 00:00:00 | -0.635259    | -1.85558     | -0.68429    |\n",
      "| 2002-01-27 00:00:00 | -1.84639     |  0.0299322   |  0.562402   |\n",
      "| 2002-01-28 00:00:00 |  1.80947     | -1.59321     | -0.238139   |\n",
      "| 2002-01-29 00:00:00 | -0.156305    | -0.236963    | -0.079894   |\n",
      "| 2002-01-30 00:00:00 | -0.589279    | -0.606029    |  1.28296    |\n",
      "| 2002-01-31 00:00:00 |  1.91835     |  0.846888    |  0.604355   |\n",
      "| 2002-02-01 00:00:00 | -0.467109    |  0.733532    | -0.0704827  |\n",
      "| 2002-02-02 00:00:00 |  1.77455     | -0.463457    |  0.347267   |\n",
      "| 2002-02-03 00:00:00 |  1.30466     | -0.640952    | -0.017357   |\n",
      "| 2002-02-04 00:00:00 | -0.170518    | -1.1388      | -1.1904     |\n",
      "| 2002-02-05 00:00:00 | -0.339849    | -0.245143    |  0.392147   |\n",
      "| 2002-02-06 00:00:00 | -0.831584    |  1.09287     | -0.119574   |\n",
      "| 2002-02-07 00:00:00 |  1.07251     | -1.84359     | -0.740298   |\n",
      "| 2002-02-08 00:00:00 |  1.15444     |  0.952196    | -0.00653568 |\n",
      "| 2002-02-09 00:00:00 | -0.17435     |  0.577239    |  0.5114     |\n",
      "| 2002-02-10 00:00:00 |  2.04502     |  0.486694    |  0.498618   |\n",
      "| 2002-02-11 00:00:00 |  0.0875972   | -0.324057    |  0.842322   |\n",
      "| 2002-02-12 00:00:00 |  1.6077      | -0.907198    |  0.851505   |\n",
      "| 2002-02-13 00:00:00 |  1.2871      |  1.25788     | -1.54862    |\n",
      "| 2002-02-14 00:00:00 | -0.484132    | -1.48802     |  1.51154    |\n",
      "| 2002-02-15 00:00:00 |  1.87743     | -0.391104    | -1.27981    |\n",
      "| 2002-02-16 00:00:00 |  1.17906     |  0.401024    | -1.81082    |\n",
      "| 2002-02-17 00:00:00 | -1.38988     |  0.716868    |  1.32547    |\n",
      "| 2002-02-18 00:00:00 | -1.61008     | -0.169102    | -0.636926   |\n",
      "| 2002-02-19 00:00:00 | -0.913524    |  0.812707    | -0.952445   |\n",
      "| 2002-02-20 00:00:00 |  0.391776    | -0.0931481   | -0.2989     |\n",
      "| 2002-02-21 00:00:00 |  0.193962    |  1.11077     | -0.804621   |\n",
      "| 2002-02-22 00:00:00 | -0.677777    |  0.225837    |  0.301823   |\n",
      "| 2002-02-23 00:00:00 |  0.700519    |  0.0485372   |  0.782018   |\n",
      "| 2002-02-24 00:00:00 |  1.48842     |  0.0135029   |  0.0237548  |\n",
      "| 2002-02-25 00:00:00 |  1.41928     |  0.716924    | -0.76283    |\n",
      "| 2002-02-26 00:00:00 |  0.396496    | -0.0720406   | -0.972209   |\n",
      "| 2002-02-27 00:00:00 | -0.274574    | -0.562713    | -0.317261   |\n",
      "| 2002-02-28 00:00:00 | -0.755057    | -2.25807     | -0.787299   |\n",
      "| 2002-03-01 00:00:00 | -0.46317     |  0.186079    | -0.756987   |\n",
      "| 2002-03-02 00:00:00 | -3.00666     |  1.02091     | -0.384409   |\n",
      "| 2002-03-03 00:00:00 | -0.111319    | -0.644169    |  0.00482957 |\n",
      "| 2002-03-04 00:00:00 |  1.76249     |  1.11226     | -0.0459959  |\n",
      "| 2002-03-05 00:00:00 |  1.11187     |  0.38676     |  2.02817    |\n",
      "| 2002-03-06 00:00:00 | -0.493718    | -1.99353     | -0.961721   |\n",
      "| 2002-03-07 00:00:00 | -0.700028    |  0.451322    |  1.73004    |\n",
      "| 2002-03-08 00:00:00 | -0.265887    | -0.428825    | -0.781563   |\n",
      "| 2002-03-09 00:00:00 |  0.655711    |  0.845135    |  2.09097    |\n",
      "| 2002-03-10 00:00:00 | -0.872046    |  0.877921    | -1.3753     |\n",
      "| 2002-03-11 00:00:00 | -0.625721    | -1.1741      |  0.114356   |\n",
      "| 2002-03-12 00:00:00 |  0.919741    | -0.212939    |  0.737292   |\n",
      "| 2002-03-13 00:00:00 |  0.412578    |  0.20619     |  2.28495    |\n",
      "| 2002-03-14 00:00:00 | -0.539902    | -0.562895    | -0.630847   |\n",
      "| 2002-03-15 00:00:00 |  0.786662    | -0.660311    |  0.12152    |\n",
      "| 2002-03-16 00:00:00 | -0.517853    |  0.325876    | -0.74584    |\n",
      "| 2002-03-17 00:00:00 |  0.0829694   | -0.566623    |  0.530875   |\n",
      "| 2002-03-18 00:00:00 | -0.121586    | -0.649101    | -0.139472   |\n",
      "| 2002-03-19 00:00:00 |  0.381497    |  0.590938    |  1.26932    |\n",
      "| 2002-03-20 00:00:00 |  0.0237472   | -1.07419     | -0.360853   |\n",
      "| 2002-03-21 00:00:00 | -0.195961    |  1.50854     |  0.869517   |\n",
      "| 2002-03-22 00:00:00 |  1.02509     | -0.255672    | -1.34053    |\n",
      "| 2002-03-23 00:00:00 |  0.446714    |  1.22736     |  0.618676   |\n",
      "| 2002-03-24 00:00:00 | -0.45989     | -0.999626    | -0.462232   |\n",
      "| 2002-03-25 00:00:00 | -0.647394    |  1.38207     | -1.40782    |\n",
      "| 2002-03-26 00:00:00 | -0.760064    |  2.0375      | -0.537207   |\n",
      "| 2002-03-27 00:00:00 | -0.367214    | -1.55316     |  0.358903   |\n",
      "| 2002-03-28 00:00:00 |  0.363899    |  0.0688814   | -0.263434   |\n",
      "| 2002-03-29 00:00:00 | -0.271787    | -1.06981     | -1.13268    |\n",
      "| 2002-03-30 00:00:00 |  0.558104    |  0.617575    |  0.343674   |\n",
      "| 2002-03-31 00:00:00 |  0.402643    |  0.642303    |  1.61253    |\n",
      "| 2002-04-01 00:00:00 |  0.893229    |  0.867015    |  1.12272    |\n",
      "| 2002-04-02 00:00:00 | -0.46568     |  0.328011    | -0.928187   |\n",
      "| 2002-04-03 00:00:00 |  0.949115    |  0.191229    |  1.76151    |\n",
      "| 2002-04-04 00:00:00 | -0.538273    |  0.954043    |  1.46454    |\n",
      "| 2002-04-05 00:00:00 | -0.249929    |  1.33368     |  0.0444989  |\n",
      "| 2002-04-06 00:00:00 |  0.452754    | -1.87218     | -0.56829    |\n",
      "| 2002-04-07 00:00:00 |  0.180546    |  0.0245698   |  0.28726    |\n",
      "| 2002-04-08 00:00:00 |  0.339218    |  0.105393    |  0.75037    |\n",
      "| 2002-04-09 00:00:00 |  0.214989    |  0.546728    | -0.941775   |\n",
      "| 2002-04-10 00:00:00 |  0.600067    | -1.26339     | -0.98673    |\n",
      "| 2002-04-11 00:00:00 |  0.0828603   |  0.854934    | -0.751967   |\n",
      "| 2002-04-12 00:00:00 |  0.706033    |  2.16233     | -0.478157   |\n",
      "| 2002-04-13 00:00:00 |  0.708947    |  0.429286    | -2.32054    |\n",
      "| 2002-04-14 00:00:00 | -0.0959604   | -1.61128     |  0.852556   |\n",
      "| 2002-04-15 00:00:00 |  1.00881     |  0.583587    | -0.567335   |\n",
      "| 2002-04-16 00:00:00 |  0.454203    |  1.64853     | -0.0303227  |\n",
      "| 2002-04-17 00:00:00 | -1.3826      |  0.787483    | -0.592921   |\n",
      "| 2002-04-18 00:00:00 |  0.698496    |  0.541722    |  1.01769    |\n",
      "| 2002-04-19 00:00:00 |  0.867904    |  1.72195     |  0.647933   |\n",
      "| 2002-04-20 00:00:00 |  1.40203     | -0.106668    | -0.680191   |\n",
      "| 2002-04-21 00:00:00 | -1.84709     |  0.261988    |  0.22923    |\n",
      "| 2002-04-22 00:00:00 |  0.388869    |  2.48413     |  0.250501   |\n",
      "| 2002-04-23 00:00:00 |  1.69199     | -0.796062    |  0.999699   |\n",
      "| 2002-04-24 00:00:00 |  1.33977     |  0.298368    | -0.724973   |\n",
      "| 2002-04-25 00:00:00 | -0.0239397   | -0.465456    | -0.324712   |\n",
      "| 2002-04-26 00:00:00 |  0.376476    |  0.944672    |  1.23352    |\n",
      "| 2002-04-27 00:00:00 | -1.27104     |  0.107259    | -1.51646    |\n",
      "| 2002-04-28 00:00:00 |  1.25792     | -0.386143    |  0.407535   |\n",
      "| 2002-04-29 00:00:00 | -0.968326    |  0.584375    | -1.5316     |\n",
      "| 2002-04-30 00:00:00 |  1.09272     | -1.90494     | -0.776644   |\n",
      "| 2002-05-01 00:00:00 | -1.06485     |  1.69973     | -0.304583   |\n",
      "| 2002-05-02 00:00:00 | -1.46714     |  1.18509     | -0.525432   |\n",
      "| 2002-05-03 00:00:00 | -1.78854     |  1.15864     |  0.222083   |\n",
      "| 2002-05-04 00:00:00 | -0.595494    | -1.28409     |  0.930083   |\n",
      "| 2002-05-05 00:00:00 |  1.87505     | -0.238819    | -0.0589769  |\n",
      "| 2002-05-06 00:00:00 |  0.978734    | -0.42663     | -0.184911   |\n",
      "| 2002-05-07 00:00:00 |  0.689706    | -0.206537    | -0.513135   |\n",
      "| 2002-05-08 00:00:00 |  0.721296    | -0.335553    |  1.21664    |\n",
      "| 2002-05-09 00:00:00 |  0.307975    | -1.1438      |  0.212722   |\n",
      "| 2002-05-10 00:00:00 | -0.440258    |  1.0433      | -0.388804   |\n",
      "| 2002-05-11 00:00:00 |  1.32877     |  0.734398    | -1.56404    |\n",
      "| 2002-05-12 00:00:00 | -0.821028    |  0.374575    | -0.527899   |\n",
      "| 2002-05-13 00:00:00 |  0.893196    | -0.737346    |  0.614881   |\n",
      "| 2002-05-14 00:00:00 | -1.74695     |  0.913246    |  0.395585   |\n",
      "| 2002-05-15 00:00:00 | -0.718483    | -0.722967    |  1.64688    |\n",
      "| 2002-05-16 00:00:00 |  2.24384     |  0.315712    |  0.763356   |\n",
      "| 2002-05-17 00:00:00 |  0.575329    | -1.82792     |  0.518984   |\n",
      "| 2002-05-18 00:00:00 | -1.34752     | -0.103586    | -0.571637   |\n",
      "| 2002-05-19 00:00:00 | -1.36266     | -1.10131     | -0.975142   |\n",
      "| 2002-05-20 00:00:00 | -0.194797    | -1.17621     |  0.0540822  |\n",
      "| 2002-05-21 00:00:00 |  1.05823     | -0.911039    |  1.17017    |\n",
      "| 2002-05-22 00:00:00 | -0.603668    | -2.32521     | -0.0442737  |\n",
      "| 2002-05-23 00:00:00 | -0.0706247   | -1.04746     | -0.188535   |\n",
      "| 2002-05-24 00:00:00 | -0.849577    |  0.292205    | -1.11595    |\n",
      "| 2002-05-25 00:00:00 |  0.00804345  |  0.837232    | -1.35245    |\n",
      "| 2002-05-26 00:00:00 |  1.70268     | -1.27018     |  1.12978    |\n",
      "| 2002-05-27 00:00:00 | -1.28351     | -0.538092    | -0.311777   |\n",
      "| 2002-05-28 00:00:00 | -0.752673    |  1.62935     | -0.976481   |\n",
      "| 2002-05-29 00:00:00 |  0.820529    |  1.48399     |  0.36782    |\n",
      "| 2002-05-30 00:00:00 | -1.62246     |  0.29224     |  0.294215   |\n",
      "| 2002-05-31 00:00:00 |  0.447202    |  0.41404     | -0.794017   |\n",
      "| 2002-06-01 00:00:00 |  0.0357837   |  0.874271    | -0.725681   |\n",
      "| 2002-06-02 00:00:00 |  0.377342    |  0.786213    | -1.85373    |\n",
      "| 2002-06-03 00:00:00 | -1.44584     | -0.0215494   |  0.0250489  |\n",
      "| 2002-06-04 00:00:00 |  0.884893    | -1.30965     |  0.0393014  |\n",
      "| 2002-06-05 00:00:00 |  0.527228    |  0.363274    |  0.114617   |\n",
      "| 2002-06-06 00:00:00 |  0.708728    | -0.163592    |  0.347799   |\n",
      "| 2002-06-07 00:00:00 | -0.678307    | -0.569536    | -1.20113    |\n",
      "| 2002-06-08 00:00:00 |  0.145783    | -0.970882    | -1.48969    |\n",
      "| 2002-06-09 00:00:00 |  0.997416    | -0.636071    |  0.470821   |\n",
      "| 2002-06-10 00:00:00 | -0.0816208   |  0.761209    | -1.08826    |\n",
      "| 2002-06-11 00:00:00 | -0.135899    | -1.71374     | -0.296375   |\n",
      "| 2002-06-12 00:00:00 |  0.47893     |  0.266466    | -0.601432   |\n",
      "| 2002-06-13 00:00:00 | -0.29341     | -0.119126    | -1.47626    |\n",
      "| 2002-06-14 00:00:00 |  2.54261     |  0.781957    | -0.408819   |\n",
      "| 2002-06-15 00:00:00 |  0.550387    | -0.655818    | -0.311558   |\n",
      "| 2002-06-16 00:00:00 |  0.998732    |  1.56542     |  0.437528   |\n",
      "| 2002-06-17 00:00:00 | -0.198348    | -0.0561654   | -0.00243423 |\n",
      "| 2002-06-18 00:00:00 |  0.167428    | -0.567416    | -1.64138    |\n",
      "| 2002-06-19 00:00:00 | -0.418192    | -1.40734     | -1.06165    |\n",
      "| 2002-06-20 00:00:00 |  1.68375     | -0.956829    | -0.61217    |\n",
      "| 2002-06-21 00:00:00 |  0.220164    | -0.0952788   | -0.910521   |\n",
      "| 2002-06-22 00:00:00 | -0.128223    |  0.297395    |  0.611833   |\n",
      "| 2002-06-23 00:00:00 |  0.521313    |  0.450261    | -2.25076    |\n",
      "| 2002-06-24 00:00:00 | -0.75235     |  0.832923    |  0.0129456  |\n",
      "| 2002-06-25 00:00:00 | -0.148875    | -0.459057    | -0.377523   |\n",
      "| 2002-06-26 00:00:00 | -0.180193    |  0.233238    |  0.892519   |\n",
      "| 2002-06-27 00:00:00 |  1.33265     |  0.470195    | -0.377911   |\n",
      "| 2002-06-28 00:00:00 | -0.724187    | -1.08376     |  1.10552    |\n",
      "| 2002-06-29 00:00:00 |  0.364943    |  0.66171     |  1.36164    |\n",
      "| 2002-06-30 00:00:00 | -2.15802     |  0.010848    | -1.37827    |\n",
      "| 2002-07-01 00:00:00 |  0.858101    | -0.515382    | -0.233605   |\n",
      "| 2002-07-02 00:00:00 | -1.54883     |  1.936       |  1.91826    |\n",
      "| 2002-07-03 00:00:00 |  0.100249    | -0.200164    |  0.244362   |\n",
      "| 2002-07-04 00:00:00 |  0.362168    | -1.35847     | -0.326526   |\n",
      "| 2002-07-05 00:00:00 |  1.3         |  0.339806    | -1.88182    |\n",
      "| 2002-07-06 00:00:00 | -2.06444     |  0.320933    |  0.957372   |\n",
      "| 2002-07-07 00:00:00 |  0.68429     |  1.78087     | -0.757808   |\n",
      "| 2002-07-08 00:00:00 |  0.219018    | -0.361425    |  0.0459257  |\n",
      "| 2002-07-09 00:00:00 |  1.02091     |  0.980229    |  1.4716     |\n",
      "| 2002-07-10 00:00:00 | -0.24172     | -0.548139    |  0.346693   |\n",
      "| 2002-07-11 00:00:00 | -0.341265    |  0.220627    | -0.0725945  |\n",
      "| 2002-07-12 00:00:00 | -0.298452    | -1.42349     |  0.490713   |\n",
      "| 2002-07-13 00:00:00 |  0.750487    | -0.198204    |  0.400307   |\n",
      "| 2002-07-14 00:00:00 |  1.33795     | -1.6113      | -1.57692    |\n",
      "| 2002-07-15 00:00:00 | -0.212549    | -0.958106    |  0.897208   |\n",
      "| 2002-07-16 00:00:00 |  1.16738     |  0.0378338   | -1.3933     |\n",
      "| 2002-07-17 00:00:00 | -0.849228    |  1.73518     | -0.26747    |\n",
      "| 2002-07-18 00:00:00 |  2.39193     |  0.988706    | -0.198498   |\n",
      "| 2002-07-19 00:00:00 |  0.0889168   |  0.0118904   |  0.0991477  |\n",
      "| 2002-07-20 00:00:00 | -0.68966     | -0.46007     |  1.44552    |\n",
      "| 2002-07-21 00:00:00 | -1.74596     |  0.261261    |  0.337404   |\n",
      "| 2002-07-22 00:00:00 | -0.0933496   |  0.473237    |  0.170352   |\n",
      "| 2002-07-23 00:00:00 |  0.483939    |  1.26708     | -0.0610107  |\n",
      "| 2002-07-24 00:00:00 |  1.28789     | -0.451198    |  0.205048   |\n",
      "| 2002-07-25 00:00:00 | -0.476416    | -0.596893    | -0.75072    |\n",
      "| 2002-07-26 00:00:00 |  0.130644    |  0.701408    | -0.733776   |\n",
      "| 2002-07-27 00:00:00 |  1.11015     |  0.806927    | -0.835774   |\n",
      "| 2002-07-28 00:00:00 |  0.280939    |  1.22823     |  1.41017    |\n",
      "| 2002-07-29 00:00:00 | -0.255647    |  1.90977     | -0.23816    |\n",
      "| 2002-07-30 00:00:00 |  1.54652     |  1.37232     | -0.119687   |\n",
      "| 2002-07-31 00:00:00 |  1.0096      | -0.850574    |  0.852641   |\n",
      "| 2002-08-01 00:00:00 |  0.145261    | -1.77529     |  1.00704    |\n",
      "| 2002-08-02 00:00:00 |  0.811564    | -1.71018     |  0.191285   |\n",
      "| 2002-08-03 00:00:00 |  0.755874    |  0.287682    | -0.550222   |\n",
      "| 2002-08-04 00:00:00 |  0.904627    |  0.432643    |  1.37988    |\n",
      "| 2002-08-05 00:00:00 |  0.398841    |  0.374187    | -1.00597    |\n",
      "| 2002-08-06 00:00:00 |  1.65582     | -1.75913     | -0.307154   |\n",
      "| 2002-08-07 00:00:00 |  2.02306     |  0.734051    | -1.18145    |\n",
      "| 2002-08-08 00:00:00 |  0.208803    |  0.16184     | -1.71241    |\n",
      "| 2002-08-09 00:00:00 | -0.782791    | -0.64651     | -0.617051   |\n",
      "| 2002-08-10 00:00:00 | -0.0406145   | -0.267384    | -1.52545    |\n",
      "| 2002-08-11 00:00:00 | -0.335644    |  1.16195     |  0.919601   |\n",
      "| 2002-08-12 00:00:00 | -2.2272      |  1.57894     | -0.384671   |\n",
      "| 2002-08-13 00:00:00 | -0.127615    |  0.119925    |  0.972939   |\n",
      "| 2002-08-14 00:00:00 | -1.22338     | -0.466625    | -0.250998   |\n",
      "| 2002-08-15 00:00:00 |  0.113747    |  2.72276     |  2.49435    |\n",
      "| 2002-08-16 00:00:00 |  0.501896    |  0.257146    |  0.30089    |\n",
      "| 2002-08-17 00:00:00 |  1.28464     |  0.846678    | -0.0325337  |\n",
      "| 2002-08-18 00:00:00 | -0.0921186   | -1.52122     | -0.484343   |\n",
      "| 2002-08-19 00:00:00 |  0.167841    | -0.903269    |  1.6962     |\n",
      "| 2002-08-20 00:00:00 | -1.61232     |  0.163917    | -0.0332301  |\n",
      "| 2002-08-21 00:00:00 |  1.89131     | -0.0661282   | -0.204097   |\n",
      "| 2002-08-22 00:00:00 |  0.668669    | -2.11294     | -0.578615   |\n",
      "| 2002-08-23 00:00:00 | -0.0115525   |  0.386956    | -0.779363   |\n",
      "| 2002-08-24 00:00:00 | -1.3114      |  0.488513    | -0.822801   |\n",
      "| 2002-08-25 00:00:00 |  0.35935     |  1.12865     |  0.151827   |\n",
      "| 2002-08-26 00:00:00 | -0.0895766   | -0.795585    |  0.704333   |\n",
      "| 2002-08-27 00:00:00 |  0.989206    |  0.105239    | -0.447683   |\n",
      "| 2002-08-28 00:00:00 |  0.896522    |  0.411902    | -0.267245   |\n",
      "| 2002-08-29 00:00:00 | -0.712587    | -1.97801     | -0.056534   |\n",
      "| 2002-08-30 00:00:00 |  1.05367     | -1.24143     |  0.425698   |\n",
      "| 2002-08-31 00:00:00 |  1.07364     |  1.206       | -0.899679   |\n",
      "| 2002-09-01 00:00:00 | -0.567566    |  0.666403    | -0.95455    |\n",
      "| 2002-09-02 00:00:00 | -0.911335    | -0.607899    | -0.980177   |\n",
      "| 2002-09-03 00:00:00 |  0.272338    | -2.2841      | -0.775552   |\n",
      "| 2002-09-04 00:00:00 |  0.0259789   | -0.0573675   | -0.854814   |\n",
      "| 2002-09-05 00:00:00 |  0.105173    |  0.604482    | -0.2339     |\n",
      "| 2002-09-06 00:00:00 |  0.3443      |  2.17931     | -1.42221    |\n",
      "| 2002-09-07 00:00:00 |  0.606059    | -0.545854    |  0.504955   |\n",
      "| 2002-09-08 00:00:00 |  1.21473     | -1.55024     |  1.85975    |\n",
      "| 2002-09-09 00:00:00 | -0.0469449   |  1.68861     | -0.776646   |\n",
      "| 2002-09-10 00:00:00 | -0.727325    |  0.0736806   | -0.382019   |\n",
      "| 2002-09-11 00:00:00 | -0.0167499   | -1.15242     |  0.767522   |\n",
      "| 2002-09-12 00:00:00 | -0.747547    |  0.827439    | -1.04586    |\n",
      "| 2002-09-13 00:00:00 | -0.560241    | -1.78369     |  0.613774   |\n",
      "| 2002-09-14 00:00:00 |  1.65373     |  0.753659    | -1.35926    |\n",
      "| 2002-09-15 00:00:00 |  0.839569    | -0.083995    |  1.16208    |\n",
      "| 2002-09-16 00:00:00 | -0.896208    |  1.09506     |  0.791631   |\n",
      "| 2002-09-17 00:00:00 | -0.155579    | -0.336069    |  0.176265   |\n",
      "| 2002-09-18 00:00:00 | -0.14314     |  0.478477    |  1.78425    |\n",
      "| 2002-09-19 00:00:00 |  2.78309     | -0.533831    |  0.610709   |\n",
      "| 2002-09-20 00:00:00 |  0.0518475   | -0.361267    | -0.425061   |\n",
      "| 2002-09-21 00:00:00 | -0.692027    |  0.71757     |  0.131319   |\n",
      "| 2002-09-22 00:00:00 | -0.0370284   | -0.781533    | -0.180779   |\n",
      "| 2002-09-23 00:00:00 | -0.557475    | -0.958619    | -1.34627    |\n",
      "| 2002-09-24 00:00:00 | -0.771713    |  0.321919    | -0.118543   |\n",
      "| 2002-09-25 00:00:00 |  0.442941    |  1.25091     | -0.732572   |\n",
      "| 2002-09-26 00:00:00 | -1.09279     |  0.9982      |  0.713432   |\n"
     ]
    }
   ],
   "source": [
    "print(tsdf.apply(pd.Series.interpolate).to_markdown())"
   ]
  },
  {
   "cell_type": "code",
   "execution_count": null,
   "metadata": {},
   "outputs": [],
   "source": []
  }
 ],
 "metadata": {
  "kernelspec": {
   "display_name": "Python 3",
   "language": "python",
   "name": "python3"
  },
  "language_info": {
   "codemirror_mode": {
    "name": "ipython",
    "version": 3
   },
   "file_extension": ".py",
   "mimetype": "text/x-python",
   "name": "python",
   "nbconvert_exporter": "python",
   "pygments_lexer": "ipython3",
   "version": "3.7.4"
  }
 },
 "nbformat": 4,
 "nbformat_minor": 2
}
