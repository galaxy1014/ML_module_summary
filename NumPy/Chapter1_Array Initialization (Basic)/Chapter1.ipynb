{
 "cells": [
  {
   "cell_type": "markdown",
   "metadata": {},
   "source": [
    "## 인공지능을 다루기 위한 NumPy 1장<br>\n",
    "\n",
    "- NumPy는 Numeriacal Python의 약자입니다.<br><br>\n",
    "\n",
    "- 대용량의 데이터를 처리하기 위해서 선형대수가 필수적이고, 선형대수를 간편하게 표현하기 위해서는 NumPy가 필수라고 할 수 있습니다.<br><br>\n",
    "\n",
    "- scikit-learn, TensorFlow 및 기타 다른 여러 모듈에서 Numpy 배열 형태의 데이터를 사용합니다.<br><br>\n",
    "\n",
    "- 기존 파이썬 list는 속도가 굉장히 느리고 메모리를 많이 차지하는 반면, array(배열)은 내부가 C언어의 형태로 구현되어 작동되기 때문에, 메모리 소모가 많은 반복문 없이 전체 데이터 배열에 빠른 연산을 처리 수 있습니다.<br><br>\n",
    "\n",
    "- Numpy는 특히 벡터 연산에 필요한 다양한 함수를 제공합니다.<br><br>\n",
    "\n",
    "- 파이썬 list 객체를 사용할 때 보다 Numpy의 배열을 사용하여 계산하면, 데이터를 빠른 연산 속도로 처리할 수 있습니다.<br><br>\n",
    "\n",
    "    기타 다른 세부 내용은 <u>*선형대수와 NumPy*</u> 챕터에서 다루도록 하겠습니다.\n",
    "\n",
    "> 배열과 리스트의 차이점 : \n",
    "- 1. 리스트는 내부 요소의 자료형이 서로 달라도 관계 없지만, 배열은 내부 요소 모두 같은 자료형이여야 합니다. <br><br>\n",
    "- 2. 리스트는 내부 요소의 개수를 바꿀 수 있는 반면, 배열은 한번 지정된 내부 요소의 개수를 바꿀 수 없습니다.\n",
    "\n"
   ]
  },
  {
   "cell_type": "markdown",
   "metadata": {},
   "source": [
    "### 목표<br>\n",
    "\n",
    "-  1장에서는 numpy의 가장 기본인 numpy 배열에 대한 기초 문법을 배워봅시다. <br><br>\n",
    "    - 1. 리스트와 배열의 차이점을 이해합니다.<br><br>\n",
    "    - 2. 배열을 생성하는 방법을 배웁니다.<br><br>\n",
    "    - 3. 배열 객체에서 필요한 속성 값을 조회하는 방법을 배웁니다.<br><br>\n",
    "    - 4. 배열 객체의 차원이나 요소를 원하는 형태로 변경하는 방법을 배웁니다.<br><br>\n",
    "    \n",
    "위의 네 가지를 익히는 것을 중점으로 설명하겠습니다."
   ]
  },
  {
   "cell_type": "code",
   "execution_count": 1,
   "metadata": {},
   "outputs": [],
   "source": [
    "# 라이브러리 임포트 : Numpy\n",
    "# 관례적으로 numpy는 np로 별칭을 정하여 사용합니다.\n",
    "\n",
    "import numpy # numpy.ndarray()와 같은 형식으로 명령을 내려야합니다.\n",
    "import numpy as np # np.ndarray()와 같은 형식으로 명령을 내려야합니다."
   ]
  },
  {
   "cell_type": "code",
   "execution_count": 2,
   "metadata": {},
   "outputs": [
    {
     "data": {
      "text/plain": [
       "'1.16.5'"
      ]
     },
     "execution_count": 2,
     "metadata": {},
     "output_type": "execute_result"
    }
   ],
   "source": [
    "# 라이브러리 버전 확인하기\n",
    "# numpy.__version__\n",
    "# 버전마다 여러 차이가 있으므로, 라이브러리를 사용할 때 버전을 확인하는 것은 필수입니다.\n",
    "np.__version__"
   ]
  },
  {
   "cell_type": "markdown",
   "metadata": {},
   "source": [
    "## Numpy 배열 : numpy.ndarray <br>\n",
    "\n",
    "- 다차원 배열(1차원, 2차원, 3차원, ...)으로 입체적인 데이터 구조를 구성하고 여러 개의 데이터 방향을 가집니다. 일반적으로는 1차원 혹은 2차원 형태의 배열을 주로 사용합니다.<br><br>\n",
    "*ex) [1, 2, 3] : 1차원, 1 x 3의 구조를 가진 배열 <br>\n",
    " ex) [ [1, 2, 3], [4, 5, 6] ] : 2차원, 2 x 2의 구조를 가진 배열*<br><br>\n",
    "\n",
    "- 배열 속성 : shape, ndim, dtype 등<br><br>\n",
    "\n",
    "> 데이터 축(방향) : \n",
    "- 1.   axis = 0 : 행(Row), x축 <br><br>\n",
    "- 2.   axis = 1 : 열(Column), y축<br><br>\n",
    "- 3.   axis = 2 : 깊이(Depth), z축 <br><br>\n",
    "- 후에 데이터의 축을 통하여 연산을 진행하는 과정을 다루게 될 것입니다.<br><br>\n",
    "\n",
    "이미지 출처: [taewan.kim](http://taewan.kim/post/numpy_sum_axis/)<br>\n",
    "<img src='img/1.jpg' width='600' height='400' align='left'>\n",
    "<img src='img/2.jpg' width='600' height='400' align='left'>\n",
    "<img src='img/3.jpg' width='600' height='400' align='left'>\n"
   ]
  },
  {
   "cell_type": "markdown",
   "metadata": {},
   "source": [
    "### 1) 배열 생성 및 속성 조회와 변환\n",
    "##### 배열을 생성하고 배열의 속성을 조회, 변환하는 방법에 대해서 알아봅시다.<br>\n",
    "\n",
    "- np.array(data) : 파이썬의 리스트를 전달받아 numpy의 배열로 교환해주는 명령어<br><br>\n",
    "   \n",
    "    - 배열 속성<br>\n",
    "        - <u>arr</u>.shape : arr의 형태 출력(행, 열, 깊이, ...)<br>\n",
    "        - <u>arr</u>.ndim : arr의 차원 출력<br>\n",
    "        - <u>arr</u>.dtype : arr의 데이터 타입 출력<br>\n",
    "        - <u>arr</u>.size : arr의 총 요소 개수 = 행 * 열 * 깊이 * ...<br><br>\n",
    "        \n",
    "    - 파이썬 내장함수를 사용하여 배열의 속성 값을 확인할 수 있습니다.<br>\n",
    "        - type(<u>arr</u>) : 배열인지 리스트인지 확인<br> *ex) numpy.ndarray : 배열*<br>\n",
    "          *list : 리스트*<br>\n",
    "        - len(<u>arr</u>) : 요소 내부의 자료 길이<br><br>\n",
    "    \n",
    "    - 배열 메서드<br>\n",
    "        - <u>arr</u>.astype(<u>arr</u>) : 배열의 데이터 타입 변환  *ex) int32 -> float64*<br><br>\n",
    "               \n",
    "    - Numpy 함수를 사용한 속성 (차원 변환)\n",
    "        - arr.reshape(<u>row</u>, <u>column</u>) : 배열의 차원 변환<br><br>\n",
    "        \n",
    "    - kind : 데이터 종류에 대한 구분 기호<br>\n",
    "        - b boolean<br>\n",
    "        - i 정수(int)<br>\n",
    "        - u 부호없는 정수(unsigned int, +- 개념 없이 절대값만 존재)<br>\n",
    "        - f 실수<br>\n",
    "        - c 복소 부동소수점<br>\n",
    "        - O 객체<br>\n",
    "        - S 바이트 문자열(ascii 코드, 영문자, 일부특문, 숫자)<br>\n",
    "        - U 유니코드 문자열(한글, 중국어, 태국어, 아랍어 등 영어와 다른 문자)<br>"
   ]
  },
  {
   "cell_type": "code",
   "execution_count": 3,
   "metadata": {},
   "outputs": [
    {
     "data": {
      "text/plain": [
       "array([1, 2, 3, 4, 5, 6])"
      ]
     },
     "execution_count": 3,
     "metadata": {},
     "output_type": "execute_result"
    }
   ],
   "source": [
    "# 파이썬 1차원 리스트를 Numpy 배열로 교환하기\n",
    "list1 = [1, 2, 3, 4, 5, 6] # 1차원 리스트 생성\n",
    "arr = np.array(list1) # 1차원 리스트를 넘파이 배열로 변환하여 arr에 삽입\n",
    "\n",
    "arr"
   ]
  },
  {
   "cell_type": "code",
   "execution_count": 4,
   "metadata": {},
   "outputs": [
    {
     "data": {
      "text/plain": [
       "array([[1, 2, 3, 4, 5, 6]])"
      ]
     },
     "execution_count": 4,
     "metadata": {},
     "output_type": "execute_result"
    }
   ],
   "source": [
    "# 리스트를 np.array()에 파라미터로 직접 삽입할수도 있다.\n",
    "arr2 = np.array([[1, 2, 3, 4, 5, 6]]) # 1 x 6형태의 리스트를 \n",
    "                                      # 넘파이 배열로 변환하여 arr에 삽입\n",
    "arr2"
   ]
  },
  {
   "cell_type": "code",
   "execution_count": 5,
   "metadata": {},
   "outputs": [
    {
     "data": {
      "text/plain": [
       "array([[[ 1,  2,  3],\n",
       "        [ 4,  5,  6]],\n",
       "\n",
       "       [[ 7,  8,  9],\n",
       "        [10, 11, 12]]])"
      ]
     },
     "execution_count": 5,
     "metadata": {},
     "output_type": "execute_result"
    }
   ],
   "source": [
    "# 1차원 리스트뿐만 아니라, 다차원의 리스트도 삽입 가능하다.\n",
    "list2 = [[[1,2,3], [4,5,6]],\n",
    "        [[7,8,9],[10,11,12]]] # 3차원 리스트 삽입\n",
    "\n",
    "arr3 = np.array(list2)\n",
    "\n",
    "arr3"
   ]
  },
  {
   "cell_type": "code",
   "execution_count": 6,
   "metadata": {
    "scrolled": false
   },
   "outputs": [
    {
     "name": "stdout",
     "output_type": "stream",
     "text": [
      "(6,)\n",
      "\n",
      "(1, 6)\n",
      "\n",
      "(2, 2, 3)\n"
     ]
    }
   ],
   "source": [
    "# 배열 객체의 속성 - 구조 확인하기 : arr.shape\n",
    "# (n, ) : n개의 아이템을 가진 리스트가 배열로 변환된 결과물\n",
    "\n",
    "# 차후에 정확히 다루겠지만,\n",
    "# numpy에서 shape는 1 x 6 형태와 6 형태가 다르다.\n",
    "\n",
    "print(arr.shape) # 6\n",
    "print()\n",
    "print(arr2.shape) # 1 x 6\n",
    "print()\n",
    "print(arr3.shape) # 2 x 2 x 3 "
   ]
  },
  {
   "cell_type": "code",
   "execution_count": 7,
   "metadata": {},
   "outputs": [
    {
     "name": "stdout",
     "output_type": "stream",
     "text": [
      "1\n",
      "\n",
      "2\n",
      "\n",
      "3\n"
     ]
    }
   ],
   "source": [
    "# 배열 객체의 속성 - 차원 확인하기 : arr.ndim\n",
    "\n",
    "print(arr.ndim) # 1차원\n",
    "print()\n",
    "print(arr2.ndim) # 2차원\n",
    "print()\n",
    "print(arr3.ndim) # 3차원"
   ]
  },
  {
   "cell_type": "code",
   "execution_count": 8,
   "metadata": {},
   "outputs": [
    {
     "data": {
      "text/plain": [
       "dtype('int32')"
      ]
     },
     "execution_count": 8,
     "metadata": {},
     "output_type": "execute_result"
    }
   ],
   "source": [
    "# 배열 요소의 속성 - 데이터 타입 : arr.dtype\n",
    "arr.dtype"
   ]
  },
  {
   "cell_type": "code",
   "execution_count": 9,
   "metadata": {},
   "outputs": [
    {
     "name": "stdout",
     "output_type": "stream",
     "text": [
      "6\n",
      "\n",
      "6\n",
      "\n",
      "12\n"
     ]
    }
   ],
   "source": [
    "# 배열 요소의 속성 - 요소의 총 갯수 : arr.size\n",
    "print(arr.size) # 1차원\n",
    "print()\n",
    "print(arr2.size) # 2차원\n",
    "print()\n",
    "print(arr3.size) # 3차원"
   ]
  },
  {
   "cell_type": "code",
   "execution_count": 10,
   "metadata": {},
   "outputs": [
    {
     "name": "stdout",
     "output_type": "stream",
     "text": [
      "<class 'numpy.ndarray'>\n",
      "<class 'list'>\n"
     ]
    }
   ],
   "source": [
    "# 배열 객체의 속성 - 타입(자료형) : type(arr)\n",
    "print(type(arr))  # Numpy 배열 객체의 자료형 확인\n",
    "print(type(list1)) # 파이썬 리스트의 자료형 확인\n",
    "\n",
    "# 두 객체의 자료형이 다름을 알 수 있다."
   ]
  },
  {
   "cell_type": "code",
   "execution_count": 11,
   "metadata": {},
   "outputs": [
    {
     "name": "stdout",
     "output_type": "stream",
     "text": [
      "arr = [1 2 3 4 5 6]\n",
      "\n",
      "arr2 = [[1 2 3 4 5 6]]\n",
      "\n",
      "arr3 = [[[ 1  2  3]\n",
      "  [ 4  5  6]]\n",
      "\n",
      " [[ 7  8  9]\n",
      "  [10 11 12]]]\n"
     ]
    }
   ],
   "source": [
    "# 배열 데이터 다시 확인\n",
    "print('arr =',arr)\n",
    "print()\n",
    "print('arr2 =',arr2)\n",
    "print()\n",
    "print('arr3 =', arr3)"
   ]
  },
  {
   "cell_type": "code",
   "execution_count": 12,
   "metadata": {},
   "outputs": [
    {
     "name": "stdout",
     "output_type": "stream",
     "text": [
      "6\n",
      "\n",
      "1\n",
      "\n",
      "2\n"
     ]
    }
   ],
   "source": [
    "# 배열 객체의 속성 - 길이 : len(arr)\n",
    "# (n,) 형태의 shape를 가진 1차원 배열은 배열의 길이와 요소의 총 개수가 같다.\n",
    "print(len(arr)) # 1차원 배열의 길이 출력 : (요소의 총 개수가 여섯 개 있으므로 6)\n",
    "print()\n",
    "print(len(arr2)) # 2차원 배열의 길이 출력 : (1차원 배열이 한 개 있으므로 1 )\n",
    "print()\n",
    "print(len(arr3)) # 3차원 배열의 길이 출력 : (2차원 배열이 두 개 있으므로 2)"
   ]
  },
  {
   "cell_type": "code",
   "execution_count": 13,
   "metadata": {},
   "outputs": [
    {
     "name": "stdout",
     "output_type": "stream",
     "text": [
      "원본 데이터의 자료형 : int32 \n",
      "dtype이 변환된 데이터 : float64\n"
     ]
    }
   ],
   "source": [
    "# 배열 객체의 속성 - 데이터 타입의 변환 : arr.astype(dtype) \n",
    "# 원본 데이터는 유지되고, 변환된 배열을 리턴한다.\n",
    "arr2 = arr.astype(float)\n",
    "print('원본 데이터의 자료형 :', arr.dtype,'\\ndtype이 변환된 데이터 :', arr2.dtype)"
   ]
  },
  {
   "cell_type": "code",
   "execution_count": 14,
   "metadata": {},
   "outputs": [
    {
     "data": {
      "text/plain": [
       "array([[1, 2, 3],\n",
       "       [4, 5, 6]])"
      ]
     },
     "execution_count": 14,
     "metadata": {},
     "output_type": "execute_result"
    }
   ],
   "source": [
    "# 배열 구조 변환\n",
    "# 기본 배열의 요소 총 개수와 변환하려는 배열의 요소 총 개수는 일치해야 한다.\n",
    "# 원본은 그대로 유지되고, 변환된 배열을 리턴한다.\n",
    "arr.reshape(2, 3) \n",
    "# (요소의 총 개수가 6이고 변환하려는 구조의 요소의 총 개수 2*3 = 6이므로) 변환 가능, \n",
    "# reshape(세로길이, 가로길이)"
   ]
  },
  {
   "cell_type": "code",
   "execution_count": 15,
   "metadata": {},
   "outputs": [
    {
     "name": "stdout",
     "output_type": "stream",
     "text": [
      "\n",
      "    type : <class 'numpy.ndarray'>\n",
      "    shape : (6,)\n",
      "    ndim : 1\n",
      "    dtype : float64\n",
      "    array data : \n",
      " [1. 2. 3. 4. 5. 6.]\n"
     ]
    }
   ],
   "source": [
    "# NumPy에서 사용하는 배열의 정보를 편하게 확인하기 위한 사용자 함수 정의\n",
    "# type, 구조(shape), 차원(ndim), 데이터타입(dtype), 내부자료를 보기쉽게 하기 위해 정의\n",
    "def np_print(arr):\n",
    "    text = '''\n",
    "    type : {}\n",
    "    shape : {}\n",
    "    ndim : {}\n",
    "    dtype : {}\n",
    "    array data : \\n {}'''.format(type(arr), arr.shape, arr.ndim, arr.dtype, arr)\n",
    "    print(text)\n",
    "    \n",
    "# 사용 예시\n",
    "np_print(arr2)"
   ]
  },
  {
   "cell_type": "markdown",
   "metadata": {},
   "source": [
    "### 2) 넘파이 배열에서 데이터 타입 우선순위\n",
    "##### 배열로  변환하려는 리스트의 데이터 타입이 동일하지 않으면 어떻게 되는지 알아봅니다.<br>\n",
    "    - 1) 절에서 배열의 모든 요소는 데이터 타입(자료형)이 동일해야 한다고 배웠습니다.\n",
    "    - 배열로 변환하려는 리스트가 [1, 2, 3, 4.4]와 같이 int형과 float형이 섞여있으면, 이 리스트는 어떠한 데이터 타입을 가지는 배열로 변환될까요?\n",
    "\n",
    "정답은, __'<u>공간이 더 큰 자료형 데이터 타입으로 변환된다.</u>'__ 입니다.<br><br>\n",
    "\n",
    "위의 말이 정확히 와닿지 않는 분들도 계실겁니다.<br>\n",
    "쉽게 설명드리자면,<br>\n",
    "__공간이 더 큰 자료형이 우선순위가 높다고 생각하시면 됩니다.__<br>\n",
    "우선순위 : __str > float > int__ <br>  \n",
    "- str 자료형이 가장 공간이 큽니다.(우선순위가 높습니다.)<br>\n",
    "- int 자료형이 가장 공간이 작습니다.(우선순위가 낮습니다.)<br>\n",
    "\n",
    "int형 데이터 3을 float형으로 변환하면 어떻게 될까요? => 3. (float)이 됩니다. <br>-> 왜곡이 없습니다. 즉, float 자료형이 int 자료형보다 공간이 큽니다.(우선순위가 높습니다.)<br>\n",
    "\n",
    "int형 데이터 3을 str형으로 변환하면 어떻게 될까요? => '3' (str)이 됩니다. <br>-> 왜곡이 없습니다. 즉, str 자료형이 int 자료형보다 공간이 큽니다.(우선순위가 높습니다.)<br>\n",
    "\n",
    "float형 데이터 2.3을 int형으로 변환하면 어떻게 될까요? => 2 (int)이 됩니다. <br>-> 0.3만큼의 왜곡이 발생합니다. 즉, int 자료형이 float 자료형보다 공간이 작습니다.(우선순위가 낮습니다.)<br>\n",
    "\n",
    "1. 서로 다른 자료형 혼합 : int + str = str<br>\n",
    "2. 서로 다른 자료형 혼합 : int + float = float<br>\n",
    "3. 서로 다른 자료형 혼합 : float + str = str<br>\n",
    "\n",
    "위와 같이, 변환을 기준으로해서 값의 왜곡이 적게 발생하는 자료형일수록 __공간이 큰 자료형__ 이라고 말합니다.<br><br>\n",
    "\n",
    "__단, 데이터 타입(dtype)을 명시하여 리스트를 배열로 변환할시에, 명시된 데이터 타입으로 변환됩니다.__<br>\n",
    "- *ex) np.array(dtype=int32)* : 자료형의 공간과는 상관없이, int형의 데이터 타입으로 배열을 생성합니다.<br><br>\n",
    "\n",
    "아래는 배열의 데이터 타입을 출력했을 때, 참조하시기 바랍니다.\n",
    "<img src='img/4.jpg' width='600' height='400' align='left'>\n"
   ]
  },
  {
   "cell_type": "code",
   "execution_count": 16,
   "metadata": {},
   "outputs": [
    {
     "name": "stdout",
     "output_type": "stream",
     "text": [
      "\n",
      "    type : <class 'numpy.ndarray'>\n",
      "    shape : (4,)\n",
      "    ndim : 1\n",
      "    dtype : <U11\n",
      "    array data : \n",
      " ['1' '2' '3' '4']\n"
     ]
    }
   ],
   "source": [
    "# 리스트 요소 타입이 일관되지 않으면 우선순위에 따라 dtype이 통일된다\n",
    "# 우선순위 : str(가장높음) > float > int(가장낮음)\n",
    "# 서로 다른 자료형의 혼합 처리 1 : int + str = str\n",
    "tmp = [1, 2, 3, \"4\"] # int형 데이터와 str 데이터가 혼합된 리스트\n",
    "arr1 = np.array(tmp) # 를 배열로 변환하여 해당 배열의 데이터 타입(dtype)을 봅시다.\n",
    "np_print(arr1) \n",
    "# '<U_'는 유니코드 문자열을 뜻합니다.\n",
    "# int형과 str형이 혼합된 리스트는 str형의 배열로 변환됩니다."
   ]
  },
  {
   "cell_type": "code",
   "execution_count": 17,
   "metadata": {},
   "outputs": [
    {
     "name": "stdout",
     "output_type": "stream",
     "text": [
      "\n",
      "    type : <class 'numpy.ndarray'>\n",
      "    shape : (4,)\n",
      "    ndim : 1\n",
      "    dtype : float64\n",
      "    array data : \n",
      " [1.  2.  3.3 4. ]\n"
     ]
    }
   ],
   "source": [
    "# 서로 다른 자료형의 혼합 처리 2 : int + float = float\n",
    "tmp = [1, 2, 3.3, 4] # int형 데이터와 float형 데이터가 혼합된 리스트\n",
    "arr = np.array(tmp) # 를 배열로 변환하여 해당 배열의 데이터 타입을 봅시다.\n",
    "np_print(arr) \n",
    "# int형과 float형이 혼합된 리스트는 float형의 배열로 변환됩니다."
   ]
  },
  {
   "cell_type": "code",
   "execution_count": 18,
   "metadata": {},
   "outputs": [
    {
     "name": "stdout",
     "output_type": "stream",
     "text": [
      "\n",
      "    type : <class 'numpy.ndarray'>\n",
      "    shape : (3,)\n",
      "    ndim : 1\n",
      "    dtype : <U3\n",
      "    array data : \n",
      " ['1' '1.2' '0.3']\n"
     ]
    }
   ],
   "source": [
    "# 서로 다른 자료형의 혼합 처리 3 : float + str = str\n",
    "tmp = ['1', 1.2, 0.3] # float형 데이터와 str형 데이터가 혼합된 리스트\n",
    "arr = np.array(tmp) # 를 배열로 변환하여 해당 배열의 데이터 타입을 봅시다.\n",
    "np_print(arr)  \n",
    "# float형과 str형이 혼합된 리스트는 str형의 배열로 변환됩니다."
   ]
  },
  {
   "cell_type": "code",
   "execution_count": 19,
   "metadata": {},
   "outputs": [
    {
     "name": "stdout",
     "output_type": "stream",
     "text": [
      "\n",
      "    type : <class 'numpy.ndarray'>\n",
      "    shape : (2, 4)\n",
      "    ndim : 2\n",
      "    dtype : int32\n",
      "    array data : \n",
      " [[1 2 3 4]\n",
      " [5 6 7 8]]\n"
     ]
    }
   ],
   "source": [
    "# 파이썬 2차원 리스트로 Numpy 배열 생성\n",
    "# 2차원 배열의 shape 속성은(행(row/세로길이), 열(column,가로길이)만 반환)\n",
    "tmp = [[1,2,3,4],[5,6,7,8]]\n",
    "arr = np.array(tmp)\n",
    "np_print(arr)"
   ]
  },
  {
   "cell_type": "code",
   "execution_count": 20,
   "metadata": {},
   "outputs": [
    {
     "name": "stdout",
     "output_type": "stream",
     "text": [
      "\n",
      "    type : <class 'numpy.ndarray'>\n",
      "    shape : (2, 2, 3)\n",
      "    ndim : 3\n",
      "    dtype : int32\n",
      "    array data : \n",
      " [[[ 1  2  3]\n",
      "  [ 4  5  6]]\n",
      "\n",
      " [[ 7  8  9]\n",
      "  [10 11 12]]]\n"
     ]
    }
   ],
   "source": [
    "# 파이썬 3차원 리스트로 numpy 배열 생성\n",
    "tmp = [ [ [1,2,3], [4,5,6] ],\n",
    "       [ [7,8,9], [10,11,12] ] ]\n",
    "arr = np.array(tmp)\n",
    "np_print(arr)"
   ]
  },
  {
   "cell_type": "code",
   "execution_count": 21,
   "metadata": {},
   "outputs": [
    {
     "name": "stdout",
     "output_type": "stream",
     "text": [
      "\n",
      "    type : <class 'numpy.ndarray'>\n",
      "    shape : (2, 2, 3)\n",
      "    ndim : 3\n",
      "    dtype : float64\n",
      "    array data : \n",
      " [[[ 1.  2.  3.]\n",
      "  [ 4.  5.  6.]]\n",
      "\n",
      " [[ 7.  8.  9.]\n",
      "  [10. 11. 12.]]]\n"
     ]
    }
   ],
   "source": [
    "# 데이터 타입을 파라미터로 지정해서 Numpy 배열 타입 속성을 바꿔줄 수 있습니다.\n",
    "# np.array(리스트, dtype=\"자료형\")\n",
    "tmp = [[[1,2,3], [4,5,6]],\n",
    "      [[7,8,9],[10,11,12]]]\n",
    "arr = np.array(tmp, dtype=float)\n",
    "np_print(arr)"
   ]
  }
 ],
 "metadata": {
  "kernelspec": {
   "display_name": "Python 3",
   "language": "python",
   "name": "python3"
  },
  "language_info": {
   "codemirror_mode": {
    "name": "ipython",
    "version": 3
   },
   "file_extension": ".py",
   "mimetype": "text/x-python",
   "name": "python",
   "nbconvert_exporter": "python",
   "pygments_lexer": "ipython3",
   "version": "3.7.4"
  }
 },
 "nbformat": 4,
 "nbformat_minor": 2
}
