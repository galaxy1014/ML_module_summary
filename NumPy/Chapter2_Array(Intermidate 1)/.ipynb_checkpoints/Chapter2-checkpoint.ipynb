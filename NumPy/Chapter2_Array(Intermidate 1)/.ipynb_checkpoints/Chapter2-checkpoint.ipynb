{
 "cells": [
  {
   "cell_type": "markdown",
   "metadata": {},
   "source": [
    "## 인공지능을 다루기 위한 NumPy 2장<br>\n",
    "\n",
    "\n",
    "### 목표<br>\n",
    "\n",
    "-  2장에서는 numpy의 가장 기본인 numpy 배열에 대한 기초 문법을 배워봅시다. <br><br>\n",
    "    - 1. 배열을 효율적으로 초기화하는 여러가지 방법을 배웁니다. <br><br>\n",
    "    - 2. 범위나 조건을 바탕으로 배열 내부 요소를 초기화하는 방법을 배웁니다. <br><br>\n",
    "    - 3. 정규분포와 표준편차의 개념에 대해 간단하게 알아봅니다. <br><br>\n",
    "    - 4. 배열 내부 요소를 난수로 초기화하는 numpy 함수에 대해 알아봅니다.<br><br>\n",
    "    \n",
    "위의 네 가지를 익히는 것을 중점으로 설명하겠습니다."
   ]
  },
  {
   "cell_type": "code",
   "execution_count": 3,
   "metadata": {},
   "outputs": [],
   "source": [
    "# 라이브러리 임포트 : Numpy\n",
    "# 관례적으로 numpy는 np로 별칭을 정하여 사용합니다.\n",
    "\n",
    "import numpy # numpy.ndarray()와 같은 형식으로 명령을 내려야합니다.\n",
    "import numpy as np # np.ndarray()와 같은 형식으로 명령을 내려야합니다."
   ]
  },
  {
   "cell_type": "code",
   "execution_count": 4,
   "metadata": {},
   "outputs": [
    {
     "data": {
      "text/plain": [
       "'1.16.5'"
      ]
     },
     "execution_count": 4,
     "metadata": {},
     "output_type": "execute_result"
    }
   ],
   "source": [
    "# 라이브러리 버전 확인하기\n",
    "# numpy.__version__\n",
    "# 버전마다 여러 차이가 있으므로, 라이브러리를 사용할 때 버전을 확인하는 것은 필수입니다.\n",
    "np.__version__"
   ]
  },
  {
   "cell_type": "code",
   "execution_count": 5,
   "metadata": {},
   "outputs": [],
   "source": [
    "# 배열의 데이터를 알아보기 쉽게 출력하기 위한 함수 정의 (Chapter 1에서 다뤘음)\n",
    "def np_print(arr):\n",
    "    text = '''\n",
    "    type : {}\n",
    "    shape : {}\n",
    "    ndim : {}\n",
    "    dtype : {}\n",
    "    array data : \\n {}'''.format(type(arr), arr.shape, arr.ndim, arr.dtype, arr)\n",
    "    print(text)"
   ]
  },
  {
   "cell_type": "markdown",
   "metadata": {},
   "source": [
    "### 1. 배열의 생성 및 초기화(Array initialization)\n",
    "#####  배열을 효율적으로 생성하고, 초기화하는 Numpy 함수 사용법에 대해 배워봅시다.<br>\n",
    "    - 1 절에서 np.array()함수에 리스트를 인자로 넣어 변환하는 방법에 대해 배웠습니다. 하지만, 이러한 방법은 특정 상황에서 굉장히 비효율적일 수 있습니다.\n",
    "    - Numpy에서는 배열을 효율적으로 생성하고 초기화하는 함수를 제공합니다.\n",
    "\n",
    "\n",
    "1. 초기 값을 지정하거나 지정된 초기 값으로 배열 내부 요소를 자동으로 초기화하는 numpy 함수에 대해 알아봅니다. \n",
    "\n",
    "   - np.zeros()\n",
    "    \n",
    "   - np.ones()\n",
    "    \n",
    "   - np.full()\n",
    "    \n",
    "   - np.eye()\n",
    "    \n",
    "   - np.empty()\n",
    "   \n",
    "   - np.zeros_like()\n",
    "    \n",
    "   - np.ones_like()\n",
    "    \n",
    "   - np.full_like()\n",
    "<br><br>\n",
    "\n",
    "2. 범위나 조건을 바탕으로 배열 내부 요소를 자동으로 초기화하는 numpy 함수에 대해 알아봅니다. \n",
    "   - np.linspace()\n",
    "    \n",
    "   - np.arange()\n",
    "    \n",
    "   - np.logspace()\n",
    "<br><br>\n",
    "\n",
    "3. 배열 내부 요소를 난수로 초기화하는 numpy 함수에 대해 알아봅니다. \n",
    "\n",
    "   - np.random.normal()\n",
    "    \n",
    "   - np.random.rand()\n",
    "    \n",
    "   - np.random.randn()\n",
    "    \n",
    "   - np.random.randint()\n",
    "    \n",
    "   - np.random.random()"
   ]
  },
  {
   "cell_type": "markdown",
   "metadata": {},
   "source": [
    "#### 1-1. np.zeros(shape(행, 열), dtype=float)\n",
    "\n",
    "- 지정된 구조의 배열을 생성하고 모든 요소를 0으로 초기화(zeros)합니다.\n",
    "- *shape* : tuple형태로 행, 열을 지정하여 넣어줍니다.\n",
    "- *dtype* : 배열에서 사용하는 데이터 타입을 지정합니다. 기본 값 = numpy.float64"
   ]
  },
  {
   "cell_type": "code",
   "execution_count": 6,
   "metadata": {},
   "outputs": [
    {
     "name": "stdout",
     "output_type": "stream",
     "text": [
      "\n",
      "    type : <class 'numpy.ndarray'>\n",
      "    shape : (3, 4)\n",
      "    ndim : 2\n",
      "    dtype : float64\n",
      "    array data : \n",
      " [[0. 0. 0. 0.]\n",
      " [0. 0. 0. 0.]\n",
      " [0. 0. 0. 0.]]\n"
     ]
    }
   ],
   "source": [
    "# dtype을 지정하지 않으면 기본 값인 float형으로 배열 생성\n",
    "# 3행 4열 구조 안에 모든 값이 0으로 채워짐\n",
    "# 구조는 튜플로 넘겨야함, 튜플로 주지 않으면 에러 발생\n",
    "arr = np.zeros((3,4))\n",
    "np_print(arr)"
   ]
  },
  {
   "cell_type": "code",
   "execution_count": 7,
   "metadata": {},
   "outputs": [
    {
     "name": "stdout",
     "output_type": "stream",
     "text": [
      "\n",
      "    type : <class 'numpy.ndarray'>\n",
      "    shape : (3, 4)\n",
      "    ndim : 2\n",
      "    dtype : int32\n",
      "    array data : \n",
      " [[0 0 0 0]\n",
      " [0 0 0 0]\n",
      " [0 0 0 0]]\n"
     ]
    }
   ],
   "source": [
    "# 데이터 타입(dtype)을 int로 바꿔서 생성\n",
    "arr = np.zeros((3,4), dtype=int)\n",
    "np_print(arr)"
   ]
  },
  {
   "cell_type": "markdown",
   "metadata": {},
   "source": [
    "#### 1-2. np.ones(shape(행, 열), dtype=float)\n",
    "- *shape* 구조의 배열을 생성하고 모든 요소를 1로(ones) 초기화합니다.\n",
    "- *shape* : tuple 자료로 행, 열 구조를 지정합니다.\n",
    "- *dtype* : 배열의 데이터 타입을 지정합니다. 기본 값 = numpy.float64"
   ]
  },
  {
   "cell_type": "code",
   "execution_count": 8,
   "metadata": {},
   "outputs": [
    {
     "name": "stdout",
     "output_type": "stream",
     "text": [
      "\n",
      "    type : <class 'numpy.ndarray'>\n",
      "    shape : (3, 4)\n",
      "    ndim : 2\n",
      "    dtype : float64\n",
      "    array data : \n",
      " [[1. 1. 1. 1.]\n",
      " [1. 1. 1. 1.]\n",
      " [1. 1. 1. 1.]]\n"
     ]
    }
   ],
   "source": [
    "# 3행 4열 구조 안에서 초기값을 모두 1로 가지는 배열\n",
    "arr = np.ones((3,4)) # (3,4)라는 튜플을 인자로 전달\n",
    "np_print(arr)"
   ]
  },
  {
   "cell_type": "markdown",
   "metadata": {},
   "source": [
    "#### 1-3. np.full(shape(행, 열), fill_value, dtype)<br>\n",
    "- *shape* 구조의 배열을 생성하고 모든 요소를 *fill_value* 값으로 초기화합니다.\n",
    "- *shape* : tuple 자료형으로 행, 열 구조를 지정합니다.\n",
    "- *fill_value* : 배열의 초기화할 내부 요소 값을 지정합니다. \n",
    "- *dtype* = 배열의 데이터 타입을 지정합니다. 기본 값 = 들어오는(*fiil_value*)데이터의 자료형"
   ]
  },
  {
   "cell_type": "code",
   "execution_count": 9,
   "metadata": {},
   "outputs": [
    {
     "name": "stdout",
     "output_type": "stream",
     "text": [
      "\n",
      "    type : <class 'numpy.ndarray'>\n",
      "    shape : (3, 4)\n",
      "    ndim : 2\n",
      "    dtype : float64\n",
      "    array data : \n",
      " [[5. 5. 5. 5.]\n",
      " [5. 5. 5. 5.]\n",
      " [5. 5. 5. 5.]]\n"
     ]
    }
   ],
   "source": [
    "# 3행 4열 구조 안에서 초기값을 모두 5로 가지는 배열 생성\n",
    "arr = np.full((3,4), 5, dtype=float)\n",
    "np_print(arr)"
   ]
  },
  {
   "cell_type": "markdown",
   "metadata": {},
   "source": [
    "#### 1-4. np.eye(N, M=None, dtype=float)<br>\n",
    "- (N,M) 구조의 단위행렬을 생성합니다.<br>\n",
    "- 배열의 구조를 하나만 지정한 경우, N x N 형태로 단위 행렬을 생성합니다.<br> \n",
    "- M : 열 개수를 지정, 기본값 = N<br>\n",
    "- dtype : 배열의 데이터 타입을 지정, 기본값 = numpy.float64<br>\n",
    "\n",
    "    - 단위행렬: 구조가 같은 임의의 행렬 A와 행렬곱(도트곱)을 진행했을 때, 결과 값이 A행렬이 나오는 형태의 행렬을 말합니다.<br>\n",
    "    - 기호로는 I 혹은 E라고 표시합니다.<br>\n",
    "    - 자세한 내용은 <u>*선형대수와 NumPy*</u> 챕터에서 다루도록 하겠습니다.<br><br>\n",
    "\n",
    "아래의 그림은 2 x 2 형태의 단위행렬입니다.<br>\n",
    "이미지 출처: [알고리즘 개발자](https://m.blog.naver.com/PostView.nhn?blogId=edunboy&logNo=150111862739&proxyReferer=https%3A%2F%2Fwww.google.com%2F)\n",
    "<br><img src='img/5.jpg' width='200' height='250' align='left'>\n"
   ]
  },
  {
   "cell_type": "code",
   "execution_count": 10,
   "metadata": {},
   "outputs": [
    {
     "name": "stdout",
     "output_type": "stream",
     "text": [
      "\n",
      "    type : <class 'numpy.ndarray'>\n",
      "    shape : (3, 3)\n",
      "    ndim : 2\n",
      "    dtype : float64\n",
      "    array data : \n",
      " [[1. 0. 0.]\n",
      " [0. 1. 0.]\n",
      " [0. 0. 1.]]\n"
     ]
    }
   ],
   "source": [
    "# 3x3(3행 3열) 구조의 단위 행렬 생성\n",
    "arr = np.eye(3)\n",
    "np_print(arr)"
   ]
  },
  {
   "cell_type": "code",
   "execution_count": 11,
   "metadata": {},
   "outputs": [
    {
     "name": "stdout",
     "output_type": "stream",
     "text": [
      "\n",
      "    type : <class 'numpy.ndarray'>\n",
      "    shape : (5, 3)\n",
      "    ndim : 2\n",
      "    dtype : float64\n",
      "    array data : \n",
      " [[1. 0. 0.]\n",
      " [0. 1. 0.]\n",
      " [0. 0. 1.]\n",
      " [0. 0. 0.]\n",
      " [0. 0. 0.]]\n"
     ]
    }
   ],
   "source": [
    "# 세로 길이5(row 개수 5), 가로 길이 3(컬럼 개수 3)인 단위행렬 생성\n",
    "arr = np.eye(5, 3)\n",
    "np_print(arr)"
   ]
  },
  {
   "cell_type": "markdown",
   "metadata": {},
   "source": [
    "#### 1-5. np.empty(shape(행, 열), dtype=float)\n",
    "\n",
    "- 지정된 구조의 배열을 생성하고 모든 요소에 대한 초기화 과정 없이 배열을 생성합니다. 즉, 이전에 메모리에 저장된 값을 사용하여 배열을 생성합니다.\n",
    "\n",
    "- 배열을 생성하는 것에 있어서는 가장 빠르고 효율적인 방법입니다.\n",
    "\n",
    "- *shape* : tuple type으로 행,열 구조를 지정합니다.\n",
    "\n",
    "- *dtype* : 배열의 데이터 타입을 지정합니다. 기본 값 = numpy.float64"
   ]
  },
  {
   "cell_type": "code",
   "execution_count": 12,
   "metadata": {
    "scrolled": true
   },
   "outputs": [
    {
     "name": "stdout",
     "output_type": "stream",
     "text": [
      "\n",
      "    type : <class 'numpy.ndarray'>\n",
      "    shape : (3, 4)\n",
      "    ndim : 2\n",
      "    dtype : float64\n",
      "    array data : \n",
      " [[5. 5. 5. 5.]\n",
      " [5. 5. 5. 5.]\n",
      " [5. 5. 5. 5.]]\n"
     ]
    }
   ],
   "source": [
    "# 직전에 메모리에 저장된 값을 사용하기 위해서는 이전에 만들었던 것과 동일한 shape의\n",
    "# 배열을 생성해야 합니다.\n",
    "# 직전에는 5x3 구조의 배열을 만들었지만, \n",
    "# 3x4 구조로 초기화 되지 않은 배열을 생성하겠습니다.\n",
    "arr = np.empty((3, 4))\n",
    "np_print(arr)\n",
    "\n",
    "# 직전에 메모리에 있던 값. 초기화하지 않은 배열 생성\n",
    "# 직전에 메모리에 저장된 값은 3x4 구조의 배열이 아닌, 5x3 구조의 배열이므로\n",
    "# 배열에 쓰레기 값이 들어갑니다."
   ]
  },
  {
   "cell_type": "code",
   "execution_count": 13,
   "metadata": {},
   "outputs": [
    {
     "name": "stdout",
     "output_type": "stream",
     "text": [
      "\n",
      "    type : <class 'numpy.ndarray'>\n",
      "    shape : (3, 3)\n",
      "    ndim : 2\n",
      "    dtype : float64\n",
      "    array data : \n",
      " [[1. 0. 0.]\n",
      " [0. 1. 0.]\n",
      " [0. 0. 1.]]\n",
      "\n",
      "    type : <class 'numpy.ndarray'>\n",
      "    shape : (3, 3)\n",
      "    ndim : 2\n",
      "    dtype : float64\n",
      "    array data : \n",
      " [[1. 0. 0.]\n",
      " [0. 1. 0.]\n",
      " [0. 0. 1.]]\n"
     ]
    }
   ],
   "source": [
    "# 메모리에 3x3 구조의 단위 행렬을 미리 넣어보고, \n",
    "# np.empty()를 이용하여 배열을 생성해 봅시다.\n",
    "\n",
    "# 3x3(3행 3열) 구조의 단위 행렬 생성\n",
    "arr = np.eye(3)\n",
    "np_print(arr)\n",
    "\n",
    "# 직전에 메모리에 적재된 배열의 값은, 방금 전에 만든 3x3형태의 단위행렬이었습니다.\n",
    "# np.empty()를 이용하여 3x3 구조의 초기화 되지 않은 배열을 만들어 봅시다.\n",
    "arr2 = np.empty((3, 3))\n",
    "np_print(arr2)\n",
    "# 직전에 사용된 값을 그대로 사용함을 볼 수 있습니다. (이것이 초기화를 하지 않는 것입니다.)"
   ]
  },
  {
   "cell_type": "markdown",
   "metadata": {},
   "source": [
    "#### 1-6 np.zeros_like(*array*, dtype=int)\n",
    "- 전달받은 배열(*array*)과 동일한 구조(*shape*)로 내부 요소 값을 0으로 초기화하여 새로운 배열을 생성합니다.\n",
    "- *array* : 배열을 인자로 넣어줘야 합니다. 해당 배열과 동일한 구조의 배열을 생성합니다.\n",
    "- *dtype* : 배열의 데이터 타입을 지정합니다. 기본 값 = numpy.int32"
   ]
  },
  {
   "cell_type": "code",
   "execution_count": 14,
   "metadata": {
    "scrolled": true
   },
   "outputs": [
    {
     "name": "stdout",
     "output_type": "stream",
     "text": [
      "\n",
      "    type : <class 'numpy.ndarray'>\n",
      "    shape : (2, 3)\n",
      "    ndim : 2\n",
      "    dtype : int32\n",
      "    array data : \n",
      " [[1 2 3]\n",
      " [4 5 6]]\n",
      "\n",
      "    type : <class 'numpy.ndarray'>\n",
      "    shape : (2, 3)\n",
      "    ndim : 2\n",
      "    dtype : int32\n",
      "    array data : \n",
      " [[0 0 0]\n",
      " [0 0 0]]\n",
      "\n",
      "    type : <class 'numpy.ndarray'>\n",
      "    shape : (2, 3)\n",
      "    ndim : 2\n",
      "    dtype : float64\n",
      "    array data : \n",
      " [[0. 0. 0.]\n",
      " [0. 0. 0.]]\n"
     ]
    }
   ],
   "source": [
    "# np.zeros_like()\n",
    "\n",
    "arr1 = np.array([[1,2,3], [4,5,6]]) # 2x3 구조를 가지는 배열 arr1을 생성합니다.\n",
    "np_print(arr1)\n",
    "\n",
    "# arr1 배열과 동일한 구조(2x3)이면서, 내부 요소는 0으로 초기화된 배열을 생성합니다.\n",
    "arr2 = np.zeros_like(arr1) \n",
    "np_print(arr2)\n",
    "\n",
    "# arr1 배열과 동일한 구조(2x3)이면서, 내부 요소는 0으로 초기화된 배열을 생성하고,\n",
    "# 데이터 타입(자료형)은 float인 배열을 생성합니다.\n",
    "arr3 = np.zeros_like(arr1, dtype=float) \n",
    "np_print(arr3)"
   ]
  },
  {
   "cell_type": "markdown",
   "metadata": {},
   "source": [
    "#### 1-7 np.ones_like(*array*, dtype=int)\n",
    "- 전달받은 배열(*array*)과 동일한 구조(*shape*)로 내부 요소 값을 1로 초기화하여 새로운 배열을 생성합니다.\n",
    "- *array* : 배열을 인자로 넣어줘야 합니다. 해당 배열과 동일한 구조의 배열을 생성합니다.\n",
    "- *dtype* : 배열의 데이터 타입을 지정합니다. 기본 값 = numpy.int32"
   ]
  },
  {
   "cell_type": "code",
   "execution_count": 15,
   "metadata": {
    "scrolled": true
   },
   "outputs": [
    {
     "name": "stdout",
     "output_type": "stream",
     "text": [
      "\n",
      "    type : <class 'numpy.ndarray'>\n",
      "    shape : (2, 4)\n",
      "    ndim : 2\n",
      "    dtype : int32\n",
      "    array data : \n",
      " [[1 2 3 4]\n",
      " [5 6 7 8]]\n",
      "\n",
      "    type : <class 'numpy.ndarray'>\n",
      "    shape : (2, 4)\n",
      "    ndim : 2\n",
      "    dtype : int32\n",
      "    array data : \n",
      " [[1 1 1 1]\n",
      " [1 1 1 1]]\n",
      "\n",
      "    type : <class 'numpy.ndarray'>\n",
      "    shape : (2, 4)\n",
      "    ndim : 2\n",
      "    dtype : <U1\n",
      "    array data : \n",
      " [['1' '1' '1' '1']\n",
      " ['1' '1' '1' '1']]\n"
     ]
    }
   ],
   "source": [
    "# np.ones_like()\n",
    "\n",
    "arr1 = np.array([[1,2,3,4], [5,6,7,8]]) # 2x4 구조를 가지는 배열 arr1을 생성합니다.\n",
    "np_print(arr1)\n",
    "\n",
    "# arr1 배열과 동일한 구조(2x4)이면서, 내부 요소는 1로 초기화된 배열을 생성합니다.\n",
    "arr2 = np.ones_like(arr1) \n",
    "np_print(arr2)\n",
    "\n",
    "# arr1 배열과 동일한 구조(2x4)이면서, 내부 요소는 0으로 초기화된 배열을 생성하고,\n",
    "# 데이터 타입(자료형)은 str인 배열을 생성합니다.\n",
    "arr3 = np.ones_like(arr1, dtype=str) \n",
    "np_print(arr3)"
   ]
  },
  {
   "cell_type": "markdown",
   "metadata": {},
   "source": [
    "#### 1-8 np.full_like(*array*, *fill_value*, dtype=int)\n",
    "- 전달받은 배열(*array*)과 동일한 구조(*shape*)로 내부 요소 값을 *fill_value* 값으로 초기화하여 새로운 배열을 생성합니다.\n",
    "- *array* : 배열을 인자로 넣어줘야 합니다. 해당 배열과 동일한 구조의 배열을 생성합니다.\n",
    "- *fill_value* : 배열의 초기화할 내부 요소 값을 지정합니다. \n",
    "- *dtype* : 배열의 데이터 타입을 지정합니다. 기본 값 = numpy.int32\n",
    "\n",
    "<br>\n",
    "\n",
    "#### 주의 사항\n",
    "- 배열의 내부 요소 값을 float형으로 입력하고 싶으면 :<br>\n",
    "    - 반드시, __dtype=float__을 인자로 명시해야 합니다. 그렇지 않으면, 소수점이 누락된 int형으로 내부 요소가 초기화됩니다.\n",
    "    \n",
    "- 배열의 내부 요소 값을 str형으로 입력하고 싶으면 :<br>\n",
    "    - 반드시, __dtype=str__을 인자로 명시해야 합니다. 그렇지 않으면, 에러가 발생합니다.\n",
    "\n",
    "*※NumPy 버전마다 다를 수 있습니다.*"
   ]
  },
  {
   "cell_type": "code",
   "execution_count": 16,
   "metadata": {
    "scrolled": true
   },
   "outputs": [
    {
     "name": "stdout",
     "output_type": "stream",
     "text": [
      "\n",
      "    type : <class 'numpy.ndarray'>\n",
      "    shape : (2, 2)\n",
      "    ndim : 2\n",
      "    dtype : int32\n",
      "    array data : \n",
      " [[1 2]\n",
      " [3 4]]\n",
      "\n",
      "    type : <class 'numpy.ndarray'>\n",
      "    shape : (2, 2)\n",
      "    ndim : 2\n",
      "    dtype : int32\n",
      "    array data : \n",
      " [[3 3]\n",
      " [3 3]]\n",
      "\n",
      "    type : <class 'numpy.ndarray'>\n",
      "    shape : (2, 2)\n",
      "    ndim : 2\n",
      "    dtype : float64\n",
      "    array data : \n",
      " [[3. 3.]\n",
      " [3. 3.]]\n"
     ]
    }
   ],
   "source": [
    "# np.full_like()\n",
    "\n",
    "arr1 = np.array([[1,2], [3,4]]) # 2x2 구조를 가지는 배열 arr1을 생성합니다.\n",
    "np_print(arr1)\n",
    "\n",
    "# arr1 배열과 동일한 구조(2x2)이면서, 내부 요소는 3으로 초기화된 배열을 생성합니다.\n",
    "arr2 = np.full_like(arr1, 3) \n",
    "np_print(arr2) # 출력된 내부 요소 값과 dtype을 확인합니다.\n",
    "\n",
    "# arr1 배열과 동일한 구조(2x4)이면서, 내부 요소는 3으로 초기화된 배열을 생성하고,\n",
    "# 데이터 타입(자료형)은 float인 배열을 생성합니다.\n",
    "arr3 = np.full_like(arr1, 3, dtype=float) \n",
    "np_print(arr3) # 출력된 내부 요소 값과 dtype을 확인합니다."
   ]
  },
  {
   "cell_type": "code",
   "execution_count": 17,
   "metadata": {},
   "outputs": [
    {
     "name": "stdout",
     "output_type": "stream",
     "text": [
      "\n",
      "    type : <class 'numpy.ndarray'>\n",
      "    shape : (2, 2)\n",
      "    ndim : 2\n",
      "    dtype : float64\n",
      "    array data : \n",
      " [[2.3 2.3]\n",
      " [2.3 2.3]]\n",
      "\n",
      "    type : <class 'numpy.ndarray'>\n",
      "    shape : (2, 2)\n",
      "    ndim : 2\n",
      "    dtype : int32\n",
      "    array data : \n",
      " [[2 2]\n",
      " [2 2]]\n"
     ]
    }
   ],
   "source": [
    "# np.full_like()\n",
    "\n",
    "# arr1 배열과 동일한 구조(2x2)이면서, 내부 요소는 2.3으로 초기화된 배열을 생성합니다.\n",
    "# 2.3은 float형이기 때문에 반드시, dtype=float을 명시해야 합니다.\n",
    "arr4 = np.full_like(arr1, 2.3, dtype=float) \n",
    "np_print(arr4) # 출력된 내부 요소 값과 dtype을 확인합니다.\n",
    "# 내부 요소가 2.3으로 잘 초기화 됨을 볼 수 있습니다.\n",
    "\n",
    "# 위와 동일하지만, dtype=float을 명시하지 않고 생성된 배열의 결과를 확인합니다. \n",
    "arr5 = np.full_like(arr1, 2.3) \n",
    "np_print(arr5) # 출력된 내부 요소 값과 dtype을 확인합니다.\n",
    "# 내부 요소가 2로 소수점이 탈락되어 초기화 됨을 볼 수 있습니다."
   ]
  },
  {
   "cell_type": "code",
   "execution_count": 18,
   "metadata": {},
   "outputs": [
    {
     "name": "stdout",
     "output_type": "stream",
     "text": [
      "\n",
      "    type : <class 'numpy.ndarray'>\n",
      "    shape : (2, 2)\n",
      "    ndim : 2\n",
      "    dtype : <U1\n",
      "    array data : \n",
      " [['a' 'a']\n",
      " ['a' 'a']]\n"
     ]
    }
   ],
   "source": [
    "# np.full_like()\n",
    "\n",
    "# arr1 배열과 동일한 구조(2x2)이면서, 내부 요소는 'a'로 초기화된 배열을 생성합니다.\n",
    "# 'a'는 str형이기 때문에 반드시, dtype=str을 명시해야 합니다.\n",
    "arr6 = np.full_like(arr1, 'a', dtype=str) \n",
    "np_print(arr6) # 출력된 내부 요소 값과 dtype을 확인합니다.\n",
    "# 내부 요소가 'a'으로 잘 초기화 됨을 볼 수 있습니다."
   ]
  },
  {
   "cell_type": "code",
   "execution_count": 19,
   "metadata": {},
   "outputs": [
    {
     "ename": "ValueError",
     "evalue": "invalid literal for int() with base 10: 'a'",
     "output_type": "error",
     "traceback": [
      "\u001b[1;31m---------------------------------------------------------------------------\u001b[0m",
      "\u001b[1;31mValueError\u001b[0m                                Traceback (most recent call last)",
      "\u001b[1;32m<ipython-input-19-7d6ad7ddabe4>\u001b[0m in \u001b[0;36m<module>\u001b[1;34m\u001b[0m\n\u001b[0;32m      4\u001b[0m \u001b[1;31m# 'a'는 str형이기 때문에 반드시, dtype=str을 명시해야 합니다.\u001b[0m\u001b[1;33m\u001b[0m\u001b[1;33m\u001b[0m\u001b[1;33m\u001b[0m\u001b[0m\n\u001b[0;32m      5\u001b[0m \u001b[1;31m# 하지만, dtype=str을 명시하지 않고 결과를 확인해 보겠습니다.\u001b[0m\u001b[1;33m\u001b[0m\u001b[1;33m\u001b[0m\u001b[1;33m\u001b[0m\u001b[0m\n\u001b[1;32m----> 6\u001b[1;33m \u001b[0marr7\u001b[0m \u001b[1;33m=\u001b[0m \u001b[0mnp\u001b[0m\u001b[1;33m.\u001b[0m\u001b[0mfull_like\u001b[0m\u001b[1;33m(\u001b[0m\u001b[0marr1\u001b[0m\u001b[1;33m,\u001b[0m \u001b[1;34m'a'\u001b[0m\u001b[1;33m)\u001b[0m\u001b[1;33m\u001b[0m\u001b[1;33m\u001b[0m\u001b[0m\n\u001b[0m\u001b[0;32m      7\u001b[0m \u001b[0mnp_print\u001b[0m\u001b[1;33m(\u001b[0m\u001b[0marr7\u001b[0m\u001b[1;33m)\u001b[0m\u001b[1;33m\u001b[0m\u001b[1;33m\u001b[0m\u001b[0m\n\u001b[0;32m      8\u001b[0m \u001b[1;31m# 에러가 발생함을 볼 수 있습니다.\u001b[0m\u001b[1;33m\u001b[0m\u001b[1;33m\u001b[0m\u001b[1;33m\u001b[0m\u001b[0m\n",
      "\u001b[1;32mC:\\ProgramData\\Anaconda3\\lib\\site-packages\\numpy\\core\\numeric.py\u001b[0m in \u001b[0;36mfull_like\u001b[1;34m(a, fill_value, dtype, order, subok)\u001b[0m\n\u001b[0;32m    396\u001b[0m     \"\"\"\n\u001b[0;32m    397\u001b[0m     \u001b[0mres\u001b[0m \u001b[1;33m=\u001b[0m \u001b[0mempty_like\u001b[0m\u001b[1;33m(\u001b[0m\u001b[0ma\u001b[0m\u001b[1;33m,\u001b[0m \u001b[0mdtype\u001b[0m\u001b[1;33m=\u001b[0m\u001b[0mdtype\u001b[0m\u001b[1;33m,\u001b[0m \u001b[0morder\u001b[0m\u001b[1;33m=\u001b[0m\u001b[0morder\u001b[0m\u001b[1;33m,\u001b[0m \u001b[0msubok\u001b[0m\u001b[1;33m=\u001b[0m\u001b[0msubok\u001b[0m\u001b[1;33m)\u001b[0m\u001b[1;33m\u001b[0m\u001b[1;33m\u001b[0m\u001b[0m\n\u001b[1;32m--> 398\u001b[1;33m     \u001b[0mmultiarray\u001b[0m\u001b[1;33m.\u001b[0m\u001b[0mcopyto\u001b[0m\u001b[1;33m(\u001b[0m\u001b[0mres\u001b[0m\u001b[1;33m,\u001b[0m \u001b[0mfill_value\u001b[0m\u001b[1;33m,\u001b[0m \u001b[0mcasting\u001b[0m\u001b[1;33m=\u001b[0m\u001b[1;34m'unsafe'\u001b[0m\u001b[1;33m)\u001b[0m\u001b[1;33m\u001b[0m\u001b[1;33m\u001b[0m\u001b[0m\n\u001b[0m\u001b[0;32m    399\u001b[0m     \u001b[1;32mreturn\u001b[0m \u001b[0mres\u001b[0m\u001b[1;33m\u001b[0m\u001b[1;33m\u001b[0m\u001b[0m\n\u001b[0;32m    400\u001b[0m \u001b[1;33m\u001b[0m\u001b[0m\n",
      "\u001b[1;31mValueError\u001b[0m: invalid literal for int() with base 10: 'a'"
     ]
    }
   ],
   "source": [
    "# np.full_like()\n",
    "\n",
    "# arr1 배열과 동일한 구조(2x2)이면서, 내부 요소는 'a'로 초기화된 배열을 생성합니다.\n",
    "# 'a'는 str형이기 때문에 반드시, dtype=str을 명시해야 합니다.\n",
    "# 하지만, dtype=str을 명시하지 않고 결과를 확인해 보겠습니다.\n",
    "arr7 = np.full_like(arr1, 'a') \n",
    "np_print(arr7) \n",
    "# 에러가 발생함을 볼 수 있습니다.\n",
    "# 문자(열)을 내부 요소에 삽입할 때에는, 반드시 dtype=str을 명시해야 합니다."
   ]
  },
  {
   "cell_type": "markdown",
   "metadata": {},
   "source": [
    "#### 2-1. np.linspace(*start*, *stop*, *num*=50, *endpoint*=True, *retstep*=False, *dtype*=float)\n",
    "\n",
    "- 시작 값(*start*)부터 마지막 값(*stop*)의 범위에서 균등한 간격으로 일정 개수(*num*)개의 데이터를 가지는 배열을 생성합니다.<br>\n",
    "    - ex) np.linspace(0, 9, num=10) : <br>0부터 9까지(포함) 10개의 구간으로 동등하게 분할하여 각 간격을 내부 요소로 가지는 배열 생성 <br>-> [0, 1, 2, 3, 4, 5, 6, 7, 8, 9]\n",
    "    <br><img src='img/6.JPG' width='700' height='450' align='left'><br>\n",
    "    <br><br><br><br><br><br><br><br><br><br>\n",
    "    \n",
    "- 선형대수에서는 선형 간격을 가지는 벡터를 생성한다고 말합니다.<br>\n",
    "\n",
    "- *num* : 최종 데이터 개수(결과 값의 개수), 기본 값 = 50<br>\n",
    "\n",
    "- *endpoint* : 마지막 값에 stop을 포함/제외하는 조건을 지정하는 역할을 합니다. 기본 값 = True(포함)<br>\n",
    "\n",
    "- *retstep* (return step) : True로 인자를 전달하면 (생성된 배열, 간격)의 데이터를 담은 tuple을 반환합니다.<br>\n",
    "\n",
    "- *dtype* : 배열의 데이터 타입을 지정, 기본값 = float"
   ]
  },
  {
   "cell_type": "code",
   "execution_count": 20,
   "metadata": {
    "scrolled": true
   },
   "outputs": [
    {
     "name": "stdout",
     "output_type": "stream",
     "text": [
      "\n",
      "    type : <class 'numpy.ndarray'>\n",
      "    shape : (10,)\n",
      "    ndim : 1\n",
      "    dtype : float64\n",
      "    array data : \n",
      " [0. 1. 2. 3. 4. 5. 6. 7. 8. 9.]\n"
     ]
    }
   ],
   "source": [
    "# 기본 값\n",
    "# 0이상 9이하의 범위에서 균등한 10개의 간격을 내부 요소로 가지는 배열 생성\n",
    "arr = np.linspace(0, 9, num=10)\n",
    "\n",
    "np_print(arr)\n",
    "# 내부 요소가 모두 정수여도, 기본 데이터 타입은 float 이다."
   ]
  },
  {
   "cell_type": "code",
   "execution_count": 21,
   "metadata": {},
   "outputs": [
    {
     "name": "stdout",
     "output_type": "stream",
     "text": [
      "\n",
      "    type : <class 'numpy.ndarray'>\n",
      "    shape : (10,)\n",
      "    ndim : 1\n",
      "    dtype : float64\n",
      "    array data : \n",
      " [0.  0.9 1.8 2.7 3.6 4.5 5.4 6.3 7.2 8.1]\n"
     ]
    }
   ],
   "source": [
    "# 기본 값\n",
    "# 0이상 9이하의 범위에서 균등한 10개의 간격을 내부 요소로 가지는 배열 생성\n",
    "# endpoint를 False로 인자 전달 : 마지막 값(9)은 포함하지 않음\n",
    "arr = np.linspace(0, 9, num=10, endpoint=False)\n",
    "\n",
    "np_print(arr)"
   ]
  },
  {
   "cell_type": "code",
   "execution_count": 22,
   "metadata": {},
   "outputs": [
    {
     "name": "stdout",
     "output_type": "stream",
     "text": [
      "(array([0.  , 0.25, 0.5 , 0.75, 1.  ]), 0.25)\n",
      "[0.   0.25 0.5  0.75 1.  ]\n",
      "0.25\n"
     ]
    }
   ],
   "source": [
    "# retstep(리턴스텝이라고 읽음)설정 -> tuple => (배열객체, 간격 값)\n",
    "arr = np.linspace(0, 1, num=5, retstep=True)\n",
    "print(arr) # 생성된 배열 및 간격. 튜플형으로 리턴\n",
    "print(arr[0]) # 생성된 배열(array)\n",
    "print(arr[1]) # 간격(return step)"
   ]
  },
  {
   "cell_type": "markdown",
   "metadata": {},
   "source": [
    "#### 2-2. np.arange(*start*=0, *stop*, *step*=1,  *dtype*=None)\n",
    "\n",
    "- 시작 값(*start*)부터 마지막 값(*stop*) 사이의 범위에서 지정한 간격(*step*)으로 일정 개수(*num*)개의 내부 요소를 가지는 배열을 생성합니다.\n",
    "- 파이썬의 내장함수 range()와 유사합니다.\n",
    "- *start* : 시작 값, 기본 값 = 0    \n",
    "- *stop* : 마지막 값으로 범위에 포함되지 않습니다.    \n",
    "- *step* : 데이터 사이의 간격, 기본값 = 1\n",
    "- *dtype* : 배열의 데이터 타입을 지정하기 위해 사용합니다. 기본 값 = None\n",
    "    - *dtype*은 인자로 명시된 값에 따라 다릅니다.\n",
    "    - 1. 내부 요소가 모두 정수인 경우 : int형 배열로 생성됩니다.\n",
    "    - 2. 내부 요소가 하나라도 실수인 경우 : float형 배열로 생성됩니다.\n",
    "<br><br>\n",
    "\n",
    "##### 주의 사항\n",
    "    - np.linspace()는 기본 값으로(따로 명시하지 않으면) 마지막 값(*stop*)이 포함됩니다.\n",
    "    - np.arange()는 기본 값으로(따로 명시하지 않으면) 마지막 값(*stop*)이 포함되지 않습니다."
   ]
  },
  {
   "cell_type": "code",
   "execution_count": 23,
   "metadata": {},
   "outputs": [
    {
     "data": {
      "text/plain": [
       "[0, 1, 2, 3, 4]"
      ]
     },
     "execution_count": 23,
     "metadata": {},
     "output_type": "execute_result"
    }
   ],
   "source": [
    "# 파이썬의 내장함수 range()의 결과를 보면서, np.arange()를 이해하면 편합니다.\n",
    "list(range(5))\n",
    "# 시작 값(start)을 명시하지 않으면 기본 값으로 0으로 지정됩니다.\n",
    "# 마지막 값(stop)을 5로 명시하였지만, 4까지를 내부 요소로 가지는 리스트가 생성되었습니다.\n",
    "# 즉, 마지막 값(stop)을 포함하지 않았습니다."
   ]
  },
  {
   "cell_type": "code",
   "execution_count": 24,
   "metadata": {},
   "outputs": [
    {
     "name": "stdout",
     "output_type": "stream",
     "text": [
      "\n",
      "    type : <class 'numpy.ndarray'>\n",
      "    shape : (5,)\n",
      "    ndim : 1\n",
      "    dtype : int32\n",
      "    array data : \n",
      " [0 1 2 3 4]\n"
     ]
    }
   ],
   "source": [
    "# 기본 값\n",
    "# np.arange()를 위의 range() 함수와 동일하게 사용해봅시다.\n",
    "# 0이상 5미만의 범위에서 1씩 증가하는 숫자(정수)를 가지는 배열 생성\n",
    "arr = np.arange(5)\n",
    "\n",
    "np_print(arr)\n",
    "# range()와 동일하게, 시작 값(start)을 명시하지 않았더니 기본 값으로 0부터 시작합니다.\n",
    "# 마찬가지로, 마지막 값(stop)을 포함하지 않았습니다.\n",
    "\n",
    "# 배열의 데이터 타입(dtype)은 내부 요소가 모두 정수인 경우 int형 배열로 생성됩니다."
   ]
  },
  {
   "cell_type": "code",
   "execution_count": 25,
   "metadata": {},
   "outputs": [
    {
     "name": "stdout",
     "output_type": "stream",
     "text": [
      "\n",
      "    type : <class 'numpy.ndarray'>\n",
      "    shape : (10,)\n",
      "    ndim : 1\n",
      "    dtype : float64\n",
      "    array data : \n",
      " [0.  0.5 1.  1.5 2.  2.5 3.  3.5 4.  4.5]\n"
     ]
    }
   ],
   "source": [
    "# 시작, 끝, 간격\n",
    "# 0이상 5미만의 범위에서 0.5씩 증가하는 숫자를 가지는 배열을 생성\n",
    "arr = np.arange(0, 5, 0.5)\n",
    "np_print(arr)\n",
    "\n",
    "# 배열의 데이터 타입(dtype)은 내부 요소가 하나라도 실수인 경우 float형 배열로 생성됩니다."
   ]
  },
  {
   "cell_type": "code",
   "execution_count": 26,
   "metadata": {
    "scrolled": true
   },
   "outputs": [
    {
     "name": "stdout",
     "output_type": "stream",
     "text": [
      "\n",
      "    type : <class 'numpy.ndarray'>\n",
      "    shape : (4,)\n",
      "    ndim : 1\n",
      "    dtype : int32\n",
      "    array data : \n",
      " [1 2 3 4]\n",
      "\n",
      "    type : <class 'numpy.ndarray'>\n",
      "    shape : (1, 4)\n",
      "    ndim : 2\n",
      "    dtype : int32\n",
      "    array data : \n",
      " [[1 2 3 4]]\n"
     ]
    }
   ],
   "source": [
    "# np.arange(1, 5) 함수로 생성된 배열과 \n",
    "# np.reshape(1, 4) 함수로 생성된 배열은 동일해 보이지만,\n",
    "# shape와 dimension이 서로 다릅니다.\n",
    "\n",
    "# np.arange()는 1차원 배열을 리턴합니다.\n",
    "# np.reshape()는 명시된 구조를 가지는 배열을 리턴합니다.\n",
    "\n",
    "arr1 = np.arange(1, 5)\n",
    "np_print(arr1) # 1차원 배열 (row, column 개념이 없다.)\n",
    "\n",
    "arr2 = arr1.reshape(1, 4)\n",
    "np_print(arr2) # 2차원 배열(1 x 4) (row, column 개념이 있다.)"
   ]
  },
  {
   "cell_type": "markdown",
   "metadata": {},
   "source": [
    "#### 2-3. np.logspace(*start*, *stop*, *num*=50, *endpoint*=True, *dtype*=None)\n",
    "\n",
    "- 시작 값(*start*)부터 마지막 값(*stop*) 사이의 로그 간격으로 지정된 범위에서 균등한 간격으로 일정 개수(*num*)개의 데이터를 가지는 배열을 생성합니다.\n",
    "    - 10의 제곱 수인 10<sup>*start*</sup>과 10<sup>*stop*</sup> 사이에 있는 *num*개의 내부 요소를 가지는 배열을 생성합니다.\n",
    "\n",
    "- np.linspace()와 규칙이 동일합니다. 다만, 로그 스케일로 처리됩니다.\n",
    "\n",
    "- *num* : 최종 데이터 개수(결과 값의 개수), 기본 값 = 50 ( np.linspace() 와 동일 )\n",
    "\n",
    "- *endpoint* : 마지막 값에 stop을 포함/제외하는 조건을 지정할 때 사용합니다. 기본 값 = True(포함) <br>( np.linspace() 와 동일 )\n",
    "\n",
    "- *dtype* : 배열의 데이터 타입을 지정, 기본 값 = None\n",
    "<br>\n",
    "\n",
    "##### 주의 사항\n",
    "    - np.logspace()는 np.linspace()와는 다르게, restep 인자가 없습니다."
   ]
  },
  {
   "cell_type": "code",
   "execution_count": 27,
   "metadata": {},
   "outputs": [
    {
     "name": "stdout",
     "output_type": "stream",
     "text": [
      "[0.  0.5 1.  1.5 2.  2.5 3.  3.5 4.  4.5]\n",
      "\n",
      "    type : <class 'numpy.ndarray'>\n",
      "    shape : (10,)\n",
      "    ndim : 1\n",
      "    dtype : float64\n",
      "    array data : \n",
      " [ 1.          1.29154967  1.66810054  2.15443469  2.7825594   3.59381366\n",
      "  4.64158883  5.9948425   7.74263683 10.        ]\n"
     ]
    }
   ],
   "source": [
    "# 기본 값\n",
    "print(arr) # 이전에 생성한 배열 arr 출력\n",
    "\n",
    "# 0 이상 1 이하의 범위에서 로그스케일을 적용한 값(50)을 가진 배열\n",
    "# 밑수가 10인 로그를 기준으로 배열이 생성된다.\n",
    "arr = np.logspace(0, 1, num=10)\n",
    "np_print(arr)\n",
    "# 생성된 배열의 첫 번째 값과 끝 값을 보면서 로그 간격(log scale)에 대해 이해 해봅시다.\n",
    "# 현재 전달된 파라미터는 : start=0, stop=1, num=10 입니다.\n",
    "# 10의 0제곱은 1 이고, 10의 1제곱은 10 입니다.\n",
    "# 생성된 배열을 10의 제곱 수 기준으로, \n",
    "# 시작 점과 끝 점을 num개의 수 만큼 균등하게 나눴음을 알 수 있습니다."
   ]
  },
  {
   "cell_type": "code",
   "execution_count": 28,
   "metadata": {
    "scrolled": false
   },
   "outputs": [
    {
     "name": "stdout",
     "output_type": "stream",
     "text": [
      "\n",
      "    type : <class 'numpy.ndarray'>\n",
      "    shape : (40,)\n",
      "    ndim : 1\n",
      "    dtype : float64\n",
      "    array data : \n",
      " [ 1.          1.06081836  1.12533558  1.19377664  1.26638017  1.34339933\n",
      "  1.42510267  1.51177507  1.60371874  1.70125428  1.80472177  1.91448198\n",
      "  2.03091762  2.15443469  2.28546386  2.42446202  2.57191381  2.72833338\n",
      "  2.89426612  3.07029063  3.25702066  3.45510729  3.66524124  3.88815518\n",
      "  4.12462638  4.37547938  4.64158883  4.92388263  5.22334507  5.54102033\n",
      "  5.87801607  6.23550734  6.61474064  7.01703829  7.44380301  7.89652287\n",
      "  8.3767764   8.88623816  9.42668455 10.        ]\n"
     ]
    }
   ],
   "source": [
    "# 시작, 끝, 갯수\n",
    "arr = np.logspace(0, 1, 40)\n",
    "\n",
    "np_print(arr)\n",
    "# 생성된 배열의 요소 중 마지막 값을 보면, 끝 값(stop)을 포함함을 알 수 있습니다.\n",
    "# (10^1 = 10이고 생성된 배열의 내부 요소 마지막 값은 10이다.)"
   ]
  },
  {
   "cell_type": "code",
   "execution_count": 29,
   "metadata": {
    "scrolled": true
   },
   "outputs": [
    {
     "name": "stdout",
     "output_type": "stream",
     "text": [
      "\n",
      "    type : <class 'numpy.ndarray'>\n",
      "    shape : (40,)\n",
      "    ndim : 1\n",
      "    dtype : float64\n",
      "    array data : \n",
      " [1.         1.05925373 1.12201845 1.18850223 1.25892541 1.33352143\n",
      " 1.41253754 1.49623566 1.58489319 1.67880402 1.77827941 1.88364909\n",
      " 1.99526231 2.11348904 2.23872114 2.37137371 2.51188643 2.66072506\n",
      " 2.81838293 2.98538262 3.16227766 3.34965439 3.54813389 3.75837404\n",
      " 3.98107171 4.21696503 4.46683592 4.73151259 5.01187234 5.30884444\n",
      " 5.62341325 5.95662144 6.30957344 6.68343918 7.07945784 7.49894209\n",
      " 7.94328235 8.41395142 8.91250938 9.44060876]\n"
     ]
    }
   ],
   "source": [
    "# endpoint = False 설정 : 끝 값 포함 안함.\n",
    "arr = np.logspace(0, 1, 40, endpoint=False)\n",
    "\n",
    "np_print(arr)\n",
    "# 생성된 배열의 요소 중 마지막 값을 보면, 끝 값(stop)을 포함하지 않음을 알 수 있습니다.\n",
    "# (10^1 = 10 인데, 생성된 배열의 내부 요소 마지막 값은 10이 아니다. 9.4406..)"
   ]
  },
  {
   "cell_type": "markdown",
   "metadata": {},
   "source": [
    "#### 정규분포와 표준편차에 대해서 간단하게 알아봅니다.\n",
    "\n",
    "- 정규분포 : 데이터가 평균 값을 중심으로 좌우 대칭인 형태이며, 대부분의 분포가 평균 값 근처에서 형성되는 종 모양의 분포 모양을 띕니다.\n",
    "    - 정규분포는 일상 생활에서 많이 접해왔습니다.<br>대한민국 성인 남성의 평균 키가 174cm라고 했을 때, 대부분의 성인 남성의 키는 174cm 근방에 위치하게 됩니다.\n",
    "\n",
    "- 표준편차 : 평균 값에서 데이터가 퍼져있는 정도(편차)를 수치로 표현한 것입니다. 표준편차가 클수록 데이터가 평균으로 부터 넓게 퍼져있다는 것을 뜻합니다.\n",
    "    - 대한민국 성인 남성 평균 키가 174cm이고 표준편차가 5cm라고 했을 때, 대부분 성인 남성의 키는 169cm ~ 179cm에 위치해 있다고 말할 수 있겠습니다.\n",
    "\n",
    "<br> 아래의 그림에서, 표준편차가 변할 때 정규분포곡선이 어떻게 변화하는지 봐주시면 됩니다.<br>\n",
    "    <img src='img/7.JPG' width='300' height='450' align='left'>\n",
    "    <img src='img/8.JPG' width='555' height='450' align='left'>\n",
    "<br><br><br><br><br><br><br><br><br><br><br><br><br><br><br><br><br><br><br>\n",
    "    \n",
    "    - 위의 그림에서, 표준편차가 클수록 종 모양이 평평해짐을 알 수 있습니다.\n",
    "    - 종 모양이 평평해졌다는 것은, 데이터의 분포가 평균으로 부터 넓게 퍼져있다는 뜻입니다.\n",
    "    - 평균 키가 174cm, 표준편차가 20이라고 했을 때, 대부분의 성인 남성(68%)의 키는 154cm ~ 194cm라고 할 수 있습니다.\n",
    "    - 평균 키가 174cm, 표준편차가 20이라고 했을 때, 성인 남성 95%의 키는 154cm ~ 194cm라고 할 수 있습니다.\n",
    "    \n",
    "    - 일단은 표준정규분포표에 의해서,\n",
    "   \n",
    "      (평균 - 표준편차) ~ (평균 + 표준편차) : 약 68%의 데이터가 분포\n",
    "      (평균 - 표준편차*2) ~ (평균 + 표준편차*2) : 약 95%의 데이터가 분포\n",
    "      (평균 - 표준편차*2) ~ (평균 + 표준편차*2) : 약 99.7%의 데이터가 분포\n",
    "      \n",
    "      한다고 생각하시면 편하실 것 같습니다.\n",
    "    \n",
    "아래는 IQ의 평균이 100이고, 표준편차가16 일 때, IQ 데이터의 분포를 나타낸 것입니다.<br>\n",
    "<img src='img/9.JPG' width='555' height='450' align='left'> <br><br><br><br><br><br><br><br><br><br><br><br><br><br><br>\n",
    "이미지 출처: [알고리즘 개발자](http://bbs.iqtest.kr/iqtest/111008) <br><br>\n",
    "\n",
    "자세한 내용은 <u>*선형대수와 NumPy*</u> 챕터에서 다루도록 하겠습니다.\n",
    "\n",
    "### 표준정규분포, 균등분포에 대해서 알아봅시다.\n",
    "\n",
    "#### 표준정규분포(Standard normal distribution)\n",
    "- 평균이 0, 표준편차가 1인 정규분포를 표준정규분포라고 합니다.\n",
    "<br><img src='img/10.JPG' width='700' height='450' align='left'> <br><br><br><br><br><br><br><br><br><br><br><br><br><br><br>\n",
    "- -1 ~ 1 범위 : 약 68%의 데이터가 분포\n",
    "- -2 ~ 2 범위 : 약 95%의 데이터가 분포\n",
    "- -3 ~ 3 범위 : 약 99.7%의 데이터가 분포<br><br>\n",
    "\n",
    "#### 균등분포(Uniform distribution)\n",
    "- 모든 확률변수에 대해 균일한 확률을 갖는 분포를 말합니다.\n",
    "    - ex) 주사위를 무수히 많이 던진다고 가정해봅시다.<br>\n",
    "      1~6이 각각의 숫자가 나올 확률은 1/6에 근접할 것입니다.<br>\n",
    "      이러한 분포를 균등분포라고 합니다. 또는, '균일분포'라고도 합니다.<br>\n",
    "    - 주사위가 아닌, 연속적인 수가 나올 확률이 모두 동일하다고 하면, 그 것을 '연속균등분포'라고 합니다. 아래의 그림은 차례대로 '균등분포', '연속균등분포'입니다.<br>\n",
    "    \n",
    "<img src='img/11.JPG' width='440' height='350' align='left'>\n",
    "<img src='img/12.JPG' width='440' height='350' align='left'>\n",
    "   "
   ]
  },
  {
   "cell_type": "markdown",
   "metadata": {},
   "source": [
    "### 3. 배열 내부 요소를 난수로 초기화<br>\n",
    "\n",
    "- np.random.normal(*loc*=0.0, *scale*=1.0, *size*=None) <br>: 정규분포 확률밀도함수에서 무작위 표본을 추출합니다.<br><br>\n",
    "    \n",
    "- np.random.rand(*d0*,*d1*,*...*,*dn*) <br>: 지정한 shape(*d0*, *d1*,*...*, *dn*)에 따라 배열을 생성한 후 내부 요소는 0 이상 1이하의 범위에서 균등 분포의 난수로 초기화합니다.<br><br>\n",
    "    \n",
    "- np.random.randn(*d0*,*d1*,*...*,*dn*) <br>: 지정한 shape(*d0*,*d1*,*...*,*dn*)에 따라 배열을 생성한 후 표준정규분포에서 추출된 난수로 초기화합니다.<br><br>\n",
    "    \n",
    "- np.random.randint(*low*, *high*=None, *size*=None) <br>: 지정한 *low* 이상 *high* 미만의 범위에서 0이상의 정수로 구성된 데이터를 가지고 지정한 size의 배열을 생성합니다.<br>  <br>\n",
    "    \n",
    "- np.random.random(*size*=None) <br>: 지정한 *size*의 배열을 생성하고, 0이상 1이하의 범위에 해당하는 실수 값의 난수로 초기화합니다."
   ]
  },
  {
   "cell_type": "markdown",
   "metadata": {},
   "source": [
    "#### 3-1. np.random.normal(*loc*=0.0, *scale*=1.0, *size*=None)\n",
    "\n",
    "- 정규분포 확률밀도함수에서 무작위 표본을 추출합니다.\n",
    "\n",
    "- *loc* : 정규분포의 평균 값을 인자로 넣습니다., 기본값 = 0.0\n",
    "\n",
    "- *scale* : 정규분포의 표준편차 값을 인자로 넣습니다., 기본값 = 1.0\n",
    "\n",
    "- *size* : (행,열,차원)의 배열 구조, 기본 값 = single value(배열이 아닌 하나의 값을 반환)"
   ]
  },
  {
   "cell_type": "code",
   "execution_count": 30,
   "metadata": {},
   "outputs": [
    {
     "data": {
      "text/plain": [
       "0.36968335265813645"
      ]
     },
     "execution_count": 30,
     "metadata": {},
     "output_type": "execute_result"
    }
   ],
   "source": [
    "# 기본 값 (loc=0.0, scale=1.0, size=single value)\n",
    "\n",
    "# 0을 평균으로하고 표준편차가 1인 정규분포를 따르는 데이터에서, 무작위 표본 추출 \n",
    "v = np.random.normal() \n",
    "\n",
    "v"
   ]
  },
  {
   "cell_type": "code",
   "execution_count": 31,
   "metadata": {},
   "outputs": [
    {
     "name": "stdout",
     "output_type": "stream",
     "text": [
      "\n",
      "    type : <class 'numpy.ndarray'>\n",
      "    shape : (2, 3)\n",
      "    ndim : 2\n",
      "    dtype : float64\n",
      "    array data : \n",
      " [[-0.47939816  0.2799843   1.02512551]\n",
      " [-0.68733387  0.35285981 -1.90041797]]\n"
     ]
    }
   ],
   "source": [
    "# 기본 값 (loc=0.0, scale=1.0, size=single value)\n",
    "# size 설정 : 2행 3열의 구조 설정\n",
    "# 0을 평균으로하고 표준편차가 1인 정규분포를 따르는 데이터에서, \n",
    "# 무작위로 표본을 추출하여, 추출한 데이터로 2x3 구조의 배열 생성\n",
    "arr = np.random.normal(size=(2,3))\n",
    "\n",
    "np_print(arr)"
   ]
  },
  {
   "cell_type": "code",
   "execution_count": 32,
   "metadata": {},
   "outputs": [],
   "source": [
    "# 시각화 기법은 다음에 자세히 다루도록 하겠습니다.\n",
    "# 지금은, np.random.noral()을 이용하여 만든 데이터가\n",
    "# 위에서 확인했던 정규분포의 모양을 띄는지 확인해주시면 됩니다.\n",
    "\n",
    "# 정규분포 데이터로 이루어진 배열에 대한 시각화\n",
    "# 평균 10, 표준편차 2인 표준정규분포에서 추출한 50000개의 데이터\n",
    "\n",
    "data = np.random.normal(10, 2, 50000)\n",
    "# 표본정규분포표에 의해서,\n",
    "# 8 ~ 12 범위 : 68%의 데이터가 있다. \n",
    "# 6 ~ 14 범위 : 95%의 데이터가 있다."
   ]
  },
  {
   "cell_type": "code",
   "execution_count": 33,
   "metadata": {},
   "outputs": [
    {
     "data": {
      "text/plain": [
       "<Figure size 640x480 with 1 Axes>"
      ]
     },
     "metadata": {},
     "output_type": "display_data"
    }
   ],
   "source": [
    "# 100개의 구간으로 구분한 분포\n",
    "import matplotlib.pyplot as plt # 시각화 라이브러리 임포트\n",
    "plt.hist(data, bins=100) # bins : 구간의 갯수, 총 몇개의 구간으로 나눌 것인가.\n",
    "plt.show()\n",
    "# 정규분포 모형을 얼추 따라가는 것을 볼 수 있습니다."
   ]
  },
  {
   "cell_type": "markdown",
   "metadata": {},
   "source": [
    "### 3-2. np.random.rand(*d0*,*d1*,*...*,*dn*)\n",
    "\n",
    " - *d0*,*d1*,*...*,*dn* : 지정한 *d0*, *d1*...에 따라 배열을 생성한 후 0~1사이의 난수로 초기화합니다.\n",
    "   - ex) np.random.rand(2,3,4) : 2 x 3 x 4 구조의 3차원 배열에 내부 요소를 0에서 1까지 범위에서 연속균등분포로 추출한 난수 값을 추출하여 채웁니다.\n",
    "   \n",
    " - 난수 : 0 이상 1이하의 범위에서 연속균등분포로 추출한 난수를 내부 요소로 사용합니다."
   ]
  },
  {
   "cell_type": "code",
   "execution_count": 34,
   "metadata": {
    "scrolled": true
   },
   "outputs": [
    {
     "name": "stdout",
     "output_type": "stream",
     "text": [
      "\n",
      "    type : <class 'numpy.ndarray'>\n",
      "    shape : (2, 3)\n",
      "    ndim : 2\n",
      "    dtype : float64\n",
      "    array data : \n",
      " [[0.98016469 0.31413032 0.62303262]\n",
      " [0.68809384 0.34417074 0.60356245]]\n"
     ]
    }
   ],
   "source": [
    "# 2행 3열의 구조\n",
    "arr = np.random.rand(2, 3)\n",
    "np_print(arr)"
   ]
  },
  {
   "cell_type": "code",
   "execution_count": 35,
   "metadata": {},
   "outputs": [
    {
     "data": {
      "image/png": "[encoded data removed]",
      "text/plain": [
       "<Figure size 432x288 with 1 Axes>"
      ]
     },
     "metadata": {
      "needs_background": "light"
     },
     "output_type": "display_data"
    }
   ],
   "source": [
    "# 균등분포 데이터로 이루어진 배열에 대한 시각화\n",
    "# 10000개의 데이터로 이루어진 배열을 10개 구간으로 구분한 분포\n",
    "data = np.random.rand(100000)\n",
    "plt.hist(data, bins=10)\n",
    "plt.show() # 연속균등분포 모형을 얼추 따라가는 것을 볼 수 있습니다."
   ]
  },
  {
   "cell_type": "markdown",
   "metadata": {},
   "source": [
    "### 3-3. np.random.randn(*d0*,*d1*,*...*,*dn*)\n",
    " \n",
    " - *d0*,*d1*,*...*,*dn* : 지정한 *d0* ~ *d1*에 따라 배열 구조를 생성한 후 배열의 내부 요소를 평균이 0이고 표준편차가 1인 표준정규분포에서 추출한 난수로 초기화합니다.\n",
    "     - ex) np.random.randn(2,3,4) : 2 x 3 x 4 구조의 3차원 배열에 내부 요소를 평균이 0이고 표준편차가 1인 정규분포(표준정규분포)에서 난수 값을 추출하여 채웁니다."
   ]
  },
  {
   "cell_type": "code",
   "execution_count": 36,
   "metadata": {},
   "outputs": [
    {
     "name": "stdout",
     "output_type": "stream",
     "text": [
      "\n",
      "    type : <class 'numpy.ndarray'>\n",
      "    shape : (2, 4)\n",
      "    ndim : 2\n",
      "    dtype : float64\n",
      "    array data : \n",
      " [[ 0.78778346 -0.1998944   1.65918358 -0.06110117]\n",
      " [-0.12668078 -0.29514281  1.13949472  0.75730942]]\n"
     ]
    }
   ],
   "source": [
    "# 2행 4열\n",
    "arr = np.random.randn(2,4)\n",
    "np_print(arr)"
   ]
  },
  {
   "cell_type": "code",
   "execution_count": 37,
   "metadata": {},
   "outputs": [
    {
     "name": "stdout",
     "output_type": "stream",
     "text": [
      "\n",
      "    type : <class 'numpy.ndarray'>\n",
      "    shape : (2, 4)\n",
      "    ndim : 2\n",
      "    dtype : int32\n",
      "    array data : \n",
      " [[3 5 7 7]\n",
      " [6 4 3 9]]\n"
     ]
    }
   ],
   "source": [
    "# 3초과 10미만의 정수로 구성된 2행(세로길이2, row2개), 4열(가로길이 4, column 4개) 배열\n",
    "arr = np.random.randint(3, 10, size=(2,4))  # 3 ~ 9까지\n",
    "np_print(arr)"
   ]
  },
  {
   "cell_type": "code",
   "execution_count": 38,
   "metadata": {},
   "outputs": [
    {
     "data": {
      "image/png": "[encoded data removed]",
      "text/plain": [
       "<Figure size 432x288 with 1 Axes>"
      ]
     },
     "metadata": {
      "needs_background": "light"
     },
     "output_type": "display_data"
    }
   ],
   "source": [
    "# 정규분포 데이터로 이루어진 배열에 대한 시각화\n",
    "\n",
    "# 평균 0, 표준편차 1인 표준정규분포에서 추출한 10000개의 데이터에 대해\n",
    "# 100개의 구간으로 구분한 분포\n",
    "data = np.random.randn(10000)\n",
    "plt.hist(data, bins=100)\n",
    "plt.show() # 표준정규분포 모형을 얼추 따라가는 것을 볼 수 있습니다."
   ]
  },
  {
   "cell_type": "markdown",
   "metadata": {},
   "source": [
    "#### 3-4. np.random.randint(*low*, *high*=None, *size*=None)\n",
    "\n",
    "- *low* 이상 *high* 미만의 범위에서 0 이상의 정수로 구성된 난수 데이터를 내부 요소로 가지는*size*의 배열을 생성합니다.\n",
    "    - ex) np.random.randint(0,4,(2,3)) : 0 초과 4 미만의 정수로 구성된 난수 데이터를 내부 요소로 하는 2 x 3 구조의 배열을 생성합니다.\n",
    "\n",
    "- *low* : *high* 값이 지정되지 않으면 *low* 값이 최대 값(포함하지 않음)으로 설정됩니다.\n",
    "\n",
    "- *high* : 최대 값(포함하지 않음 / 미만), 기본 값 = None\n",
    "\n",
    "- *size* : 배열의 구조를 설정합니다., 기본 값 = None (배열이 아닌 하나의 값으로 반환)"
   ]
  },
  {
   "cell_type": "code",
   "execution_count": 39,
   "metadata": {
    "scrolled": true
   },
   "outputs": [
    {
     "data": {
      "text/plain": [
       "0"
      ]
     },
     "execution_count": 39,
     "metadata": {},
     "output_type": "execute_result"
    }
   ],
   "source": [
    "# 1미만의 정수 중 하나의 값 추출\n",
    "a = np.random.randint(1)  # 0\n",
    "a"
   ]
  },
  {
   "cell_type": "code",
   "execution_count": 40,
   "metadata": {},
   "outputs": [
    {
     "data": {
      "text/plain": [
       "1"
      ]
     },
     "execution_count": 40,
     "metadata": {},
     "output_type": "execute_result"
    }
   ],
   "source": [
    "# 1이상 3미만의 정수 중 하나의 값 추출\n",
    "b = np.random.randint(1, 3)\n",
    "b"
   ]
  },
  {
   "cell_type": "code",
   "execution_count": 41,
   "metadata": {
    "scrolled": false
   },
   "outputs": [
    {
     "name": "stdout",
     "output_type": "stream",
     "text": [
      "\n",
      "    type : <class 'numpy.ndarray'>\n",
      "    shape : (2, 3)\n",
      "    ndim : 2\n",
      "    dtype : int32\n",
      "    array data : \n",
      " [[0 0 1]\n",
      " [1 2 0]]\n"
     ]
    }
   ],
   "source": [
    "# 0 이상 3미만 정수를 가지는 2x3 배열 생성\n",
    "\n",
    "# 0 ~ 2까지 정수 데이터를 내부 요소로 가지는\n",
    "# 2 x 3 배열을 생성합니다.\n",
    "arr = np.random.randint(3, size=(2,3)) \n",
    "# high 값이 명시되지 않았으므로, low 값인 3이 high 값으로 대체됩니다.\n",
    "\n",
    "np_print(arr)"
   ]
  },
  {
   "cell_type": "code",
   "execution_count": 48,
   "metadata": {
    "scrolled": true
   },
   "outputs": [
    {
     "data": {
      "image/png": "[encoded data removed]",
      "text/plain": [
       "<Figure size 432x288 with 1 Axes>"
      ]
     },
     "metadata": {
      "needs_background": "light"
     },
     "output_type": "display_data"
    }
   ],
   "source": [
    "# 균등분포로 이루어진 배열에 대한 시각화\n",
    "\n",
    "# -50 ~ 50의 범위에서 추출한 30000개의 데이터에 대해 10개 구간으로\n",
    "# 히스토그램을 만들어 시각해보겠습니다.\n",
    "data = np.random.randint(-50, 51, size=30000) # size=30000 대신, 30000 적어도 가능.\n",
    "plt.hist(data, bins=5)\n",
    "plt.show() # 균등분포의 형태를 얼추 따라가는 것을 볼 수 있습니다."
   ]
  },
  {
   "cell_type": "markdown",
   "metadata": {},
   "source": [
    "### np.random.seed(*seed*=None)\n",
    "\n",
    "- 프로그래밍에서 추출되는 난수는 무작위로 만들어진 것 처럼 보이지만 실제로는 고정된 기준(seed 값)을 가지고 규칙적으로 생성됩니다.\n",
    "- seed 값을 설정한다면 난수의 시작점을 정해줄 수 있습니다. \n",
    "- *seed* : 0이상의 정수를 인자로 줄 수 있습니다. "
   ]
  },
  {
   "cell_type": "markdown",
   "metadata": {},
   "source": [
    "#### np.random.random(*size*=None)<br>\n",
    "\n",
    "- *size* : 지정한 *size*의 배열을 생성하고, 0이상 1이하의 범위에 해당하는 실수 값의 난수로 초기화합니다."
   ]
  },
  {
   "cell_type": "code",
   "execution_count": 41,
   "metadata": {
    "scrolled": true
   },
   "outputs": [
    {
     "data": {
      "text/plain": [
       "array([[0.54340494, 0.27836939, 0.42451759],\n",
       "       [0.84477613, 0.00471886, 0.12156912],\n",
       "       [0.67074908, 0.82585276, 0.13670659]])"
      ]
     },
     "execution_count": 41,
     "metadata": {},
     "output_type": "execute_result"
    }
   ],
   "source": [
    "# seed 값 설정하기\n",
    "# seed 값 : 100\n",
    "np.random.seed(100)\n",
    "\n",
    "# 0이상 1이하의 범위(고정범위)에서 실수 값의 난수를 내부 요소로 가지는\n",
    "# 3행 3열의 배열생성\n",
    "np.random.random((3,3))"
   ]
  },
  {
   "cell_type": "code",
   "execution_count": 42,
   "metadata": {},
   "outputs": [
    {
     "data": {
      "text/plain": [
       "array([[0.54340494, 0.27836939, 0.42451759],\n",
       "       [0.84477613, 0.00471886, 0.12156912],\n",
       "       [0.67074908, 0.82585276, 0.13670659]])"
      ]
     },
     "execution_count": 42,
     "metadata": {},
     "output_type": "execute_result"
    }
   ],
   "source": [
    "# seed 값 설정하기\n",
    "# seed 값 : 100\n",
    "np.random.seed(100)\n",
    "\n",
    "# 0이상 1이하의 범위(고정범위)에서 실수 값의 난수를 내부 요소로 가지는\n",
    "# 3행 3열의 배열생성\n",
    "np.random.random((3,3))\n",
    "\n",
    "# 직전에 실행한 셀과 결과가 같습니다."
   ]
  },
  {
   "cell_type": "code",
   "execution_count": 43,
   "metadata": {},
   "outputs": [],
   "source": [
    "# 시작점(seed) 초기화\n",
    "# np.random.seed() 안쪽의 정수를 기입하지 않고 실행하면 seed 값이 초기화됩니다.\n",
    "np.random.seed()"
   ]
  },
  {
   "cell_type": "code",
   "execution_count": 44,
   "metadata": {},
   "outputs": [
    {
     "data": {
      "text/plain": [
       "array([[0.7763967 , 0.03347864, 0.04145618],\n",
       "       [0.58657827, 0.29445095, 0.11231435],\n",
       "       [0.96684539, 0.69639203, 0.22926635]])"
      ]
     },
     "execution_count": 44,
     "metadata": {},
     "output_type": "execute_result"
    }
   ],
   "source": [
    "np.random.random((3, 3)) # seed 값이 초기화 됨을 알 수 있습니다."
   ]
  }
 ],
 "metadata": {
  "kernelspec": {
   "display_name": "Python 3",
   "language": "python",
   "name": "python3"
  },
  "language_info": {
   "codemirror_mode": {
    "name": "ipython",
    "version": 3
   },
   "file_extension": ".py",
   "mimetype": "text/x-python",
   "name": "python",
   "nbconvert_exporter": "python",
   "pygments_lexer": "ipython3",
   "version": "3.7.4"
  }
 },
 "nbformat": 4,
 "nbformat_minor": 2
}
